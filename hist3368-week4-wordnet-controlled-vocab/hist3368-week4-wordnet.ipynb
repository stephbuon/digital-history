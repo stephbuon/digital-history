{
 "cells": [
  {
   "cell_type": "markdown",
   "metadata": {},
   "source": [
    "For citation information, please see the \"Source Information\" section listed in the associated README file: https://github.com/stephbuon/digital-history/tree/master/hist3368-week4-wordnet-controlled-vocab/"
   ]
  },
  {
   "cell_type": "markdown",
   "metadata": {},
   "source": [
    "# Week 4: Mini Wordnet Tutorial"
   ]
  },
  {
   "cell_type": "markdown",
   "metadata": {},
   "source": [
    "# Expanded Controlled Vocabulary with Wordnet"
   ]
  },
  {
   "cell_type": "markdown",
   "metadata": {},
   "source": [
    "The 'get_synsets' command in Wordnet unlocks the thesaurus/dictionary in its full potential.  We won't go into the full power of the \"synsets,\" but suffice it to say that Wordnet knows that a \"house\" when used as a noun can mean a \"firm,\" a \"sign of the zodiac,\" a \"family,\" or a \"theater.\""
   ]
  },
  {
   "cell_type": "code",
   "execution_count": 2,
   "metadata": {},
   "outputs": [
    {
     "name": "stdout",
     "output_type": "stream",
     "text": [
      "[Synset('house.n.01'), Synset('firm.n.01'), Synset('house.n.03'), Synset('house.n.04'), Synset('house.n.05'), Synset('house.n.06'), Synset('house.n.07'), Synset('sign_of_the_zodiac.n.01'), Synset('house.n.09'), Synset('family.n.01'), Synset('theater.n.01'), Synset('house.n.12')]\n"
     ]
    }
   ],
   "source": [
    "from textblob import Word\n",
    "from nltk.corpus import wordnet as wn\n",
    "\n",
    "from textblob.wordnet import NOUN\n",
    "\n",
    "w1 = Word(\"house\")\n",
    "w1.synsets\n",
    "syns = w1.get_synsets(pos=NOUN)\n",
    "print(syns)\n"
   ]
  },
  {
   "cell_type": "markdown",
   "metadata": {},
   "source": [
    "Likewise, wordnet knows that the word \"building\" can refer to different kinds of construction (as a noun), but it can also be a verb form used with many different senses."
   ]
  },
  {
   "cell_type": "code",
   "execution_count": 3,
   "metadata": {
    "scrolled": true
   },
   "outputs": [
    {
     "data": {
      "text/plain": [
       "[Synset('building.n.01'),\n",
       " Synset('construction.n.01'),\n",
       " Synset('construction.n.07'),\n",
       " Synset('building.n.04'),\n",
       " Synset('construct.v.01'),\n",
       " Synset('build_up.v.02'),\n",
       " Synset('build.v.03'),\n",
       " Synset('build.v.04'),\n",
       " Synset('build.v.05'),\n",
       " Synset('build.v.06'),\n",
       " Synset('build.v.07'),\n",
       " Synset('build.v.08'),\n",
       " Synset('build_up.v.04'),\n",
       " Synset('build.v.10')]"
      ]
     },
     "execution_count": 3,
     "metadata": {},
     "output_type": "execute_result"
    }
   ],
   "source": [
    "wn.synsets('building')"
   ]
  },
  {
   "cell_type": "markdown",
   "metadata": {},
   "source": [
    "A *hyponym* is a word that is a more specific version of another word.  So if we want to know the many different types of houses in the dictionary, we can use wordnet's .hyponyms() command to navigate these lists, and we can generate another controlled vocabulary from them."
   ]
  },
  {
   "cell_type": "code",
   "execution_count": 4,
   "metadata": {
    "scrolled": true
   },
   "outputs": [
    {
     "data": {
      "text/plain": [
       "[Synset('beach_house.n.01'),\n",
       " Synset('boarding_house.n.01'),\n",
       " Synset('bungalow.n.01'),\n",
       " Synset('cabin.n.02'),\n",
       " Synset('chalet.n.01'),\n",
       " Synset('chapterhouse.n.02'),\n",
       " Synset('country_house.n.01'),\n",
       " Synset('detached_house.n.01'),\n",
       " Synset('dollhouse.n.01'),\n",
       " Synset('duplex_house.n.01'),\n",
       " Synset('farmhouse.n.01'),\n",
       " Synset('gatehouse.n.01'),\n",
       " Synset('guesthouse.n.01'),\n",
       " Synset('hacienda.n.02'),\n",
       " Synset('lodge.n.04'),\n",
       " Synset('lodging_house.n.01'),\n",
       " Synset('maisonette.n.02'),\n",
       " Synset('mansion.n.02'),\n",
       " Synset('ranch_house.n.01'),\n",
       " Synset('residence.n.02'),\n",
       " Synset('row_house.n.01'),\n",
       " Synset('safe_house.n.01'),\n",
       " Synset('saltbox.n.01'),\n",
       " Synset('sod_house.n.01'),\n",
       " Synset('solar_house.n.01'),\n",
       " Synset('tract_house.n.01'),\n",
       " Synset('villa.n.02')]"
      ]
     },
     "execution_count": 4,
     "metadata": {},
     "output_type": "execute_result"
    }
   ],
   "source": [
    "synlist = wn.synset('house.n.01').hyponyms()\n",
    "synlist"
   ]
  },
  {
   "cell_type": "markdown",
   "metadata": {},
   "source": [
    "Wordnet's 'lemmas()' function gives us access to the base lemma associated with any of these categories.  Let's use the 'append' function and the 'lemmas' function to create a vocabulary list stripped of the Wordnet apparatus.  "
   ]
  },
  {
   "cell_type": "code",
   "execution_count": 5,
   "metadata": {},
   "outputs": [
    {
     "name": "stdout",
     "output_type": "stream",
     "text": [
      "['beach_house', 'boarding_house', 'boardinghouse', 'bungalow', 'cottage', 'cabin', 'chalet', 'chapterhouse', 'fraternity_house', 'frat_house', 'country_house', 'detached_house', 'single_dwelling', 'dollhouse', \"doll's_house\", 'duplex_house', 'duplex', 'semidetached_house', 'farmhouse', 'gatehouse', 'guesthouse', 'hacienda', 'lodge', 'hunting_lodge', 'lodging_house', 'rooming_house', 'maisonette', 'maisonnette', 'mansion', 'mansion_house', 'manse', 'hall', 'residence', 'ranch_house', 'residence', 'row_house', 'town_house', 'safe_house', 'saltbox', 'sod_house', 'soddy', 'adobe_house', 'solar_house', 'tract_house', 'villa']\n"
     ]
    }
   ],
   "source": [
    "new_vocab = []\n",
    "\n",
    "for syn in synlist:\n",
    "    for lemma in syn.lemmas():\n",
    "        new_vocab.append(str(lemma.name()))\n",
    "        \n",
    "print(new_vocab)"
   ]
  },
  {
   "cell_type": "markdown",
   "metadata": {},
   "source": [
    "Bear in mind: we don't have to stop here.  We can keep drilling down within each of these catergories to get an even finer-grain list."
   ]
  },
  {
   "cell_type": "code",
   "execution_count": 6,
   "metadata": {
    "scrolled": true
   },
   "outputs": [
    {
     "name": "stdout",
     "output_type": "stream",
     "text": [
      "[Lemma('beach_house.n.01.beach_house')]\n",
      "[Lemma('boarding_house.n.01.boarding_house'), Lemma('boarding_house.n.01.boardinghouse')]\n",
      "[Lemma('bungalow.n.01.bungalow'), Lemma('bungalow.n.01.cottage')]\n",
      "[Lemma('cabin.n.02.cabin')]\n",
      "[Lemma('chalet.n.01.chalet')]\n",
      "[Lemma('chapterhouse.n.02.chapterhouse'), Lemma('chapterhouse.n.02.fraternity_house'), Lemma('chapterhouse.n.02.frat_house')]\n",
      "[Lemma('country_house.n.01.country_house')]\n",
      "[Lemma('detached_house.n.01.detached_house'), Lemma('detached_house.n.01.single_dwelling')]\n",
      "[Lemma('dollhouse.n.01.dollhouse'), Lemma('dollhouse.n.01.doll's_house')]\n",
      "[Lemma('duplex_house.n.01.duplex_house'), Lemma('duplex_house.n.01.duplex'), Lemma('duplex_house.n.01.semidetached_house')]\n",
      "[Lemma('farmhouse.n.01.farmhouse')]\n",
      "[Lemma('gatehouse.n.01.gatehouse')]\n",
      "[Lemma('guesthouse.n.01.guesthouse')]\n",
      "[Lemma('hacienda.n.02.hacienda')]\n",
      "[Lemma('lodge.n.04.lodge'), Lemma('lodge.n.04.hunting_lodge')]\n",
      "[Lemma('lodging_house.n.01.lodging_house'), Lemma('lodging_house.n.01.rooming_house')]\n",
      "[Lemma('maisonette.n.02.maisonette'), Lemma('maisonette.n.02.maisonnette')]\n",
      "[Lemma('mansion.n.02.mansion'), Lemma('mansion.n.02.mansion_house'), Lemma('mansion.n.02.manse'), Lemma('mansion.n.02.hall'), Lemma('mansion.n.02.residence')]\n",
      "[Lemma('ranch_house.n.01.ranch_house')]\n",
      "[Lemma('residence.n.02.residence')]\n",
      "[Lemma('row_house.n.01.row_house'), Lemma('row_house.n.01.town_house')]\n",
      "[Lemma('safe_house.n.01.safe_house')]\n",
      "[Lemma('saltbox.n.01.saltbox')]\n",
      "[Lemma('sod_house.n.01.sod_house'), Lemma('sod_house.n.01.soddy'), Lemma('sod_house.n.01.adobe_house')]\n",
      "[Lemma('solar_house.n.01.solar_house')]\n",
      "[Lemma('tract_house.n.01.tract_house')]\n",
      "[Lemma('villa.n.02.villa')]\n"
     ]
    }
   ],
   "source": [
    "for syn in synlist:\n",
    "    print(syn.lemmas())"
   ]
  },
  {
   "cell_type": "code",
   "execution_count": 7,
   "metadata": {},
   "outputs": [
    {
     "name": "stdout",
     "output_type": "stream",
     "text": [
      "[Synset('bed_and_breakfast.n.01'), Synset('log_cabin.n.01'), Synset('chateau.n.01'), Synset('dacha.n.01'), Synset('shooting_lodge.n.01'), Synset('summer_house.n.01'), Synset('villa.n.03'), Synset('villa.n.04'), Synset('lodge.n.03'), Synset('flophouse.n.01'), Synset('manor.n.01'), Synset('palace.n.01'), Synset('stately_home.n.01'), Synset('court.n.09'), Synset('deanery.n.01'), Synset('manse.n.02'), Synset('palace.n.04'), Synset('parsonage.n.01'), Synset('religious_residence.n.01'), Synset('brownstone.n.02'), Synset('terraced_house.n.01')]\n"
     ]
    }
   ],
   "source": [
    "finer_syns = []\n",
    "\n",
    "for syn in synlist:\n",
    "    hypo = syn.hyponyms()\n",
    "    for h in hypo:\n",
    "        finer_syns.append(h)\n",
    " #   print(syn.hyponyms())\n",
    "  \n",
    "print(finer_syns)"
   ]
  },
  {
   "cell_type": "code",
   "execution_count": 8,
   "metadata": {},
   "outputs": [
    {
     "data": {
      "text/plain": [
       "['bed_and_breakfast',\n",
       " 'bed-and-breakfast',\n",
       " 'log_cabin',\n",
       " 'chateau',\n",
       " 'dacha',\n",
       " 'shooting_lodge',\n",
       " 'shooting_box',\n",
       " 'summer_house',\n",
       " 'villa',\n",
       " 'villa',\n",
       " 'lodge',\n",
       " 'flophouse',\n",
       " 'dosshouse',\n",
       " 'manor',\n",
       " 'manor_house',\n",
       " 'palace',\n",
       " 'castle',\n",
       " 'stately_home',\n",
       " 'court',\n",
       " 'deanery',\n",
       " 'manse',\n",
       " 'palace',\n",
       " 'parsonage',\n",
       " 'vicarage',\n",
       " 'rectory',\n",
       " 'religious_residence',\n",
       " 'cloister',\n",
       " 'brownstone',\n",
       " 'terraced_house']"
      ]
     },
     "execution_count": 8,
     "metadata": {},
     "output_type": "execute_result"
    }
   ],
   "source": [
    "new_vocab_finer = []\n",
    "\n",
    "for syn in finer_syns:\n",
    "    for subsyn in syn.lemmas():\n",
    "        w = subsyn.name()\n",
    "        new_vocab_finer.append(str(w))\n",
    "            \n",
    "\n",
    "\n",
    "new_vocab_finer"
   ]
  },
  {
   "cell_type": "code",
   "execution_count": 10,
   "metadata": {},
   "outputs": [
    {
     "data": {
      "text/plain": [
       "['bed and breakfast',\n",
       " 'bed and breakfast',\n",
       " 'log cabin',\n",
       " 'chateau',\n",
       " 'dacha',\n",
       " 'shooting lodge',\n",
       " 'shooting box',\n",
       " 'summer house',\n",
       " 'villa',\n",
       " 'villa',\n",
       " 'lodge',\n",
       " 'flophouse',\n",
       " 'dosshouse',\n",
       " 'manor',\n",
       " 'manor house',\n",
       " 'palace',\n",
       " 'castle',\n",
       " 'stately home',\n",
       " 'court',\n",
       " 'deanery',\n",
       " 'manse',\n",
       " 'palace',\n",
       " 'parsonage',\n",
       " 'vicarage',\n",
       " 'rectory',\n",
       " 'religious residence',\n",
       " 'cloister',\n",
       " 'brownstone',\n",
       " 'terraced house']"
      ]
     },
     "execution_count": 10,
     "metadata": {},
     "output_type": "execute_result"
    }
   ],
   "source": [
    "clean_new_vocab_finer = []\n",
    "\n",
    "for vocab in new_vocab_finer:\n",
    "    v = vocab.replace('-', ' ')\n",
    "    v = v.replace('_', ' ') \n",
    "    clean_new_vocab_finer.append(str(v))\n",
    "    \n",
    "clean_new_vocab_finer"
   ]
  },
  {
   "cell_type": "markdown",
   "metadata": {},
   "source": [
    "# Exercise"
   ]
  },
  {
   "cell_type": "markdown",
   "metadata": {},
   "source": [
    "Read the WordNet documentation.  Figure out how to find synonyms instead of hyponyms.  Find all the synonyms for 'happy' in Jane Austen."
   ]
  }
 ],
 "metadata": {
  "kernelspec": {
   "display_name": "Python 3",
   "language": "python",
   "name": "python3"
  },
  "language_info": {
   "codemirror_mode": {
    "name": "ipython",
    "version": 3
   },
   "file_extension": ".py",
   "mimetype": "text/x-python",
   "name": "python",
   "nbconvert_exporter": "python",
   "pygments_lexer": "ipython3",
   "version": "3.6.7"
  }
 },
 "nbformat": 4,
 "nbformat_minor": 4
}
