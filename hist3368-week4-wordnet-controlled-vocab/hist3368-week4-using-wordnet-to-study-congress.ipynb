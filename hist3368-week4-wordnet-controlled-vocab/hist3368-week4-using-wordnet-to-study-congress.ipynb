{
 "cells": [
  {
   "cell_type": "markdown",
   "metadata": {},
   "source": [
    "# Hist 3368 Week 4 - Using Wordnet to Study Congress"
   ]
  },
  {
   "cell_type": "markdown",
   "metadata": {},
   "source": [
    "The notebook below generates some visualizations of a controlled vocabulary of crime, applying the findings from Wordnet to Jane Austen and Congress."
   ]
  },
  {
   "cell_type": "code",
   "execution_count": 3,
   "metadata": {},
   "outputs": [],
   "source": [
    "import nltk, numpy, re, matplotlib\n",
    "import pandas as pd\n",
    "import re\n",
    "from textblob import TextBlob\n",
    "from nltk.corpus import wordnet as wn\n",
    "from nltk.corpus import stopwords\n",
    "stopwords = stopwords.words('english')\n",
    "import matplotlib.pyplot as plt"
   ]
  },
  {
   "cell_type": "markdown",
   "metadata": {},
   "source": [
    "### Load the Controlled vocabulary on crime that we generated earlier this week."
   ]
  },
  {
   "cell_type": "code",
   "execution_count": 4,
   "metadata": {},
   "outputs": [
    {
     "name": "stdout",
     "output_type": "stream",
     "text": [
      "/users/jguldi/digital-history\n"
     ]
    }
   ],
   "source": [
    "cd ~/digital-history"
   ]
  },
  {
   "cell_type": "markdown",
   "metadata": {},
   "source": [
    "You should have a file called \"crime_vocab.csv\" that we created in an earlier notebook using Wordnet.  Load it now."
   ]
  },
  {
   "cell_type": "code",
   "execution_count": 5,
   "metadata": {},
   "outputs": [],
   "source": [
    "vocab = pd.read_csv(\"crime_vocab.csv\").drop(['Unnamed: 0'], 1)\n",
    "vocab = list(vocab['word'])"
   ]
  },
  {
   "cell_type": "markdown",
   "metadata": {},
   "source": [
    "This may take a minute."
   ]
  },
  {
   "cell_type": "markdown",
   "metadata": {},
   "source": [
    "### Load Austen Data"
   ]
  },
  {
   "cell_type": "code",
   "execution_count": 23,
   "metadata": {},
   "outputs": [
    {
     "name": "stdout",
     "output_type": "stream",
     "text": [
      "/scratch/group/history/hist_3368-jguldi\n"
     ]
    }
   ],
   "source": [
    "cd /scratch/group/history/hist_3368-jguldi"
   ]
  },
  {
   "cell_type": "code",
   "execution_count": 24,
   "metadata": {},
   "outputs": [],
   "source": [
    "with open('senseandsensibility.txt', 'r') as myfile:\n",
    "    sas_data = myfile.read().split('\\n\\n\"I suppose you know, ma\\'am, that Mr. Ferrars is married\"\\n\\nIt _was_ Edward\\n\\n\"Everything in such respectable condition\"\\n\\n ')[1].split('THE END')[0].strip()\n",
    "with open('emma.txt', 'r') as myfile:\n",
    "    emma_data = myfile.read().split('CHAPTER I')[1].split('FINIS')[0].strip()\n",
    "with open('prideandprejudice.txt', 'r') as myfile:\n",
    "    pap_data = myfile.read().split('CHAPTER I')[1].split('End of the Project Gutenberg EBook of Pride and Prejudice, by Jane Austen')[0].strip()\n",
    "data = [sas_data, emma_data, pap_data]\n",
    "\n",
    "# clean up\n",
    "austenwords = []\n",
    "for novel in data:\n",
    "    novel = re.sub('[\\\",.;:?([)\\]_*]', '', novel) # strip punctuation\n",
    "    novel = re.sub('-', ' ', novel) # replace hyphens with spaces\n",
    "    novelwords = novel.replace('\\n', ' ').lower().split() # remove whitespace, lowercase, split into words\n",
    "    austenwords += novelwords"
   ]
  },
  {
   "cell_type": "markdown",
   "metadata": {},
   "source": [
    "### Find Vocab Matches in Jane Austen"
   ]
  },
  {
   "cell_type": "code",
   "execution_count": 25,
   "metadata": {},
   "outputs": [
    {
     "data": {
      "text/plain": [
       "off        62\n",
       "attempt    39\n",
       "remove     31\n",
       "wrong      24\n",
       "liberty    19\n",
       "dtype: int64"
      ]
     },
     "execution_count": 25,
     "metadata": {},
     "output_type": "execute_result"
    }
   ],
   "source": [
    "# search for matched words\n",
    "matchedwords = []\n",
    "for w in austenwords:\n",
    "    w = wn.morphy(w) # lemmatize it\n",
    "    if w in vocab:\n",
    "        matchedwords.append(w)\n",
    "matchedwords\n",
    "pd.Series.value_counts(matchedwords)[:5]"
   ]
  },
  {
   "cell_type": "code",
   "execution_count": 26,
   "metadata": {},
   "outputs": [
    {
     "data": {
      "text/plain": [
       "['criminal offense',\n",
       " 'criminal offence',\n",
       " 'law breaking',\n",
       " 'aggravated assault',\n",
       " 'assault and battery']"
      ]
     },
     "execution_count": 26,
     "metadata": {},
     "output_type": "execute_result"
    }
   ],
   "source": [
    "# collect the bigrams in the controlled vocabulary\n",
    "cleanwordnetbigrams = []\n",
    "for v in vocab:\n",
    "    if \" \" in v:\n",
    "        cleanwordnetbigrams.append(v)\n",
    "cleanwordnetbigrams[:5]"
   ]
  },
  {
   "cell_type": "code",
   "execution_count": 27,
   "metadata": {},
   "outputs": [
    {
     "data": {
      "text/plain": [
       "break in    2\n",
       "take in     2\n",
       "dtype: int64"
      ]
     },
     "execution_count": 27,
     "metadata": {},
     "output_type": "execute_result"
    }
   ],
   "source": [
    "# search for matched bigrams\n",
    "matchedbigrams = []\n",
    "from textblob import TextBlob\n",
    "for novel in data:\n",
    "    novel = re.sub('[\\\",.;:?([)\\]_*]', '', novel) # strip punctuation\n",
    "    novel = re.sub('-', ' ', novel) # replace hyphens with spaces\n",
    "    novelwords = novel.replace('\\n', ' ').lower() # remove whitespace, lowercase, split into words\n",
    "    bigrams = TextBlob(novelwords).ngrams(n=2)\n",
    "    for bigram in bigrams: # move through each line of the *bigrams* list\n",
    "        if wn.morphy(bigram[0]) is not None and wn.morphy(bigram[1]) is not None:\n",
    "            bigram2 = wn.morphy(bigram[0]) + ' ' + wn.morphy(bigram[1]) # call the first word, a space, and the second word into a new string\n",
    "            if bigram2 in cleanwordnetbigrams:\n",
    "                matchedbigrams.append(bigram2) # save the string \n",
    "pd.Series.value_counts(matchedbigrams)[:5]"
   ]
  },
  {
   "cell_type": "code",
   "execution_count": 28,
   "metadata": {},
   "outputs": [
    {
     "data": {
      "text/plain": [
       "evil       17\n",
       "offence    14\n",
       "torture     6\n",
       "attack      6\n",
       "injury      5\n",
       "dtype: int64"
      ]
     },
     "execution_count": 28,
     "metadata": {},
     "output_type": "execute_result"
    }
   ],
   "source": [
    "# put it all together \n",
    "allcontrolledvocab = matchedwords + matchedbigrams  \n",
    "\n",
    "# stopword out ambiguous words\n",
    "ambiguouswords = ['break in', 'off','setup,' 'foul', 'wrong', 'liberty', 'attempt', 'liquidation', 'petty', 'battery', 'gaming', 'intrusion','raid', 'cheat', 'trick','deception','skimming', 'distort','bluff', 'distortion', 'misrepresentation','execute','gore', 'job', 'technical', 'damage', 'elimination', 'take in', 'burke', 'remove', 'fall', 'familiarity', 'pretence', 'maintenance', 'spoil', 'commission', 'protection', 'execution', 'tribute', 'hit', 'dispatch', 'play', 'rolling']\n",
    "finallist = []\n",
    "for v in allcontrolledvocab:\n",
    "    if v not in ambiguouswords:\n",
    "        finallist.append(v)\n",
    "finalcount = pd.Series.value_counts(finallist)\n",
    "finalcount[:5]"
   ]
  },
  {
   "cell_type": "code",
   "execution_count": 29,
   "metadata": {},
   "outputs": [
    {
     "data": {
      "image/png": "[encoded data removed]",
      "text/plain": [
       "<Figure size 720x720 with 1 Axes>"
      ]
     },
     "metadata": {
      "needs_background": "light"
     },
     "output_type": "display_data"
    }
   ],
   "source": [
    "#######\n",
    "# a well-labeled barplot\n",
    "plt.figure(figsize = (10, 10)) # make it medium and square\n",
    "plt.barh(finalcount.index, finalcount) # tell the barplot what to put on the x and y axes. This time we're using 'barh' for a horizontal bar plot.\n",
    "plt.xticks(rotation=90) # this tells Python to 'rotate' the labels on the x axis so that the words fit on the screen\n",
    "plt.ylabel('Word') # label\n",
    "plt.xlabel('Count') # label\n",
    "plt.suptitle('Words for Wrongdoing in Jane Austen') #This line labels the title\n",
    "plt.gca().invert_yaxis() # reverse the order of the y axis\n",
    "plt.savefig('austen-wrongdoing.png', dpi = 300) # save the figure in your folder\n",
    "plt.show() # display the figure below"
   ]
  },
  {
   "cell_type": "markdown",
   "metadata": {},
   "source": [
    "### Load Congress Data"
   ]
  },
  {
   "cell_type": "code",
   "execution_count": 6,
   "metadata": {},
   "outputs": [],
   "source": [
    "congress = pd.read_csv(\"congress-just-1967-2010.csv\")"
   ]
  },
  {
   "cell_type": "code",
   "execution_count": 7,
   "metadata": {},
   "outputs": [],
   "source": [
    "congress1 = congress[congress['year'] == 1967]\n",
    "congress2 = congress[congress['year'] == 2010]"
   ]
  },
  {
   "cell_type": "code",
   "execution_count": 8,
   "metadata": {},
   "outputs": [
    {
     "data": {
      "text/html": [
       "<div>\n",
       "<style scoped>\n",
       "    .dataframe tbody tr th:only-of-type {\n",
       "        vertical-align: middle;\n",
       "    }\n",
       "\n",
       "    .dataframe tbody tr th {\n",
       "        vertical-align: top;\n",
       "    }\n",
       "\n",
       "    .dataframe thead th {\n",
       "        text-align: right;\n",
       "    }\n",
       "</style>\n",
       "<table border=\"1\" class=\"dataframe\">\n",
       "  <thead>\n",
       "    <tr style=\"text-align: right;\">\n",
       "      <th></th>\n",
       "      <th>Unnamed: 0</th>\n",
       "      <th>Unnamed: 0.1</th>\n",
       "      <th>speech</th>\n",
       "      <th>date</th>\n",
       "      <th>speaker</th>\n",
       "      <th>word_count</th>\n",
       "      <th>year</th>\n",
       "      <th>month</th>\n",
       "      <th>month_year</th>\n",
       "    </tr>\n",
       "  </thead>\n",
       "  <tbody>\n",
       "    <tr>\n",
       "      <th>185175</th>\n",
       "      <td>5926838</td>\n",
       "      <td>5926838</td>\n",
       "      <td>The clerk will please read a communication to ...</td>\n",
       "      <td>2010-01-05</td>\n",
       "      <td>The PRESIDING OFFICER</td>\n",
       "      <td>27</td>\n",
       "      <td>2010</td>\n",
       "      <td>1</td>\n",
       "      <td>2010-01-01</td>\n",
       "    </tr>\n",
       "    <tr>\n",
       "      <th>185176</th>\n",
       "      <td>5926839</td>\n",
       "      <td>5926839</td>\n",
       "      <td>Under the previous order. the Senate stands ad...</td>\n",
       "      <td>2010-01-05</td>\n",
       "      <td>The ACTING PRESIDENT pro tempore</td>\n",
       "      <td>83</td>\n",
       "      <td>2010</td>\n",
       "      <td>1</td>\n",
       "      <td>2010-01-01</td>\n",
       "    </tr>\n",
       "    <tr>\n",
       "      <th>185177</th>\n",
       "      <td>5926840</td>\n",
       "      <td>5926840</td>\n",
       "      <td>The Chair will lead the House in the Pledge of...</td>\n",
       "      <td>2010-01-05</td>\n",
       "      <td>The SPEAKER pro tempore</td>\n",
       "      <td>11</td>\n",
       "      <td>2010</td>\n",
       "      <td>1</td>\n",
       "      <td>2010-01-01</td>\n",
       "    </tr>\n",
       "    <tr>\n",
       "      <th>185178</th>\n",
       "      <td>5926841</td>\n",
       "      <td>5926841</td>\n",
       "      <td>Pursuant to clause 4 of rule I. the following ...</td>\n",
       "      <td>2010-01-05</td>\n",
       "      <td>The SPEAKER pro tempore</td>\n",
       "      <td>40</td>\n",
       "      <td>2010</td>\n",
       "      <td>1</td>\n",
       "      <td>2010-01-01</td>\n",
       "    </tr>\n",
       "    <tr>\n",
       "      <th>185179</th>\n",
       "      <td>5926842</td>\n",
       "      <td>5926842</td>\n",
       "      <td>Pursuant to clause 5(d) of rule XX. the Chair ...</td>\n",
       "      <td>2010-01-05</td>\n",
       "      <td>The SPEAKER pro tempore</td>\n",
       "      <td>21</td>\n",
       "      <td>2010</td>\n",
       "      <td>1</td>\n",
       "      <td>2010-01-01</td>\n",
       "    </tr>\n",
       "  </tbody>\n",
       "</table>\n",
       "</div>"
      ],
      "text/plain": [
       "        Unnamed: 0  Unnamed: 0.1  \\\n",
       "185175     5926838       5926838   \n",
       "185176     5926839       5926839   \n",
       "185177     5926840       5926840   \n",
       "185178     5926841       5926841   \n",
       "185179     5926842       5926842   \n",
       "\n",
       "                                                   speech        date  \\\n",
       "185175  The clerk will please read a communication to ...  2010-01-05   \n",
       "185176  Under the previous order. the Senate stands ad...  2010-01-05   \n",
       "185177  The Chair will lead the House in the Pledge of...  2010-01-05   \n",
       "185178  Pursuant to clause 4 of rule I. the following ...  2010-01-05   \n",
       "185179  Pursuant to clause 5(d) of rule XX. the Chair ...  2010-01-05   \n",
       "\n",
       "                                 speaker  word_count  year  month  month_year  \n",
       "185175             The PRESIDING OFFICER          27  2010      1  2010-01-01  \n",
       "185176  The ACTING PRESIDENT pro tempore          83  2010      1  2010-01-01  \n",
       "185177           The SPEAKER pro tempore          11  2010      1  2010-01-01  \n",
       "185178           The SPEAKER pro tempore          40  2010      1  2010-01-01  \n",
       "185179           The SPEAKER pro tempore          21  2010      1  2010-01-01  "
      ]
     },
     "execution_count": 8,
     "metadata": {},
     "output_type": "execute_result"
    }
   ],
   "source": [
    "congress2.head()"
   ]
  },
  {
   "cell_type": "markdown",
   "metadata": {},
   "source": [
    "### Clean the Data"
   ]
  },
  {
   "cell_type": "code",
   "execution_count": 9,
   "metadata": {},
   "outputs": [
    {
     "data": {
      "text/plain": [
       "'those who do not enjoy the privilege of the floor will please retire from the chamber mr president on the basis of an agreement reached on both sides '"
      ]
     },
     "execution_count": 9,
     "metadata": {},
     "output_type": "execute_result"
    }
   ],
   "source": [
    "# clean up speeches from 1967\n",
    "congressspeeches1 = []\n",
    "for speech in congress1['speech']:\n",
    "    speech = re.sub('[\\\",.;:?([)\\]_*]', '', speech) # strip punctuation\n",
    "    speech = re.sub('-', ' ', speech) # replace hyphens with spaces\n",
    "    speech = speech.lower()\n",
    "    congressspeeches1.append(speech)\n",
    "congressspeeches1 = ' '.join(congressspeeches1)\n",
    "congressspeeches1[:150]"
   ]
  },
  {
   "cell_type": "code",
   "execution_count": 10,
   "metadata": {},
   "outputs": [
    {
     "data": {
      "text/plain": [
       "'the clerk will please read a communication to the senate from the president pro mr warner thereupon assumed the tempore  chair as acting president pro'"
      ]
     },
     "execution_count": 10,
     "metadata": {},
     "output_type": "execute_result"
    }
   ],
   "source": [
    "# clean up speeches from 2010\n",
    "congressspeeches2 = []\n",
    "for speech in congress2['speech']:\n",
    "    speech = re.sub('[\\\",.;:?([)\\]_*]', '', speech) # strip punctuation\n",
    "    speech = re.sub('-', ' ', speech) # replace hyphens with spaces\n",
    "    speech = speech.lower() # lower case 'em '\n",
    "    congressspeeches2.append(speech) # save the speeches for later\n",
    "congressspeeches2 = ' '.join(congressspeeches2)\n",
    "congressspeeches2[:150]"
   ]
  },
  {
   "cell_type": "markdown",
   "metadata": {},
   "source": [
    "### Try Using the Austen Code to Find Vocab Matches in Congress\n",
    "\n",
    "The code above -- the code we have been using all week to find matches -- could *theoretically* run on the Congress dataset.  But it might crash the machine. Let's see what happens.  If the lines below crash, try following along with the lines below, which do the same thing another way."
   ]
  },
  {
   "cell_type": "code",
   "execution_count": null,
   "metadata": {},
   "outputs": [],
   "source": [
    "# search for matched words\n",
    "congresswords1 = congressspeeches1.split()\n",
    "matchedwords = []\n",
    "for w in congresswords1:\n",
    "    w = wn.morphy(w) # lemmatize it\n",
    "    if w in vocab:\n",
    "        matchedwords.append(w)\n",
    "        \n",
    "# find the bigrams \n",
    "matchedbigrams = []\n",
    "bigrams = TextBlob(congressspeeches1).ngrams(n=2)\n",
    "for bigram in bigrams: # move through each line of the *bigrams* list\n",
    "        if wn.morphy(bigram[0]) is not None and wn.morphy(bigram[1]) is not None:\n",
    "            bigram2 = wn.morphy(bigram[0]) + ' ' + wn.morphy(bigram[1]) # call the first word, a space, and the second word into a new string\n",
    "            if bigram2 in cleanwordnetbigrams:\n",
    "                matchedbigrams.append(bigram2) # save the string \n",
    "                \n",
    "# put it all together\n",
    "allvocabcongress1 = matchedwords+matchedbigrams\n",
    "\n",
    "# stopword out ambiguous words\n",
    "finallist = []\n",
    "for v in allcontrolledvocab:\n",
    "    if v not in ambiguouswords:\n",
    "        finallist.append(v)\n",
    "finalcount = pd.Series.value_counts(finallist)\n",
    "finalcount[:5]"
   ]
  },
  {
   "cell_type": "markdown",
   "metadata": {},
   "source": [
    "Your code likely crashed.  \n",
    "\n",
    "If you received a message about the 'kernel restarting,' that means that you have lost all the variables you created up to this point.\n",
    "\n",
    "***We're going to keep going.***\n",
    "\n",
    "1) Next, run the code UP TO this block of code.  \n",
    "2) Skip the block of code immediately above these instructions -- the one that crashed your kernel.\n",
    "3) Continue on running the code below."
   ]
  },
  {
   "cell_type": "markdown",
   "metadata": {},
   "source": [
    "### Find Vocab Matches in Congress More Efficiently"
   ]
  },
  {
   "cell_type": "markdown",
   "metadata": {},
   "source": [
    "Congress is bigger than Austen!  In order to get our code to run quickly, we have to use slightly more efficient code.  \n",
    "\n",
    "In the weeks that follow, we will be learning a number of shortcuts to do things we've already learned in a more \"efficient\" manner.  This means that the code will talk to Python about how to allocate computer power in such a way that the code will run more swiftly and effectively over the data in question.\n",
    "\n",
    "Let's introduce a concept that will help us understand computational efficiency:\n",
    "   * Writing Data Takes Time\n",
    "   * More efficient code stores the results as it goes\n",
    "   \n",
    "The code for matching we've written to date requires the computer to call lists of words again and again: calling up the entire list of words in the original text to execute a \".append().\"  When we're working with a million words, the .append() command slows us down. The overhead of creating and extending the list slows the process down.  \n",
    "\n",
    "Computers work more efficiently when they work only on the precise data required.  \n",
    "\n",
    "\n",
    "#### Working in parallel with list comprehension.\n",
    "\n",
    "Our first lesson in efficient code is 'list comprehension.'  List comprehension helps us to write a for-loop in such a way that the computer doesn't have to use **.append()** every time. \n",
    "\n",
    "Here is a for loop that we've used before:\n",
    "\n",
    "    for word in words:\n",
    "        if word in vocab:\n",
    "            do something.\n",
    "\n",
    "Now, let's write the for loop so that it can be run in parallel.\n",
    "\n",
    "The lines below do the same as those above, but we use 'list comprehension' grammar:\n",
    "    \n",
    "    [word for word in words if word in vocab]\n",
    "\n",
    "The brackets -- **[ ]** -- tell Python that we are making a list.  The grammar \"for blank in blank\" tells Python that we want a for-loop type of program.  Instead of using **.append()** every time to store the results in a new list, we simply harvest the results and make a new list as we go.  \n",
    "\n",
    "With some practice, you can become adept at translating traditional for-loops into list comprehension loops, which are more efficient.\n",
    "\n",
    "Don't fret too much about this; we'll be learning several new tricks for efficient code in the coming weeks.  So long as you can recognize list comprehension and look up how to do it, you're good to go."
   ]
  },
  {
   "cell_type": "markdown",
   "metadata": {},
   "source": [
    "#### Use list comprehension to find matched words\n",
    "\n",
    "First, fine the controlled vocab match in words and bigrams for 1967 and plot the top instances."
   ]
  },
  {
   "cell_type": "markdown",
   "metadata": {},
   "source": [
    "*This may be slow with smaller memory, but it will be fast on JupyterLab Sessions run with Memory > 60GB*"
   ]
  },
  {
   "cell_type": "code",
   "execution_count": 11,
   "metadata": {},
   "outputs": [
    {
     "data": {
      "text/plain": [
       "['gore', 'vice', 'vice', 'vice', 'fall']"
      ]
     },
     "execution_count": 11,
     "metadata": {},
     "output_type": "execute_result"
    }
   ],
   "source": [
    "# search for matched words\n",
    "setvocab = set(vocab)\n",
    "congresswords1 = congressspeeches1.split()\n",
    "matchedwords1 = [wn.morphy(word) for word in congresswords1 if wn.morphy(word) in setvocab]\n",
    "matchedwords1[:5]"
   ]
  },
  {
   "cell_type": "code",
   "execution_count": 12,
   "metadata": {},
   "outputs": [],
   "source": [
    "# we'll use a slightly different method for finding ngrams because it's faster with big data than TextBlob.ngrams()\n",
    "# these lines define a new function -- zipngram -- which creates ngrams of n length. \n",
    "def zipngram(text, n=2):\n",
    "    words = text.split()\n",
    "    return zip(*[words[i:] for i in range(n)])"
   ]
  },
  {
   "cell_type": "code",
   "execution_count": 13,
   "metadata": {},
   "outputs": [
    {
     "data": {
      "text/plain": [
       "['aggravated assault',\n",
       " 'criminal offense',\n",
       " 'juvenile delinquency',\n",
       " 'armed robbery',\n",
       " 'juvenile delinquency']"
      ]
     },
     "execution_count": 13,
     "metadata": {},
     "output_type": "execute_result"
    }
   ],
   "source": [
    "# search for matched bigrams\n",
    "bigrams = zipngram(congressspeeches1)\n",
    "matchedbigrams1= [' '.join(bigram) for bigram in bigrams if ' '.join(bigram) in setvocab]\n",
    "matchedbigrams1[:5]"
   ]
  },
  {
   "cell_type": "code",
   "execution_count": 24,
   "metadata": {},
   "outputs": [],
   "source": [
    "# put it all together\n",
    "allcontrolledvocab1 = matchedwords1 + matchedbigrams1"
   ]
  },
  {
   "cell_type": "code",
   "execution_count": 22,
   "metadata": {},
   "outputs": [],
   "source": [
    "# a big list of ambiguous words\n",
    "ambiguouswords = ['infringement', 'setup', 'mischief', 'foul', 'illusion','encroachment', 'misdemeanor','unfairness', 'pretense','sophistication', 'deceit',\n",
    "                  'disservice','fabrication', 'equivocation','falsehood','usurpation','violation', 'injury', 'injustice', 'carnage', 'betrayal','evil', \n",
    "                  'hell', 'offense','deviation', 'impropriety','indirection','pretending','duplicity', 'delusion','trickery','shrinkage','transgression',\n",
    "                  'spoiling', 'indecency','depravity','sin','slay','butchery','molestation','mortal sin','guile','abomination','malicious mischief',\n",
    "                  'treason','treachery','inroad','offence','foul play','perpetration','wile','iniquity','committal','brutalization','infliction','falsify','hooliganism','impersonation',\n",
    "                    'sinning','fakery', 'hustle', 'mangle','intemperance', 'foul ball','fratricide','monkey business','terrorization','pilferage','gyp',\n",
    "                  'pyramiding','obscenity','holdup', 'wickedness','nonfeasance','abnormality','law breaking','mutilate','caper','ill turn','frame up',\n",
    "                  'prevarication','thuggery','immorality','perversion','rascality','quackery','double dealing','con','fraud','shenanigan','roguery','high treason',\n",
    "                  'cheating','off','setup,' 'foul', 'wrong', 'liberty', 'attempt', 'liquidation', 'petty', 'battery', 'gaming', 'intrusion','raid','misfeasance',\n",
    "                  'attack','assault','sting','indiscretion','vice','crime','snatch','infraction','misapplication','kill','irregularity','flimflam','chicanery',\n",
    "                  'sellout','twisting','blaze','straining','misbehavior','warp','spoilage','tort','simulation','turpitude','dereliction','mayhem', 'dishonesty',\n",
    "                  'cheat', 'trick','deception','skimming', 'distort','bluff', 'distortion', 'misrepresentation','execute','gore', 'job', 'technical',\n",
    "                  'damage', 'elimination', 'take in', 'burke', 'remove', 'fall', 'familiarity', 'pretence', 'maintenance', 'spoil', 'commission', \n",
    "                  'protection', 'execution', 'tribute', 'hit', 'dispatch', 'play', 'rolling']"
   ]
  },
  {
   "cell_type": "code",
   "execution_count": 25,
   "metadata": {},
   "outputs": [],
   "source": [
    "# stopword out ambiguous words \n",
    "finallist1 = [w for w in allcontrolledvocab1 if w not in ambiguouswords]"
   ]
  },
  {
   "cell_type": "code",
   "execution_count": 26,
   "metadata": {},
   "outputs": [
    {
     "data": {
      "text/plain": [
       "murder                  670\n",
       "delinquency             668\n",
       "slaughter               391\n",
       "juvenile delinquency    381\n",
       "robbery                 273\n",
       "dtype: int64"
      ]
     },
     "execution_count": 26,
     "metadata": {},
     "output_type": "execute_result"
    }
   ],
   "source": [
    "# count totals\n",
    "finalcount1 = pd.Series.value_counts(finallist1)[:50]\n",
    "finalcount1[:5]"
   ]
  },
  {
   "cell_type": "code",
   "execution_count": 28,
   "metadata": {},
   "outputs": [
    {
     "data": {
      "image/png": "[encoded data removed]",
      "text/plain": [
       "<Figure size 360x1440 with 1 Axes>"
      ]
     },
     "metadata": {
      "needs_background": "light"
     },
     "output_type": "display_data"
    }
   ],
   "source": [
    "# a well-labeled barplot\n",
    "plt.figure(figsize = (5, 20)) # make it tall and thin\n",
    "plt.tight_layout() # adjust the margins so that the title is near the plot \n",
    "plt.subplots_adjust(top=0.95)\n",
    "plt.gcf().subplots_adjust(left=0.35) # pad the left margin so that the labels don't get cut off\n",
    "plt.barh(finalcount1.index, finalcount1) # tell the barplot what to put on the x and y axes. This time we're using 'barh' for a horizontal bar plot.\n",
    "plt.xticks(rotation=90) # this tells Python to 'rotate' the labels on the x axis so that the words fit on the screen\n",
    "plt.ylabel('Word') # label\n",
    "plt.xlabel('Count') # label\n",
    "plt.suptitle('Words for Wrongdoing in Congress in 1967', fontsize=20) #This line labels the title\n",
    "plt.gca().invert_yaxis() # reverse the order of the y axis\n",
    "plt.savefig('congress-wrongdoing-1967.png', dpi = 300) # save the figure in your folder\n",
    "plt.show() # display the figure below"
   ]
  },
  {
   "cell_type": "markdown",
   "metadata": {},
   "source": [
    "Do the same thing for 2010."
   ]
  },
  {
   "cell_type": "code",
   "execution_count": null,
   "metadata": {},
   "outputs": [],
   "source": [
    "# search for matched words\n",
    "setvocab = set(vocab)\n",
    "congresswords2 = congressspeeches2.split()\n",
    "matchedwords2 = [wn.morphy(word) for word in congresswords2 if wn.morphy(word) in setvocab]\n",
    "matchedwords2[:5]"
   ]
  },
  {
   "cell_type": "code",
   "execution_count": null,
   "metadata": {},
   "outputs": [],
   "source": [
    "# search for matched bigrams\n",
    "bigrams = zipngram(congressspeeches2)\n",
    "matchedbigrams2= [' '.join(bigram) for bigram in bigrams if ' '.join(bigram) in setvocab]\n",
    "matchedbigrams2[:5]"
   ]
  },
  {
   "cell_type": "code",
   "execution_count": null,
   "metadata": {},
   "outputs": [],
   "source": [
    "# put it all together\n",
    "allcontrolledvocab2 = matchedwords2 + matchedbigrams2"
   ]
  },
  {
   "cell_type": "code",
   "execution_count": null,
   "metadata": {},
   "outputs": [],
   "source": [
    "# stopword out ambiguous words \n",
    "finallist2 = [w for w in allcontrolledvocab2 if w not in ambiguouswords]"
   ]
  },
  {
   "cell_type": "code",
   "execution_count": null,
   "metadata": {},
   "outputs": [],
   "source": [
    "# count totals\n",
    "finalcount2 = pd.Series.value_counts(finallist2)[:50]\n",
    "finalcount2[:5]"
   ]
  },
  {
   "cell_type": "code",
   "execution_count": null,
   "metadata": {},
   "outputs": [],
   "source": [
    "# a well-labeled barplot\n",
    "plt.figure(figsize = (5, 20)) # make it tall and thin\n",
    "plt.barh(finalcount2.index, finalcount2) # tell the barplot what to put on the x and y axes. This time we're using 'barh' for a horizontal bar plot.\n",
    "plt.tight_layout() # adjust the margins so that the title is near the plot \n",
    "plt.subplots_adjust(top=0.95)\n",
    "plt.gcf().subplots_adjust(left=0.35) # pad the left margin so that the labels don't get cut off\n",
    "plt.xticks(rotation=90) # this tells Python to 'rotate' the labels on the x axis so that the words fit on the screen\n",
    "plt.ylabel('Word') # label\n",
    "plt.xlabel('Count') # label\n",
    "plt.suptitle('Words for Wrongdoing in Congress in 2010', fontsize=20) #This line labels the title\n",
    "plt.gca().invert_yaxis() # reverse the order of the y axis\n",
    "plt.savefig('congress-wrongdoing-2010.png', dpi = 300) # save the figure in your folder\n",
    "plt.show() # display the figure below"
   ]
  },
  {
   "cell_type": "markdown",
   "metadata": {},
   "source": [
    "## Assignment\n",
    "\n",
    "Use the visualizations included here to answer the following essay questions.  Turn in a word document with well-formatted answers.\n",
    "\n",
    "1) What kinds of misdeeds concern Austen? Are these actually crimes? Be specific. Write about as many words as possible. Embed the visualization in a Word Document. Entitle this section, \"Misdeeds in Jane Austen.\"\n",
    "\n",
    "2) Compare and contrast wrongdoing in Jane Austen and wrongdoing in Congress.  Why were a novelist from 1800 and lawmakers after 1967 concerned with different offenses? Entitle this section, \"Congress is not Jane Austen.\"\n",
    "\n",
    "3) What kinds of crimes concerned Congress in 1967?  Be specific. Write about as many words as possible. Embed the visualization in a Word Document. Entitle this section, \"Congress in 1967.\"\n",
    "\n",
    "4) What kinds of crimes concerned Congress in 2010?  Be specific. Write about as many words as possible. Embed the visualization in a Word Document. Entitle this section, \"Congress in 2010.\"\n",
    "\n",
    "5) Under the heading \"Explaining the Contrast,\" write a paragraph comparing and contrasting wrongdoing in Congress in 1967 with wrongdoing in Congress in 2010. Be specific. Write about as many words as possible. What might explain this historical change of focus?"
   ]
  },
  {
   "cell_type": "code",
   "execution_count": null,
   "metadata": {},
   "outputs": [],
   "source": []
  }
 ],
 "metadata": {
  "kernelspec": {
   "display_name": "Python 3",
   "language": "python",
   "name": "python3"
  },
  "language_info": {
   "codemirror_mode": {
    "name": "ipython",
    "version": 3
   },
   "file_extension": ".py",
   "mimetype": "text/x-python",
   "name": "python",
   "nbconvert_exporter": "python",
   "pygments_lexer": "ipython3",
   "version": "3.6.7"
  }
 },
 "nbformat": 4,
 "nbformat_minor": 4
}
