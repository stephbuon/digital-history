{
 "cells": [
  {
   "cell_type": "markdown",
   "metadata": {},
   "source": [
    "For citation information, please see the \"Source Information\" section listed in the associated README file: https://github.com/stephbuon/digital-history/tree/master/hist3368-week4-wordnet-controlled-vocab/"
   ]
  },
  {
   "cell_type": "markdown",
   "metadata": {},
   "source": [
    "# Week 4 Assignment: Working With a Controlled Vocabulary"
   ]
  },
  {
   "cell_type": "markdown",
   "metadata": {},
   "source": [
    "In an earlier notebook we saw that the phrases \"the world\" and \"the house\" were particularly prevalent in Jane Austen's novels. How might we go about investigating how Austen imagined those realms?  One way might be to use a controlled vocabulary of words semantically linked to the landscape and the house to investigate how Austen talks about the surroundings of her characters."
   ]
  },
  {
   "cell_type": "markdown",
   "metadata": {},
   "source": [
    "In this notebook, we'll be working with a 'controlled vocabulary,' which is to say, expert-defined words that help to limit our pursuit of wordcount to words that share a certain semantic valence.  Controlled Vocabularies have been used in digital history to examine the history of words used by Victorian people to describe the way that strangers walked down the street, and to show that novelists in the nineteenth century described the urban landscape with increasing detail.  \n",
    "\n",
    "First, we'll download some novels by Jane Austen to try our vocabulary on.  Then, we'll talk about how to clean the text using stemming and lemmatization.  \n",
    "\n",
    "Next, we'll use a controlled vocabulary to limit the count to words that are interesting to us.  Then, we'll expand that controlled vocabulary using the 'hyponym' feature of the WordNet package, which consults with dictionaries of the English language organized by linguists at Princeton.  \n",
    "\n",
    "Finally, we'll visualize our findings.\n"
   ]
  },
  {
   "cell_type": "markdown",
   "metadata": {},
   "source": [
    "## Download some Jane Austen Novels"
   ]
  },
  {
   "cell_type": "code",
   "execution_count": 40,
   "metadata": {},
   "outputs": [],
   "source": [
    "import nltk, numpy, re, matplotlib\n",
    "import pandas as pd\n",
    "import re\n",
    "from textblob import TextBlob\n",
    "from nltk.corpus import wordnet as wn\n",
    "from nltk.corpus import stopwords\n",
    "stopwords = stopwords.words('english')\n",
    "import matplotlib.pyplot as plt"
   ]
  },
  {
   "cell_type": "code",
   "execution_count": 41,
   "metadata": {},
   "outputs": [
    {
     "name": "stdout",
     "output_type": "stream",
     "text": [
      "/scratch/group/history/hist_3368-jguldi\n"
     ]
    }
   ],
   "source": [
    "cd /scratch/group/history/hist_3368-jguldi"
   ]
  },
  {
   "cell_type": "code",
   "execution_count": 42,
   "metadata": {},
   "outputs": [],
   "source": [
    "with open('senseandsensibility.txt', 'r') as myfile:\n",
    "    sas_data = myfile.read().split('\\n\\n\"I suppose you know, ma\\'am, that Mr. Ferrars is married\"\\n\\nIt _was_ Edward\\n\\n\"Everything in such respectable condition\"\\n\\n ')[1].split('THE END')[0].strip()\n",
    "with open('emma.txt', 'r') as myfile:\n",
    "    emma_data = myfile.read().split('CHAPTER I')[1].split('FINIS')[0].strip()\n",
    "with open('prideandprejudice.txt', 'r') as myfile:\n",
    "    pap_data = myfile.read().split('CHAPTER I')[1].split('End of the Project Gutenberg EBook of Pride and Prejudice, by Jane Austen')[0].strip()\n",
    "data = [sas_data, emma_data, pap_data]"
   ]
  },
  {
   "cell_type": "code",
   "execution_count": 58,
   "metadata": {},
   "outputs": [],
   "source": [
    "# clean up\n",
    "words = []\n",
    "\n",
    "for novel in data:\n",
    "    novel = re.sub('[\\\",.;:?([)\\]_*]', '', novel) # strip punctuation\n",
    "    novel = re.sub('-', ' ', novel) # replace hyphens with spaces\n",
    "    novel = novel.lower() # lowercase\n",
    "    novelwords = novel.replace('\\n', ' ').split() # remove whitespace, split into words\n",
    "    for word in novelwords:\n",
    "        lemma = wn.morphy(word) # lemmatize them\n",
    "        if lemma is not None:  # test that there was an answer\n",
    "            words.append(lemma) # save the lemma for later"
   ]
  },
  {
   "cell_type": "code",
   "execution_count": 59,
   "metadata": {},
   "outputs": [
    {
     "data": {
      "text/plain": [
       "['chapter',\n",
       " 'i',\n",
       " 'family',\n",
       " 'have',\n",
       " 'long',\n",
       " 'be',\n",
       " 'settle',\n",
       " 'in',\n",
       " 'sussex',\n",
       " 'estate']"
      ]
     },
     "execution_count": 59,
     "metadata": {},
     "output_type": "execute_result"
    }
   ],
   "source": [
    "words[:10]"
   ]
  },
  {
   "cell_type": "markdown",
   "metadata": {},
   "source": [
    "#### A Little Critical Thinking\n",
    "The only special thing we're doing to clean in this round is to replace hyphens with spaces.  If Austen writes 'dining-room,' we want to count it when we search later for \"dining room.\" "
   ]
  },
  {
   "cell_type": "markdown",
   "metadata": {},
   "source": [
    "When working with a controlled vocabulary, we don't need to stopword, so we'll skip that step."
   ]
  },
  {
   "cell_type": "markdown",
   "metadata": {},
   "source": [
    "# Controlled Vocabulary"
   ]
  },
  {
   "cell_type": "markdown",
   "metadata": {},
   "source": [
    "Let's look for what scholars call a \"controlled vocabulary\" -- a list of words that we know to be meaningful. For right now, let's pretend that we're researching the buildings, landscape, and furniture of nineteenth-century England.  I'm curious about what kinds of spaces are described in Austen, and I'd like to begin by counting them."
   ]
  },
  {
   "cell_type": "code",
   "execution_count": 60,
   "metadata": {},
   "outputs": [],
   "source": [
    "controlled_vocab = [\n",
    "    \"garden\",\n",
    "    \"room\", \n",
    "    \"estate\",\n",
    "    \"manor\", \n",
    "    \"hedge\", \n",
    "    \"residence\",\n",
    "    \"park\",\n",
    "    \"lane\",\n",
    "    \"chair\",\n",
    "    \"sofa\",\n",
    "    \"settee\",\n",
    "    \"bed\",\n",
    "    \"bedroom\",\n",
    "    \"chaise\",\n",
    "    \"table\",\n",
    "    \"rug\",\n",
    "    \"carpet\",\n",
    "    \"candelabra\",\n",
    "    \"shed\",\n",
    "    \"cottage\",\n",
    "    \"fence\",\n",
    "    \"turret\",\n",
    "    \"castle\",\n",
    "    \"palace\",\n",
    "    \"hut\",\n",
    "    \"dwelling\"\n",
    "]"
   ]
  },
  {
   "cell_type": "code",
   "execution_count": 61,
   "metadata": {},
   "outputs": [
    {
     "data": {
      "text/plain": [
       "room         119\n",
       "cottage       59\n",
       "park          53\n",
       "table         32\n",
       "bed           27\n",
       "estate        19\n",
       "garden        16\n",
       "chair         10\n",
       "chaise         8\n",
       "residence      7\n",
       "dwelling       6\n",
       "lane           6\n",
       "shed           3\n",
       "bedroom        3\n",
       "carpet         2\n",
       "rug            1\n",
       "sofa           1\n",
       "manor          1\n",
       "dtype: int64"
      ]
     },
     "execution_count": 61,
     "metadata": {},
     "output_type": "execute_result"
    }
   ],
   "source": [
    "controlled_words = []\n",
    "\n",
    "for w in words:\n",
    "    if w in controlled_vocab:\n",
    "        controlled_words.append(w)\n",
    "\n",
    "pd.Series.value_counts(controlled_words)"
   ]
  },
  {
   "cell_type": "markdown",
   "metadata": {},
   "source": [
    "The process worked great! Now I know that Jane Austen was writing about a world of rooms, estates, cottages, and other dwellings, some of which have tables, gardens, beds, carpets, chaises, sofas, and chairs.\n",
    "\n",
    "I accomplished my goal: working with a controlled vocabulary.\n",
    "\n",
    "#### The Challenge is to Get Somewhere Interesting.\n",
    "\n",
    "The only problem is... my results aren't very interesting.  What on earth can I say about this world of dwellings and furniture?? Not much.\n",
    "\n",
    "It also occurs to me that I might not be thinking clearly about all the kinds of furniture, buildings, and other structures that might make up the Georgian landscape.  Fortunately, linguists have compiled many dictionaries that can help us to navigate the semantic universe with greater position.  Working with these dictionaries can enhance our controlled vocabulary search and lead us to more interesting results.\n",
    "\n",
    "One of these dictionaries is **\"Wordnet,\"** the fruit of a long-term research undertaking at Princeton. We used one version of WordNet when we did the notebook on lemmatization, calling wn.morphy().  Now we'll use another part of Wordnet to call all the hyponyms for the word 'room,' and we'll see if we can get a more nuanced portrait of Austen's world."
   ]
  },
  {
   "cell_type": "markdown",
   "metadata": {},
   "source": [
    "# Expanded Controlled Vocabulary with Wordnet"
   ]
  },
  {
   "cell_type": "markdown",
   "metadata": {},
   "source": [
    "In an earlier notebook, we saw that we could use the Wordnet package to generate a list of semantically-connected words.  We used the **.hyponyms()** function to narrow our word list.  Let's use the same code we saw previously to create a list of all the hyponyms for 'room.'"
   ]
  },
  {
   "cell_type": "code",
   "execution_count": 62,
   "metadata": {},
   "outputs": [
    {
     "data": {
      "text/plain": [
       "['anechoic chamber',\n",
       " 'anteroom',\n",
       " 'antechamber',\n",
       " 'entrance hall',\n",
       " 'foyer',\n",
       " 'lobby',\n",
       " 'vestibule',\n",
       " 'back room',\n",
       " 'ballroom',\n",
       " 'dance hall',\n",
       " 'dance palace',\n",
       " 'barroom',\n",
       " 'bar',\n",
       " 'saloon',\n",
       " 'ginmill',\n",
       " 'taproom',\n",
       " 'bathroom',\n",
       " 'bath',\n",
       " 'bedroom',\n",
       " 'sleeping room',\n",
       " 'sleeping accommodation',\n",
       " 'chamber',\n",
       " 'bedchamber',\n",
       " 'belfry',\n",
       " 'billiard room',\n",
       " 'billiard saloon',\n",
       " 'billiard parlor',\n",
       " 'billiard parlour',\n",
       " 'billiard hall',\n",
       " 'boardroom']"
      ]
     },
     "execution_count": 62,
     "metadata": {},
     "output_type": "execute_result"
    }
   ],
   "source": [
    "from nltk.corpus import wordnet as wn\n",
    "\n",
    "mysynlist = wn.synset('room.n.01')\n",
    "\n",
    "# get the hyponyms\n",
    "hyposynlist = mysynlist.hyponyms()\n",
    "\n",
    "# get the hyponyms of the hyponyms\n",
    "finer_syns = [] # create an empty list\n",
    " \n",
    "for syn in hyposynlist: # loop through all the synsets\n",
    "    myhyponyms = syn.hyponyms()\n",
    "    for h in myhyponyms:\n",
    "        finer_syns.append(h)\n",
    "  \n",
    "# get the lemmas for everything so far\n",
    "housinglemmas = [] # create an empty list\n",
    "for syn in hyposynlist:\n",
    "    for l in syn.lemmas():\n",
    "        if l.name() not in housinglemmas: # check for uniqueness\n",
    "            housinglemmas.append(l.name())\n",
    "\n",
    "for syn in finer_syns:\n",
    "    for l in syn.lemmas():\n",
    "         if l.name() not in housinglemmas: # check for uniqueness\n",
    "            housinglemmas.append(l.name())\n",
    "\n",
    "# remove ambiguous words\n",
    "housinglemmas2 = []\n",
    "\n",
    "for word in housinglemmas:\n",
    "    if word not in ['hall', 'court']:\n",
    "        housinglemmas2.append(word)\n",
    "\n",
    "housinglemmas2[:15]\n",
    "\n",
    "# replace hyphens and underscores with spaces\n",
    "cleanwordnetwords = []\n",
    "\n",
    "for word in housinglemmas2:\n",
    "    v = word.replace('-', ' ')\n",
    "    v = v.replace('_', ' ') \n",
    "    cleanwordnetwords.append(str(v))\n",
    "    \n",
    "cleanwordnetwords[:30]"
   ]
  },
  {
   "cell_type": "markdown",
   "metadata": {},
   "source": [
    "Not all of these words will be useful for mining Jane Austen. If you look further down the list, you'll see that 'frat house' is one of the kinds of rooms listed.   \n",
    "\n",
    "Austen is notorious for having few frat houses in her books. \n",
    "\n",
    "But Austen might have some billiard rooms or dance halls in her books, and that would be interesting to know about.  Let's use the Wordnet list instead of mine and repeat our search for a controlled vocabulary."
   ]
  },
  {
   "cell_type": "markdown",
   "metadata": {},
   "source": [
    "## Find the controlled wordnet vocabulary in Jane Austen"
   ]
  },
  {
   "cell_type": "markdown",
   "metadata": {},
   "source": [
    "Next, let's run a \"for\" loop similar to those we've seen before to search for the words in *cleanwordnetwords* that also appear in Jane Austen novels.  As you'll recall, we have a master list of Austen words called \"cleanaustenwords.\""
   ]
  },
  {
   "cell_type": "markdown",
   "metadata": {},
   "source": [
    "First, let's demonstrate how **not** to do it, using the operator \"in.\""
   ]
  },
  {
   "cell_type": "code",
   "execution_count": 63,
   "metadata": {
    "scrolled": true
   },
   "outputs": [
    {
     "data": {
      "text/plain": [
       "waiting area               10464\n",
       "waiting room               10332\n",
       "living room                 8546\n",
       "dining room                 8480\n",
       "withdrawing room            8448\n",
       "operating theatre           8339\n",
       "operating theater           8339\n",
       "walk in                     8297\n",
       "anechoic chamber            8149\n",
       "sleeping accommodation      8014\n",
       "exhibition hall             7844\n",
       "council chamber             7803\n",
       "operating room              7299\n",
       "dining hall                 7244\n",
       "exhibition area             7185\n",
       "laminar flow clean room     7181\n",
       "trading floor               6702\n",
       "master bedroom              6655\n",
       "diwan                       6545\n",
       "drawing room                6500\n",
       "reading room                6475\n",
       "toilet facility             6365\n",
       "hospital room               6347\n",
       "cabinet                     6324\n",
       "cabin                       6324\n",
       "comfort station             6286\n",
       "sitting room                6204\n",
       "beer hall                   6161\n",
       "torture chamber             6102\n",
       "antechamber                 6075\n",
       "dtype: int64"
      ]
     },
     "execution_count": 63,
     "metadata": {},
     "output_type": "execute_result"
    }
   ],
   "source": [
    "matchedwords = []\n",
    "\n",
    "for w in words:\n",
    "    for v in cleanwordnetwords: \n",
    "        if w in v:\n",
    "            matchedwords.append(v)\n",
    "\n",
    "pd.Series.value_counts(matchedwords)[:30]"
   ]
  },
  {
   "cell_type": "markdown",
   "metadata": {},
   "source": [
    "Hmm, I'm not sure that's right.  There shouldn't be so many public lavatories or torture chambers in Jane Austen.  \n",
    "\n",
    "What might have gone wrong?  The problem is 'in.'  By using this code:\n",
    "\n",
    "        if w in v\n",
    "\n",
    "-- we counted every word in Jane Austen that has one of the words in cleanwordnetwords inside it.  Thus the word \"bed\" appears 57 times in Jane Austen, and the phrase bed-and-breakfast appears in cleanwordnetwords.  The computer counted 57 bed-and-breakfasts in Jane Austen. That's just wrong!\n"
   ]
  },
  {
   "cell_type": "markdown",
   "metadata": {},
   "source": [
    "***You can only catch errors of this kind if you're thinking (a) about the code and (b) about the history.***\n",
    "\n",
    "*How can we tweak the code above to be more accurate?*"
   ]
  },
  {
   "cell_type": "markdown",
   "metadata": {},
   "source": [
    "Here's another attempt using 'in' that works better:"
   ]
  },
  {
   "cell_type": "code",
   "execution_count": 76,
   "metadata": {
    "scrolled": true
   },
   "outputs": [
    {
     "data": {
      "text/plain": [
       "well           241\n",
       "can            217\n",
       "john           148\n",
       "keep            62\n",
       "door            42\n",
       "head            40\n",
       "hold            22\n",
       "parlour         11\n",
       "study            7\n",
       "convenience      5\n",
       "chamber          4\n",
       "snug             4\n",
       "library          3\n",
       "bedroom          3\n",
       "floor            2\n",
       "lobby            2\n",
       "bath             2\n",
       "kitchen          2\n",
       "closet           2\n",
       "lounge           1\n",
       "toilet           1\n",
       "parlor           1\n",
       "vestibule        1\n",
       "dtype: int64"
      ]
     },
     "execution_count": 76,
     "metadata": {},
     "output_type": "execute_result"
    }
   ],
   "source": [
    "matchedwords = []\n",
    "\n",
    "for w in words:\n",
    "    if w in cleanwordnetwords: \n",
    "         matchedwords.append(w)\n",
    "\n",
    "pd.Series.value_counts(matchedwords)"
   ]
  },
  {
   "cell_type": "markdown",
   "metadata": {},
   "source": [
    "Notice the difference between this code and the block of code above.  Instead of asking if each word w is \"in\" each vocab v, we ask if each word w is \"in\" the list controlled_vocab.\n",
    "\n",
    "In text mining, to get good results, you must fit each piece of data just so.\n",
    "\n",
    "Inspecting the results is a vital step to making sure you're getting good results."
   ]
  },
  {
   "cell_type": "markdown",
   "metadata": {},
   "source": [
    "#### Inspecting the results for ambiguous words"
   ]
  },
  {
   "cell_type": "markdown",
   "metadata": {},
   "source": [
    "Even though the match between the two lists is now accurate, the results still require further cleaning to be useful for the purpose of analysis.\n",
    "\n",
    "Some of these words are false positives.  The words \"can,\" \"well,\" \"john,\" \"head,\" \"keep,\" and so forth have too many meanings to tell us about Jane Austen.  I'm also wary of 'toilet,' which in nineteenth-century English probably refers to the practice of grooming rather than to a room in the house.\n",
    "\n",
    "Let's stopword our list based on our own understanding of which words are meaningful, i.e., unambiguously about our research subject, Jane Austen's world."
   ]
  },
  {
   "cell_type": "code",
   "execution_count": 91,
   "metadata": {},
   "outputs": [
    {
     "data": {
      "text/plain": [
       "door         42\n",
       "parlour      11\n",
       "chamber       4\n",
       "library       3\n",
       "bedroom       3\n",
       "kitchen       2\n",
       "bath          2\n",
       "closet        2\n",
       "lobby         2\n",
       "parlor        1\n",
       "lounge        1\n",
       "vestibule     1\n",
       "dtype: int64"
      ]
     },
     "execution_count": 91,
     "metadata": {},
     "output_type": "execute_result"
    }
   ],
   "source": [
    "ambiguouswords = ['can', 'head', 'well', 'toilet', 'john', 'keep', 'hold', 'study', 'convenience', 'snug', 'floor']\n",
    "\n",
    "matchedwords = []\n",
    "\n",
    "for w in words:\n",
    "    for v in cleanwordnetwords: \n",
    "        if w == v: \n",
    "            if v not in ambiguouswords:\n",
    "                matchedwords.append(v)\n",
    "matchedwords\n",
    "pd.Series.value_counts(matchedwords)"
   ]
  },
  {
   "cell_type": "markdown",
   "metadata": {},
   "source": [
    "That's much better. We can begin to interpret it.\n",
    "\n",
    " * In Jane Austen's world, the 'doors' separating inside from outside have particular meaning. We might speculate that doors suggest privacy, but we'd need in-text mentions to understand why she invokes them so often.\n",
    " * The 'parlour' is also important as a meeting place where the family received company.  We'd also want to read a few mentions and perhaps some plot summaries of her novels to understand who is being received in parlours and why there are so many of them.\n",
    " * Jane writes about a world where people have dedicated libraries.\n",
    " * More humble spaces like the kitchen are mentioned with extreme infrequency. We can ascertain that the drama of the novel happens in more public spaces like the \"parlour\" or at the \"door\" where private and public meet.\n"
   ]
  },
  {
   "cell_type": "markdown",
   "metadata": {},
   "source": [
    "\n",
    "## Bigrams\n",
    "\n",
    "\n",
    "We still aren't getting all the information.\n",
    "\n",
    "The variable *cleanaustenwords* contains strings that are one-word long. \n",
    "\n",
    "We're matching it with *cleanwordnetwords* -- which includes such two-word phrases such as \"terraced house.\" \n",
    "\n",
    "Those two-word phrases aren't getting accurately matched. \n",
    "\n",
    "We need bigrams.\n",
    "\n",
    "\n",
    "\n",
    "\n",
    "\n",
    "\n",
    "Remember that in an earlier exercise we learned how to find all the bigrams in Jane Austen.\n",
    "\n"
   ]
  },
  {
   "cell_type": "code",
   "execution_count": 84,
   "metadata": {},
   "outputs": [
    {
     "data": {
      "text/plain": [
       "['chapter i',\n",
       " 'i the',\n",
       " 'the family',\n",
       " 'family of',\n",
       " 'of dashwood',\n",
       " 'dashwood had',\n",
       " 'had long',\n",
       " 'long been',\n",
       " 'been settled',\n",
       " 'settled in',\n",
       " 'in sussex',\n",
       " 'sussex their',\n",
       " 'their estate',\n",
       " 'estate was',\n",
       " 'was large']"
      ]
     },
     "execution_count": 84,
     "metadata": {},
     "output_type": "execute_result"
    }
   ],
   "source": [
    "from textblob import TextBlob\n",
    "\n",
    "austenbigramlist = [] # create an empty list which we will fill in with the following loop:\n",
    "\n",
    "\n",
    "for novel in data:\n",
    "    novel = re.sub('[\\\",.;:?([)\\]_*]', '', novel) # strip punctuation\n",
    "    novel = re.sub('-', ' ', novel) # replace hyphens with spaces\n",
    "    novel = novel.lower() # lowercase\n",
    "    bigrams = TextBlob(novel).ngrams(n=2)\n",
    "    for bigram in bigrams: # move through each line of the *bigrams* list\n",
    "        bigram2 = bigram[0] + ' ' + bigram[1] # call the first word, a space, and the second word into a new string\n",
    "        austenbigramlist.append(bigram2) # save the string \n",
    "\n",
    "austenbigramlist[:15]"
   ]
  },
  {
   "cell_type": "markdown",
   "metadata": {},
   "source": [
    "Let's write a loop to find just the multiword phrases in our wordnet words.  We'll search for the presence of a space (' ').  Then we'll save those words with spaces as the new variable, *cleanwordnetbigrams*.\n",
    "\n",
    "Just to be sure we're getting everything, we can also add back a version of word that has the space removed, so that our search will look for \"bedroom\" as well as \"bed room.\" "
   ]
  },
  {
   "cell_type": "code",
   "execution_count": 85,
   "metadata": {},
   "outputs": [
    {
     "data": {
      "text/plain": [
       "['anechoic chamber',\n",
       " 'anechoicchamber',\n",
       " 'entrance hall',\n",
       " 'entrancehall',\n",
       " 'back room',\n",
       " 'backroom',\n",
       " 'dance hall',\n",
       " 'dancehall',\n",
       " 'dance palace',\n",
       " 'dancepalace']"
      ]
     },
     "execution_count": 85,
     "metadata": {},
     "output_type": "execute_result"
    }
   ],
   "source": [
    "cleanwordnetbigrams = []\n",
    "for vocab in cleanwordnetwords:\n",
    "    if \" \" in vocab:\n",
    "        cleanwordnetbigrams.append(vocab)\n",
    "        cleanwordnetbigrams.append(vocab.replace(' ', ''))\n",
    "\n",
    "cleanwordnetbigrams[:10]"
   ]
  },
  {
   "cell_type": "markdown",
   "metadata": {},
   "source": [
    "Here's the loop to match the bigrams in austen -- from *austenbigramlist* -- with the multi-word phrases in cleanwordnetwords -- from _cleanwordnetbigrams_."
   ]
  },
  {
   "cell_type": "code",
   "execution_count": 87,
   "metadata": {
    "scrolled": true
   },
   "outputs": [
    {
     "data": {
      "text/plain": [
       "drawing room     20\n",
       "sitting room      4\n",
       "dining room       4\n",
       "dressing room     2\n",
       "walk in           1\n",
       "billiard room     1\n",
       "dtype: int64"
      ]
     },
     "execution_count": 87,
     "metadata": {},
     "output_type": "execute_result"
    }
   ],
   "source": [
    "matchedbigrams = []\n",
    "\n",
    "for w in austenbigramlist:\n",
    "    if w in cleanwordnetbigrams: \n",
    "        matchedbigrams.append(w)\n",
    "\n",
    "pd.Series.value_counts(matchedbigrams)"
   ]
  },
  {
   "cell_type": "markdown",
   "metadata": {},
   "source": [
    "We have successfully searched for bigrams with a controlled vocabulary, and added the phrase \"drawing room\" to our list of spaces important to the world of  Jane Austen.\n",
    "\n",
    "Again we can begin an interpretation from these findings.\n",
    "\n",
    "  * Mainly, Austen invokes public spaces of great estates where the sexes would mingle -- the \"drawing room,\" \"dining room,\" and \"sitting room\" are places where both women and men would convene.  \n",
    "  * We might also suspect, if we know much about country houses, that Austen is making references to spaces occupied only by men, for instance the \"billiard room\"  \n",
    "  * Notably, we still see far less of the places reserved for women -- like bed rooms -- or for servants, like cottages or kitchens.  \n",
    "\n",
    "***Please note that it is the analyst's responsibility to deal appropriately with noise:***\n",
    "\n",
    "   * I will ignore \"walk in\" -- which in some twentieth-century apartment buildings is a kind of suite.  Austen was probably using the word \"walk\" as a verb. If I were making a data visualization, I would eliminate \"walk in\" from my data before graphing it so that the reader isn't confused.  "
   ]
  },
  {
   "cell_type": "markdown",
   "metadata": {},
   "source": [
    "#### Putting it all together\n",
    "\n",
    "All that remains is for us to put everything together using the operator **+**."
   ]
  },
  {
   "cell_type": "code",
   "execution_count": 88,
   "metadata": {},
   "outputs": [
    {
     "data": {
      "text/plain": [
       "door             42\n",
       "drawing room     20\n",
       "parlour          11\n",
       "chamber           4\n",
       "sitting room      4\n",
       "dining room       4\n",
       "bedroom           3\n",
       "library           3\n",
       "dressing room     2\n",
       "lobby             2\n",
       "kitchen           2\n",
       "bath              2\n",
       "closet            2\n",
       "vestibule         1\n",
       "walk in           1\n",
       "lounge            1\n",
       "billiard room     1\n",
       "parlor            1\n",
       "dtype: int64"
      ]
     },
     "execution_count": 88,
     "metadata": {},
     "output_type": "execute_result"
    }
   ],
   "source": [
    "allcontrolledvocab = matchedwords + matchedbigrams  \n",
    "pd.Series.value_counts(allcontrolledvocab)"
   ]
  },
  {
   "cell_type": "markdown",
   "metadata": {},
   "source": [
    "Our controlled vocabulary search has successfully illuminated the world of Jane Austen."
   ]
  },
  {
   "cell_type": "markdown",
   "metadata": {},
   "source": [
    "## Summing up"
   ]
  },
  {
   "cell_type": "markdown",
   "metadata": {},
   "source": [
    "Here is the complete code for this notebook."
   ]
  },
  {
   "cell_type": "code",
   "execution_count": 102,
   "metadata": {},
   "outputs": [
    {
     "name": "stdout",
     "output_type": "stream",
     "text": [
      "/users/jguldi/digital-history\n"
     ]
    }
   ],
   "source": [
    "cd ~/digital-history"
   ]
  },
  {
   "cell_type": "code",
   "execution_count": 103,
   "metadata": {},
   "outputs": [
    {
     "data": {
      "image/png": "[encoded data removed]",
      "text/plain": [
       "<Figure size 720x720 with 1 Axes>"
      ]
     },
     "metadata": {
      "needs_background": "light"
     },
     "output_type": "display_data"
    }
   ],
   "source": [
    "# assume 'words' -- the list of words where you'll search\n",
    "# assume 'cleanwordnetwords' -- a list of controlled vocabulary where you'll search\n",
    "\n",
    "# search for matched words\n",
    "matchedwords = []\n",
    "for w in words:\n",
    "    if w in cleanwordnetwords: \n",
    "        matchedwords.append(w)\n",
    "matchedwords\n",
    "pd.Series.value_counts(matchedwords)\n",
    "\n",
    "# search for matched bigramsaustenbigramlist = [] # create an empty list which we will fill in with the following loop:\n",
    "austenbigramlist = []\n",
    "for novel in data:\n",
    "    novel = re.sub('[\\\",.;:?([)\\]_*]', '', novel) # strip punctuation\n",
    "    novel = re.sub('-', ' ', novel) # replace hyphens with spaces\n",
    "    novel = novel.lower() # lowercase\n",
    "    bigrams = TextBlob(novel).ngrams(n=2)\n",
    "    for bigram in bigrams: # move through each line of the *bigrams* list\n",
    "        bigram2 = bigram[0] + ' ' + bigram[1] # call the first word, a space, and the second word into a new string\n",
    "        austenbigramlist.append(bigram2) # save the string \n",
    "matchedbigrams = []\n",
    "for w in austenbigramlist:\n",
    "    if w in cleanwordnetbigrams: \n",
    "        matchedbigrams.append(w)\n",
    "pd.Series.value_counts(matchedbigrams)\n",
    "\n",
    "# put it all together and stopword out ambiguous words\n",
    "ambiguouswords = ['can', 'john', 'toilet', 'bath', 'well', 'keep', 'head', 'hold', 'convenience', 'snug', 'study', 'walk in', 'lounge']\n",
    "finallist = []\n",
    "allcontrolledvocab = matchedwords + matchedbigrams  \n",
    "for v in allcontrolledvocab:\n",
    "    if v not in ambiguouswords:\n",
    "        finallist.append(v)\n",
    "finalcount = pd.Series.value_counts(finallist)\n",
    "\n",
    "#######\n",
    "# a well-labeled barplot\n",
    "plt.figure(figsize = (10, 10)) # make it medium and square\n",
    "plt.barh(finalcount.index, finalcount) # tell the barplot what to put on the x and y axes. This time we're using 'barh' for a horizontal bar plot.\n",
    "plt.xticks(rotation=90) # this tells Python to 'rotate' the labels on the x axis so that the words fit on the screen\n",
    "plt.savefig('bar.png') # this line tells Python to save a copy in your digital-history folder\n",
    "plt.ylabel('Word') # label\n",
    "plt.xlabel('Count') # label\n",
    "plt.suptitle('Words for Domestic Spaces in Jane Austen') #This line labels the title\n",
    "plt.gca().invert_yaxis() # reverse the order of the y axis\n",
    "plt.savefig('austen-spaces.png', dpi = 300) # save the figure in your folder\n",
    "plt.show() # display the figure below"
   ]
  },
  {
   "cell_type": "markdown",
   "metadata": {},
   "source": [
    "# Assignment "
   ]
  },
  {
   "cell_type": "markdown",
   "metadata": {},
   "source": [
    "*To be turned in on Canvas*"
   ]
  },
  {
   "cell_type": "markdown",
   "metadata": {},
   "source": [
    "### 1) In this exercise, you will use Wordnet to compile a list of terms that can help us to explore Jane Austen's word.  \n",
    "\n",
    "Brainstorm a list of possible places where Austen's characters might go. The fireside? The dance hall? A carriage? Town? Do they see rivers? cottages? thatched huts? Do they look out of windows? Or is their world mostly one of dresses, wigs, gowns, and other ornaments? Perhaps they go to church? Perhaps family relationships are more important than places, and cousins, uncles, and daughters are really what's important?\n",
    "\n",
    "Use your thoughts as the basis for expanding your controlled vocabulary.  In this exercise, we only took the hyponyms from one synset -- room.n.01.  But you could take the hyponyms from another synset.  Alternatively, you could look for synsets that contain the word 'furniture' or 'garden.' You can use the formula Word('garden').synsets to call up the synsets for those words, and you can plug those synsets into our code to find multiple-word formulae.\n",
    "\n",
    "Once you have a synset that you think is meaningful, run it through the code that follows to produce a new list of matches in Jane Austen.  \n",
    "\n",
    "What you choose is up to you. Play with Wordnet and the code until you are able to expand from a few queries to a list of words that actually returns meaningful results when matched against the text.\n",
    "\n",
    "This assignment requires a process of exploration and trial and error."
   ]
  },
  {
   "cell_type": "markdown",
   "metadata": {},
   "source": [
    "### 2) Make a data visualization of your findings.\n",
    "\n",
    "Use the bar plot format to graph the most popular places in Jane Austen according to your research.\n",
    "\n",
    "You will want to combine the matched bigrams and matched individual words into one dataset before graphing.\n",
    "\n",
    "You will want to make sure to eliminate ambiguous words and redundancies from your results.\n",
    "\n",
    "As always, make sure it is well-labled and consistent.\n",
    "\n",
    "Embed the data visualization into a Word Document."
   ]
  },
  {
   "cell_type": "code",
   "execution_count": 97,
   "metadata": {},
   "outputs": [
    {
     "name": "stdout",
     "output_type": "stream",
     "text": [
      "park\n",
      "parkland\n",
      "park\n",
      "commons\n",
      "common\n",
      "green\n",
      "ballpark\n",
      "park\n",
      "Park\n",
      "Mungo_Park\n",
      "parking_lot\n",
      "car_park\n",
      "park\n",
      "parking_area\n",
      "park\n",
      "park\n",
      "park\n"
     ]
    }
   ],
   "source": [
    "from textblob import Word\n",
    "\n",
    "for synset in Word('park').synsets:\n",
    "    for lemma in synset.lemmas():\n",
    "        print(lemma.name())"
   ]
  },
  {
   "cell_type": "code",
   "execution_count": 100,
   "metadata": {
    "scrolled": true
   },
   "outputs": [
    {
     "name": "stdout",
     "output_type": "stream",
     "text": [
      "national_park\n",
      "safari_park\n",
      "amusement_park\n",
      "funfair\n",
      "pleasure_ground\n",
      "village_green\n",
      "used-car_lot\n",
      "angle-park\n",
      "double-park\n",
      "parallel-park\n"
     ]
    }
   ],
   "source": [
    "for synset in Word('park').synsets:\n",
    "    for s in synset.hyponyms():\n",
    "        for lemma in s.lemmas():\n",
    "            print(lemma.name())"
   ]
  },
  {
   "cell_type": "markdown",
   "metadata": {},
   "source": [
    "In a later problem set, you will also do some interpretive:\n",
    "\n",
    "### 3) Write an interpretive paragraph of at least five sentences making some observations about the world of Jane Austen on the basis of your research. \n",
    "\n",
    "Where appropriate, refer to the data visualization you have made as a source of evidence. Talk about as many words in the visualization as you can.\n",
    "\n",
    "Where appropriate, use the text of Jane Austen's novels to elucidate the meaning of words whose implications are unclear to you.  Look up in-text mentions of the places you found. \n",
    "\n",
    "  * Sense and Sensibility: https://www.gutenberg.org/files/161/161-h/161-h.htm\n",
    "  * Pride and Prejudice: https://www.gutenberg.org/ebooks/1342\n",
    "  * Emma: https://www.gutenberg.org/files/158/158-h/158-h.htm \n",
    "  \n",
    "Make a well-supported arguments.\n",
    "\n",
    "Offset phrases and words found in the text with quotation marks. Use footnotes to tell us where each direct quotation is from.\n"
   ]
  },
  {
   "cell_type": "markdown",
   "metadata": {},
   "source": [
    "### Help where help is needed"
   ]
  },
  {
   "cell_type": "markdown",
   "metadata": {},
   "source": [
    "If you're finding yourself confused about the code and how to follow directions at this point, bear in mind that we're moving very quickly through the introduction to Python. You might need to slow down and revisit some of the \"optional\" notebooks that we mentioned in Weeks 1-2.  Here they are again:\n",
    "\n",
    "- lists : https://github.com/laurenfklein/emory-qtm340/blob/master/notebooks/lists.ipynb\n",
    "- for loops : https://problemsolvingwithpython.com/09-Loops/09.01-For-Loops/\n",
    "- expressions and strings :  https://github.com/laurenfklein/emory-qtm340/blob/master/notebooks/expressions-and-strings.ipynb\n",
    "- dictionaries, sets, tuples: https://github.com/laurenfklein/emory-qtm340/blob/master/notebooks/dictionaries-sets-tuples.ipynb\n",
    "- counting things: https://github.com/laurenfklein/emory-qtm340/blob/master/notebooks/counting.ipynb\n",
    "\n",
    "Remember that SMU expects you to be spending around 6 hours every week on your homework for this class.  Don't be afraid to keep tweaking the code until it works -- or reaching out on Slack if you need encouragement from others.  \n",
    "\n",
    "Also, please bear in mind that everyone who learns how to code ultimately does so through a lot of trial and error.  Try typing in code and running it. When you run into trouble, you can google your problems and find stack overflow results or blog entries that match your problem and suggest solutions.  The more you try, the faster you will master code.  \n",
    "\n",
    "Don't give up!  Keep trying things until you feel like you're getting it! \n",
    "\n"
   ]
  }
 ],
 "metadata": {
  "kernelspec": {
   "display_name": "Python 3",
   "language": "python",
   "name": "python3"
  },
  "language_info": {
   "codemirror_mode": {
    "name": "ipython",
    "version": 3
   },
   "file_extension": ".py",
   "mimetype": "text/x-python",
   "name": "python",
   "nbconvert_exporter": "python",
   "pygments_lexer": "ipython3",
   "version": "3.6.7"
  }
 },
 "nbformat": 4,
 "nbformat_minor": 4
}
