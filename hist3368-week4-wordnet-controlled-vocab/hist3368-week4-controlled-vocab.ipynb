{
 "cells": [
  {
   "cell_type": "markdown",
   "metadata": {},
   "source": [
    "For citation information, please see the \"Source Information\" section listed in the associated README file: https://github.com/stephbuon/digital-history/tree/master/hist3368-week4-wordnet-controlled-vocab/"
   ]
  },
  {
   "cell_type": "markdown",
   "metadata": {},
   "source": [
    "# Week 4 Assignment: Working With a Controlled Vocabulary"
   ]
  },
  {
   "cell_type": "markdown",
   "metadata": {},
   "source": [
    "In an earlier notebook we saw that the phrases \"the world\" and \"the house\" were particularly prevalent in Jane Austen's novels. How might we go about investigating how Austen imagined those realms?  One way might be to use a controlled vocabulary of words semantically linked to the landscape and the house to investigate how Austen talks about the surroundings of her characters."
   ]
  },
  {
   "cell_type": "markdown",
   "metadata": {},
   "source": [
    "In this notebook, we'll be working with a 'controlled vocabulary,' which is to say, expert-defined words that help to limit our pursuit of wordcount to words that share a certain semantic valence.  Controlled Vocabularies have been used in digital history to examine the history of words used by Victorian people to describe the way that strangers walked down the street, and to show that novelists in the nineteenth century described the urban landscape with increasing detail.  \n",
    "\n",
    "First, we'll download some novels by Jane Austen to try our vocabulary on.  Then, we'll talk about how to clean the text using stemming and lemmatization.  \n",
    "\n",
    "Next, we'll use a controlled vocabulary to limit the count to words that are interesting to us.  Then, we'll expand that controlled vocabulary using the 'hyponym' feature of the WordNet package, which consults with dictionaries of the English language organized by linguists at Princeton.  \n",
    "\n",
    "Finally, we'll visualize our findings.\n"
   ]
  },
  {
   "cell_type": "markdown",
   "metadata": {},
   "source": [
    "## Download some Jane Austen Novels"
   ]
  },
  {
   "cell_type": "code",
   "execution_count": 2,
   "metadata": {},
   "outputs": [
    {
     "name": "stdout",
     "output_type": "stream",
     "text": [
      "/scratch/group/history/hist_3368-jguldi\n"
     ]
    }
   ],
   "source": [
    "cd /scratch/group/history/hist_3368-jguldi"
   ]
  },
  {
   "cell_type": "code",
   "execution_count": 42,
   "metadata": {},
   "outputs": [],
   "source": [
    "import nltk, numpy, re, matplotlib\n",
    "\n",
    "\n",
    "\n",
    "with open('senseandsensibility.txt', 'r') as myfile:\n",
    "    sas_data = myfile.read().split('\\n\\n\"I suppose you know, ma\\'am, that Mr. Ferrars is married\"\\n\\nIt _was_ Edward\\n\\n\"Everything in such respectable condition\"\\n\\n ')[1].split('THE END')[0].strip()\n",
    "\n",
    "with open('emma.txt', 'r') as myfile:\n",
    "    emma_data = myfile.read().split('CHAPTER I')[1].split('FINIS')[0].strip()\n",
    "\n",
    "with open('prideandprejudice.txt', 'r') as myfile:\n",
    "    pap_data = myfile.read().split('CHAPTER I')[1].split('End of the Project Gutenberg EBook of Pride and Prejudice, by Jane Austen')[0].strip()\n",
    "\n",
    "# combine into a list\n",
    "data = [sas_data, emma_data, pap_data]\n"
   ]
  },
  {
   "cell_type": "markdown",
   "metadata": {},
   "source": [
    "Remember that in our last notebook we decided that we would apply an extra cleaning step to replace all hyphens in the historic text with spaces, so that a search for \"boarding house\" wouldn't miss \"boarding-house\"."
   ]
  },
  {
   "cell_type": "code",
   "execution_count": 58,
   "metadata": {},
   "outputs": [],
   "source": [
    "for novel in data:\n",
    "    v = novel.replace('-', ' ')"
   ]
  },
  {
   "cell_type": "markdown",
   "metadata": {},
   "source": [
    "We can now continue witht he normal cleaning steps"
   ]
  },
  {
   "cell_type": "code",
   "execution_count": 62,
   "metadata": {},
   "outputs": [
    {
     "data": {
      "text/plain": [
       "['chapter',\n",
       " 'i',\n",
       " 'the',\n",
       " 'family',\n",
       " 'of',\n",
       " 'dashwood',\n",
       " 'had',\n",
       " 'long',\n",
       " 'been',\n",
       " 'settled',\n",
       " 'in',\n",
       " 'sussex',\n",
       " 'their',\n",
       " 'estate',\n",
       " 'was',\n",
       " 'large',\n",
       " 'and',\n",
       " 'their',\n",
       " 'residence',\n",
       " 'was']"
      ]
     },
     "execution_count": 62,
     "metadata": {},
     "output_type": "execute_result"
    }
   ],
   "source": [
    "# remove whitespace characters\n",
    "for i in range(len(data)):\n",
    "    data[i] = data[i].replace('\\n', ' ')\n",
    "\n",
    "# lowercase and strip punctuation\n",
    "import re\n",
    "\n",
    "for i in range(len(data)):\n",
    "    # data[i] is the current novel\n",
    "    data[i] = data[i].lower() # force to lowercase\n",
    "    data[i] = re.sub('[\\\",.;:?([)\\]_*]', '', data[i]) # remove punctuation and special characters with regular expression\n",
    "\n",
    "cleanaustenwords = []\n",
    "\n",
    "for novel in data:\n",
    "    words = novel.split()\n",
    "    for word in words:\n",
    "        cleanaustenwords.append(word)\n",
    "        \n",
    "cleanaustenwords[:20]"
   ]
  },
  {
   "cell_type": "markdown",
   "metadata": {},
   "source": [
    "When working with a controlled vocabulary, we don't need to stopword, so we'll skip that step."
   ]
  },
  {
   "cell_type": "markdown",
   "metadata": {},
   "source": [
    "# Controlled Vocabulary"
   ]
  },
  {
   "cell_type": "markdown",
   "metadata": {},
   "source": [
    "Let's look for what scholars call a \"controlled vocabulary\" -- a list of words that we know to be meaningful. For right now, let's pretend that we're researching the buildings, landscape, and furniture of nineteenth-century England.  I'm curious about what kinds of spaces are described in Austen, and I'd like to begin by counting them."
   ]
  },
  {
   "cell_type": "code",
   "execution_count": 63,
   "metadata": {},
   "outputs": [],
   "source": [
    "controlled_vocab = [\n",
    "    \"garden\",\n",
    "    \"room\", \n",
    "    \"estate\",\n",
    "    \"manor\", \n",
    "    \"hedge\", \n",
    "    \"residence\",\n",
    "    \"park\",\n",
    "    \"lane\",\n",
    "    \"chair\",\n",
    "    \"sofa\",\n",
    "    \"settee\",\n",
    "    \"bed\",\n",
    "    \"bedroom\",\n",
    "    \"chaise\",\n",
    "    \"table\",\n",
    "    \"rug\",\n",
    "    \"carpet\",\n",
    "    \"candelabra\",\n",
    "    \"shed\",\n",
    "    \"cottage\",\n",
    "    \"fence\",\n",
    "    \"turret\",\n",
    "    \"castle\",\n",
    "    \"palace\",\n",
    "    \"hut\",\n",
    "    \"dwelling\"\n",
    "]"
   ]
  },
  {
   "cell_type": "code",
   "execution_count": 64,
   "metadata": {},
   "outputs": [
    {
     "data": {
      "text/plain": [
       "room         97\n",
       "cottage      56\n",
       "park         51\n",
       "bed          25\n",
       "table        23\n",
       "estate       19\n",
       "garden       11\n",
       "chair         9\n",
       "residence     7\n",
       "chaise        6\n",
       "dwelling      6\n",
       "shed          3\n",
       "lane          3\n",
       "bedroom       1\n",
       "sofa          1\n",
       "manor         1\n",
       "rug           1\n",
       "dtype: int64"
      ]
     },
     "execution_count": 64,
     "metadata": {},
     "output_type": "execute_result"
    }
   ],
   "source": [
    "import pandas as pd\n",
    "\n",
    "controlled_words = []\n",
    "\n",
    "words = data[0].split()\n",
    "\n",
    "for w in words:\n",
    "    if w in controlled_vocab:\n",
    "        controlled_words.append(w)\n",
    "\n",
    "pd.Series.value_counts(controlled_words)"
   ]
  },
  {
   "cell_type": "markdown",
   "metadata": {},
   "source": [
    "That's okay for \"room\" -- with 97 hits -- but it doesn't seem like my list of vocabulary was very accurate; most of the words I chose have fewer than ten appearances.  \n",
    "\n",
    "It also occurs to me that I might not be thinking clearly about all the kinds of furniture, buildings, and other structures that might make up the Georgian landscape.  Fortunately, linguists have compiled many dictionaries that can help us to navigate the semantic universe with greater position.  One of these dictionaries is \"Wordnet,\" the fruit of a long-term research undertaking at Princeton. "
   ]
  },
  {
   "cell_type": "markdown",
   "metadata": {},
   "source": [
    "# Expanded Controlled Vocabulary with Wordnet"
   ]
  },
  {
   "cell_type": "markdown",
   "metadata": {},
   "source": [
    "In an earlier notebook, we saw that we could use the Wordnet package to generate a list of semantically-connected words."
   ]
  },
  {
   "cell_type": "code",
   "execution_count": 86,
   "metadata": {},
   "outputs": [
    {
     "data": {
      "text/plain": [
       "['anechoic chamber',\n",
       " 'anteroom',\n",
       " 'antechamber',\n",
       " 'entrance hall',\n",
       " 'foyer',\n",
       " 'lobby',\n",
       " 'vestibule',\n",
       " 'back room',\n",
       " 'ballroom',\n",
       " 'dance hall',\n",
       " 'dance palace',\n",
       " 'barroom',\n",
       " 'bar',\n",
       " 'saloon',\n",
       " 'ginmill',\n",
       " 'taproom',\n",
       " 'bathroom',\n",
       " 'bath',\n",
       " 'bedroom',\n",
       " 'sleeping room',\n",
       " 'sleeping accommodation',\n",
       " 'chamber',\n",
       " 'bedchamber',\n",
       " 'belfry',\n",
       " 'billiard room',\n",
       " 'billiard saloon',\n",
       " 'billiard parlor',\n",
       " 'billiard parlour',\n",
       " 'billiard hall',\n",
       " 'boardroom',\n",
       " 'council chamber',\n",
       " 'cardroom',\n",
       " 'cell',\n",
       " 'cubicle',\n",
       " 'jail cell',\n",
       " 'prison cell',\n",
       " 'checkroom',\n",
       " 'left luggage office',\n",
       " 'classroom',\n",
       " 'schoolroom',\n",
       " 'clean room',\n",
       " 'white room',\n",
       " 'cloakroom',\n",
       " 'coatroom',\n",
       " 'closet',\n",
       " 'clubroom',\n",
       " 'compartment',\n",
       " 'conference room',\n",
       " 'control room',\n",
       " 'courtroom',\n",
       " 'cubby',\n",
       " 'cubbyhole',\n",
       " 'snuggery',\n",
       " 'snug',\n",
       " 'cutting room',\n",
       " 'darkroom',\n",
       " 'den',\n",
       " 'dinette',\n",
       " 'dining room',\n",
       " 'dining room',\n",
       " 'door',\n",
       " 'dressing room',\n",
       " 'durbar',\n",
       " 'engineering',\n",
       " 'engine room',\n",
       " 'floor',\n",
       " 'trading floor',\n",
       " 'furnace room',\n",
       " 'gallery',\n",
       " 'art gallery',\n",
       " 'picture gallery',\n",
       " 'greenroom',\n",
       " 'guardroom',\n",
       " 'hospital room',\n",
       " 'kitchen',\n",
       " 'library',\n",
       " 'living room',\n",
       " 'living room',\n",
       " 'sitting room',\n",
       " 'front room',\n",
       " 'parlor',\n",
       " 'parlour',\n",
       " 'locker room',\n",
       " 'lounge',\n",
       " 'waiting room',\n",
       " 'waiting area',\n",
       " 'manor hall',\n",
       " 'poolroom',\n",
       " 'presence chamber',\n",
       " 'rathole',\n",
       " 'reading room',\n",
       " 'reception room',\n",
       " 'recreation room',\n",
       " 'rec room',\n",
       " 'rotunda',\n",
       " 'scriptorium',\n",
       " 'scullery',\n",
       " 'sewing room',\n",
       " 'shipping room',\n",
       " 'shower room',\n",
       " 'sickbay',\n",
       " 'sick berth',\n",
       " 'sickroom',\n",
       " 'smoking room',\n",
       " 'squad room',\n",
       " 'steam bath',\n",
       " 'steam room',\n",
       " 'vapor bath',\n",
       " 'vapour bath',\n",
       " 'storeroom',\n",
       " 'storage room',\n",
       " 'stowage',\n",
       " 'study',\n",
       " 'sun parlor',\n",
       " 'sun parlour',\n",
       " 'sun porch',\n",
       " 'sunporch',\n",
       " 'sunroom',\n",
       " 'sun lounge',\n",
       " 'solarium',\n",
       " 'surgery',\n",
       " 'television room',\n",
       " 'tv room',\n",
       " 'test room',\n",
       " 'testing room',\n",
       " 'toilet',\n",
       " 'lavatory',\n",
       " 'lav',\n",
       " 'can',\n",
       " 'john',\n",
       " 'privy',\n",
       " 'torture chamber',\n",
       " 'vestry',\n",
       " 'sacristy',\n",
       " 'walk in',\n",
       " 'war room',\n",
       " 'workroom',\n",
       " 'narthex',\n",
       " 'disco',\n",
       " 'discotheque',\n",
       " 'barrelhouse',\n",
       " 'honky tonk',\n",
       " 'cocktail lounge',\n",
       " 'sawdust saloon',\n",
       " 'speakeasy',\n",
       " 'boudoir',\n",
       " \"child's room\",\n",
       " 'dormitory',\n",
       " 'dormitory room',\n",
       " 'dorm room',\n",
       " 'guestroom',\n",
       " 'hotel room',\n",
       " 'master bedroom',\n",
       " 'motel room',\n",
       " 'divan',\n",
       " 'diwan',\n",
       " 'bullpen',\n",
       " 'detention cell',\n",
       " 'detention centre',\n",
       " 'cooler',\n",
       " 'tank',\n",
       " 'dungeon',\n",
       " 'hold',\n",
       " 'keep',\n",
       " 'sweatbox',\n",
       " 'home room',\n",
       " 'homeroom',\n",
       " 'lecture room',\n",
       " 'study hall',\n",
       " 'laminar flow clean room',\n",
       " 'booth',\n",
       " 'stall',\n",
       " 'kiosk',\n",
       " 'bay',\n",
       " 'box',\n",
       " 'loge',\n",
       " 'cab',\n",
       " 'cabin',\n",
       " 'cabinet',\n",
       " 'locker',\n",
       " 'storage locker',\n",
       " 'cable car',\n",
       " 'car',\n",
       " 'gondola',\n",
       " 'elevator car',\n",
       " 'cockpit',\n",
       " 'couchette',\n",
       " 'drawing room',\n",
       " 'glove compartment',\n",
       " 'luggage compartment',\n",
       " 'automobile trunk',\n",
       " 'trunk',\n",
       " 'module',\n",
       " 'pilothouse',\n",
       " 'wheelhouse',\n",
       " 'roomette',\n",
       " 'well',\n",
       " 'dining hall',\n",
       " 'mess',\n",
       " 'mess hall',\n",
       " 'triclinium',\n",
       " 'salon',\n",
       " 'beer hall',\n",
       " 'concert hall',\n",
       " 'exhibition hall',\n",
       " 'exhibition area',\n",
       " 'great hall',\n",
       " 'emergency room',\n",
       " 'ER',\n",
       " 'operating room',\n",
       " 'OR',\n",
       " 'operating theater',\n",
       " 'operating theatre',\n",
       " 'recovery room',\n",
       " 'galley',\n",
       " \"ship's galley\",\n",
       " 'caboose',\n",
       " 'cookhouse',\n",
       " 'kitchenette',\n",
       " 'common room',\n",
       " 'morning room',\n",
       " 'departure lounge',\n",
       " 'newsroom',\n",
       " 'withdrawing room',\n",
       " 'canteen',\n",
       " 'family room',\n",
       " 'rumpus room',\n",
       " 'playroom',\n",
       " 'game room',\n",
       " 'sauna',\n",
       " 'sweat room',\n",
       " 'Turkish bath',\n",
       " 'chandlery',\n",
       " 'lumber room',\n",
       " 'pantry',\n",
       " 'larder',\n",
       " 'buttery',\n",
       " 'stockroom',\n",
       " 'stock room',\n",
       " 'strongroom',\n",
       " 'head',\n",
       " 'public toilet',\n",
       " 'comfort station',\n",
       " 'public convenience',\n",
       " 'convenience',\n",
       " 'public lavatory',\n",
       " 'restroom',\n",
       " 'toilet facility',\n",
       " 'wash room',\n",
       " 'washroom',\n",
       " 'water closet',\n",
       " 'W.C.',\n",
       " 'loo']"
      ]
     },
     "execution_count": 86,
     "metadata": {},
     "output_type": "execute_result"
    }
   ],
   "source": [
    "from textblob import Word\n",
    "from nltk.corpus import wordnet as wn\n",
    "\n",
    "mysynlist = wn.synset('room.n.01')\n",
    "\n",
    "# get the hyponyms\n",
    "hyposynlist = mysynlist.hyponyms()\n",
    "\n",
    "# get the hyponyms of the hyponyms\n",
    "finer_syns = [] # create an empty list\n",
    " \n",
    "for syn in hyposynlist: # loop through all the synsets\n",
    "    myhyponyms = syn.hyponyms()\n",
    "    for h in myhyponyms:\n",
    "        finer_syns.append(h)\n",
    "  \n",
    "# get the lemmas for everything so far\n",
    "housinglemmas = [] # create an empty list\n",
    "for syn in hyposynlist:\n",
    "    for l in syn.lemmas():\n",
    "        if l.name() not in housinglemmas: # check for uniqueness\n",
    "            housinglemmas.append(l.name())\n",
    "\n",
    "for syn in finer_syns:\n",
    "    for l in syn.lemmas():\n",
    "         if l.name() not in housinglemmas: # check for uniqueness\n",
    "            housinglemmas.append(l.name())\n",
    "\n",
    "# remove ambiguous words\n",
    "housinglemmas2 = []\n",
    "\n",
    "for word in housinglemmas:\n",
    "    if word not in ['hall', 'court']:\n",
    "        housinglemmas2.append(word)\n",
    "\n",
    "housinglemmas2[:15]\n",
    "\n",
    "# replace hyphens and underscores with spaces\n",
    "cleanwordnetwords = []\n",
    "\n",
    "for word in housinglemmas2:\n",
    "    v = word.replace('-', ' ')\n",
    "    v = v.replace('_', ' ') \n",
    "    cleanwordnetwords.append(str(v))\n",
    "    \n",
    "cleanwordnetwords"
   ]
  },
  {
   "cell_type": "markdown",
   "metadata": {},
   "source": [
    "Not all of these words will be useful for mining Jane Austen, who is notorious for having few frat houses in her books. But she might have some cottages or castles, and this list is much longer than mine!"
   ]
  },
  {
   "cell_type": "markdown",
   "metadata": {},
   "source": [
    "## Find the controlled wordnet vocabulary in Jane Austen"
   ]
  },
  {
   "cell_type": "markdown",
   "metadata": {},
   "source": [
    "Next, let's run a \"for\" loop similar to those we've seen before to search for the words in *cleanwordnetwords* that also appear in Jane Austen novels.  As you'll recall, we have a master list of Austen words called \"cleanaustenwords.\""
   ]
  },
  {
   "cell_type": "markdown",
   "metadata": {},
   "source": [
    "First, let's demonstrate how **not** to do it, using the operator \"in.\""
   ]
  },
  {
   "cell_type": "code",
   "execution_count": 87,
   "metadata": {
    "scrolled": true
   },
   "outputs": [
    {
     "data": {
      "text/plain": [
       "operating theater          12344\n",
       "operating theatre          12341\n",
       "toilet facility            10186\n",
       "public lavatory             9611\n",
       "withdrawing room            9064\n",
       "dormitory room              8782\n",
       "dormitory                   8685\n",
       "automobile trunk            8396\n",
       "torture chamber             8317\n",
       "living room                 8282\n",
       "dining room                 8222\n",
       "waiting area                8208\n",
       "discotheque                 8110\n",
       "left luggage office         8064\n",
       "waiting room                8058\n",
       "sleeping accommodation      7739\n",
       "elevator car                7586\n",
       "lavatory                    7586\n",
       "narthex                     7480\n",
       "comfort station             7435\n",
       "exhibition hall             7319\n",
       "operating room              7115\n",
       "laminar flow clean room     6891\n",
       "exhibition area             6889\n",
       "storage room                6854\n",
       "dining hall                 6852\n",
       "storage locker              6770\n",
       "scriptorium                 6588\n",
       "trading floor               6533\n",
       "stowage                     6397\n",
       "dtype: int64"
      ]
     },
     "execution_count": 87,
     "metadata": {},
     "output_type": "execute_result"
    }
   ],
   "source": [
    "matchedwords = []\n",
    "\n",
    "for w in cleanaustenwords:\n",
    "    for v in cleanwordnetwords: \n",
    "        if w in v:\n",
    "            matchedwords.append(v)\n",
    "\n",
    "pd.Series.value_counts(matchedwords)[:30]"
   ]
  },
  {
   "cell_type": "markdown",
   "metadata": {},
   "source": [
    "Hmm, I'm not sure that's right.  There shouldn't be so many solar houses or log cabins in Jane Austen.  \n",
    "\n",
    "What might have gone wrong?  The problem is 'in.'  By using this code:\n",
    "\n",
    "        if w in v\n",
    "\n",
    "-- we counted every word in Jane Austen that has one of the words in cleanwordnetwords inside it.  Thus the word \"bed\" appears 57 times in Jane Austen, and the phrase bed-and-breakfast appears in cleanwordnetwords.  The computer counted 57 bed-and-breakfasts in Jane Austen. That's just wrong!\n",
    "\n",
    "You can only catch errors of this kind if you're thinking (a) about the code and (b) about the history.\n",
    "\n",
    "How can we tweak the code above to be more accurate?  "
   ]
  },
  {
   "cell_type": "markdown",
   "metadata": {},
   "source": [
    "### Accurately searching for matches of single words with '==' \n",
    "\n",
    "The answer involves finding a perfect match. \n",
    "\n",
    "Last time, we saw how to search for a match using re.compile() and .match.(). That's one way you could do it.\n",
    "\n",
    "This time, we'll use another formulation that does the same thing. The formula \"if a==b\".  This formula latter searches for cases where a is an exact match for b."
   ]
  },
  {
   "cell_type": "code",
   "execution_count": 88,
   "metadata": {
    "scrolled": true
   },
   "outputs": [
    {
     "data": {
      "text/plain": [
       "can            212\n",
       "well           210\n",
       "john           148\n",
       "door            38\n",
       "head            36\n",
       "keep            32\n",
       "hold            13\n",
       "parlour         11\n",
       "convenience      5\n",
       "study            3\n",
       "snug             3\n",
       "library          3\n",
       "kitchen          2\n",
       "bath             2\n",
       "chamber          2\n",
       "lobby            2\n",
       "bedroom          1\n",
       "floor            1\n",
       "vestibule        1\n",
       "closet           1\n",
       "toilet           1\n",
       "dtype: int64"
      ]
     },
     "execution_count": 88,
     "metadata": {},
     "output_type": "execute_result"
    }
   ],
   "source": [
    "matchedwords = []\n",
    "\n",
    "for w in cleanaustenwords:\n",
    "    for v in cleanwordnetwords: \n",
    "        if w == v: # notice what I changed in this line\n",
    "            matchedwords.append(v)\n",
    "matchedwords\n",
    "pd.Series.value_counts(matchedwords)"
   ]
  },
  {
   "cell_type": "markdown",
   "metadata": {},
   "source": [
    "Some of these words are false positives.  The words \"can,\" \"well,\" \"john,\" \"head,\" \"keep,\" and so forth have too many meanings to tell us about Jane Austen.  I'm also wary of 'toilet,' which in nineteenth-century English probably refers to the practice of grooming rather than to a room in the house.\n",
    "\n",
    "Let's stopword our list based on our own understanding of which words are meaningful, i.e., unambiguously about our research subject, Jane Austen's world."
   ]
  },
  {
   "cell_type": "code",
   "execution_count": 121,
   "metadata": {},
   "outputs": [
    {
     "data": {
      "text/plain": [
       "door         38\n",
       "parlour      11\n",
       "library       3\n",
       "bath          2\n",
       "kitchen       2\n",
       "lobby         2\n",
       "chamber       2\n",
       "closet        1\n",
       "bedroom       1\n",
       "vestibule     1\n",
       "dtype: int64"
      ]
     },
     "execution_count": 121,
     "metadata": {},
     "output_type": "execute_result"
    }
   ],
   "source": [
    "ambiguouswords = ['can', 'head', 'well', 'toilet', 'john', 'keep', 'hold', 'study', 'convenience', 'snug', 'floor']\n",
    "\n",
    "matchedwords = []\n",
    "\n",
    "for w in cleanaustenwords:\n",
    "    for v in cleanwordnetwords: \n",
    "        if w == v: \n",
    "            if v not in ambiguouswords:\n",
    "                matchedwords.append(v)\n",
    "matchedwords\n",
    "pd.Series.value_counts(matchedwords)"
   ]
  },
  {
   "cell_type": "markdown",
   "metadata": {},
   "source": [
    "That's much better. We can begin to interpret it.\n",
    "\n",
    " * In Jane Austen's world, the 'doors' separating inside from outside have particular meaning. We might speculate that doors suggest privacy, but we'd need in-text mentions to understand why she invokes them so often.\n",
    " * The 'parlour' is also important as a meeting place where the family received company.  We'd also want to read a few mentions and perhaps some plot summaries of her novels to understand who is being received in parlours and why there are so many of them.\n",
    " * More humble spaces like the bath, closet, and bedroom are mentioned with extreme infrequency.\n"
   ]
  },
  {
   "cell_type": "markdown",
   "metadata": {},
   "source": [
    "\n",
    "## Bigrams\n",
    "\n",
    "\n",
    "We still aren't getting all the information.\n",
    "\n",
    "The variable *cleanaustenwords* contains strings that are one-word long. \n",
    "\n",
    "We're matching it with *cleanwordnetwords* -- which includes such two-word phrases such as \"terraced house.\" \n",
    "\n",
    "Those two-word phrases aren't getting accurately matched. \n",
    "\n",
    "We need bigrams.\n",
    "\n",
    "\n",
    "\n",
    "\n",
    "\n",
    "\n",
    "Remember that in an earlier exercise we learned how to find all the bigrams in Jane Austen.\n",
    "\n"
   ]
  },
  {
   "cell_type": "code",
   "execution_count": 100,
   "metadata": {},
   "outputs": [
    {
     "data": {
      "text/plain": [
       "['chapter i',\n",
       " 'i the',\n",
       " 'the family',\n",
       " 'family of',\n",
       " 'of dashwood',\n",
       " 'dashwood had',\n",
       " 'had long',\n",
       " 'long been',\n",
       " 'been settled',\n",
       " 'settled in',\n",
       " 'in sussex',\n",
       " 'sussex their',\n",
       " 'their estate',\n",
       " 'estate was',\n",
       " 'was large']"
      ]
     },
     "execution_count": 100,
     "metadata": {},
     "output_type": "execute_result"
    }
   ],
   "source": [
    "from textblob import TextBlob\n",
    "\n",
    "bigrams = TextBlob(data[0]).ngrams(n=2)\n",
    "\n",
    "austenbigramlist = [] # create an empty list which we will fill in with the following loop:\n",
    "\n",
    "for bigram in bigrams: # move through each line of the *bigrams* list\n",
    "    bigram2 = bigram[0] + ' ' + bigram[1] # call the first word, a space, and the second word into a new string\n",
    "    austenbigramlist.append(bigram2) # save the string \n",
    "austenbigramlist[:15]"
   ]
  },
  {
   "cell_type": "markdown",
   "metadata": {},
   "source": [
    "Let's write a loop to find just the multiword phrases in our wordnet words.  We'll search for the presence of a space (' ').  Then we'll save those words with spaces as the new variable, *cleanwordnetbigrams*.\n",
    "\n",
    "Just to be sure we're getting everything, we can also add back a version of word that has the space removed, so that our search will look for \"bedroom\" as well as \"bed room.\" "
   ]
  },
  {
   "cell_type": "code",
   "execution_count": 104,
   "metadata": {},
   "outputs": [
    {
     "data": {
      "text/plain": [
       "['anechoic chamber',\n",
       " 'anechoicchamber',\n",
       " 'entrance hall',\n",
       " 'entrancehall',\n",
       " 'back room',\n",
       " 'backroom',\n",
       " 'dance hall',\n",
       " 'dancehall',\n",
       " 'dance palace',\n",
       " 'dancepalace',\n",
       " 'sleeping room',\n",
       " 'sleepingroom',\n",
       " 'sleeping accommodation',\n",
       " 'sleepingaccommodation',\n",
       " 'billiard room',\n",
       " 'billiardroom',\n",
       " 'billiard saloon',\n",
       " 'billiardsaloon',\n",
       " 'billiard parlor',\n",
       " 'billiardparlor',\n",
       " 'billiard parlour',\n",
       " 'billiardparlour',\n",
       " 'billiard hall',\n",
       " 'billiardhall',\n",
       " 'council chamber',\n",
       " 'councilchamber',\n",
       " 'jail cell',\n",
       " 'jailcell',\n",
       " 'prison cell',\n",
       " 'prisoncell',\n",
       " 'left luggage office',\n",
       " 'leftluggageoffice',\n",
       " 'clean room',\n",
       " 'cleanroom',\n",
       " 'white room',\n",
       " 'whiteroom',\n",
       " 'conference room',\n",
       " 'conferenceroom',\n",
       " 'control room',\n",
       " 'controlroom',\n",
       " 'cutting room',\n",
       " 'cuttingroom',\n",
       " 'dining room',\n",
       " 'diningroom',\n",
       " 'dining room',\n",
       " 'diningroom',\n",
       " 'dressing room',\n",
       " 'dressingroom',\n",
       " 'engine room',\n",
       " 'engineroom',\n",
       " 'trading floor',\n",
       " 'tradingfloor',\n",
       " 'furnace room',\n",
       " 'furnaceroom',\n",
       " 'art gallery',\n",
       " 'artgallery',\n",
       " 'picture gallery',\n",
       " 'picturegallery',\n",
       " 'hospital room',\n",
       " 'hospitalroom',\n",
       " 'living room',\n",
       " 'livingroom',\n",
       " 'living room',\n",
       " 'livingroom',\n",
       " 'sitting room',\n",
       " 'sittingroom',\n",
       " 'front room',\n",
       " 'frontroom',\n",
       " 'locker room',\n",
       " 'lockerroom',\n",
       " 'waiting room',\n",
       " 'waitingroom',\n",
       " 'waiting area',\n",
       " 'waitingarea',\n",
       " 'manor hall',\n",
       " 'manorhall',\n",
       " 'presence chamber',\n",
       " 'presencechamber',\n",
       " 'reading room',\n",
       " 'readingroom',\n",
       " 'reception room',\n",
       " 'receptionroom',\n",
       " 'recreation room',\n",
       " 'recreationroom',\n",
       " 'rec room',\n",
       " 'recroom',\n",
       " 'sewing room',\n",
       " 'sewingroom',\n",
       " 'shipping room',\n",
       " 'shippingroom',\n",
       " 'shower room',\n",
       " 'showerroom',\n",
       " 'sick berth',\n",
       " 'sickberth',\n",
       " 'smoking room',\n",
       " 'smokingroom',\n",
       " 'squad room',\n",
       " 'squadroom',\n",
       " 'steam bath',\n",
       " 'steambath',\n",
       " 'steam room',\n",
       " 'steamroom',\n",
       " 'vapor bath',\n",
       " 'vaporbath',\n",
       " 'vapour bath',\n",
       " 'vapourbath',\n",
       " 'storage room',\n",
       " 'storageroom',\n",
       " 'sun parlor',\n",
       " 'sunparlor',\n",
       " 'sun parlour',\n",
       " 'sunparlour',\n",
       " 'sun porch',\n",
       " 'sunporch',\n",
       " 'sun lounge',\n",
       " 'sunlounge',\n",
       " 'television room',\n",
       " 'televisionroom',\n",
       " 'tv room',\n",
       " 'tvroom',\n",
       " 'test room',\n",
       " 'testroom',\n",
       " 'testing room',\n",
       " 'testingroom',\n",
       " 'torture chamber',\n",
       " 'torturechamber',\n",
       " 'walk in',\n",
       " 'walkin',\n",
       " 'war room',\n",
       " 'warroom',\n",
       " 'honky tonk',\n",
       " 'honkytonk',\n",
       " 'cocktail lounge',\n",
       " 'cocktaillounge',\n",
       " 'sawdust saloon',\n",
       " 'sawdustsaloon',\n",
       " \"child's room\",\n",
       " \"child'sroom\",\n",
       " 'dormitory room',\n",
       " 'dormitoryroom',\n",
       " 'dorm room',\n",
       " 'dormroom',\n",
       " 'hotel room',\n",
       " 'hotelroom',\n",
       " 'master bedroom',\n",
       " 'masterbedroom',\n",
       " 'motel room',\n",
       " 'motelroom',\n",
       " 'detention cell',\n",
       " 'detentioncell',\n",
       " 'detention centre',\n",
       " 'detentioncentre',\n",
       " 'home room',\n",
       " 'homeroom',\n",
       " 'lecture room',\n",
       " 'lectureroom',\n",
       " 'study hall',\n",
       " 'studyhall',\n",
       " 'laminar flow clean room',\n",
       " 'laminarflowcleanroom',\n",
       " 'storage locker',\n",
       " 'storagelocker',\n",
       " 'cable car',\n",
       " 'cablecar',\n",
       " 'elevator car',\n",
       " 'elevatorcar',\n",
       " 'drawing room',\n",
       " 'drawingroom',\n",
       " 'glove compartment',\n",
       " 'glovecompartment',\n",
       " 'luggage compartment',\n",
       " 'luggagecompartment',\n",
       " 'automobile trunk',\n",
       " 'automobiletrunk',\n",
       " 'dining hall',\n",
       " 'dininghall',\n",
       " 'mess hall',\n",
       " 'messhall',\n",
       " 'beer hall',\n",
       " 'beerhall',\n",
       " 'concert hall',\n",
       " 'concerthall',\n",
       " 'exhibition hall',\n",
       " 'exhibitionhall',\n",
       " 'exhibition area',\n",
       " 'exhibitionarea',\n",
       " 'great hall',\n",
       " 'greathall',\n",
       " 'emergency room',\n",
       " 'emergencyroom',\n",
       " 'operating room',\n",
       " 'operatingroom',\n",
       " 'operating theater',\n",
       " 'operatingtheater',\n",
       " 'operating theatre',\n",
       " 'operatingtheatre',\n",
       " 'recovery room',\n",
       " 'recoveryroom',\n",
       " \"ship's galley\",\n",
       " \"ship'sgalley\",\n",
       " 'common room',\n",
       " 'commonroom',\n",
       " 'morning room',\n",
       " 'morningroom',\n",
       " 'departure lounge',\n",
       " 'departurelounge',\n",
       " 'withdrawing room',\n",
       " 'withdrawingroom',\n",
       " 'family room',\n",
       " 'familyroom',\n",
       " 'rumpus room',\n",
       " 'rumpusroom',\n",
       " 'game room',\n",
       " 'gameroom',\n",
       " 'sweat room',\n",
       " 'sweatroom',\n",
       " 'Turkish bath',\n",
       " 'Turkishbath',\n",
       " 'lumber room',\n",
       " 'lumberroom',\n",
       " 'stock room',\n",
       " 'stockroom',\n",
       " 'public toilet',\n",
       " 'publictoilet',\n",
       " 'comfort station',\n",
       " 'comfortstation',\n",
       " 'public convenience',\n",
       " 'publicconvenience',\n",
       " 'public lavatory',\n",
       " 'publiclavatory',\n",
       " 'toilet facility',\n",
       " 'toiletfacility',\n",
       " 'wash room',\n",
       " 'washroom',\n",
       " 'water closet',\n",
       " 'watercloset']"
      ]
     },
     "execution_count": 104,
     "metadata": {},
     "output_type": "execute_result"
    }
   ],
   "source": [
    "cleanwordnetbigrams = []\n",
    "for vocab in cleanwordnetwords:\n",
    "    if \" \" in vocab:\n",
    "        cleanwordnetbigrams.append(vocab)\n",
    "        cleanwordnetbigrams.append(vocab.replace(' ', ''))\n",
    "\n",
    "cleanwordnetbigrams"
   ]
  },
  {
   "cell_type": "markdown",
   "metadata": {},
   "source": [
    "Here's the loop to match the bigrams in austen -- from *austenbigramlist* -- with the multi-word phrases in cleanwordnetwords -- from _cleanwordnetbigrams_."
   ]
  },
  {
   "cell_type": "code",
   "execution_count": 105,
   "metadata": {
    "scrolled": true
   },
   "outputs": [
    {
     "data": {
      "text/plain": [
       "drawing room     5\n",
       "dining room      4\n",
       "sitting room     3\n",
       "billiard room    1\n",
       "walk in          1\n",
       "dtype: int64"
      ]
     },
     "execution_count": 105,
     "metadata": {},
     "output_type": "execute_result"
    }
   ],
   "source": [
    "matchedbigrams = []\n",
    "\n",
    "for w in austenbigramlist:\n",
    "    for v in cleanwordnetbigrams: \n",
    "        if w == v: # notice what I changed in this line\n",
    "            matchedbigrams.append(v)\n",
    "\n",
    "pd.Series.value_counts(matchedbigrams)"
   ]
  },
  {
   "cell_type": "code",
   "execution_count": null,
   "metadata": {},
   "outputs": [],
   "source": []
  },
  {
   "cell_type": "markdown",
   "metadata": {},
   "source": [
    "Again we can begin an interpretation from these findings.\n",
    "\n",
    "  * Mainly, Austen invokes public spaces of great estates where the sexes would mingle -- the drawing room, dining room, and sitting room are places where both women and men would convene.  \n",
    "  * The billiard room would be a place mainly for men.\n",
    "  * Notably, we still see far less of the places reserved for women -- like bed rooms -- or for servants, like cottages or kitchens.  \n",
    "\n",
    "Our controlled vocabulary search has successfully illuminated the world of Jane Austen."
   ]
  },
  {
   "cell_type": "markdown",
   "metadata": {},
   "source": [
    "# Assignment "
   ]
  },
  {
   "cell_type": "markdown",
   "metadata": {},
   "source": [
    "*To be turned in on Canvas*"
   ]
  },
  {
   "cell_type": "markdown",
   "metadata": {},
   "source": [
    "### 1) In this exercise, you will use Wordnet to compile a list of terms that can help us to explore Jane Austen's word.  \n",
    "\n",
    "Brainstorm a list of possible places where Austen's characters might go. The fireside? The dance hall? A carriage? Town? Do they see rivers? cottages? thatched huts? Do they look out of windows? Or is their world mostly one of dresses, wigs, gowns, and other ornaments? Perhaps they go to church? Perhaps family relationships are more important than places, and cousins, uncles, and daughters are really what's important?\n",
    "\n",
    "Use your thoughts as the basis for expanding your controlled vocabulary.  In this exercise, we only took the hyponyms from one synset -- room.n.01.  But you could take the hyponyms from another synset.  Alternatively, you could look for synsets that contain the word 'furniture' or 'garden.' You can use the formula Word('garden').synsets to call up the synsets for those words, and you can plug those synsets into our code to find multiple-word formulae.\n",
    "\n",
    "Once you have a synset that you think is meaningful, run it through the code that follows to produce a new list of matches in Jane Austen.  \n",
    "\n",
    "What you choose is up to you. Play with Wordnet and the code until you are able to expand from a few queries to a list of words that actually returns meaningful results when matched against the text.\n",
    "\n",
    "This assignment requires a process of exploration and trial and error."
   ]
  },
  {
   "cell_type": "markdown",
   "metadata": {},
   "source": [
    "### 2) Make a data visualization of your findings.\n",
    "\n",
    "Use the bar plot format to graph the most popular places in Jane Austen according to your research.\n",
    "\n",
    "You will want to combine the matched bigrams and matched individual words into one dataset before graphing.\n",
    "\n",
    "You will want to make sure to eliminate ambiguous words and redundancies from your results.\n",
    "\n",
    "As always, make sure it is well-labled and consistent.\n",
    "\n",
    "Embed the data visualization into a Word Document."
   ]
  },
  {
   "cell_type": "code",
   "execution_count": 147,
   "metadata": {},
   "outputs": [
    {
     "name": "stdout",
     "output_type": "stream",
     "text": [
      "park\n",
      "parkland\n",
      "park\n",
      "commons\n",
      "common\n",
      "green\n",
      "ballpark\n",
      "park\n",
      "Park\n",
      "Mungo_Park\n",
      "parking_lot\n",
      "car_park\n",
      "park\n",
      "parking_area\n",
      "park\n",
      "park\n",
      "park\n"
     ]
    }
   ],
   "source": [
    "for synset in Word('park').synsets:\n",
    "    for lemma in synset.lemmas():\n",
    "        print(lemma.name())"
   ]
  },
  {
   "cell_type": "code",
   "execution_count": 150,
   "metadata": {
    "scrolled": true
   },
   "outputs": [
    {
     "name": "stdout",
     "output_type": "stream",
     "text": [
      "national_park\n",
      "safari_park\n",
      "amusement_park\n",
      "funfair\n",
      "pleasure_ground\n",
      "village_green\n",
      "used-car_lot\n",
      "angle-park\n",
      "double-park\n",
      "parallel-park\n"
     ]
    }
   ],
   "source": [
    "for synset in Word('park').synsets:\n",
    "    for s in synset.hyponyms():\n",
    "        for lemma in s.lemmas():\n",
    "            print(lemma.name())"
   ]
  },
  {
   "cell_type": "markdown",
   "metadata": {},
   "source": [
    "### 2) Write an interpretive paragraph of at least five sentences making some observations about the built landscape of England at the time of Jane Austen. \n",
    "\n",
    "Where appropriate, refer to the data visualization you have made as a source of evidence. Talk about as many words in the visualization as you can.\n",
    "\n",
    "Where appropriate, use the text of Jane Austen's novels to elucidate the meaning of words whose implications are unclear to you.  Look up in-text mentions of the places you found. \n",
    "\n",
    "  * Sense and Sensibility: https://www.gutenberg.org/files/161/161-h/161-h.htm\n",
    "  * Pride and Prejudice: https://www.gutenberg.org/ebooks/1342\n",
    "  * Emma: https://www.gutenberg.org/files/158/158-h/158-h.htm \n",
    "  \n",
    "Make a well-supported arguments.\n",
    "\n",
    "Offset phrases and words found in the text with quotation marks. Use footnotes to tell us where each direct quotation is from.\n"
   ]
  },
  {
   "cell_type": "markdown",
   "metadata": {},
   "source": [
    "### Help where help is needed"
   ]
  },
  {
   "cell_type": "markdown",
   "metadata": {},
   "source": [
    "If you're finding yourself confused about the code and how to follow directions at this point, bear in mind that we're moving very quickly through the introduction to Python. You might need to slow down and revisit some of the \"optional\" notebooks that we mentioned in Weeks 1-2.  Here they are again:\n",
    "\n",
    "- lists : https://github.com/laurenfklein/emory-qtm340/blob/master/notebooks/lists.ipynb\n",
    "- for loops : https://problemsolvingwithpython.com/09-Loops/09.01-For-Loops/\n",
    "- expressions and strings :  https://github.com/laurenfklein/emory-qtm340/blob/master/notebooks/expressions-and-strings.ipynb\n",
    "- dictionaries, sets, tuples: https://github.com/laurenfklein/emory-qtm340/blob/master/notebooks/dictionaries-sets-tuples.ipynb\n",
    "- counting things: https://github.com/laurenfklein/emory-qtm340/blob/master/notebooks/counting.ipynb\n",
    "\n",
    "Remember that SMU expects you to be spending around 6 hours every week on your homework for this class.  Don't be afraid to keep tweaking the code until it works -- or reaching out on Slack if you need encouragement from others.  \n",
    "\n",
    "Also, please bear in mind that everyone who learns how to code ultimately does so through a lot of trial and error.  Try typing in code and running it. When you run into trouble, you can google your problems and find stack overflow results or blog entries that match your problem and suggest solutions.  The more you try, the faster you will master code.  \n",
    "\n",
    "Don't give up!  Keep trying things until you feel like you're getting it! \n",
    "\n"
   ]
  }
 ],
 "metadata": {
  "kernelspec": {
   "display_name": "Python 3",
   "language": "python",
   "name": "python3"
  },
  "language_info": {
   "codemirror_mode": {
    "name": "ipython",
    "version": 3
   },
   "file_extension": ".py",
   "mimetype": "text/x-python",
   "name": "python",
   "nbconvert_exporter": "python",
   "pygments_lexer": "ipython3",
   "version": "3.6.7"
  }
 },
 "nbformat": 4,
 "nbformat_minor": 4
}
