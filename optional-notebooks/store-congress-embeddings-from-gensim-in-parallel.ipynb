{
 "cells": [
  {
   "cell_type": "code",
   "execution_count": null,
   "metadata": {},
   "outputs": [],
   "source": []
  },
  {
   "cell_type": "markdown",
   "metadata": {},
   "source": [
    "# Parallelization with Word Context Vectors"
   ]
  },
  {
   "cell_type": "markdown",
   "metadata": {},
   "source": [
    "#### By Jo Guldi - 11/2021"
   ]
  },
  {
   "cell_type": "markdown",
   "metadata": {},
   "source": [
    "Workhorse script to download the Congressional testimony, produce a 5-yr word2vec model for showing change over time, run in parallel"
   ]
  },
  {
   "cell_type": "markdown",
   "metadata": {},
   "source": [
    "## Setup"
   ]
  },
  {
   "cell_type": "code",
   "execution_count": 20,
   "metadata": {},
   "outputs": [],
   "source": [
    "import multiprocessing\n",
    "from multiprocessing import Pool"
   ]
  },
  {
   "cell_type": "code",
   "execution_count": 21,
   "metadata": {},
   "outputs": [
    {
     "name": "stdout",
     "output_type": "stream",
     "text": [
      "24\n"
     ]
    }
   ],
   "source": [
    "startdate = 1870\n",
    "enddate = 2010\n",
    "n = multiprocessing.cpu_count()\n",
    "print(multiprocessing.cpu_count())"
   ]
  },
  {
   "cell_type": "code",
   "execution_count": 22,
   "metadata": {},
   "outputs": [],
   "source": [
    "def parallelize_operation(df, func, n_cores = n):\n",
    "    df_split = np.array_split(df, n_cores)\n",
    "    pool = Pool(n)\n",
    "    df = pd.concat(pool.map(func, df_split))\n",
    "    pool.close()\n",
    "    pool.join()\n",
    "    return df"
   ]
  },
  {
   "cell_type": "markdown",
   "metadata": {},
   "source": [
    "## Loading data"
   ]
  },
  {
   "cell_type": "code",
   "execution_count": 23,
   "metadata": {},
   "outputs": [],
   "source": [
    "import pandas as pd\n",
    "import gensim \n",
    "import csv\n",
    "import glob\n",
    "import numpy as np\n",
    "import multiprocessing\n",
    "from sklearn.feature_extraction.text import CountVectorizer\n",
    "import scipy.spatial.distance\n",
    "import matplotlib\n",
    "import matplotlib.pyplot as plt\n",
    "import itertools\n",
    "from nltk.tokenize import sent_tokenize\n",
    "from nltk.tokenize.treebank import TreebankWordTokenizer\n",
    "#!pip install wordsegment --user\n",
    "from wordsegment import load, segment, clean\n",
    "import string\n",
    "load()\n",
    "import re"
   ]
  },
  {
   "cell_type": "markdown",
   "metadata": {},
   "source": [
    "The following lines load some data from Congress. "
   ]
  },
  {
   "cell_type": "code",
   "execution_count": 24,
   "metadata": {
    "id": "6qCg0mXrtOD1",
    "outputId": "4ecca950-9419-4b8d-96fc-aa5fbb1426f5"
   },
   "outputs": [
    {
     "name": "stdout",
     "output_type": "stream",
     "text": [
      "Reading /scratch/group/oit_research_data/stanford_congress/hein-bound/speeches_043.txt...\n",
      "Reading /scratch/group/oit_research_data/stanford_congress/hein-bound/speeches_044.txt...\n",
      "Reading /scratch/group/oit_research_data/stanford_congress/hein-bound/speeches_045.txt...\n",
      "Reading /scratch/group/oit_research_data/stanford_congress/hein-bound/speeches_046.txt...\n",
      "Reading /scratch/group/oit_research_data/stanford_congress/hein-bound/speeches_047.txt...\n",
      "Reading /scratch/group/oit_research_data/stanford_congress/hein-bound/speeches_048.txt...\n",
      "Reading /scratch/group/oit_research_data/stanford_congress/hein-bound/speeches_049.txt...\n",
      "Reading /scratch/group/oit_research_data/stanford_congress/hein-bound/speeches_050.txt...\n",
      "Reading /scratch/group/oit_research_data/stanford_congress/hein-bound/speeches_051.txt...\n",
      "Reading /scratch/group/oit_research_data/stanford_congress/hein-bound/speeches_052.txt...\n",
      "Reading /scratch/group/oit_research_data/stanford_congress/hein-bound/speeches_053.txt...\n",
      "Reading /scratch/group/oit_research_data/stanford_congress/hein-bound/speeches_054.txt...\n",
      "Reading /scratch/group/oit_research_data/stanford_congress/hein-bound/speeches_055.txt...\n",
      "Reading /scratch/group/oit_research_data/stanford_congress/hein-bound/speeches_056.txt...\n",
      "Reading /scratch/group/oit_research_data/stanford_congress/hein-bound/speeches_057.txt...\n",
      "Reading /scratch/group/oit_research_data/stanford_congress/hein-bound/speeches_058.txt...\n",
      "Reading /scratch/group/oit_research_data/stanford_congress/hein-bound/speeches_059.txt...\n",
      "Reading /scratch/group/oit_research_data/stanford_congress/hein-bound/speeches_060.txt...\n",
      "Reading /scratch/group/oit_research_data/stanford_congress/hein-bound/speeches_061.txt...\n",
      "Reading /scratch/group/oit_research_data/stanford_congress/hein-bound/speeches_062.txt...\n",
      "Reading /scratch/group/oit_research_data/stanford_congress/hein-bound/speeches_063.txt...\n",
      "Reading /scratch/group/oit_research_data/stanford_congress/hein-bound/speeches_064.txt...\n",
      "Reading /scratch/group/oit_research_data/stanford_congress/hein-bound/speeches_065.txt...\n",
      "Reading /scratch/group/oit_research_data/stanford_congress/hein-bound/speeches_066.txt...\n",
      "Reading /scratch/group/oit_research_data/stanford_congress/hein-bound/speeches_067.txt...\n",
      "Reading /scratch/group/oit_research_data/stanford_congress/hein-bound/speeches_068.txt...\n",
      "Reading /scratch/group/oit_research_data/stanford_congress/hein-bound/speeches_069.txt...\n",
      "Reading /scratch/group/oit_research_data/stanford_congress/hein-bound/speeches_070.txt...\n",
      "Reading /scratch/group/oit_research_data/stanford_congress/hein-bound/speeches_071.txt...\n",
      "Reading /scratch/group/oit_research_data/stanford_congress/hein-bound/speeches_072.txt...\n",
      "Reading /scratch/group/oit_research_data/stanford_congress/hein-bound/speeches_073.txt...\n",
      "Reading /scratch/group/oit_research_data/stanford_congress/hein-bound/speeches_074.txt...\n",
      "Reading /scratch/group/oit_research_data/stanford_congress/hein-bound/speeches_075.txt...\n",
      "Reading /scratch/group/oit_research_data/stanford_congress/hein-bound/speeches_076.txt...\n",
      "Reading /scratch/group/oit_research_data/stanford_congress/hein-bound/speeches_077.txt...\n",
      "Reading /scratch/group/oit_research_data/stanford_congress/hein-bound/speeches_078.txt...\n",
      "Reading /scratch/group/oit_research_data/stanford_congress/hein-bound/speeches_079.txt...\n",
      "Reading /scratch/group/oit_research_data/stanford_congress/hein-bound/speeches_080.txt...\n",
      "Reading /scratch/group/oit_research_data/stanford_congress/hein-bound/speeches_081.txt...\n",
      "Reading /scratch/group/oit_research_data/stanford_congress/hein-bound/speeches_082.txt...\n",
      "Reading /scratch/group/oit_research_data/stanford_congress/hein-bound/speeches_083.txt...\n",
      "Reading /scratch/group/oit_research_data/stanford_congress/hein-bound/speeches_084.txt...\n",
      "Reading /scratch/group/oit_research_data/stanford_congress/hein-bound/speeches_085.txt...\n",
      "Reading /scratch/group/oit_research_data/stanford_congress/hein-bound/speeches_086.txt...\n",
      "Reading /scratch/group/oit_research_data/stanford_congress/hein-bound/speeches_087.txt...\n",
      "Reading /scratch/group/oit_research_data/stanford_congress/hein-bound/speeches_088.txt...\n",
      "Reading /scratch/group/oit_research_data/stanford_congress/hein-bound/speeches_089.txt...\n",
      "Reading /scratch/group/oit_research_data/stanford_congress/hein-bound/speeches_090.txt...\n",
      "Reading /scratch/group/oit_research_data/stanford_congress/hein-bound/speeches_091.txt...\n",
      "Reading /scratch/group/oit_research_data/stanford_congress/hein-bound/speeches_092.txt...\n",
      "Reading /scratch/group/oit_research_data/stanford_congress/hein-bound/speeches_093.txt...\n",
      "Reading /scratch/group/oit_research_data/stanford_congress/hein-bound/speeches_094.txt...\n",
      "Reading /scratch/group/oit_research_data/stanford_congress/hein-bound/speeches_095.txt...\n",
      "Reading /scratch/group/oit_research_data/stanford_congress/hein-bound/speeches_096.txt...\n",
      "Reading /scratch/group/oit_research_data/stanford_congress/hein-bound/speeches_097.txt...\n",
      "Reading /scratch/group/oit_research_data/stanford_congress/hein-bound/speeches_098.txt...\n",
      "Reading /scratch/group/oit_research_data/stanford_congress/hein-bound/speeches_099.txt...\n",
      "Reading /scratch/group/oit_research_data/stanford_congress/hein-bound/speeches_100.txt...\n",
      "Reading /scratch/group/oit_research_data/stanford_congress/hein-bound/speeches_101.txt...\n",
      "Reading /scratch/group/oit_research_data/stanford_congress/hein-bound/speeches_102.txt...\n",
      "Reading /scratch/group/oit_research_data/stanford_congress/hein-bound/speeches_103.txt...\n",
      "Reading /scratch/group/oit_research_data/stanford_congress/hein-bound/speeches_104.txt...\n",
      "Reading /scratch/group/oit_research_data/stanford_congress/hein-bound/speeches_105.txt...\n",
      "Reading /scratch/group/oit_research_data/stanford_congress/hein-bound/speeches_106.txt...\n",
      "Reading /scratch/group/oit_research_data/stanford_congress/hein-bound/speeches_107.txt...\n",
      "Reading /scratch/group/oit_research_data/stanford_congress/hein-bound/speeches_108.txt...\n",
      "Reading /scratch/group/oit_research_data/stanford_congress/hein-bound/speeches_109.txt...\n",
      "Reading /scratch/group/oit_research_data/stanford_congress/hein-bound/speeches_110.txt...\n",
      "Reading /scratch/group/oit_research_data/stanford_congress/hein-bound/speeches_111.txt...\n",
      "Reading /scratch/group/oit_research_data/stanford_congress/hein-bound/descr_043.txt...\n",
      "Reading /scratch/group/oit_research_data/stanford_congress/hein-bound/descr_044.txt...\n",
      "Reading /scratch/group/oit_research_data/stanford_congress/hein-bound/descr_045.txt...\n",
      "Reading /scratch/group/oit_research_data/stanford_congress/hein-bound/descr_046.txt...\n",
      "Reading /scratch/group/oit_research_data/stanford_congress/hein-bound/descr_047.txt...\n",
      "Reading /scratch/group/oit_research_data/stanford_congress/hein-bound/descr_048.txt...\n",
      "Reading /scratch/group/oit_research_data/stanford_congress/hein-bound/descr_049.txt...\n",
      "Reading /scratch/group/oit_research_data/stanford_congress/hein-bound/descr_050.txt...\n",
      "Reading /scratch/group/oit_research_data/stanford_congress/hein-bound/descr_051.txt...\n",
      "Reading /scratch/group/oit_research_data/stanford_congress/hein-bound/descr_052.txt...\n",
      "Reading /scratch/group/oit_research_data/stanford_congress/hein-bound/descr_053.txt...\n",
      "Reading /scratch/group/oit_research_data/stanford_congress/hein-bound/descr_054.txt...\n",
      "Reading /scratch/group/oit_research_data/stanford_congress/hein-bound/descr_055.txt...\n",
      "Reading /scratch/group/oit_research_data/stanford_congress/hein-bound/descr_056.txt...\n",
      "Reading /scratch/group/oit_research_data/stanford_congress/hein-bound/descr_057.txt...\n",
      "Reading /scratch/group/oit_research_data/stanford_congress/hein-bound/descr_058.txt...\n",
      "Reading /scratch/group/oit_research_data/stanford_congress/hein-bound/descr_059.txt...\n",
      "Reading /scratch/group/oit_research_data/stanford_congress/hein-bound/descr_060.txt...\n",
      "Reading /scratch/group/oit_research_data/stanford_congress/hein-bound/descr_061.txt...\n",
      "Reading /scratch/group/oit_research_data/stanford_congress/hein-bound/descr_062.txt...\n",
      "Reading /scratch/group/oit_research_data/stanford_congress/hein-bound/descr_063.txt...\n",
      "Reading /scratch/group/oit_research_data/stanford_congress/hein-bound/descr_064.txt...\n",
      "Reading /scratch/group/oit_research_data/stanford_congress/hein-bound/descr_065.txt...\n",
      "Reading /scratch/group/oit_research_data/stanford_congress/hein-bound/descr_066.txt...\n",
      "Reading /scratch/group/oit_research_data/stanford_congress/hein-bound/descr_067.txt...\n",
      "Reading /scratch/group/oit_research_data/stanford_congress/hein-bound/descr_068.txt...\n",
      "Reading /scratch/group/oit_research_data/stanford_congress/hein-bound/descr_069.txt...\n",
      "Reading /scratch/group/oit_research_data/stanford_congress/hein-bound/descr_070.txt...\n",
      "Reading /scratch/group/oit_research_data/stanford_congress/hein-bound/descr_071.txt...\n",
      "Reading /scratch/group/oit_research_data/stanford_congress/hein-bound/descr_072.txt...\n",
      "Reading /scratch/group/oit_research_data/stanford_congress/hein-bound/descr_073.txt...\n",
      "Reading /scratch/group/oit_research_data/stanford_congress/hein-bound/descr_074.txt...\n",
      "Reading /scratch/group/oit_research_data/stanford_congress/hein-bound/descr_075.txt...\n",
      "Reading /scratch/group/oit_research_data/stanford_congress/hein-bound/descr_076.txt...\n",
      "Reading /scratch/group/oit_research_data/stanford_congress/hein-bound/descr_077.txt...\n",
      "Reading /scratch/group/oit_research_data/stanford_congress/hein-bound/descr_078.txt...\n",
      "Reading /scratch/group/oit_research_data/stanford_congress/hein-bound/descr_079.txt...\n",
      "Reading /scratch/group/oit_research_data/stanford_congress/hein-bound/descr_080.txt...\n",
      "Reading /scratch/group/oit_research_data/stanford_congress/hein-bound/descr_081.txt...\n",
      "Reading /scratch/group/oit_research_data/stanford_congress/hein-bound/descr_082.txt...\n",
      "Reading /scratch/group/oit_research_data/stanford_congress/hein-bound/descr_083.txt...\n",
      "Reading /scratch/group/oit_research_data/stanford_congress/hein-bound/descr_084.txt...\n",
      "Reading /scratch/group/oit_research_data/stanford_congress/hein-bound/descr_085.txt...\n",
      "Reading /scratch/group/oit_research_data/stanford_congress/hein-bound/descr_086.txt...\n",
      "Reading /scratch/group/oit_research_data/stanford_congress/hein-bound/descr_087.txt...\n",
      "Reading /scratch/group/oit_research_data/stanford_congress/hein-bound/descr_088.txt...\n",
      "Reading /scratch/group/oit_research_data/stanford_congress/hein-bound/descr_089.txt...\n",
      "Reading /scratch/group/oit_research_data/stanford_congress/hein-bound/descr_090.txt...\n",
      "Reading /scratch/group/oit_research_data/stanford_congress/hein-bound/descr_091.txt...\n",
      "Reading /scratch/group/oit_research_data/stanford_congress/hein-bound/descr_092.txt...\n",
      "Reading /scratch/group/oit_research_data/stanford_congress/hein-bound/descr_093.txt...\n",
      "Reading /scratch/group/oit_research_data/stanford_congress/hein-bound/descr_094.txt...\n",
      "Reading /scratch/group/oit_research_data/stanford_congress/hein-bound/descr_095.txt...\n",
      "Reading /scratch/group/oit_research_data/stanford_congress/hein-bound/descr_096.txt...\n",
      "Reading /scratch/group/oit_research_data/stanford_congress/hein-bound/descr_097.txt...\n",
      "Reading /scratch/group/oit_research_data/stanford_congress/hein-bound/descr_098.txt...\n",
      "Reading /scratch/group/oit_research_data/stanford_congress/hein-bound/descr_099.txt...\n",
      "Reading /scratch/group/oit_research_data/stanford_congress/hein-bound/descr_100.txt...\n",
      "Reading /scratch/group/oit_research_data/stanford_congress/hein-bound/descr_101.txt...\n",
      "Reading /scratch/group/oit_research_data/stanford_congress/hein-bound/descr_102.txt...\n",
      "Reading /scratch/group/oit_research_data/stanford_congress/hein-bound/descr_103.txt...\n",
      "Reading /scratch/group/oit_research_data/stanford_congress/hein-bound/descr_104.txt...\n",
      "Reading /scratch/group/oit_research_data/stanford_congress/hein-bound/descr_105.txt...\n",
      "Reading /scratch/group/oit_research_data/stanford_congress/hein-bound/descr_106.txt...\n",
      "Reading /scratch/group/oit_research_data/stanford_congress/hein-bound/descr_107.txt...\n",
      "Reading /scratch/group/oit_research_data/stanford_congress/hein-bound/descr_108.txt...\n",
      "Reading /scratch/group/oit_research_data/stanford_congress/hein-bound/descr_109.txt...\n",
      "Reading /scratch/group/oit_research_data/stanford_congress/hein-bound/descr_110.txt...\n",
      "Reading /scratch/group/oit_research_data/stanford_congress/hein-bound/descr_111.txt...\n"
     ]
    },
    {
     "data": {
      "text/html": [
       "<div>\n",
       "<style scoped>\n",
       "    .dataframe tbody tr th:only-of-type {\n",
       "        vertical-align: middle;\n",
       "    }\n",
       "\n",
       "    .dataframe tbody tr th {\n",
       "        vertical-align: top;\n",
       "    }\n",
       "\n",
       "    .dataframe thead th {\n",
       "        text-align: right;\n",
       "    }\n",
       "</style>\n",
       "<table border=\"1\" class=\"dataframe\">\n",
       "  <thead>\n",
       "    <tr style=\"text-align: right;\">\n",
       "      <th></th>\n",
       "      <th>speech</th>\n",
       "      <th>5yrperiod</th>\n",
       "      <th>index</th>\n",
       "    </tr>\n",
       "  </thead>\n",
       "  <tbody>\n",
       "    <tr>\n",
       "      <th>0</th>\n",
       "      <td>The Secretary will read the names of the newly...</td>\n",
       "      <td>1870.0</td>\n",
       "      <td>0</td>\n",
       "    </tr>\n",
       "    <tr>\n",
       "      <th>1</th>\n",
       "      <td>said: Mr. President. owing to some inadvertenc...</td>\n",
       "      <td>1870.0</td>\n",
       "      <td>1</td>\n",
       "    </tr>\n",
       "    <tr>\n",
       "      <th>2</th>\n",
       "      <td>The question is on the motion of the Senator f...</td>\n",
       "      <td>1870.0</td>\n",
       "      <td>2</td>\n",
       "    </tr>\n",
       "    <tr>\n",
       "      <th>3</th>\n",
       "      <td>The order of proceedings will now be formed. f...</td>\n",
       "      <td>1870.0</td>\n",
       "      <td>3</td>\n",
       "    </tr>\n",
       "    <tr>\n",
       "      <th>4</th>\n",
       "      <td>of the United States. the PRESIDENTELEcT. The ...</td>\n",
       "      <td>1870.0</td>\n",
       "      <td>4</td>\n",
       "    </tr>\n",
       "  </tbody>\n",
       "</table>\n",
       "</div>"
      ],
      "text/plain": [
       "                                              speech  5yrperiod  index\n",
       "0  The Secretary will read the names of the newly...     1870.0      0\n",
       "1  said: Mr. President. owing to some inadvertenc...     1870.0      1\n",
       "2  The question is on the motion of the Senator f...     1870.0      2\n",
       "3  The order of proceedings will now be formed. f...     1870.0      3\n",
       "4  of the United States. the PRESIDENTELEcT. The ...     1870.0      4"
      ]
     },
     "execution_count": 24,
     "metadata": {},
     "output_type": "execute_result"
    }
   ],
   "source": [
    "all_speech_files = glob.glob('/scratch/group/oit_research_data/stanford_congress/hein-bound/speeches_*.txt')\n",
    "CONGRESS_MIN_THRESHOLD = 1\n",
    "CONGRESS_MAX_THRESHOLD = 115\n",
    "\n",
    "speech_files = []\n",
    "\n",
    "for fn in all_speech_files:\n",
    "    number = int(fn.rsplit('_', 1)[-1].split('.')[0])\n",
    "    if CONGRESS_MIN_THRESHOLD <= number <= CONGRESS_MAX_THRESHOLD:\n",
    "        speech_files.append(fn)\n",
    "\n",
    "speech_files.sort()\n",
    "        \n",
    "def parse_one(fn):\n",
    "    print(f'Reading {fn}...')\n",
    "    return pd.read_csv(fn, sep='|', encoding=\"ISO-8859-1\", error_bad_lines=False, warn_bad_lines=False, quoting=csv.QUOTE_NONE)\n",
    "\n",
    "speeches_df = pd.concat((parse_one(fn) for fn in speech_files))\n",
    "speeches_df.dropna(how='any', inplace=True)\n",
    "\n",
    "all_description_files = glob.glob('/scratch/group/oit_research_data/stanford_congress/hein-bound/descr_*.txt')\n",
    "                                  \n",
    "description_files = []\n",
    "\n",
    "for fn in all_description_files:\n",
    "    number = int(fn.rsplit('_', 1)[-1].split('.')[0])\n",
    "    if CONGRESS_MIN_THRESHOLD <= number <= CONGRESS_MAX_THRESHOLD:\n",
    "        description_files.append(fn)\n",
    "        description_files.sort()\n",
    "        \n",
    "description_df = pd.concat((parse_one(fn) for fn in description_files))\n",
    "\n",
    "all_data = pd.merge(speeches_df, description_df, on = 'speech_id')\n",
    "all_data.fillna(0, inplace=True)\n",
    "all_data = all_data.drop(['chamber', 'speech_id', 'number_within_file', 'speaker', 'first_name'], 1)\n",
    "all_data = all_data.drop(['last_name', 'state', 'gender', 'line_start', 'line_end', 'file', 'char_count', 'word_count'], 1)\n",
    "all_data['date']=pd.to_datetime(all_data['date'],format='%Y%m%d')\n",
    "all_data['year'] = pd.to_datetime(all_data['date']).dt.year\n",
    "all_data['5yrperiod'] = np.floor(all_data['year'] / 5) * 5 # round each year to the nearest 5 -- by dividing by 5 and \"flooring\" to the lowest integer\n",
    "all_data = all_data.drop(['date', 'year'], 1)\n",
    "all_data['index'] = np.arange(len(all_data)) # create an 'index' column\n",
    "all_data.head()"
   ]
  },
  {
   "cell_type": "code",
   "execution_count": 25,
   "metadata": {},
   "outputs": [],
   "source": [
    "sample_l = all_data.sample(50000)\n",
    "sample_m = sample_l.sample(5000)\n",
    "sample = sample_m.sample(500)"
   ]
  },
  {
   "cell_type": "code",
   "execution_count": 26,
   "metadata": {},
   "outputs": [
    {
     "data": {
      "text/html": [
       "<div>\n",
       "<style scoped>\n",
       "    .dataframe tbody tr th:only-of-type {\n",
       "        vertical-align: middle;\n",
       "    }\n",
       "\n",
       "    .dataframe tbody tr th {\n",
       "        vertical-align: top;\n",
       "    }\n",
       "\n",
       "    .dataframe thead th {\n",
       "        text-align: right;\n",
       "    }\n",
       "</style>\n",
       "<table border=\"1\" class=\"dataframe\">\n",
       "  <thead>\n",
       "    <tr style=\"text-align: right;\">\n",
       "      <th></th>\n",
       "      <th>speech</th>\n",
       "      <th>5yrperiod</th>\n",
       "      <th>index</th>\n",
       "    </tr>\n",
       "  </thead>\n",
       "  <tbody>\n",
       "    <tr>\n",
       "      <th>0</th>\n",
       "      <td>The Secretary will read the names of the newly...</td>\n",
       "      <td>1870.0</td>\n",
       "      <td>0</td>\n",
       "    </tr>\n",
       "    <tr>\n",
       "      <th>1</th>\n",
       "      <td>said: Mr. President. owing to some inadvertenc...</td>\n",
       "      <td>1870.0</td>\n",
       "      <td>1</td>\n",
       "    </tr>\n",
       "    <tr>\n",
       "      <th>2</th>\n",
       "      <td>The question is on the motion of the Senator f...</td>\n",
       "      <td>1870.0</td>\n",
       "      <td>2</td>\n",
       "    </tr>\n",
       "    <tr>\n",
       "      <th>3</th>\n",
       "      <td>The order of proceedings will now be formed. f...</td>\n",
       "      <td>1870.0</td>\n",
       "      <td>3</td>\n",
       "    </tr>\n",
       "    <tr>\n",
       "      <th>4</th>\n",
       "      <td>of the United States. the PRESIDENTELEcT. The ...</td>\n",
       "      <td>1870.0</td>\n",
       "      <td>4</td>\n",
       "    </tr>\n",
       "    <tr>\n",
       "      <th>...</th>\n",
       "      <td>...</td>\n",
       "      <td>...</td>\n",
       "      <td>...</td>\n",
       "    </tr>\n",
       "    <tr>\n",
       "      <th>17394636</th>\n",
       "      <td>Madam Speaker. on rollcall Nos. 662 and 661. I...</td>\n",
       "      <td>2010.0</td>\n",
       "      <td>17394636</td>\n",
       "    </tr>\n",
       "    <tr>\n",
       "      <th>17394637</th>\n",
       "      <td>Madam Speaker. as I leave Congress as the peop...</td>\n",
       "      <td>2010.0</td>\n",
       "      <td>17394637</td>\n",
       "    </tr>\n",
       "    <tr>\n",
       "      <th>17394638</th>\n",
       "      <td>Madam Speaker. on rolicall No. 658. I was unav...</td>\n",
       "      <td>2010.0</td>\n",
       "      <td>17394638</td>\n",
       "    </tr>\n",
       "    <tr>\n",
       "      <th>17394639</th>\n",
       "      <td>Madam Speaker. on rollcall No. 658 my flight w...</td>\n",
       "      <td>2010.0</td>\n",
       "      <td>17394639</td>\n",
       "    </tr>\n",
       "    <tr>\n",
       "      <th>17394640</th>\n",
       "      <td>Madam Speaker. I wold like to submit the follo...</td>\n",
       "      <td>2010.0</td>\n",
       "      <td>17394640</td>\n",
       "    </tr>\n",
       "  </tbody>\n",
       "</table>\n",
       "<p>17394641 rows × 3 columns</p>\n",
       "</div>"
      ],
      "text/plain": [
       "                                                     speech  5yrperiod  \\\n",
       "0         The Secretary will read the names of the newly...     1870.0   \n",
       "1         said: Mr. President. owing to some inadvertenc...     1870.0   \n",
       "2         The question is on the motion of the Senator f...     1870.0   \n",
       "3         The order of proceedings will now be formed. f...     1870.0   \n",
       "4         of the United States. the PRESIDENTELEcT. The ...     1870.0   \n",
       "...                                                     ...        ...   \n",
       "17394636  Madam Speaker. on rollcall Nos. 662 and 661. I...     2010.0   \n",
       "17394637  Madam Speaker. as I leave Congress as the peop...     2010.0   \n",
       "17394638  Madam Speaker. on rolicall No. 658. I was unav...     2010.0   \n",
       "17394639  Madam Speaker. on rollcall No. 658 my flight w...     2010.0   \n",
       "17394640  Madam Speaker. I wold like to submit the follo...     2010.0   \n",
       "\n",
       "             index  \n",
       "0                0  \n",
       "1                1  \n",
       "2                2  \n",
       "3                3  \n",
       "4                4  \n",
       "...            ...  \n",
       "17394636  17394636  \n",
       "17394637  17394637  \n",
       "17394638  17394638  \n",
       "17394639  17394639  \n",
       "17394640  17394640  \n",
       "\n",
       "[17394641 rows x 3 columns]"
      ]
     },
     "execution_count": 26,
     "metadata": {},
     "output_type": "execute_result"
    }
   ],
   "source": [
    "all_data"
   ]
  },
  {
   "cell_type": "code",
   "execution_count": 27,
   "metadata": {},
   "outputs": [
    {
     "data": {
      "text/html": [
       "<div>\n",
       "<style scoped>\n",
       "    .dataframe tbody tr th:only-of-type {\n",
       "        vertical-align: middle;\n",
       "    }\n",
       "\n",
       "    .dataframe tbody tr th {\n",
       "        vertical-align: top;\n",
       "    }\n",
       "\n",
       "    .dataframe thead th {\n",
       "        text-align: right;\n",
       "    }\n",
       "</style>\n",
       "<table border=\"1\" class=\"dataframe\">\n",
       "  <thead>\n",
       "    <tr style=\"text-align: right;\">\n",
       "      <th></th>\n",
       "      <th>speech</th>\n",
       "      <th>5yrperiod</th>\n",
       "      <th>index</th>\n",
       "    </tr>\n",
       "  </thead>\n",
       "  <tbody>\n",
       "    <tr>\n",
       "      <th>4493644</th>\n",
       "      <td>After five and onehalf hours have been consume...</td>\n",
       "      <td>1915.0</td>\n",
       "      <td>4493644</td>\n",
       "    </tr>\n",
       "    <tr>\n",
       "      <th>10129556</th>\n",
       "      <td>If this amendment is defeated and the original...</td>\n",
       "      <td>1955.0</td>\n",
       "      <td>10129556</td>\n",
       "    </tr>\n",
       "    <tr>\n",
       "      <th>15073002</th>\n",
       "      <td>I yield to the gentleman from New York.</td>\n",
       "      <td>1985.0</td>\n",
       "      <td>15073002</td>\n",
       "    </tr>\n",
       "    <tr>\n",
       "      <th>12840264</th>\n",
       "      <td>Mr. President. will the Senator yield?</td>\n",
       "      <td>1975.0</td>\n",
       "      <td>12840264</td>\n",
       "    </tr>\n",
       "    <tr>\n",
       "      <th>1675097</th>\n",
       "      <td>To be accurate. $1.38. and that saving is stil...</td>\n",
       "      <td>1890.0</td>\n",
       "      <td>1675097</td>\n",
       "    </tr>\n",
       "    <tr>\n",
       "      <th>...</th>\n",
       "      <td>...</td>\n",
       "      <td>...</td>\n",
       "      <td>...</td>\n",
       "    </tr>\n",
       "    <tr>\n",
       "      <th>15965567</th>\n",
       "      <td>Who yields time?</td>\n",
       "      <td>1995.0</td>\n",
       "      <td>15965567</td>\n",
       "    </tr>\n",
       "    <tr>\n",
       "      <th>6520483</th>\n",
       "      <td>Mr. President. I send to the desk a resolution...</td>\n",
       "      <td>1930.0</td>\n",
       "      <td>6520483</td>\n",
       "    </tr>\n",
       "    <tr>\n",
       "      <th>12467993</th>\n",
       "      <td>As the gentleman knows. while we will have pas...</td>\n",
       "      <td>1970.0</td>\n",
       "      <td>12467993</td>\n",
       "    </tr>\n",
       "    <tr>\n",
       "      <th>1610205</th>\n",
       "      <td>That offer has nevcr come to the Committee on ...</td>\n",
       "      <td>1890.0</td>\n",
       "      <td>1610205</td>\n",
       "    </tr>\n",
       "    <tr>\n",
       "      <th>1864969</th>\n",
       "      <td>I should like to ask the Senator if he has a c...</td>\n",
       "      <td>1895.0</td>\n",
       "      <td>1864969</td>\n",
       "    </tr>\n",
       "  </tbody>\n",
       "</table>\n",
       "<p>500 rows × 3 columns</p>\n",
       "</div>"
      ],
      "text/plain": [
       "                                                     speech  5yrperiod  \\\n",
       "4493644   After five and onehalf hours have been consume...     1915.0   \n",
       "10129556  If this amendment is defeated and the original...     1955.0   \n",
       "15073002            I yield to the gentleman from New York.     1985.0   \n",
       "12840264             Mr. President. will the Senator yield?     1975.0   \n",
       "1675097   To be accurate. $1.38. and that saving is stil...     1890.0   \n",
       "...                                                     ...        ...   \n",
       "15965567                                   Who yields time?     1995.0   \n",
       "6520483   Mr. President. I send to the desk a resolution...     1930.0   \n",
       "12467993  As the gentleman knows. while we will have pas...     1970.0   \n",
       "1610205   That offer has nevcr come to the Committee on ...     1890.0   \n",
       "1864969   I should like to ask the Senator if he has a c...     1895.0   \n",
       "\n",
       "             index  \n",
       "4493644    4493644  \n",
       "10129556  10129556  \n",
       "15073002  15073002  \n",
       "12840264  12840264  \n",
       "1675097    1675097  \n",
       "...            ...  \n",
       "15965567  15965567  \n",
       "6520483    6520483  \n",
       "12467993  12467993  \n",
       "1610205    1610205  \n",
       "1864969    1864969  \n",
       "\n",
       "[500 rows x 3 columns]"
      ]
     },
     "execution_count": 27,
     "metadata": {},
     "output_type": "execute_result"
    }
   ],
   "source": [
    "sample"
   ]
  },
  {
   "cell_type": "markdown",
   "metadata": {},
   "source": [
    "## Create function for cleaning & structuring the data in parallel"
   ]
  },
  {
   "cell_type": "markdown",
   "metadata": {},
   "source": [
    "In this section and the next, we will create a function, then launch that function with parallelize_operation."
   ]
  },
  {
   "cell_type": "code",
   "execution_count": 28,
   "metadata": {},
   "outputs": [],
   "source": [
    "def split_strings_into_sentences(data): # WORKING 4-16\n",
    "   \n",
    "    df = data\n",
    "    \n",
    "    # Getting s as pandas series which has split on full stop and new sentence a new line\n",
    "    s = df['speech'].str.split('.').apply(pd.Series,1).stack()\n",
    "    s.index = s.index.droplevel(-1) # to line up with df's index\n",
    "    s.name = 'sentence' # needs a name to join\n",
    "\n",
    "    del df['speech']\n",
    "    df = df.join(s)\n",
    "    del df['index']\n",
    "\n",
    "    \n",
    "    return df\n"
   ]
  },
  {
   "cell_type": "code",
   "execution_count": 29,
   "metadata": {},
   "outputs": [],
   "source": [
    "def split_sentences_into_words(data): #  works 11-12-21\n",
    "    \n",
    "    new_column = [row.split() for row in data['sentence']]\n",
    "    data['sentence'] = new_column\n",
    "    \n",
    "    return(data)"
   ]
  },
  {
   "cell_type": "code",
   "execution_count": 30,
   "metadata": {},
   "outputs": [],
   "source": [
    "# WORKING 4-17\n",
    "def cleanup(df):\n",
    "\n",
    "    df = sentences_df2.reset_index()\n",
    "    df2 = df  \n",
    "    \n",
    "    # To remove punctuation:\n",
    "    for i, sentence in enumerate(df['sentence']):\n",
    "        sentence2 = []\n",
    "        for word in sentence:\n",
    "            word2 = re.sub('\\W', '', word).lower()\n",
    "            if len(word2)>0:\n",
    "                sentence2.append(word2)\n",
    "        #df2['sentence'][index] = sentence2 #<---- ERROR HERE\n",
    "        #df2.at[index, 'sentence'] = sentence2 \n",
    "        df2.at[df2.index[i],'sentence'] = sentence2 \n",
    "        #df2['5yrperiod'][index] = df['5yrperiod'][index]\n",
    "\n",
    "        \n",
    "\n",
    "    # To remove any strings shorter than 10 words:\n",
    "    df2 = df2[\n",
    "        df2['sentence'].apply(lambda x: len(x)>10) ]\n",
    "        \n",
    "    return(df2)"
   ]
  },
  {
   "cell_type": "code",
   "execution_count": 31,
   "metadata": {},
   "outputs": [],
   "source": [
    "def structure_data(period_data):\n",
    "    sentences_df = parallelize_operation(period_data, split_strings_into_sentences) #  split speech into sentences\n",
    "    sentences_df2 = parallelize_operation(sentences_df, split_sentences_into_words) # split sentences into words\n",
    "    sentences_df3 = cleanup(sentences_df2) # cleanup punctuation and empty lines\n",
    "\n",
    "    return(sentences_df3)"
   ]
  },
  {
   "cell_type": "markdown",
   "metadata": {},
   "source": [
    "## Making GENSIM Word Embeddings for all Congress"
   ]
  },
  {
   "cell_type": "code",
   "execution_count": 46,
   "metadata": {},
   "outputs": [
    {
     "name": "stdout",
     "output_type": "stream",
     "text": [
      "/scratch/group/history/hist_3368-jguldi/congress-embeddings\n"
     ]
    }
   ],
   "source": [
    "cd '/scratch/group/history/hist_3368-jguldi/congress-embeddings'"
   ]
  },
  {
   "cell_type": "code",
   "execution_count": null,
   "metadata": {},
   "outputs": [],
   "source": [
    "#  split speech into sentences, split sentences into words, cleanup punctuation and empty lines\n",
    "structured_data = structure_data(all_data) \n",
    "    \n",
    "# make a gensim model for that data\n",
    "congress_model = gensim.models.Word2Vec( \n",
    "        sentences = structured_data['sentence'],\n",
    "        workers= n,\n",
    "        iter = 15,\n",
    "        min_count = 20, \n",
    "        size = 100)  \n",
    "    \n",
    "# save the model with the name of the period\n",
    "congress_model.save('congress_model-1870-2010') "
   ]
  },
  {
   "cell_type": "markdown",
   "metadata": {},
   "source": [
    "## Making GENSIM Word Embeddings for every 5yr period"
   ]
  },
  {
   "cell_type": "code",
   "execution_count": 17,
   "metadata": {},
   "outputs": [],
   "source": [
    "periodnames = all_data['5yrperiod'].unique().tolist()"
   ]
  },
  {
   "cell_type": "code",
   "execution_count": 45,
   "metadata": {},
   "outputs": [
    {
     "data": {
      "text/plain": [
       "[1975.0, 1980.0, 1985.0, 1990.0, 1995.0, 2000.0, 2005.0, 2010.0]"
      ]
     },
     "execution_count": 45,
     "metadata": {},
     "output_type": "execute_result"
    }
   ],
   "source": [
    "periodnames"
   ]
  },
  {
   "cell_type": "code",
   "execution_count": 40,
   "metadata": {},
   "outputs": [
    {
     "name": "stdout",
     "output_type": "stream",
     "text": [
      "/scratch/group/history/hist_3368-jguldi/congress-embeddings\n"
     ]
    }
   ],
   "source": [
    "cd '/scratch/group/history/hist_3368-jguldi/congress-embeddings'"
   ]
  },
  {
   "cell_type": "code",
   "execution_count": null,
   "metadata": {},
   "outputs": [],
   "source": [
    "keyword_context = [] # create an empty dummy variable\n",
    "\n",
    "for period1 in periodnames:\n",
    "    \n",
    "    # get just the data in the period in question\n",
    "    period_data = all_data[all_data['5yrperiod'] == period1]\n",
    "\n",
    "    #  split speech into sentences, split sentences into words, cleanup punctuation and empty lines\n",
    "    structured_data = structure_data(period_data) \n",
    "    \n",
    "    # make a gensim model for that data\n",
    "    period_model = gensim.models.Word2Vec( \n",
    "        sentences = structured_data['sentence'],\n",
    "        workers= n,\n",
    "        iter = 15,\n",
    "        min_count = 20, \n",
    "        size = 100)  \n",
    "    \n",
    "    # save the model with the name of the period\n",
    "    period_model.save('model-' + str(period1)) \n",
    "    \n",
    "    # load model for each 5 yr period - one period per cycle of the for loop\n",
    "    #period_model = gensim.models.Word2Vec.load('model-' + str(period1)) # to load a saved model\n",
    "\n",
    "    # append each period to a larger model of all congress\n",
    "    if period1 == periodnames[0]:\n",
    "        congress_model = period_model # for the first time, save period_model as congress model\n",
    "    else:    \n",
    "        congress_model.build_vocab(sentences_df3['sentence'], # after the first period, add new period data to the congress model\n",
    "                               update = True)\n",
    "        congress_model.train(sentences_df3['sentence'], total_examples=period_model.corpus_count, epochs=period_model.epochs) \n",
    "\n",
    "    # store the model with the name of the period\n",
    "    congress_model.save('congress_model-' + str(startdate) + '-' + str(enddate))        "
   ]
  },
  {
   "cell_type": "code",
   "execution_count": null,
   "metadata": {},
   "outputs": [],
   "source": []
  }
 ],
 "metadata": {
  "kernelspec": {
   "display_name": "Python 3",
   "language": "python",
   "name": "python3"
  },
  "language_info": {
   "codemirror_mode": {
    "name": "ipython",
    "version": 3
   },
   "file_extension": ".py",
   "mimetype": "text/x-python",
   "name": "python",
   "nbconvert_exporter": "python",
   "pygments_lexer": "ipython3",
   "version": "3.6.7"
  }
 },
 "nbformat": 4,
 "nbformat_minor": 4
}
