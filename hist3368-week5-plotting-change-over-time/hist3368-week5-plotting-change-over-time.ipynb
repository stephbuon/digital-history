{
 "cells": [
  {
   "cell_type": "markdown",
   "metadata": {},
   "source": [
    "For citation information, please see the \"Source Information\" section listed in the associated README file: https://github.com/stephbuon/digital-history/tree/master/hist3368-week5-plotting-change-over-time/"
   ]
  },
  {
   "cell_type": "markdown",
   "metadata": {
    "id": "-Ithk8pRtOAX"
   },
   "source": [
    "# Week 5: Working With Dates in Python"
   ]
  },
  {
   "cell_type": "markdown",
   "metadata": {
    "id": "F9wUqvumtOAc"
   },
   "source": [
    "### by Jo Guldi and Steph Buongiorno, with help from half-dozen datetime and matplotlib tutorials found in various places around the Web"
   ]
  },
  {
   "cell_type": "markdown",
   "metadata": {
    "id": "RoamC7oHtOAg"
   },
   "source": [
    "There are many reasons why a data scientist might want to understand change over time: for instance, to answer the historical question, what changed in how Congress talked over a short period of time?  Answering that question implies using word count over time. \n",
    "    \n",
    "Python treats dates (Jan 1 2020) as a discrete kind of data.  Some basic guidance can make it much easier to work with dates.  The datetime package is extremely useful for processing data. The first exercises below will lead us towards two questions:\n",
    "   * How do we work with the datetime package to format dates?\n",
    "   * How should we represent time on a graph to make it legible?\n",
    "    \n",
    "We'll use the **datetime** package, commonly abbreviated **dt**.  We'll also learn the commands:\n",
    "     \n",
    "     .to_datetime\n",
    "     dt.month\n",
    "     dt.day\n",
    "     dt.year\n",
    "     dt.to_period('M')"
   ]
  },
  {
   "cell_type": "markdown",
   "metadata": {},
   "source": [
    "First, make sure you've set up datetime, pandas, and numpy:"
   ]
  },
  {
   "cell_type": "code",
   "execution_count": 13,
   "metadata": {
    "id": "VOuU9lK7tOA7"
   },
   "outputs": [],
   "source": [
    "import datetime\n",
    "import pandas as pd\n",
    "import numpy as np"
   ]
  },
  {
   "cell_type": "markdown",
   "metadata": {},
   "source": [
    "### Meet the Datetime Package"
   ]
  },
  {
   "cell_type": "markdown",
   "metadata": {},
   "source": [
    "Now, let's meet the pandas command, 'to_datetime'"
   ]
  },
  {
   "cell_type": "markdown",
   "metadata": {},
   "source": [
    "The package _datetime_ offers an efficient way to extract year from string format data."
   ]
  },
  {
   "cell_type": "markdown",
   "metadata": {},
   "source": [
    "The command pd.to_datetime() tells pandas to treat a data as a date.  \n"
   ]
  },
  {
   "cell_type": "code",
   "execution_count": 14,
   "metadata": {},
   "outputs": [
    {
     "data": {
      "text/plain": [
       "Timestamp('2030-03-01 00:00:00')"
      ]
     },
     "execution_count": 14,
     "metadata": {},
     "output_type": "execute_result"
    }
   ],
   "source": [
    "pd.to_datetime('3-1-30')"
   ]
  },
  {
   "cell_type": "code",
   "execution_count": 15,
   "metadata": {},
   "outputs": [
    {
     "data": {
      "text/plain": [
       "Timestamp('2021-03-01 00:00:00')"
      ]
     },
     "execution_count": 15,
     "metadata": {},
     "output_type": "execute_result"
    }
   ],
   "source": [
    "pd.to_datetime('Mar 1 2021')"
   ]
  },
  {
   "cell_type": "code",
   "execution_count": 16,
   "metadata": {},
   "outputs": [
    {
     "data": {
      "text/plain": [
       "Timestamp('2021-09-20 10:44:53.419496')"
      ]
     },
     "execution_count": 16,
     "metadata": {},
     "output_type": "execute_result"
    }
   ],
   "source": [
    "pd.to_datetime('today')"
   ]
  },
  {
   "cell_type": "code",
   "execution_count": 17,
   "metadata": {},
   "outputs": [
    {
     "data": {
      "text/plain": [
       "Timestamp('2021-09-20 15:44:53.430061')"
      ]
     },
     "execution_count": 17,
     "metadata": {},
     "output_type": "execute_result"
    }
   ],
   "source": [
    "pd.to_datetime('now')"
   ]
  },
  {
   "cell_type": "code",
   "execution_count": 18,
   "metadata": {},
   "outputs": [
    {
     "data": {
      "text/plain": [
       "2021"
      ]
     },
     "execution_count": 18,
     "metadata": {},
     "output_type": "execute_result"
    }
   ],
   "source": [
    "today = pd.to_datetime('now')\n",
    "today.year\n"
   ]
  },
  {
   "cell_type": "code",
   "execution_count": 19,
   "metadata": {},
   "outputs": [
    {
     "data": {
      "text/plain": [
       "9"
      ]
     },
     "execution_count": 19,
     "metadata": {},
     "output_type": "execute_result"
    }
   ],
   "source": [
    "today.month"
   ]
  },
  {
   "cell_type": "code",
   "execution_count": 20,
   "metadata": {},
   "outputs": [
    {
     "data": {
      "text/plain": [
       "20"
      ]
     },
     "execution_count": 20,
     "metadata": {},
     "output_type": "execute_result"
    }
   ],
   "source": [
    "today.day"
   ]
  },
  {
   "cell_type": "code",
   "execution_count": 21,
   "metadata": {},
   "outputs": [
    {
     "data": {
      "text/plain": [
       "Period('2021-09', 'M')"
      ]
     },
     "execution_count": 21,
     "metadata": {},
     "output_type": "execute_result"
    }
   ],
   "source": [
    "today.to_period('M')"
   ]
  },
  {
   "cell_type": "markdown",
   "metadata": {},
   "source": [
    "What a smart little program!"
   ]
  },
  {
   "cell_type": "markdown",
   "metadata": {},
   "source": [
    "## Work With Time in Tabular Data"
   ]
  },
  {
   "cell_type": "markdown",
   "metadata": {},
   "source": [
    "As you will recall from last time, we often work with \"tabular data\" -- data that lives in tables, like spreadsheets or dataframes.  In most of the data challenges, there's a column called \"date\" or \"time.\" In last week's problem set, you practiced calling that column.  In this week's problem set, we'll use that column to organize tabular data -- for instance, ranking other columns by what came first in time. "
   ]
  },
  {
   "cell_type": "markdown",
   "metadata": {},
   "source": [
    "Before we work with time and text, let's try an even simpler example: a table where we have a list of names and a list of birth dates.  How do we order our individuals in terms of youngest and oldest?"
   ]
  },
  {
   "cell_type": "markdown",
   "metadata": {},
   "source": [
    "First let's make a dummy data set of names and birthdays.  \n",
    "\n",
    "(don't worry too much about the lines of code directly below; it just makes up a fictional data set that we'll play with)"
   ]
  },
  {
   "cell_type": "code",
   "execution_count": 22,
   "metadata": {
    "id": "uECJZIwRtOBK",
    "outputId": "1d4e7ba0-31b1-4fc3-ca1a-2d81c7e33c2b"
   },
   "outputs": [
    {
     "data": {
      "text/html": [
       "<div>\n",
       "<style scoped>\n",
       "    .dataframe tbody tr th:only-of-type {\n",
       "        vertical-align: middle;\n",
       "    }\n",
       "\n",
       "    .dataframe tbody tr th {\n",
       "        vertical-align: top;\n",
       "    }\n",
       "\n",
       "    .dataframe thead th {\n",
       "        text-align: right;\n",
       "    }\n",
       "</style>\n",
       "<table border=\"1\" class=\"dataframe\">\n",
       "  <thead>\n",
       "    <tr style=\"text-align: right;\">\n",
       "      <th></th>\n",
       "      <th>name</th>\n",
       "      <th>favorite_color</th>\n",
       "      <th>grade</th>\n",
       "      <th>birth_date</th>\n",
       "    </tr>\n",
       "  </thead>\n",
       "  <tbody>\n",
       "    <tr>\n",
       "      <th>Willard Morris</th>\n",
       "      <td>Willard Morris</td>\n",
       "      <td>blue</td>\n",
       "      <td>88</td>\n",
       "      <td>01-02-1996</td>\n",
       "    </tr>\n",
       "    <tr>\n",
       "      <th>Al Jennings</th>\n",
       "      <td>Al Jennings</td>\n",
       "      <td>red</td>\n",
       "      <td>92</td>\n",
       "      <td>08-05-1997</td>\n",
       "    </tr>\n",
       "    <tr>\n",
       "      <th>Omar Mullins</th>\n",
       "      <td>Omar Mullins</td>\n",
       "      <td>yellow</td>\n",
       "      <td>95</td>\n",
       "      <td>04-28-1996</td>\n",
       "    </tr>\n",
       "    <tr>\n",
       "      <th>Spencer McDaniel</th>\n",
       "      <td>Spencer McDaniel</td>\n",
       "      <td>green</td>\n",
       "      <td>70</td>\n",
       "      <td>12-16-1995</td>\n",
       "    </tr>\n",
       "    <tr>\n",
       "      <th>Donna Faye</th>\n",
       "      <td>Donna Faye</td>\n",
       "      <td>pink</td>\n",
       "      <td>75</td>\n",
       "      <td>07-01-1976</td>\n",
       "    </tr>\n",
       "    <tr>\n",
       "      <th>Alexander McQueen</th>\n",
       "      <td>Alexander McQueen</td>\n",
       "      <td>purple</td>\n",
       "      <td>70</td>\n",
       "      <td>08-03-1964</td>\n",
       "    </tr>\n",
       "    <tr>\n",
       "      <th>Harold Bistander</th>\n",
       "      <td>Harold Bistander</td>\n",
       "      <td>olive</td>\n",
       "      <td>80</td>\n",
       "      <td>02-22-2001</td>\n",
       "    </tr>\n",
       "    <tr>\n",
       "      <th>Henrietta Morgan</th>\n",
       "      <td>Henrietta Morgan</td>\n",
       "      <td>black</td>\n",
       "      <td>90</td>\n",
       "      <td>03-28-1970</td>\n",
       "    </tr>\n",
       "  </tbody>\n",
       "</table>\n",
       "</div>"
      ],
      "text/plain": [
       "                                name favorite_color  grade  birth_date\n",
       "Willard Morris        Willard Morris           blue     88  01-02-1996\n",
       "Al Jennings              Al Jennings            red     92  08-05-1997\n",
       "Omar Mullins            Omar Mullins         yellow     95  04-28-1996\n",
       "Spencer McDaniel    Spencer McDaniel          green     70  12-16-1995\n",
       "Donna Faye                Donna Faye           pink     75  07-01-1976\n",
       "Alexander McQueen  Alexander McQueen         purple     70  08-03-1964\n",
       "Harold Bistander    Harold Bistander          olive     80  02-22-2001\n",
       "Henrietta Morgan    Henrietta Morgan          black     90  03-28-1970"
      ]
     },
     "execution_count": 22,
     "metadata": {},
     "output_type": "execute_result"
    }
   ],
   "source": [
    "raw_data = {'name': ['Willard Morris', 'Al Jennings', 'Omar Mullins', 'Spencer McDaniel', 'Donna Faye', 'Alexander McQueen', 'Harold Bistander', 'Henrietta Morgan'],\n",
    "'favorite_color': ['blue', 'red', 'yellow', 'green', 'pink', 'purple', 'olive', 'black'],\n",
    "'grade': [88, 92, 95, 70, 75, 70, 80, 90],\n",
    "'birth_date': ['01-02-1996', '08-05-1997', '04-28-1996', '12-16-1995', '07-01-1976', '08-03-1964', '02-22-2001', '03-28-1970']}\n",
    "df = pd.DataFrame(raw_data, index = ['Willard Morris', 'Al Jennings', 'Omar Mullins', 'Spencer McDaniel', 'Donna Faye', 'Alexander McQueen', 'Harold Bistander', 'Henrietta Morgan'])\n",
    "df"
   ]
  },
  {
   "cell_type": "markdown",
   "metadata": {},
   "source": [
    "As we saw above, the command pd.to_datetime() tells pandas to treat a data as a date.  \n",
    "\n",
    "If pd.to_datetime() is applied to a paragraph, it tells the computer to treat the column as if the data in that column is composed of dates. \n",
    "\n",
    "The DateTime package commands _dt.year_ and _dt.month_ can then be appended to the dates, telling the computer to extract particular portions of the date information."
   ]
  },
  {
   "cell_type": "markdown",
   "metadata": {},
   "source": [
    "The command .year tells datetime to extract the year from a date."
   ]
  },
  {
   "cell_type": "markdown",
   "metadata": {},
   "source": [
    "In the line of code below, we tell the computer to look at the birth_date column, to recognize that the birthdate column is composed of dates, and to create a new column called \"year\" with the data in the birth_date column's year section.  Study the line of code below until you think you understand it."
   ]
  },
  {
   "cell_type": "code",
   "execution_count": 23,
   "metadata": {
    "id": "op72Fd_JtOBd",
    "outputId": "2a2407a6-0376-448a-de73-0b7d420065c5"
   },
   "outputs": [
    {
     "data": {
      "text/html": [
       "<div>\n",
       "<style scoped>\n",
       "    .dataframe tbody tr th:only-of-type {\n",
       "        vertical-align: middle;\n",
       "    }\n",
       "\n",
       "    .dataframe tbody tr th {\n",
       "        vertical-align: top;\n",
       "    }\n",
       "\n",
       "    .dataframe thead th {\n",
       "        text-align: right;\n",
       "    }\n",
       "</style>\n",
       "<table border=\"1\" class=\"dataframe\">\n",
       "  <thead>\n",
       "    <tr style=\"text-align: right;\">\n",
       "      <th></th>\n",
       "      <th>name</th>\n",
       "      <th>favorite_color</th>\n",
       "      <th>grade</th>\n",
       "      <th>birth_date</th>\n",
       "      <th>year</th>\n",
       "    </tr>\n",
       "  </thead>\n",
       "  <tbody>\n",
       "    <tr>\n",
       "      <th>Willard Morris</th>\n",
       "      <td>Willard Morris</td>\n",
       "      <td>blue</td>\n",
       "      <td>88</td>\n",
       "      <td>01-02-1996</td>\n",
       "      <td>1996</td>\n",
       "    </tr>\n",
       "    <tr>\n",
       "      <th>Al Jennings</th>\n",
       "      <td>Al Jennings</td>\n",
       "      <td>red</td>\n",
       "      <td>92</td>\n",
       "      <td>08-05-1997</td>\n",
       "      <td>1997</td>\n",
       "    </tr>\n",
       "    <tr>\n",
       "      <th>Omar Mullins</th>\n",
       "      <td>Omar Mullins</td>\n",
       "      <td>yellow</td>\n",
       "      <td>95</td>\n",
       "      <td>04-28-1996</td>\n",
       "      <td>1996</td>\n",
       "    </tr>\n",
       "    <tr>\n",
       "      <th>Spencer McDaniel</th>\n",
       "      <td>Spencer McDaniel</td>\n",
       "      <td>green</td>\n",
       "      <td>70</td>\n",
       "      <td>12-16-1995</td>\n",
       "      <td>1995</td>\n",
       "    </tr>\n",
       "    <tr>\n",
       "      <th>Donna Faye</th>\n",
       "      <td>Donna Faye</td>\n",
       "      <td>pink</td>\n",
       "      <td>75</td>\n",
       "      <td>07-01-1976</td>\n",
       "      <td>1976</td>\n",
       "    </tr>\n",
       "  </tbody>\n",
       "</table>\n",
       "</div>"
      ],
      "text/plain": [
       "                              name favorite_color  grade  birth_date  year\n",
       "Willard Morris      Willard Morris           blue     88  01-02-1996  1996\n",
       "Al Jennings            Al Jennings            red     92  08-05-1997  1997\n",
       "Omar Mullins          Omar Mullins         yellow     95  04-28-1996  1996\n",
       "Spencer McDaniel  Spencer McDaniel          green     70  12-16-1995  1995\n",
       "Donna Faye              Donna Faye           pink     75  07-01-1976  1976"
      ]
     },
     "execution_count": 23,
     "metadata": {},
     "output_type": "execute_result"
    }
   ],
   "source": [
    "df['year'] = pd.to_datetime(df['birth_date']).dt.year\n",
    "df.head()"
   ]
  },
  {
   "cell_type": "markdown",
   "metadata": {
    "id": "CDzlq4mNtOBp"
   },
   "source": [
    "You can also extract just the month."
   ]
  },
  {
   "cell_type": "code",
   "execution_count": 24,
   "metadata": {
    "id": "iBKL2GM4tOB2",
    "outputId": "dc4293c9-a803-4774-d31c-c4ef5db37de8"
   },
   "outputs": [
    {
     "data": {
      "text/html": [
       "<div>\n",
       "<style scoped>\n",
       "    .dataframe tbody tr th:only-of-type {\n",
       "        vertical-align: middle;\n",
       "    }\n",
       "\n",
       "    .dataframe tbody tr th {\n",
       "        vertical-align: top;\n",
       "    }\n",
       "\n",
       "    .dataframe thead th {\n",
       "        text-align: right;\n",
       "    }\n",
       "</style>\n",
       "<table border=\"1\" class=\"dataframe\">\n",
       "  <thead>\n",
       "    <tr style=\"text-align: right;\">\n",
       "      <th></th>\n",
       "      <th>name</th>\n",
       "      <th>favorite_color</th>\n",
       "      <th>grade</th>\n",
       "      <th>birth_date</th>\n",
       "      <th>year</th>\n",
       "      <th>month</th>\n",
       "    </tr>\n",
       "  </thead>\n",
       "  <tbody>\n",
       "    <tr>\n",
       "      <th>Willard Morris</th>\n",
       "      <td>Willard Morris</td>\n",
       "      <td>blue</td>\n",
       "      <td>88</td>\n",
       "      <td>01-02-1996</td>\n",
       "      <td>1996</td>\n",
       "      <td>1</td>\n",
       "    </tr>\n",
       "    <tr>\n",
       "      <th>Al Jennings</th>\n",
       "      <td>Al Jennings</td>\n",
       "      <td>red</td>\n",
       "      <td>92</td>\n",
       "      <td>08-05-1997</td>\n",
       "      <td>1997</td>\n",
       "      <td>8</td>\n",
       "    </tr>\n",
       "    <tr>\n",
       "      <th>Omar Mullins</th>\n",
       "      <td>Omar Mullins</td>\n",
       "      <td>yellow</td>\n",
       "      <td>95</td>\n",
       "      <td>04-28-1996</td>\n",
       "      <td>1996</td>\n",
       "      <td>4</td>\n",
       "    </tr>\n",
       "    <tr>\n",
       "      <th>Spencer McDaniel</th>\n",
       "      <td>Spencer McDaniel</td>\n",
       "      <td>green</td>\n",
       "      <td>70</td>\n",
       "      <td>12-16-1995</td>\n",
       "      <td>1995</td>\n",
       "      <td>12</td>\n",
       "    </tr>\n",
       "    <tr>\n",
       "      <th>Donna Faye</th>\n",
       "      <td>Donna Faye</td>\n",
       "      <td>pink</td>\n",
       "      <td>75</td>\n",
       "      <td>07-01-1976</td>\n",
       "      <td>1976</td>\n",
       "      <td>7</td>\n",
       "    </tr>\n",
       "  </tbody>\n",
       "</table>\n",
       "</div>"
      ],
      "text/plain": [
       "                              name favorite_color  grade  birth_date  year  \\\n",
       "Willard Morris      Willard Morris           blue     88  01-02-1996  1996   \n",
       "Al Jennings            Al Jennings            red     92  08-05-1997  1997   \n",
       "Omar Mullins          Omar Mullins         yellow     95  04-28-1996  1996   \n",
       "Spencer McDaniel  Spencer McDaniel          green     70  12-16-1995  1995   \n",
       "Donna Faye              Donna Faye           pink     75  07-01-1976  1976   \n",
       "\n",
       "                  month  \n",
       "Willard Morris        1  \n",
       "Al Jennings           8  \n",
       "Omar Mullins          4  \n",
       "Spencer McDaniel     12  \n",
       "Donna Faye            7  "
      ]
     },
     "execution_count": 24,
     "metadata": {},
     "output_type": "execute_result"
    }
   ],
   "source": [
    "df['month'] = pd.to_datetime(df['birth_date']).dt.month\n",
    "df.head()"
   ]
  },
  {
   "cell_type": "markdown",
   "metadata": {
    "id": "t5ynO0fGtOCK"
   },
   "source": [
    "We can also extract the day/month/year using the to_period function.  \n",
    "\n",
    "dt.to_period() takes the inputs 'D', 'M', 'Y', depending on what period you want. \n",
    "\n",
    "Pay attention to the output of the month_year column and how it differs from the month column.  "
   ]
  },
  {
   "cell_type": "code",
   "execution_count": 25,
   "metadata": {
    "id": "qEeZ2d-ntOCM",
    "outputId": "51a2a1bc-8944-44e9-f681-31331dc7a109"
   },
   "outputs": [
    {
     "data": {
      "text/html": [
       "<div>\n",
       "<style scoped>\n",
       "    .dataframe tbody tr th:only-of-type {\n",
       "        vertical-align: middle;\n",
       "    }\n",
       "\n",
       "    .dataframe tbody tr th {\n",
       "        vertical-align: top;\n",
       "    }\n",
       "\n",
       "    .dataframe thead th {\n",
       "        text-align: right;\n",
       "    }\n",
       "</style>\n",
       "<table border=\"1\" class=\"dataframe\">\n",
       "  <thead>\n",
       "    <tr style=\"text-align: right;\">\n",
       "      <th></th>\n",
       "      <th>name</th>\n",
       "      <th>favorite_color</th>\n",
       "      <th>grade</th>\n",
       "      <th>birth_date</th>\n",
       "      <th>year</th>\n",
       "      <th>month</th>\n",
       "      <th>month_year</th>\n",
       "    </tr>\n",
       "  </thead>\n",
       "  <tbody>\n",
       "    <tr>\n",
       "      <th>Willard Morris</th>\n",
       "      <td>Willard Morris</td>\n",
       "      <td>blue</td>\n",
       "      <td>88</td>\n",
       "      <td>01-02-1996</td>\n",
       "      <td>1996</td>\n",
       "      <td>1</td>\n",
       "      <td>1996-01</td>\n",
       "    </tr>\n",
       "    <tr>\n",
       "      <th>Al Jennings</th>\n",
       "      <td>Al Jennings</td>\n",
       "      <td>red</td>\n",
       "      <td>92</td>\n",
       "      <td>08-05-1997</td>\n",
       "      <td>1997</td>\n",
       "      <td>8</td>\n",
       "      <td>1997-08</td>\n",
       "    </tr>\n",
       "    <tr>\n",
       "      <th>Omar Mullins</th>\n",
       "      <td>Omar Mullins</td>\n",
       "      <td>yellow</td>\n",
       "      <td>95</td>\n",
       "      <td>04-28-1996</td>\n",
       "      <td>1996</td>\n",
       "      <td>4</td>\n",
       "      <td>1996-04</td>\n",
       "    </tr>\n",
       "    <tr>\n",
       "      <th>Spencer McDaniel</th>\n",
       "      <td>Spencer McDaniel</td>\n",
       "      <td>green</td>\n",
       "      <td>70</td>\n",
       "      <td>12-16-1995</td>\n",
       "      <td>1995</td>\n",
       "      <td>12</td>\n",
       "      <td>1995-12</td>\n",
       "    </tr>\n",
       "    <tr>\n",
       "      <th>Donna Faye</th>\n",
       "      <td>Donna Faye</td>\n",
       "      <td>pink</td>\n",
       "      <td>75</td>\n",
       "      <td>07-01-1976</td>\n",
       "      <td>1976</td>\n",
       "      <td>7</td>\n",
       "      <td>1976-07</td>\n",
       "    </tr>\n",
       "  </tbody>\n",
       "</table>\n",
       "</div>"
      ],
      "text/plain": [
       "                              name favorite_color  grade  birth_date  year  \\\n",
       "Willard Morris      Willard Morris           blue     88  01-02-1996  1996   \n",
       "Al Jennings            Al Jennings            red     92  08-05-1997  1997   \n",
       "Omar Mullins          Omar Mullins         yellow     95  04-28-1996  1996   \n",
       "Spencer McDaniel  Spencer McDaniel          green     70  12-16-1995  1995   \n",
       "Donna Faye              Donna Faye           pink     75  07-01-1976  1976   \n",
       "\n",
       "                  month month_year  \n",
       "Willard Morris        1    1996-01  \n",
       "Al Jennings           8    1997-08  \n",
       "Omar Mullins          4    1996-04  \n",
       "Spencer McDaniel     12    1995-12  \n",
       "Donna Faye            7    1976-07  "
      ]
     },
     "execution_count": 25,
     "metadata": {},
     "output_type": "execute_result"
    }
   ],
   "source": [
    "df['month_year'] = pd.to_datetime(df['birth_date']).dt.to_period('M')\n",
    "df.head()"
   ]
  },
  {
   "cell_type": "markdown",
   "metadata": {},
   "source": [
    "### 'Flooring' the date -- how to add 'decade' to the period"
   ]
  },
  {
   "cell_type": "markdown",
   "metadata": {
    "id": "r3qG-5MLtOCU"
   },
   "source": [
    "Sometimes you want to round every date to the month/year or the day, so that you can count the top words of the date.  This could be important if you have -- for instance in Reddit -- timestamps with the hour that you want to round to the day or the month.  You could count the top words by every datetime, but you'd be looking at the top words associated with every second -- which is probably less interesting than the top words of the day or month or year."
   ]
  },
  {
   "cell_type": "markdown",
   "metadata": {
    "id": "HrEkZcgltOCc"
   },
   "source": [
    "When we want to add a decade, we need a slightly different procedure.  \n",
    "\n",
    "We want to \"floor\" the date.  \"Flooring\" is different from \"rounding.\" "
   ]
  },
  {
   "cell_type": "code",
   "execution_count": 26,
   "metadata": {
    "id": "4Jkg_j73tOCe",
    "outputId": "36b3fdb8-3833-4453-c31f-6e5dd4034b5f"
   },
   "outputs": [
    {
     "data": {
      "text/plain": [
       "1970.0"
      ]
     },
     "execution_count": 26,
     "metadata": {},
     "output_type": "execute_result"
    }
   ],
   "source": [
    "np.floor(1976/10)*10"
   ]
  },
  {
   "cell_type": "code",
   "execution_count": 27,
   "metadata": {
    "id": "5G87kasKtOCk",
    "outputId": "2c436cfa-5b17-498a-eb3d-f7bd5dd2ceb2"
   },
   "outputs": [
    {
     "data": {
      "text/plain": [
       "1980.0"
      ]
     },
     "execution_count": 27,
     "metadata": {},
     "output_type": "execute_result"
    }
   ],
   "source": [
    "np.round(1976/10)*10"
   ]
  },
  {
   "cell_type": "markdown",
   "metadata": {
    "id": "k4dVjhUJtOCt"
   },
   "source": [
    "When we're working with dates, we have the convention of referring to 1976 as part of the 1970s, not the 1980s.  \"Flooring\" describes the math involved -- it looks down for the nearest integer floor, rather than both up and down for the nearest number.  All you really need to know is that you should be flooring rather than rounding in the case of months or decades, so that your dates make sense to an outside interpreter.  Otherwise, you might produce an analysis and show your data, only to have a quizzical response from a historian that asks you with 1976 counts as part of the 1980s, and what your evidence of change in the 1970s really means."
   ]
  },
  {
   "cell_type": "markdown",
   "metadata": {
    "id": "EsvJHyeJtOCu"
   },
   "source": [
    "We can use the *.floor()* command to floor dates."
   ]
  },
  {
   "cell_type": "markdown",
   "metadata": {},
   "source": [
    "In the line of code below, we'll add a column called 'decade.'  Notice that we use the 'floor' command, note a datetime command."
   ]
  },
  {
   "cell_type": "code",
   "execution_count": 28,
   "metadata": {
    "id": "-pwA4dSmtOCW",
    "outputId": "af94bcc9-ec54-4c20-b538-6898ea502d12"
   },
   "outputs": [
    {
     "data": {
      "text/html": [
       "<div>\n",
       "<style scoped>\n",
       "    .dataframe tbody tr th:only-of-type {\n",
       "        vertical-align: middle;\n",
       "    }\n",
       "\n",
       "    .dataframe tbody tr th {\n",
       "        vertical-align: top;\n",
       "    }\n",
       "\n",
       "    .dataframe thead th {\n",
       "        text-align: right;\n",
       "    }\n",
       "</style>\n",
       "<table border=\"1\" class=\"dataframe\">\n",
       "  <thead>\n",
       "    <tr style=\"text-align: right;\">\n",
       "      <th></th>\n",
       "      <th>name</th>\n",
       "      <th>favorite_color</th>\n",
       "      <th>grade</th>\n",
       "      <th>birth_date</th>\n",
       "      <th>year</th>\n",
       "      <th>month</th>\n",
       "      <th>month_year</th>\n",
       "      <th>decade</th>\n",
       "    </tr>\n",
       "  </thead>\n",
       "  <tbody>\n",
       "    <tr>\n",
       "      <th>Willard Morris</th>\n",
       "      <td>Willard Morris</td>\n",
       "      <td>blue</td>\n",
       "      <td>88</td>\n",
       "      <td>01-02-1996</td>\n",
       "      <td>1996</td>\n",
       "      <td>1</td>\n",
       "      <td>1996-01</td>\n",
       "      <td>1990</td>\n",
       "    </tr>\n",
       "    <tr>\n",
       "      <th>Al Jennings</th>\n",
       "      <td>Al Jennings</td>\n",
       "      <td>red</td>\n",
       "      <td>92</td>\n",
       "      <td>08-05-1997</td>\n",
       "      <td>1997</td>\n",
       "      <td>8</td>\n",
       "      <td>1997-08</td>\n",
       "      <td>1990</td>\n",
       "    </tr>\n",
       "    <tr>\n",
       "      <th>Omar Mullins</th>\n",
       "      <td>Omar Mullins</td>\n",
       "      <td>yellow</td>\n",
       "      <td>95</td>\n",
       "      <td>04-28-1996</td>\n",
       "      <td>1996</td>\n",
       "      <td>4</td>\n",
       "      <td>1996-04</td>\n",
       "      <td>1990</td>\n",
       "    </tr>\n",
       "    <tr>\n",
       "      <th>Spencer McDaniel</th>\n",
       "      <td>Spencer McDaniel</td>\n",
       "      <td>green</td>\n",
       "      <td>70</td>\n",
       "      <td>12-16-1995</td>\n",
       "      <td>1995</td>\n",
       "      <td>12</td>\n",
       "      <td>1995-12</td>\n",
       "      <td>1990</td>\n",
       "    </tr>\n",
       "    <tr>\n",
       "      <th>Donna Faye</th>\n",
       "      <td>Donna Faye</td>\n",
       "      <td>pink</td>\n",
       "      <td>75</td>\n",
       "      <td>07-01-1976</td>\n",
       "      <td>1976</td>\n",
       "      <td>7</td>\n",
       "      <td>1976-07</td>\n",
       "      <td>1970</td>\n",
       "    </tr>\n",
       "    <tr>\n",
       "      <th>Alexander McQueen</th>\n",
       "      <td>Alexander McQueen</td>\n",
       "      <td>purple</td>\n",
       "      <td>70</td>\n",
       "      <td>08-03-1964</td>\n",
       "      <td>1964</td>\n",
       "      <td>8</td>\n",
       "      <td>1964-08</td>\n",
       "      <td>1960</td>\n",
       "    </tr>\n",
       "    <tr>\n",
       "      <th>Harold Bistander</th>\n",
       "      <td>Harold Bistander</td>\n",
       "      <td>olive</td>\n",
       "      <td>80</td>\n",
       "      <td>02-22-2001</td>\n",
       "      <td>2001</td>\n",
       "      <td>2</td>\n",
       "      <td>2001-02</td>\n",
       "      <td>2000</td>\n",
       "    </tr>\n",
       "    <tr>\n",
       "      <th>Henrietta Morgan</th>\n",
       "      <td>Henrietta Morgan</td>\n",
       "      <td>black</td>\n",
       "      <td>90</td>\n",
       "      <td>03-28-1970</td>\n",
       "      <td>1970</td>\n",
       "      <td>3</td>\n",
       "      <td>1970-03</td>\n",
       "      <td>1970</td>\n",
       "    </tr>\n",
       "  </tbody>\n",
       "</table>\n",
       "</div>"
      ],
      "text/plain": [
       "                                name favorite_color  grade  birth_date  year  \\\n",
       "Willard Morris        Willard Morris           blue     88  01-02-1996  1996   \n",
       "Al Jennings              Al Jennings            red     92  08-05-1997  1997   \n",
       "Omar Mullins            Omar Mullins         yellow     95  04-28-1996  1996   \n",
       "Spencer McDaniel    Spencer McDaniel          green     70  12-16-1995  1995   \n",
       "Donna Faye                Donna Faye           pink     75  07-01-1976  1976   \n",
       "Alexander McQueen  Alexander McQueen         purple     70  08-03-1964  1964   \n",
       "Harold Bistander    Harold Bistander          olive     80  02-22-2001  2001   \n",
       "Henrietta Morgan    Henrietta Morgan          black     90  03-28-1970  1970   \n",
       "\n",
       "                   month month_year  decade  \n",
       "Willard Morris         1    1996-01    1990  \n",
       "Al Jennings            8    1997-08    1990  \n",
       "Omar Mullins           4    1996-04    1990  \n",
       "Spencer McDaniel      12    1995-12    1990  \n",
       "Donna Faye             7    1976-07    1970  \n",
       "Alexander McQueen      8    1964-08    1960  \n",
       "Harold Bistander       2    2001-02    2000  \n",
       "Henrietta Morgan       3    1970-03    1970  "
      ]
     },
     "execution_count": 28,
     "metadata": {},
     "output_type": "execute_result"
    }
   ],
   "source": [
    "df['decade'] = np.floor(df['year'] / 10) * 10 # round each year to the nearest ten -- by dividing by ten and \"flooring\" to the lowest integer\n",
    "\n",
    "# this line reformats the column so that decade is displayed as '1990' not '1990.00':\n",
    "df['decade'] = df['decade'].astype(int) # treat it like an integer, not a decimal\n",
    "df"
   ]
  },
  {
   "cell_type": "markdown",
   "metadata": {
    "id": "IgWE4Nd8tOCv"
   },
   "source": [
    "## Visualizing with dates"
   ]
  },
  {
   "cell_type": "code",
   "execution_count": 29,
   "metadata": {
    "id": "9q61nt0StOCx"
   },
   "outputs": [],
   "source": [
    "import matplotlib\n",
    "import matplotlib.pyplot as plt"
   ]
  },
  {
   "cell_type": "markdown",
   "metadata": {
    "id": "MCe0AL1stOC4"
   },
   "source": [
    "Visualizing data with dates in python requires a few tricks. There are only a few major things to know:\n",
    "* Conventions of visualization dictate that time be treated on the x axis, with the years in order.\n",
    "* When you have rounded dates, you want to make sure that the axis labels correspond to the quantities to which you have rounded them.\n",
    "* Because some conventions of listing dates put the month first, if you're working with full dates rather than with years, you need to make sure that Python knows how to \"order\" the dates."
   ]
  },
  {
   "cell_type": "markdown",
   "metadata": {
    "id": "8EV3e0DJtOC6"
   },
   "source": [
    "Let's take the first one first.  _Put time on the x axis._  Here's what happens if you aren't careful."
   ]
  },
  {
   "cell_type": "code",
   "execution_count": 30,
   "metadata": {
    "id": "MLHgIwqZtOC8",
    "outputId": "061a3f58-b3b8-4895-b132-fdab515414a7"
   },
   "outputs": [
    {
     "data": {
      "image/png": "[encoded data removed]",
      "text/plain": [
       "<Figure size 432x288 with 1 Axes>"
      ]
     },
     "metadata": {
      "needs_background": "light"
     },
     "output_type": "display_data"
    }
   ],
   "source": [
    "%matplotlib inline\n",
    "plt.scatter(df.name, df.decade, color='red')\n",
    "plt.show()"
   ]
  },
  {
   "cell_type": "markdown",
   "metadata": {
    "id": "ddvP9RMxtODD"
   },
   "source": [
    "You might notice that a few things are wrong here.  Matplotlib has generated labels for us -- but they're very hard to read.  But that's not the only trouble. \n",
    "\n",
    "You might observe that your tendency is to try to read this chart from left to right, like text.  In which case it looks like first there were four people born at the same time, followed by a dearth of births and a rise in births.  This interpretation is totally wrong for several reasons: first, change over time goes from the bottom up; second, this is a scatterplot of names and dates, not a graph representing quantities.  But it's easy to be fooled about how to read change over time in a graph -- if you're not paying attention to your axes. \n",
    "\n",
    "Let's rotate the axes now and see how much easier it is to read."
   ]
  },
  {
   "cell_type": "code",
   "execution_count": 31,
   "metadata": {
    "id": "WBIL9is4tODE",
    "outputId": "b1090f73-8f7e-490b-e734-7a51852a6cf4",
    "scrolled": true
   },
   "outputs": [
    {
     "data": {
      "image/png": "[encoded data removed]",
      "text/plain": [
       "<Figure size 432x288 with 1 Axes>"
      ]
     },
     "metadata": {
      "needs_background": "light"
     },
     "output_type": "display_data"
    }
   ],
   "source": [
    "%matplotlib inline\n",
    "plt.scatter(df.decade, df.name, color='red') # notice that we've switched the order so that decade is plotted on the x axis\n",
    "plt.xticks(rotation=90) # puts the labels at a 90 angle so that they fit\n",
    "plt.ylabel(\"Birth Decade\") # don't forget to label the axes\n",
    "plt.xlabel(\"Person\")\n",
    "plt.title(\"Decade of Birth by Name 1\") # and label the plot!\n",
    "plt.show() "
   ]
  },
  {
   "cell_type": "markdown",
   "metadata": {
    "id": "9ACxeojbtODL"
   },
   "source": [
    "That's much better.  You can read the chart from left to right, noticing that four people were born in 1990.\n",
    "\n",
    "However, there's still a problem.  Look at the labels on the x-axis.  Notice that no one is listed as having been born near 1975, even though we have a birthdate in 1976.  \n",
    "\n",
    "The problem is that the axis labels don't fit our data.  The x-axis doesn't seem to recognize that we're dealing with decades! Let's fix that so that our readers aren't confused about what the plot is showing."
   ]
  },
  {
   "cell_type": "code",
   "execution_count": 32,
   "metadata": {
    "id": "UW3y1WYctODM",
    "outputId": "d163f272-494d-444e-d7f1-d1f73b452516",
    "scrolled": true
   },
   "outputs": [
    {
     "data": {
      "image/png": "[encoded data removed]",
      "text/plain": [
       "<Figure size 432x288 with 1 Axes>"
      ]
     },
     "metadata": {
      "needs_background": "light"
     },
     "output_type": "display_data"
    }
   ],
   "source": [
    "%matplotlib inline\n",
    "\n",
    "from pandas.plotting import register_matplotlib_converters\n",
    "register_matplotlib_converters()\n",
    "    \n",
    "# tell it where to put the ticks only every 10 years\n",
    "xt = np.arange(df.decade.min(), df.decade.max()+1) # we create a dummy list of each decade\n",
    "xt = xt[xt%10==0] # we use the modulus (\"%\") to only admit numbers \"floored\" to the nearest ten.\n",
    "# xt will be fed to the visualization as a list of ticks for the x-axis.\n",
    "\n",
    "#plt.style.use('ggplot')\n",
    "plt.scatter(df.decade, df.name, color='red')\n",
    "plt.xlabel(\"Birth Decade\")\n",
    "plt.ylabel(\"Person\")\n",
    "plt.xticks(rotation=90)\n",
    "plt.xticks(xt) # this line of code tells the plot to put axes only on the list of number in xt -- that is, whole decade numbers\n",
    "plt.title(\"Decade of Birth by Name 2\")\n",
    "plt.show()"
   ]
  },
  {
   "cell_type": "markdown",
   "metadata": {
    "id": "a5CsKEJ5tODU"
   },
   "source": [
    "By generating a list of decades in the variable xt, we can tell matplotlib to only put axis marks on the decades listed in xt.  The visualization makes a lot more sense -- a naive reader could guess that we're just plotting decades, because there aren't any extra x-axis years to suggest zero birthdays in between."
   ]
  },
  {
   "cell_type": "markdown",
   "metadata": {
    "id": "uiaUa6xxtODU"
   },
   "source": [
    "Now let's try plotting birth dates -- which have, as you'll remember, information about month, day, and year in them."
   ]
  },
  {
   "cell_type": "code",
   "execution_count": 33,
   "metadata": {
    "id": "i8hn46uItODW",
    "outputId": "153a046e-f5c5-43a2-eb2b-e3809f6693bb"
   },
   "outputs": [
    {
     "data": {
      "image/png": "[encoded data removed]",
      "text/plain": [
       "<Figure size 432x288 with 1 Axes>"
      ]
     },
     "metadata": {
      "needs_background": "light"
     },
     "output_type": "display_data"
    }
   ],
   "source": [
    "%matplotlib inline\n",
    "\n",
    "plt.scatter(df.birth_date, df.name, color='red')\n",
    "plt.xlabel(\"Birth Date\")\n",
    "plt.ylabel(\"Person\")\n",
    "plt.xticks(rotation=90)\n",
    "#plt.xticks(xt)\n",
    "plt.title(\"Birthday by Name 1\")\n",
    "plt.show() "
   ]
  },
  {
   "cell_type": "markdown",
   "metadata": {
    "id": "gzjevASptODc"
   },
   "source": [
    "Looks great!  -- but hey, wait a minute; 1964 doesn't come after 1996... It's putting the dates in the order in which they were arranged, randomly, when we entered the data.  The plot must be treating everything in the birth_date column like it's a string.  That's not very useful; it doesn't tell us anything about time.\n",
    "\n",
    "Let's try adding a few lines of code to tell pandas to \"sort\" the values of birth_date from small to large, treating each value like a date."
   ]
  },
  {
   "cell_type": "code",
   "execution_count": 34,
   "metadata": {
    "id": "GbSKarl0tODd",
    "outputId": "8375d916-03f8-49cb-c6e4-6f2a51b0e30b"
   },
   "outputs": [
    {
     "data": {
      "image/png": "[encoded data removed]",
      "text/plain": [
       "<Figure size 432x288 with 1 Axes>"
      ]
     },
     "metadata": {
      "needs_background": "light"
     },
     "output_type": "display_data"
    }
   ],
   "source": [
    "%matplotlib inline\n",
    "\n",
    "# this time, before we plot, let's ask pandas to sort the values\n",
    "df.birth_date = pd.to_datetime(df.birth_date) # instructs pandas to treat birth_date like a date\n",
    "df = df.sort_values('birth_date', ascending=True) # re-sorts the df by date\n",
    "\n",
    "plt.scatter(df.birth_date, df.name, color='red')\n",
    "plt.xlabel(\"Birth Date\")\n",
    "plt.ylabel(\"Person\")\n",
    "plt.xticks(rotation=90)\n",
    "\n",
    "#plt.xticks(xt)\n",
    "plt.title(\"Birthday by Name 2\")\n",
    "plt.show()\n"
   ]
  },
  {
   "cell_type": "markdown",
   "metadata": {},
   "source": [
    "## Assignment\n",
    "\n",
    "\n",
    "1) Add your own birthday to the dataset.  Plot the chart.  Upload the resulting image here.\n",
    "\n",
    "2) Compare \"Birthday by Name 2\" and \"Decade of Birth 2\"  \n",
    "\n",
    "What's the difference between the two?  When might one format be more useful? \n",
    "\n",
    "Compose your answer in a paragraph of at least three sentences. Paste it into Canvas.\n",
    "\n",
    "4"
   ]
  },
  {
   "cell_type": "code",
   "execution_count": null,
   "metadata": {},
   "outputs": [],
   "source": []
  }
 ],
 "metadata": {
  "kernelspec": {
   "display_name": "Python 3",
   "language": "python",
   "name": "python3"
  },
  "language_info": {
   "codemirror_mode": {
    "name": "ipython",
    "version": 3
   },
   "file_extension": ".py",
   "mimetype": "text/x-python",
   "name": "python",
   "nbconvert_exporter": "python",
   "pygments_lexer": "ipython3",
   "version": "3.6.7"
  }
 },
 "nbformat": 4,
 "nbformat_minor": 4
}
