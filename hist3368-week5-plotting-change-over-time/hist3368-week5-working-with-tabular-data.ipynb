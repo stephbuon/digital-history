{
 "cells": [
  {
   "cell_type": "code",
   "execution_count": null,
   "metadata": {},
   "outputs": [],
   "source": []
  },
  {
   "cell_type": "markdown",
   "metadata": {
    "id": "mUtTNBx4tOHM"
   },
   "source": [
    "# Hist 3368 - Week 5 - Working With Tabular Data in Pandas\n",
    "\n",
    "Until now, in this class we have worked with lists of words. We have cleaned them and counted and compared them.\n",
    "\n",
    "For the rest of the class, we will be working with data in tables. Tables allow us to keep track of the date when each word is from. If we have time data, we can compare wordcounts over time, compare wordcounts for different speakers, and so on.\n",
    "\n",
    "We will need a few special commands to navigate tabular data.\n",
    "\n",
    "In this notebook, we will learn to navigate tables:\n",
    "\n",
    "   * how to call a column\n",
    "   * how to move through a column, row by row, using a for loop\n",
    "   * how to stopword\n",
    "   * how to subset or 'filter' data by a column, for example, finding all the speeches of one speaker, or all the speeches on a certain date, using square brackets -- **[ ]** -- and the operators **.isin()**, **==**, and **!=**.\n",
    "   * how to find the largest counts in a dataset using **.nlargest()**\n",
    "\n",
    "We will also learn some basics of counting with tables:\n",
    "\n",
    "   * how to count the words in a subset of data.\n",
    "\n",
    "#### Learning Research Strategies\n",
    "\n",
    "We will practice navigating around the tabular data for Congress, asking the kind of questions a researcher might want to know, such as:\n",
    "\n",
    "   * given a set of years, who were the top speakers in Congress?\n",
    "   * given a speaker, what was his or her longest speech?\n",
    "   * given a certain set of words, who were the speakers who used those words the most?\n",
    "   \n",
    "The research questions profiled here are fairly simple, but if combined with strategies such as a *controlled vocabulary* they can result in a good deal of important information about which speakers were engaged with a particular topic -- for instance, the environment, crime, or women's health.  \n",
    "\n",
    "These research strategies can also help the researcher to navigate to the longest speeches where a speaker invokes those topics, or the speeches where the speaker invokes the highest number of words related to a particular topic.  Those research strategies should form the basis for guided reading.\n"
   ]
  },
  {
   "cell_type": "markdown",
   "metadata": {},
   "source": [
    "## Load some data"
   ]
  },
  {
   "cell_type": "code",
   "execution_count": 1,
   "metadata": {},
   "outputs": [],
   "source": [
    "import pandas as pd\n",
    "import csv"
   ]
  },
  {
   "cell_type": "code",
   "execution_count": 2,
   "metadata": {},
   "outputs": [
    {
     "name": "stdout",
     "output_type": "stream",
     "text": [
      "/users/jguldi/digital-history\n"
     ]
    }
   ],
   "source": [
    "cd ~/digital-history/"
   ]
  },
  {
   "cell_type": "code",
   "execution_count": 3,
   "metadata": {},
   "outputs": [],
   "source": [
    "congress = pd.read_csv(\"congress1967-2010.csv\")"
   ]
  },
  {
   "cell_type": "markdown",
   "metadata": {},
   "source": [
    "TROUBLESHOOTING: if the line above doesn't work, you might have missed something earlier this week."
   ]
  },
  {
   "cell_type": "code",
   "execution_count": 4,
   "metadata": {},
   "outputs": [
    {
     "data": {
      "text/html": [
       "<div>\n",
       "<style scoped>\n",
       "    .dataframe tbody tr th:only-of-type {\n",
       "        vertical-align: middle;\n",
       "    }\n",
       "\n",
       "    .dataframe tbody tr th {\n",
       "        vertical-align: top;\n",
       "    }\n",
       "\n",
       "    .dataframe thead th {\n",
       "        text-align: right;\n",
       "    }\n",
       "</style>\n",
       "<table border=\"1\" class=\"dataframe\">\n",
       "  <thead>\n",
       "    <tr style=\"text-align: right;\">\n",
       "      <th></th>\n",
       "      <th>Unnamed: 0</th>\n",
       "      <th>speech</th>\n",
       "      <th>date</th>\n",
       "      <th>speaker</th>\n",
       "      <th>word_count</th>\n",
       "      <th>year</th>\n",
       "      <th>month</th>\n",
       "      <th>month_year</th>\n",
       "    </tr>\n",
       "  </thead>\n",
       "  <tbody>\n",
       "    <tr>\n",
       "      <th>0</th>\n",
       "      <td>0</td>\n",
       "      <td>Those who do not enjoy the privilege of the fl...</td>\n",
       "      <td>1967-01-10</td>\n",
       "      <td>The VICE PRESIDENT</td>\n",
       "      <td>16</td>\n",
       "      <td>1967</td>\n",
       "      <td>1</td>\n",
       "      <td>1967-01-01</td>\n",
       "    </tr>\n",
       "    <tr>\n",
       "      <th>1</th>\n",
       "      <td>1</td>\n",
       "      <td>Mr. President. on the basis of an agreement re...</td>\n",
       "      <td>1967-01-10</td>\n",
       "      <td>Mr. MANSFIELD</td>\n",
       "      <td>35</td>\n",
       "      <td>1967</td>\n",
       "      <td>1</td>\n",
       "      <td>1967-01-01</td>\n",
       "    </tr>\n",
       "    <tr>\n",
       "      <th>2</th>\n",
       "      <td>2</td>\n",
       "      <td>The Members of the Senate have heard the remar...</td>\n",
       "      <td>1967-01-10</td>\n",
       "      <td>The VICE PRESIDENT</td>\n",
       "      <td>40</td>\n",
       "      <td>1967</td>\n",
       "      <td>1</td>\n",
       "      <td>1967-01-01</td>\n",
       "    </tr>\n",
       "    <tr>\n",
       "      <th>3</th>\n",
       "      <td>3</td>\n",
       "      <td>The Chair lays before the Senate the following...</td>\n",
       "      <td>1967-01-10</td>\n",
       "      <td>The VICE PRESIDENT</td>\n",
       "      <td>151</td>\n",
       "      <td>1967</td>\n",
       "      <td>1</td>\n",
       "      <td>1967-01-01</td>\n",
       "    </tr>\n",
       "    <tr>\n",
       "      <th>4</th>\n",
       "      <td>4</td>\n",
       "      <td>Secretary of State.</td>\n",
       "      <td>1967-01-10</td>\n",
       "      <td>Mrs. AGNES BAGGETT</td>\n",
       "      <td>3</td>\n",
       "      <td>1967</td>\n",
       "      <td>1</td>\n",
       "      <td>1967-01-01</td>\n",
       "    </tr>\n",
       "  </tbody>\n",
       "</table>\n",
       "</div>"
      ],
      "text/plain": [
       "   Unnamed: 0                                             speech        date  \\\n",
       "0           0  Those who do not enjoy the privilege of the fl...  1967-01-10   \n",
       "1           1  Mr. President. on the basis of an agreement re...  1967-01-10   \n",
       "2           2  The Members of the Senate have heard the remar...  1967-01-10   \n",
       "3           3  The Chair lays before the Senate the following...  1967-01-10   \n",
       "4           4                                Secretary of State.  1967-01-10   \n",
       "\n",
       "              speaker  word_count  year  month  month_year  \n",
       "0  The VICE PRESIDENT          16  1967      1  1967-01-01  \n",
       "1       Mr. MANSFIELD          35  1967      1  1967-01-01  \n",
       "2  The VICE PRESIDENT          40  1967      1  1967-01-01  \n",
       "3  The VICE PRESIDENT         151  1967      1  1967-01-01  \n",
       "4  Mrs. AGNES BAGGETT           3  1967      1  1967-01-01  "
      ]
     },
     "execution_count": 4,
     "metadata": {},
     "output_type": "execute_result"
    }
   ],
   "source": [
    "congress.head()"
   ]
  },
  {
   "cell_type": "markdown",
   "metadata": {},
   "source": [
    "The data you are looking at is 'tabular' -- meaning that it's in a table.  \n",
    "\n",
    "The format used by the pandas software package, which is running our table, is called a \"dataframe.\"  A dataframe is a mtwo-dimensional size-mutable, potentially heterogeneous tabular data structure with labeled axes (rows and columns).  \"Heterogenous\" means that the dataframe can have some columns that hold strings, and other columns that hold numbers or dates."
   ]
  },
  {
   "cell_type": "markdown",
   "metadata": {},
   "source": [
    "#### Basic Navigation"
   ]
  },
  {
   "cell_type": "markdown",
   "metadata": {},
   "source": [
    "We have met pandas data with an index before when we met the pandas Series.  A Series is a one-dimensional labeled array -- meaning that it only had one column, not many.  However, everything that we learned about navigating indices wlil apply to dataframes too."
   ]
  },
  {
   "cell_type": "code",
   "execution_count": 5,
   "metadata": {},
   "outputs": [
    {
     "data": {
      "text/plain": [
       "0"
      ]
     },
     "execution_count": 5,
     "metadata": {},
     "output_type": "execute_result"
    }
   ],
   "source": [
    "congress.index[0]"
   ]
  },
  {
   "cell_type": "code",
   "execution_count": 6,
   "metadata": {},
   "outputs": [
    {
     "data": {
      "text/plain": [
       "1000"
      ]
     },
     "execution_count": 6,
     "metadata": {},
     "output_type": "execute_result"
    }
   ],
   "source": [
    "congress.index[1000]"
   ]
  },
  {
   "cell_type": "markdown",
   "metadata": {},
   "source": [
    "We can call the pandas data with the **.loc** function.  The formula for calling data is :\n",
    "\n",
    "    dataFrame.loc[<ROWS RANGE> , <COLUMNS RANGE>] -- for calling rows or columns by name\n",
    "    dataFrame.iloc[<ROWS RANGE> , <COLUMNS RANGE>] -- for calling rows or columns by number"
   ]
  },
  {
   "cell_type": "markdown",
   "metadata": {},
   "source": [
    "Here are rows #1005-1008:"
   ]
  },
  {
   "cell_type": "code",
   "execution_count": 7,
   "metadata": {},
   "outputs": [
    {
     "data": {
      "text/html": [
       "<div>\n",
       "<style scoped>\n",
       "    .dataframe tbody tr th:only-of-type {\n",
       "        vertical-align: middle;\n",
       "    }\n",
       "\n",
       "    .dataframe tbody tr th {\n",
       "        vertical-align: top;\n",
       "    }\n",
       "\n",
       "    .dataframe thead th {\n",
       "        text-align: right;\n",
       "    }\n",
       "</style>\n",
       "<table border=\"1\" class=\"dataframe\">\n",
       "  <thead>\n",
       "    <tr style=\"text-align: right;\">\n",
       "      <th></th>\n",
       "      <th>Unnamed: 0</th>\n",
       "      <th>speech</th>\n",
       "      <th>date</th>\n",
       "      <th>speaker</th>\n",
       "      <th>word_count</th>\n",
       "      <th>year</th>\n",
       "      <th>month</th>\n",
       "      <th>month_year</th>\n",
       "    </tr>\n",
       "  </thead>\n",
       "  <tbody>\n",
       "    <tr>\n",
       "      <th>1005</th>\n",
       "      <td>1005</td>\n",
       "      <td>Mr. President. for many years I have advocated...</td>\n",
       "      <td>1967-01-11</td>\n",
       "      <td>Mr. WILLIAMS of Delaware</td>\n",
       "      <td>184</td>\n",
       "      <td>1967</td>\n",
       "      <td>1</td>\n",
       "      <td>1967-01-01</td>\n",
       "    </tr>\n",
       "    <tr>\n",
       "      <th>1006</th>\n",
       "      <td>1006</td>\n",
       "      <td>I am delighted to have the Senator from Delawa...</td>\n",
       "      <td>1967-01-11</td>\n",
       "      <td>Mr. DIRKSEN</td>\n",
       "      <td>27</td>\n",
       "      <td>1967</td>\n",
       "      <td>1</td>\n",
       "      <td>1967-01-01</td>\n",
       "    </tr>\n",
       "    <tr>\n",
       "      <th>1007</th>\n",
       "      <td>1007</td>\n",
       "      <td>Mr. President. I submit a resolution to amend ...</td>\n",
       "      <td>1967-01-11</td>\n",
       "      <td>Mr. CANNON</td>\n",
       "      <td>449</td>\n",
       "      <td>1967</td>\n",
       "      <td>1</td>\n",
       "      <td>1967-01-01</td>\n",
       "    </tr>\n",
       "  </tbody>\n",
       "</table>\n",
       "</div>"
      ],
      "text/plain": [
       "      Unnamed: 0                                             speech  \\\n",
       "1005        1005  Mr. President. for many years I have advocated...   \n",
       "1006        1006  I am delighted to have the Senator from Delawa...   \n",
       "1007        1007  Mr. President. I submit a resolution to amend ...   \n",
       "\n",
       "            date                   speaker  word_count  year  month  \\\n",
       "1005  1967-01-11  Mr. WILLIAMS of Delaware         184  1967      1   \n",
       "1006  1967-01-11               Mr. DIRKSEN          27  1967      1   \n",
       "1007  1967-01-11                Mr. CANNON         449  1967      1   \n",
       "\n",
       "      month_year  \n",
       "1005  1967-01-01  \n",
       "1006  1967-01-01  \n",
       "1007  1967-01-01  "
      ]
     },
     "execution_count": 7,
     "metadata": {},
     "output_type": "execute_result"
    }
   ],
   "source": [
    "congress.iloc[1005:1008, ]"
   ]
  },
  {
   "cell_type": "markdown",
   "metadata": {},
   "source": [
    "Here is the speaker column. Notice the use of ':' for 'everything':"
   ]
  },
  {
   "cell_type": "code",
   "execution_count": 8,
   "metadata": {},
   "outputs": [
    {
     "data": {
      "text/plain": [
       "0                  The VICE PRESIDENT\n",
       "1                       Mr. MANSFIELD\n",
       "2                  The VICE PRESIDENT\n",
       "3                  The VICE PRESIDENT\n",
       "4                  Mrs. AGNES BAGGETT\n",
       "                      ...            \n",
       "5992063                   Ms. GRANGER\n",
       "5992064    Ms. KILPATRICK of Michigan\n",
       "5992065                    Mr. HELLER\n",
       "5992066                   Mr. PAULSEN\n",
       "5992067          Mr. HALL of New York\n",
       "Name: speaker, Length: 5992068, dtype: object"
      ]
     },
     "execution_count": 8,
     "metadata": {},
     "output_type": "execute_result"
    }
   ],
   "source": [
    "congress.loc[:, 'speaker']"
   ]
  },
  {
   "cell_type": "markdown",
   "metadata": {},
   "source": [
    "We can also call columns by name using just square brackets."
   ]
  },
  {
   "cell_type": "code",
   "execution_count": 9,
   "metadata": {},
   "outputs": [
    {
     "data": {
      "text/plain": [
       "0                  The VICE PRESIDENT\n",
       "1                       Mr. MANSFIELD\n",
       "2                  The VICE PRESIDENT\n",
       "3                  The VICE PRESIDENT\n",
       "4                  Mrs. AGNES BAGGETT\n",
       "                      ...            \n",
       "5992063                   Ms. GRANGER\n",
       "5992064    Ms. KILPATRICK of Michigan\n",
       "5992065                    Mr. HELLER\n",
       "5992066                   Mr. PAULSEN\n",
       "5992067          Mr. HALL of New York\n",
       "Name: speaker, Length: 5992068, dtype: object"
      ]
     },
     "execution_count": 9,
     "metadata": {},
     "output_type": "execute_result"
    }
   ],
   "source": [
    "congress['speaker']"
   ]
  },
  {
   "cell_type": "markdown",
   "metadata": {},
   "source": [
    "Notice that I can also call the column with double brackets.\n",
    "\n",
    "  * The difference between the two methods of calling the column is that above, single brackets call the column as a pandas Series.  \n",
    "  * Double brackets call the column as a pandas dataframe -- such that the column is labeled with its name."
   ]
  },
  {
   "cell_type": "code",
   "execution_count": 10,
   "metadata": {},
   "outputs": [
    {
     "data": {
      "text/html": [
       "<div>\n",
       "<style scoped>\n",
       "    .dataframe tbody tr th:only-of-type {\n",
       "        vertical-align: middle;\n",
       "    }\n",
       "\n",
       "    .dataframe tbody tr th {\n",
       "        vertical-align: top;\n",
       "    }\n",
       "\n",
       "    .dataframe thead th {\n",
       "        text-align: right;\n",
       "    }\n",
       "</style>\n",
       "<table border=\"1\" class=\"dataframe\">\n",
       "  <thead>\n",
       "    <tr style=\"text-align: right;\">\n",
       "      <th></th>\n",
       "      <th>speaker</th>\n",
       "    </tr>\n",
       "  </thead>\n",
       "  <tbody>\n",
       "    <tr>\n",
       "      <th>0</th>\n",
       "      <td>The VICE PRESIDENT</td>\n",
       "    </tr>\n",
       "    <tr>\n",
       "      <th>1</th>\n",
       "      <td>Mr. MANSFIELD</td>\n",
       "    </tr>\n",
       "    <tr>\n",
       "      <th>2</th>\n",
       "      <td>The VICE PRESIDENT</td>\n",
       "    </tr>\n",
       "    <tr>\n",
       "      <th>3</th>\n",
       "      <td>The VICE PRESIDENT</td>\n",
       "    </tr>\n",
       "    <tr>\n",
       "      <th>4</th>\n",
       "      <td>Mrs. AGNES BAGGETT</td>\n",
       "    </tr>\n",
       "    <tr>\n",
       "      <th>...</th>\n",
       "      <td>...</td>\n",
       "    </tr>\n",
       "    <tr>\n",
       "      <th>5992063</th>\n",
       "      <td>Ms. GRANGER</td>\n",
       "    </tr>\n",
       "    <tr>\n",
       "      <th>5992064</th>\n",
       "      <td>Ms. KILPATRICK of Michigan</td>\n",
       "    </tr>\n",
       "    <tr>\n",
       "      <th>5992065</th>\n",
       "      <td>Mr. HELLER</td>\n",
       "    </tr>\n",
       "    <tr>\n",
       "      <th>5992066</th>\n",
       "      <td>Mr. PAULSEN</td>\n",
       "    </tr>\n",
       "    <tr>\n",
       "      <th>5992067</th>\n",
       "      <td>Mr. HALL of New York</td>\n",
       "    </tr>\n",
       "  </tbody>\n",
       "</table>\n",
       "<p>5992068 rows × 1 columns</p>\n",
       "</div>"
      ],
      "text/plain": [
       "                            speaker\n",
       "0                The VICE PRESIDENT\n",
       "1                     Mr. MANSFIELD\n",
       "2                The VICE PRESIDENT\n",
       "3                The VICE PRESIDENT\n",
       "4                Mrs. AGNES BAGGETT\n",
       "...                             ...\n",
       "5992063                 Ms. GRANGER\n",
       "5992064  Ms. KILPATRICK of Michigan\n",
       "5992065                  Mr. HELLER\n",
       "5992066                 Mr. PAULSEN\n",
       "5992067        Mr. HALL of New York\n",
       "\n",
       "[5992068 rows x 1 columns]"
      ]
     },
     "execution_count": 10,
     "metadata": {},
     "output_type": "execute_result"
    }
   ],
   "source": [
    "congress[['speaker']]"
   ]
  },
  {
   "cell_type": "markdown",
   "metadata": {},
   "source": [
    "You can also see how many rows there are."
   ]
  },
  {
   "cell_type": "code",
   "execution_count": 11,
   "metadata": {},
   "outputs": [
    {
     "data": {
      "text/plain": [
       "5992068"
      ]
     },
     "execution_count": 11,
     "metadata": {},
     "output_type": "execute_result"
    }
   ],
   "source": [
    "congress['speaker'].count()"
   ]
  },
  {
   "cell_type": "markdown",
   "metadata": {},
   "source": [
    "Here is just the speaker and speech for row 3234:"
   ]
  },
  {
   "cell_type": "code",
   "execution_count": 12,
   "metadata": {},
   "outputs": [
    {
     "data": {
      "text/plain": [
       "speaker                                            Mr. TOWER\n",
       "speech     Mr. President. on June 17. a starting gun will...\n",
       "Name: 3234, dtype: object"
      ]
     },
     "execution_count": 12,
     "metadata": {},
     "output_type": "execute_result"
    }
   ],
   "source": [
    "congress.loc[:, ['speaker', 'speech']].iloc[3234, :]"
   ]
  },
  {
   "cell_type": "markdown",
   "metadata": {},
   "source": [
    "Here is just the speech:"
   ]
  },
  {
   "cell_type": "code",
   "execution_count": 13,
   "metadata": {},
   "outputs": [
    {
     "data": {
      "text/plain": [
       "speech    Mr. President. on June 17. a starting gun will...\n",
       "Name: 3234, dtype: object"
      ]
     },
     "execution_count": 13,
     "metadata": {},
     "output_type": "execute_result"
    }
   ],
   "source": [
    "myspeech = congress.loc[:, ['speech']].iloc[3234, :]\n",
    "myspeech"
   ]
  },
  {
   "cell_type": "markdown",
   "metadata": {},
   "source": [
    "We can use some familiar tools to print out the whole speech or any portion thereof:"
   ]
  },
  {
   "cell_type": "code",
   "execution_count": 14,
   "metadata": {},
   "outputs": [
    {
     "name": "stdout",
     "output_type": "stream",
     "text": [
      "Mr. President. on June 17. a starting gun will sound in San Marcos. Tex.. and the worlds toughest river race will be underway. The race is the Texas water safari. marking its fifth year in 1967 with a 538mile race from San Marcos. by way of the San Marcos and Guadalupe Rivers. along coastal bays and rivers. utilizing the Intracoastal Canal. to Freeport. Brave men from all over the countryand several entrants from foreign countries--will test their endurance. skill. equipment. plain physical stamina. and even luck as they brave logjams. rocks. white water. strong winds. and exhausting portages. on a journey through some of the most beautiful country in Texas. I am submitting today a concurrent resolution granting official recognition to the event. The race Is being sponsored by a nonprofit organization expressly set up for this purpose. Prizes approaching $6.500 in value are being donated. along with several fine trophies. I believe this outstanding sports event. emphasizing courage. skill. endurance. and physical fitness deserves official recognition. and I am hopeful that the Senate will agree and act with dispatch on the resolution. Mr. President. I ask that the text of the concurrent resolution be printed at this point in the RECORD. followed by a history of the Texas water safari. prepared by Mr. James Hurst of the safari.\n"
     ]
    }
   ],
   "source": [
    "for word in myspeech[:500]:\n",
    "    print(word)"
   ]
  },
  {
   "cell_type": "markdown",
   "metadata": {},
   "source": [
    "### Navigating tabular data: column by column, rows within columns\n",
    "\n",
    "In the current dataset, many words are compiled into a list that is a 'speech' in Congress.  \n",
    "\n",
    "You can call the column 'speech' with square brackets, e.g.\n",
    "\n",
    "    congress['speech']\n",
    "\n",
    "Many speeches form a column called 'speech.'  The column speech can be called and treated as a list.\n",
    "\n",
    "You can call individual speeches with an additional set of square brackets after ['speech'], e.g. \n",
    "\n",
    "    congress['speech'][0]\n",
    "    \n",
    "-- which calls the first speech in the speech column."
   ]
  },
  {
   "cell_type": "code",
   "execution_count": 15,
   "metadata": {},
   "outputs": [
    {
     "data": {
      "text/plain": [
       "'Those who do not enjoy the privilege of the floor will please retire from the Chamber.'"
      ]
     },
     "execution_count": 15,
     "metadata": {},
     "output_type": "execute_result"
    }
   ],
   "source": [
    "congress['speech'][0]"
   ]
  },
  {
   "cell_type": "code",
   "execution_count": 16,
   "metadata": {},
   "outputs": [
    {
     "data": {
      "text/plain": [
       "'Mr. President. on the basis of an agreement reached on both sides. it is suggested that the Chamber be cleared of all attaches. unless they have absolutely important business to attend to in the Chamber.'"
      ]
     },
     "execution_count": 16,
     "metadata": {},
     "output_type": "execute_result"
    }
   ],
   "source": [
    "congress['speech'][1]"
   ]
  },
  {
   "cell_type": "code",
   "execution_count": 17,
   "metadata": {},
   "outputs": [
    {
     "data": {
      "text/plain": [
       "'The Members of the Senate have heard the remarks of the distinguished majority leader. All attaches and staff members who are not vitally needed for the next few minutes of the deliberations of the Senate will tetire from the Chamber.'"
      ]
     },
     "execution_count": 17,
     "metadata": {},
     "output_type": "execute_result"
    }
   ],
   "source": [
    "congress['speech'][2]"
   ]
  },
  {
   "cell_type": "markdown",
   "metadata": {},
   "source": [
    "We can work on the text -- for instance cleaning or counting -- by calling each row in a text column, one at a time, and executing a transformation, via a for-loop.\n",
    "\n",
    "Here are the last hundred characters of the last ten speeches in the dataframe, in upper case:"
   ]
  },
  {
   "cell_type": "code",
   "execution_count": 18,
   "metadata": {},
   "outputs": [
    {
     "name": "stdout",
     "output_type": "stream",
     "text": [
      "MADAM SPEAKER. I WOULD LIKE TO SUBMIT THE FOLLOWING:\n",
      "EMENTS AND SERVICE OF AVIS GREEN TUCKER. AND IN EXTENDING OUR CONDOLENCES TO HER FAMILY AND FRIENDS.\n",
      "CERNING THE CHINESE GOVERNMENTS APPALLING AND MASSIVE HUMAN RIGHTS VIOLATIONS SIMPLY ISNT AN OPTION.\n",
      "662-\"YEA\". H.R. 6547. PROTECTING STUDENTS FROM SEXUAL AND VIOLENT PREDATORS ACTROLCALL NO. 663\"YEA\".\n",
      "RS THAN DOMINATED THE FINANCIAL MEDIA. THEY MADE THEIR REPUTATIONS AND THEIR FORTUNES THROUGH FRAUD.\n",
      "ROLLCALL NOS. 662 AND 661. I WAS ABSENT FROM THE HOUSE. HAD I BEEN PRESENT. I WOULD HAVE VOTED \"NO.\"\n",
      "UL TO PROTECTING THE CONSTITUTION OF THE UNITED STATES AND THE GOALS OF OUR GREAT NATION. GOD BLESS.\n",
      "AKER. ON ROLICALL NO. 658. I WAS UNAVOIDABLY DETAINED. HAD I BEEN PRESENT. I WOULD HAVE VOTED \"YES.\"\n",
      "LCALL NO. 658 MY FLIGHT WAS DELAYED DUE TO WEATHER AND HAD I BEEN PRESENT. I WOULD HAVE VOTED \"YES.\"\n",
      "ME BEFORE THE HOUSE. AND DONATED MY RAISE TO LOCAL NONPROFIT ORGANIZATIONS RATHER THAN ACCEPTING IT.\n"
     ]
    }
   ],
   "source": [
    "for speech in congress['speech'][-10:]:\n",
    "    speech = speech.upper()\n",
    "    print(speech[-100:])"
   ]
  },
  {
   "cell_type": "markdown",
   "metadata": {},
   "source": [
    "## Basic Counting with Tabular Data "
   ]
  },
  {
   "cell_type": "markdown",
   "metadata": {},
   "source": [
    "We will use two commands that we have seen before to count tabular data.\n",
    "\n",
    "    .count() -- produces a count of how many items are in a category.  Generally speaking this is the same as counting the number of rows.\n",
    "    .value_counts() -- produces the subtotals for every subcategory listed in a column. We have used this command previously to get the word counts for every word in a list.  We will use value_counts() to get word counts for every word in a column in pandas.\n",
    "    \n",
    "We will also use one new command to count how many unique objects there are in a category.\n",
    "\n",
    "    .unique() -- finds only the unique members of a list\n",
    "    \n"
   ]
  },
  {
   "cell_type": "markdown",
   "metadata": {},
   "source": [
    "It's easier to understand the difference between these commands in practice."
   ]
  },
  {
   "cell_type": "markdown",
   "metadata": {},
   "source": [
    "**.count()** on its own gives you the number of rows in the dataframe as a whole.  For our data, that just means the total number of speeches. \n",
    "\n",
    "Even if .count() is applied to the column speaker, it's still measuring the total number of individual speeches -- not how many unique speakers there are.  Most speakers are responsible for more than one speech, so their name appears several times in the dataset.  The count() below counts all rows in the dataframe, regardless of how many speakers there are:"
   ]
  },
  {
   "cell_type": "code",
   "execution_count": 19,
   "metadata": {},
   "outputs": [
    {
     "data": {
      "text/plain": [
       "5992068"
      ]
     },
     "execution_count": 19,
     "metadata": {},
     "output_type": "execute_result"
    }
   ],
   "source": [
    "congress['speaker'].count()"
   ]
  },
  {
   "cell_type": "markdown",
   "metadata": {},
   "source": [
    "**.value_counts()** organizes the data by unique values and then creates a count of each.  We will use it for word count, as we have in the past.  \n",
    "\n",
    "Applied to the speaker column, value_counts() givesyou a list of how many speeches each speaker gave."
   ]
  },
  {
   "cell_type": "code",
   "execution_count": 20,
   "metadata": {},
   "outputs": [
    {
     "data": {
      "text/plain": [
       "The PRESIDING OFFICER      709041\n",
       "The SPEAKER pro tempore    239201\n",
       "The CHAIRMAN               137788\n",
       "The SPEAKER                 86866\n",
       "Mr. ROBERT C. BYRD          75733\n",
       "                            ...  \n",
       "MAJ. MICHAEL S. STEWART         1\n",
       "Mr. BROOMPELD                   1\n",
       "Mr. IISH                        1\n",
       "Mr. STFNHOTM                    1\n",
       "Tile I-COORDINATION             1\n",
       "Name: speaker, Length: 56350, dtype: int64"
      ]
     },
     "execution_count": 20,
     "metadata": {},
     "output_type": "execute_result"
    }
   ],
   "source": [
    "congress['speaker'].value_counts()"
   ]
  },
  {
   "cell_type": "markdown",
   "metadata": {},
   "source": [
    "What if you need to know how many unique speakers are represented in this dataframe?  You will use the **.unique()** function."
   ]
  },
  {
   "cell_type": "code",
   "execution_count": 21,
   "metadata": {},
   "outputs": [
    {
     "data": {
      "text/plain": [
       "array(['The VICE PRESIDENT', 'Mr. MANSFIELD', 'Mrs. AGNES BAGGETT', ...,\n",
       "       'The DERA', 'Mr. BAYHI', 'Mr. BAY-H'], dtype=object)"
      ]
     },
     "execution_count": 21,
     "metadata": {},
     "output_type": "execute_result"
    }
   ],
   "source": [
    "congress['speaker'].unique()"
   ]
  },
  {
   "cell_type": "code",
   "execution_count": 22,
   "metadata": {},
   "outputs": [
    {
     "data": {
      "text/plain": [
       "56350"
      ]
     },
     "execution_count": 22,
     "metadata": {},
     "output_type": "execute_result"
    }
   ],
   "source": [
    "len(congress['speaker'].unique())"
   ]
  },
  {
   "cell_type": "markdown",
   "metadata": {},
   "source": [
    "#### Counting particular words per cell."
   ]
  },
  {
   "cell_type": "markdown",
   "metadata": {},
   "source": [
    "Above we noted that .count(), applied to a column, will give you the number of rows in the column.\n",
    "\n",
    "You can also use .count() to find the counts of individual strings in each column. \n",
    "\n",
    "This line counts the string 'pineapple' for each speech in the 'speech' column.  \n",
    "\n",
    "The resulting series has zero's in most columns.  But if we use .nlargest() we get a short list of the index numbers of the speeches where pineapples are mentioned the most:"
   ]
  },
  {
   "cell_type": "code",
   "execution_count": 23,
   "metadata": {},
   "outputs": [
    {
     "data": {
      "text/plain": [
       "1000851    65\n",
       "1084391    51\n",
       "1017189    29\n",
       "2164092    26\n",
       "1023495    24\n",
       "Name: speech, dtype: int64"
      ]
     },
     "execution_count": 23,
     "metadata": {},
     "output_type": "execute_result"
    }
   ],
   "source": [
    "congress['speech'].str.count('pineapple').nlargest(5)"
   ]
  },
  {
   "cell_type": "markdown",
   "metadata": {},
   "source": [
    "Here's how to print the results, using .loc and .iloc to call the speech by its index number."
   ]
  },
  {
   "cell_type": "code",
   "execution_count": 24,
   "metadata": {},
   "outputs": [
    {
     "name": "stdout",
     "output_type": "stream",
     "text": [
      "Mr. President. I am introducing legislation today to enable Hawaiian pineapple products to compete in the U.S. market with lowcost foreign canned pineapple which can easily undersell Hawaiian pineapple. One of the finest products in all America is the sweet. juicy. delectable pineapple grown in Hawaii. Since the turn of the century. pineapple has been a mainstay in Hawaiis economy. Today it is still my States second largest agricultural industay. second only to sugar. The processed value of Hawaiian pineapple last year was $137 million. The industry employs 6.200 yearround workers who earned $42 million in annual wages and another 12.000 seasonal workers who earn a total of $10 million a year. Hawaiis pineapple industry has been very energetic and progressive. investing millions of its own dollars in research to improve pineapple quality and production. The Hawaiian pineapple industry is the most highly mechanized In the world and its fleldworkers are the highest paid in the world. The\n"
     ]
    }
   ],
   "source": [
    "for word in list(congress.loc[:, ['speech']].iloc[1000851, ]):\n",
    "    print(word[:1000])"
   ]
  },
  {
   "cell_type": "markdown",
   "metadata": {},
   "source": [
    "Note that we have here searched just for the string 'pineapple.' This method could create confusion in future searches unless we used regex to look for an exact word -- unless we really only care about 'pineapple,' which is unusual enough to produce good results as a free-standing string."
   ]
  },
  {
   "cell_type": "markdown",
   "metadata": {},
   "source": [
    "## Subsetting Data"
   ]
  },
  {
   "cell_type": "markdown",
   "metadata": {},
   "source": [
    "We can use the python grammar of operators to ask Python to only look at certain parts of the data -- or 'subsets' of the complete dataset.\n",
    "\n",
    "For instance, if we want *only* the data from the 1980s, we can use square brackets **[ ]** to tell python to subset a dataframe.  \n",
    "\n",
    "We use square brackets **[ ]** to tell python to subset a dataframe according to the constraints inside the brackets.\n",
    "\n",
    "The command to subset data is expressed with the grammar:\n",
    "\n",
    "    df[df['columnname'].LIMITINGOPERATOR]\n",
    "\n",
    "\n",
    "For instance, df[df['speaker']=='bob']] would tell python to find only the rows of the dataframe where 'bob' was listed as the speaker.\n",
    "\n",
    "Using square brackets to \"filter\" for particular rows is one of the major ways of navigating tabular data in pandas.\n"
   ]
  },
  {
   "cell_type": "markdown",
   "metadata": {},
   "source": [
    "### The operators for filtering"
   ]
  },
  {
   "cell_type": "markdown",
   "metadata": {},
   "source": [
    "The following 'operators' are the ones most frequently used to tell Python how to narrow down the data.  Each works a slightly different way: \n",
    "\n",
    "    .isin() -- tells Python to only look for values that are in another list\n",
    "    == -- tells Python to only look for values that are equal to another value\n",
    "    != -- tells Python to only look for values that are NOT equal to another value\n",
    "\n"
   ]
  },
  {
   "cell_type": "code",
   "execution_count": 25,
   "metadata": {},
   "outputs": [
    {
     "data": {
      "text/html": [
       "<div>\n",
       "<style scoped>\n",
       "    .dataframe tbody tr th:only-of-type {\n",
       "        vertical-align: middle;\n",
       "    }\n",
       "\n",
       "    .dataframe tbody tr th {\n",
       "        vertical-align: top;\n",
       "    }\n",
       "\n",
       "    .dataframe thead th {\n",
       "        text-align: right;\n",
       "    }\n",
       "</style>\n",
       "<table border=\"1\" class=\"dataframe\">\n",
       "  <thead>\n",
       "    <tr style=\"text-align: right;\">\n",
       "      <th></th>\n",
       "      <th>Unnamed: 0</th>\n",
       "      <th>speech</th>\n",
       "      <th>date</th>\n",
       "      <th>speaker</th>\n",
       "      <th>word_count</th>\n",
       "      <th>year</th>\n",
       "      <th>month</th>\n",
       "      <th>month_year</th>\n",
       "    </tr>\n",
       "  </thead>\n",
       "  <tbody>\n",
       "    <tr>\n",
       "      <th>7475</th>\n",
       "      <td>7475</td>\n",
       "      <td>Mr. Speaker. the January 8. 1967. \"Doanes Agri...</td>\n",
       "      <td>1967-02-01</td>\n",
       "      <td>Mr. DOLE</td>\n",
       "      <td>201</td>\n",
       "      <td>1967</td>\n",
       "      <td>2</td>\n",
       "      <td>1967-02-01</td>\n",
       "    </tr>\n",
       "    <tr>\n",
       "      <th>8657</th>\n",
       "      <td>8657</td>\n",
       "      <td>Mr. Speaker. I ask unanimous consent to revise...</td>\n",
       "      <td>1967-02-02</td>\n",
       "      <td>Mr. DOLE</td>\n",
       "      <td>12</td>\n",
       "      <td>1967</td>\n",
       "      <td>2</td>\n",
       "      <td>1967-02-01</td>\n",
       "    </tr>\n",
       "    <tr>\n",
       "      <th>8659</th>\n",
       "      <td>8659</td>\n",
       "      <td>Mr. Speaker. I join in the statements made by ...</td>\n",
       "      <td>1967-02-02</td>\n",
       "      <td>Mr. DOLE</td>\n",
       "      <td>301</td>\n",
       "      <td>1967</td>\n",
       "      <td>2</td>\n",
       "      <td>1967-02-01</td>\n",
       "    </tr>\n",
       "    <tr>\n",
       "      <th>8767</th>\n",
       "      <td>8767</td>\n",
       "      <td>Mr. Speaker. it is my pleasure to join in the ...</td>\n",
       "      <td>1967-02-02</td>\n",
       "      <td>Mr. DOLE</td>\n",
       "      <td>878</td>\n",
       "      <td>1967</td>\n",
       "      <td>2</td>\n",
       "      <td>1967-02-01</td>\n",
       "    </tr>\n",
       "    <tr>\n",
       "      <th>12255</th>\n",
       "      <td>12255</td>\n",
       "      <td>Mr. Speaker. today I have introduced a joint r...</td>\n",
       "      <td>1967-02-09</td>\n",
       "      <td>Mr. DOLE</td>\n",
       "      <td>82</td>\n",
       "      <td>1967</td>\n",
       "      <td>2</td>\n",
       "      <td>1967-02-01</td>\n",
       "    </tr>\n",
       "    <tr>\n",
       "      <th>19034</th>\n",
       "      <td>19034</td>\n",
       "      <td>Mr. Speaker. it is my pleasure to join Mrs. BO...</td>\n",
       "      <td>1967-02-28</td>\n",
       "      <td>Mr. DOLE</td>\n",
       "      <td>258</td>\n",
       "      <td>1967</td>\n",
       "      <td>2</td>\n",
       "      <td>1967-02-01</td>\n",
       "    </tr>\n",
       "    <tr>\n",
       "      <th>20616</th>\n",
       "      <td>20616</td>\n",
       "      <td>Mr. Speaker. I wish to associate myself with t...</td>\n",
       "      <td>1967-03-02</td>\n",
       "      <td>Mr. DOLE</td>\n",
       "      <td>291</td>\n",
       "      <td>1967</td>\n",
       "      <td>3</td>\n",
       "      <td>1967-03-01</td>\n",
       "    </tr>\n",
       "    <tr>\n",
       "      <th>24507</th>\n",
       "      <td>24507</td>\n",
       "      <td>Mr. Speaker. during this year of 1967 the Fede...</td>\n",
       "      <td>1967-03-08</td>\n",
       "      <td>Mr. DOLE</td>\n",
       "      <td>122</td>\n",
       "      <td>1967</td>\n",
       "      <td>3</td>\n",
       "      <td>1967-03-01</td>\n",
       "    </tr>\n",
       "    <tr>\n",
       "      <th>25378</th>\n",
       "      <td>25378</td>\n",
       "      <td>Mr. Speaker. will the gentleman yield?</td>\n",
       "      <td>1967-03-09</td>\n",
       "      <td>Mr. DOLE</td>\n",
       "      <td>6</td>\n",
       "      <td>1967</td>\n",
       "      <td>3</td>\n",
       "      <td>1967-03-01</td>\n",
       "    </tr>\n",
       "    <tr>\n",
       "      <th>25380</th>\n",
       "      <td>25380</td>\n",
       "      <td>Mr. Speaker. permit me to say. first of all. t...</td>\n",
       "      <td>1967-03-09</td>\n",
       "      <td>Mr. DOLE</td>\n",
       "      <td>78</td>\n",
       "      <td>1967</td>\n",
       "      <td>3</td>\n",
       "      <td>1967-03-01</td>\n",
       "    </tr>\n",
       "  </tbody>\n",
       "</table>\n",
       "</div>"
      ],
      "text/plain": [
       "       Unnamed: 0                                             speech  \\\n",
       "7475         7475  Mr. Speaker. the January 8. 1967. \"Doanes Agri...   \n",
       "8657         8657  Mr. Speaker. I ask unanimous consent to revise...   \n",
       "8659         8659  Mr. Speaker. I join in the statements made by ...   \n",
       "8767         8767  Mr. Speaker. it is my pleasure to join in the ...   \n",
       "12255       12255  Mr. Speaker. today I have introduced a joint r...   \n",
       "19034       19034  Mr. Speaker. it is my pleasure to join Mrs. BO...   \n",
       "20616       20616  Mr. Speaker. I wish to associate myself with t...   \n",
       "24507       24507  Mr. Speaker. during this year of 1967 the Fede...   \n",
       "25378       25378             Mr. Speaker. will the gentleman yield?   \n",
       "25380       25380  Mr. Speaker. permit me to say. first of all. t...   \n",
       "\n",
       "             date   speaker  word_count  year  month  month_year  \n",
       "7475   1967-02-01  Mr. DOLE         201  1967      2  1967-02-01  \n",
       "8657   1967-02-02  Mr. DOLE          12  1967      2  1967-02-01  \n",
       "8659   1967-02-02  Mr. DOLE         301  1967      2  1967-02-01  \n",
       "8767   1967-02-02  Mr. DOLE         878  1967      2  1967-02-01  \n",
       "12255  1967-02-09  Mr. DOLE          82  1967      2  1967-02-01  \n",
       "19034  1967-02-28  Mr. DOLE         258  1967      2  1967-02-01  \n",
       "20616  1967-03-02  Mr. DOLE         291  1967      3  1967-03-01  \n",
       "24507  1967-03-08  Mr. DOLE         122  1967      3  1967-03-01  \n",
       "25378  1967-03-09  Mr. DOLE           6  1967      3  1967-03-01  \n",
       "25380  1967-03-09  Mr. DOLE          78  1967      3  1967-03-01  "
      ]
     },
     "execution_count": 25,
     "metadata": {},
     "output_type": "execute_result"
    }
   ],
   "source": [
    "congress[congress['speaker'] == 'Mr. DOLE'][:10]"
   ]
  },
  {
   "cell_type": "markdown",
   "metadata": {},
   "source": [
    "#### Using .isin() to find data from the 1980s\n",
    "\n",
    "In the following line of code, we'll use **.isin()** to tell Python to look for values in the 1980s.  We tell Python to look at the 'year' column. Then we select only the years that are in a list of years from the 1980s. \n",
    "\n",
    "    eighties_data = congress[congress['year'].isin(target_years)].copy()  # filter our dataset to just this decade\n",
    "\n",
    "**.isin()**  takes as its object a list, for instance the *target_years* variable, which we will create to include every year from 1980 to 1990.\n"
   ]
  },
  {
   "cell_type": "markdown",
   "metadata": {},
   "source": [
    "Before we apply .isin(), however, we need to format the data so that we can navigate for time.\n",
    "\n",
    "First, we need to make a 'year' column.\n",
    "\n",
    "Then we need to filter for years that are in our target.  Note the use of the .isin() function. "
   ]
  },
  {
   "cell_type": "code",
   "execution_count": 26,
   "metadata": {},
   "outputs": [],
   "source": [
    "import pandas as pd\n",
    "import datetime"
   ]
  },
  {
   "cell_type": "markdown",
   "metadata": {},
   "source": [
    "We call the datetime package\n",
    "    \n",
    "    .dt.year\n",
    "\n",
    "to create a new column called 'year'"
   ]
  },
  {
   "cell_type": "code",
   "execution_count": 27,
   "metadata": {},
   "outputs": [
    {
     "data": {
      "text/html": [
       "<div>\n",
       "<style scoped>\n",
       "    .dataframe tbody tr th:only-of-type {\n",
       "        vertical-align: middle;\n",
       "    }\n",
       "\n",
       "    .dataframe tbody tr th {\n",
       "        vertical-align: top;\n",
       "    }\n",
       "\n",
       "    .dataframe thead th {\n",
       "        text-align: right;\n",
       "    }\n",
       "</style>\n",
       "<table border=\"1\" class=\"dataframe\">\n",
       "  <thead>\n",
       "    <tr style=\"text-align: right;\">\n",
       "      <th></th>\n",
       "      <th>Unnamed: 0</th>\n",
       "      <th>speech</th>\n",
       "      <th>date</th>\n",
       "      <th>speaker</th>\n",
       "      <th>word_count</th>\n",
       "      <th>year</th>\n",
       "      <th>month</th>\n",
       "      <th>month_year</th>\n",
       "    </tr>\n",
       "  </thead>\n",
       "  <tbody>\n",
       "    <tr>\n",
       "      <th>0</th>\n",
       "      <td>0</td>\n",
       "      <td>Those who do not enjoy the privilege of the fl...</td>\n",
       "      <td>1967-01-10</td>\n",
       "      <td>The VICE PRESIDENT</td>\n",
       "      <td>16</td>\n",
       "      <td>1967</td>\n",
       "      <td>1</td>\n",
       "      <td>1967-01-01</td>\n",
       "    </tr>\n",
       "    <tr>\n",
       "      <th>1</th>\n",
       "      <td>1</td>\n",
       "      <td>Mr. President. on the basis of an agreement re...</td>\n",
       "      <td>1967-01-10</td>\n",
       "      <td>Mr. MANSFIELD</td>\n",
       "      <td>35</td>\n",
       "      <td>1967</td>\n",
       "      <td>1</td>\n",
       "      <td>1967-01-01</td>\n",
       "    </tr>\n",
       "    <tr>\n",
       "      <th>2</th>\n",
       "      <td>2</td>\n",
       "      <td>The Members of the Senate have heard the remar...</td>\n",
       "      <td>1967-01-10</td>\n",
       "      <td>The VICE PRESIDENT</td>\n",
       "      <td>40</td>\n",
       "      <td>1967</td>\n",
       "      <td>1</td>\n",
       "      <td>1967-01-01</td>\n",
       "    </tr>\n",
       "    <tr>\n",
       "      <th>3</th>\n",
       "      <td>3</td>\n",
       "      <td>The Chair lays before the Senate the following...</td>\n",
       "      <td>1967-01-10</td>\n",
       "      <td>The VICE PRESIDENT</td>\n",
       "      <td>151</td>\n",
       "      <td>1967</td>\n",
       "      <td>1</td>\n",
       "      <td>1967-01-01</td>\n",
       "    </tr>\n",
       "    <tr>\n",
       "      <th>4</th>\n",
       "      <td>4</td>\n",
       "      <td>Secretary of State.</td>\n",
       "      <td>1967-01-10</td>\n",
       "      <td>Mrs. AGNES BAGGETT</td>\n",
       "      <td>3</td>\n",
       "      <td>1967</td>\n",
       "      <td>1</td>\n",
       "      <td>1967-01-01</td>\n",
       "    </tr>\n",
       "  </tbody>\n",
       "</table>\n",
       "</div>"
      ],
      "text/plain": [
       "   Unnamed: 0                                             speech        date  \\\n",
       "0           0  Those who do not enjoy the privilege of the fl...  1967-01-10   \n",
       "1           1  Mr. President. on the basis of an agreement re...  1967-01-10   \n",
       "2           2  The Members of the Senate have heard the remar...  1967-01-10   \n",
       "3           3  The Chair lays before the Senate the following...  1967-01-10   \n",
       "4           4                                Secretary of State.  1967-01-10   \n",
       "\n",
       "              speaker  word_count  year  month  month_year  \n",
       "0  The VICE PRESIDENT          16  1967      1  1967-01-01  \n",
       "1       Mr. MANSFIELD          35  1967      1  1967-01-01  \n",
       "2  The VICE PRESIDENT          40  1967      1  1967-01-01  \n",
       "3  The VICE PRESIDENT         151  1967      1  1967-01-01  \n",
       "4  Mrs. AGNES BAGGETT           3  1967      1  1967-01-01  "
      ]
     },
     "execution_count": 27,
     "metadata": {},
     "output_type": "execute_result"
    }
   ],
   "source": [
    "congress['year']=pd.to_datetime(congress['date']).dt.year # make a year column\n",
    "\n",
    "congress.head()"
   ]
  },
  {
   "cell_type": "markdown",
   "metadata": {},
   "source": [
    "Using == to subset:"
   ]
  },
  {
   "cell_type": "code",
   "execution_count": 28,
   "metadata": {},
   "outputs": [
    {
     "data": {
      "text/html": [
       "<div>\n",
       "<style scoped>\n",
       "    .dataframe tbody tr th:only-of-type {\n",
       "        vertical-align: middle;\n",
       "    }\n",
       "\n",
       "    .dataframe tbody tr th {\n",
       "        vertical-align: top;\n",
       "    }\n",
       "\n",
       "    .dataframe thead th {\n",
       "        text-align: right;\n",
       "    }\n",
       "</style>\n",
       "<table border=\"1\" class=\"dataframe\">\n",
       "  <thead>\n",
       "    <tr style=\"text-align: right;\">\n",
       "      <th></th>\n",
       "      <th>Unnamed: 0</th>\n",
       "      <th>speech</th>\n",
       "      <th>date</th>\n",
       "      <th>speaker</th>\n",
       "      <th>word_count</th>\n",
       "      <th>year</th>\n",
       "      <th>month</th>\n",
       "      <th>month_year</th>\n",
       "    </tr>\n",
       "  </thead>\n",
       "  <tbody>\n",
       "    <tr>\n",
       "      <th>2329890</th>\n",
       "      <td>2329890</td>\n",
       "      <td>Mr. Speaker. we in Delaware are proud of the o...</td>\n",
       "      <td>1980-01-03</td>\n",
       "      <td>Mr. EVANS of Delaware</td>\n",
       "      <td>122</td>\n",
       "      <td>1980</td>\n",
       "      <td>1</td>\n",
       "      <td>1980-01-01</td>\n",
       "    </tr>\n",
       "    <tr>\n",
       "      <th>2329891</th>\n",
       "      <td>2329891</td>\n",
       "      <td>Mr. Speaker. it is logical for Americans to be...</td>\n",
       "      <td>1980-01-03</td>\n",
       "      <td>Mr. DERWINSKI</td>\n",
       "      <td>82</td>\n",
       "      <td>1980</td>\n",
       "      <td>1</td>\n",
       "      <td>1980-01-01</td>\n",
       "    </tr>\n",
       "    <tr>\n",
       "      <th>2329892</th>\n",
       "      <td>2329892</td>\n",
       "      <td>The Chair has examined the Journal of the last...</td>\n",
       "      <td>1980-01-03</td>\n",
       "      <td>The SPEAKER pro tempore</td>\n",
       "      <td>32</td>\n",
       "      <td>1980</td>\n",
       "      <td>1</td>\n",
       "      <td>1980-01-01</td>\n",
       "    </tr>\n",
       "    <tr>\n",
       "      <th>2329893</th>\n",
       "      <td>2329893</td>\n",
       "      <td>Mr. Speaker. I ask unanimous consent that the ...</td>\n",
       "      <td>1980-01-03</td>\n",
       "      <td>Mr. WHITE</td>\n",
       "      <td>36</td>\n",
       "      <td>1980</td>\n",
       "      <td>1</td>\n",
       "      <td>1980-01-01</td>\n",
       "    </tr>\n",
       "    <tr>\n",
       "      <th>2329894</th>\n",
       "      <td>2329894</td>\n",
       "      <td>Is there objection to the request of the gentl...</td>\n",
       "      <td>1980-01-03</td>\n",
       "      <td>The SPEAKER pro tempore</td>\n",
       "      <td>11</td>\n",
       "      <td>1980</td>\n",
       "      <td>1</td>\n",
       "      <td>1980-01-01</td>\n",
       "    </tr>\n",
       "  </tbody>\n",
       "</table>\n",
       "</div>"
      ],
      "text/plain": [
       "         Unnamed: 0                                             speech  \\\n",
       "2329890     2329890  Mr. Speaker. we in Delaware are proud of the o...   \n",
       "2329891     2329891  Mr. Speaker. it is logical for Americans to be...   \n",
       "2329892     2329892  The Chair has examined the Journal of the last...   \n",
       "2329893     2329893  Mr. Speaker. I ask unanimous consent that the ...   \n",
       "2329894     2329894  Is there objection to the request of the gentl...   \n",
       "\n",
       "               date                  speaker  word_count  year  month  \\\n",
       "2329890  1980-01-03    Mr. EVANS of Delaware         122  1980      1   \n",
       "2329891  1980-01-03            Mr. DERWINSKI          82  1980      1   \n",
       "2329892  1980-01-03  The SPEAKER pro tempore          32  1980      1   \n",
       "2329893  1980-01-03                Mr. WHITE          36  1980      1   \n",
       "2329894  1980-01-03  The SPEAKER pro tempore          11  1980      1   \n",
       "\n",
       "         month_year  \n",
       "2329890  1980-01-01  \n",
       "2329891  1980-01-01  \n",
       "2329892  1980-01-01  \n",
       "2329893  1980-01-01  \n",
       "2329894  1980-01-01  "
      ]
     },
     "execution_count": 28,
     "metadata": {},
     "output_type": "execute_result"
    }
   ],
   "source": [
    "data1980 = congress[congress['year']== 1980].copy()  # filter our dataset to just this decade\n",
    "\n",
    "data1980.head()"
   ]
  },
  {
   "cell_type": "markdown",
   "metadata": {},
   "source": [
    "Using .isin() to subset:"
   ]
  },
  {
   "cell_type": "code",
   "execution_count": 29,
   "metadata": {},
   "outputs": [
    {
     "data": {
      "text/html": [
       "<div>\n",
       "<style scoped>\n",
       "    .dataframe tbody tr th:only-of-type {\n",
       "        vertical-align: middle;\n",
       "    }\n",
       "\n",
       "    .dataframe tbody tr th {\n",
       "        vertical-align: top;\n",
       "    }\n",
       "\n",
       "    .dataframe thead th {\n",
       "        text-align: right;\n",
       "    }\n",
       "</style>\n",
       "<table border=\"1\" class=\"dataframe\">\n",
       "  <thead>\n",
       "    <tr style=\"text-align: right;\">\n",
       "      <th></th>\n",
       "      <th>Unnamed: 0</th>\n",
       "      <th>speech</th>\n",
       "      <th>date</th>\n",
       "      <th>speaker</th>\n",
       "      <th>word_count</th>\n",
       "      <th>year</th>\n",
       "      <th>month</th>\n",
       "      <th>month_year</th>\n",
       "    </tr>\n",
       "  </thead>\n",
       "  <tbody>\n",
       "    <tr>\n",
       "      <th>2329890</th>\n",
       "      <td>2329890</td>\n",
       "      <td>Mr. Speaker. we in Delaware are proud of the o...</td>\n",
       "      <td>1980-01-03</td>\n",
       "      <td>Mr. EVANS of Delaware</td>\n",
       "      <td>122</td>\n",
       "      <td>1980</td>\n",
       "      <td>1</td>\n",
       "      <td>1980-01-01</td>\n",
       "    </tr>\n",
       "    <tr>\n",
       "      <th>2329891</th>\n",
       "      <td>2329891</td>\n",
       "      <td>Mr. Speaker. it is logical for Americans to be...</td>\n",
       "      <td>1980-01-03</td>\n",
       "      <td>Mr. DERWINSKI</td>\n",
       "      <td>82</td>\n",
       "      <td>1980</td>\n",
       "      <td>1</td>\n",
       "      <td>1980-01-01</td>\n",
       "    </tr>\n",
       "    <tr>\n",
       "      <th>2329892</th>\n",
       "      <td>2329892</td>\n",
       "      <td>The Chair has examined the Journal of the last...</td>\n",
       "      <td>1980-01-03</td>\n",
       "      <td>The SPEAKER pro tempore</td>\n",
       "      <td>32</td>\n",
       "      <td>1980</td>\n",
       "      <td>1</td>\n",
       "      <td>1980-01-01</td>\n",
       "    </tr>\n",
       "    <tr>\n",
       "      <th>2329893</th>\n",
       "      <td>2329893</td>\n",
       "      <td>Mr. Speaker. I ask unanimous consent that the ...</td>\n",
       "      <td>1980-01-03</td>\n",
       "      <td>Mr. WHITE</td>\n",
       "      <td>36</td>\n",
       "      <td>1980</td>\n",
       "      <td>1</td>\n",
       "      <td>1980-01-01</td>\n",
       "    </tr>\n",
       "    <tr>\n",
       "      <th>2329894</th>\n",
       "      <td>2329894</td>\n",
       "      <td>Is there objection to the request of the gentl...</td>\n",
       "      <td>1980-01-03</td>\n",
       "      <td>The SPEAKER pro tempore</td>\n",
       "      <td>11</td>\n",
       "      <td>1980</td>\n",
       "      <td>1</td>\n",
       "      <td>1980-01-01</td>\n",
       "    </tr>\n",
       "  </tbody>\n",
       "</table>\n",
       "</div>"
      ],
      "text/plain": [
       "         Unnamed: 0                                             speech  \\\n",
       "2329890     2329890  Mr. Speaker. we in Delaware are proud of the o...   \n",
       "2329891     2329891  Mr. Speaker. it is logical for Americans to be...   \n",
       "2329892     2329892  The Chair has examined the Journal of the last...   \n",
       "2329893     2329893  Mr. Speaker. I ask unanimous consent that the ...   \n",
       "2329894     2329894  Is there objection to the request of the gentl...   \n",
       "\n",
       "               date                  speaker  word_count  year  month  \\\n",
       "2329890  1980-01-03    Mr. EVANS of Delaware         122  1980      1   \n",
       "2329891  1980-01-03            Mr. DERWINSKI          82  1980      1   \n",
       "2329892  1980-01-03  The SPEAKER pro tempore          32  1980      1   \n",
       "2329893  1980-01-03                Mr. WHITE          36  1980      1   \n",
       "2329894  1980-01-03  The SPEAKER pro tempore          11  1980      1   \n",
       "\n",
       "         month_year  \n",
       "2329890  1980-01-01  \n",
       "2329891  1980-01-01  \n",
       "2329892  1980-01-01  \n",
       "2329893  1980-01-01  \n",
       "2329894  1980-01-01  "
      ]
     },
     "execution_count": 29,
     "metadata": {},
     "output_type": "execute_result"
    }
   ],
   "source": [
    "target_years = list(range(1980, 1989 + 1))  # List of the years 1980-1989\n",
    "\n",
    "eighties_data = congress[congress['year'].isin(target_years)].copy()  # filter our dataset to just this decade\n",
    "\n",
    "eighties_data.head()"
   ]
  },
  {
   "cell_type": "markdown",
   "metadata": {},
   "source": [
    "Let's save the results in case we want to use them again."
   ]
  },
  {
   "cell_type": "code",
   "execution_count": 31,
   "metadata": {},
   "outputs": [
    {
     "name": "stdout",
     "output_type": "stream",
     "text": [
      "/users/jguldi/digital-history\n"
     ]
    }
   ],
   "source": [
    "cd ~/digital-history"
   ]
  },
  {
   "cell_type": "code",
   "execution_count": null,
   "metadata": {},
   "outputs": [],
   "source": [
    "data1980.to_csv(\"data1980.csv\")\n",
    "eighties_data.to_csv(\"eighties_data.csv\")"
   ]
  },
  {
   "cell_type": "markdown",
   "metadata": {},
   "source": [
    "## Cleaning tabular data"
   ]
  },
  {
   "cell_type": "markdown",
   "metadata": {},
   "source": [
    "Next, we're going to break speeches into words and remove stopwords.  We get our stopwords list from the package NLTK (natural language toolkit):"
   ]
  },
  {
   "cell_type": "markdown",
   "metadata": {},
   "source": [
    "Let's load stopwords as we have before"
   ]
  },
  {
   "cell_type": "code",
   "execution_count": 204,
   "metadata": {},
   "outputs": [
    {
     "name": "stdout",
     "output_type": "stream",
     "text": [
      "[nltk_data] Downloading package stopwords to\n",
      "[nltk_data]     /users/jguldi/nltk_data...\n",
      "[nltk_data]   Package stopwords is already up-to-date!\n"
     ]
    },
    {
     "data": {
      "text/plain": [
       "['i', 'me', 'my', 'myself', 'we', 'our', 'ours', 'ourselves', 'you', \"you're\"]"
      ]
     },
     "execution_count": 204,
     "metadata": {},
     "output_type": "execute_result"
    }
   ],
   "source": [
    "import nltk\n",
    "from nltk.corpus import stopwords\n",
    "\n",
    "nltk.download('stopwords')\n",
    "\n",
    "stop = stopwords.words('english')\n",
    "stop[:10]"
   ]
  },
  {
   "cell_type": "markdown",
   "metadata": {},
   "source": [
    "Stopwording with a table is much like stopwording a list: we need a for-loop that cycles through each word in the list and asks if that word is \"in\" the stopwords list.\n",
    "\n",
    "In a table, however, the text is in a column.\n",
    "\n",
    "We work on text data in a table by calling by calling each row of the column individually with a for loop and then changing the column as a whole in the datatable.  "
   ]
  },
  {
   "cell_type": "markdown",
   "metadata": {},
   "source": [
    "Let's write a for-loop that cycles through each speech in eighties_data['speech']. For each speech, we will perform some familiar tasks:\n",
    "\n",
    "  * We will .split() the speech into words\n",
    "  * We will ask Python whether each word is in the stopwords list\n",
    "  * We will save the results of that comparison.\n",
    "\n",
    "After doing this for one speech, we will save the results of the stopworded speech in a new, clean list called new_column.\n",
    "\n",
    "The for-loop will continue on to the next speech in the column eighties_data['speech'] until the whole thing has been cleaned, and the clean results comprise a list called new_column, which has as many entries as eighties_data has rows.\n",
    "\n",
    "**This may take a minute depending on how much memory you have.**"
   ]
  },
  {
   "cell_type": "code",
   "execution_count": null,
   "metadata": {},
   "outputs": [],
   "source": [
    "new_column = []\n",
    "\n",
    "for speech in data1980['speech']: # cycle through each speech \n",
    "    for c in string.punctuation: # cycle through the punctuation marks\n",
    "        speech.replace(c,'') # remove punctuation\n",
    "    speech.lower().split() # lowercase and split\n",
    "    speech2 = [] # make an empty list to be filled in by the clean words in this individual speech\n",
    "    for word in speech: # cycle through each word in the speech \n",
    "        if word not in stop: # test if it's a stopword\n",
    "            speech2.append(word) # save the good words\n",
    "    new_column.append(speech2) # save each clean speech as a new item in the list, new_column\n",
    "\n",
    "new_column[:5] # show us the first five clean speeches"
   ]
  },
  {
   "cell_type": "markdown",
   "metadata": {},
   "source": [
    "Now that we have the clean results stored in new_column, we can use *new_column* as the basis for a new column in the dataframe *eighties_data*."
   ]
  },
  {
   "cell_type": "code",
   "execution_count": null,
   "metadata": {},
   "outputs": [],
   "source": [
    "data1980['stopworded_speech'] = new_column\n",
    "\n",
    "data1980.head()"
   ]
  },
  {
   "cell_type": "markdown",
   "metadata": {},
   "source": [
    "Here is the play-by-play of what just happened.\n",
    "\n",
    "We remove the stopwords with a nested loop that moves through the dataframe above.  Here's a detailed account of what the following for-loop does to remove stopwords from the column 'speech' in the dataframe 'eighties_data2'.\n",
    "\n",
    "* Before we do anything else, we create a backup of eighties_data (just in case we mangle things!) and we make an empty list called new_column, which is going to be a dummy version of the real data in eighties_data['speech']\n",
    "\n",
    "\n",
    "        eighties_data2 = eighties_data.copy()\n",
    "\n",
    "        new_column = []\n",
    "        \n",
    "        \n",
    "* The first part of the loop takes the 'speech' column, and moves one row at a time:\n",
    "    \n",
    "        'for speech in eighties_data2['speech']'\n",
    "        \n",
    "\n",
    "* Next, the instructions split up each given speech into a list of separate words, which we call 'speech1'  \n",
    "    \n",
    "        'speech1 = speech.split()'\n",
    "\n",
    "\n",
    "* Next, we create an empty dummy variable called 'speech2':\n",
    "\n",
    "        speech2 = []\n",
    "\n",
    "\n",
    "* We move through the words of speech1, asking of each one: Is this word in the stopwords list, 'stop'?\n",
    "\n",
    "        for word in speech1:\n",
    "            if word not in stop:\n",
    "                \n",
    "                \n",
    "* If the word is NOT a stopword, we're going to keep it and add it to our dummy variable, speech2.  \n",
    "\n",
    "                speech2.append(word)\n",
    "                \n",
    "\n",
    "* After that loop runs through every words in speech1, we will have a version of the first speech from eighties_data2['speech'] that has no stopwords, and we've called it speech2.  \n",
    "\n",
    "    It's currently in the form of a list, so we're going to weld it back into a string with .join():\n",
    "    \n",
    "                speech3 = ' '.join(speech2)\n",
    "\n",
    "\n",
    "* Then, at last, we'll tack our stopworded speech (speech3) onto the end of our dummy list, new_column.\n",
    "                    \n",
    "                 new_column.append(speech3)\n",
    "\n",
    "\n",
    "The loop repeats this process for every speech in eighties_data2['speech'], and every word in every speech.  At the end of that process, new_column will be a list of clean speeches in the same order as the original column.\n",
    "\n",
    "*  All there is to do now is to take our stopworded handiwork -- new_column -- and use it to replace the unstopworded original column, eighties_data2['speech']:\n",
    "            \n",
    "        eighties_data2['speech'] = new_column\n",
    "\n",
    "The new output, eighties_data2, should be just like eighties_data, but with stopwords removed in the 'speech' column.\n",
    "\n",
    "Please note that the below loop takes a minute to run.  *Also of interest for advanced coders: there are many ways to do this in parallel, using .apply(). We won't be covering them in this class, but you should feel free to look them up and implement them if you feel competent on your own."
   ]
  },
  {
   "cell_type": "markdown",
   "metadata": {},
   "source": [
    "## Wordcount with Tabular Data"
   ]
  },
  {
   "cell_type": "markdown",
   "metadata": {},
   "source": [
    "We can use many of the tools we already know to count words.\n",
    "\n",
    "     value_counts()\n"
   ]
  },
  {
   "cell_type": "markdown",
   "metadata": {},
   "source": [
    "#### You need lists of words in a column to count them."
   ]
  },
  {
   "cell_type": "markdown",
   "metadata": {},
   "source": [
    "An important observation: in the stopwording loop above, we just changed the data type in which the words are stored. \n",
    "\n",
    "Originally, our 'speech' column was just long strings of words.  In order to stopword those strings, we .split() each speech into a list of individual words -- just like the lists we've been working on so far. Those lists are easy to stopword.\n",
    "\n",
    "We could have glued the words back together into super-long strings again. But in fact, it's useful to keep the words in list form, because lists are easy to count.  "
   ]
  },
  {
   "cell_type": "code",
   "execution_count": 130,
   "metadata": {},
   "outputs": [
    {
     "data": {
      "text/plain": [
       "pandas.core.series.Series"
      ]
     },
     "execution_count": 130,
     "metadata": {},
     "output_type": "execute_result"
    }
   ],
   "source": [
    "type(data1980['speech'])"
   ]
  },
  {
   "cell_type": "code",
   "execution_count": null,
   "metadata": {},
   "outputs": [],
   "source": [
    "type(data1980['stopworded_speech'])"
   ]
  },
  {
   "cell_type": "markdown",
   "metadata": {},
   "source": [
    "How long is the first speech, in words?"
   ]
  },
  {
   "cell_type": "code",
   "execution_count": null,
   "metadata": {},
   "outputs": [],
   "source": [
    "len(data1980['speech'][0])"
   ]
  },
  {
   "cell_type": "markdown",
   "metadata": {},
   "source": [
    "What are the top words in the first speech?"
   ]
  },
  {
   "cell_type": "code",
   "execution_count": null,
   "metadata": {},
   "outputs": [],
   "source": [
    "data1980['speech'].value_counts().Series"
   ]
  },
  {
   "cell_type": "markdown",
   "metadata": {},
   "source": [
    "#### Count the top words overall in our dataset"
   ]
  },
  {
   "cell_type": "markdown",
   "metadata": {},
   "source": [
    "Let's count the top words.  \n",
    "\n",
    "Let's create a list called \"all_words\" from the content of each speech in the \"speech\" column."
   ]
  },
  {
   "cell_type": "code",
   "execution_count": null,
   "metadata": {},
   "outputs": [],
   "source": [
    "words1980 = []\n",
    "\n",
    "for speech in data1980['speech']:\n",
    "    speech1 = speech.split()\n",
    "    for word in speech1:\n",
    "        words1980.append(word)"
   ]
  },
  {
   "cell_type": "code",
   "execution_count": null,
   "metadata": {},
   "outputs": [],
   "source": [
    "words1980[:10]"
   ]
  },
  {
   "cell_type": "code",
   "execution_count": null,
   "metadata": {},
   "outputs": [],
   "source": [
    "topwords1980 = pd.Series.value_counts(words1980)[:20]"
   ]
  },
  {
   "cell_type": "markdown",
   "metadata": {},
   "source": [
    "Great -- but some of those words are pretty hollow!  \n",
    "\n",
    "Let's create a new stopword list and clean it up."
   ]
  },
  {
   "cell_type": "code",
   "execution_count": null,
   "metadata": {},
   "outputs": [],
   "source": [
    "stopworded_count = []\n",
    "stopwords2 = ['ca', 'mr', 'many', 'without', 'last', 'way', 'programs', 'want', 'like', 'ask', 'could', 'year', 'american', 'country', 'well', 'made', 'say', 'members', 'million', 'must', 'percent', 'congress', 'federal', 'national', 'legislation', 'government', 'program', 'may', 'act', 'make', 'going', 'first', 'senator', 'senate', 'legislation', 'support', 'chairman', 'amendment', 'committee', 'united', 'today', 'state', 'one', 'us', 'gentleman', 'would', 'bill', '100th', 'house', 'states', 'new', 'speaker', 'years', 'also', 'time']\n",
    "\n",
    "cleanwords1980 = []\n",
    "\n",
    "for speech in data1980['speech']:\n",
    "    speech1 = speech.split()\n",
    "    for word in speech1:\n",
    "        if word not in stopwords2: # notice the new line here!\n",
    "            cleanwords1980.append(word)\n",
    "        \n",
    "topwords1980 = pd.Series.value_counts(cleanwords1980)[:20]\n",
    "topwords1980"
   ]
  },
  {
   "cell_type": "markdown",
   "metadata": {},
   "source": [
    "## Get the top speeches that have mention the word \"democracy\" "
   ]
  },
  {
   "cell_type": "code",
   "execution_count": null,
   "metadata": {},
   "outputs": [],
   "source": [
    "import numpy as np"
   ]
  },
  {
   "cell_type": "markdown",
   "metadata": {},
   "source": [
    "Next, let's count the number of times that the word 'democracy' appears in the 1980s.  \n",
    "\n",
    "Notice the use of .str.count():"
   ]
  },
  {
   "cell_type": "code",
   "execution_count": null,
   "metadata": {},
   "outputs": [],
   "source": [
    "data1980['democracy_count'] = data1980['speech'].str.count('democracy')  # Create a new column for the count of the word democracydis\n",
    "display(data1980)"
   ]
  },
  {
   "cell_type": "code",
   "execution_count": null,
   "metadata": {},
   "outputs": [],
   "source": [
    "Get the top 20 speeches that mentioned democracy."
   ]
  },
  {
   "cell_type": "code",
   "execution_count": null,
   "metadata": {},
   "outputs": [],
   "source": [
    "democracyspeeches = data1980.nlargest(20, ['democracy_count'])\n",
    "democracyspeeches"
   ]
  },
  {
   "cell_type": "markdown",
   "metadata": {},
   "source": [
    "## Get the top speeches by length"
   ]
  },
  {
   "cell_type": "code",
   "execution_count": null,
   "metadata": {},
   "outputs": [],
   "source": [
    "What are the longest speeches in the database?"
   ]
  },
  {
   "cell_type": "code",
   "execution_count": null,
   "metadata": {},
   "outputs": [],
   "source": [
    "longest_speeches = congress.nlargest(n=5, columns=['word_count']) # Get the top 5 longest speeches by word_count\n",
    "longest_speeches "
   ]
  },
  {
   "cell_type": "markdown",
   "metadata": {},
   "source": [
    "## Assignment"
   ]
  },
  {
   "cell_type": "markdown",
   "metadata": {},
   "source": [
    "1) Print out the first 500 words of the speech that mentions your favorite animal the highest number of times.  \n",
    "\n",
    "\n",
    "2) Find the longest speech by Bob Dole. Show the last 500 words.  \n",
    "\n",
    "\n",
    "3) Find the longest speech by Bob Dole in 1980. Show the first 500 words.  \n",
    "\n",
    "\n",
    "4) Find the speech where Bob Dole mentions democracy the greatest number of times. Show the first 500 words.  \n",
    "\n",
    "\n",
    "5) Find longest speech where Bob Dole mentions democracy at least three times. Show the first 500 words.  \n",
    "\n",
    "\n",
    "Take a screenshot of the code and the results and upload it. "
   ]
  }
 ],
 "metadata": {
  "kernelspec": {
   "display_name": "Python 3",
   "language": "python",
   "name": "python3"
  },
  "language_info": {
   "codemirror_mode": {
    "name": "ipython",
    "version": 3
   },
   "file_extension": ".py",
   "mimetype": "text/x-python",
   "name": "python",
   "nbconvert_exporter": "python",
   "pygments_lexer": "ipython3",
   "version": "3.6.7"
  }
 },
 "nbformat": 4,
 "nbformat_minor": 4
}
