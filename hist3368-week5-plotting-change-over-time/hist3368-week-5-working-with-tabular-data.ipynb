{
 "cells": [
  {
   "cell_type": "markdown",
   "metadata": {
    "id": "mUtTNBx4tOHM"
   },
   "source": [
    "# Hist 3368 - Week 5 - Working With Tabular Data in Pandas\n",
    "\n",
    "***by Jo Guldi***\n",
    "\n",
    "Until now, in this class we have worked with lists of words. We have cleaned them and counted and compared them.\n",
    "\n",
    "For the rest of the class, we will be working with data in tables. Tables allow us to keep track of the date when each word is from. If we have time data, we can compare wordcounts over time, compare wordcounts for different speakers, and so on.\n",
    "\n",
    "We will need a few special commands to navigate tabular data.\n",
    "\n",
    "In this notebook, we will learn to navigate tables:\n",
    "\n",
    "   * how to call a column\n",
    "   * how to move through a column, row by row, using a for loop\n",
    "   * how to stopword\n",
    "   * how to subset or 'filter' data by a column, for example, finding all the speeches of one speaker, or all the speeches on a certain date, using square brackets -- **[ ]** -- and the operators **.isin()**, **==**, and **!=**.\n",
    "   * how to find the largest counts in a dataset using **.nlargest()**\n",
    "\n",
    "We will clean tabular data, with strategies we've seen before:\n",
    "   * stripping punctuation\n",
    "   * stopwording\n",
    "   * lemmatizing\n",
    "   * splitting into words (i.e. tokenization)\n",
    "\n",
    "We will also learn some basics of counting with tables:\n",
    "\n",
    "   * how to count the words in a subset of data.\n",
    "\n",
    "#### Learning Research Strategies\n",
    "\n",
    "We will practice navigating around the tabular data for Congress, asking the kind of questions a researcher might want to know, such as:\n",
    "\n",
    "   * given a set of years, who were the top speakers in Congress?\n",
    "   * given a speaker, what was his or her longest speech?\n",
    "   * given a certain set of words, who were the speakers who used those words the most?\n",
    "   \n",
    "The research questions profiled here are fairly simple, but if combined with strategies such as a *controlled vocabulary* they can result in a good deal of important information about which speakers were engaged with a particular topic -- for instance, the environment, crime, or women's health.  \n",
    "\n",
    "These research strategies can also help the researcher to navigate to the longest speeches where a speaker invokes those topics, or the speeches where the speaker invokes the highest number of words related to a particular topic.  Those research strategies should form the basis for guided reading.\n"
   ]
  },
  {
   "cell_type": "markdown",
   "metadata": {},
   "source": [
    "## Load some data"
   ]
  },
  {
   "cell_type": "code",
   "execution_count": 1,
   "metadata": {},
   "outputs": [],
   "source": [
    "import pandas as pd\n",
    "import csv"
   ]
  },
  {
   "cell_type": "code",
   "execution_count": 2,
   "metadata": {},
   "outputs": [
    {
     "name": "stdout",
     "output_type": "stream",
     "text": [
      "/users/jguldi/digital-history\n"
     ]
    }
   ],
   "source": [
    "cd ~/digital-history/"
   ]
  },
  {
   "cell_type": "markdown",
   "metadata": {},
   "source": [
    "***This might take a minute. Loading takes time -- please be patient.***"
   ]
  },
  {
   "cell_type": "code",
   "execution_count": 3,
   "metadata": {},
   "outputs": [],
   "source": [
    "congress = pd.read_csv(\"congress1967-2010.csv\")"
   ]
  },
  {
   "cell_type": "markdown",
   "metadata": {},
   "source": [
    "TROUBLESHOOTING: if the line above doesn't work, you might have missed something earlier this week."
   ]
  },
  {
   "cell_type": "code",
   "execution_count": 4,
   "metadata": {},
   "outputs": [
    {
     "data": {
      "text/html": [
       "<div>\n",
       "<style scoped>\n",
       "    .dataframe tbody tr th:only-of-type {\n",
       "        vertical-align: middle;\n",
       "    }\n",
       "\n",
       "    .dataframe tbody tr th {\n",
       "        vertical-align: top;\n",
       "    }\n",
       "\n",
       "    .dataframe thead th {\n",
       "        text-align: right;\n",
       "    }\n",
       "</style>\n",
       "<table border=\"1\" class=\"dataframe\">\n",
       "  <thead>\n",
       "    <tr style=\"text-align: right;\">\n",
       "      <th></th>\n",
       "      <th>Unnamed: 0</th>\n",
       "      <th>speech</th>\n",
       "      <th>date</th>\n",
       "      <th>speaker</th>\n",
       "      <th>word_count</th>\n",
       "      <th>year</th>\n",
       "      <th>month</th>\n",
       "      <th>month_year</th>\n",
       "    </tr>\n",
       "  </thead>\n",
       "  <tbody>\n",
       "    <tr>\n",
       "      <th>0</th>\n",
       "      <td>0</td>\n",
       "      <td>Those who do not enjoy the privilege of the fl...</td>\n",
       "      <td>1967-01-10</td>\n",
       "      <td>The VICE PRESIDENT</td>\n",
       "      <td>16</td>\n",
       "      <td>1967</td>\n",
       "      <td>1</td>\n",
       "      <td>1967-01-01</td>\n",
       "    </tr>\n",
       "    <tr>\n",
       "      <th>1</th>\n",
       "      <td>1</td>\n",
       "      <td>Mr. President. on the basis of an agreement re...</td>\n",
       "      <td>1967-01-10</td>\n",
       "      <td>Mr. MANSFIELD</td>\n",
       "      <td>35</td>\n",
       "      <td>1967</td>\n",
       "      <td>1</td>\n",
       "      <td>1967-01-01</td>\n",
       "    </tr>\n",
       "    <tr>\n",
       "      <th>2</th>\n",
       "      <td>2</td>\n",
       "      <td>The Members of the Senate have heard the remar...</td>\n",
       "      <td>1967-01-10</td>\n",
       "      <td>The VICE PRESIDENT</td>\n",
       "      <td>40</td>\n",
       "      <td>1967</td>\n",
       "      <td>1</td>\n",
       "      <td>1967-01-01</td>\n",
       "    </tr>\n",
       "    <tr>\n",
       "      <th>3</th>\n",
       "      <td>3</td>\n",
       "      <td>The Chair lays before the Senate the following...</td>\n",
       "      <td>1967-01-10</td>\n",
       "      <td>The VICE PRESIDENT</td>\n",
       "      <td>151</td>\n",
       "      <td>1967</td>\n",
       "      <td>1</td>\n",
       "      <td>1967-01-01</td>\n",
       "    </tr>\n",
       "    <tr>\n",
       "      <th>4</th>\n",
       "      <td>4</td>\n",
       "      <td>Secretary of State.</td>\n",
       "      <td>1967-01-10</td>\n",
       "      <td>Mrs. AGNES BAGGETT</td>\n",
       "      <td>3</td>\n",
       "      <td>1967</td>\n",
       "      <td>1</td>\n",
       "      <td>1967-01-01</td>\n",
       "    </tr>\n",
       "  </tbody>\n",
       "</table>\n",
       "</div>"
      ],
      "text/plain": [
       "   Unnamed: 0                                             speech        date  \\\n",
       "0           0  Those who do not enjoy the privilege of the fl...  1967-01-10   \n",
       "1           1  Mr. President. on the basis of an agreement re...  1967-01-10   \n",
       "2           2  The Members of the Senate have heard the remar...  1967-01-10   \n",
       "3           3  The Chair lays before the Senate the following...  1967-01-10   \n",
       "4           4                                Secretary of State.  1967-01-10   \n",
       "\n",
       "              speaker  word_count  year  month  month_year  \n",
       "0  The VICE PRESIDENT          16  1967      1  1967-01-01  \n",
       "1       Mr. MANSFIELD          35  1967      1  1967-01-01  \n",
       "2  The VICE PRESIDENT          40  1967      1  1967-01-01  \n",
       "3  The VICE PRESIDENT         151  1967      1  1967-01-01  \n",
       "4  Mrs. AGNES BAGGETT           3  1967      1  1967-01-01  "
      ]
     },
     "execution_count": 4,
     "metadata": {},
     "output_type": "execute_result"
    }
   ],
   "source": [
    "congress.head()"
   ]
  },
  {
   "cell_type": "markdown",
   "metadata": {},
   "source": [
    "The data you are looking at is 'tabular' -- meaning that it's in a table.  \n",
    "\n",
    "The format used by the pandas software package, which is running our table, is called a \"dataframe.\"  A dataframe is a mtwo-dimensional size-mutable, potentially heterogeneous tabular data structure with labeled axes (rows and columns).  \"Heterogenous\" means that the dataframe can have some columns that hold strings, and other columns that hold numbers or dates."
   ]
  },
  {
   "cell_type": "markdown",
   "metadata": {},
   "source": [
    "#### Basic Navigation"
   ]
  },
  {
   "cell_type": "markdown",
   "metadata": {},
   "source": [
    "We have met pandas data with an index before when we met the pandas Series.  A Series is a one-dimensional labeled array -- meaning that it only had one column, not many.  However, everything that we learned about navigating indices wlil apply to dataframes too."
   ]
  },
  {
   "cell_type": "code",
   "execution_count": 5,
   "metadata": {},
   "outputs": [
    {
     "data": {
      "text/plain": [
       "0"
      ]
     },
     "execution_count": 5,
     "metadata": {},
     "output_type": "execute_result"
    }
   ],
   "source": [
    "congress.index[0]"
   ]
  },
  {
   "cell_type": "code",
   "execution_count": 6,
   "metadata": {},
   "outputs": [
    {
     "data": {
      "text/plain": [
       "1000"
      ]
     },
     "execution_count": 6,
     "metadata": {},
     "output_type": "execute_result"
    }
   ],
   "source": [
    "congress.index[1000]"
   ]
  },
  {
   "cell_type": "markdown",
   "metadata": {},
   "source": [
    "We can call the pandas data with the **.loc** function.  The formula for calling data is :\n",
    "\n",
    "    dataFrame.loc[<ROWS RANGE> , <COLUMNS RANGE>] -- for calling rows or columns by name\n",
    "    dataFrame.iloc[<ROWS RANGE> , <COLUMNS RANGE>] -- for calling rows or columns by number"
   ]
  },
  {
   "cell_type": "markdown",
   "metadata": {},
   "source": [
    "Here are rows #1005-1008:"
   ]
  },
  {
   "cell_type": "code",
   "execution_count": 7,
   "metadata": {},
   "outputs": [
    {
     "data": {
      "text/html": [
       "<div>\n",
       "<style scoped>\n",
       "    .dataframe tbody tr th:only-of-type {\n",
       "        vertical-align: middle;\n",
       "    }\n",
       "\n",
       "    .dataframe tbody tr th {\n",
       "        vertical-align: top;\n",
       "    }\n",
       "\n",
       "    .dataframe thead th {\n",
       "        text-align: right;\n",
       "    }\n",
       "</style>\n",
       "<table border=\"1\" class=\"dataframe\">\n",
       "  <thead>\n",
       "    <tr style=\"text-align: right;\">\n",
       "      <th></th>\n",
       "      <th>Unnamed: 0</th>\n",
       "      <th>speech</th>\n",
       "      <th>date</th>\n",
       "      <th>speaker</th>\n",
       "      <th>word_count</th>\n",
       "      <th>year</th>\n",
       "      <th>month</th>\n",
       "      <th>month_year</th>\n",
       "    </tr>\n",
       "  </thead>\n",
       "  <tbody>\n",
       "    <tr>\n",
       "      <th>1005</th>\n",
       "      <td>1005</td>\n",
       "      <td>Mr. President. for many years I have advocated...</td>\n",
       "      <td>1967-01-11</td>\n",
       "      <td>Mr. WILLIAMS of Delaware</td>\n",
       "      <td>184</td>\n",
       "      <td>1967</td>\n",
       "      <td>1</td>\n",
       "      <td>1967-01-01</td>\n",
       "    </tr>\n",
       "    <tr>\n",
       "      <th>1006</th>\n",
       "      <td>1006</td>\n",
       "      <td>I am delighted to have the Senator from Delawa...</td>\n",
       "      <td>1967-01-11</td>\n",
       "      <td>Mr. DIRKSEN</td>\n",
       "      <td>27</td>\n",
       "      <td>1967</td>\n",
       "      <td>1</td>\n",
       "      <td>1967-01-01</td>\n",
       "    </tr>\n",
       "    <tr>\n",
       "      <th>1007</th>\n",
       "      <td>1007</td>\n",
       "      <td>Mr. President. I submit a resolution to amend ...</td>\n",
       "      <td>1967-01-11</td>\n",
       "      <td>Mr. CANNON</td>\n",
       "      <td>449</td>\n",
       "      <td>1967</td>\n",
       "      <td>1</td>\n",
       "      <td>1967-01-01</td>\n",
       "    </tr>\n",
       "  </tbody>\n",
       "</table>\n",
       "</div>"
      ],
      "text/plain": [
       "      Unnamed: 0                                             speech  \\\n",
       "1005        1005  Mr. President. for many years I have advocated...   \n",
       "1006        1006  I am delighted to have the Senator from Delawa...   \n",
       "1007        1007  Mr. President. I submit a resolution to amend ...   \n",
       "\n",
       "            date                   speaker  word_count  year  month  \\\n",
       "1005  1967-01-11  Mr. WILLIAMS of Delaware         184  1967      1   \n",
       "1006  1967-01-11               Mr. DIRKSEN          27  1967      1   \n",
       "1007  1967-01-11                Mr. CANNON         449  1967      1   \n",
       "\n",
       "      month_year  \n",
       "1005  1967-01-01  \n",
       "1006  1967-01-01  \n",
       "1007  1967-01-01  "
      ]
     },
     "execution_count": 7,
     "metadata": {},
     "output_type": "execute_result"
    }
   ],
   "source": [
    "congress.iloc[1005:1008, ]"
   ]
  },
  {
   "cell_type": "markdown",
   "metadata": {},
   "source": [
    "Here is the speaker column. Notice the use of ':' for 'everything':"
   ]
  },
  {
   "cell_type": "code",
   "execution_count": 8,
   "metadata": {},
   "outputs": [
    {
     "data": {
      "text/plain": [
       "0                  The VICE PRESIDENT\n",
       "1                       Mr. MANSFIELD\n",
       "2                  The VICE PRESIDENT\n",
       "3                  The VICE PRESIDENT\n",
       "4                  Mrs. AGNES BAGGETT\n",
       "                      ...            \n",
       "5992063                   Ms. GRANGER\n",
       "5992064    Ms. KILPATRICK of Michigan\n",
       "5992065                    Mr. HELLER\n",
       "5992066                   Mr. PAULSEN\n",
       "5992067          Mr. HALL of New York\n",
       "Name: speaker, Length: 5992068, dtype: object"
      ]
     },
     "execution_count": 8,
     "metadata": {},
     "output_type": "execute_result"
    }
   ],
   "source": [
    "congress.loc[:, 'speaker']"
   ]
  },
  {
   "cell_type": "markdown",
   "metadata": {},
   "source": [
    "We can also call columns by name using just square brackets."
   ]
  },
  {
   "cell_type": "code",
   "execution_count": 9,
   "metadata": {},
   "outputs": [
    {
     "data": {
      "text/plain": [
       "0                  The VICE PRESIDENT\n",
       "1                       Mr. MANSFIELD\n",
       "2                  The VICE PRESIDENT\n",
       "3                  The VICE PRESIDENT\n",
       "4                  Mrs. AGNES BAGGETT\n",
       "                      ...            \n",
       "5992063                   Ms. GRANGER\n",
       "5992064    Ms. KILPATRICK of Michigan\n",
       "5992065                    Mr. HELLER\n",
       "5992066                   Mr. PAULSEN\n",
       "5992067          Mr. HALL of New York\n",
       "Name: speaker, Length: 5992068, dtype: object"
      ]
     },
     "execution_count": 9,
     "metadata": {},
     "output_type": "execute_result"
    }
   ],
   "source": [
    "congress['speaker']"
   ]
  },
  {
   "cell_type": "markdown",
   "metadata": {},
   "source": [
    "Notice that I can also call the column with double brackets.\n",
    "\n",
    "  * The difference between the two methods of calling the column is that above, single brackets call the column as a pandas Series.  \n",
    "  * Double brackets call the column as a pandas dataframe -- such that the column is labeled with its name."
   ]
  },
  {
   "cell_type": "code",
   "execution_count": 10,
   "metadata": {},
   "outputs": [
    {
     "data": {
      "text/html": [
       "<div>\n",
       "<style scoped>\n",
       "    .dataframe tbody tr th:only-of-type {\n",
       "        vertical-align: middle;\n",
       "    }\n",
       "\n",
       "    .dataframe tbody tr th {\n",
       "        vertical-align: top;\n",
       "    }\n",
       "\n",
       "    .dataframe thead th {\n",
       "        text-align: right;\n",
       "    }\n",
       "</style>\n",
       "<table border=\"1\" class=\"dataframe\">\n",
       "  <thead>\n",
       "    <tr style=\"text-align: right;\">\n",
       "      <th></th>\n",
       "      <th>speaker</th>\n",
       "    </tr>\n",
       "  </thead>\n",
       "  <tbody>\n",
       "    <tr>\n",
       "      <th>0</th>\n",
       "      <td>The VICE PRESIDENT</td>\n",
       "    </tr>\n",
       "    <tr>\n",
       "      <th>1</th>\n",
       "      <td>Mr. MANSFIELD</td>\n",
       "    </tr>\n",
       "    <tr>\n",
       "      <th>2</th>\n",
       "      <td>The VICE PRESIDENT</td>\n",
       "    </tr>\n",
       "    <tr>\n",
       "      <th>3</th>\n",
       "      <td>The VICE PRESIDENT</td>\n",
       "    </tr>\n",
       "    <tr>\n",
       "      <th>4</th>\n",
       "      <td>Mrs. AGNES BAGGETT</td>\n",
       "    </tr>\n",
       "    <tr>\n",
       "      <th>...</th>\n",
       "      <td>...</td>\n",
       "    </tr>\n",
       "    <tr>\n",
       "      <th>5992063</th>\n",
       "      <td>Ms. GRANGER</td>\n",
       "    </tr>\n",
       "    <tr>\n",
       "      <th>5992064</th>\n",
       "      <td>Ms. KILPATRICK of Michigan</td>\n",
       "    </tr>\n",
       "    <tr>\n",
       "      <th>5992065</th>\n",
       "      <td>Mr. HELLER</td>\n",
       "    </tr>\n",
       "    <tr>\n",
       "      <th>5992066</th>\n",
       "      <td>Mr. PAULSEN</td>\n",
       "    </tr>\n",
       "    <tr>\n",
       "      <th>5992067</th>\n",
       "      <td>Mr. HALL of New York</td>\n",
       "    </tr>\n",
       "  </tbody>\n",
       "</table>\n",
       "<p>5992068 rows × 1 columns</p>\n",
       "</div>"
      ],
      "text/plain": [
       "                            speaker\n",
       "0                The VICE PRESIDENT\n",
       "1                     Mr. MANSFIELD\n",
       "2                The VICE PRESIDENT\n",
       "3                The VICE PRESIDENT\n",
       "4                Mrs. AGNES BAGGETT\n",
       "...                             ...\n",
       "5992063                 Ms. GRANGER\n",
       "5992064  Ms. KILPATRICK of Michigan\n",
       "5992065                  Mr. HELLER\n",
       "5992066                 Mr. PAULSEN\n",
       "5992067        Mr. HALL of New York\n",
       "\n",
       "[5992068 rows x 1 columns]"
      ]
     },
     "execution_count": 10,
     "metadata": {},
     "output_type": "execute_result"
    }
   ],
   "source": [
    "congress[['speaker']]"
   ]
  },
  {
   "cell_type": "markdown",
   "metadata": {},
   "source": [
    "You can also see how many rows there are."
   ]
  },
  {
   "cell_type": "code",
   "execution_count": 11,
   "metadata": {},
   "outputs": [
    {
     "data": {
      "text/plain": [
       "5992068"
      ]
     },
     "execution_count": 11,
     "metadata": {},
     "output_type": "execute_result"
    }
   ],
   "source": [
    "congress['speaker'].count()"
   ]
  },
  {
   "cell_type": "markdown",
   "metadata": {},
   "source": [
    "Here is just the speaker and speech for row 3234:"
   ]
  },
  {
   "cell_type": "code",
   "execution_count": 12,
   "metadata": {},
   "outputs": [
    {
     "data": {
      "text/plain": [
       "speaker                                            Mr. TOWER\n",
       "speech     Mr. President. on June 17. a starting gun will...\n",
       "Name: 3234, dtype: object"
      ]
     },
     "execution_count": 12,
     "metadata": {},
     "output_type": "execute_result"
    }
   ],
   "source": [
    "congress.loc[:, ['speaker', 'speech']].iloc[3234, :]"
   ]
  },
  {
   "cell_type": "markdown",
   "metadata": {},
   "source": [
    "Here is just the speech:"
   ]
  },
  {
   "cell_type": "code",
   "execution_count": 13,
   "metadata": {},
   "outputs": [
    {
     "data": {
      "text/plain": [
       "speech    Mr. President. on June 17. a starting gun will...\n",
       "Name: 3234, dtype: object"
      ]
     },
     "execution_count": 13,
     "metadata": {},
     "output_type": "execute_result"
    }
   ],
   "source": [
    "myspeech = congress.loc[:, ['speech']].iloc[3234, :]\n",
    "myspeech"
   ]
  },
  {
   "cell_type": "markdown",
   "metadata": {},
   "source": [
    "We can use some familiar tools to print out the whole speech or any portion thereof:"
   ]
  },
  {
   "cell_type": "code",
   "execution_count": 14,
   "metadata": {},
   "outputs": [
    {
     "name": "stdout",
     "output_type": "stream",
     "text": [
      "Mr. President. on June 17. a starting gun will sound in San Marcos. Tex.. and the worlds toughest river race will be underway. The race is the Texas water safari. marking its fifth year in 1967 with a 538mile race from San Marcos. by way of the San Marcos and Guadalupe Rivers. along coastal bays and rivers. utilizing the Intracoastal Canal. to Freeport. Brave men from all over the countryand several entrants from foreign countries--will test their endurance. skill. equipment. plain physical stamina. and even luck as they brave logjams. rocks. white water. strong winds. and exhausting portages. on a journey through some of the most beautiful country in Texas. I am submitting today a concurrent resolution granting official recognition to the event. The race Is being sponsored by a nonprofit organization expressly set up for this purpose. Prizes approaching $6.500 in value are being donated. along with several fine trophies. I believe this outstanding sports event. emphasizing courage. skill. endurance. and physical fitness deserves official recognition. and I am hopeful that the Senate will agree and act with dispatch on the resolution. Mr. President. I ask that the text of the concurrent resolution be printed at this point in the RECORD. followed by a history of the Texas water safari. prepared by Mr. James Hurst of the safari.\n"
     ]
    }
   ],
   "source": [
    "for word in myspeech[:500]:\n",
    "    print(word)"
   ]
  },
  {
   "cell_type": "markdown",
   "metadata": {},
   "source": [
    "### Navigating tabular data: column by column, rows within columns\n",
    "\n",
    "In the current dataset, many words are compiled into a list that is a 'speech' in Congress.  \n",
    "\n",
    "You can call the column 'speech' with square brackets, e.g.\n",
    "\n",
    "    congress['speech']\n",
    "\n",
    "Many speeches form a column called 'speech.'  The column speech can be called and treated as a list.\n",
    "\n",
    "You can call individual speeches with an additional set of square brackets after ['speech'], e.g. \n",
    "\n",
    "    congress['speech'][0]\n",
    "    \n",
    "-- which calls the first speech in the speech column."
   ]
  },
  {
   "cell_type": "code",
   "execution_count": 15,
   "metadata": {},
   "outputs": [
    {
     "data": {
      "text/plain": [
       "'Those who do not enjoy the privilege of the floor will please retire from the Chamber.'"
      ]
     },
     "execution_count": 15,
     "metadata": {},
     "output_type": "execute_result"
    }
   ],
   "source": [
    "congress['speech'][0]"
   ]
  },
  {
   "cell_type": "code",
   "execution_count": 16,
   "metadata": {},
   "outputs": [
    {
     "data": {
      "text/plain": [
       "'Mr. President. on the basis of an agreement reached on both sides. it is suggested that the Chamber be cleared of all attaches. unless they have absolutely important business to attend to in the Chamber.'"
      ]
     },
     "execution_count": 16,
     "metadata": {},
     "output_type": "execute_result"
    }
   ],
   "source": [
    "congress['speech'][1]"
   ]
  },
  {
   "cell_type": "code",
   "execution_count": 17,
   "metadata": {},
   "outputs": [
    {
     "data": {
      "text/plain": [
       "'The Members of the Senate have heard the remarks of the distinguished majority leader. All attaches and staff members who are not vitally needed for the next few minutes of the deliberations of the Senate will tetire from the Chamber.'"
      ]
     },
     "execution_count": 17,
     "metadata": {},
     "output_type": "execute_result"
    }
   ],
   "source": [
    "congress['speech'][2]"
   ]
  },
  {
   "cell_type": "markdown",
   "metadata": {},
   "source": [
    "We can work on the text -- for instance cleaning or counting -- by calling each row in a text column, one at a time, and executing a transformation, via a for-loop.\n",
    "\n",
    "Here are the last hundred characters of the last ten speeches in the dataframe, in upper case:"
   ]
  },
  {
   "cell_type": "code",
   "execution_count": 18,
   "metadata": {},
   "outputs": [
    {
     "name": "stdout",
     "output_type": "stream",
     "text": [
      "MADAM SPEAKER. I WOULD LIKE TO SUBMIT THE FOLLOWING:\n",
      "EMENTS AND SERVICE OF AVIS GREEN TUCKER. AND IN EXTENDING OUR CONDOLENCES TO HER FAMILY AND FRIENDS.\n",
      "CERNING THE CHINESE GOVERNMENTS APPALLING AND MASSIVE HUMAN RIGHTS VIOLATIONS SIMPLY ISNT AN OPTION.\n",
      "662-\"YEA\". H.R. 6547. PROTECTING STUDENTS FROM SEXUAL AND VIOLENT PREDATORS ACTROLCALL NO. 663\"YEA\".\n",
      "RS THAN DOMINATED THE FINANCIAL MEDIA. THEY MADE THEIR REPUTATIONS AND THEIR FORTUNES THROUGH FRAUD.\n",
      "ROLLCALL NOS. 662 AND 661. I WAS ABSENT FROM THE HOUSE. HAD I BEEN PRESENT. I WOULD HAVE VOTED \"NO.\"\n",
      "UL TO PROTECTING THE CONSTITUTION OF THE UNITED STATES AND THE GOALS OF OUR GREAT NATION. GOD BLESS.\n",
      "AKER. ON ROLICALL NO. 658. I WAS UNAVOIDABLY DETAINED. HAD I BEEN PRESENT. I WOULD HAVE VOTED \"YES.\"\n",
      "LCALL NO. 658 MY FLIGHT WAS DELAYED DUE TO WEATHER AND HAD I BEEN PRESENT. I WOULD HAVE VOTED \"YES.\"\n",
      "ME BEFORE THE HOUSE. AND DONATED MY RAISE TO LOCAL NONPROFIT ORGANIZATIONS RATHER THAN ACCEPTING IT.\n"
     ]
    }
   ],
   "source": [
    "for speech in congress['speech'][-10:]:\n",
    "    speech = speech.upper()\n",
    "    print(speech[-100:])"
   ]
  },
  {
   "cell_type": "markdown",
   "metadata": {},
   "source": [
    "## Basic Counting with Tabular Data "
   ]
  },
  {
   "cell_type": "markdown",
   "metadata": {},
   "source": [
    "We will use two commands that we have seen before to count tabular data.\n",
    "\n",
    "    .count() -- produces a count of how many items are in a category.  Generally speaking this is the same as counting the number of rows.\n",
    "    .value_counts() -- produces the subtotals for every subcategory listed in a column. We have used this command previously to get the word counts for every word in a list.  We will use value_counts() to get word counts for every word in a column in pandas.\n",
    "    \n",
    "We will also use one new command to count how many unique objects there are in a category.\n",
    "\n",
    "    .unique() -- finds only the unique members of a list\n",
    "    \n"
   ]
  },
  {
   "cell_type": "markdown",
   "metadata": {},
   "source": [
    "It's easier to understand the difference between these commands in practice."
   ]
  },
  {
   "cell_type": "markdown",
   "metadata": {},
   "source": [
    "**.count()** on its own gives you the number of rows in the dataframe as a whole.  For our data, that just means the total number of speeches. \n",
    "\n",
    "Even if .count() is applied to the column speaker, it's still measuring the total number of individual speeches -- not how many unique speakers there are.  Most speakers are responsible for more than one speech, so their name appears several times in the dataset.  The count() below counts all rows in the dataframe, regardless of how many speakers there are:"
   ]
  },
  {
   "cell_type": "code",
   "execution_count": 19,
   "metadata": {},
   "outputs": [
    {
     "data": {
      "text/plain": [
       "5992068"
      ]
     },
     "execution_count": 19,
     "metadata": {},
     "output_type": "execute_result"
    }
   ],
   "source": [
    "congress['speaker'].count()"
   ]
  },
  {
   "cell_type": "markdown",
   "metadata": {},
   "source": [
    "**.value_counts()** organizes the data by unique values and then creates a count of each.  We will use it for word count, as we have in the past.  \n",
    "\n",
    "Applied to the speaker column, value_counts() givesyou a list of how many speeches each speaker gave."
   ]
  },
  {
   "cell_type": "code",
   "execution_count": 20,
   "metadata": {},
   "outputs": [
    {
     "data": {
      "text/plain": [
       "The PRESIDING OFFICER                709041\n",
       "The SPEAKER pro tempore              239201\n",
       "The CHAIRMAN                         137788\n",
       "The SPEAKER                           86866\n",
       "Mr. ROBERT C. BYRD                    75733\n",
       "                                      ...  \n",
       "Mr. RTNALDO                               1\n",
       "Mr. WAMIP                                 1\n",
       "Ms. LORETTA SANCHEZ of Calitornia         1\n",
       "MAJ. THELMA D. BURG                       1\n",
       "ir. STENNIS                               1\n",
       "Name: speaker, Length: 56350, dtype: int64"
      ]
     },
     "execution_count": 20,
     "metadata": {},
     "output_type": "execute_result"
    }
   ],
   "source": [
    "congress['speaker'].value_counts()"
   ]
  },
  {
   "cell_type": "markdown",
   "metadata": {},
   "source": [
    "What if you need to know how many unique speakers are represented in this dataframe?  You will use the **.unique()** function."
   ]
  },
  {
   "cell_type": "code",
   "execution_count": 21,
   "metadata": {},
   "outputs": [
    {
     "data": {
      "text/plain": [
       "array(['The VICE PRESIDENT', 'Mr. MANSFIELD', 'Mrs. AGNES BAGGETT', ...,\n",
       "       'The DERA', 'Mr. BAYHI', 'Mr. BAY-H'], dtype=object)"
      ]
     },
     "execution_count": 21,
     "metadata": {},
     "output_type": "execute_result"
    }
   ],
   "source": [
    "congress['speaker'].unique()"
   ]
  },
  {
   "cell_type": "code",
   "execution_count": 22,
   "metadata": {},
   "outputs": [
    {
     "data": {
      "text/plain": [
       "56350"
      ]
     },
     "execution_count": 22,
     "metadata": {},
     "output_type": "execute_result"
    }
   ],
   "source": [
    "len(congress['speaker'].unique())"
   ]
  },
  {
   "cell_type": "markdown",
   "metadata": {},
   "source": [
    "#### Counting particular words per cell."
   ]
  },
  {
   "cell_type": "markdown",
   "metadata": {},
   "source": [
    "Above we noted that .count(), applied to a column, will give you the number of rows in the column.\n",
    "\n",
    "You can also use .count() to find the counts of individual strings in each column. \n",
    "\n",
    "This line counts the string 'pineapple' for each speech in the 'speech' column.  \n",
    "\n",
    "The resulting series has zero's in most columns.  But if we use .nlargest() we get a short list of the index numbers of the speeches where pineapples are mentioned the most:"
   ]
  },
  {
   "cell_type": "code",
   "execution_count": 23,
   "metadata": {},
   "outputs": [
    {
     "data": {
      "text/plain": [
       "1000851    65\n",
       "1084391    51\n",
       "1017189    29\n",
       "2164092    26\n",
       "1023495    24\n",
       "Name: speech, dtype: int64"
      ]
     },
     "execution_count": 23,
     "metadata": {},
     "output_type": "execute_result"
    }
   ],
   "source": [
    "congress['speech'].str.count('pineapple').nlargest(5)"
   ]
  },
  {
   "cell_type": "markdown",
   "metadata": {},
   "source": [
    "Here's how to print the results, using .loc and .iloc to call the speech by its index number."
   ]
  },
  {
   "cell_type": "code",
   "execution_count": 24,
   "metadata": {},
   "outputs": [
    {
     "name": "stdout",
     "output_type": "stream",
     "text": [
      "Mr. President. I am introducing legislation today to enable Hawaiian pineapple products to compete in the U.S. market with lowcost foreign canned pineapple which can easily undersell Hawaiian pineapple. One of the finest products in all America is the sweet. juicy. delectable pineapple grown in Hawaii. Since the turn of the century. pineapple has been a mainstay in Hawaiis economy. Today it is still my States second largest agricultural industay. second only to sugar. The processed value of Hawaiian pineapple last year was $137 million. The industry employs 6.200 yearround workers who earned $42 million in annual wages and another 12.000 seasonal workers who earn a total of $10 million a year. Hawaiis pineapple industry has been very energetic and progressive. investing millions of its own dollars in research to improve pineapple quality and production. The Hawaiian pineapple industry is the most highly mechanized In the world and its fleldworkers are the highest paid in the world. The\n"
     ]
    }
   ],
   "source": [
    "for word in list(congress.loc[:, ['speech']].iloc[1000851, ]):\n",
    "    print(word[:1000])"
   ]
  },
  {
   "cell_type": "markdown",
   "metadata": {},
   "source": [
    "Note that we have here searched just for the string 'pineapple.' This method could create confusion in future searches unless we used regex to look for an exact word -- unless we really only care about 'pineapple,' which is unusual enough to produce good results as a free-standing string."
   ]
  },
  {
   "cell_type": "markdown",
   "metadata": {},
   "source": [
    "## Subsetting Data"
   ]
  },
  {
   "cell_type": "markdown",
   "metadata": {},
   "source": [
    "We can use the python grammar of operators to ask Python to only look at certain parts of the data -- or 'subsets' of the complete dataset.\n",
    "\n",
    "For instance, if we want *only* the data from the 1980s, we can use square brackets **[ ]** to tell python to subset a dataframe.  \n",
    "\n",
    "We use square brackets **[ ]** to tell python to subset a dataframe according to the constraints inside the brackets.\n",
    "\n",
    "The command to subset data is expressed with the grammar:\n",
    "\n",
    "    df[df['columnname'].LIMITINGOPERATOR]\n",
    "\n",
    "\n",
    "For instance, df[df['speaker']=='bob']] would tell python to find only the rows of the dataframe where 'bob' was listed as the speaker.\n",
    "\n",
    "Using square brackets to \"filter\" for particular rows is one of the major ways of navigating tabular data in pandas.\n"
   ]
  },
  {
   "cell_type": "markdown",
   "metadata": {},
   "source": [
    "### The operators for filtering"
   ]
  },
  {
   "cell_type": "markdown",
   "metadata": {},
   "source": [
    "The following 'operators' are the ones most frequently used to tell Python how to narrow down the data.  Each works a slightly different way: \n",
    "\n",
    "    .isin() -- tells Python to only look for values that are in another list\n",
    "    == -- tells Python to only look for values that are equal to another value\n",
    "    != -- tells Python to only look for values that are NOT equal to another value\n",
    "\n"
   ]
  },
  {
   "cell_type": "code",
   "execution_count": 25,
   "metadata": {},
   "outputs": [
    {
     "data": {
      "text/html": [
       "<div>\n",
       "<style scoped>\n",
       "    .dataframe tbody tr th:only-of-type {\n",
       "        vertical-align: middle;\n",
       "    }\n",
       "\n",
       "    .dataframe tbody tr th {\n",
       "        vertical-align: top;\n",
       "    }\n",
       "\n",
       "    .dataframe thead th {\n",
       "        text-align: right;\n",
       "    }\n",
       "</style>\n",
       "<table border=\"1\" class=\"dataframe\">\n",
       "  <thead>\n",
       "    <tr style=\"text-align: right;\">\n",
       "      <th></th>\n",
       "      <th>Unnamed: 0</th>\n",
       "      <th>speech</th>\n",
       "      <th>date</th>\n",
       "      <th>speaker</th>\n",
       "      <th>word_count</th>\n",
       "      <th>year</th>\n",
       "      <th>month</th>\n",
       "      <th>month_year</th>\n",
       "    </tr>\n",
       "  </thead>\n",
       "  <tbody>\n",
       "    <tr>\n",
       "      <th>7475</th>\n",
       "      <td>7475</td>\n",
       "      <td>Mr. Speaker. the January 8. 1967. \"Doanes Agri...</td>\n",
       "      <td>1967-02-01</td>\n",
       "      <td>Mr. DOLE</td>\n",
       "      <td>201</td>\n",
       "      <td>1967</td>\n",
       "      <td>2</td>\n",
       "      <td>1967-02-01</td>\n",
       "    </tr>\n",
       "    <tr>\n",
       "      <th>8657</th>\n",
       "      <td>8657</td>\n",
       "      <td>Mr. Speaker. I ask unanimous consent to revise...</td>\n",
       "      <td>1967-02-02</td>\n",
       "      <td>Mr. DOLE</td>\n",
       "      <td>12</td>\n",
       "      <td>1967</td>\n",
       "      <td>2</td>\n",
       "      <td>1967-02-01</td>\n",
       "    </tr>\n",
       "    <tr>\n",
       "      <th>8659</th>\n",
       "      <td>8659</td>\n",
       "      <td>Mr. Speaker. I join in the statements made by ...</td>\n",
       "      <td>1967-02-02</td>\n",
       "      <td>Mr. DOLE</td>\n",
       "      <td>301</td>\n",
       "      <td>1967</td>\n",
       "      <td>2</td>\n",
       "      <td>1967-02-01</td>\n",
       "    </tr>\n",
       "    <tr>\n",
       "      <th>8767</th>\n",
       "      <td>8767</td>\n",
       "      <td>Mr. Speaker. it is my pleasure to join in the ...</td>\n",
       "      <td>1967-02-02</td>\n",
       "      <td>Mr. DOLE</td>\n",
       "      <td>878</td>\n",
       "      <td>1967</td>\n",
       "      <td>2</td>\n",
       "      <td>1967-02-01</td>\n",
       "    </tr>\n",
       "    <tr>\n",
       "      <th>12255</th>\n",
       "      <td>12255</td>\n",
       "      <td>Mr. Speaker. today I have introduced a joint r...</td>\n",
       "      <td>1967-02-09</td>\n",
       "      <td>Mr. DOLE</td>\n",
       "      <td>82</td>\n",
       "      <td>1967</td>\n",
       "      <td>2</td>\n",
       "      <td>1967-02-01</td>\n",
       "    </tr>\n",
       "    <tr>\n",
       "      <th>19034</th>\n",
       "      <td>19034</td>\n",
       "      <td>Mr. Speaker. it is my pleasure to join Mrs. BO...</td>\n",
       "      <td>1967-02-28</td>\n",
       "      <td>Mr. DOLE</td>\n",
       "      <td>258</td>\n",
       "      <td>1967</td>\n",
       "      <td>2</td>\n",
       "      <td>1967-02-01</td>\n",
       "    </tr>\n",
       "    <tr>\n",
       "      <th>20616</th>\n",
       "      <td>20616</td>\n",
       "      <td>Mr. Speaker. I wish to associate myself with t...</td>\n",
       "      <td>1967-03-02</td>\n",
       "      <td>Mr. DOLE</td>\n",
       "      <td>291</td>\n",
       "      <td>1967</td>\n",
       "      <td>3</td>\n",
       "      <td>1967-03-01</td>\n",
       "    </tr>\n",
       "    <tr>\n",
       "      <th>24507</th>\n",
       "      <td>24507</td>\n",
       "      <td>Mr. Speaker. during this year of 1967 the Fede...</td>\n",
       "      <td>1967-03-08</td>\n",
       "      <td>Mr. DOLE</td>\n",
       "      <td>122</td>\n",
       "      <td>1967</td>\n",
       "      <td>3</td>\n",
       "      <td>1967-03-01</td>\n",
       "    </tr>\n",
       "    <tr>\n",
       "      <th>25378</th>\n",
       "      <td>25378</td>\n",
       "      <td>Mr. Speaker. will the gentleman yield?</td>\n",
       "      <td>1967-03-09</td>\n",
       "      <td>Mr. DOLE</td>\n",
       "      <td>6</td>\n",
       "      <td>1967</td>\n",
       "      <td>3</td>\n",
       "      <td>1967-03-01</td>\n",
       "    </tr>\n",
       "    <tr>\n",
       "      <th>25380</th>\n",
       "      <td>25380</td>\n",
       "      <td>Mr. Speaker. permit me to say. first of all. t...</td>\n",
       "      <td>1967-03-09</td>\n",
       "      <td>Mr. DOLE</td>\n",
       "      <td>78</td>\n",
       "      <td>1967</td>\n",
       "      <td>3</td>\n",
       "      <td>1967-03-01</td>\n",
       "    </tr>\n",
       "  </tbody>\n",
       "</table>\n",
       "</div>"
      ],
      "text/plain": [
       "       Unnamed: 0                                             speech  \\\n",
       "7475         7475  Mr. Speaker. the January 8. 1967. \"Doanes Agri...   \n",
       "8657         8657  Mr. Speaker. I ask unanimous consent to revise...   \n",
       "8659         8659  Mr. Speaker. I join in the statements made by ...   \n",
       "8767         8767  Mr. Speaker. it is my pleasure to join in the ...   \n",
       "12255       12255  Mr. Speaker. today I have introduced a joint r...   \n",
       "19034       19034  Mr. Speaker. it is my pleasure to join Mrs. BO...   \n",
       "20616       20616  Mr. Speaker. I wish to associate myself with t...   \n",
       "24507       24507  Mr. Speaker. during this year of 1967 the Fede...   \n",
       "25378       25378             Mr. Speaker. will the gentleman yield?   \n",
       "25380       25380  Mr. Speaker. permit me to say. first of all. t...   \n",
       "\n",
       "             date   speaker  word_count  year  month  month_year  \n",
       "7475   1967-02-01  Mr. DOLE         201  1967      2  1967-02-01  \n",
       "8657   1967-02-02  Mr. DOLE          12  1967      2  1967-02-01  \n",
       "8659   1967-02-02  Mr. DOLE         301  1967      2  1967-02-01  \n",
       "8767   1967-02-02  Mr. DOLE         878  1967      2  1967-02-01  \n",
       "12255  1967-02-09  Mr. DOLE          82  1967      2  1967-02-01  \n",
       "19034  1967-02-28  Mr. DOLE         258  1967      2  1967-02-01  \n",
       "20616  1967-03-02  Mr. DOLE         291  1967      3  1967-03-01  \n",
       "24507  1967-03-08  Mr. DOLE         122  1967      3  1967-03-01  \n",
       "25378  1967-03-09  Mr. DOLE           6  1967      3  1967-03-01  \n",
       "25380  1967-03-09  Mr. DOLE          78  1967      3  1967-03-01  "
      ]
     },
     "execution_count": 25,
     "metadata": {},
     "output_type": "execute_result"
    }
   ],
   "source": [
    "congress[congress['speaker'] == 'Mr. DOLE'][:10]"
   ]
  },
  {
   "cell_type": "markdown",
   "metadata": {},
   "source": [
    "#### Using .isin() to find data from the 1980s\n",
    "\n",
    "In the following line of code, we'll use **.isin()** to tell Python to look for values in the 1980s.  We tell Python to look at the 'year' column. Then we select only the years that are in a list of years from the 1980s. \n",
    "\n",
    "    eighties_data = congress[congress['year'].isin(target_years)].copy()  # filter our dataset to just this decade\n",
    "\n",
    "**.isin()**  takes as its object a list, for instance the *target_years* variable, which we will create to include every year from 1980 to 1990.\n"
   ]
  },
  {
   "cell_type": "markdown",
   "metadata": {},
   "source": [
    "Before we apply .isin(), however, we need to format the data so that we can navigate for time.\n",
    "\n",
    "First, we need to make a 'year' column.\n",
    "\n",
    "Then we need to filter for years that are in our target.  Note the use of the .isin() function. "
   ]
  },
  {
   "cell_type": "code",
   "execution_count": 26,
   "metadata": {},
   "outputs": [],
   "source": [
    "import pandas as pd\n",
    "import datetime"
   ]
  },
  {
   "cell_type": "markdown",
   "metadata": {},
   "source": [
    "We call the datetime package\n",
    "    \n",
    "    .dt.year\n",
    "\n",
    "to create a new column called 'year'"
   ]
  },
  {
   "cell_type": "code",
   "execution_count": 27,
   "metadata": {},
   "outputs": [
    {
     "data": {
      "text/html": [
       "<div>\n",
       "<style scoped>\n",
       "    .dataframe tbody tr th:only-of-type {\n",
       "        vertical-align: middle;\n",
       "    }\n",
       "\n",
       "    .dataframe tbody tr th {\n",
       "        vertical-align: top;\n",
       "    }\n",
       "\n",
       "    .dataframe thead th {\n",
       "        text-align: right;\n",
       "    }\n",
       "</style>\n",
       "<table border=\"1\" class=\"dataframe\">\n",
       "  <thead>\n",
       "    <tr style=\"text-align: right;\">\n",
       "      <th></th>\n",
       "      <th>Unnamed: 0</th>\n",
       "      <th>speech</th>\n",
       "      <th>date</th>\n",
       "      <th>speaker</th>\n",
       "      <th>word_count</th>\n",
       "      <th>year</th>\n",
       "      <th>month</th>\n",
       "      <th>month_year</th>\n",
       "    </tr>\n",
       "  </thead>\n",
       "  <tbody>\n",
       "    <tr>\n",
       "      <th>0</th>\n",
       "      <td>0</td>\n",
       "      <td>Those who do not enjoy the privilege of the fl...</td>\n",
       "      <td>1967-01-10</td>\n",
       "      <td>The VICE PRESIDENT</td>\n",
       "      <td>16</td>\n",
       "      <td>1967</td>\n",
       "      <td>1</td>\n",
       "      <td>1967-01-01</td>\n",
       "    </tr>\n",
       "    <tr>\n",
       "      <th>1</th>\n",
       "      <td>1</td>\n",
       "      <td>Mr. President. on the basis of an agreement re...</td>\n",
       "      <td>1967-01-10</td>\n",
       "      <td>Mr. MANSFIELD</td>\n",
       "      <td>35</td>\n",
       "      <td>1967</td>\n",
       "      <td>1</td>\n",
       "      <td>1967-01-01</td>\n",
       "    </tr>\n",
       "    <tr>\n",
       "      <th>2</th>\n",
       "      <td>2</td>\n",
       "      <td>The Members of the Senate have heard the remar...</td>\n",
       "      <td>1967-01-10</td>\n",
       "      <td>The VICE PRESIDENT</td>\n",
       "      <td>40</td>\n",
       "      <td>1967</td>\n",
       "      <td>1</td>\n",
       "      <td>1967-01-01</td>\n",
       "    </tr>\n",
       "    <tr>\n",
       "      <th>3</th>\n",
       "      <td>3</td>\n",
       "      <td>The Chair lays before the Senate the following...</td>\n",
       "      <td>1967-01-10</td>\n",
       "      <td>The VICE PRESIDENT</td>\n",
       "      <td>151</td>\n",
       "      <td>1967</td>\n",
       "      <td>1</td>\n",
       "      <td>1967-01-01</td>\n",
       "    </tr>\n",
       "    <tr>\n",
       "      <th>4</th>\n",
       "      <td>4</td>\n",
       "      <td>Secretary of State.</td>\n",
       "      <td>1967-01-10</td>\n",
       "      <td>Mrs. AGNES BAGGETT</td>\n",
       "      <td>3</td>\n",
       "      <td>1967</td>\n",
       "      <td>1</td>\n",
       "      <td>1967-01-01</td>\n",
       "    </tr>\n",
       "  </tbody>\n",
       "</table>\n",
       "</div>"
      ],
      "text/plain": [
       "   Unnamed: 0                                             speech        date  \\\n",
       "0           0  Those who do not enjoy the privilege of the fl...  1967-01-10   \n",
       "1           1  Mr. President. on the basis of an agreement re...  1967-01-10   \n",
       "2           2  The Members of the Senate have heard the remar...  1967-01-10   \n",
       "3           3  The Chair lays before the Senate the following...  1967-01-10   \n",
       "4           4                                Secretary of State.  1967-01-10   \n",
       "\n",
       "              speaker  word_count  year  month  month_year  \n",
       "0  The VICE PRESIDENT          16  1967      1  1967-01-01  \n",
       "1       Mr. MANSFIELD          35  1967      1  1967-01-01  \n",
       "2  The VICE PRESIDENT          40  1967      1  1967-01-01  \n",
       "3  The VICE PRESIDENT         151  1967      1  1967-01-01  \n",
       "4  Mrs. AGNES BAGGETT           3  1967      1  1967-01-01  "
      ]
     },
     "execution_count": 27,
     "metadata": {},
     "output_type": "execute_result"
    }
   ],
   "source": [
    "congress['year']=pd.to_datetime(congress['date']).dt.year # make a year column\n",
    "\n",
    "congress.head()"
   ]
  },
  {
   "cell_type": "markdown",
   "metadata": {},
   "source": [
    "Using == to subset:"
   ]
  },
  {
   "cell_type": "code",
   "execution_count": 28,
   "metadata": {},
   "outputs": [
    {
     "data": {
      "text/html": [
       "<div>\n",
       "<style scoped>\n",
       "    .dataframe tbody tr th:only-of-type {\n",
       "        vertical-align: middle;\n",
       "    }\n",
       "\n",
       "    .dataframe tbody tr th {\n",
       "        vertical-align: top;\n",
       "    }\n",
       "\n",
       "    .dataframe thead th {\n",
       "        text-align: right;\n",
       "    }\n",
       "</style>\n",
       "<table border=\"1\" class=\"dataframe\">\n",
       "  <thead>\n",
       "    <tr style=\"text-align: right;\">\n",
       "      <th></th>\n",
       "      <th>Unnamed: 0</th>\n",
       "      <th>speech</th>\n",
       "      <th>date</th>\n",
       "      <th>speaker</th>\n",
       "      <th>word_count</th>\n",
       "      <th>year</th>\n",
       "      <th>month</th>\n",
       "      <th>month_year</th>\n",
       "    </tr>\n",
       "  </thead>\n",
       "  <tbody>\n",
       "    <tr>\n",
       "      <th>2329890</th>\n",
       "      <td>2329890</td>\n",
       "      <td>Mr. Speaker. we in Delaware are proud of the o...</td>\n",
       "      <td>1980-01-03</td>\n",
       "      <td>Mr. EVANS of Delaware</td>\n",
       "      <td>122</td>\n",
       "      <td>1980</td>\n",
       "      <td>1</td>\n",
       "      <td>1980-01-01</td>\n",
       "    </tr>\n",
       "    <tr>\n",
       "      <th>2329891</th>\n",
       "      <td>2329891</td>\n",
       "      <td>Mr. Speaker. it is logical for Americans to be...</td>\n",
       "      <td>1980-01-03</td>\n",
       "      <td>Mr. DERWINSKI</td>\n",
       "      <td>82</td>\n",
       "      <td>1980</td>\n",
       "      <td>1</td>\n",
       "      <td>1980-01-01</td>\n",
       "    </tr>\n",
       "    <tr>\n",
       "      <th>2329892</th>\n",
       "      <td>2329892</td>\n",
       "      <td>The Chair has examined the Journal of the last...</td>\n",
       "      <td>1980-01-03</td>\n",
       "      <td>The SPEAKER pro tempore</td>\n",
       "      <td>32</td>\n",
       "      <td>1980</td>\n",
       "      <td>1</td>\n",
       "      <td>1980-01-01</td>\n",
       "    </tr>\n",
       "    <tr>\n",
       "      <th>2329893</th>\n",
       "      <td>2329893</td>\n",
       "      <td>Mr. Speaker. I ask unanimous consent that the ...</td>\n",
       "      <td>1980-01-03</td>\n",
       "      <td>Mr. WHITE</td>\n",
       "      <td>36</td>\n",
       "      <td>1980</td>\n",
       "      <td>1</td>\n",
       "      <td>1980-01-01</td>\n",
       "    </tr>\n",
       "    <tr>\n",
       "      <th>2329894</th>\n",
       "      <td>2329894</td>\n",
       "      <td>Is there objection to the request of the gentl...</td>\n",
       "      <td>1980-01-03</td>\n",
       "      <td>The SPEAKER pro tempore</td>\n",
       "      <td>11</td>\n",
       "      <td>1980</td>\n",
       "      <td>1</td>\n",
       "      <td>1980-01-01</td>\n",
       "    </tr>\n",
       "  </tbody>\n",
       "</table>\n",
       "</div>"
      ],
      "text/plain": [
       "         Unnamed: 0                                             speech  \\\n",
       "2329890     2329890  Mr. Speaker. we in Delaware are proud of the o...   \n",
       "2329891     2329891  Mr. Speaker. it is logical for Americans to be...   \n",
       "2329892     2329892  The Chair has examined the Journal of the last...   \n",
       "2329893     2329893  Mr. Speaker. I ask unanimous consent that the ...   \n",
       "2329894     2329894  Is there objection to the request of the gentl...   \n",
       "\n",
       "               date                  speaker  word_count  year  month  \\\n",
       "2329890  1980-01-03    Mr. EVANS of Delaware         122  1980      1   \n",
       "2329891  1980-01-03            Mr. DERWINSKI          82  1980      1   \n",
       "2329892  1980-01-03  The SPEAKER pro tempore          32  1980      1   \n",
       "2329893  1980-01-03                Mr. WHITE          36  1980      1   \n",
       "2329894  1980-01-03  The SPEAKER pro tempore          11  1980      1   \n",
       "\n",
       "         month_year  \n",
       "2329890  1980-01-01  \n",
       "2329891  1980-01-01  \n",
       "2329892  1980-01-01  \n",
       "2329893  1980-01-01  \n",
       "2329894  1980-01-01  "
      ]
     },
     "execution_count": 28,
     "metadata": {},
     "output_type": "execute_result"
    }
   ],
   "source": [
    "data1980 = congress[congress['year']== 1980].copy()  # filter our dataset to just this decade\n",
    "\n",
    "data1980.head()"
   ]
  },
  {
   "cell_type": "markdown",
   "metadata": {},
   "source": [
    "Using .isin() to subset:"
   ]
  },
  {
   "cell_type": "code",
   "execution_count": 29,
   "metadata": {},
   "outputs": [
    {
     "data": {
      "text/html": [
       "<div>\n",
       "<style scoped>\n",
       "    .dataframe tbody tr th:only-of-type {\n",
       "        vertical-align: middle;\n",
       "    }\n",
       "\n",
       "    .dataframe tbody tr th {\n",
       "        vertical-align: top;\n",
       "    }\n",
       "\n",
       "    .dataframe thead th {\n",
       "        text-align: right;\n",
       "    }\n",
       "</style>\n",
       "<table border=\"1\" class=\"dataframe\">\n",
       "  <thead>\n",
       "    <tr style=\"text-align: right;\">\n",
       "      <th></th>\n",
       "      <th>speech</th>\n",
       "      <th>date</th>\n",
       "      <th>speaker</th>\n",
       "      <th>word_count</th>\n",
       "      <th>year</th>\n",
       "      <th>month</th>\n",
       "      <th>month_year</th>\n",
       "    </tr>\n",
       "  </thead>\n",
       "  <tbody>\n",
       "    <tr>\n",
       "      <th>0</th>\n",
       "      <td>Mr. Speaker. we in Delaware are proud of the o...</td>\n",
       "      <td>1980-01-03</td>\n",
       "      <td>Mr. EVANS of Delaware</td>\n",
       "      <td>122</td>\n",
       "      <td>1980</td>\n",
       "      <td>1</td>\n",
       "      <td>1980-01-01</td>\n",
       "    </tr>\n",
       "    <tr>\n",
       "      <th>1</th>\n",
       "      <td>Mr. Speaker. it is logical for Americans to be...</td>\n",
       "      <td>1980-01-03</td>\n",
       "      <td>Mr. DERWINSKI</td>\n",
       "      <td>82</td>\n",
       "      <td>1980</td>\n",
       "      <td>1</td>\n",
       "      <td>1980-01-01</td>\n",
       "    </tr>\n",
       "    <tr>\n",
       "      <th>2</th>\n",
       "      <td>The Chair has examined the Journal of the last...</td>\n",
       "      <td>1980-01-03</td>\n",
       "      <td>The SPEAKER pro tempore</td>\n",
       "      <td>32</td>\n",
       "      <td>1980</td>\n",
       "      <td>1</td>\n",
       "      <td>1980-01-01</td>\n",
       "    </tr>\n",
       "    <tr>\n",
       "      <th>3</th>\n",
       "      <td>Mr. Speaker. I ask unanimous consent that the ...</td>\n",
       "      <td>1980-01-03</td>\n",
       "      <td>Mr. WHITE</td>\n",
       "      <td>36</td>\n",
       "      <td>1980</td>\n",
       "      <td>1</td>\n",
       "      <td>1980-01-01</td>\n",
       "    </tr>\n",
       "    <tr>\n",
       "      <th>4</th>\n",
       "      <td>Is there objection to the request of the gentl...</td>\n",
       "      <td>1980-01-03</td>\n",
       "      <td>The SPEAKER pro tempore</td>\n",
       "      <td>11</td>\n",
       "      <td>1980</td>\n",
       "      <td>1</td>\n",
       "      <td>1980-01-01</td>\n",
       "    </tr>\n",
       "  </tbody>\n",
       "</table>\n",
       "</div>"
      ],
      "text/plain": [
       "                                              speech        date  \\\n",
       "0  Mr. Speaker. we in Delaware are proud of the o...  1980-01-03   \n",
       "1  Mr. Speaker. it is logical for Americans to be...  1980-01-03   \n",
       "2  The Chair has examined the Journal of the last...  1980-01-03   \n",
       "3  Mr. Speaker. I ask unanimous consent that the ...  1980-01-03   \n",
       "4  Is there objection to the request of the gentl...  1980-01-03   \n",
       "\n",
       "                   speaker  word_count  year  month  month_year  \n",
       "0    Mr. EVANS of Delaware         122  1980      1  1980-01-01  \n",
       "1            Mr. DERWINSKI          82  1980      1  1980-01-01  \n",
       "2  The SPEAKER pro tempore          32  1980      1  1980-01-01  \n",
       "3                Mr. WHITE          36  1980      1  1980-01-01  \n",
       "4  The SPEAKER pro tempore          11  1980      1  1980-01-01  "
      ]
     },
     "execution_count": 29,
     "metadata": {},
     "output_type": "execute_result"
    }
   ],
   "source": [
    "target_years = list(range(1980, 1989 + 1))  # List of the years 1980-1989\n",
    "\n",
    "eighties_data = congress[congress['year'].isin(target_years)].copy().reset_index()  # filter our dataset to just this decade\n",
    "eighties_data = eighties_data.drop(['index', 'Unnamed: 0'], 1) #minor reformatting - drop extra columns\n",
    "eighties_data.head()"
   ]
  },
  {
   "cell_type": "markdown",
   "metadata": {},
   "source": [
    "Let's save the results in case we want to use them again."
   ]
  },
  {
   "cell_type": "code",
   "execution_count": 30,
   "metadata": {},
   "outputs": [
    {
     "name": "stdout",
     "output_type": "stream",
     "text": [
      "/users/jguldi/digital-history\n"
     ]
    }
   ],
   "source": [
    "cd ~/digital-history"
   ]
  },
  {
   "cell_type": "code",
   "execution_count": 31,
   "metadata": {},
   "outputs": [],
   "source": [
    "data1980.to_csv(\"data1980.csv\")\n",
    "eighties_data.to_csv(\"eighties_data.csv\")"
   ]
  },
  {
   "cell_type": "markdown",
   "metadata": {},
   "source": [
    "## Cleaning tabular data"
   ]
  },
  {
   "cell_type": "markdown",
   "metadata": {},
   "source": [
    "Next, we're going to break speeches into words and remove stopwords.  We get our stopwords list from the package NLTK (natural language toolkit):"
   ]
  },
  {
   "cell_type": "markdown",
   "metadata": {},
   "source": [
    "Let's load stopwords as we have before"
   ]
  },
  {
   "cell_type": "code",
   "execution_count": 32,
   "metadata": {},
   "outputs": [
    {
     "name": "stdout",
     "output_type": "stream",
     "text": [
      "[nltk_data] Downloading package stopwords to\n",
      "[nltk_data]     /users/jguldi/nltk_data...\n",
      "[nltk_data]   Package stopwords is already up-to-date!\n"
     ]
    },
    {
     "data": {
      "text/plain": [
       "['i', 'me', 'my', 'myself', 'we', 'our', 'ours', 'ourselves', 'you', \"you're\"]"
      ]
     },
     "execution_count": 32,
     "metadata": {},
     "output_type": "execute_result"
    }
   ],
   "source": [
    "import nltk\n",
    "from nltk.corpus import stopwords\n",
    "\n",
    "nltk.download('stopwords')\n",
    "\n",
    "stop = stopwords.words('english')\n",
    "stop[:10]"
   ]
  },
  {
   "cell_type": "markdown",
   "metadata": {},
   "source": [
    "We'll take a new and special preparation step here where we add some regex -- including the word boundary symbols you've seen before -- to make a list of stopwords that Python can search for with great ease.  Mainly you'll want to copy and paste the following line, rather than understanding it, but here are the components:\n",
    "\n",
    "    r'': 'begin regex, using the formula inside these quotation marks'\n",
    "    \\\\b: 'look for a word boundary'\n",
    "    (?:{}): 'search for the query word for each of the words in the query that follows'\n",
    "    '|'.join(stop): | means 'or', and .join() produces stopword1|stopword2|stopword3|etc... (where each stopword corresponds to 'i', 'me', 'mine,' etc.\n",
    "    \n",
    "Basically we're just formatting the stopwords list so that Python can search for the whole series efficently."
   ]
  },
  {
   "cell_type": "code",
   "execution_count": 33,
   "metadata": {},
   "outputs": [],
   "source": [
    "stopwords_regex = r'\\b(?:{})\\b'.format('|'.join(stop))"
   ]
  },
  {
   "cell_type": "code",
   "execution_count": 34,
   "metadata": {},
   "outputs": [
    {
     "data": {
      "text/plain": [
       "\"\\\\b(?:i|me|my|myself|we|our|ours|ourselves|you|you're|you've|you'll|you'd|your|yours|yourself|yourselves|he|him|his|himself|she|she's|her|hers|herself|it|it's|its|itself|they|them|their|theirs|themselves|what|which|who|whom|this|that|that'll|these|those|am|is|are|was|were|be|been|being|have|has|had|having|do|does|did|doing|a|an|the|and|but|if|or|because|as|until|while|of|at|by|for|with|about|against|between|into|through|during|before|after|above|below|to|from|up|down|in|out|on|off|over|under|again|further|then|once|here|there|when|where|why|how|all|any|both|each|few|more|most|other|some|such|no|nor|not|only|own|same|so|than|too|very|s|t|can|will|just|don|don't|should|should've|now|d|ll|m|o|re|ve|y|ain|aren|aren't|couldn|couldn't|didn|didn't|doesn|doesn't|hadn|hadn't|hasn|hasn't|haven|haven't|isn|isn't|ma|mightn|mightn't|mustn|mustn't|needn|needn't|shan|shan't|shouldn|shouldn't|wasn|wasn't|weren|weren't|won|won't|wouldn|wouldn't)\\\\b\""
      ]
     },
     "execution_count": 34,
     "metadata": {},
     "output_type": "execute_result"
    }
   ],
   "source": [
    "stopwords_regex"
   ]
  },
  {
   "cell_type": "markdown",
   "metadata": {},
   "source": [
    "To clean our text when our text is in tabular form, we can apply many commands that are familiar.  Technically, they are being applied over each row of the pandas dataframe.  But the pandas software makes it easier for us.\n",
    "\n",
    "For each speech, we will perform some familiar tasks:\n",
    "\n",
    "  * We will **.split()** the speech into words\n",
    "  * we will use **replace** to get rid of punctuation\n",
    "  * we will use **wn.morphy()** to get the lemma of each word\n"
   ]
  },
  {
   "cell_type": "markdown",
   "metadata": {},
   "source": [
    "The only problem with tabular data is that we have to run splitting, clearing punctuation, stopwording, and other actions on entire **columns** of lists of data rather than just lists.\n",
    "\n",
    "In theory, you might imagine writing a loop like this to deal with each cell at a time.   However, that would take FOREVER.  \n",
    "\n",
    "A more efficient approach is to work with the built-in commands that Pandas takes which work over all the cells in an entire column.\n"
   ]
  },
  {
   "cell_type": "markdown",
   "metadata": {},
   "source": [
    "\n",
    "The pandas-native commands for working on columns in tabular data have familiar names:\n",
    "\n",
    "    .str.replace()\n",
    "    .str.lower()\n",
    "    .str.split()\n",
    "    \n",
    "Let's see them in action."
   ]
  },
  {
   "cell_type": "markdown",
   "metadata": {},
   "source": [
    "Get rid of punctuation"
   ]
  },
  {
   "cell_type": "code",
   "execution_count": 35,
   "metadata": {},
   "outputs": [],
   "source": [
    "eighties_data['speech'] = eighties_data['speech'].str.replace('[^\\w\\s]','')"
   ]
  },
  {
   "cell_type": "markdown",
   "metadata": {},
   "source": [
    "Lowercase the text"
   ]
  },
  {
   "cell_type": "code",
   "execution_count": 36,
   "metadata": {},
   "outputs": [],
   "source": [
    "eighties_data['speech'] = eighties_data['speech'].str.lower()"
   ]
  },
  {
   "cell_type": "markdown",
   "metadata": {},
   "source": [
    "Eliminate stopwords using .replace() "
   ]
  },
  {
   "cell_type": "markdown",
   "metadata": {},
   "source": [
    "***This may take a minute*** -- notice the [*] in light gray to the left of the line of code. This means, 'the computer is thinking; please wait.' If your computer repeatedly crashes, you may need to allocate more memory when you next call up a session of JupyterLab."
   ]
  },
  {
   "cell_type": "code",
   "execution_count": 37,
   "metadata": {},
   "outputs": [],
   "source": [
    "eighties_data['stopworded'] = eighties_data['speech'].str.replace(stopwords_regex, '')"
   ]
  },
  {
   "cell_type": "markdown",
   "metadata": {},
   "source": [
    "Split each speech into a list of individual words"
   ]
  },
  {
   "cell_type": "markdown",
   "metadata": {},
   "source": [
    "***This may take a minute***"
   ]
  },
  {
   "cell_type": "code",
   "execution_count": 38,
   "metadata": {},
   "outputs": [],
   "source": [
    "eighties_data['words'] = eighties_data['stopworded'].str.split()"
   ]
  },
  {
   "cell_type": "code",
   "execution_count": 39,
   "metadata": {},
   "outputs": [
    {
     "data": {
      "text/html": [
       "<div>\n",
       "<style scoped>\n",
       "    .dataframe tbody tr th:only-of-type {\n",
       "        vertical-align: middle;\n",
       "    }\n",
       "\n",
       "    .dataframe tbody tr th {\n",
       "        vertical-align: top;\n",
       "    }\n",
       "\n",
       "    .dataframe thead th {\n",
       "        text-align: right;\n",
       "    }\n",
       "</style>\n",
       "<table border=\"1\" class=\"dataframe\">\n",
       "  <thead>\n",
       "    <tr style=\"text-align: right;\">\n",
       "      <th></th>\n",
       "      <th>speech</th>\n",
       "      <th>date</th>\n",
       "      <th>speaker</th>\n",
       "      <th>word_count</th>\n",
       "      <th>year</th>\n",
       "      <th>month</th>\n",
       "      <th>month_year</th>\n",
       "      <th>stopworded</th>\n",
       "      <th>words</th>\n",
       "    </tr>\n",
       "  </thead>\n",
       "  <tbody>\n",
       "    <tr>\n",
       "      <th>0</th>\n",
       "      <td>mr speaker we in delaware are proud of the out...</td>\n",
       "      <td>1980-01-03</td>\n",
       "      <td>Mr. EVANS of Delaware</td>\n",
       "      <td>122</td>\n",
       "      <td>1980</td>\n",
       "      <td>1</td>\n",
       "      <td>1980-01-01</td>\n",
       "      <td>mr speaker   delaware  proud   outstanding rec...</td>\n",
       "      <td>[mr, speaker, delaware, proud, outstanding, re...</td>\n",
       "    </tr>\n",
       "    <tr>\n",
       "      <th>1</th>\n",
       "      <td>mr speaker it is logical for americans to be u...</td>\n",
       "      <td>1980-01-03</td>\n",
       "      <td>Mr. DERWINSKI</td>\n",
       "      <td>82</td>\n",
       "      <td>1980</td>\n",
       "      <td>1</td>\n",
       "      <td>1980-01-01</td>\n",
       "      <td>mr speaker   logical  americans   upset   hold...</td>\n",
       "      <td>[mr, speaker, logical, americans, upset, holdi...</td>\n",
       "    </tr>\n",
       "    <tr>\n",
       "      <th>2</th>\n",
       "      <td>the chair has examined the journal of the last...</td>\n",
       "      <td>1980-01-03</td>\n",
       "      <td>The SPEAKER pro tempore</td>\n",
       "      <td>32</td>\n",
       "      <td>1980</td>\n",
       "      <td>1</td>\n",
       "      <td>1980-01-01</td>\n",
       "      <td>chair  examined  journal   last days proceedi...</td>\n",
       "      <td>[chair, examined, journal, last, days, proceed...</td>\n",
       "    </tr>\n",
       "    <tr>\n",
       "      <th>3</th>\n",
       "      <td>mr speaker i ask unanimous consent that the co...</td>\n",
       "      <td>1980-01-03</td>\n",
       "      <td>Mr. WHITE</td>\n",
       "      <td>36</td>\n",
       "      <td>1980</td>\n",
       "      <td>1</td>\n",
       "      <td>1980-01-01</td>\n",
       "      <td>mr speaker  ask unanimous consent   committee ...</td>\n",
       "      <td>[mr, speaker, ask, unanimous, consent, committ...</td>\n",
       "    </tr>\n",
       "    <tr>\n",
       "      <th>4</th>\n",
       "      <td>is there objection to the request of the gentl...</td>\n",
       "      <td>1980-01-03</td>\n",
       "      <td>The SPEAKER pro tempore</td>\n",
       "      <td>11</td>\n",
       "      <td>1980</td>\n",
       "      <td>1</td>\n",
       "      <td>1980-01-01</td>\n",
       "      <td>objection   request   gentleman  texas</td>\n",
       "      <td>[objection, request, gentleman, texas]</td>\n",
       "    </tr>\n",
       "  </tbody>\n",
       "</table>\n",
       "</div>"
      ],
      "text/plain": [
       "                                              speech        date  \\\n",
       "0  mr speaker we in delaware are proud of the out...  1980-01-03   \n",
       "1  mr speaker it is logical for americans to be u...  1980-01-03   \n",
       "2  the chair has examined the journal of the last...  1980-01-03   \n",
       "3  mr speaker i ask unanimous consent that the co...  1980-01-03   \n",
       "4  is there objection to the request of the gentl...  1980-01-03   \n",
       "\n",
       "                   speaker  word_count  year  month  month_year  \\\n",
       "0    Mr. EVANS of Delaware         122  1980      1  1980-01-01   \n",
       "1            Mr. DERWINSKI          82  1980      1  1980-01-01   \n",
       "2  The SPEAKER pro tempore          32  1980      1  1980-01-01   \n",
       "3                Mr. WHITE          36  1980      1  1980-01-01   \n",
       "4  The SPEAKER pro tempore          11  1980      1  1980-01-01   \n",
       "\n",
       "                                          stopworded  \\\n",
       "0  mr speaker   delaware  proud   outstanding rec...   \n",
       "1  mr speaker   logical  americans   upset   hold...   \n",
       "2   chair  examined  journal   last days proceedi...   \n",
       "3  mr speaker  ask unanimous consent   committee ...   \n",
       "4             objection   request   gentleman  texas   \n",
       "\n",
       "                                               words  \n",
       "0  [mr, speaker, delaware, proud, outstanding, re...  \n",
       "1  [mr, speaker, logical, americans, upset, holdi...  \n",
       "2  [chair, examined, journal, last, days, proceed...  \n",
       "3  [mr, speaker, ask, unanimous, consent, committ...  \n",
       "4             [objection, request, gentleman, texas]  "
      ]
     },
     "execution_count": 39,
     "metadata": {},
     "output_type": "execute_result"
    }
   ],
   "source": [
    "eighties_data.head()"
   ]
  },
  {
   "cell_type": "markdown",
   "metadata": {},
   "source": [
    "Note that with str.split() we have now changed the kind of data in the 'speech' column.  Formerly, we had one long string of text, to which we could apply commands such as .replace()) and .lower().  Now, we have a list of words in each row of 'speech.' This is useful for counting -- which we'll do next -- but it makes using .replace() more difficult.  \n",
    "\n",
    "***Bottom line***: when working with tabular data, use commands like .replace() before you .split() the strings of text into individual words. \n",
    "\n",
    "(NB: You can always use ' '.join(list) to weld those lists of words back together if you have to.)"
   ]
  },
  {
   "cell_type": "markdown",
   "metadata": {},
   "source": [
    "## Wordcount with Tabular Data"
   ]
  },
  {
   "cell_type": "markdown",
   "metadata": {},
   "source": [
    "We can use many of the tools we already know to count words.\n",
    "\n",
    "     value_counts()\n"
   ]
  },
  {
   "cell_type": "markdown",
   "metadata": {},
   "source": [
    "#### You need lists of words in a column to count them."
   ]
  },
  {
   "cell_type": "markdown",
   "metadata": {},
   "source": [
    "An important observation: in the stopwording loop above, we just changed the data type in which the words are stored. \n",
    "\n",
    "Originally, our 'speech' column was just long strings of words.  In order to stopword those strings, we .split() each speech into a list of individual words -- just like the lists we've been working on so far. Those lists are easy to stopword.\n",
    "\n",
    "We could have glued the words back together into super-long strings again. But in fact, it's useful to keep the words in list form, because lists are easy to count.  "
   ]
  },
  {
   "cell_type": "markdown",
   "metadata": {},
   "source": [
    "#### How many words in any speech?"
   ]
  },
  {
   "cell_type": "markdown",
   "metadata": {},
   "source": [
    "How long is the first speech, in words (not including stopwords)?"
   ]
  },
  {
   "cell_type": "code",
   "execution_count": 48,
   "metadata": {},
   "outputs": [
    {
     "data": {
      "text/plain": [
       "73"
      ]
     },
     "execution_count": 48,
     "metadata": {},
     "output_type": "execute_result"
    }
   ],
   "source": [
    "len(eighties_data['words'][0])"
   ]
  },
  {
   "cell_type": "markdown",
   "metadata": {},
   "source": [
    "What are the top words in the first speech (not including stopwords)?"
   ]
  },
  {
   "cell_type": "code",
   "execution_count": 51,
   "metadata": {},
   "outputs": [
    {
     "data": {
      "text/plain": [
       "shops          3\n",
       "outstanding    3\n",
       "wilmington     3\n",
       "railroad       3\n",
       "amtrak         2\n",
       "mutual         2\n",
       "achieved       2\n",
       "service        2\n",
       "pleasure       2\n",
       "recognize      2\n",
       "dtype: int64"
      ]
     },
     "execution_count": 51,
     "metadata": {},
     "output_type": "execute_result"
    }
   ],
   "source": [
    "pd.Series.value_counts(list(eighties_data['words'][0]))[:10]"
   ]
  },
  {
   "cell_type": "markdown",
   "metadata": {},
   "source": [
    "Notice what happens when I set the parameter \"normalize\" for value_counts() as \"True\": (it tells Python to tell us the percentage)"
   ]
  },
  {
   "cell_type": "code",
   "execution_count": 50,
   "metadata": {},
   "outputs": [
    {
     "data": {
      "text/plain": [
       "shops          0.041096\n",
       "outstanding    0.041096\n",
       "wilmington     0.041096\n",
       "railroad       0.041096\n",
       "amtrak         0.027397\n",
       "mutual         0.027397\n",
       "achieved       0.027397\n",
       "service        0.027397\n",
       "pleasure       0.027397\n",
       "recognize      0.027397\n",
       "dtype: float64"
      ]
     },
     "execution_count": 50,
     "metadata": {},
     "output_type": "execute_result"
    }
   ],
   "source": [
    "pd.Series.value_counts(list(eighties_data['words'][0]), normalize=True)[:10]"
   ]
  },
  {
   "cell_type": "markdown",
   "metadata": {},
   "source": [
    "#### Total word count for the dataset"
   ]
  },
  {
   "cell_type": "markdown",
   "metadata": {},
   "source": [
    "Let's count the words for each speech in the dataset. We'll make a new column called 'wordcount.'"
   ]
  },
  {
   "cell_type": "code",
   "execution_count": 55,
   "metadata": {},
   "outputs": [],
   "source": [
    "eighties_data['wordcount'] = eighties_data['words'].str.len()"
   ]
  },
  {
   "cell_type": "code",
   "execution_count": 57,
   "metadata": {},
   "outputs": [
    {
     "data": {
      "text/html": [
       "<div>\n",
       "<style scoped>\n",
       "    .dataframe tbody tr th:only-of-type {\n",
       "        vertical-align: middle;\n",
       "    }\n",
       "\n",
       "    .dataframe tbody tr th {\n",
       "        vertical-align: top;\n",
       "    }\n",
       "\n",
       "    .dataframe thead th {\n",
       "        text-align: right;\n",
       "    }\n",
       "</style>\n",
       "<table border=\"1\" class=\"dataframe\">\n",
       "  <thead>\n",
       "    <tr style=\"text-align: right;\">\n",
       "      <th></th>\n",
       "      <th>speech</th>\n",
       "      <th>date</th>\n",
       "      <th>speaker</th>\n",
       "      <th>word_count</th>\n",
       "      <th>year</th>\n",
       "      <th>month</th>\n",
       "      <th>month_year</th>\n",
       "      <th>stopworded</th>\n",
       "      <th>words</th>\n",
       "      <th>wordcount</th>\n",
       "    </tr>\n",
       "  </thead>\n",
       "  <tbody>\n",
       "    <tr>\n",
       "      <th>0</th>\n",
       "      <td>mr speaker we in delaware are proud of the out...</td>\n",
       "      <td>1980-01-03</td>\n",
       "      <td>Mr. EVANS of Delaware</td>\n",
       "      <td>122</td>\n",
       "      <td>1980</td>\n",
       "      <td>1</td>\n",
       "      <td>1980-01-01</td>\n",
       "      <td>mr speaker   delaware  proud   outstanding rec...</td>\n",
       "      <td>[mr, speaker, delaware, proud, outstanding, re...</td>\n",
       "      <td>73</td>\n",
       "    </tr>\n",
       "    <tr>\n",
       "      <th>1</th>\n",
       "      <td>mr speaker it is logical for americans to be u...</td>\n",
       "      <td>1980-01-03</td>\n",
       "      <td>Mr. DERWINSKI</td>\n",
       "      <td>82</td>\n",
       "      <td>1980</td>\n",
       "      <td>1</td>\n",
       "      <td>1980-01-01</td>\n",
       "      <td>mr speaker   logical  americans   upset   hold...</td>\n",
       "      <td>[mr, speaker, logical, americans, upset, holdi...</td>\n",
       "      <td>39</td>\n",
       "    </tr>\n",
       "    <tr>\n",
       "      <th>2</th>\n",
       "      <td>the chair has examined the journal of the last...</td>\n",
       "      <td>1980-01-03</td>\n",
       "      <td>The SPEAKER pro tempore</td>\n",
       "      <td>32</td>\n",
       "      <td>1980</td>\n",
       "      <td>1</td>\n",
       "      <td>1980-01-01</td>\n",
       "      <td>chair  examined  journal   last days proceedi...</td>\n",
       "      <td>[chair, examined, journal, last, days, proceed...</td>\n",
       "      <td>19</td>\n",
       "    </tr>\n",
       "    <tr>\n",
       "      <th>3</th>\n",
       "      <td>mr speaker i ask unanimous consent that the co...</td>\n",
       "      <td>1980-01-03</td>\n",
       "      <td>Mr. WHITE</td>\n",
       "      <td>36</td>\n",
       "      <td>1980</td>\n",
       "      <td>1</td>\n",
       "      <td>1980-01-01</td>\n",
       "      <td>mr speaker  ask unanimous consent   committee ...</td>\n",
       "      <td>[mr, speaker, ask, unanimous, consent, committ...</td>\n",
       "      <td>19</td>\n",
       "    </tr>\n",
       "    <tr>\n",
       "      <th>4</th>\n",
       "      <td>is there objection to the request of the gentl...</td>\n",
       "      <td>1980-01-03</td>\n",
       "      <td>The SPEAKER pro tempore</td>\n",
       "      <td>11</td>\n",
       "      <td>1980</td>\n",
       "      <td>1</td>\n",
       "      <td>1980-01-01</td>\n",
       "      <td>objection   request   gentleman  texas</td>\n",
       "      <td>[objection, request, gentleman, texas]</td>\n",
       "      <td>4</td>\n",
       "    </tr>\n",
       "  </tbody>\n",
       "</table>\n",
       "</div>"
      ],
      "text/plain": [
       "                                              speech        date  \\\n",
       "0  mr speaker we in delaware are proud of the out...  1980-01-03   \n",
       "1  mr speaker it is logical for americans to be u...  1980-01-03   \n",
       "2  the chair has examined the journal of the last...  1980-01-03   \n",
       "3  mr speaker i ask unanimous consent that the co...  1980-01-03   \n",
       "4  is there objection to the request of the gentl...  1980-01-03   \n",
       "\n",
       "                   speaker  word_count  year  month  month_year  \\\n",
       "0    Mr. EVANS of Delaware         122  1980      1  1980-01-01   \n",
       "1            Mr. DERWINSKI          82  1980      1  1980-01-01   \n",
       "2  The SPEAKER pro tempore          32  1980      1  1980-01-01   \n",
       "3                Mr. WHITE          36  1980      1  1980-01-01   \n",
       "4  The SPEAKER pro tempore          11  1980      1  1980-01-01   \n",
       "\n",
       "                                          stopworded  \\\n",
       "0  mr speaker   delaware  proud   outstanding rec...   \n",
       "1  mr speaker   logical  americans   upset   hold...   \n",
       "2   chair  examined  journal   last days proceedi...   \n",
       "3  mr speaker  ask unanimous consent   committee ...   \n",
       "4             objection   request   gentleman  texas   \n",
       "\n",
       "                                               words  wordcount  \n",
       "0  [mr, speaker, delaware, proud, outstanding, re...         73  \n",
       "1  [mr, speaker, logical, americans, upset, holdi...         39  \n",
       "2  [chair, examined, journal, last, days, proceed...         19  \n",
       "3  [mr, speaker, ask, unanimous, consent, committ...         19  \n",
       "4             [objection, request, gentleman, texas]          4  "
      ]
     },
     "execution_count": 57,
     "metadata": {},
     "output_type": "execute_result"
    }
   ],
   "source": [
    "eighties_data.head()"
   ]
  },
  {
   "cell_type": "markdown",
   "metadata": {},
   "source": [
    "Notice that we now have two wordcount columns -- one we made before stopwording and one we made after stopwording."
   ]
  },
  {
   "cell_type": "markdown",
   "metadata": {},
   "source": [
    "How many words are there in the dataframe as a whole? We can answer that question by adding up all the individual speech wordcounts using \n",
    "\n",
    "    .sum()"
   ]
  },
  {
   "cell_type": "code",
   "execution_count": 56,
   "metadata": {},
   "outputs": [
    {
     "data": {
      "text/plain": [
       "108044320"
      ]
     },
     "execution_count": 56,
     "metadata": {},
     "output_type": "execute_result"
    }
   ],
   "source": [
    "eighties_data['wordcount'].sum()"
   ]
  },
  {
   "cell_type": "markdown",
   "metadata": {},
   "source": [
    "#### Get the longest speeches in the datasets"
   ]
  },
  {
   "cell_type": "markdown",
   "metadata": {},
   "source": [
    "What are the longest speeches in the database?"
   ]
  },
  {
   "cell_type": "code",
   "execution_count": 59,
   "metadata": {},
   "outputs": [
    {
     "data": {
      "text/html": [
       "<div>\n",
       "<style scoped>\n",
       "    .dataframe tbody tr th:only-of-type {\n",
       "        vertical-align: middle;\n",
       "    }\n",
       "\n",
       "    .dataframe tbody tr th {\n",
       "        vertical-align: top;\n",
       "    }\n",
       "\n",
       "    .dataframe thead th {\n",
       "        text-align: right;\n",
       "    }\n",
       "</style>\n",
       "<table border=\"1\" class=\"dataframe\">\n",
       "  <thead>\n",
       "    <tr style=\"text-align: right;\">\n",
       "      <th></th>\n",
       "      <th>Unnamed: 0</th>\n",
       "      <th>speech</th>\n",
       "      <th>date</th>\n",
       "      <th>speaker</th>\n",
       "      <th>word_count</th>\n",
       "      <th>year</th>\n",
       "      <th>month</th>\n",
       "      <th>month_year</th>\n",
       "    </tr>\n",
       "  </thead>\n",
       "  <tbody>\n",
       "    <tr>\n",
       "      <th>2118543</th>\n",
       "      <td>2118543</td>\n",
       "      <td>Mr. President. the House amendment to the Sena...</td>\n",
       "      <td>1978-10-05</td>\n",
       "      <td>Mr. DECONCINI</td>\n",
       "      <td>39517</td>\n",
       "      <td>1978</td>\n",
       "      <td>10</td>\n",
       "      <td>1978-10-01</td>\n",
       "    </tr>\n",
       "    <tr>\n",
       "      <th>2110541</th>\n",
       "      <td>2110541</td>\n",
       "      <td>Mr. Speaker. the amendment that I am offering ...</td>\n",
       "      <td>1978-09-28</td>\n",
       "      <td>Mr. EDWARDS of California</td>\n",
       "      <td>37188</td>\n",
       "      <td>1978</td>\n",
       "      <td>9</td>\n",
       "      <td>1978-09-01</td>\n",
       "    </tr>\n",
       "    <tr>\n",
       "      <th>1330561</th>\n",
       "      <td>1330561</td>\n",
       "      <td>00801. D. (6) $1.500. A. Arent. Fox. Kintner. ...</td>\n",
       "      <td>1974-11-25</td>\n",
       "      <td>as. V.I</td>\n",
       "      <td>35103</td>\n",
       "      <td>1974</td>\n",
       "      <td>11</td>\n",
       "      <td>1974-11-01</td>\n",
       "    </tr>\n",
       "    <tr>\n",
       "      <th>2571276</th>\n",
       "      <td>2571276</td>\n",
       "      <td>815 16th Street NW.. Washington. D.C. 20006. D...</td>\n",
       "      <td>1981-09-09</td>\n",
       "      <td>es. AFL-CIO</td>\n",
       "      <td>33507</td>\n",
       "      <td>1981</td>\n",
       "      <td>9</td>\n",
       "      <td>1981-09-01</td>\n",
       "    </tr>\n",
       "    <tr>\n",
       "      <th>1943615</th>\n",
       "      <td>1943615</td>\n",
       "      <td>Mr. Speaker. I would like compilation of my co...</td>\n",
       "      <td>1978-02-01</td>\n",
       "      <td>Mr. FOLEY</td>\n",
       "      <td>33013</td>\n",
       "      <td>1978</td>\n",
       "      <td>2</td>\n",
       "      <td>1978-02-01</td>\n",
       "    </tr>\n",
       "  </tbody>\n",
       "</table>\n",
       "</div>"
      ],
      "text/plain": [
       "         Unnamed: 0                                             speech  \\\n",
       "2118543     2118543  Mr. President. the House amendment to the Sena...   \n",
       "2110541     2110541  Mr. Speaker. the amendment that I am offering ...   \n",
       "1330561     1330561  00801. D. (6) $1.500. A. Arent. Fox. Kintner. ...   \n",
       "2571276     2571276  815 16th Street NW.. Washington. D.C. 20006. D...   \n",
       "1943615     1943615  Mr. Speaker. I would like compilation of my co...   \n",
       "\n",
       "               date                    speaker  word_count  year  month  \\\n",
       "2118543  1978-10-05              Mr. DECONCINI       39517  1978     10   \n",
       "2110541  1978-09-28  Mr. EDWARDS of California       37188  1978      9   \n",
       "1330561  1974-11-25                    as. V.I       35103  1974     11   \n",
       "2571276  1981-09-09                es. AFL-CIO       33507  1981      9   \n",
       "1943615  1978-02-01                  Mr. FOLEY       33013  1978      2   \n",
       "\n",
       "         month_year  \n",
       "2118543  1978-10-01  \n",
       "2110541  1978-09-01  \n",
       "1330561  1974-11-01  \n",
       "2571276  1981-09-01  \n",
       "1943615  1978-02-01  "
      ]
     },
     "execution_count": 59,
     "metadata": {},
     "output_type": "execute_result"
    }
   ],
   "source": [
    "longest_speeches = congress.nlargest(n=5, columns=['word_count']) # Get the top 5 longest speeches by word_count\n",
    "longest_speeches "
   ]
  },
  {
   "cell_type": "markdown",
   "metadata": {},
   "source": [
    "#### The top words for the dataset"
   ]
  },
  {
   "cell_type": "markdown",
   "metadata": {},
   "source": [
    "Let's count the top words overall.  \n",
    "\n",
    "First, we need a list with all the words in the 'words' column in it. A simple for-loop can do that in a hurry.  Let's create a list called \"all_words\" from the content of each speech in the \"speech\" column."
   ]
  },
  {
   "cell_type": "code",
   "execution_count": 63,
   "metadata": {},
   "outputs": [],
   "source": [
    "words1980 = []\n",
    "\n",
    "for speech in eighties_data['words']:\n",
    "    for word in speech:\n",
    "        words1980.append(word)\n",
    "\n",
    "words1980[:10]\n",
    "\n",
    "topwords1980 = pd.Series.value_counts(words1980)[:20]"
   ]
  },
  {
   "cell_type": "code",
   "execution_count": 64,
   "metadata": {},
   "outputs": [
    {
     "data": {
      "text/plain": [
       "mr           1262448\n",
       "would         922396\n",
       "president     755471\n",
       "bill          603331\n",
       "amendment     543091\n",
       "us            482365\n",
       "senator       468393\n",
       "time          465160\n",
       "gentleman     437904\n",
       "committee     422377\n",
       "one           397414\n",
       "speaker       378901\n",
       "states        351176\n",
       "new           336035\n",
       "people        327221\n",
       "years         324829\n",
       "chairman      322768\n",
       "senate        319095\n",
       "house         312648\n",
       "year          312510\n",
       "dtype: int64"
      ]
     },
     "execution_count": 64,
     "metadata": {},
     "output_type": "execute_result"
    }
   ],
   "source": [
    "topwords1980"
   ]
  },
  {
   "cell_type": "markdown",
   "metadata": {},
   "source": [
    "This line of code does exactly the same thing, using the function **.explode** to give each word in the list its own row, to which **.value_counts** is then applied.  It splits all the words in the 'words' column into their own rows, counts them, and gives you the most frequent."
   ]
  },
  {
   "cell_type": "code",
   "execution_count": 75,
   "metadata": {},
   "outputs": [
    {
     "data": {
      "text/plain": [
       "mr                1262448\n",
       "would              922396\n",
       "president          755471\n",
       "bill               603331\n",
       "amendment          543091\n",
       "                   ...   \n",
       "pomeriggio              1\n",
       "gagnost                 1\n",
       "19c                     1\n",
       "acceleratingi           1\n",
       "countryfalling          1\n",
       "Name: words, Length: 815067, dtype: int64"
      ]
     },
     "execution_count": 75,
     "metadata": {},
     "output_type": "execute_result"
    }
   ],
   "source": [
    "eighties_data[\"words\"].explode().dropna().value_counts()"
   ]
  },
  {
   "cell_type": "markdown",
   "metadata": {},
   "source": [
    "Great -- but some of those words are still pretty hollow, despite having already been stopworded!  \n",
    "\n",
    "Let's use our top words from the decade to create a new stopword list, format the list, and apply it to eighties_data."
   ]
  },
  {
   "cell_type": "code",
   "execution_count": 80,
   "metadata": {},
   "outputs": [
    {
     "data": {
      "text/plain": [
       "['mr',\n",
       " 'would',\n",
       " 'president',\n",
       " 'bill',\n",
       " 'amendment',\n",
       " 'us',\n",
       " 'senator',\n",
       " 'time',\n",
       " 'gentleman',\n",
       " 'committee',\n",
       " 'one',\n",
       " 'speaker',\n",
       " 'states',\n",
       " 'new',\n",
       " 'people',\n",
       " 'years',\n",
       " 'chairman',\n",
       " 'senate',\n",
       " 'house',\n",
       " 'year',\n",
       " 'congress',\n",
       " 'federal',\n",
       " 'program',\n",
       " 'think',\n",
       " 'many',\n",
       " 'state',\n",
       " 'united',\n",
       " 'legislation',\n",
       " 'support',\n",
       " 'also',\n",
       " 'act',\n",
       " 'government',\n",
       " 'may',\n",
       " 'yield',\n",
       " 'today',\n",
       " 'budget',\n",
       " 'national',\n",
       " 'american',\n",
       " 'percent',\n",
       " 'make',\n",
       " 'first',\n",
       " 'country',\n",
       " 'ask',\n",
       " 'million',\n",
       " 'could',\n",
       " 'like',\n",
       " 'going',\n",
       " 'colleagues',\n",
       " 'must',\n",
       " 'resolution']"
      ]
     },
     "execution_count": 80,
     "metadata": {},
     "output_type": "execute_result"
    }
   ],
   "source": [
    "maybestopwords = list(pd.Series.value_counts(words1980)[:200].index)\n",
    "maybestopwords[:50]"
   ]
  },
  {
   "cell_type": "markdown",
   "metadata": {},
   "source": [
    "Ideally, we would edit this list by hand. But I'm just going to use the top 200 words as stopwords for now."
   ]
  },
  {
   "cell_type": "code",
   "execution_count": 82,
   "metadata": {},
   "outputs": [],
   "source": [
    "stopwords_regex2 = r'\\b(?:{})\\b'.format('|'.join(maybestopwords))\n",
    "eighties_data['stopworded'] = eighties_data['stopworded'].str.replace(stopwords_regex2, '')"
   ]
  },
  {
   "cell_type": "code",
   "execution_count": 84,
   "metadata": {},
   "outputs": [
    {
     "data": {
      "text/html": [
       "<div>\n",
       "<style scoped>\n",
       "    .dataframe tbody tr th:only-of-type {\n",
       "        vertical-align: middle;\n",
       "    }\n",
       "\n",
       "    .dataframe tbody tr th {\n",
       "        vertical-align: top;\n",
       "    }\n",
       "\n",
       "    .dataframe thead th {\n",
       "        text-align: right;\n",
       "    }\n",
       "</style>\n",
       "<table border=\"1\" class=\"dataframe\">\n",
       "  <thead>\n",
       "    <tr style=\"text-align: right;\">\n",
       "      <th></th>\n",
       "      <th>speech</th>\n",
       "      <th>date</th>\n",
       "      <th>speaker</th>\n",
       "      <th>word_count</th>\n",
       "      <th>year</th>\n",
       "      <th>month</th>\n",
       "      <th>month_year</th>\n",
       "      <th>stopworded</th>\n",
       "      <th>words</th>\n",
       "      <th>wordcount</th>\n",
       "    </tr>\n",
       "  </thead>\n",
       "  <tbody>\n",
       "    <tr>\n",
       "      <th>0</th>\n",
       "      <td>mr speaker we in delaware are proud of the out...</td>\n",
       "      <td>1980-01-03</td>\n",
       "      <td>Mr. EVANS of Delaware</td>\n",
       "      <td>122</td>\n",
       "      <td>1980</td>\n",
       "      <td>1</td>\n",
       "      <td>1980-01-01</td>\n",
       "      <td>delaware  proud   outstanding    achieved ...</td>\n",
       "      <td>[mr, speaker, delaware, proud, outstanding, re...</td>\n",
       "      <td>73</td>\n",
       "    </tr>\n",
       "    <tr>\n",
       "      <th>1</th>\n",
       "      <td>mr speaker it is logical for americans to be u...</td>\n",
       "      <td>1980-01-03</td>\n",
       "      <td>Mr. DERWINSKI</td>\n",
       "      <td>82</td>\n",
       "      <td>1980</td>\n",
       "      <td>1</td>\n",
       "      <td>1980-01-01</td>\n",
       "      <td>logical     upset   holding   hostages  ir...</td>\n",
       "      <td>[mr, speaker, logical, americans, upset, holdi...</td>\n",
       "      <td>39</td>\n",
       "    </tr>\n",
       "    <tr>\n",
       "      <th>2</th>\n",
       "      <td>the chair has examined the journal of the last...</td>\n",
       "      <td>1980-01-03</td>\n",
       "      <td>The SPEAKER pro tempore</td>\n",
       "      <td>32</td>\n",
       "      <td>1980</td>\n",
       "      <td>1</td>\n",
       "      <td>1980-01-01</td>\n",
       "      <td>chair  examined  journal    days proceedings ...</td>\n",
       "      <td>[chair, examined, journal, last, days, proceed...</td>\n",
       "      <td>19</td>\n",
       "    </tr>\n",
       "    <tr>\n",
       "      <th>3</th>\n",
       "      <td>mr speaker i ask unanimous consent that the co...</td>\n",
       "      <td>1980-01-03</td>\n",
       "      <td>Mr. WHITE</td>\n",
       "      <td>36</td>\n",
       "      <td>1980</td>\n",
       "      <td>1</td>\n",
       "      <td>1980-01-01</td>\n",
       "      <td>banking finance  urban affairs  disc...</td>\n",
       "      <td>[mr, speaker, ask, unanimous, consent, committ...</td>\n",
       "      <td>19</td>\n",
       "    </tr>\n",
       "    <tr>\n",
       "      <th>4</th>\n",
       "      <td>is there objection to the request of the gentl...</td>\n",
       "      <td>1980-01-03</td>\n",
       "      <td>The SPEAKER pro tempore</td>\n",
       "      <td>11</td>\n",
       "      <td>1980</td>\n",
       "      <td>1</td>\n",
       "      <td>1980-01-01</td>\n",
       "      <td>texas</td>\n",
       "      <td>[objection, request, gentleman, texas]</td>\n",
       "      <td>4</td>\n",
       "    </tr>\n",
       "  </tbody>\n",
       "</table>\n",
       "</div>"
      ],
      "text/plain": [
       "                                              speech        date  \\\n",
       "0  mr speaker we in delaware are proud of the out...  1980-01-03   \n",
       "1  mr speaker it is logical for americans to be u...  1980-01-03   \n",
       "2  the chair has examined the journal of the last...  1980-01-03   \n",
       "3  mr speaker i ask unanimous consent that the co...  1980-01-03   \n",
       "4  is there objection to the request of the gentl...  1980-01-03   \n",
       "\n",
       "                   speaker  word_count  year  month  month_year  \\\n",
       "0    Mr. EVANS of Delaware         122  1980      1  1980-01-01   \n",
       "1            Mr. DERWINSKI          82  1980      1  1980-01-01   \n",
       "2  The SPEAKER pro tempore          32  1980      1  1980-01-01   \n",
       "3                Mr. WHITE          36  1980      1  1980-01-01   \n",
       "4  The SPEAKER pro tempore          11  1980      1  1980-01-01   \n",
       "\n",
       "                                          stopworded  \\\n",
       "0      delaware  proud   outstanding    achieved ...   \n",
       "1      logical     upset   holding   hostages  ir...   \n",
       "2   chair  examined  journal    days proceedings ...   \n",
       "3            banking finance  urban affairs  disc...   \n",
       "4                                              texas   \n",
       "\n",
       "                                               words  wordcount  \n",
       "0  [mr, speaker, delaware, proud, outstanding, re...         73  \n",
       "1  [mr, speaker, logical, americans, upset, holdi...         39  \n",
       "2  [chair, examined, journal, last, days, proceed...         19  \n",
       "3  [mr, speaker, ask, unanimous, consent, committ...         19  \n",
       "4             [objection, request, gentleman, texas]          4  "
      ]
     },
     "execution_count": 84,
     "metadata": {},
     "output_type": "execute_result"
    }
   ],
   "source": [
    "eighties_data.head()"
   ]
  },
  {
   "cell_type": "markdown",
   "metadata": {},
   "source": [
    "Now, count (no splitting required)."
   ]
  },
  {
   "cell_type": "code",
   "execution_count": 83,
   "metadata": {},
   "outputs": [
    {
     "data": {
      "text/plain": [
       "within            77036\n",
       "children          76906\n",
       "agreement         76869\n",
       "upon              75960\n",
       "case              75881\n",
       "motion            75698\n",
       "international     75691\n",
       "ordered           75636\n",
       "office            73858\n",
       "human             73439\n",
       "already           73174\n",
       "local             73046\n",
       "passed            72516\n",
       "special           72003\n",
       "appropriations    71823\n",
       "still             71683\n",
       "benefits          71621\n",
       "present           71580\n",
       "political         71314\n",
       "result            71215\n",
       "Name: stopworded, dtype: int64"
      ]
     },
     "execution_count": 83,
     "metadata": {},
     "output_type": "execute_result"
    }
   ],
   "source": [
    "topwords1980 = eighties_data[\"stopworded\"].str.split().explode().dropna().value_counts()[:20]\n",
    "topwords1980"
   ]
  },
  {
   "cell_type": "markdown",
   "metadata": {},
   "source": [
    "## Get the top speeches that have mention the word \"democracy\" "
   ]
  },
  {
   "cell_type": "markdown",
   "metadata": {},
   "source": [
    "Next, let's count the number of times that the word 'democracy' appears in the 1980s.  \n",
    "\n",
    "Notice the use of .str.count():"
   ]
  },
  {
   "cell_type": "code",
   "execution_count": 86,
   "metadata": {},
   "outputs": [
    {
     "data": {
      "text/html": [
       "<div>\n",
       "<style scoped>\n",
       "    .dataframe tbody tr th:only-of-type {\n",
       "        vertical-align: middle;\n",
       "    }\n",
       "\n",
       "    .dataframe tbody tr th {\n",
       "        vertical-align: top;\n",
       "    }\n",
       "\n",
       "    .dataframe thead th {\n",
       "        text-align: right;\n",
       "    }\n",
       "</style>\n",
       "<table border=\"1\" class=\"dataframe\">\n",
       "  <thead>\n",
       "    <tr style=\"text-align: right;\">\n",
       "      <th></th>\n",
       "      <th>Unnamed: 0</th>\n",
       "      <th>speech</th>\n",
       "      <th>date</th>\n",
       "      <th>speaker</th>\n",
       "      <th>word_count</th>\n",
       "      <th>year</th>\n",
       "      <th>month</th>\n",
       "      <th>month_year</th>\n",
       "      <th>democracy_count</th>\n",
       "    </tr>\n",
       "  </thead>\n",
       "  <tbody>\n",
       "    <tr>\n",
       "      <th>2329890</th>\n",
       "      <td>2329890</td>\n",
       "      <td>Mr. Speaker. we in Delaware are proud of the o...</td>\n",
       "      <td>1980-01-03</td>\n",
       "      <td>Mr. EVANS of Delaware</td>\n",
       "      <td>122</td>\n",
       "      <td>1980</td>\n",
       "      <td>1</td>\n",
       "      <td>1980-01-01</td>\n",
       "      <td>0</td>\n",
       "    </tr>\n",
       "    <tr>\n",
       "      <th>2329891</th>\n",
       "      <td>2329891</td>\n",
       "      <td>Mr. Speaker. it is logical for Americans to be...</td>\n",
       "      <td>1980-01-03</td>\n",
       "      <td>Mr. DERWINSKI</td>\n",
       "      <td>82</td>\n",
       "      <td>1980</td>\n",
       "      <td>1</td>\n",
       "      <td>1980-01-01</td>\n",
       "      <td>0</td>\n",
       "    </tr>\n",
       "    <tr>\n",
       "      <th>2329892</th>\n",
       "      <td>2329892</td>\n",
       "      <td>The Chair has examined the Journal of the last...</td>\n",
       "      <td>1980-01-03</td>\n",
       "      <td>The SPEAKER pro tempore</td>\n",
       "      <td>32</td>\n",
       "      <td>1980</td>\n",
       "      <td>1</td>\n",
       "      <td>1980-01-01</td>\n",
       "      <td>0</td>\n",
       "    </tr>\n",
       "    <tr>\n",
       "      <th>2329893</th>\n",
       "      <td>2329893</td>\n",
       "      <td>Mr. Speaker. I ask unanimous consent that the ...</td>\n",
       "      <td>1980-01-03</td>\n",
       "      <td>Mr. WHITE</td>\n",
       "      <td>36</td>\n",
       "      <td>1980</td>\n",
       "      <td>1</td>\n",
       "      <td>1980-01-01</td>\n",
       "      <td>0</td>\n",
       "    </tr>\n",
       "    <tr>\n",
       "      <th>2329894</th>\n",
       "      <td>2329894</td>\n",
       "      <td>Is there objection to the request of the gentl...</td>\n",
       "      <td>1980-01-03</td>\n",
       "      <td>The SPEAKER pro tempore</td>\n",
       "      <td>11</td>\n",
       "      <td>1980</td>\n",
       "      <td>1</td>\n",
       "      <td>1980-01-01</td>\n",
       "      <td>0</td>\n",
       "    </tr>\n",
       "    <tr>\n",
       "      <th>...</th>\n",
       "      <td>...</td>\n",
       "      <td>...</td>\n",
       "      <td>...</td>\n",
       "      <td>...</td>\n",
       "      <td>...</td>\n",
       "      <td>...</td>\n",
       "      <td>...</td>\n",
       "      <td>...</td>\n",
       "      <td>...</td>\n",
       "    </tr>\n",
       "    <tr>\n",
       "      <th>2497053</th>\n",
       "      <td>2497053</td>\n",
       "      <td>Mr. Speaker. as the 96th Congress draws to a c...</td>\n",
       "      <td>1980-12-16</td>\n",
       "      <td>Mr. DIXON</td>\n",
       "      <td>207</td>\n",
       "      <td>1980</td>\n",
       "      <td>12</td>\n",
       "      <td>1980-12-01</td>\n",
       "      <td>0</td>\n",
       "    </tr>\n",
       "    <tr>\n",
       "      <th>2497054</th>\n",
       "      <td>2497054</td>\n",
       "      <td>Mr. Speaker. I rise with great pride and pleas...</td>\n",
       "      <td>1980-12-16</td>\n",
       "      <td>Mr. FRENZEL</td>\n",
       "      <td>243</td>\n",
       "      <td>1980</td>\n",
       "      <td>12</td>\n",
       "      <td>1980-12-01</td>\n",
       "      <td>0</td>\n",
       "    </tr>\n",
       "    <tr>\n",
       "      <th>2497055</th>\n",
       "      <td>2497055</td>\n",
       "      <td>Mr. Speaker. in my friend. Congressman EDWARD ...</td>\n",
       "      <td>1980-12-16</td>\n",
       "      <td>Mr. McDADE</td>\n",
       "      <td>113</td>\n",
       "      <td>1980</td>\n",
       "      <td>12</td>\n",
       "      <td>1980-12-01</td>\n",
       "      <td>0</td>\n",
       "    </tr>\n",
       "    <tr>\n",
       "      <th>2497056</th>\n",
       "      <td>2497056</td>\n",
       "      <td>Mr. Speaker. although JOHN RHODES is voluntari...</td>\n",
       "      <td>1980-12-16</td>\n",
       "      <td>Mr. CAMPBELL</td>\n",
       "      <td>99</td>\n",
       "      <td>1980</td>\n",
       "      <td>12</td>\n",
       "      <td>1980-12-01</td>\n",
       "      <td>0</td>\n",
       "    </tr>\n",
       "    <tr>\n",
       "      <th>2497057</th>\n",
       "      <td>2497057</td>\n",
       "      <td>Mr. Speaker. THOMAS LUDLOW ASHLEY. known affec...</td>\n",
       "      <td>1980-12-16</td>\n",
       "      <td>Mr. McDADE</td>\n",
       "      <td>239</td>\n",
       "      <td>1980</td>\n",
       "      <td>12</td>\n",
       "      <td>1980-12-01</td>\n",
       "      <td>0</td>\n",
       "    </tr>\n",
       "  </tbody>\n",
       "</table>\n",
       "<p>167168 rows × 9 columns</p>\n",
       "</div>"
      ],
      "text/plain": [
       "         Unnamed: 0                                             speech  \\\n",
       "2329890     2329890  Mr. Speaker. we in Delaware are proud of the o...   \n",
       "2329891     2329891  Mr. Speaker. it is logical for Americans to be...   \n",
       "2329892     2329892  The Chair has examined the Journal of the last...   \n",
       "2329893     2329893  Mr. Speaker. I ask unanimous consent that the ...   \n",
       "2329894     2329894  Is there objection to the request of the gentl...   \n",
       "...             ...                                                ...   \n",
       "2497053     2497053  Mr. Speaker. as the 96th Congress draws to a c...   \n",
       "2497054     2497054  Mr. Speaker. I rise with great pride and pleas...   \n",
       "2497055     2497055  Mr. Speaker. in my friend. Congressman EDWARD ...   \n",
       "2497056     2497056  Mr. Speaker. although JOHN RHODES is voluntari...   \n",
       "2497057     2497057  Mr. Speaker. THOMAS LUDLOW ASHLEY. known affec...   \n",
       "\n",
       "               date                  speaker  word_count  year  month  \\\n",
       "2329890  1980-01-03    Mr. EVANS of Delaware         122  1980      1   \n",
       "2329891  1980-01-03            Mr. DERWINSKI          82  1980      1   \n",
       "2329892  1980-01-03  The SPEAKER pro tempore          32  1980      1   \n",
       "2329893  1980-01-03                Mr. WHITE          36  1980      1   \n",
       "2329894  1980-01-03  The SPEAKER pro tempore          11  1980      1   \n",
       "...             ...                      ...         ...   ...    ...   \n",
       "2497053  1980-12-16                Mr. DIXON         207  1980     12   \n",
       "2497054  1980-12-16              Mr. FRENZEL         243  1980     12   \n",
       "2497055  1980-12-16               Mr. McDADE         113  1980     12   \n",
       "2497056  1980-12-16             Mr. CAMPBELL          99  1980     12   \n",
       "2497057  1980-12-16               Mr. McDADE         239  1980     12   \n",
       "\n",
       "         month_year  democracy_count  \n",
       "2329890  1980-01-01                0  \n",
       "2329891  1980-01-01                0  \n",
       "2329892  1980-01-01                0  \n",
       "2329893  1980-01-01                0  \n",
       "2329894  1980-01-01                0  \n",
       "...             ...              ...  \n",
       "2497053  1980-12-01                0  \n",
       "2497054  1980-12-01                0  \n",
       "2497055  1980-12-01                0  \n",
       "2497056  1980-12-01                0  \n",
       "2497057  1980-12-01                0  \n",
       "\n",
       "[167168 rows x 9 columns]"
      ]
     },
     "metadata": {},
     "output_type": "display_data"
    }
   ],
   "source": [
    "data1980['democracy_count'] = data1980['speech'].str.count('democracy')  # Create a new column for the count of the word democracydis\n",
    "display(data1980)"
   ]
  },
  {
   "cell_type": "markdown",
   "metadata": {},
   "source": [
    "Get the top 20 speeches that mentioned democracy."
   ]
  },
  {
   "cell_type": "code",
   "execution_count": 88,
   "metadata": {},
   "outputs": [
    {
     "data": {
      "text/html": [
       "<div>\n",
       "<style scoped>\n",
       "    .dataframe tbody tr th:only-of-type {\n",
       "        vertical-align: middle;\n",
       "    }\n",
       "\n",
       "    .dataframe tbody tr th {\n",
       "        vertical-align: top;\n",
       "    }\n",
       "\n",
       "    .dataframe thead th {\n",
       "        text-align: right;\n",
       "    }\n",
       "</style>\n",
       "<table border=\"1\" class=\"dataframe\">\n",
       "  <thead>\n",
       "    <tr style=\"text-align: right;\">\n",
       "      <th></th>\n",
       "      <th>Unnamed: 0</th>\n",
       "      <th>speech</th>\n",
       "      <th>date</th>\n",
       "      <th>speaker</th>\n",
       "      <th>word_count</th>\n",
       "      <th>year</th>\n",
       "      <th>month</th>\n",
       "      <th>month_year</th>\n",
       "      <th>democracy_count</th>\n",
       "    </tr>\n",
       "  </thead>\n",
       "  <tbody>\n",
       "    <tr>\n",
       "      <th>2464930</th>\n",
       "      <td>2464930</td>\n",
       "      <td>Mr. President. I am disturbed by the continuin...</td>\n",
       "      <td>1980-09-30</td>\n",
       "      <td>Mr. HELMS</td>\n",
       "      <td>3079</td>\n",
       "      <td>1980</td>\n",
       "      <td>9</td>\n",
       "      <td>1980-09-01</td>\n",
       "      <td>6</td>\n",
       "    </tr>\n",
       "    <tr>\n",
       "      <th>2359798</th>\n",
       "      <td>2359798</td>\n",
       "      <td>Mr. Speaker. yesterday it was my honor to be a...</td>\n",
       "      <td>1980-03-28</td>\n",
       "      <td>Mr. ONEILL</td>\n",
       "      <td>2616</td>\n",
       "      <td>1980</td>\n",
       "      <td>3</td>\n",
       "      <td>1980-03-01</td>\n",
       "      <td>5</td>\n",
       "    </tr>\n",
       "    <tr>\n",
       "      <th>2430781</th>\n",
       "      <td>2430781</td>\n",
       "      <td>Treaty is in the U.S. interest because it is a...</td>\n",
       "      <td>1980-07-31</td>\n",
       "      <td>The SALT</td>\n",
       "      <td>7327</td>\n",
       "      <td>1980</td>\n",
       "      <td>7</td>\n",
       "      <td>1980-07-01</td>\n",
       "      <td>5</td>\n",
       "    </tr>\n",
       "    <tr>\n",
       "      <th>2450384</th>\n",
       "      <td>2450384</td>\n",
       "      <td>Mr. Speaker. as I stated in my September 3 \"De...</td>\n",
       "      <td>1980-09-10</td>\n",
       "      <td>Mr. HARKIN</td>\n",
       "      <td>1585</td>\n",
       "      <td>1980</td>\n",
       "      <td>9</td>\n",
       "      <td>1980-09-01</td>\n",
       "      <td>5</td>\n",
       "    </tr>\n",
       "    <tr>\n",
       "      <th>2455704</th>\n",
       "      <td>2455704</td>\n",
       "      <td>Mr. President. this past Tuesday. the leading ...</td>\n",
       "      <td>1980-09-18</td>\n",
       "      <td>Mr. TSONGAS</td>\n",
       "      <td>1314</td>\n",
       "      <td>1980</td>\n",
       "      <td>9</td>\n",
       "      <td>1980-09-01</td>\n",
       "      <td>5</td>\n",
       "    </tr>\n",
       "    <tr>\n",
       "      <th>2483171</th>\n",
       "      <td>2483171</td>\n",
       "      <td>Mr. Speaker. next week Congressman HENRY S. RE...</td>\n",
       "      <td>1980-12-03</td>\n",
       "      <td>Ms. OAKAR</td>\n",
       "      <td>507</td>\n",
       "      <td>1980</td>\n",
       "      <td>12</td>\n",
       "      <td>1980-12-01</td>\n",
       "      <td>5</td>\n",
       "    </tr>\n",
       "    <tr>\n",
       "      <th>2330510</th>\n",
       "      <td>2330510</td>\n",
       "      <td>Mr. Speaker. George Meany spent a lifetime fig...</td>\n",
       "      <td>1980-01-22</td>\n",
       "      <td>Mr. OBERSTAR</td>\n",
       "      <td>477</td>\n",
       "      <td>1980</td>\n",
       "      <td>1</td>\n",
       "      <td>1980-01-01</td>\n",
       "      <td>4</td>\n",
       "    </tr>\n",
       "    <tr>\n",
       "      <th>2344758</th>\n",
       "      <td>2344758</td>\n",
       "      <td>Mr. Chairman. I oppose this legislation as it ...</td>\n",
       "      <td>1980-02-22</td>\n",
       "      <td>Mr. LIVINGSTON</td>\n",
       "      <td>560</td>\n",
       "      <td>1980</td>\n",
       "      <td>2</td>\n",
       "      <td>1980-02-01</td>\n",
       "      <td>4</td>\n",
       "    </tr>\n",
       "    <tr>\n",
       "      <th>2346604</th>\n",
       "      <td>2346604</td>\n",
       "      <td>Mr. President. the amendment I offer at this t...</td>\n",
       "      <td>1980-02-27</td>\n",
       "      <td>Mr. BOREN</td>\n",
       "      <td>3177</td>\n",
       "      <td>1980</td>\n",
       "      <td>2</td>\n",
       "      <td>1980-02-01</td>\n",
       "      <td>4</td>\n",
       "    </tr>\n",
       "    <tr>\n",
       "      <th>2358485</th>\n",
       "      <td>2358485</td>\n",
       "      <td>Mr. Speaker. Al Lowensteins involvement in the...</td>\n",
       "      <td>1980-03-26</td>\n",
       "      <td>Mr. McCLOSKEY</td>\n",
       "      <td>2424</td>\n",
       "      <td>1980</td>\n",
       "      <td>3</td>\n",
       "      <td>1980-03-01</td>\n",
       "      <td>4</td>\n",
       "    </tr>\n",
       "    <tr>\n",
       "      <th>2389574</th>\n",
       "      <td>2389574</td>\n",
       "      <td>Mr. Chairman. I speak in support of the Wright...</td>\n",
       "      <td>1980-06-05</td>\n",
       "      <td>Mr. ONEILL</td>\n",
       "      <td>699</td>\n",
       "      <td>1980</td>\n",
       "      <td>6</td>\n",
       "      <td>1980-06-01</td>\n",
       "      <td>4</td>\n",
       "    </tr>\n",
       "    <tr>\n",
       "      <th>2406416</th>\n",
       "      <td>2406416</td>\n",
       "      <td>Mr. Speaker. for some time now. the Congress. ...</td>\n",
       "      <td>1980-06-24</td>\n",
       "      <td>Mrs. COLLINS of Illinois</td>\n",
       "      <td>2459</td>\n",
       "      <td>1980</td>\n",
       "      <td>6</td>\n",
       "      <td>1980-06-01</td>\n",
       "      <td>4</td>\n",
       "    </tr>\n",
       "    <tr>\n",
       "      <th>2406427</th>\n",
       "      <td>2406427</td>\n",
       "      <td>President of the United States. The White Hous...</td>\n",
       "      <td>1980-06-24</td>\n",
       "      <td>Mr. JIMMY CARTER</td>\n",
       "      <td>767</td>\n",
       "      <td>1980</td>\n",
       "      <td>6</td>\n",
       "      <td>1980-06-01</td>\n",
       "      <td>4</td>\n",
       "    </tr>\n",
       "    <tr>\n",
       "      <th>2411611</th>\n",
       "      <td>2411611</td>\n",
       "      <td>Mr. President. two programs during the week of...</td>\n",
       "      <td>1980-06-28</td>\n",
       "      <td>Mr. STEWART</td>\n",
       "      <td>1441</td>\n",
       "      <td>1980</td>\n",
       "      <td>6</td>\n",
       "      <td>1980-06-01</td>\n",
       "      <td>4</td>\n",
       "    </tr>\n",
       "    <tr>\n",
       "      <th>2418987</th>\n",
       "      <td>2418987</td>\n",
       "      <td>Mr. President. we today consider most unusual ...</td>\n",
       "      <td>1980-07-21</td>\n",
       "      <td>Mr. GRAVEL</td>\n",
       "      <td>6443</td>\n",
       "      <td>1980</td>\n",
       "      <td>7</td>\n",
       "      <td>1980-07-01</td>\n",
       "      <td>4</td>\n",
       "    </tr>\n",
       "    <tr>\n",
       "      <th>2426666</th>\n",
       "      <td>2426666</td>\n",
       "      <td>Mr. President. I wish to express my deep disma...</td>\n",
       "      <td>1980-07-28</td>\n",
       "      <td>Mr. KENNEDY</td>\n",
       "      <td>688</td>\n",
       "      <td>1980</td>\n",
       "      <td>7</td>\n",
       "      <td>1980-07-01</td>\n",
       "      <td>4</td>\n",
       "    </tr>\n",
       "    <tr>\n",
       "      <th>2460154</th>\n",
       "      <td>2460154</td>\n",
       "      <td>Mr. President. I rise in the immediate afterma...</td>\n",
       "      <td>1980-09-24</td>\n",
       "      <td>Mr. MOYNIHAN</td>\n",
       "      <td>1902</td>\n",
       "      <td>1980</td>\n",
       "      <td>9</td>\n",
       "      <td>1980-09-01</td>\n",
       "      <td>4</td>\n",
       "    </tr>\n",
       "    <tr>\n",
       "      <th>2330685</th>\n",
       "      <td>2330685</td>\n",
       "      <td>Mr. Speaker. approximately 19 of every 20 Nica...</td>\n",
       "      <td>1980-01-22</td>\n",
       "      <td>Mr. HAMILTON</td>\n",
       "      <td>956</td>\n",
       "      <td>1980</td>\n",
       "      <td>1</td>\n",
       "      <td>1980-01-01</td>\n",
       "      <td>3</td>\n",
       "    </tr>\n",
       "    <tr>\n",
       "      <th>2333261</th>\n",
       "      <td>2333261</td>\n",
       "      <td>Mr. Speaker. those of us who have concern for ...</td>\n",
       "      <td>1980-01-28</td>\n",
       "      <td>Mr. LEVITAS</td>\n",
       "      <td>793</td>\n",
       "      <td>1980</td>\n",
       "      <td>1</td>\n",
       "      <td>1980-01-01</td>\n",
       "      <td>3</td>\n",
       "    </tr>\n",
       "    <tr>\n",
       "      <th>2338975</th>\n",
       "      <td>2338975</td>\n",
       "      <td>Mr. Speaker. February 4. 1980. marks the 32d a...</td>\n",
       "      <td>1980-02-05</td>\n",
       "      <td>Mr. BOWEN</td>\n",
       "      <td>381</td>\n",
       "      <td>1980</td>\n",
       "      <td>2</td>\n",
       "      <td>1980-02-01</td>\n",
       "      <td>3</td>\n",
       "    </tr>\n",
       "  </tbody>\n",
       "</table>\n",
       "</div>"
      ],
      "text/plain": [
       "         Unnamed: 0                                             speech  \\\n",
       "2464930     2464930  Mr. President. I am disturbed by the continuin...   \n",
       "2359798     2359798  Mr. Speaker. yesterday it was my honor to be a...   \n",
       "2430781     2430781  Treaty is in the U.S. interest because it is a...   \n",
       "2450384     2450384  Mr. Speaker. as I stated in my September 3 \"De...   \n",
       "2455704     2455704  Mr. President. this past Tuesday. the leading ...   \n",
       "2483171     2483171  Mr. Speaker. next week Congressman HENRY S. RE...   \n",
       "2330510     2330510  Mr. Speaker. George Meany spent a lifetime fig...   \n",
       "2344758     2344758  Mr. Chairman. I oppose this legislation as it ...   \n",
       "2346604     2346604  Mr. President. the amendment I offer at this t...   \n",
       "2358485     2358485  Mr. Speaker. Al Lowensteins involvement in the...   \n",
       "2389574     2389574  Mr. Chairman. I speak in support of the Wright...   \n",
       "2406416     2406416  Mr. Speaker. for some time now. the Congress. ...   \n",
       "2406427     2406427  President of the United States. The White Hous...   \n",
       "2411611     2411611  Mr. President. two programs during the week of...   \n",
       "2418987     2418987  Mr. President. we today consider most unusual ...   \n",
       "2426666     2426666  Mr. President. I wish to express my deep disma...   \n",
       "2460154     2460154  Mr. President. I rise in the immediate afterma...   \n",
       "2330685     2330685  Mr. Speaker. approximately 19 of every 20 Nica...   \n",
       "2333261     2333261  Mr. Speaker. those of us who have concern for ...   \n",
       "2338975     2338975  Mr. Speaker. February 4. 1980. marks the 32d a...   \n",
       "\n",
       "               date                   speaker  word_count  year  month  \\\n",
       "2464930  1980-09-30                 Mr. HELMS        3079  1980      9   \n",
       "2359798  1980-03-28                Mr. ONEILL        2616  1980      3   \n",
       "2430781  1980-07-31                  The SALT        7327  1980      7   \n",
       "2450384  1980-09-10                Mr. HARKIN        1585  1980      9   \n",
       "2455704  1980-09-18               Mr. TSONGAS        1314  1980      9   \n",
       "2483171  1980-12-03                 Ms. OAKAR         507  1980     12   \n",
       "2330510  1980-01-22              Mr. OBERSTAR         477  1980      1   \n",
       "2344758  1980-02-22            Mr. LIVINGSTON         560  1980      2   \n",
       "2346604  1980-02-27                 Mr. BOREN        3177  1980      2   \n",
       "2358485  1980-03-26             Mr. McCLOSKEY        2424  1980      3   \n",
       "2389574  1980-06-05                Mr. ONEILL         699  1980      6   \n",
       "2406416  1980-06-24  Mrs. COLLINS of Illinois        2459  1980      6   \n",
       "2406427  1980-06-24          Mr. JIMMY CARTER         767  1980      6   \n",
       "2411611  1980-06-28               Mr. STEWART        1441  1980      6   \n",
       "2418987  1980-07-21                Mr. GRAVEL        6443  1980      7   \n",
       "2426666  1980-07-28               Mr. KENNEDY         688  1980      7   \n",
       "2460154  1980-09-24              Mr. MOYNIHAN        1902  1980      9   \n",
       "2330685  1980-01-22              Mr. HAMILTON         956  1980      1   \n",
       "2333261  1980-01-28               Mr. LEVITAS         793  1980      1   \n",
       "2338975  1980-02-05                 Mr. BOWEN         381  1980      2   \n",
       "\n",
       "         month_year  democracy_count  \n",
       "2464930  1980-09-01                6  \n",
       "2359798  1980-03-01                5  \n",
       "2430781  1980-07-01                5  \n",
       "2450384  1980-09-01                5  \n",
       "2455704  1980-09-01                5  \n",
       "2483171  1980-12-01                5  \n",
       "2330510  1980-01-01                4  \n",
       "2344758  1980-02-01                4  \n",
       "2346604  1980-02-01                4  \n",
       "2358485  1980-03-01                4  \n",
       "2389574  1980-06-01                4  \n",
       "2406416  1980-06-01                4  \n",
       "2406427  1980-06-01                4  \n",
       "2411611  1980-06-01                4  \n",
       "2418987  1980-07-01                4  \n",
       "2426666  1980-07-01                4  \n",
       "2460154  1980-09-01                4  \n",
       "2330685  1980-01-01                3  \n",
       "2333261  1980-01-01                3  \n",
       "2338975  1980-02-01                3  "
      ]
     },
     "execution_count": 88,
     "metadata": {},
     "output_type": "execute_result"
    }
   ],
   "source": [
    "democracyspeeches = data1980.nlargest(20, ['democracy_count'])\n",
    "democracyspeeches"
   ]
  },
  {
   "cell_type": "markdown",
   "metadata": {},
   "source": [
    "## Assignment"
   ]
  },
  {
   "cell_type": "markdown",
   "metadata": {},
   "source": [
    "1) Print out the first 500 words of the speech that mentions your favorite animal the highest number of times.  \n",
    "\n",
    "\n",
    "2) Choose one of the top 100 speakers from congress['speaker'].value_counts().\n",
    "   * Find the longest speech by that speaker. \n",
    "   * Show the first and last 500 words.  \n",
    "\n",
    "\n",
    "3) Limit the dataframe to one year of your choosing in the 1980s.  \n",
    "   * Find the longest speech by your speaker. \n",
    "   * Show the first 500 words.  \n",
    "\n",
    "\n",
    "4) Call up a list of your speaker's top hundred words.  \n",
    "   * Choose one word that you judge to be meaningful -- and possibly distinctive of that speaker (consult the list of overall top words for comparison).  \n",
    "   * Find the speech where your speaker mentions that word the greatest number of times. \n",
    "   * Show the first 500 words.  \n",
    "\n",
    "\n",
    "5) Find longest speech where your speaker mentions the word of your choosing.  \n",
    "   * The word should be mentioned at least three times. \n",
    "   *  Show the first 500 words.  \n",
    "\n",
    "For each part of the assignment, take a screenshot of the code and the results and upload it. "
   ]
  },
  {
   "cell_type": "code",
   "execution_count": null,
   "metadata": {},
   "outputs": [],
   "source": []
  }
 ],
 "metadata": {
  "kernelspec": {
   "display_name": "Python 3",
   "language": "python",
   "name": "python3"
  },
  "language_info": {
   "codemirror_mode": {
    "name": "ipython",
    "version": 3
   },
   "file_extension": ".py",
   "mimetype": "text/x-python",
   "name": "python",
   "nbconvert_exporter": "python",
   "pygments_lexer": "ipython3",
   "version": "3.6.7"
  }
 },
 "nbformat": 4,
 "nbformat_minor": 4
}
