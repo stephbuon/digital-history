{
 "cells": [
  {
   "cell_type": "markdown",
   "metadata": {},
   "source": [
    "# Hist 3368: Week 5 - Interpret word change over time"
   ]
  },
  {
   "cell_type": "markdown",
   "metadata": {},
   "source": [
    "In this notebook, we'll use your newfound skills at navigating through tabular data to compare the *context* of a single word in its usage at two points of time.\n",
    "\n",
    "We'll be working with a new concept -- ***collocation***.  Collocation is a reference to words that are located with other words: they are literally co-located.  \n",
    "\n",
    "You have already seen the code for collocation, but you haven't used that code to rigorously compare the context of the same word at two points in time. This notebook will take you through that process and ask you some discussion questions at the end.\n",
    "\n",
    "First, we'll investigate the word 'malpractice.' \n",
    "\n",
    "* First, we'll inspect the contexts in which the word was used in 1967 and 2010.  We'll call up words that were used alongside 'malpractice' in the same speech, and we'll count them.\n",
    "\n",
    "* Next we'll qualitatively inspect individual speeches where the word appeared the most -- using our skills at critical reading of primary sources to get more information.  "
   ]
  },
  {
   "cell_type": "markdown",
   "metadata": {},
   "source": [
    "### Set up packages and data"
   ]
  },
  {
   "cell_type": "code",
   "execution_count": 2,
   "metadata": {},
   "outputs": [
    {
     "name": "stdout",
     "output_type": "stream",
     "text": [
      "[nltk_data] Downloading package stopwords to\n",
      "[nltk_data]     /users/jguldi/nltk_data...\n",
      "[nltk_data]   Package stopwords is already up-to-date!\n"
     ]
    }
   ],
   "source": [
    "import nltk\n",
    "import pandas as pd\n",
    "import csv\n",
    "from nltk.corpus import stopwords\n",
    "nltk.download('stopwords')\n",
    "stop = stopwords.words('english')\n",
    "stopwords_regex = r'\\b(?:{})\\b'.format('|'.join(stop))"
   ]
  },
  {
   "cell_type": "code",
   "execution_count": 3,
   "metadata": {},
   "outputs": [
    {
     "name": "stdout",
     "output_type": "stream",
     "text": [
      "/scratch/group/history/hist_3368-jguldi\n"
     ]
    }
   ],
   "source": [
    "cd /scratch/group/history/hist_3368-jguldi"
   ]
  },
  {
   "cell_type": "code",
   "execution_count": 4,
   "metadata": {},
   "outputs": [],
   "source": [
    "word1 = \"malpractice\""
   ]
  },
  {
   "cell_type": "code",
   "execution_count": 5,
   "metadata": {},
   "outputs": [],
   "source": [
    "# load congress data\n",
    "congress = pd.read_csv(\"congress1967-2010.csv\")\n",
    "\n",
    "# narrow to just particular years\n",
    "congress1967 = congress[congress['year'] == 1967].copy().reset_index()\n",
    "congress1967 = congress1967.drop(['index', 'Unnamed: 0'], 1) #minor reformatting - drop extra columns\n",
    "\n",
    "congress2010 = congress[congress['year'] == 2010].copy().reset_index()\n",
    "congress2010 = congress2010.drop(['index', 'Unnamed: 0'], 1) #minor reformatting - drop extra columns\n",
    "\n",
    "word1_1967_context = congress1967.copy()\n",
    "word1_2010_context = congress2010.copy()"
   ]
  },
  {
   "cell_type": "markdown",
   "metadata": {},
   "source": [
    "### Look for the keyword, word1"
   ]
  },
  {
   "cell_type": "markdown",
   "metadata": {},
   "source": [
    "We learned that we can use **str.count()** to count the individual occurrences of a word per speech. str.count() takes one object, the word you're looking for. We're looking for *word1*, which is a variable containing the word 'malpractice.'\n",
    "\n",
    "We can also use **.sort_values()** to tell pandas to sort the data by the values in one column.  .sort_values() takes the arguments \"by\" (where you tell it which column to use, using quotation marks, and \"ascending,\" which can be True or False, depending on how you want your values arranged."
   ]
  },
  {
   "cell_type": "code",
   "execution_count": 6,
   "metadata": {},
   "outputs": [
    {
     "data": {
      "text/html": [
       "<div>\n",
       "<style scoped>\n",
       "    .dataframe tbody tr th:only-of-type {\n",
       "        vertical-align: middle;\n",
       "    }\n",
       "\n",
       "    .dataframe tbody tr th {\n",
       "        vertical-align: top;\n",
       "    }\n",
       "\n",
       "    .dataframe thead th {\n",
       "        text-align: right;\n",
       "    }\n",
       "</style>\n",
       "<table border=\"1\" class=\"dataframe\">\n",
       "  <thead>\n",
       "    <tr style=\"text-align: right;\">\n",
       "      <th></th>\n",
       "      <th>Unnamed: 0.1</th>\n",
       "      <th>speech</th>\n",
       "      <th>date</th>\n",
       "      <th>speaker</th>\n",
       "      <th>word_count</th>\n",
       "      <th>year</th>\n",
       "      <th>month</th>\n",
       "      <th>month_year</th>\n",
       "      <th>keywordcount</th>\n",
       "    </tr>\n",
       "  </thead>\n",
       "  <tbody>\n",
       "    <tr>\n",
       "      <th>44440</th>\n",
       "      <td>44440</td>\n",
       "      <td>Mr. Speaker. Rear Adm. John Harilee. U.S. Navy...</td>\n",
       "      <td>1967-04-20</td>\n",
       "      <td>Mr. DE LA GARZA</td>\n",
       "      <td>3231</td>\n",
       "      <td>1967</td>\n",
       "      <td>4</td>\n",
       "      <td>1967-04-01</td>\n",
       "      <td>2</td>\n",
       "    </tr>\n",
       "    <tr>\n",
       "      <th>93562</th>\n",
       "      <td>93562</td>\n",
       "      <td>Mr. Speaker. the explosive literary work-\"Comm...</td>\n",
       "      <td>1967-07-24</td>\n",
       "      <td>Mr. RARICK</td>\n",
       "      <td>7807</td>\n",
       "      <td>1967</td>\n",
       "      <td>7</td>\n",
       "      <td>1967-07-01</td>\n",
       "      <td>1</td>\n",
       "    </tr>\n",
       "    <tr>\n",
       "      <th>180701</th>\n",
       "      <td>180701</td>\n",
       "      <td>says cochairman Russell. \"is an effort by priv...</td>\n",
       "      <td>1967-12-12</td>\n",
       "      <td>The ICBO</td>\n",
       "      <td>1154</td>\n",
       "      <td>1967</td>\n",
       "      <td>12</td>\n",
       "      <td>1967-12-01</td>\n",
       "      <td>1</td>\n",
       "    </tr>\n",
       "    <tr>\n",
       "      <th>75197</th>\n",
       "      <td>75197</td>\n",
       "      <td>Mr. Speaker. a number of remarki and insertion...</td>\n",
       "      <td>1967-06-16</td>\n",
       "      <td>Mr. ASHBROOK</td>\n",
       "      <td>281</td>\n",
       "      <td>1967</td>\n",
       "      <td>6</td>\n",
       "      <td>1967-06-01</td>\n",
       "      <td>1</td>\n",
       "    </tr>\n",
       "    <tr>\n",
       "      <th>127886</th>\n",
       "      <td>127886</td>\n",
       "      <td>Mr. Speaker. Betty Furness. President Johnsons...</td>\n",
       "      <td>1967-09-25</td>\n",
       "      <td>Mr. PATMAN</td>\n",
       "      <td>146</td>\n",
       "      <td>1967</td>\n",
       "      <td>9</td>\n",
       "      <td>1967-09-01</td>\n",
       "      <td>1</td>\n",
       "    </tr>\n",
       "  </tbody>\n",
       "</table>\n",
       "</div>"
      ],
      "text/plain": [
       "        Unnamed: 0.1                                             speech  \\\n",
       "44440          44440  Mr. Speaker. Rear Adm. John Harilee. U.S. Navy...   \n",
       "93562          93562  Mr. Speaker. the explosive literary work-\"Comm...   \n",
       "180701        180701  says cochairman Russell. \"is an effort by priv...   \n",
       "75197          75197  Mr. Speaker. a number of remarki and insertion...   \n",
       "127886        127886  Mr. Speaker. Betty Furness. President Johnsons...   \n",
       "\n",
       "              date          speaker  word_count  year  month  month_year  \\\n",
       "44440   1967-04-20  Mr. DE LA GARZA        3231  1967      4  1967-04-01   \n",
       "93562   1967-07-24       Mr. RARICK        7807  1967      7  1967-07-01   \n",
       "180701  1967-12-12         The ICBO        1154  1967     12  1967-12-01   \n",
       "75197   1967-06-16     Mr. ASHBROOK         281  1967      6  1967-06-01   \n",
       "127886  1967-09-25       Mr. PATMAN         146  1967      9  1967-09-01   \n",
       "\n",
       "        keywordcount  \n",
       "44440              2  \n",
       "93562              1  \n",
       "180701             1  \n",
       "75197              1  \n",
       "127886             1  "
      ]
     },
     "execution_count": 6,
     "metadata": {},
     "output_type": "execute_result"
    }
   ],
   "source": [
    "congress1967['keywordcount'] = congress1967['speech'].str.count(word1)\n",
    "congress1967.sort_values(by = 'keywordcount', ascending = False)[:5]"
   ]
  },
  {
   "cell_type": "markdown",
   "metadata": {},
   "source": [
    "How many times was the word 'malpractice' used in each time period?"
   ]
  },
  {
   "cell_type": "code",
   "execution_count": 7,
   "metadata": {},
   "outputs": [
    {
     "data": {
      "text/plain": [
       "11"
      ]
     },
     "execution_count": 7,
     "metadata": {},
     "output_type": "execute_result"
    }
   ],
   "source": [
    "congress1967['speech'].str.count(word1).sum()"
   ]
  },
  {
   "cell_type": "code",
   "execution_count": 8,
   "metadata": {},
   "outputs": [
    {
     "data": {
      "text/plain": [
       "92"
      ]
     },
     "execution_count": 8,
     "metadata": {},
     "output_type": "execute_result"
    }
   ],
   "source": [
    "congress2010['speech'].str.count(word1).sum()"
   ]
  },
  {
   "cell_type": "markdown",
   "metadata": {},
   "source": [
    "'Malpractice' is a word that appeared far more frequently in 2010 than in 1967.  \n",
    "\n",
    "What did it mean in each year? Why did its usage later explode?\n",
    "\n",
    "We can answer these questions by looking at the *context* in which the word appeared."
   ]
  },
  {
   "cell_type": "markdown",
   "metadata": {},
   "source": [
    "### Get the context for word1"
   ]
  },
  {
   "cell_type": "markdown",
   "metadata": {},
   "source": [
    "To get the context for word1, you must call up the full text for the speeches where the keyword appears.\n",
    "\n",
    "Next, we can count the words that commonly appear around word1.\n",
    "\n",
    "Using .str.count(word1) and .nlargest(n) give you a list of the rownumbers for the n speeches where word1 appears the most frequently.  The rownumbers are stored in the .index for the resulting series. We save the results as the variables *word1_speechnumbers*\n",
    "\n",
    "We can use .loc() and the rownumbers to call up the full text of the speeches that correspond to word1_speechnumbers.  We will save the results as *word1_context.*\n",
    "\n",
    "We then clean the data using stopwording, lowercasing, and punctuation stripping.\n",
    "\n",
    "We then count the words that result using commands for breaking the string into words, giving each word a separate row, dropping empty rows, and counting the results:\n",
    "\n",
    "    str.split().explode().dropna().value_counts()\n",
    "    \n",
    "    "
   ]
  },
  {
   "cell_type": "code",
   "execution_count": 9,
   "metadata": {},
   "outputs": [],
   "source": [
    "# get the rownumbers of the n speeches that use word1 the most\n",
    "word1_1967_speechnumbers = congress1967['speech'].str.count(word1).nlargest(10) \n",
    "word1_2010_speechnumbers = congress2010['speech'].str.count(word1).nlargest(10) \n",
    "\n",
    "# get the speeches that mentioned word1 the most\n",
    "word1_1967_context = congress1967.loc[list(word1_1967_speechnumbers.index)]\n",
    "word1_2010_context = congress2010.loc[list(word1_2010_speechnumbers.index)]\n",
    "                                \n",
    "# clean up the data\n",
    "word1_1967_context['cleanspeech'] = word1_1967_context['speech'].str.replace('[^\\w\\s]','').str.lower() # remove punctuation, lowercase\n",
    "word1_1967_context['stopworded'] = word1_1967_context['cleanspeech'].str.replace(stopwords_regex, '') #stopwording\n",
    "\n",
    "word1_2010_context['cleanspeech'] = word1_2010_context['speech'].str.replace('[^\\w\\s]','').str.lower() # remove punctuation, lowercase\n",
    "word1_2010_context['stopworded'] = word1_2010_context['cleanspeech'].str.replace(stopwords_regex, '') #stopwording"
   ]
  },
  {
   "cell_type": "code",
   "execution_count": 10,
   "metadata": {},
   "outputs": [
    {
     "data": {
      "text/plain": [
       "angeles         65\n",
       "los             65\n",
       "police          63\n",
       "watts           57\n",
       "would           44\n",
       "communist       41\n",
       "organization    37\n",
       "communists      36\n",
       "american        33\n",
       "one             33\n",
       "Name: stopworded, dtype: int64"
      ]
     },
     "execution_count": 10,
     "metadata": {},
     "output_type": "execute_result"
    }
   ],
   "source": [
    "# count the other words that appear in the context of word1 in 1967\n",
    "word1_1967_context_count = word1_1967_context[\"stopworded\"].str.split().explode().dropna().value_counts()\n",
    "word1_1967_context_count[:10]"
   ]
  },
  {
   "cell_type": "code",
   "execution_count": 11,
   "metadata": {},
   "outputs": [
    {
     "data": {
      "text/plain": [
       "health         81\n",
       "would          81\n",
       "insurance      60\n",
       "medical        43\n",
       "malpractice    39\n",
       "people         39\n",
       "amendment      37\n",
       "care           36\n",
       "bill           36\n",
       "reform         35\n",
       "Name: stopworded, dtype: int64"
      ]
     },
     "execution_count": 11,
     "metadata": {},
     "output_type": "execute_result"
    }
   ],
   "source": [
    "# count the other words that appear in the context of word1 in 1967\n",
    "word1_2010_context_count = word1_2010_context[\"stopworded\"].str.split().explode().dropna().value_counts()\n",
    "word1_2010_context_count[:10]"
   ]
  },
  {
   "cell_type": "markdown",
   "metadata": {},
   "source": [
    "Interestingly, in 1967, the word 'malptractice' doesn't seem to refer to doctors or medicine. It seems to be invoked alongside the Watts Riots, when African Americans rioted for their civil rights, and alongside disucssions of Communism.  \n",
    "\n",
    "By 2010, the word 'malpractice' is used in a more familiar context -- the context of *medical* malpractice, where a doctor doesn't perform the correct procedure.  It is invoked alongside discussions of 'insurance' and 'health,' and also alongside 'reform.'  \n",
    "\n",
    "We could stop now, and simply cite these differences as evidence of change over time.  But a stronger approach involves actually *reading* how these words were used in context."
   ]
  },
  {
   "cell_type": "markdown",
   "metadata": {},
   "source": [
    "### Inspect the data for the word 'malpractice' in 1967"
   ]
  },
  {
   "cell_type": "markdown",
   "metadata": {},
   "source": [
    "We can call up *word1_1967_speechnumbers* and find out how frequently 'malpractice' was mentioned in 1967."
   ]
  },
  {
   "cell_type": "code",
   "execution_count": 12,
   "metadata": {},
   "outputs": [
    {
     "data": {
      "text/plain": [
       "44440     2\n",
       "40166     1\n",
       "75197     1\n",
       "93562     1\n",
       "120005    1\n",
       "127886    1\n",
       "143585    1\n",
       "175915    1\n",
       "177228    1\n",
       "180701    1\n",
       "Name: speech, dtype: int64"
      ]
     },
     "execution_count": 12,
     "metadata": {},
     "output_type": "execute_result"
    }
   ],
   "source": [
    "word1_1967_speechnumbers"
   ]
  },
  {
   "cell_type": "markdown",
   "metadata": {},
   "source": [
    "That's not a lot -- we've seen speeches that mention democracy 25 times in a single speech."
   ]
  },
  {
   "cell_type": "markdown",
   "metadata": {},
   "source": [
    "Look at the speech that mentions malpractice about -- the speech at row number 44440."
   ]
  },
  {
   "cell_type": "markdown",
   "metadata": {},
   "source": [
    "Who gave the speech?"
   ]
  },
  {
   "cell_type": "code",
   "execution_count": 13,
   "metadata": {},
   "outputs": [
    {
     "data": {
      "text/plain": [
       "'Mr. DE LA GARZA'"
      ]
     },
     "execution_count": 13,
     "metadata": {},
     "output_type": "execute_result"
    }
   ],
   "source": [
    "word1_1967_context['speaker'][44440][:1000]"
   ]
  },
  {
   "cell_type": "markdown",
   "metadata": {},
   "source": [
    "What did the speech say?"
   ]
  },
  {
   "cell_type": "code",
   "execution_count": 14,
   "metadata": {},
   "outputs": [
    {
     "data": {
      "text/plain": [
       "'Mr. Speaker. Rear Adm. John Harilee. U.S. Navy. retired. is Chairman of the Federal Maritime Commissionand he does a good job. He gets around to see the people who are concerned with the operation of the Maritime Commission. Yesterday. he was down in the 15th Congressionad District of Texas. which I am privileged to represent. Admiral Harllee addressed the Propeller Club in Brownsville. Tex. Since Admiral Harllee made such a splendid speech. I thought the membership might be interested in reading what he had to say. The speech follows: Gentlemen. President Al Roser. I am happy to be back in Texas where my heart is. This is the first time we have been in Brownsville. however. we have heard many things about your city from my good friend and your great Congressman. Kika de la Garza. who invited us to visit your port. I want to say that Congressman de la Garza is doing an outstanding job for you in Washington and sends you his best regards. I have also heard much about your growing port a'"
      ]
     },
     "execution_count": 14,
     "metadata": {},
     "output_type": "execute_result"
    }
   ],
   "source": [
    "word1_1967_context['speech'][44440][:1000]"
   ]
  },
  {
   "cell_type": "markdown",
   "metadata": {},
   "source": [
    "I've cut the quote short.  You can see the whole speech for yourself by deleting the [:1000] at the end of the line of code.\n",
    "\n",
    "Here are the sentences that use the word 'malpractice.'"
   ]
  },
  {
   "cell_type": "markdown",
   "metadata": {},
   "source": [
    "\"We regulate conferences by insuring that they carry out such functions as the following: (1) Selfpolicing. Rebates and other malpractices resulting in unfair competition occur more abroad than in the United States. Some foreign nations take a different view of these practices than we do. but the major maritime nations are gradually beginning to share our views as to the desirability of fair competition. These malpractices can be much more effectively dealt with by selfpolicing bodies than by a Government body alone. although we do the best we can in this regard. "
   ]
  },
  {
   "cell_type": "markdown",
   "metadata": {},
   "source": [
    "In context, the 1967 speech invokes 'malpractice' in the context of maritime insurance fraud.\n",
    "\n",
    "That's very different than the current usage of the word 'malpractice.' Today, the word mainly refers to *medical* malpractice.  Apparently, the word's meaning has changed since 1967."
   ]
  },
  {
   "cell_type": "markdown",
   "metadata": {},
   "source": [
    "#### The importance of keeping going\n",
    "\n",
    "We still don't have a good explanation for why 'malpractice' seems to appear alongside discussions of Communism and the Watts Riots, but we can keep using this same process to inspect each of the top speeches until we reach understanding.\n",
    "\n",
    "Keep going until you understand! You'll want to quote the evidence you gather.\n",
    "\n",
    "Here's a speech that reference Los Angeles."
   ]
  },
  {
   "cell_type": "code",
   "execution_count": 15,
   "metadata": {},
   "outputs": [
    {
     "data": {
      "text/plain": [
       "'says cochairman Russell. \"is an effort by private industry to cope with this critical problem and to encourage change of the unnatural pattern of white economic dominance in the Negro community.\" Cochairman Rodman C. Rockefeller. a vicepresident of the International Basic Economy Corporation. points out that ICBO also \"enables white businessmen to do something in addition to just contributing financially to the civil rights movement.\" IBM. for example. loaned one of its executives. Carter F. Henderson. to ICBO for seven months. paying his salary all the while he worked to set up ICBO as a going operation. PepsiCola loaned. on similar terms. its manager of special markets. Charles Dryden. for two months when ICBO suddenly became shortstaffed. \"Many businessmen.\" Rockefeller added. \"have been sitting on their hands. wondering how to participate. Now they are pitching in by doing what comes naturallypromoting good business.\" But promoting good business is not always easy. especially when racial distrust blocks the development of the confidence necessary to a consulting relationship. At an ICBO conference called to discuss what businessmen could do to help Negro small businessmen. a very important corporate person humphed. then said. \"Whats the big problem? So. a fellow needs a little help. he gives me a call and I tell him. come down and see me...\" A Negro businessman broke in. saying. \"This Negro is not coming downtown for another white mans handout.\" ICBOs consultants. as a result. go to the client wherever he may be. Even then. suspicion often lingers. Benjamin Goldstein. former president of Franklin Simon. a smart specialty chain. recalls his first visit as an ICBO consultant to a sportswear shop in Brooklyn owned by Floyd Ramsey and Jaime McDowell. two porters at New Yorks East Side Airlines Terminal. \"They were saying to me. cure me. and I was saying to them. show me your wounds. It took an hour before we were really able to talk to each other.\" The two proprietors obviously had good style sense. a very smart looking store. and ran an attractive operation. But there it was. right after Christmas. and they were about to lose the savings they had invested only a few short months ago. Though the shop had enjoyed a good holiday season. nothing much had moved since. And. the two owners needed cash for a spring line. They were running a sale. marking down their prices by five and 10 per cent. Goldstein told them they would never move their goods unless they slashed prices by 50 per cent. It was the kind of advice that makes green businessmen nervous. \"Frankly.\" Floyd Ramsey said later. \"we wondered whether the man came to put us in business or out of business.\" Today. the two men no longer wonder. Goldsteins advice started merchandise movIng. Working together. the three men set up inventory controls and a sales reporting system to enable them to tell what sold well and what did not. Jay Schwamm. a financier and former chairman of American Trust Company. was brought in as a financial consultant and he guided the two embryo businessmen through the intricacies involved in securing a business loan. The store has flourished. \"We are a nofee management consultant firm for small Negro businesses.\" John T. Patterson. ICBOs 38yearold national director. explained over an early breakfast. \"Thats the idea wed like to get across to our prospective clients. If a successful business can use outside consultants. there is no reason why they shouldnt. Whatever their problem may be. we try to find someone with the expertise in that area to assist them in solving that problem.\" He quickly added that all ICBO consultants are volunteers. Negro and white businessmen. including bank presidents. middle management and junior executives. accountants and lawyers. merchandising and other business experts. Often. more than one consultant Is called upon to help an ailing business or to start a new one. ICBO consultants. Patterson notes. \"get involved.\" One conservative bankertype once found himself painting a small store alongside his client and friends. Another ICBO consultant found that in order to save a husbandwife business. he had to patch up a marriage. \"So we do a little marriage counseling on the side.\" Patterson said. adding with a warm smile. \"actually. we dont encourage this activity.\" In its own quiet way. however. ICBO is as adventurous as openly militant civil rights organizations North and South. In June. 1965. the ICBO opened its Los Angeles office under cochairman Victor M. Carter. president of Republic Corporation. a film processor and appliance manufacturer. and Norman 0. Houston. Negro chairman of Golden State Mutual Life Insurance Co. The Los Angeles ICBO used the \"buddy system\"-pairing in established businessman consultant with a neophyte or businessman in troubleto good effect. A Negro in his midtwenties. for example. wanted to go Into the franchise rugcleaning business. He was working in a liquor store and had three years of college but he couldnt secure a loan to get started in business. He turned to ICBO and a volunteer consultant was impressed with his ambition and capability. The ICBO helped arrange a $2.300 bank loan that skirted some normal collateral requirements. The exliquor store employee has now set up his own business. The Los Angeles ICBO had all the cases it could handle. Then came Wattsa terrifying four days that saw 35 persons killed. 947 injured and 3.873 arrested. more than 900 buildings destroyed or damaged. an estimated $45 million lost in real estate and personal property and more than $1 million in emergency fire and police expenditures. Within a week after the riots. the ICBO opened a \"business assistance center\" in riottorn Watts. Haskell L. Lazere. western regional director of the American Jewish Congress. became the centers acting coordinator \"Our primary interest is helping Negro small businessmen get back into business or to get started in business.\" Lazere explained at the time. \"These businesses must be rebuilt or started to prevent the economy of the area from deteriorating further.\" Norman Houston said that he hoped that the Council eventually could find time to work toward eliminating overcharging. extremely high credit terms and other business malpractices that have infuriated the citizens of Watts. \"I have talked to residents.\" Houston said. \"and there are some businesses that would not be welcomed back Into the community.\" Within two weeks. 200 small businessmen came to the center seeking aid. And. they werent easy cases. \"Most riotaffected cases werent insured.\" says Lazere. \"and many of those wanting to start businesses. which make up half our cases. arent bankable. that is. they cant qualify for loans.\" Nonetheless. in short order. the Center found financing for six businesses. It also lined up financing for a Negro couple whose fivemonthold. modest but promising restaurant enterprise had turned into ashes in riot flames. An apparel company employee. out of work because his place of employment burned out. was launched in the haberdashery business through the center.'"
      ]
     },
     "execution_count": 15,
     "metadata": {},
     "output_type": "execute_result"
    }
   ],
   "source": [
    "word1_1967_context['speech'][180701]"
   ]
  },
  {
   "cell_type": "markdown",
   "metadata": {},
   "source": [
    "Use command-F or EDIT > FIND in the menu above to search for the word 'malpractice' in your screen until you see the context.  \n",
    "\n",
    "How was this congressperson talking about malpractice?\n",
    "\n",
    "Here's a short quote:\n",
    "\n",
    "\"Norman Houston said that he hoped that the Council eventually could find time to work toward eliminating overcharging. extremely high credit terms and other business malpractices that have infuriated the citizens of Watts.\"\n",
    "\n",
    "African Americans in Watts, Los Angeles were rioting because they had been discriminated against by banks. This crisis is now well documented. There was literally no way for most African Americans to own a house, pay a mortgage, or take out normal business loans, as a result of racism.  \n",
    "\n",
    "What we learn from this passage is that Congresspeople referred to such practices as 'business malpractice.'  \n",
    "\n",
    "The kind of malpractice that concerned Congress in 1967 was racist financial practice, not medical malpractice. \n",
    "\n",
    "***Why this is important -- and what we don't know yet***\n",
    "\n",
    "You have made a historical discovery -- not enough for an entire paper, but enough to have a good research question.  \n",
    "\n",
    "Follow-up questions that we will not discuss today include these: WHEN did 'malpractice' shift its usage in Congress?  Were there any other shifts besides this one?  WHY did the usage of 'malpractice' shift?  Did Congress stop caring about racist financial malpractice? Or did it talk about the same problem of race and credit using different language? \n",
    "\n",
    "In a research paper, you would want to make room to investigate each of these questions in turn until you reached a full and compelling portrait of the shifts in question."
   ]
  },
  {
   "cell_type": "markdown",
   "metadata": {},
   "source": [
    "### Inspect the data for 'malpractice' in 2010"
   ]
  },
  {
   "cell_type": "markdown",
   "metadata": {},
   "source": [
    "Let's look at the word 'malpractice' in 2010."
   ]
  },
  {
   "cell_type": "code",
   "execution_count": 16,
   "metadata": {},
   "outputs": [
    {
     "data": {
      "text/plain": [
       "7016     7\n",
       "7056     6\n",
       "6966     4\n",
       "19370    4\n",
       "26273    4\n",
       "6968     3\n",
       "8904     3\n",
       "29923    3\n",
       "50935    3\n",
       "6882     2\n",
       "Name: speech, dtype: int64"
      ]
     },
     "execution_count": 16,
     "metadata": {},
     "output_type": "execute_result"
    }
   ],
   "source": [
    "word1_2010_speechnumbers"
   ]
  },
  {
   "cell_type": "markdown",
   "metadata": {},
   "source": [
    "We saw above that the word \"malpractice\" was invoked far more frequently in 2010 than in 1967.  Here, we see that the speeches that invoked 'malpractice' in 2010 also invoke that term more frequently -- up to 7 times in one speech -- than the one or two times each speech used the term in 1967.  \n",
    "\n",
    "Such a shift suggests that the word 'malpractice' is being applied with a more specific meaning in 2010. But to interpret this shift, we need to read more."
   ]
  },
  {
   "cell_type": "markdown",
   "metadata": {},
   "source": [
    "Let's look at the top speech, from row 7016.  Who gave the speech?."
   ]
  },
  {
   "cell_type": "code",
   "execution_count": 17,
   "metadata": {},
   "outputs": [
    {
     "data": {
      "text/plain": [
       "'Mr. SMITH of Texas'"
      ]
     },
     "execution_count": 17,
     "metadata": {},
     "output_type": "execute_result"
    }
   ],
   "source": [
    "word1_2010_context['speaker'][7016]"
   ]
  },
  {
   "cell_type": "markdown",
   "metadata": {},
   "source": [
    "What did the speech say?"
   ]
  },
  {
   "cell_type": "code",
   "execution_count": 18,
   "metadata": {},
   "outputs": [
    {
     "data": {
      "text/plain": [
       "'Madam Speaker. I yield myself such time as I may consume. Madam Speaker. on October 9. the Congressional Budget Office pronounced that a tort reform or civil justice reform package would reduce the Federal budget deficit by an estimated $54 billion over 10 years. CBO recognizes that civil justice reforms also have an impact on the practice of defensive medicine. Defensive medicine is when doctors order more tests or procedures than are necessary just to protect themselves from frivolous lawsuits. Studies show that defensive medicine does not advance patients care or enhance a physicians capabilities. that billions of dollars in savings from tort reform could be used to provide health insurance for the uninsured without raising taxes on those who already have insurance policies. As the administration rushes to enact a massive government takeover of health care. Congress must remember that there is the option of saving between $54 billion and more than $200 billion by embracing tort reform. but it will take the leadership to stand up to personal injury lawyers instead of taxing Americans and cutting Medicare benefits. According to CBO. under the HEALTH Act. which includes tort reform. premiums for medical malpractice insurance ultimately would be an average of 25 percent to 30 percent below what they would be under current law. Also. the Government Accountability Office. GAO. found that rising litigation awards are responsible for skyrocketing medical professional liability premiums. The report stated that GAO found that losses on medical malpractice claimswhich make up the largest part of insurers costsappear to be the primary driver of rate increases in the long run. The GAO also concluded that insurer profits are not increasing. indicating that insurers are not charging and profiting from excessively high premium rates. and that in most States insurance regulators have the authority to deny premium rate increases they deem excessive. The reason the administration continues to refuse to add serious medical lawsuit reform to their health care legislation remains purely political. as was recently revealed by former Democratic National Committee Chair Howard Dean. At a recent health care town hall meeting. Mr. Dean responded to an angry constituent who wondered why a supposedly comprehensive reform of the health care system doesnt include tort reform to lower costs of malpractice insurance and reduce defensive medicine. Mr. Dean responded. being remarkably candid. as follows: \"This is the answer from a doctor and a politician. Here is why tort reform is not in the bill. When you go to pass a really enormous bill like that. the more stuff you put in. the more enemies you make. right? And the reason why tort reform is not in the bill is because the people who wrote it did not want to take on the trial lawyers in addition to everybody else they were taking on. and that is the plain and simple truth.\" Medical malpractice premiums have risen more than 80 percent each year in some parts of the country and can cost almost half a million dollars a year in some specialties. Regarding the offer of HHS demonstration projectsand this is what the administration has proposedthat offer rings hollow given that the Cabinet Secretary tasked with implementing this proposal for demonstration projects is Kathleen Sebelius. Before she was Governor of Kansas and the Insurance Commissioner of Kansas. she spent 8 years as the head of the Kansas Trial Lawyers Association. now the Kansas Association for Justice. And she is also the State executive who. according to The New York Times. \"failed to make significant improvement in health coverage or costs during her two terms as Governor.\" The top contributor to President Obamas Presidential campaign was the legal industry. whose donations came to more than $43 million. More than 80 percent of the money given to Congress by lawyers. mostly from the plaintiffs bar. went to the Democratsalmost $22 million. More recently. when President Obama spoke to the American Medical Association in June of this year. he told the audience. \"Im not advocating caps on malpractice awards.\" But the American people are demanding legal reform. A recent survey found that 83 percent of Americans believe that reforming the legal system needs to be part of any health care reform plan. As the Associated Press recently reported. most Americans want Congress to deal with malpractice lawsuits driving up the costs of medical care. Yet. Democrats are reluctant to press forward on an issue that would upset a valuable political constituency. trial lawyers. even if President Barack Obama says hes open to changes. The AP poll found that 54 percent of Americans favor making it harder to sue doctors and hospitals for mistakes made while taking care of patients. Support for limits on malpractice lawsuits cuts across political lines. with 58 percent of Independents and 61 percent of Republicans in favor. Democrats are more divided. Still. 47 percent said they favor making it harder to sue. The survey was conducted by Stanford University with the nonprofit Robert Wood Johnson Foundation. In the poll. 59 percent said they thought at least half the tests doctors order are unnecessary and ordered only because of fear of lawsuits. That is the end of the AP story. Madam Speaker. the USA Today editorial board also came out in support of tort reform. and USA Today wrote. A study last month by the Massachusetts Medical Society found that 83 percent of its doctors practice defensive medicine at a cost of at least $1.4 billion a year. Nationally. the cost is $60 billionplus every year. according to the Health and Human Services Departmentand thats the HHS of this administration. And a 2005 study in The Journal of the American Medical Association found that 93 percent of Pennsylvania doctors practice defensive medicine. The liability system is too often a lottery. excessive compensation is awarded to some patients and little or none to others. As much as 60 percent of awards are spent on attorneys. expert witnesses. and administrative expenses. The current system is arbitrary. inefficient. and results in years of delay. Madam Speaker. discussing the need for tort reform. the president of the American Medical Association said. If the health care bill doesnt have medical liability reform in it. then we dont see how it is going to be successful in controlling costs. Madam Speaker. I reserve the balance of my time.'"
      ]
     },
     "execution_count": 18,
     "metadata": {},
     "output_type": "execute_result"
    }
   ],
   "source": [
    "word1_2010_context['speech'][7016]"
   ]
  },
  {
   "cell_type": "markdown",
   "metadata": {},
   "source": [
    "Here is a sample sentence showing how 'malpractice' is being talked about:\n",
    "\n",
    "\"Medical malpractice premiums have risen more than 80 percent each year in some parts of the country and can cost almost half a million dollars a year in some specialties.\"\n",
    "\n",
    "If we read the entire speech, we learn that the debate is about the rising cost of health care.  Many Americans fear that frequent lawsuits are driving up the cost of insurance.\n",
    "\n",
    "\"In the poll. 59 percent said they thought at least half the tests doctors order are unnecessary and ordered only because of fear of lawsuits.\"\n",
    "\n",
    "The issue isn't a rise in malpractice, but the apparent fact that doctors' fears of malpractice have been driving up the cost of healthcare.  We learn by reading that the proposed solution was \"tort reform\" or \"medical liability reform,\" which would have limited the degree to which doctors could be held responsible for malpractice.  \n",
    "\n",
    "Reading further, we learn that tort reform became an issue for the Democrats, whose plans for universal health insurance promised to make healthcare affordable for all.  "
   ]
  },
  {
   "cell_type": "markdown",
   "metadata": {},
   "source": [
    "### Perform the same search with new vocabulary"
   ]
  },
  {
   "cell_type": "markdown",
   "metadata": {},
   "source": [
    "When you research shifts in words, typically you won't work on a single word at a time. You'll begin with a controlled vocabulary of the kind we used to investigate discussions of crime in Congress last week. Then you'll narrow down to a few words whose meaning you need to understand better.\n",
    "\n",
    "We can use a 'for' loop to cycle through a dozen words very quickly, producing an analysis.  \n",
    "\n",
    "We can even add a few lines to this for loop to ask the computer to print out all the relevant speeches.  I have abbreviated the number of words listed and the lines of the speeech given for room.\n",
    "\n",
    "When you do your assignment, begin by zeroing in on certain words in the list of keywords on the first line.  \n",
    "\n",
    "Next, tweak the code to show more words and lines of the speech when you get to your own research.\n",
    "\n"
   ]
  },
  {
   "cell_type": "code",
   "execution_count": 22,
   "metadata": {},
   "outputs": [
    {
     "name": "stdout",
     "output_type": "stream",
     "text": [
      "*****\n",
      "CONTEXT for rape in 1967\n",
      "speech by Mr. ERVIN in 1967-01-23\n",
      "Mr. President. in its recent 5 to 4 decision. in Miranda v. Arizona. 384 U.S. 436. the Supreme Court\n",
      "speech by Mrs. BOLTON in 1967-07-17\n",
      "Mr. Speaker. the city of South Euclid. Ohio. in the 22d Congressional District of Ohio. is celebrati\n",
      "***\n",
      "COLLOCATES for rape in 1967\n",
      "court      33\n",
      "case       28\n",
      "law        23\n",
      "miranda    21\n",
      "states     21\n",
      "Name: stopworded, dtype: int64\n",
      "*****\n",
      "CONTEXT for rape in 2010\n",
      "speech by Mr. SHADEGG in 2010-04-27\n",
      "Mr. Chairman. I rise in support of the en bloc amendment. but in particular in support of my amendme\n",
      "speech by Mr. LEAHY in 2010-09-27\n",
      "Mr. President. today. I am proud to introduce the Justice for All Reauthorization Act of 2010. toget\n",
      "COLLOCATES for rape in 2010\n",
      "justice    23\n",
      "rape       18\n",
      "law        13\n",
      "act        13\n",
      "crime      10\n",
      "Name: stopworded, dtype: int64\n",
      "*****\n",
      "CONTEXT for slaughter in 1967\n",
      "speech by Mr. SMITH of Iowa in 1967-02-27\n",
      "Mr. Speaker. I have been introducing and promoting bills since 1961 which would extend protection to\n",
      "speech by Mr. HANSEN in 1967-02-28\n",
      "Mr. President. again this year the National Park Service has taken its riflemen and skinning crews t\n",
      "***\n",
      "COLLOCATES for slaughter in 1967\n",
      "park       24\n",
      "meat       23\n",
      "service    21\n",
      "elk        16\n",
      "federal    11\n",
      "Name: stopworded, dtype: int64\n",
      "*****\n",
      "CONTEXT for slaughter in 2010\n",
      "speech by Mr. SESSIONS in 2010-12-21\n",
      "Mr. President. the two nominees today are nominees who came out of the Judiciary Committee with subs\n",
      "speech by Mr. SMITH of New Jersey in 2010-09-28\n",
      "Madam Speaker. I am pleased to rise in support of H. Res. 1588. of which I am the original cosponsor\n",
      "COLLOCATES for slaughter in 2010\n",
      "sudan         9\n",
      "peace         7\n",
      "state         6\n",
      "government    6\n",
      "whether       6\n",
      "Name: stopworded, dtype: int64\n",
      "*****\n",
      "CONTEXT for torture in 1967\n",
      "speech by Mr. DODD in 1967-10-12\n",
      "Mr. President. the last week of September marked the 20th anniversary of the Judicial murder of Nico\n",
      "speech by Mr. DOMINICK in 1967-04-13\n",
      "Mr. President. the fourth country. Guatemala. has been in a state of siege for nearly 9 months. with\n",
      "***\n",
      "COLLOCATES for torture in 1967\n",
      "petkov        30\n",
      "opposition    17\n",
      "communist     14\n",
      "people        14\n",
      "soviet        14\n",
      "Name: stopworded, dtype: int64\n",
      "*****\n",
      "CONTEXT for torture in 2010\n",
      "speech by Mr. LEAHY in 2010-06-24\n",
      "Mr. President. this week. we commemorate the United Nations International Day in Support of Victims \n",
      "speech by Mr. BURTON of Indiana in 2010-02-03\n",
      "You know. Mr. Speaker. today we had a hearing before the International Relations Committee and one o\n",
      "COLLOCATES for torture in 2010\n",
      "torture    23\n",
      "united     13\n",
      "states     10\n",
      "rights      8\n",
      "victims     8\n",
      "Name: stopworded, dtype: int64\n",
      "*****\n",
      "CONTEXT for felony in 1967\n",
      "speech by Mr. POFF in 1967-07-12\n",
      "Mr. Speaker. inherent in the debate on H.R. 10783 passed by the House on June 26. 1967. was the ques\n",
      "speech by Mr. WALDIE in 1967-10-19\n",
      "I thank the distinguished Speaker. I accept his assurances completely and I apologize if I have misc\n",
      "***\n",
      "COLLOCATES for felony in 1967\n",
      "felony     20\n",
      "cause      13\n",
      "section    11\n",
      "arrest     10\n",
      "bill       10\n",
      "Name: stopworded, dtype: int64\n",
      "*****\n",
      "CONTEXT for felony in 2010\n",
      "speech by Mr. KING of Iowa in 2010-06-14\n",
      "Thank you. Mr. Speaker. Its my privilege and honor to be recognized to address you here on the floor\n",
      "speech by Mr. SPECTER in 2010-05-12\n",
      "Mr. President. in a fourpart series titled \"Justice: Delayed. Dismissed. Denied.\" published in Decem\n",
      "COLLOCATES for felony in 2010\n",
      "law             112\n",
      "philadelphia     72\n",
      "federal          52\n",
      "people           49\n",
      "would            46\n",
      "Name: stopworded, dtype: int64\n",
      "*****\n",
      "CONTEXT for robbery in 1967\n",
      "speech by Mr. CASEY in 1967-03-16\n",
      "Mr. Speaker. the thugs who use firearms to prey on society know the criminal law as well as any atto\n",
      "speech by Mr. ERVIN in 1967-01-23\n",
      "Mr. President. in its recent 5 to 4 decision. in Miranda v. Arizona. 384 U.S. 436. the Supreme Court\n",
      "***\n",
      "COLLOCATES for robbery in 1967\n",
      "court       34\n",
      "case        28\n",
      "law         24\n",
      "criminal    24\n",
      "crime       22\n",
      "Name: stopworded, dtype: int64\n",
      "*****\n",
      "CONTEXT for robbery in 2010\n",
      "speech by Mr. DORGAN in 2010-06-24\n",
      "Mr. President. on occasion there are some things that happen in this Chamber that get precious littl\n",
      "speech by Mr. DORGAN in 2010-01-20\n",
      "Mr. President. there has been a lot happening in this country with respect to politics and the econo\n",
      "COLLOCATES for robbery in 2010\n",
      "indian          31\n",
      "country         23\n",
      "people          16\n",
      "reservations    16\n",
      "well            16\n",
      "Name: stopworded, dtype: int64\n",
      "*****\n",
      "CONTEXT for shell game in 1967\n",
      "speech by Mr. ASHBROOK in 1967-01-24\n",
      "Mr. Speaker. every year around this time the American public is subjected to the annual fiscal shell\n",
      "speech by Mr. MORSE in 1967-02-16\n",
      "Mr. President. I desire to draw attention to the press reports of a letter which the chairman of the\n",
      "***\n",
      "COLLOCATES for shell game in 1967\n",
      "committee         14\n",
      "administration    11\n",
      "foreign           10\n",
      "aid               10\n",
      "10                 8\n",
      "Name: stopworded, dtype: int64\n",
      "*****\n",
      "CONTEXT for shell game in 2010\n",
      "speech by Mr. CASSIDY in 2010-02-23\n",
      "Clearly. I think we can all agree on what are the goals of health care reform. We want access to qua\n",
      "speech by Mr. CORKER in 2010-04-22\n",
      "Madam President. I rise today to address the financial regulation proposal that is before us right n\n",
      "COLLOCATES for shell game in 2010\n",
      "bill      23\n",
      "people    17\n",
      "think     12\n",
      "aisle     12\n",
      "side      11\n",
      "Name: stopworded, dtype: int64\n",
      "*****\n",
      "CONTEXT for juvenile delinquency in 1967\n",
      "speech by Mr. MEEDS in 1967-09-26\n",
      "Mr. Chairman. I rise in support of the Juvenile Delinquency and Control Act of 1967. I would like to\n",
      "speech by Mr. MARTIN in 1967-09-26\n",
      "Mr. Speaker. I yield myself 10 minutes. Mr. Speaker. the able gentleman from New York explained Hous\n",
      "***\n",
      "COLLOCATES for juvenile delinquency in 1967\n",
      "million        26\n",
      "mr             17\n",
      "juvenile       15\n",
      "speaker        14\n",
      "delinquency    13\n",
      "Name: stopworded, dtype: int64\n",
      "*****\n",
      "CONTEXT for juvenile delinquency in 2010\n",
      "speech by Mr. PRICE of North Carolina in 2010-05-11\n",
      "Madam Speaker. I rise today on behalf of the North Carolina delegation to note with sadness the pass\n",
      "speech by Mr. ROONEY in 2010-05-18\n",
      "Mr. Speaker. I yield myself such time as I may consume. Mr. Speaker. I support H.R. 1514. the Juveni\n",
      "COLLOCATES for juvenile delinquency in 2010\n",
      "juvenile    15\n",
      "north        9\n",
      "program      8\n",
      "block        7\n",
      "ike          7\n",
      "Name: stopworded, dtype: int64\n",
      "*****\n",
      "CONTEXT for gambling in 1967\n",
      "speech by Mr. PATMAN in 1967-07-12\n",
      "I will not yield. The statement he made is a rather common excuse for surrendering to the baser elem\n",
      "speech by Mr. PATMAN in 1967-07-12\n",
      "I will not yield. If we are going to keep our national banking program free of gambling and underwor\n",
      "***\n",
      "COLLOCATES for gambling in 1967\n",
      "new            57\n",
      "york           41\n",
      "gambling       35\n",
      "rockefeller    26\n",
      "mr             22\n",
      "Name: stopworded, dtype: int64\n",
      "*****\n",
      "CONTEXT for gambling in 2010\n",
      "speech by Mr. MERKLEY in 2010-05-25\n",
      "Mr. President. I rise today to discuss the Comprehensive Problem Gambling Act. a bill I introduced j\n",
      "speech by The PRESIDENT pro tempore in 2010-12-07\n",
      "I thank you very much. The Chair has not received any written questions. Accordingly. the Senate wil\n",
      "COLLOCATES for gambling in 2010\n",
      "judge          204\n",
      "porteous       106\n",
      "article         68\n",
      "case            64\n",
      "impeachment     60\n",
      "Name: stopworded, dtype: int64\n",
      "*****\n",
      "CONTEXT for massacre in 1967\n",
      "speech by Mr. DERWINSKI in 1967-03-22\n",
      "Mr. Speaker. 27 years ago Soviet Union officials perpetrated the Katyn massacre. in which approximat\n",
      "speech by Mr. DERWINSKI in 1967-04-19\n",
      "Mr. Speaker. we have witnessed cleverly organized groups throughout the country. primarily headed by\n",
      "***\n",
      "COLLOCATES for massacre in 1967\n",
      "us               22\n",
      "nam              22\n",
      "viet             22\n",
      "communist        19\n",
      "international    15\n",
      "Name: stopworded, dtype: int64\n",
      "*****\n",
      "CONTEXT for massacre in 2010\n",
      "speech by Mr. SHUSTER in 2010-02-25\n",
      "Madam Speaker. one of our greatest strengths as elected officials is the opportunity to bring to lig\n",
      "speech by Mr. FEINGOLD in 2010-02-26\n",
      "Mr. President. today I wish to speak about a bill that I introduced a year ago with Senator SAM BROW\n",
      "COLLOCATES for massacre in 2010\n",
      "bill          18\n",
      "khojaly        9\n",
      "azerbaijan     8\n",
      "many           6\n",
      "lra            6\n",
      "Name: stopworded, dtype: int64\n",
      "*****\n",
      "CONTEXT for homicide in 1967\n",
      "speech by Mr. DINGELL in 1967-03-07\n",
      "Mr. Speaker. the value of statistics in research and planning has long been recognized. A statistic \n",
      "speech by Mr. DINGELL in 1967-05-31\n",
      "Mr. Speaker. an article in the Chicago Daily News by John M. Johnston regarding restrictive gun legi\n",
      "***\n",
      "COLLOCATES for homicide in 1967\n",
      "firearms     23\n",
      "crime        22\n",
      "laws         13\n",
      "rate         11\n",
      "accidents    11\n",
      "Name: stopworded, dtype: int64\n",
      "*****\n",
      "CONTEXT for homicide in 2010\n",
      "speech by Mr. REICHERT in 2010-05-18\n",
      "I thank the gentleman for yielding. Madam Speaker. I am proud to rise today to join with Mr. TEAGUE \n",
      "speech by Mr. THOMPSON of Pennsylvania in 2010-05-24\n",
      "Mr. Speaker. I rarely have time to go to the movies. or to watch television. for that matter. but I \n",
      "COLLOCATES for homicide in 2010\n",
      "domestic    10\n",
      "violence    10\n",
      "dna          9\n",
      "law          8\n",
      "years        8\n",
      "Name: stopworded, dtype: int64\n",
      "*****\n",
      "CONTEXT for scam in 1967\n",
      "speech by Mr. ZWACH in 1967-04-17\n",
      "Mr. Speaker. today marks the beginning of National Grange WeekApril 1622which not only recognizes th\n",
      "speech by Mr. ROGERS of Colorado in 1967-05-23\n",
      "May I point out that the guidelines themselves are not a rule or regulation. and nobody professes th\n",
      "***\n",
      "COLLOCATES for scam in 1967\n",
      "grange          17\n",
      "farmers         15\n",
      "national         9\n",
      "organization     9\n",
      "kelley           8\n",
      "Name: stopworded, dtype: int64\n",
      "*****\n",
      "CONTEXT for scam in 2010\n",
      "speech by Mrs. BOXER in 2010-05-06\n",
      "Mr. President. this is a pivotal point in the debate on Wall Street reform. We never want to see wha\n",
      "speech by Mr. ROONEY in 2010-07-27\n",
      "I yield myself such time as I may consume. Mr. Speaker. crimes against the elderly are a serious gro\n",
      "COLLOCATES for scam in 2010\n",
      "consumer      32\n",
      "protection    20\n",
      "consumers     19\n",
      "amendment     19\n",
      "would         17\n",
      "Name: stopworded, dtype: int64\n",
      "*****\n",
      "CONTEXT for malpractice in 1967\n",
      "speech by Mr. DE LA GARZA in 1967-04-20\n",
      "Mr. Speaker. Rear Adm. John Harilee. U.S. Navy. retired. is Chairman of the Federal Maritime Commiss\n",
      "speech by Mr. ANDERSON of Illinois in 1967-04-13\n",
      "Mr. Speaker. It was a distinguished American political scientist. Prof. David Truman. who wrote that\n",
      "***\n",
      "COLLOCATES for malpractice in 1967\n",
      "american       25\n",
      "commission     24\n",
      "freight        21\n",
      "maritime       20\n",
      "conferences    19\n",
      "Name: stopworded, dtype: int64\n",
      "*****\n",
      "CONTEXT for malpractice in 2010\n",
      "speech by Mr. SMITH of Texas in 2010-02-24\n",
      "Madam Speaker. I yield myself such time as I may consume. Madam Speaker. on October 9. the Congressi\n",
      "speech by Mr. DANIEL E. LUNGREN of Cali in 2010-02-24\n",
      "fornia. I thank the gentleman for yielding. Mr. Speaker. as Ive said repeatedlyand perhaps the gentl\n",
      "COLLOCATES for malpractice in 2010\n",
      "medical        19\n",
      "reform         18\n",
      "malpractice    13\n",
      "percent        13\n",
      "bill           12\n",
      "Name: stopworded, dtype: int64\n"
     ]
    }
   ],
   "source": [
    "for word1 in ['rape', 'slaughter', 'torture', 'felony', 'robbery', 'shell game', 'juvenile delinquency', \n",
    "             'gambling', 'massacre', 'homicide', 'scam', 'malpractice']:\n",
    "    \n",
    "  # get the rownumbers of the n speeches that use word1 the most\n",
    "    word1_1967_speechnumbers = congress1967['speech'].str.count(word1).nlargest(2)  ########### <-- play with this number *********\n",
    "    word1_2010_speechnumbers = congress2010['speech'].str.count(word1).nlargest(2)  ########### <-- play with this number *********\n",
    "\n",
    "    # get the speeches that mentioned word1 the most\n",
    "    word1_1967_context = congress1967.loc[list(word1_1967_speechnumbers.index)]\n",
    "    word1_2010_context = congress2010.loc[list(word1_2010_speechnumbers.index)]\n",
    "\n",
    "    # clean up the data\n",
    "    word1_1967_context['speech'] = word1_1967_context['speech'].str.replace('[^\\w\\s]','').str.lower() # remove punctuation, lowercase\n",
    "    word1_1967_context['stopworded'] = word1_1967_context['speech'].str.replace(stopwords_regex, '') #stopwording\n",
    "\n",
    "    word1_2010_context['speech'] = word1_2010_context['speech'].str.replace('[^\\w\\s]','').str.lower() # remove punctuation, lowercase\n",
    "    word1_2010_context['stopworded'] = word1_2010_context['speech'].str.replace(stopwords_regex, '') #stopwording\n",
    "\n",
    "    # print some context for 1967\n",
    "    print(\"*****\")\n",
    "    print(\"CONTEXT for \"+word1+\" in 1967\")\n",
    "    for speechnumber in list(word1_1967_speechnumbers.index)[:2]:  ########### <-- play with this number *********\n",
    "        speaker = congress1967['speaker'][speechnumber]\n",
    "        date = congress1967['date'][speechnumber]\n",
    "        print('speech by '+ speaker+ ' in ' + date)\n",
    "        print(congress1967['speech'][speechnumber][:100])  ########### <-- play with this number *********\n",
    "\n",
    "    # count the other words that appear in the context of word1 in 1967\n",
    "    word1_1967_context_count = word1_1967_context[\"stopworded\"].str.split().explode().dropna().value_counts()\n",
    "    print(\"***\")\n",
    "    print(\"COLLOCATES for \" + word1 + \" in 1967\")\n",
    "    print(word1_1967_context_count[:5])  # <-- play with this number\n",
    "\n",
    "    # print some context for 2010\n",
    "    print(\"*****\")\n",
    "    print(\"CONTEXT for \"+word1+\" in 2010\")\n",
    "    for speechnumber in list(word1_2010_speechnumbers.index)[:2]:  ########### <-- play with this number *********\n",
    "        speaker = congress2010['speaker'][speechnumber]\n",
    "        date = congress2010['date'][speechnumber]\n",
    "        print('speech by '+ speaker+ ' in ' + date)\n",
    "        print(congress2010['speech'][speechnumber][:100])  ########### <-- play with this number *********\n",
    "\n",
    "    # count the other words that appear in the context of word1 in 2010\n",
    "    word1_2010_context_count = word1_2010_context[\"stopworded\"].str.split().explode().dropna().value_counts()\n",
    "    print(\"COLLOCATES for \" + word1 + \" in 2010\")\n",
    "    print(word1_2010_context_count[:5])   ########### <-- play with this number *********"
   ]
  },
  {
   "cell_type": "markdown",
   "metadata": {},
   "source": [
    "## Implementing KeyWords in Context (KWIC)"
   ]
  },
  {
   "cell_type": "markdown",
   "metadata": {},
   "source": [
    "For this last exercise we will find keywords in context (KWIC). You can think of KWIC's output like the lines of a concordance, where you look up a passage and find the context.  We saw in the reading that historian Luke Blaxill used KWIC to make arguments about how different words were used in British election speeches.\n",
    "\n",
    "KWIC is not the only view you need to understand the context of speeches, but it is a useful one.\n",
    "\n",
    "To produce this output, we will split the text into n-grams where \"n\" stands for any number. For example, a text split into single words (like our data frame in the previous example) is split into 1-grams (also just called \"tokens\"). 3-grams split the text into units that are 3 words long. 5-grams split the text into units that are 5 words long. "
   ]
  },
  {
   "cell_type": "markdown",
   "metadata": {},
   "source": [
    "#### Load the Data\n",
    "\n",
    "Our example will use REDDIT data from November 2008. We will create a dictionary too see keyword \"Obama\" in context.\n",
    "\n",
    "First read in the data and do a little cleaning."
   ]
  },
  {
   "cell_type": "code",
   "execution_count": 25,
   "metadata": {},
   "outputs": [],
   "source": [
    "reddit_df = pd.read_csv('/scratch/group/oit_research_data/reddit/RC_2008-11.tsv', sep='\\t') # read in the data \n",
    "\n",
    "reddit_df = reddit_df[reddit_df['body'] != '[deleted]'] # drop comments that have been deleted \n",
    "\n",
    "subreddit_filter = ('politics', 'worldnews', 'news') # specify the subreddits you want to use\n",
    "\n",
    "reddit_df = reddit_df[reddit_df['subreddit'].isin(subreddit_filter)] # filter for the specified subreddits\n",
    "\n",
    "reddit_df['body'] = reddit_df['body'].str.lower() # transform all words to lower case for consistency \n",
    "\n",
    "reddit_df['body'] = reddit_df['body'].str.replace('[^\\w\\s]','') # remove punctuation\n",
    "\n",
    "reddit_df = reddit_df[~reddit_df['body'].isna()] # remove posts without commentary "
   ]
  },
  {
   "cell_type": "code",
   "execution_count": 26,
   "metadata": {},
   "outputs": [
    {
     "data": {
      "text/html": [
       "<div>\n",
       "<style scoped>\n",
       "    .dataframe tbody tr th:only-of-type {\n",
       "        vertical-align: middle;\n",
       "    }\n",
       "\n",
       "    .dataframe tbody tr th {\n",
       "        vertical-align: top;\n",
       "    }\n",
       "\n",
       "    .dataframe thead th {\n",
       "        text-align: right;\n",
       "    }\n",
       "</style>\n",
       "<table border=\"1\" class=\"dataframe\">\n",
       "  <thead>\n",
       "    <tr style=\"text-align: right;\">\n",
       "      <th></th>\n",
       "      <th>Unnamed: 0</th>\n",
       "      <th>body</th>\n",
       "      <th>created_utc</th>\n",
       "      <th>downs</th>\n",
       "      <th>id</th>\n",
       "      <th>link_id</th>\n",
       "      <th>parent_id</th>\n",
       "      <th>subreddit</th>\n",
       "      <th>subreddit_id</th>\n",
       "      <th>ups</th>\n",
       "    </tr>\n",
       "  </thead>\n",
       "  <tbody>\n",
       "    <tr>\n",
       "      <th>1</th>\n",
       "      <td>1</td>\n",
       "      <td>dude your phone is ringing dude dude your phon...</td>\n",
       "      <td>1225497628</td>\n",
       "      <td>0</td>\n",
       "      <td>c064gt4</td>\n",
       "      <td>t3_7ajhj</td>\n",
       "      <td>t1_c0648hy</td>\n",
       "      <td>news</td>\n",
       "      <td>t5_2qh3l</td>\n",
       "      <td>0</td>\n",
       "    </tr>\n",
       "    <tr>\n",
       "      <th>7</th>\n",
       "      <td>7</td>\n",
       "      <td>ask her to do it with her mouth full nudge kno...</td>\n",
       "      <td>1225497666</td>\n",
       "      <td>0</td>\n",
       "      <td>c064gta</td>\n",
       "      <td>t3_7ak8x</td>\n",
       "      <td>t1_c064dd3</td>\n",
       "      <td>worldnews</td>\n",
       "      <td>t5_2qh13</td>\n",
       "      <td>2</td>\n",
       "    </tr>\n",
       "    <tr>\n",
       "      <th>22</th>\n",
       "      <td>23</td>\n",
       "      <td>theres a difference between subtle tasteful ad...</td>\n",
       "      <td>1225497747</td>\n",
       "      <td>0</td>\n",
       "      <td>c064gtq</td>\n",
       "      <td>t3_7aklv</td>\n",
       "      <td>t1_c064c5m</td>\n",
       "      <td>politics</td>\n",
       "      <td>t5_2cneq</td>\n",
       "      <td>8</td>\n",
       "    </tr>\n",
       "    <tr>\n",
       "      <th>23</th>\n",
       "      <td>24</td>\n",
       "      <td>holy shit not only was my ad a floater mine wa...</td>\n",
       "      <td>1225497749</td>\n",
       "      <td>0</td>\n",
       "      <td>c064gtr</td>\n",
       "      <td>t3_7aklv</td>\n",
       "      <td>t1_c064b44</td>\n",
       "      <td>politics</td>\n",
       "      <td>t5_2cneq</td>\n",
       "      <td>2</td>\n",
       "    </tr>\n",
       "    <tr>\n",
       "      <th>29</th>\n",
       "      <td>30</td>\n",
       "      <td>do you know what they call proposition 8 in ho...</td>\n",
       "      <td>1225497763</td>\n",
       "      <td>0</td>\n",
       "      <td>c064gtx</td>\n",
       "      <td>t3_7ajk1</td>\n",
       "      <td>t3_7ajk1</td>\n",
       "      <td>politics</td>\n",
       "      <td>t5_2cneq</td>\n",
       "      <td>1</td>\n",
       "    </tr>\n",
       "    <tr>\n",
       "      <th>...</th>\n",
       "      <td>...</td>\n",
       "      <td>...</td>\n",
       "      <td>...</td>\n",
       "      <td>...</td>\n",
       "      <td>...</td>\n",
       "      <td>...</td>\n",
       "      <td>...</td>\n",
       "      <td>...</td>\n",
       "      <td>...</td>\n",
       "      <td>...</td>\n",
       "    </tr>\n",
       "    <tr>\n",
       "      <th>784047</th>\n",
       "      <td>792284</td>\n",
       "      <td>i think it was books like confessions of an ec...</td>\n",
       "      <td>1228089500</td>\n",
       "      <td>0</td>\n",
       "      <td>c06lhpj</td>\n",
       "      <td>t3_7gga6</td>\n",
       "      <td>t1_c06lfnb</td>\n",
       "      <td>worldnews</td>\n",
       "      <td>t5_2qh13</td>\n",
       "      <td>1</td>\n",
       "    </tr>\n",
       "    <tr>\n",
       "      <th>784056</th>\n",
       "      <td>792293</td>\n",
       "      <td>sorry i meant the video i was unaware there wa...</td>\n",
       "      <td>1228089540</td>\n",
       "      <td>0</td>\n",
       "      <td>c06lhps</td>\n",
       "      <td>t3_7gfkn</td>\n",
       "      <td>t1_c06lhp6</td>\n",
       "      <td>politics</td>\n",
       "      <td>t5_2cneq</td>\n",
       "      <td>1</td>\n",
       "    </tr>\n",
       "    <tr>\n",
       "      <th>784059</th>\n",
       "      <td>792296</td>\n",
       "      <td>hah thats your proof lets see the neocon bible...</td>\n",
       "      <td>1228089546</td>\n",
       "      <td>0</td>\n",
       "      <td>c06lhpv</td>\n",
       "      <td>t3_7gcxz</td>\n",
       "      <td>t1_c06lfr5</td>\n",
       "      <td>politics</td>\n",
       "      <td>t5_2cneq</td>\n",
       "      <td>1</td>\n",
       "    </tr>\n",
       "    <tr>\n",
       "      <th>784061</th>\n",
       "      <td>792298</td>\n",
       "      <td>yeah the darpa prize hasnt yielded any results</td>\n",
       "      <td>1228089554</td>\n",
       "      <td>0</td>\n",
       "      <td>c06lhpx</td>\n",
       "      <td>t3_7ghb5</td>\n",
       "      <td>t1_c06lfjz</td>\n",
       "      <td>politics</td>\n",
       "      <td>t5_2cneq</td>\n",
       "      <td>3</td>\n",
       "    </tr>\n",
       "    <tr>\n",
       "      <th>784069</th>\n",
       "      <td>792307</td>\n",
       "      <td>thats just retarded they may not be barred fro...</td>\n",
       "      <td>1228089588</td>\n",
       "      <td>0</td>\n",
       "      <td>c06lhq6</td>\n",
       "      <td>t3_7gi2i</td>\n",
       "      <td>t3_7gi2i</td>\n",
       "      <td>politics</td>\n",
       "      <td>t5_2cneq</td>\n",
       "      <td>-3</td>\n",
       "    </tr>\n",
       "  </tbody>\n",
       "</table>\n",
       "<p>130680 rows × 10 columns</p>\n",
       "</div>"
      ],
      "text/plain": [
       "        Unnamed: 0                                               body  \\\n",
       "1                1  dude your phone is ringing dude dude your phon...   \n",
       "7                7  ask her to do it with her mouth full nudge kno...   \n",
       "22              23  theres a difference between subtle tasteful ad...   \n",
       "23              24  holy shit not only was my ad a floater mine wa...   \n",
       "29              30  do you know what they call proposition 8 in ho...   \n",
       "...            ...                                                ...   \n",
       "784047      792284  i think it was books like confessions of an ec...   \n",
       "784056      792293  sorry i meant the video i was unaware there wa...   \n",
       "784059      792296  hah thats your proof lets see the neocon bible...   \n",
       "784061      792298     yeah the darpa prize hasnt yielded any results   \n",
       "784069      792307  thats just retarded they may not be barred fro...   \n",
       "\n",
       "        created_utc  downs       id   link_id   parent_id  subreddit  \\\n",
       "1        1225497628      0  c064gt4  t3_7ajhj  t1_c0648hy       news   \n",
       "7        1225497666      0  c064gta  t3_7ak8x  t1_c064dd3  worldnews   \n",
       "22       1225497747      0  c064gtq  t3_7aklv  t1_c064c5m   politics   \n",
       "23       1225497749      0  c064gtr  t3_7aklv  t1_c064b44   politics   \n",
       "29       1225497763      0  c064gtx  t3_7ajk1    t3_7ajk1   politics   \n",
       "...             ...    ...      ...       ...         ...        ...   \n",
       "784047   1228089500      0  c06lhpj  t3_7gga6  t1_c06lfnb  worldnews   \n",
       "784056   1228089540      0  c06lhps  t3_7gfkn  t1_c06lhp6   politics   \n",
       "784059   1228089546      0  c06lhpv  t3_7gcxz  t1_c06lfr5   politics   \n",
       "784061   1228089554      0  c06lhpx  t3_7ghb5  t1_c06lfjz   politics   \n",
       "784069   1228089588      0  c06lhq6  t3_7gi2i    t3_7gi2i   politics   \n",
       "\n",
       "       subreddit_id  ups  \n",
       "1          t5_2qh3l    0  \n",
       "7          t5_2qh13    2  \n",
       "22         t5_2cneq    8  \n",
       "23         t5_2cneq    2  \n",
       "29         t5_2cneq    1  \n",
       "...             ...  ...  \n",
       "784047     t5_2qh13    1  \n",
       "784056     t5_2cneq    1  \n",
       "784059     t5_2cneq    1  \n",
       "784061     t5_2cneq    3  \n",
       "784069     t5_2cneq   -3  \n",
       "\n",
       "[130680 rows x 10 columns]"
      ]
     },
     "execution_count": 26,
     "metadata": {},
     "output_type": "execute_result"
    }
   ],
   "source": [
    "reddit_df"
   ]
  },
  {
   "cell_type": "markdown",
   "metadata": {},
   "source": [
    "Now let's write a function that returns our keyword in context. You don't need to follow the code, but you should know that you can always use the function below when you want to generate a KWIC view."
   ]
  },
  {
   "cell_type": "code",
   "execution_count": 27,
   "metadata": {},
   "outputs": [],
   "source": [
    "keyword = 'obama'\n",
    "\n",
    "keyword_df = reddit_df[reddit_df['body'].str.contains(keyword)].copy() # search the text for the presence of our keyword \n",
    "\n",
    "def KWIC(body):\n",
    "    n = 5 # specify the number of surrounding words to use before and after the keyword\n",
    "    \n",
    "    words = body.split() # split the words into tokens\n",
    "    keyword_index = 0\n",
    "    \n",
    "    # The following for loop iterates through each word in the text. If our keyword is found, the for loop stores its index. \n",
    "    # But, why are we storing the index? As you might remember, the index is a numerical representation of the row's position.\n",
    "    # It can also be thought of as a unique name the computer uses to identify a row. We can call the index to return JUST these rows.\n",
    "    for index, word in enumerate(words): \n",
    "        if keyword in word: \n",
    "            keyword_index = index\n",
    "            break\n",
    "    \n",
    "    before_keyword = words[max(0, keyword_index - n):keyword_index] # store the words that come before the keyword, up to our specified number \n",
    "    after_keyword = words[keyword_index:keyword_index + n] # store the words that come after the keyword, up to our specified number \n",
    "    return ' '.join(before_keyword + after_keyword) # return the keyword in its context\n",
    "\n",
    "keyword_df['context'] = keyword_df['body'].apply(KWIC)"
   ]
  },
  {
   "cell_type": "code",
   "execution_count": 28,
   "metadata": {},
   "outputs": [
    {
     "data": {
      "text/html": [
       "<div>\n",
       "<style scoped>\n",
       "    .dataframe tbody tr th:only-of-type {\n",
       "        vertical-align: middle;\n",
       "    }\n",
       "\n",
       "    .dataframe tbody tr th {\n",
       "        vertical-align: top;\n",
       "    }\n",
       "\n",
       "    .dataframe thead th {\n",
       "        text-align: right;\n",
       "    }\n",
       "</style>\n",
       "<table border=\"1\" class=\"dataframe\">\n",
       "  <thead>\n",
       "    <tr style=\"text-align: right;\">\n",
       "      <th></th>\n",
       "      <th>context</th>\n",
       "    </tr>\n",
       "  </thead>\n",
       "  <tbody>\n",
       "    <tr>\n",
       "      <th>45</th>\n",
       "      <td>that obama voted and lobbied for</td>\n",
       "    </tr>\n",
       "    <tr>\n",
       "      <th>67</th>\n",
       "      <td>off without a hitch and obama wins nothing wil...</td>\n",
       "    </tr>\n",
       "    <tr>\n",
       "      <th>112</th>\n",
       "      <td>and remember why you elected obama because hes...</td>\n",
       "    </tr>\n",
       "    <tr>\n",
       "      <th>237</th>\n",
       "      <td>they are afraid of ners obama is the most set</td>\n",
       "    </tr>\n",
       "    <tr>\n",
       "      <th>285</th>\n",
       "      <td>state of hawaii is helping obama you show them...</td>\n",
       "    </tr>\n",
       "    <tr>\n",
       "      <th>...</th>\n",
       "      <td>...</td>\n",
       "    </tr>\n",
       "    <tr>\n",
       "      <th>783439</th>\n",
       "      <td>to invent some cynical crap obama isnt even in...</td>\n",
       "    </tr>\n",
       "    <tr>\n",
       "      <th>783540</th>\n",
       "      <td>effort not connected to the obama campaign or ...</td>\n",
       "    </tr>\n",
       "    <tr>\n",
       "      <th>783654</th>\n",
       "      <td>accounts were ever touched by obama just as ba...</td>\n",
       "    </tr>\n",
       "    <tr>\n",
       "      <th>783722</th>\n",
       "      <td>sitting president at this point obama holds du...</td>\n",
       "    </tr>\n",
       "    <tr>\n",
       "      <th>784059</th>\n",
       "      <td>say what you will of obama hes not proven himself</td>\n",
       "    </tr>\n",
       "  </tbody>\n",
       "</table>\n",
       "<p>9309 rows × 1 columns</p>\n",
       "</div>"
      ],
      "text/plain": [
       "                                                  context\n",
       "45                       that obama voted and lobbied for\n",
       "67      off without a hitch and obama wins nothing wil...\n",
       "112     and remember why you elected obama because hes...\n",
       "237         they are afraid of ners obama is the most set\n",
       "285     state of hawaii is helping obama you show them...\n",
       "...                                                   ...\n",
       "783439  to invent some cynical crap obama isnt even in...\n",
       "783540  effort not connected to the obama campaign or ...\n",
       "783654  accounts were ever touched by obama just as ba...\n",
       "783722  sitting president at this point obama holds du...\n",
       "784059  say what you will of obama hes not proven himself\n",
       "\n",
       "[9309 rows x 1 columns]"
      ]
     },
     "execution_count": 28,
     "metadata": {},
     "output_type": "execute_result"
    }
   ],
   "source": [
    "keyword_df[['context']]"
   ]
  },
  {
   "cell_type": "markdown",
   "metadata": {},
   "source": [
    "This data frame is a little difficult to look at, so I am going to export the contents to a file. "
   ]
  },
  {
   "cell_type": "code",
   "execution_count": 30,
   "metadata": {},
   "outputs": [],
   "source": [
    "keyword_df['context'].to_csv('KWIC_example_keyword_obama.csv', sep = ' ', index=False, header = True)"
   ]
  },
  {
   "cell_type": "markdown",
   "metadata": {},
   "source": [
    "These are the first 18 lines from the file. "
   ]
  },
  {
   "cell_type": "markdown",
   "metadata": {},
   "source": [
    "> that obama voted and lobbied for\n",
    "\n",
    "> off without a hitch and obama wins nothing will change\n",
    "\n",
    "> and remember why you elected obama because hes the best\n",
    "\n",
    "> they are afraid of ners obama is the most set\n",
    "\n",
    "> state of hawaii is helping obama you show them the\n",
    "\n",
    "> remaining 80 percent how are obamas policies different here we\n",
    "\n",
    "> sounds pretty futile to me obama wont change anything but\n",
    "\n",
    "> with his statement that an obama or mccain vote would\n",
    "\n",
    "> would make shitty picks but obama will make equally shitty\n",
    "\n",
    "> camped out there thats why obama has to keep his\n",
    "\n",
    "> with the model being suggested obama just needs about 40\n",
    "\n",
    "> i just saw an obama on mccain attack ad\n",
    "\n",
    "> i get the impression that obama gets the problems he\n",
    "\n",
    "> is president i dont expect obama to be any different\n",
    "\n",
    "> ways dont you worry if obama falls down reddit will\n",
    "\n",
    "> it is not senator obamas responsibility nor the democrats\n",
    "\n",
    "> people to go away after obama wins and you possibly\n",
    "\n",
    "> dear lord i remember michelle obama parading her kids around\n"
   ]
  },
  {
   "cell_type": "markdown",
   "metadata": {},
   "source": [
    "## Assignment (in groups)\n",
    "\n",
    "You will write an essay of approximately one page that explains how both keywords changed their meaning.\n",
    "\n",
    "Use the code above to compare the context for FOUR keywords of your choosing about crime. Tweak the code to show at least 30 collocates and the entire speech for each line of context.  \n",
    "\n",
    "Choose words whose shift in context you believe you mostly understand, but about which you can discover something new. \n",
    "\n",
    "Investigate through the following steps.  \n",
    "\n",
    "* Compare how frequently the keywords were talked about in each time period. \n",
    "* Use the collocates chart to compare how regularly the keyword’s collocates were invoked with that keyword in each year. Use the bar chart of collocates in your answer.  \n",
    "* Make an argument about how each keyword’s usage changed from 1967 to 2010.  Did the keyword go from being unimportant to important? Did specific cases mean that the keyword was being invoked in a new and specific sense? Or did a keyword that was once important disappear in significance?\n",
    "* Use short quotations of at least three words and no more than one line to support your answer. Use at least ONE sentences of context from speeches where the word appears frequently to support each keyword-era combination. Cite that context using turabian style in a footnote, e.g., SpeakerName, Speech, U.S. House of Representatives (Date).\n",
    "\n",
    "***Important***: It is possible that you might go through these steps and still not understand how a word changed.  If this happens (and it will), you have two options: \n",
    "1) keep digging. look at more collocates and read more context.  \n",
    "2) decide that the shift in question is too nuanced for you.  choose a different keyword to research.\n",
    "\n",
    "Only write about a keyword if you believe you have successfully reached understanding."
   ]
  },
  {
   "cell_type": "code",
   "execution_count": null,
   "metadata": {},
   "outputs": [],
   "source": []
  }
 ],
 "metadata": {
  "kernelspec": {
   "display_name": "Python 3",
   "language": "python",
   "name": "python3"
  },
  "language_info": {
   "codemirror_mode": {
    "name": "ipython",
    "version": 3
   },
   "file_extension": ".py",
   "mimetype": "text/x-python",
   "name": "python",
   "nbconvert_exporter": "python",
   "pygments_lexer": "ipython3",
   "version": "3.6.7"
  }
 },
 "nbformat": 4,
 "nbformat_minor": 4
}
