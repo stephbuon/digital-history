{
 "cells": [
  {
   "cell_type": "markdown",
   "metadata": {},
   "source": [
    "For citation information, please see the \"Source Information\" section listed in the associated README file: https://github.com/stephbuon/digital-history/tree/master/hist3368-week3-ngrams-lemmatization-gender"
   ]
  },
  {
   "cell_type": "markdown",
   "metadata": {},
   "source": [
    "# Week 3 Mini Notebook: Lemmatization"
   ]
  },
  {
   "cell_type": "markdown",
   "metadata": {},
   "source": [
    "This notebook is designed to introduce you to another cleaning step, called 'stemming' or 'lemmatization.'  Previously, we learned to clean text by lowercasing text, removing punctuation, and removing stopwords. \n",
    "\n",
    "When scholars practice wordcount, they often want to make singulars and plurals the same, so that the following words could be counted the same:\n",
    "\n",
    "    * giraffe\n",
    "    * giraffes\n",
    "    \n",
    "The easy way to fix this prblem is called \"stemming.\" In stemming, we tell the computer to look for common endings -- like 's,' 'ed,' and 'ing' -- and remove them.\n",
    "\n",
    "However, that process won't work for irregular words in English, for instance the following words:\n",
    "\n",
    "    * wolf / wolves\n",
    "    * woman / women\n",
    "\n",
    "Fortunately, linguists have compiled lists of irregular words and their 'root lemma,' which is to say the 'wolf' in 'wolves.'  The process of 'lemmatization' is looking for irregular words and replacing them with their lemmas.  \n",
    "\n",
    "We will use the **worddnet** command from the **nltk** package -- which was designed by linguists -- to lemmatize text correctly."
   ]
  },
  {
   "cell_type": "markdown",
   "metadata": {},
   "source": [
    "## Download some Jane Austen Novels"
   ]
  },
  {
   "cell_type": "code",
   "execution_count": 1,
   "metadata": {},
   "outputs": [],
   "source": [
    "import nltk, numpy, re, matplotlib# , num2words"
   ]
  },
  {
   "cell_type": "code",
   "execution_count": 2,
   "metadata": {},
   "outputs": [
    {
     "name": "stdout",
     "output_type": "stream",
     "text": [
      "/scratch/group/history/hist_3368-jguldi\n"
     ]
    }
   ],
   "source": [
    "cd /scratch/group/history/hist_3368-jguldi"
   ]
  },
  {
   "cell_type": "code",
   "execution_count": 3,
   "metadata": {},
   "outputs": [],
   "source": [
    "#download some data\n",
    "\n",
    "with open('senseandsensibility.txt', 'r') as myfile:\n",
    "    sas_data = myfile.read().split('\\n\\n\"I suppose you know, ma\\'am, that Mr. Ferrars is married\"\\n\\nIt _was_ Edward\\n\\n\"Everything in such respectable condition\"\\n\\n ')[1].split('THE END')[0].strip()\n",
    "\n",
    "with open('emma.txt', 'r') as myfile:\n",
    "    emma_data = myfile.read().split('CHAPTER I')[1].split('FINIS')[0].strip()\n",
    "\n",
    "with open('prideandprejudice.txt', 'r') as myfile:\n",
    "    pap_data = myfile.read().split('CHAPTER I')[1].split('End of the Project Gutenberg EBook of Pride and Prejudice, by Jane Austen')[0].strip()\n"
   ]
  },
  {
   "cell_type": "markdown",
   "metadata": {},
   "source": [
    "Make sure that your data matches what you think it should."
   ]
  },
  {
   "cell_type": "code",
   "execution_count": 4,
   "metadata": {},
   "outputs": [
    {
     "data": {
      "text/plain": [
       "\"*       *       *       *       *\\n\\n\\n\\n\\nCHAPTER I\\n\\n\\nThe family of Dashwood had long been settled in Sussex. Their estate\\nwas large, and their residence was at Norland Park, in the centre of\\ntheir property, where, for many generations, they had lived in so\\nrespectable a manner as to engage the general good opinion of their\\nsurrounding acquaintance. The late owner of this estate was a single\\nman, who lived to a very advanced age, and who for many years of his\\nlife, had a constant companion and housekeeper in his sister. But her\\ndeath, which happened ten years before his own, produced a great\\nalteration in his home; for to supply her loss, he invited and\\nreceived into his house the family of his nephew Mr. Henry Dashwood,\\nthe legal inheritor of the Norland estate, and the person to whom he\\nintended to bequeath it. In the society of his nephew and niece, and\\ntheir children, the old Gentleman's days were comfortably spent. His\\nattachment to them all increased. The constant attention of Mr. and\\nMrs. Henry Dashwood to his wishes, which proceeded not merely from\\ninterest, but from goodness of heart, gave him every degree of solid\\ncomfort which his age could receive; and the cheerfulness of the\\nchildren added a relish to his existence.\\n\\nBy a former marriage, Mr. Henry Dashwood had one son: by his present\\nlady, three daughters. The son, a steady respectable young man, was\\namply provided for by the fortune of his mother, which had been large,\\nand half of which devolved on him on his coming of age. By his own\\nmarriage, likewise, which happened soon afterwards, he added to his\\nwealth. To him therefore the succession to the Norland estate was not\\nso really important as to his sisters; for their fortune, independent\\nof what might arise to them from their father's inheriting that\\nproperty, could be but small. Their mother had nothing, and their\\nfather only seven thousand pounds in his own disposal; for the\\nremaining moiety of his first wife's fortune was also secured to her\\nchild, an\""
      ]
     },
     "execution_count": 4,
     "metadata": {},
     "output_type": "execute_result"
    }
   ],
   "source": [
    "# printing only first 2000 characters.\n",
    "sas_data[:2000]"
   ]
  },
  {
   "cell_type": "markdown",
   "metadata": {},
   "source": [
    "Looks good!\n",
    "\n",
    "Isn't it getting tired, retyping the same command for each novel? Let's throw them all into one list -- which we'll call *data* --  so we can loop through them."
   ]
  },
  {
   "cell_type": "code",
   "execution_count": 9,
   "metadata": {},
   "outputs": [],
   "source": [
    "data = [sas_data, emma_data, pap_data]"
   ]
  },
  {
   "cell_type": "markdown",
   "metadata": {},
   "source": [
    "Remember that we can call the first item in a list with square brackets.  Here is how you will call Sense and Sensibility:\n",
    "\n",
    "    data[0]\n",
    "    \n",
    "If you only want to see the first 2000 characters of Sense and Sensibility, you call it this way:\n",
    "\n",
    "    data[0][:2000]"
   ]
  },
  {
   "cell_type": "code",
   "execution_count": 5,
   "metadata": {},
   "outputs": [
    {
     "data": {
      "text/plain": [
       "\"*       *       *       *       *\\n\\n\\n\\n\\nCHAPTER I\\n\\n\\nThe family of Dashwood had long been settled in Sussex. Their estate\\nwas large, and their residence was at Norland Park, in the centre of\\ntheir property, where, for many generations, they had lived in so\\nrespectable a manner as to engage the general good opinion of their\\nsurrounding acquaintance. The late owner of this estate was a single\\nman, who lived to a very advanced age, and who for many years of his\\nlife, had a constant companion and housekeeper in his sister. But her\\ndeath, which happened ten years before his own, produced a great\\nalteration in his home; for to supply her loss, he invited and\\nreceived into his house the family of his nephew Mr. Henry Dashwood,\\nthe legal inheritor of the Norland estate, and the person to whom he\\nintended to bequeath it. In the society of his nephew and niece, and\\ntheir children, the old Gentleman's days were comfortably spent. His\\nattachment to them all increased. The constant attention of Mr. and\\nMrs. Henry Dashwood to his wishes, which proceeded not merely from\\ninterest, but from goodness of heart, gave him every degree of solid\\ncomfort which his age could receive; and the cheerfulness of the\\nchildren added a relish to his existence.\\n\\nBy a former marriage, Mr. Henry Dashwood had one son: by his present\\nlady, three daughters. The son, a steady respectable young man, was\\namply provided for by the fortune of his mother, which had been large,\\nand half of which devolved on him on his coming of age. By his own\\nmarriage, likewise, which happened soon afterwards, he added to his\\nwealth. To him therefore the succession to the Norland estate was not\\nso really important as to his sisters; for their fortune, independent\\nof what might arise to them from their father's inheriting that\\nproperty, could be but small. Their mother had nothing, and their\\nfather only seven thousand pounds in his own disposal; for the\\nremaining moiety of his first wife's fortune was also secured to her\\nchild, an\""
      ]
     },
     "execution_count": 5,
     "metadata": {},
     "output_type": "execute_result"
    }
   ],
   "source": [
    "data[0][:2000]"
   ]
  },
  {
   "cell_type": "markdown",
   "metadata": {},
   "source": [
    "There still appear to be some errors where spaces have been replaced by \"\\n\".  \n",
    "\n",
    "The characters '\\n' are a 'regular expression', or computer speak for 'white space goes here.'  You'll also see literal '\\n''s in the text above -- an artifact of how the text was formatted. \n",
    "\n",
    "Let's get rid of those next, using *.replace*. We'll replace them with a normal space, or ' '."
   ]
  },
  {
   "cell_type": "code",
   "execution_count": 8,
   "metadata": {},
   "outputs": [
    {
     "data": {
      "text/plain": [
       "\"*       *       *       *       *     CHAPTER I   The family of Dashwood had long been settled in Sussex. Their estate was large, and their residence was at Norland Park, in the centre of their property, where, for many generations, they had lived in so respectable a manner as to engage the general good opinion of their surrounding acquaintance. The late owner of this estate was a single man, who lived to a very advanced age, and who for many years of his life, had a constant companion and housekeeper in his sister. But her death, which happened ten years before his own, produced a great alteration in his home; for to supply her loss, he invited and received into his house the family of his nephew Mr. Henry Dashwood, the legal inheritor of the Norland estate, and the person to whom he intended to bequeath it. In the society of his nephew and niece, and their children, the old Gentleman's days were comfortably spent. His attachment to them all increased. The constant attention of Mr. and Mrs. Henry Dashwood to his wishes, which proceeded not merely from interest, but from goodness of heart, gave him every degree of solid comfort which his age could receive; and the cheerfulness of the children added a relish to his existence.  By a former marriage, Mr. Henry Dashwood had one son: by his present lady, three daughters. The son, a steady respectable young man, was amply provided for by the fortune of his mother, which had been large, and half of which devolved on him on his coming of age. By his own marriage, likewise, which happened soon afterwards, he added to his wealth. To him therefore the succession to the Norland estate was not so really important as to his sisters; for their fortune, independent of what might arise to them from their father's inheriting that property, could be but small. Their mother had nothing, and their father only seven thousand pounds in his own disposal; for the remaining moiety of his first wife's fortune was also secured to her child, an\""
      ]
     },
     "execution_count": 8,
     "metadata": {},
     "output_type": "execute_result"
    }
   ],
   "source": [
    "for i in range(len(data)):\n",
    "    data[i] = data[i].replace('\\n', ' ') \n",
    "data[0][:2000]"
   ]
  },
  {
   "cell_type": "markdown",
   "metadata": {},
   "source": [
    "We can also inspect each individual novel."
   ]
  },
  {
   "cell_type": "code",
   "execution_count": 41,
   "metadata": {},
   "outputs": [
    {
     "name": "stdout",
     "output_type": "stream",
     "text": [
      "chapter i\n",
      "\n",
      "\n",
      "the family of dashwood had long been settled in sussex their estate\n",
      "was large and their residence was at norland park in the centre of\n",
      "their property where\n",
      "\n",
      "emma woodhouse handsome clever and rich with a comfortable home\n",
      "and happy disposition seemed to unite some of the best blessings of\n",
      "existence and had lived nearly twenty-one years in the world with ve\n",
      "\n",
      "it is a truth universally acknowledged that a single man in possession\n",
      "of a good fortune must be in want of a wife\n",
      "\n",
      "however little known the feelings or views of such a man may be on his\n",
      "first ente\n",
      "\n"
     ]
    }
   ],
   "source": [
    "for novel in data:\n",
    "    \n",
    "    print(novel[:200].strip()) # the .strip() command removes whitespace that might prevent this from displaying properly\n",
    "    print()"
   ]
  },
  {
   "cell_type": "markdown",
   "metadata": {},
   "source": [
    "## Cleaning the Novels"
   ]
  },
  {
   "cell_type": "markdown",
   "metadata": {},
   "source": [
    "Now, let's lowercase the text and get rid of punctuation"
   ]
  },
  {
   "cell_type": "markdown",
   "metadata": {},
   "source": [
    "#### Lowercase and strip punctuation"
   ]
  },
  {
   "cell_type": "code",
   "execution_count": 42,
   "metadata": {
    "scrolled": true
   },
   "outputs": [],
   "source": [
    "import re\n",
    "\n",
    "for i in range(len(data)):\n",
    "    # data[i] is the current novel\n",
    "    data[i] = data[i].lower() # force to lowercase\n",
    "    data[i] = re.sub('[\\\",.;:?([)\\]_*]', '', data[i]) # remove punctuation and special characters with regular expression"
   ]
  },
  {
   "cell_type": "markdown",
   "metadata": {},
   "source": [
    "Next, let's split the text of each novel into individual words using *.split().\n",
    "\n",
    "Then we will filter out the stopwords."
   ]
  },
  {
   "cell_type": "markdown",
   "metadata": {},
   "source": [
    "#### Filter out stopwords"
   ]
  },
  {
   "cell_type": "code",
   "execution_count": 43,
   "metadata": {},
   "outputs": [
    {
     "data": {
      "text/plain": [
       "['chapter',\n",
       " 'family',\n",
       " 'dashwood',\n",
       " 'long',\n",
       " 'settled',\n",
       " 'sussex',\n",
       " 'estate',\n",
       " 'large',\n",
       " 'residence',\n",
       " 'norland',\n",
       " 'park',\n",
       " 'centre',\n",
       " 'property',\n",
       " 'many',\n",
       " 'generations',\n",
       " 'lived',\n",
       " 'respectable',\n",
       " 'manner',\n",
       " 'engage',\n",
       " 'general']"
      ]
     },
     "execution_count": 43,
     "metadata": {},
     "output_type": "execute_result"
    }
   ],
   "source": [
    "import pandas\n",
    "\n",
    "from nltk.corpus import stopwords\n",
    "stopwords = stopwords.words('english')\n",
    "\n",
    "cleandata = [] # create an empty list of clean novels\n",
    "\n",
    "for novel in data:\n",
    "    cleanwords = [] # create a dummy list of cleanwords\n",
    "    words = novel.split() # split the words of the original novel up into a list of individual words.\n",
    "    for word in words:\n",
    "        if word not in stopwords:\n",
    "            cleanwords.append(word)\n",
    "    cleandata.append(cleanwords)\n",
    "\n",
    "cleandata[0][:20]"
   ]
  },
  {
   "cell_type": "markdown",
   "metadata": {},
   "source": [
    "\n",
    "### Stemming"
   ]
  },
  {
   "cell_type": "markdown",
   "metadata": {},
   "source": [
    "Stemming is another cleaning process. It makes it possible to count as similar words that have the same root, for example, \"manner\" and \"manners.\"\n",
    "\n",
    "Stemming refers to the computational process of normalizing singular and plural, past and present tense by removing the most common suffices in English, for instance \"ed\" or \"ing\".\n",
    "\n",
    "We will use a standard **NLTK** package function, **PorterStemmer()**, to do the stemming. \n",
    "\n",
    "**PorterStemmer.stem()** takes one object, the word that needs to be stemmed.  Note that below we are nicknaming PorterStemmer \"st\" for short."
   ]
  },
  {
   "cell_type": "code",
   "execution_count": 52,
   "metadata": {},
   "outputs": [
    {
     "data": {
      "text/plain": [
       "['chapter',\n",
       " 'famili',\n",
       " 'dashwood',\n",
       " 'long',\n",
       " 'settl',\n",
       " 'sussex',\n",
       " 'estat',\n",
       " 'larg',\n",
       " 'resid',\n",
       " 'norland',\n",
       " 'park',\n",
       " 'centr',\n",
       " 'properti',\n",
       " 'mani',\n",
       " 'gener',\n",
       " 'live',\n",
       " 'respect',\n",
       " 'manner',\n",
       " 'engag',\n",
       " 'gener']"
      ]
     },
     "execution_count": 52,
     "metadata": {},
     "output_type": "execute_result"
    }
   ],
   "source": [
    "from nltk.stem import PorterStemmer\n",
    "\n",
    "st = PorterStemmer()\n",
    "\n",
    "stemmed_list = []\n",
    "\n",
    "for novel in cleandata:\n",
    "    for word in novel:\n",
    "        stemmed = st.stem(word)\n",
    "        stemmed_list.append(stemmed)\n",
    "        \n",
    "stemmed_list[:20] # i have changed this so you print just the first words\n",
    "# printing all the words is actually way more computer intensive than it may seem"
   ]
  },
  {
   "cell_type": "markdown",
   "metadata": {},
   "source": [
    "As we can see, with stemming:\n",
    "\n",
    "   * \"settled\" becomes \"settl,\" which means that \"settling\" and \"settler\" will be counted together.\n",
    "   * \"residence\" becomes \"resid,\" which means it will be counted with \"resident\" and \"residing.\"\n",
    "\n",
    "Those counts will work well.\n"
   ]
  },
  {
   "cell_type": "markdown",
   "metadata": {},
   "source": [
    "#### What's not so great about Stemming?"
   ]
  },
  {
   "cell_type": "markdown",
   "metadata": {},
   "source": [
    "Stemming is a quick-and-dirty method. But it gives us strange results that we might not want to publish."
   ]
  },
  {
   "cell_type": "markdown",
   "metadata": {},
   "source": [
    "\n",
    "But there are some questionable adjustments that we might disagree with.\n",
    "\n",
    "   * \"was\" has become \"wa.\" this won't help us to count \"was\" with \"is\" or \"to be,\" which are other forms of the same verb.\n",
    "   * \"large\" becomes \"larg\" (which means that \"large\" will be counted with \"largely\" and potentially \"largo,\" which would be innacurate)\n",
    "   * \"families\" becomes \"famili,\" which means it wouldn't be counted accurately as the same word as \"family.\"\n",
    "   \n",
    "\n",
    "Stemming, therefore, isn't what we want to use for cleaning text. It would give us inaccurate results."
   ]
  },
  {
   "cell_type": "markdown",
   "metadata": {},
   "source": [
    "### Lemmatization"
   ]
  },
  {
   "cell_type": "markdown",
   "metadata": {},
   "source": [
    "Next, let's turn towards a more robust process.  In 'lemmatization,' the computer has been given a list of irregular words. It looks for them, and reduces every word to its \"lemma,\" or root.\n",
    "\n",
    "This process is extremely memory intensive, but the results are far more accurate.  \n",
    "\n",
    "We will be using lemmatization, not stemming, to clean texts in this class."
   ]
  },
  {
   "cell_type": "markdown",
   "metadata": {},
   "source": [
    "First, install the wordnet command from the nltk.corpus package:"
   ]
  },
  {
   "cell_type": "code",
   "execution_count": 53,
   "metadata": {},
   "outputs": [],
   "source": [
    "from nltk.corpus import wordnet as wn"
   ]
  },
  {
   "cell_type": "markdown",
   "metadata": {},
   "source": [
    "The command for \"lemmatize\" is **wn.morphy().** \n",
    "\n",
    "The .morphy() command takes one object: the word that needs to be lemmatized."
   ]
  },
  {
   "cell_type": "code",
   "execution_count": 54,
   "metadata": {},
   "outputs": [
    {
     "data": {
      "text/plain": [
       "'aardwolf'"
      ]
     },
     "execution_count": 54,
     "metadata": {},
     "output_type": "execute_result"
    }
   ],
   "source": [
    "wn.morphy('aardwolves')"
   ]
  },
  {
   "cell_type": "markdown",
   "metadata": {},
   "source": [
    "Let's write a loop to lemmatize every word in Jane Austen."
   ]
  },
  {
   "cell_type": "code",
   "execution_count": 57,
   "metadata": {},
   "outputs": [
    {
     "data": {
      "text/plain": [
       "['chapter',\n",
       " 'family',\n",
       " 'long',\n",
       " 'settle',\n",
       " 'sussex',\n",
       " 'estate',\n",
       " 'large',\n",
       " 'residence',\n",
       " 'park',\n",
       " 'centre',\n",
       " 'property',\n",
       " 'many',\n",
       " 'generation',\n",
       " 'live',\n",
       " 'respectable',\n",
       " 'manner',\n",
       " 'engage',\n",
       " 'general',\n",
       " 'good',\n",
       " 'opinion']"
      ]
     },
     "execution_count": 57,
     "metadata": {},
     "output_type": "execute_result"
    }
   ],
   "source": [
    "lemma_list = []\n",
    "\n",
    "for novel in cleandata:\n",
    "    for word in novel:\n",
    "        lemma = wn.morphy(word)\n",
    "        if not lemma:\n",
    "            # word is not a valid english word so skip it\n",
    "            continue\n",
    "        lemma_list.append(lemma)\n",
    "\n",
    "lemma_list[:20]"
   ]
  },
  {
   "cell_type": "markdown",
   "metadata": {},
   "source": [
    "Lemmatization is often a more useful approach than stemming because it leverages an understanding of the word itself to convert the word back to its root word. \n",
    "\n",
    "Lemmatizing fixes some of the problems we saw with stemming:\n",
    "\n",
    "   * \"settled\" becomes \"settle\"\n",
    "   * \"been\" has become \"be\"\n",
    "   * \"large\" is \"large\"\n",
    "\n",
    "This is an improvement over stemming in many respects.\n",
    "\n",
    "**However**\n",
    "\n",
    "We still need to note some important oddities, which we should be aware of before we publish an interpretation based on lemmatization:\n",
    "\n",
    "   * Words such as \"was\" is still replaced by \"wa,\" which is an issue if we care about the word \"to be.\"  \n",
    "   * We would also see, if we looked further, that the word \"that\" has been replaced by \"None\"\n",
    "\n",
    "If we count lemmas, we should be aware of these potential difficulties so that if we graph them we can eliminate any noise generated by these oddities.  "
   ]
  },
  {
   "cell_type": "markdown",
   "metadata": {},
   "source": [
    "Stemming and lemmatization are important because they matter for how we count."
   ]
  },
  {
   "cell_type": "code",
   "execution_count": 58,
   "metadata": {},
   "outputs": [
    {
     "data": {
      "text/plain": [
       "mr          758\n",
       "elinor      614\n",
       "could       588\n",
       "would       527\n",
       "mariann     486\n",
       "said        393\n",
       "everi       388\n",
       "one         333\n",
       "must        305\n",
       "much        301\n",
       "know        282\n",
       "time        264\n",
       "sister      262\n",
       "dashwood    255\n",
       "think       249\n",
       "miss        241\n",
       "see         225\n",
       "though      220\n",
       "might       218\n",
       "say         214\n",
       "dtype: int64"
      ]
     },
     "execution_count": 58,
     "metadata": {},
     "output_type": "execute_result"
    }
   ],
   "source": [
    "import pandas as pd\n",
    "\n",
    "stemmed_count = pd.Series.value_counts(stemmed_list)\n",
    "stemmed_count[:20]"
   ]
  },
  {
   "cell_type": "code",
   "execution_count": 59,
   "metadata": {},
   "outputs": [
    {
     "data": {
      "text/plain": [
       "say       572\n",
       "mrs       534\n",
       "every     388\n",
       "know      381\n",
       "one       333\n",
       "must      305\n",
       "much      301\n",
       "make      295\n",
       "sister    262\n",
       "time      243\n",
       "miss      241\n",
       "see       241\n",
       "think     229\n",
       "mr        224\n",
       "though    220\n",
       "might     218\n",
       "well      210\n",
       "edward    207\n",
       "mother    205\n",
       "come      204\n",
       "dtype: int64"
      ]
     },
     "execution_count": 59,
     "metadata": {},
     "output_type": "execute_result"
    }
   ],
   "source": [
    "lemma_count = pd.Series.value_counts(lemma_list)\n",
    "lemma_count[:20]"
   ]
  },
  {
   "cell_type": "markdown",
   "metadata": {},
   "source": [
    "### Assignment"
   ]
  },
  {
   "cell_type": "markdown",
   "metadata": {},
   "source": [
    "1) For lemma_count and stemmed_count, expand the number of words you're looking at to 200 instead of 20.  \n",
    "\n",
    "   * What differences do you notice? \n",
    "   * What oddities should we be aware of?\n",
    "\n",
    "2) Lemmatize the text of Benjamin Bowsey's trial from last week.  \n",
    "\n",
    "   * Generate a new word cloud with the lemmatized counts and save it.  \n",
    "   * Compare the new word cloud with last week's wordcloud.  Tell us about 5 differences.\n",
    "\n",
    "Put your answers and the two wordclouds into a word document and upload it to Canvas."
   ]
  },
  {
   "cell_type": "code",
   "execution_count": null,
   "metadata": {},
   "outputs": [],
   "source": []
  }
 ],
 "metadata": {
  "kernelspec": {
   "display_name": "Python 3",
   "language": "python",
   "name": "python3"
  },
  "language_info": {
   "codemirror_mode": {
    "name": "ipython",
    "version": 3
   },
   "file_extension": ".py",
   "mimetype": "text/x-python",
   "name": "python",
   "nbconvert_exporter": "python",
   "pygments_lexer": "ipython3",
   "version": "3.6.7"
  }
 },
 "nbformat": 4,
 "nbformat_minor": 4
}
