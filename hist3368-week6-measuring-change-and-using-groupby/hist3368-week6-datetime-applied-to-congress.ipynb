{
 "cells": [
  {
   "cell_type": "markdown",
   "metadata": {},
   "source": [
    "For citation information, please see the \"Source Information\" section listed in the associated README file: https://github.com/stephbuon/digital-history/tree/master/hist3368-week6-measuring-change-and-using-groupby"
   ]
  },
  {
   "cell_type": "markdown",
   "metadata": {
    "id": "U7wtkPaDtODn"
   },
   "source": [
    "# Week 6: Datetime Applied to Congress"
   ]
  },
  {
   "cell_type": "markdown",
   "metadata": {
    "id": "92dAOOVStODr"
   },
   "source": [
    "When working with temporal data, we often want to understand the meaning of some variable -- for instance year or decade.  Understanding often implies using that variable to count other variables, for example: how many times do words appear in each decade?  Which words change over time?\n",
    "    \n",
    "In this exercise, we will use two strategies to understand wordcount by period: one is the groupby() command, and the other (which you have seen before) is the \"for\" loop.  The two essentially do the same thing, but they are used in Python in slightly different contexts.\n",
    "\n",
    "Before we learn about those strategies, however, let's load some data, put the date column into datetime format, and round it to the nearest month, much as we did above."
   ]
  },
  {
   "cell_type": "markdown",
   "metadata": {
    "id": "gWLHTGpVtODy"
   },
   "source": [
    "### Code example:"
   ]
  },
  {
   "cell_type": "markdown",
   "metadata": {
    "id": "tyMTTDentODz"
   },
   "source": [
    "The code below is the basic code to load debates from the Stanford database of American Congressional debates.  It takes speeches in one dataframe, and \"descriptions\" of the speeches (who spoke and when) in another dataframe, and then merges them into one database.\n",
    "\n",
    "Depending on how the Max and Min Threshold are set, you can ingest more speeches or fewer ones.  If you ingest too many speeches at once, you might crash the computer; but if you're working on an HPC machine, you can always restart the session with more memory and try the exercise again."
   ]
  },
  {
   "cell_type": "code",
   "execution_count": 1,
   "metadata": {},
   "outputs": [],
   "source": [
    "import datetime\n",
    "import pandas as pd\n",
    "import numpy as np\n",
    "import csv\n",
    "import glob"
   ]
  },
  {
   "cell_type": "markdown",
   "metadata": {},
   "source": [
    "The following lines load some data from Congress. Don't worry too much about the commands within this block; we're more interested in the transformations we'll apply to the data after it's loaded.  If you're curious, the lines below download two separate dataframes --  \"speeches\" and \"descriptions\" -- and then merge them  so that we now have one database of speeches with the date on which they were spoken."
   ]
  },
  {
   "cell_type": "code",
   "execution_count": 2,
   "metadata": {
    "id": "6qCg0mXrtOD1",
    "outputId": "4ecca950-9419-4b8d-96fc-aa5fbb1426f5",
    "scrolled": true
   },
   "outputs": [
    {
     "name": "stdout",
     "output_type": "stream",
     "text": [
      "Reading /scratch/group/oit_research_data/stanford_congress/hein-bound/speeches_090.txt...\n",
      "Reading /scratch/group/oit_research_data/stanford_congress/hein-bound/speeches_091.txt...\n",
      "Reading /scratch/group/oit_research_data/stanford_congress/hein-bound/speeches_092.txt...\n",
      "Reading /scratch/group/oit_research_data/stanford_congress/hein-bound/speeches_093.txt...\n",
      "Reading /scratch/group/oit_research_data/stanford_congress/hein-bound/speeches_094.txt...\n",
      "Reading /scratch/group/oit_research_data/stanford_congress/hein-bound/speeches_095.txt...\n",
      "Reading /scratch/group/oit_research_data/stanford_congress/hein-bound/speeches_096.txt...\n",
      "Reading /scratch/group/oit_research_data/stanford_congress/hein-bound/speeches_097.txt...\n",
      "Reading /scratch/group/oit_research_data/stanford_congress/hein-bound/speeches_098.txt...\n",
      "Reading /scratch/group/oit_research_data/stanford_congress/hein-bound/speeches_099.txt...\n",
      "Reading /scratch/group/oit_research_data/stanford_congress/hein-bound/speeches_100.txt...\n",
      "Reading /scratch/group/oit_research_data/stanford_congress/hein-bound/speeches_101.txt...\n",
      "Reading /scratch/group/oit_research_data/stanford_congress/hein-bound/speeches_102.txt...\n",
      "Reading /scratch/group/oit_research_data/stanford_congress/hein-bound/speeches_103.txt...\n",
      "Reading /scratch/group/oit_research_data/stanford_congress/hein-bound/speeches_104.txt...\n",
      "Reading /scratch/group/oit_research_data/stanford_congress/hein-bound/speeches_105.txt...\n",
      "Reading /scratch/group/oit_research_data/stanford_congress/hein-bound/speeches_106.txt...\n",
      "Reading /scratch/group/oit_research_data/stanford_congress/hein-bound/speeches_107.txt...\n",
      "Reading /scratch/group/oit_research_data/stanford_congress/hein-bound/speeches_108.txt...\n",
      "Reading /scratch/group/oit_research_data/stanford_congress/hein-bound/speeches_109.txt...\n",
      "Reading /scratch/group/oit_research_data/stanford_congress/hein-bound/speeches_110.txt...\n",
      "Reading /scratch/group/oit_research_data/stanford_congress/hein-bound/speeches_111.txt...\n",
      "Reading /scratch/group/oit_research_data/stanford_congress/hein-bound/descr_090.txt...\n",
      "Reading /scratch/group/oit_research_data/stanford_congress/hein-bound/descr_091.txt...\n",
      "Reading /scratch/group/oit_research_data/stanford_congress/hein-bound/descr_092.txt...\n",
      "Reading /scratch/group/oit_research_data/stanford_congress/hein-bound/descr_093.txt...\n",
      "Reading /scratch/group/oit_research_data/stanford_congress/hein-bound/descr_094.txt...\n",
      "Reading /scratch/group/oit_research_data/stanford_congress/hein-bound/descr_095.txt...\n",
      "Reading /scratch/group/oit_research_data/stanford_congress/hein-bound/descr_096.txt...\n",
      "Reading /scratch/group/oit_research_data/stanford_congress/hein-bound/descr_097.txt...\n",
      "Reading /scratch/group/oit_research_data/stanford_congress/hein-bound/descr_098.txt...\n",
      "Reading /scratch/group/oit_research_data/stanford_congress/hein-bound/descr_099.txt...\n",
      "Reading /scratch/group/oit_research_data/stanford_congress/hein-bound/descr_100.txt...\n",
      "Reading /scratch/group/oit_research_data/stanford_congress/hein-bound/descr_101.txt...\n",
      "Reading /scratch/group/oit_research_data/stanford_congress/hein-bound/descr_102.txt...\n",
      "Reading /scratch/group/oit_research_data/stanford_congress/hein-bound/descr_103.txt...\n",
      "Reading /scratch/group/oit_research_data/stanford_congress/hein-bound/descr_104.txt...\n",
      "Reading /scratch/group/oit_research_data/stanford_congress/hein-bound/descr_105.txt...\n",
      "Reading /scratch/group/oit_research_data/stanford_congress/hein-bound/descr_106.txt...\n",
      "Reading /scratch/group/oit_research_data/stanford_congress/hein-bound/descr_107.txt...\n",
      "Reading /scratch/group/oit_research_data/stanford_congress/hein-bound/descr_108.txt...\n",
      "Reading /scratch/group/oit_research_data/stanford_congress/hein-bound/descr_109.txt...\n",
      "Reading /scratch/group/oit_research_data/stanford_congress/hein-bound/descr_110.txt...\n",
      "Reading /scratch/group/oit_research_data/stanford_congress/hein-bound/descr_111.txt...\n"
     ]
    }
   ],
   "source": [
    "all_speech_files = glob.glob('/scratch/group/oit_research_data/stanford_congress/hein-bound/speeches_*.txt')\n",
    "CONGRESS_MIN_THRESHOLD = 90\n",
    "CONGRESS_MAX_THRESHOLD = 115\n",
    "\n",
    "speech_files = []\n",
    "\n",
    "for fn in all_speech_files:\n",
    "    number = int(fn.rsplit('_', 1)[-1].split('.')[0])\n",
    "    if CONGRESS_MIN_THRESHOLD <= number <= CONGRESS_MAX_THRESHOLD:\n",
    "        speech_files.append(fn)\n",
    "\n",
    "speech_files.sort()\n",
    "        \n",
    "def parse_one(fn):\n",
    "    print(f'Reading {fn}...')\n",
    "    return pd.read_csv(fn, sep='|', encoding=\"ISO-8859-1\", error_bad_lines=False, warn_bad_lines=False, quoting=csv.QUOTE_NONE)\n",
    "\n",
    "speeches_df = pd.concat((parse_one(fn) for fn in speech_files))\n",
    "speeches_df.dropna(how='any', inplace=True)\n",
    "\n",
    "all_description_files = glob.glob('/scratch/group/oit_research_data/stanford_congress/hein-bound/descr_*.txt')\n",
    "                                  \n",
    "description_files = []\n",
    "\n",
    "for fn in all_description_files:\n",
    "    number = int(fn.rsplit('_', 1)[-1].split('.')[0])\n",
    "    if CONGRESS_MIN_THRESHOLD <= number <= CONGRESS_MAX_THRESHOLD:\n",
    "        description_files.append(fn)\n",
    "        description_files.sort()\n",
    "        \n",
    "description_df = pd.concat((parse_one(fn) for fn in description_files))\n",
    "\n",
    "all_data = pd.merge(speeches_df, description_df, on = 'speech_id')\n",
    "all_data.fillna(0, inplace=True)\n"
   ]
  },
  {
   "cell_type": "markdown",
   "metadata": {},
   "source": [
    "The data we are looking at is different from the lists of words we worked with previously. This is tabular data -- data with columns, each of which has its own name.  However, all of the commands we've used to work with data before will work."
   ]
  },
  {
   "cell_type": "markdown",
   "metadata": {},
   "source": [
    "The **.head()** command is useful for calling up the first few lines of a dataframe so that you can inspect it. "
   ]
  },
  {
   "cell_type": "code",
   "execution_count": 3,
   "metadata": {},
   "outputs": [
    {
     "data": {
      "text/html": [
       "<div>\n",
       "<style scoped>\n",
       "    .dataframe tbody tr th:only-of-type {\n",
       "        vertical-align: middle;\n",
       "    }\n",
       "\n",
       "    .dataframe tbody tr th {\n",
       "        vertical-align: top;\n",
       "    }\n",
       "\n",
       "    .dataframe thead th {\n",
       "        text-align: right;\n",
       "    }\n",
       "</style>\n",
       "<table border=\"1\" class=\"dataframe\">\n",
       "  <thead>\n",
       "    <tr style=\"text-align: right;\">\n",
       "      <th></th>\n",
       "      <th>speech_id</th>\n",
       "      <th>speech</th>\n",
       "      <th>chamber</th>\n",
       "      <th>date</th>\n",
       "      <th>number_within_file</th>\n",
       "      <th>speaker</th>\n",
       "      <th>first_name</th>\n",
       "      <th>last_name</th>\n",
       "      <th>state</th>\n",
       "      <th>gender</th>\n",
       "      <th>line_start</th>\n",
       "      <th>line_end</th>\n",
       "      <th>file</th>\n",
       "      <th>char_count</th>\n",
       "      <th>word_count</th>\n",
       "    </tr>\n",
       "  </thead>\n",
       "  <tbody>\n",
       "    <tr>\n",
       "      <th>0</th>\n",
       "      <td>900000001</td>\n",
       "      <td>Those who do not enjoy the privilege of the fl...</td>\n",
       "      <td>S</td>\n",
       "      <td>19670110</td>\n",
       "      <td>1</td>\n",
       "      <td>The VICE PRESIDENT</td>\n",
       "      <td>Unknown</td>\n",
       "      <td>Unknown</td>\n",
       "      <td>Unknown</td>\n",
       "      <td>Special</td>\n",
       "      <td>47</td>\n",
       "      <td>49</td>\n",
       "      <td>01101967.txt</td>\n",
       "      <td>86</td>\n",
       "      <td>16</td>\n",
       "    </tr>\n",
       "    <tr>\n",
       "      <th>1</th>\n",
       "      <td>900000002</td>\n",
       "      <td>Mr. President. on the basis of an agreement re...</td>\n",
       "      <td>S</td>\n",
       "      <td>19670110</td>\n",
       "      <td>2</td>\n",
       "      <td>Mr. MANSFIELD</td>\n",
       "      <td>Unknown</td>\n",
       "      <td>MANSFIELD</td>\n",
       "      <td>Unknown</td>\n",
       "      <td>M</td>\n",
       "      <td>50</td>\n",
       "      <td>55</td>\n",
       "      <td>01101967.txt</td>\n",
       "      <td>203</td>\n",
       "      <td>35</td>\n",
       "    </tr>\n",
       "    <tr>\n",
       "      <th>2</th>\n",
       "      <td>900000003</td>\n",
       "      <td>The Members of the Senate have heard the remar...</td>\n",
       "      <td>S</td>\n",
       "      <td>19670110</td>\n",
       "      <td>3</td>\n",
       "      <td>The VICE PRESIDENT</td>\n",
       "      <td>Unknown</td>\n",
       "      <td>Unknown</td>\n",
       "      <td>Unknown</td>\n",
       "      <td>Special</td>\n",
       "      <td>56</td>\n",
       "      <td>62</td>\n",
       "      <td>01101967.txt</td>\n",
       "      <td>234</td>\n",
       "      <td>40</td>\n",
       "    </tr>\n",
       "    <tr>\n",
       "      <th>3</th>\n",
       "      <td>900000004</td>\n",
       "      <td>The Chair lays before the Senate the following...</td>\n",
       "      <td>S</td>\n",
       "      <td>19670110</td>\n",
       "      <td>4</td>\n",
       "      <td>The VICE PRESIDENT</td>\n",
       "      <td>Unknown</td>\n",
       "      <td>Unknown</td>\n",
       "      <td>Unknown</td>\n",
       "      <td>Special</td>\n",
       "      <td>66</td>\n",
       "      <td>94</td>\n",
       "      <td>01101967.txt</td>\n",
       "      <td>934</td>\n",
       "      <td>151</td>\n",
       "    </tr>\n",
       "    <tr>\n",
       "      <th>4</th>\n",
       "      <td>900000005</td>\n",
       "      <td>Secretary of State.</td>\n",
       "      <td>S</td>\n",
       "      <td>19670110</td>\n",
       "      <td>5</td>\n",
       "      <td>Mrs. AGNES BAGGETT</td>\n",
       "      <td>AGNES</td>\n",
       "      <td>BAGGETT</td>\n",
       "      <td>Unknown</td>\n",
       "      <td>F</td>\n",
       "      <td>1047</td>\n",
       "      <td>1048</td>\n",
       "      <td>01101967.txt</td>\n",
       "      <td>19</td>\n",
       "      <td>3</td>\n",
       "    </tr>\n",
       "  </tbody>\n",
       "</table>\n",
       "</div>"
      ],
      "text/plain": [
       "   speech_id                                             speech chamber  \\\n",
       "0  900000001  Those who do not enjoy the privilege of the fl...       S   \n",
       "1  900000002  Mr. President. on the basis of an agreement re...       S   \n",
       "2  900000003  The Members of the Senate have heard the remar...       S   \n",
       "3  900000004  The Chair lays before the Senate the following...       S   \n",
       "4  900000005                                Secretary of State.       S   \n",
       "\n",
       "       date  number_within_file             speaker first_name  last_name  \\\n",
       "0  19670110                   1  The VICE PRESIDENT    Unknown    Unknown   \n",
       "1  19670110                   2       Mr. MANSFIELD    Unknown  MANSFIELD   \n",
       "2  19670110                   3  The VICE PRESIDENT    Unknown    Unknown   \n",
       "3  19670110                   4  The VICE PRESIDENT    Unknown    Unknown   \n",
       "4  19670110                   5  Mrs. AGNES BAGGETT      AGNES    BAGGETT   \n",
       "\n",
       "     state   gender  line_start  line_end          file  char_count  \\\n",
       "0  Unknown  Special          47        49  01101967.txt          86   \n",
       "1  Unknown        M          50        55  01101967.txt         203   \n",
       "2  Unknown  Special          56        62  01101967.txt         234   \n",
       "3  Unknown  Special          66        94  01101967.txt         934   \n",
       "4  Unknown        F        1047      1048  01101967.txt          19   \n",
       "\n",
       "   word_count  \n",
       "0          16  \n",
       "1          35  \n",
       "2          40  \n",
       "3         151  \n",
       "4           3  "
      ]
     },
     "execution_count": 3,
     "metadata": {},
     "output_type": "execute_result"
    }
   ],
   "source": [
    "all_data.head()"
   ]
  },
  {
   "cell_type": "markdown",
   "metadata": {},
   "source": [
    "With tabular data, you can call individual columns by name using square brackets."
   ]
  },
  {
   "cell_type": "code",
   "execution_count": 4,
   "metadata": {},
   "outputs": [
    {
     "data": {
      "text/plain": [
       "0                  The VICE PRESIDENT\n",
       "1                       Mr. MANSFIELD\n",
       "2                  The VICE PRESIDENT\n",
       "3                  The VICE PRESIDENT\n",
       "4                  Mrs. AGNES BAGGETT\n",
       "                      ...            \n",
       "5992063                   Ms. GRANGER\n",
       "5992064    Ms. KILPATRICK of Michigan\n",
       "5992065                    Mr. HELLER\n",
       "5992066                   Mr. PAULSEN\n",
       "5992067          Mr. HALL of New York\n",
       "Name: speaker, Length: 5992068, dtype: object"
      ]
     },
     "execution_count": 4,
     "metadata": {},
     "output_type": "execute_result"
    }
   ],
   "source": [
    "all_data['speaker']"
   ]
  },
  {
   "cell_type": "markdown",
   "metadata": {},
   "source": [
    "You can also use many of the commands we already know.  Here, with .value_counts(), are the ten speakers who spoke the most speeches overall, together with the number of their speeches in our dataset:"
   ]
  },
  {
   "cell_type": "code",
   "execution_count": 5,
   "metadata": {},
   "outputs": [
    {
     "data": {
      "text/plain": [
       "The PRESIDING OFFICER               709041\n",
       "The SPEAKER pro tempore             239201\n",
       "The CHAIRMAN                        137788\n",
       "The SPEAKER                          86866\n",
       "Mr. ROBERT C. BYRD                   75733\n",
       "Mr. BYRD                             50374\n",
       "Mr. DOLE                             48019\n",
       "The ACTING PRESIDENT pro tempore     46052\n",
       "Mr. MANSFIELD                        45210\n",
       "Mr. BAKER                            43007\n",
       "Name: speaker, dtype: int64"
      ]
     },
     "execution_count": 5,
     "metadata": {},
     "output_type": "execute_result"
    }
   ],
   "source": [
    "all_data['speaker'].value_counts()[:10]"
   ]
  },
  {
   "cell_type": "markdown",
   "metadata": {},
   "source": [
    "### Select just the most relevant columns"
   ]
  },
  {
   "cell_type": "markdown",
   "metadata": {},
   "source": [
    "Let's clean up the data a little by deleting columns we won't use in this exercise.   The general command is \n",
    "\n",
    "        df.drop('colname', axis)\n",
    "        \n",
    "        \n",
    "Axis is '1' if you're deleting normal columns (not rows)."
   ]
  },
  {
   "cell_type": "code",
   "execution_count": 6,
   "metadata": {},
   "outputs": [],
   "source": [
    "all_data = all_data.drop(['chamber', 'speech_id', 'number_within_file', 'first_name'], 1)\n",
    "all_data = all_data.drop(['last_name', 'state', 'gender', 'line_start', 'line_end', 'file', 'char_count'], 1)"
   ]
  },
  {
   "cell_type": "code",
   "execution_count": 7,
   "metadata": {
    "scrolled": true
   },
   "outputs": [
    {
     "data": {
      "text/html": [
       "<div>\n",
       "<style scoped>\n",
       "    .dataframe tbody tr th:only-of-type {\n",
       "        vertical-align: middle;\n",
       "    }\n",
       "\n",
       "    .dataframe tbody tr th {\n",
       "        vertical-align: top;\n",
       "    }\n",
       "\n",
       "    .dataframe thead th {\n",
       "        text-align: right;\n",
       "    }\n",
       "</style>\n",
       "<table border=\"1\" class=\"dataframe\">\n",
       "  <thead>\n",
       "    <tr style=\"text-align: right;\">\n",
       "      <th></th>\n",
       "      <th>speech</th>\n",
       "      <th>date</th>\n",
       "      <th>speaker</th>\n",
       "      <th>word_count</th>\n",
       "    </tr>\n",
       "  </thead>\n",
       "  <tbody>\n",
       "    <tr>\n",
       "      <th>0</th>\n",
       "      <td>Those who do not enjoy the privilege of the fl...</td>\n",
       "      <td>19670110</td>\n",
       "      <td>The VICE PRESIDENT</td>\n",
       "      <td>16</td>\n",
       "    </tr>\n",
       "    <tr>\n",
       "      <th>1</th>\n",
       "      <td>Mr. President. on the basis of an agreement re...</td>\n",
       "      <td>19670110</td>\n",
       "      <td>Mr. MANSFIELD</td>\n",
       "      <td>35</td>\n",
       "    </tr>\n",
       "    <tr>\n",
       "      <th>2</th>\n",
       "      <td>The Members of the Senate have heard the remar...</td>\n",
       "      <td>19670110</td>\n",
       "      <td>The VICE PRESIDENT</td>\n",
       "      <td>40</td>\n",
       "    </tr>\n",
       "    <tr>\n",
       "      <th>3</th>\n",
       "      <td>The Chair lays before the Senate the following...</td>\n",
       "      <td>19670110</td>\n",
       "      <td>The VICE PRESIDENT</td>\n",
       "      <td>151</td>\n",
       "    </tr>\n",
       "    <tr>\n",
       "      <th>4</th>\n",
       "      <td>Secretary of State.</td>\n",
       "      <td>19670110</td>\n",
       "      <td>Mrs. AGNES BAGGETT</td>\n",
       "      <td>3</td>\n",
       "    </tr>\n",
       "  </tbody>\n",
       "</table>\n",
       "</div>"
      ],
      "text/plain": [
       "                                              speech      date  \\\n",
       "0  Those who do not enjoy the privilege of the fl...  19670110   \n",
       "1  Mr. President. on the basis of an agreement re...  19670110   \n",
       "2  The Members of the Senate have heard the remar...  19670110   \n",
       "3  The Chair lays before the Senate the following...  19670110   \n",
       "4                                Secretary of State.  19670110   \n",
       "\n",
       "              speaker  word_count  \n",
       "0  The VICE PRESIDENT          16  \n",
       "1       Mr. MANSFIELD          35  \n",
       "2  The VICE PRESIDENT          40  \n",
       "3  The VICE PRESIDENT         151  \n",
       "4  Mrs. AGNES BAGGETT           3  "
      ]
     },
     "execution_count": 7,
     "metadata": {},
     "output_type": "execute_result"
    }
   ],
   "source": [
    "all_data.head()"
   ]
  },
  {
   "cell_type": "markdown",
   "metadata": {},
   "source": [
    "### Inspect the data"
   ]
  },
  {
   "cell_type": "markdown",
   "metadata": {
    "id": "QurC0W9ItOEg"
   },
   "source": [
    "Now that we have the data in place, let's ask the data: when does it stop or start?"
   ]
  },
  {
   "cell_type": "code",
   "execution_count": 8,
   "metadata": {
    "id": "1EaNizWotOE8",
    "outputId": "00d69951-6af3-4d91-985f-384782febbf5"
   },
   "outputs": [
    {
     "data": {
      "text/plain": [
       "20101222"
      ]
     },
     "execution_count": 8,
     "metadata": {},
     "output_type": "execute_result"
    }
   ],
   "source": [
    "max(all_data['date'])"
   ]
  },
  {
   "cell_type": "markdown",
   "metadata": {
    "id": "co61BL4ytOFL"
   },
   "source": [
    "The last date is listed above -- year first, then month, then day."
   ]
  },
  {
   "cell_type": "code",
   "execution_count": 9,
   "metadata": {
    "id": "8mbaeScctOFL",
    "outputId": "c51285d3-dfb8-44a4-fda3-4285d1e2b4bc"
   },
   "outputs": [
    {
     "data": {
      "text/plain": [
       "19670110"
      ]
     },
     "execution_count": 9,
     "metadata": {},
     "output_type": "execute_result"
    }
   ],
   "source": [
    "min(all_data['date'])"
   ]
  },
  {
   "cell_type": "markdown",
   "metadata": {
    "id": "6J574XDItOFR"
   },
   "source": [
    "Whoops, that's not right.  I bet there are some zeros in the date data for speeches that haven't been assigned a date.  Let's get rid of that data before it messes up our other counts!"
   ]
  },
  {
   "cell_type": "markdown",
   "metadata": {
    "id": "_0tjI44QtOFj"
   },
   "source": [
    "Use datetime to render the date column as recognizable dates"
   ]
  },
  {
   "cell_type": "code",
   "execution_count": 10,
   "metadata": {
    "id": "fpXzPjCitOFj",
    "outputId": "5ce165cb-488c-421a-8c55-18ff5cc7dc56"
   },
   "outputs": [
    {
     "data": {
      "text/html": [
       "<div>\n",
       "<style scoped>\n",
       "    .dataframe tbody tr th:only-of-type {\n",
       "        vertical-align: middle;\n",
       "    }\n",
       "\n",
       "    .dataframe tbody tr th {\n",
       "        vertical-align: top;\n",
       "    }\n",
       "\n",
       "    .dataframe thead th {\n",
       "        text-align: right;\n",
       "    }\n",
       "</style>\n",
       "<table border=\"1\" class=\"dataframe\">\n",
       "  <thead>\n",
       "    <tr style=\"text-align: right;\">\n",
       "      <th></th>\n",
       "      <th>speech</th>\n",
       "      <th>date</th>\n",
       "      <th>speaker</th>\n",
       "      <th>word_count</th>\n",
       "    </tr>\n",
       "  </thead>\n",
       "  <tbody>\n",
       "    <tr>\n",
       "      <th>0</th>\n",
       "      <td>Those who do not enjoy the privilege of the fl...</td>\n",
       "      <td>1967-01-10</td>\n",
       "      <td>The VICE PRESIDENT</td>\n",
       "      <td>16</td>\n",
       "    </tr>\n",
       "    <tr>\n",
       "      <th>1</th>\n",
       "      <td>Mr. President. on the basis of an agreement re...</td>\n",
       "      <td>1967-01-10</td>\n",
       "      <td>Mr. MANSFIELD</td>\n",
       "      <td>35</td>\n",
       "    </tr>\n",
       "    <tr>\n",
       "      <th>2</th>\n",
       "      <td>The Members of the Senate have heard the remar...</td>\n",
       "      <td>1967-01-10</td>\n",
       "      <td>The VICE PRESIDENT</td>\n",
       "      <td>40</td>\n",
       "    </tr>\n",
       "    <tr>\n",
       "      <th>3</th>\n",
       "      <td>The Chair lays before the Senate the following...</td>\n",
       "      <td>1967-01-10</td>\n",
       "      <td>The VICE PRESIDENT</td>\n",
       "      <td>151</td>\n",
       "    </tr>\n",
       "    <tr>\n",
       "      <th>4</th>\n",
       "      <td>Secretary of State.</td>\n",
       "      <td>1967-01-10</td>\n",
       "      <td>Mrs. AGNES BAGGETT</td>\n",
       "      <td>3</td>\n",
       "    </tr>\n",
       "  </tbody>\n",
       "</table>\n",
       "</div>"
      ],
      "text/plain": [
       "                                              speech       date  \\\n",
       "0  Those who do not enjoy the privilege of the fl... 1967-01-10   \n",
       "1  Mr. President. on the basis of an agreement re... 1967-01-10   \n",
       "2  The Members of the Senate have heard the remar... 1967-01-10   \n",
       "3  The Chair lays before the Senate the following... 1967-01-10   \n",
       "4                                Secretary of State. 1967-01-10   \n",
       "\n",
       "              speaker  word_count  \n",
       "0  The VICE PRESIDENT          16  \n",
       "1       Mr. MANSFIELD          35  \n",
       "2  The VICE PRESIDENT          40  \n",
       "3  The VICE PRESIDENT         151  \n",
       "4  Mrs. AGNES BAGGETT           3  "
      ]
     },
     "execution_count": 10,
     "metadata": {},
     "output_type": "execute_result"
    }
   ],
   "source": [
    "all_data['date']=pd.to_datetime(all_data['date'],format='%Y%m%d')\n",
    "all_data.head()"
   ]
  },
  {
   "cell_type": "markdown",
   "metadata": {},
   "source": [
    "Notice how the results are different after we use pd.to_datetime():"
   ]
  },
  {
   "cell_type": "code",
   "execution_count": 11,
   "metadata": {},
   "outputs": [
    {
     "data": {
      "text/plain": [
       "Timestamp('2010-12-22 00:00:00')"
      ]
     },
     "execution_count": 11,
     "metadata": {},
     "output_type": "execute_result"
    }
   ],
   "source": [
    "max(all_data['date'])"
   ]
  },
  {
   "cell_type": "code",
   "execution_count": 12,
   "metadata": {},
   "outputs": [
    {
     "data": {
      "text/plain": [
       "Timestamp('1967-01-10 00:00:00')"
      ]
     },
     "execution_count": 12,
     "metadata": {},
     "output_type": "execute_result"
    }
   ],
   "source": [
    "min(all_data['date'])"
   ]
  },
  {
   "cell_type": "code",
   "execution_count": 13,
   "metadata": {
    "id": "atQkz5HhtOFo",
    "outputId": "cff96380-af39-4402-a9c2-a5c97c547fc5"
   },
   "outputs": [
    {
     "data": {
      "text/html": [
       "<div>\n",
       "<style scoped>\n",
       "    .dataframe tbody tr th:only-of-type {\n",
       "        vertical-align: middle;\n",
       "    }\n",
       "\n",
       "    .dataframe tbody tr th {\n",
       "        vertical-align: top;\n",
       "    }\n",
       "\n",
       "    .dataframe thead th {\n",
       "        text-align: right;\n",
       "    }\n",
       "</style>\n",
       "<table border=\"1\" class=\"dataframe\">\n",
       "  <thead>\n",
       "    <tr style=\"text-align: right;\">\n",
       "      <th></th>\n",
       "      <th>speech</th>\n",
       "      <th>date</th>\n",
       "      <th>speaker</th>\n",
       "      <th>word_count</th>\n",
       "      <th>year</th>\n",
       "    </tr>\n",
       "  </thead>\n",
       "  <tbody>\n",
       "    <tr>\n",
       "      <th>0</th>\n",
       "      <td>Those who do not enjoy the privilege of the fl...</td>\n",
       "      <td>1967-01-10</td>\n",
       "      <td>The VICE PRESIDENT</td>\n",
       "      <td>16</td>\n",
       "      <td>1967</td>\n",
       "    </tr>\n",
       "    <tr>\n",
       "      <th>1</th>\n",
       "      <td>Mr. President. on the basis of an agreement re...</td>\n",
       "      <td>1967-01-10</td>\n",
       "      <td>Mr. MANSFIELD</td>\n",
       "      <td>35</td>\n",
       "      <td>1967</td>\n",
       "    </tr>\n",
       "    <tr>\n",
       "      <th>2</th>\n",
       "      <td>The Members of the Senate have heard the remar...</td>\n",
       "      <td>1967-01-10</td>\n",
       "      <td>The VICE PRESIDENT</td>\n",
       "      <td>40</td>\n",
       "      <td>1967</td>\n",
       "    </tr>\n",
       "    <tr>\n",
       "      <th>3</th>\n",
       "      <td>The Chair lays before the Senate the following...</td>\n",
       "      <td>1967-01-10</td>\n",
       "      <td>The VICE PRESIDENT</td>\n",
       "      <td>151</td>\n",
       "      <td>1967</td>\n",
       "    </tr>\n",
       "    <tr>\n",
       "      <th>4</th>\n",
       "      <td>Secretary of State.</td>\n",
       "      <td>1967-01-10</td>\n",
       "      <td>Mrs. AGNES BAGGETT</td>\n",
       "      <td>3</td>\n",
       "      <td>1967</td>\n",
       "    </tr>\n",
       "  </tbody>\n",
       "</table>\n",
       "</div>"
      ],
      "text/plain": [
       "                                              speech       date  \\\n",
       "0  Those who do not enjoy the privilege of the fl... 1967-01-10   \n",
       "1  Mr. President. on the basis of an agreement re... 1967-01-10   \n",
       "2  The Members of the Senate have heard the remar... 1967-01-10   \n",
       "3  The Chair lays before the Senate the following... 1967-01-10   \n",
       "4                                Secretary of State. 1967-01-10   \n",
       "\n",
       "              speaker  word_count  year  \n",
       "0  The VICE PRESIDENT          16  1967  \n",
       "1       Mr. MANSFIELD          35  1967  \n",
       "2  The VICE PRESIDENT          40  1967  \n",
       "3  The VICE PRESIDENT         151  1967  \n",
       "4  Mrs. AGNES BAGGETT           3  1967  "
      ]
     },
     "execution_count": 13,
     "metadata": {},
     "output_type": "execute_result"
    }
   ],
   "source": [
    "all_data['year'] = pd.to_datetime(all_data['date']).dt.year\n",
    "\n",
    "all_data.head()"
   ]
  },
  {
   "cell_type": "code",
   "execution_count": 14,
   "metadata": {
    "id": "yUui4TrftOFs",
    "outputId": "6464750e-8d40-4d00-dc91-031fe4361b36"
   },
   "outputs": [
    {
     "data": {
      "text/html": [
       "<div>\n",
       "<style scoped>\n",
       "    .dataframe tbody tr th:only-of-type {\n",
       "        vertical-align: middle;\n",
       "    }\n",
       "\n",
       "    .dataframe tbody tr th {\n",
       "        vertical-align: top;\n",
       "    }\n",
       "\n",
       "    .dataframe thead th {\n",
       "        text-align: right;\n",
       "    }\n",
       "</style>\n",
       "<table border=\"1\" class=\"dataframe\">\n",
       "  <thead>\n",
       "    <tr style=\"text-align: right;\">\n",
       "      <th></th>\n",
       "      <th>speech</th>\n",
       "      <th>date</th>\n",
       "      <th>speaker</th>\n",
       "      <th>word_count</th>\n",
       "      <th>year</th>\n",
       "      <th>month</th>\n",
       "    </tr>\n",
       "  </thead>\n",
       "  <tbody>\n",
       "    <tr>\n",
       "      <th>5992063</th>\n",
       "      <td>Madam Speaker. on rollcall Nos. 662 and 661. I...</td>\n",
       "      <td>2010-12-22</td>\n",
       "      <td>Ms. GRANGER</td>\n",
       "      <td>23</td>\n",
       "      <td>2010</td>\n",
       "      <td>12</td>\n",
       "    </tr>\n",
       "    <tr>\n",
       "      <th>5992064</th>\n",
       "      <td>Madam Speaker. as I leave Congress as the peop...</td>\n",
       "      <td>2010-12-22</td>\n",
       "      <td>Ms. KILPATRICK of Michigan</td>\n",
       "      <td>221</td>\n",
       "      <td>2010</td>\n",
       "      <td>12</td>\n",
       "    </tr>\n",
       "    <tr>\n",
       "      <th>5992065</th>\n",
       "      <td>Madam Speaker. on rolicall No. 658. I was unav...</td>\n",
       "      <td>2010-12-22</td>\n",
       "      <td>Mr. HELLER</td>\n",
       "      <td>19</td>\n",
       "      <td>2010</td>\n",
       "      <td>12</td>\n",
       "    </tr>\n",
       "    <tr>\n",
       "      <th>5992066</th>\n",
       "      <td>Madam Speaker. on rollcall No. 658 my flight w...</td>\n",
       "      <td>2010-12-22</td>\n",
       "      <td>Mr. PAULSEN</td>\n",
       "      <td>23</td>\n",
       "      <td>2010</td>\n",
       "      <td>12</td>\n",
       "    </tr>\n",
       "    <tr>\n",
       "      <th>5992067</th>\n",
       "      <td>Madam Speaker. I wold like to submit the follo...</td>\n",
       "      <td>2010-12-22</td>\n",
       "      <td>Mr. HALL of New York</td>\n",
       "      <td>446</td>\n",
       "      <td>2010</td>\n",
       "      <td>12</td>\n",
       "    </tr>\n",
       "  </tbody>\n",
       "</table>\n",
       "</div>"
      ],
      "text/plain": [
       "                                                    speech       date  \\\n",
       "5992063  Madam Speaker. on rollcall Nos. 662 and 661. I... 2010-12-22   \n",
       "5992064  Madam Speaker. as I leave Congress as the peop... 2010-12-22   \n",
       "5992065  Madam Speaker. on rolicall No. 658. I was unav... 2010-12-22   \n",
       "5992066  Madam Speaker. on rollcall No. 658 my flight w... 2010-12-22   \n",
       "5992067  Madam Speaker. I wold like to submit the follo... 2010-12-22   \n",
       "\n",
       "                            speaker  word_count  year  month  \n",
       "5992063                 Ms. GRANGER          23  2010     12  \n",
       "5992064  Ms. KILPATRICK of Michigan         221  2010     12  \n",
       "5992065                  Mr. HELLER          19  2010     12  \n",
       "5992066                 Mr. PAULSEN          23  2010     12  \n",
       "5992067        Mr. HALL of New York         446  2010     12  "
      ]
     },
     "execution_count": 14,
     "metadata": {},
     "output_type": "execute_result"
    }
   ],
   "source": [
    "all_data['month']= pd.to_datetime(all_data['date']).dt.month\n",
    "all_data.tail()"
   ]
  },
  {
   "cell_type": "markdown",
   "metadata": {
    "id": "s9R5DjV2tOF4"
   },
   "source": [
    "Notice that the available fields above are the full date time -- which tells us even the minute, when we look closely (by using max() for example), and year.  But I'd like us to be able to count the top words per month. Let's use our \"period\" command to floor every date to the nearest month, creating a new column called \"month_year.\" \n",
    "\n",
    "Look at the data table below to make sure you understand what the new column looks like."
   ]
  },
  {
   "cell_type": "code",
   "execution_count": 15,
   "metadata": {
    "id": "_Vrjg8UltOF5",
    "outputId": "2e3e553e-1f37-4065-8861-0826b8c91c09"
   },
   "outputs": [
    {
     "data": {
      "text/html": [
       "<div>\n",
       "<style scoped>\n",
       "    .dataframe tbody tr th:only-of-type {\n",
       "        vertical-align: middle;\n",
       "    }\n",
       "\n",
       "    .dataframe tbody tr th {\n",
       "        vertical-align: top;\n",
       "    }\n",
       "\n",
       "    .dataframe thead th {\n",
       "        text-align: right;\n",
       "    }\n",
       "</style>\n",
       "<table border=\"1\" class=\"dataframe\">\n",
       "  <thead>\n",
       "    <tr style=\"text-align: right;\">\n",
       "      <th></th>\n",
       "      <th>speech</th>\n",
       "      <th>date</th>\n",
       "      <th>speaker</th>\n",
       "      <th>word_count</th>\n",
       "      <th>year</th>\n",
       "      <th>month</th>\n",
       "      <th>month_year</th>\n",
       "    </tr>\n",
       "  </thead>\n",
       "  <tbody>\n",
       "    <tr>\n",
       "      <th>0</th>\n",
       "      <td>Those who do not enjoy the privilege of the fl...</td>\n",
       "      <td>1967-01-10</td>\n",
       "      <td>The VICE PRESIDENT</td>\n",
       "      <td>16</td>\n",
       "      <td>1967</td>\n",
       "      <td>1</td>\n",
       "      <td>1967-01</td>\n",
       "    </tr>\n",
       "    <tr>\n",
       "      <th>1</th>\n",
       "      <td>Mr. President. on the basis of an agreement re...</td>\n",
       "      <td>1967-01-10</td>\n",
       "      <td>Mr. MANSFIELD</td>\n",
       "      <td>35</td>\n",
       "      <td>1967</td>\n",
       "      <td>1</td>\n",
       "      <td>1967-01</td>\n",
       "    </tr>\n",
       "    <tr>\n",
       "      <th>2</th>\n",
       "      <td>The Members of the Senate have heard the remar...</td>\n",
       "      <td>1967-01-10</td>\n",
       "      <td>The VICE PRESIDENT</td>\n",
       "      <td>40</td>\n",
       "      <td>1967</td>\n",
       "      <td>1</td>\n",
       "      <td>1967-01</td>\n",
       "    </tr>\n",
       "    <tr>\n",
       "      <th>3</th>\n",
       "      <td>The Chair lays before the Senate the following...</td>\n",
       "      <td>1967-01-10</td>\n",
       "      <td>The VICE PRESIDENT</td>\n",
       "      <td>151</td>\n",
       "      <td>1967</td>\n",
       "      <td>1</td>\n",
       "      <td>1967-01</td>\n",
       "    </tr>\n",
       "    <tr>\n",
       "      <th>4</th>\n",
       "      <td>Secretary of State.</td>\n",
       "      <td>1967-01-10</td>\n",
       "      <td>Mrs. AGNES BAGGETT</td>\n",
       "      <td>3</td>\n",
       "      <td>1967</td>\n",
       "      <td>1</td>\n",
       "      <td>1967-01</td>\n",
       "    </tr>\n",
       "  </tbody>\n",
       "</table>\n",
       "</div>"
      ],
      "text/plain": [
       "                                              speech       date  \\\n",
       "0  Those who do not enjoy the privilege of the fl... 1967-01-10   \n",
       "1  Mr. President. on the basis of an agreement re... 1967-01-10   \n",
       "2  The Members of the Senate have heard the remar... 1967-01-10   \n",
       "3  The Chair lays before the Senate the following... 1967-01-10   \n",
       "4                                Secretary of State. 1967-01-10   \n",
       "\n",
       "              speaker  word_count  year  month month_year  \n",
       "0  The VICE PRESIDENT          16  1967      1    1967-01  \n",
       "1       Mr. MANSFIELD          35  1967      1    1967-01  \n",
       "2  The VICE PRESIDENT          40  1967      1    1967-01  \n",
       "3  The VICE PRESIDENT         151  1967      1    1967-01  \n",
       "4  Mrs. AGNES BAGGETT           3  1967      1    1967-01  "
      ]
     },
     "execution_count": 15,
     "metadata": {},
     "output_type": "execute_result"
    }
   ],
   "source": [
    "# create a period variable called month_year\n",
    "all_data['month_year'] = pd.to_datetime(all_data['date']).dt.to_period('M')\n",
    "all_data.head()"
   ]
  },
  {
   "cell_type": "markdown",
   "metadata": {},
   "source": [
    "Next, we're going to convert the period column that we just created -- month_year -- back to date format (it's now in datetime's special \"month-year\" format). This is basically an issue that we're dealing with now so that our graphics work later.  Matplotlib knows what to do with full dates, but it doesn't know what to do with \"month-year\" format. You don't need to understand the following line of code, but you need to know that sometimes converting periods back to datetime format will resolve graphics issues."
   ]
  },
  {
   "cell_type": "code",
   "execution_count": 16,
   "metadata": {
    "id": "butaSitftOF8",
    "outputId": "b2ce59e0-aa14-4af3-8b5b-04ddba4d3707"
   },
   "outputs": [
    {
     "data": {
      "text/html": [
       "<div>\n",
       "<style scoped>\n",
       "    .dataframe tbody tr th:only-of-type {\n",
       "        vertical-align: middle;\n",
       "    }\n",
       "\n",
       "    .dataframe tbody tr th {\n",
       "        vertical-align: top;\n",
       "    }\n",
       "\n",
       "    .dataframe thead th {\n",
       "        text-align: right;\n",
       "    }\n",
       "</style>\n",
       "<table border=\"1\" class=\"dataframe\">\n",
       "  <thead>\n",
       "    <tr style=\"text-align: right;\">\n",
       "      <th></th>\n",
       "      <th>speech</th>\n",
       "      <th>date</th>\n",
       "      <th>speaker</th>\n",
       "      <th>word_count</th>\n",
       "      <th>year</th>\n",
       "      <th>month</th>\n",
       "      <th>month_year</th>\n",
       "    </tr>\n",
       "  </thead>\n",
       "  <tbody>\n",
       "    <tr>\n",
       "      <th>0</th>\n",
       "      <td>Those who do not enjoy the privilege of the fl...</td>\n",
       "      <td>1967-01-10</td>\n",
       "      <td>The VICE PRESIDENT</td>\n",
       "      <td>16</td>\n",
       "      <td>1967</td>\n",
       "      <td>1</td>\n",
       "      <td>1967-01-01</td>\n",
       "    </tr>\n",
       "    <tr>\n",
       "      <th>1</th>\n",
       "      <td>Mr. President. on the basis of an agreement re...</td>\n",
       "      <td>1967-01-10</td>\n",
       "      <td>Mr. MANSFIELD</td>\n",
       "      <td>35</td>\n",
       "      <td>1967</td>\n",
       "      <td>1</td>\n",
       "      <td>1967-01-01</td>\n",
       "    </tr>\n",
       "    <tr>\n",
       "      <th>2</th>\n",
       "      <td>The Members of the Senate have heard the remar...</td>\n",
       "      <td>1967-01-10</td>\n",
       "      <td>The VICE PRESIDENT</td>\n",
       "      <td>40</td>\n",
       "      <td>1967</td>\n",
       "      <td>1</td>\n",
       "      <td>1967-01-01</td>\n",
       "    </tr>\n",
       "    <tr>\n",
       "      <th>3</th>\n",
       "      <td>The Chair lays before the Senate the following...</td>\n",
       "      <td>1967-01-10</td>\n",
       "      <td>The VICE PRESIDENT</td>\n",
       "      <td>151</td>\n",
       "      <td>1967</td>\n",
       "      <td>1</td>\n",
       "      <td>1967-01-01</td>\n",
       "    </tr>\n",
       "    <tr>\n",
       "      <th>4</th>\n",
       "      <td>Secretary of State.</td>\n",
       "      <td>1967-01-10</td>\n",
       "      <td>Mrs. AGNES BAGGETT</td>\n",
       "      <td>3</td>\n",
       "      <td>1967</td>\n",
       "      <td>1</td>\n",
       "      <td>1967-01-01</td>\n",
       "    </tr>\n",
       "  </tbody>\n",
       "</table>\n",
       "</div>"
      ],
      "text/plain": [
       "                                              speech       date  \\\n",
       "0  Those who do not enjoy the privilege of the fl... 1967-01-10   \n",
       "1  Mr. President. on the basis of an agreement re... 1967-01-10   \n",
       "2  The Members of the Senate have heard the remar... 1967-01-10   \n",
       "3  The Chair lays before the Senate the following... 1967-01-10   \n",
       "4                                Secretary of State. 1967-01-10   \n",
       "\n",
       "              speaker  word_count  year  month month_year  \n",
       "0  The VICE PRESIDENT          16  1967      1 1967-01-01  \n",
       "1       Mr. MANSFIELD          35  1967      1 1967-01-01  \n",
       "2  The VICE PRESIDENT          40  1967      1 1967-01-01  \n",
       "3  The VICE PRESIDENT         151  1967      1 1967-01-01  \n",
       "4  Mrs. AGNES BAGGETT           3  1967      1 1967-01-01  "
      ]
     },
     "execution_count": 16,
     "metadata": {},
     "output_type": "execute_result"
    }
   ],
   "source": [
    "# convert month-year back to date format for easier plotting later (this normalizes the field to a kind of date that matplotlib likes)\n",
    "all_data['month_year'] =all_data.month_year.values.astype('datetime64[M]')\n",
    "all_data.head()"
   ]
  },
  {
   "cell_type": "code",
   "execution_count": 21,
   "metadata": {
    "id": "7bW8MseBtOHe"
   },
   "outputs": [
    {
     "ename": "TypeError",
     "evalue": "'set' object is not subscriptable",
     "output_type": "error",
     "traceback": [
      "\u001b[0;31m---------------------------------------------------------------------------\u001b[0m",
      "\u001b[0;31mTypeError\u001b[0m                                 Traceback (most recent call last)",
      "\u001b[0;32m<ipython-input-21-d4fc3a2eb048>\u001b[0m in \u001b[0;36m<module>\u001b[0;34m\u001b[0m\n\u001b[1;32m      1\u001b[0m \u001b[0;31m# list all unique month_years\u001b[0m\u001b[0;34m\u001b[0m\u001b[0;34m\u001b[0m\u001b[0;34m\u001b[0m\u001b[0m\n\u001b[0;32m----> 2\u001b[0;31m \u001b[0mset\u001b[0m\u001b[0;34m(\u001b[0m\u001b[0mall_data\u001b[0m\u001b[0;34m[\u001b[0m\u001b[0;34m'month_year'\u001b[0m\u001b[0;34m]\u001b[0m\u001b[0;34m)\u001b[0m\u001b[0;34m[\u001b[0m\u001b[0;34m:\u001b[0m\u001b[0;36m10\u001b[0m\u001b[0;34m]\u001b[0m\u001b[0;34m\u001b[0m\u001b[0;34m\u001b[0m\u001b[0m\n\u001b[0m",
      "\u001b[0;31mTypeError\u001b[0m: 'set' object is not subscriptable"
     ]
    }
   ],
   "source": [
    "# list all unique month_years\n",
    "set(all_data['month_year'])[:10]"
   ]
  },
  {
   "cell_type": "markdown",
   "metadata": {
    "id": "rN5tEqhhtOGI"
   },
   "source": [
    "Notice that, even though we have a full datetime stamp for that column, there's only one date listed per month and per year.  This means that March 26, 2010 has been rounded to 2010-03-01, and will be grouped with March 22 and March 15 of 2010.  \n",
    "\n",
    "Now that we have a standardize month_year variable, we can ask the computer to group all words that were spoken in that month together and measure how many words, total, were spoken in that month.  \n",
    "\n",
    "To count all the words spoken in every month_year, we'll need a new tool from pandas: groupby(). "
   ]
  },
  {
   "cell_type": "markdown",
   "metadata": {},
   "source": [
    "#### Let's save a copy for later on your account to make reading data again simple."
   ]
  },
  {
   "cell_type": "markdown",
   "metadata": {},
   "source": [
    "Data analysts frequently save local backup copies of data so that they don't have to reload the whole thing again. "
   ]
  },
  {
   "cell_type": "markdown",
   "metadata": {},
   "source": [
    "First, navigate to your home folder."
   ]
  },
  {
   "cell_type": "code",
   "execution_count": 19,
   "metadata": {},
   "outputs": [
    {
     "name": "stdout",
     "output_type": "stream",
     "text": [
      "/users/jguldi/digital-history\n"
     ]
    }
   ],
   "source": [
    "cd ~/digital-history"
   ]
  },
  {
   "cell_type": "markdown",
   "metadata": {},
   "source": [
    "We can use the \n",
    "\n",
    "    .to_csv()\n",
    "\n",
    "function to store the pandas dataframe as a csv, or comma separated values sheet.  \n",
    "\n",
    "\n",
    "Using the left-hand sidebar, navigate to the digital-history folder and notice that you've saved a copy of your data there.\n",
    "\n",
    "You can download the resulting file and open it to inspect it on your home computer.  A CSV can be read by programs like Excel."
   ]
  },
  {
   "cell_type": "code",
   "execution_count": 20,
   "metadata": {},
   "outputs": [],
   "source": [
    "all_data.to_csv(\"congress1967-2010.csv\")"
   ]
  },
  {
   "cell_type": "markdown",
   "metadata": {},
   "source": [
    "When we need to read it again, we can call it with this line:\n",
    "    \n",
    "    pd.read_csv(\"congress1967-2010.csv\")"
   ]
  }
 ],
 "metadata": {
  "kernelspec": {
   "display_name": "Python 3",
   "language": "python",
   "name": "python3"
  },
  "language_info": {
   "codemirror_mode": {
    "name": "ipython",
    "version": 3
   },
   "file_extension": ".py",
   "mimetype": "text/x-python",
   "name": "python",
   "nbconvert_exporter": "python",
   "pygments_lexer": "ipython3",
   "version": "3.6.7"
  }
 },
 "nbformat": 4,
 "nbformat_minor": 4
}
