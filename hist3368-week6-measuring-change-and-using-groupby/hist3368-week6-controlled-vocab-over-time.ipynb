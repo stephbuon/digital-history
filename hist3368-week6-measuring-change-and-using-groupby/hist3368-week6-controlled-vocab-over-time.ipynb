{
 "cells": [
  {
   "cell_type": "markdown",
   "metadata": {},
   "source": [
    "# Hist 3368 - Week 6 - Controlled Vocabulary Over Time"
   ]
  },
  {
   "cell_type": "markdown",
   "metadata": {},
   "source": [
    "In this notebook, we're going to use Wordnet and groupby() to study which crimes Congress talked about from 1967 to 2010.    "
   ]
  },
  {
   "cell_type": "markdown",
   "metadata": {},
   "source": [
    "### Load the data"
   ]
  },
  {
   "cell_type": "code",
   "execution_count": 493,
   "metadata": {},
   "outputs": [],
   "source": [
    "import datetime\n",
    "import pandas as pd\n",
    "import numpy as np\n",
    "import csv\n",
    "import glob"
   ]
  },
  {
   "cell_type": "code",
   "execution_count": 494,
   "metadata": {},
   "outputs": [
    {
     "name": "stdout",
     "output_type": "stream",
     "text": [
      "/users/jguldi/digital-history\n"
     ]
    }
   ],
   "source": [
    "cd ~/digital-history"
   ]
  },
  {
   "cell_type": "code",
   "execution_count": 495,
   "metadata": {},
   "outputs": [],
   "source": [
    "congress = pd.read_csv(\"eighties_data.csv\")\n",
    "vocab = pd.read_csv(\"crime_vocab.csv\").drop(['Unnamed: 0'], 1)\n",
    "vocab = list(vocab['word'])"
   ]
  },
  {
   "cell_type": "markdown",
   "metadata": {},
   "source": [
    "TROUBLESHOOTING: if the line above doesn't work, you might have missed something earlier this week. If you didn't generate crime_vocab.csv, please look back to the session on Wordnet."
   ]
  },
  {
   "cell_type": "code",
   "execution_count": 496,
   "metadata": {},
   "outputs": [
    {
     "data": {
      "text/plain": [
       "['crime',\n",
       " 'offense',\n",
       " 'criminal offense',\n",
       " 'criminal offence',\n",
       " 'offence',\n",
       " 'law breaking',\n",
       " 'attack',\n",
       " 'attempt',\n",
       " 'aggravated assault',\n",
       " 'battery']"
      ]
     },
     "execution_count": 496,
     "metadata": {},
     "output_type": "execute_result"
    }
   ],
   "source": [
    "vocab[:10]"
   ]
  },
  {
   "cell_type": "code",
   "execution_count": 497,
   "metadata": {},
   "outputs": [],
   "source": [
    "crimespeakers = ['Mr. BIDEN', 'Mr. HATCH', 'Mr. LEAHY', 'Mr. KENNEDY', 'Mr. PROXMIRE',\n",
    "       'Mr. THURMOND', 'Mr. SPECTER', 'Mr. SMITH', 'Mrs. FEINSTEIN',\n",
    "       'Mr. McCLELLAN']"
   ]
  },
  {
   "cell_type": "markdown",
   "metadata": {},
   "source": [
    "#### Downsample the data to just the top speakers about crime."
   ]
  },
  {
   "cell_type": "code",
   "execution_count": 498,
   "metadata": {},
   "outputs": [
    {
     "data": {
      "text/html": [
       "<div>\n",
       "<style scoped>\n",
       "    .dataframe tbody tr th:only-of-type {\n",
       "        vertical-align: middle;\n",
       "    }\n",
       "\n",
       "    .dataframe tbody tr th {\n",
       "        vertical-align: top;\n",
       "    }\n",
       "\n",
       "    .dataframe thead th {\n",
       "        text-align: right;\n",
       "    }\n",
       "</style>\n",
       "<table border=\"1\" class=\"dataframe\">\n",
       "  <thead>\n",
       "    <tr style=\"text-align: right;\">\n",
       "      <th></th>\n",
       "      <th>speech</th>\n",
       "      <th>speaker</th>\n",
       "      <th>year</th>\n",
       "      <th>month</th>\n",
       "    </tr>\n",
       "  </thead>\n",
       "  <tbody>\n",
       "    <tr>\n",
       "      <th>49</th>\n",
       "      <td>Mr. President. on December 20. 1979. the Senat...</td>\n",
       "      <td>Mr. THURMOND</td>\n",
       "      <td>1980</td>\n",
       "      <td>1</td>\n",
       "    </tr>\n",
       "    <tr>\n",
       "      <th>166</th>\n",
       "      <td>I wish to compliment the able Senator from Vir...</td>\n",
       "      <td>Mr. THURMOND</td>\n",
       "      <td>1980</td>\n",
       "      <td>1</td>\n",
       "    </tr>\n",
       "    <tr>\n",
       "      <th>168</th>\n",
       "      <td>Mr. President. the deception. cruelty. and bru...</td>\n",
       "      <td>Mr. THURMOND</td>\n",
       "      <td>1980</td>\n",
       "      <td>1</td>\n",
       "    </tr>\n",
       "    <tr>\n",
       "      <th>171</th>\n",
       "      <td>Mr. President. the American Legion has approxi...</td>\n",
       "      <td>Mr. THURMOND</td>\n",
       "      <td>1980</td>\n",
       "      <td>1</td>\n",
       "    </tr>\n",
       "    <tr>\n",
       "      <th>264</th>\n",
       "      <td>Mr. President. I support the agreement on trad...</td>\n",
       "      <td>Mr. KENNEDY</td>\n",
       "      <td>1980</td>\n",
       "      <td>1</td>\n",
       "    </tr>\n",
       "  </tbody>\n",
       "</table>\n",
       "</div>"
      ],
      "text/plain": [
       "                                                speech       speaker  year  \\\n",
       "49   Mr. President. on December 20. 1979. the Senat...  Mr. THURMOND  1980   \n",
       "166  I wish to compliment the able Senator from Vir...  Mr. THURMOND  1980   \n",
       "168  Mr. President. the deception. cruelty. and bru...  Mr. THURMOND  1980   \n",
       "171  Mr. President. the American Legion has approxi...  Mr. THURMOND  1980   \n",
       "264  Mr. President. I support the agreement on trad...   Mr. KENNEDY  1980   \n",
       "\n",
       "     month  \n",
       "49       1  \n",
       "166      1  \n",
       "168      1  \n",
       "171      1  \n",
       "264      1  "
      ]
     },
     "execution_count": 498,
     "metadata": {},
     "output_type": "execute_result"
    }
   ],
   "source": [
    "congress = congress.drop(['date', 'month_year', 'word_count', \"Unnamed: 0\", 'Unnamed: 0.1'], 1)\n",
    "\n",
    "congress = congress[congress['speaker'].isin(crimespeakers)]\n",
    "\n",
    "congress.head()"
   ]
  },
  {
   "cell_type": "markdown",
   "metadata": {},
   "source": [
    "#### Lemmatizing, splitting, stripping punctuation"
   ]
  },
  {
   "cell_type": "code",
   "execution_count": 499,
   "metadata": {},
   "outputs": [],
   "source": [
    "from nltk.corpus import wordnet as wn"
   ]
  },
  {
   "cell_type": "markdown",
   "metadata": {},
   "source": [
    "To clean our text when our text is in tabular form, we can apply many commands that are familiar.  Technically, they are being applied over each row of the pandas dataframe.  But the pandas software makes it easier for us.\n",
    "\n",
    "For each speech, we will perform some familiar tasks:\n",
    "\n",
    "  * We will **.split()** the speech into words\n",
    "  * we will use **replace** to get rid of punctuation\n",
    "  * we will use **wn.morphy()** to get the lemma of each word\n"
   ]
  },
  {
   "cell_type": "markdown",
   "metadata": {},
   "source": [
    "In theory,  you might imagine writing a loop like this to deal with each cell at a time.  "
   ]
  },
  {
   "cell_type": "markdown",
   "metadata": {},
   "source": [
    "    new_column = []\n",
    "\n",
    "    for speech in congress['speech']:\n",
    "\n",
    "        for c in string.punctuation: # cycle through the punctuation marks\n",
    "            speech.replace(c,'') # remove punctuation\n",
    "        speech.lower().split() # lowercase and split\n",
    "        speech2 = [] # make an empty list to be filled in by the clean words in this individual speech\n",
    "        for word in speech:\n",
    "            word = wn.morphy('word') # lemmatize it\n",
    "            speech2.append(word)\n",
    "        new_column.append(speech2)\n",
    "\n",
    "    new_column[:5]\n",
    "    congress['speech'] = new_column"
   ]
  },
  {
   "cell_type": "markdown",
   "metadata": {},
   "source": [
    "However, that would take FOREVER.  A more efficient approach is to work with the built-in commands that Pandas takes which work over all the cells in an entire column.\n",
    "\n",
    "These pandas-native commands have familiar names:\n",
    "\n",
    "    .str.replace()\n",
    "    .str.lower()\n",
    "    .str.split()\n",
    "    \n",
    "Let's see them in action."
   ]
  },
  {
   "cell_type": "markdown",
   "metadata": {},
   "source": [
    "#### More efficient approach: str.replace() works in pandas without a loop"
   ]
  },
  {
   "cell_type": "markdown",
   "metadata": {},
   "source": [
    "Get rid of punctuation"
   ]
  },
  {
   "cell_type": "code",
   "execution_count": 500,
   "metadata": {},
   "outputs": [],
   "source": [
    "congress['speech'] = congress['speech'].str.replace('[^\\w\\s]','')"
   ]
  },
  {
   "cell_type": "markdown",
   "metadata": {},
   "source": [
    "Lowercase the text"
   ]
  },
  {
   "cell_type": "code",
   "execution_count": 501,
   "metadata": {},
   "outputs": [],
   "source": [
    "congress['speech'] = congress['speech'].str.lower()"
   ]
  },
  {
   "cell_type": "markdown",
   "metadata": {},
   "source": [
    "Split each speech into a list of individual words"
   ]
  },
  {
   "cell_type": "code",
   "execution_count": 502,
   "metadata": {},
   "outputs": [],
   "source": [
    "congress['speech'] = congress['speech'].str.split()"
   ]
  },
  {
   "cell_type": "code",
   "execution_count": 503,
   "metadata": {},
   "outputs": [
    {
     "data": {
      "text/html": [
       "<div>\n",
       "<style scoped>\n",
       "    .dataframe tbody tr th:only-of-type {\n",
       "        vertical-align: middle;\n",
       "    }\n",
       "\n",
       "    .dataframe tbody tr th {\n",
       "        vertical-align: top;\n",
       "    }\n",
       "\n",
       "    .dataframe thead th {\n",
       "        text-align: right;\n",
       "    }\n",
       "</style>\n",
       "<table border=\"1\" class=\"dataframe\">\n",
       "  <thead>\n",
       "    <tr style=\"text-align: right;\">\n",
       "      <th></th>\n",
       "      <th>speech</th>\n",
       "      <th>speaker</th>\n",
       "      <th>year</th>\n",
       "      <th>month</th>\n",
       "    </tr>\n",
       "  </thead>\n",
       "  <tbody>\n",
       "    <tr>\n",
       "      <th>49</th>\n",
       "      <td>[mr, president, on, december, 20, 1979, the, s...</td>\n",
       "      <td>Mr. THURMOND</td>\n",
       "      <td>1980</td>\n",
       "      <td>1</td>\n",
       "    </tr>\n",
       "    <tr>\n",
       "      <th>166</th>\n",
       "      <td>[i, wish, to, compliment, the, able, senator, ...</td>\n",
       "      <td>Mr. THURMOND</td>\n",
       "      <td>1980</td>\n",
       "      <td>1</td>\n",
       "    </tr>\n",
       "    <tr>\n",
       "      <th>168</th>\n",
       "      <td>[mr, president, the, deception, cruelty, and, ...</td>\n",
       "      <td>Mr. THURMOND</td>\n",
       "      <td>1980</td>\n",
       "      <td>1</td>\n",
       "    </tr>\n",
       "    <tr>\n",
       "      <th>171</th>\n",
       "      <td>[mr, president, the, american, legion, has, ap...</td>\n",
       "      <td>Mr. THURMOND</td>\n",
       "      <td>1980</td>\n",
       "      <td>1</td>\n",
       "    </tr>\n",
       "    <tr>\n",
       "      <th>264</th>\n",
       "      <td>[mr, president, i, support, the, agreement, on...</td>\n",
       "      <td>Mr. KENNEDY</td>\n",
       "      <td>1980</td>\n",
       "      <td>1</td>\n",
       "    </tr>\n",
       "  </tbody>\n",
       "</table>\n",
       "</div>"
      ],
      "text/plain": [
       "                                                speech       speaker  year  \\\n",
       "49   [mr, president, on, december, 20, 1979, the, s...  Mr. THURMOND  1980   \n",
       "166  [i, wish, to, compliment, the, able, senator, ...  Mr. THURMOND  1980   \n",
       "168  [mr, president, the, deception, cruelty, and, ...  Mr. THURMOND  1980   \n",
       "171  [mr, president, the, american, legion, has, ap...  Mr. THURMOND  1980   \n",
       "264  [mr, president, i, support, the, agreement, on...   Mr. KENNEDY  1980   \n",
       "\n",
       "     month  \n",
       "49       1  \n",
       "166      1  \n",
       "168      1  \n",
       "171      1  \n",
       "264      1  "
      ]
     },
     "execution_count": 503,
     "metadata": {},
     "output_type": "execute_result"
    }
   ],
   "source": [
    "congress.head()"
   ]
  },
  {
   "cell_type": "markdown",
   "metadata": {},
   "source": [
    "#### A More efficient approach: .apply() for non-native pandas commands"
   ]
  },
  {
   "cell_type": "markdown",
   "metadata": {},
   "source": [
    "Not every command has a native Pandas approach. With some commands -- for instance our lemmatizer -- we need to tell Pandas to apply the command over each cell in the column.\n",
    " \n",
    "To lemmatize each word, we'll need the help of a helper function and the parallel command \n",
    "\n",
    "    apply\n",
    "\n",
    "which tells Pandas to efficiently 'apply' the command that it takes as its object over all cells in a column.  In this case, we are asking pandas to 'apply' wn.morphy(), our old lemmatizer."
   ]
  },
  {
   "cell_type": "code",
   "execution_count": 504,
   "metadata": {},
   "outputs": [],
   "source": [
    "import nltk\n",
    "\n",
    "def lemmatize_text(text):\n",
    "    return [wn.morphy(w) for w in text]\n",
    "\n",
    "congress['lemmas'] = congress['speech'].apply(lemmatize_text)"
   ]
  },
  {
   "cell_type": "code",
   "execution_count": 505,
   "metadata": {},
   "outputs": [
    {
     "data": {
      "text/html": [
       "<div>\n",
       "<style scoped>\n",
       "    .dataframe tbody tr th:only-of-type {\n",
       "        vertical-align: middle;\n",
       "    }\n",
       "\n",
       "    .dataframe tbody tr th {\n",
       "        vertical-align: top;\n",
       "    }\n",
       "\n",
       "    .dataframe thead th {\n",
       "        text-align: right;\n",
       "    }\n",
       "</style>\n",
       "<table border=\"1\" class=\"dataframe\">\n",
       "  <thead>\n",
       "    <tr style=\"text-align: right;\">\n",
       "      <th></th>\n",
       "      <th>speech</th>\n",
       "      <th>speaker</th>\n",
       "      <th>year</th>\n",
       "      <th>month</th>\n",
       "      <th>lemmas</th>\n",
       "    </tr>\n",
       "  </thead>\n",
       "  <tbody>\n",
       "    <tr>\n",
       "      <th>49</th>\n",
       "      <td>[mr, president, on, december, 20, 1979, the, s...</td>\n",
       "      <td>Mr. THURMOND</td>\n",
       "      <td>1980</td>\n",
       "      <td>1</td>\n",
       "      <td>[mr, president, on, december, 20, None, None, ...</td>\n",
       "    </tr>\n",
       "    <tr>\n",
       "      <th>166</th>\n",
       "      <td>[i, wish, to, compliment, the, able, senator, ...</td>\n",
       "      <td>Mr. THURMOND</td>\n",
       "      <td>1980</td>\n",
       "      <td>1</td>\n",
       "      <td>[i, wish, None, compliment, None, able, senato...</td>\n",
       "    </tr>\n",
       "    <tr>\n",
       "      <th>168</th>\n",
       "      <td>[mr, president, the, deception, cruelty, and, ...</td>\n",
       "      <td>Mr. THURMOND</td>\n",
       "      <td>1980</td>\n",
       "      <td>1</td>\n",
       "      <td>[mr, president, None, deception, cruelty, None...</td>\n",
       "    </tr>\n",
       "    <tr>\n",
       "      <th>171</th>\n",
       "      <td>[mr, president, the, american, legion, has, ap...</td>\n",
       "      <td>Mr. THURMOND</td>\n",
       "      <td>1980</td>\n",
       "      <td>1</td>\n",
       "      <td>[mr, president, None, american, legion, ha, ap...</td>\n",
       "    </tr>\n",
       "    <tr>\n",
       "      <th>264</th>\n",
       "      <td>[mr, president, i, support, the, agreement, on...</td>\n",
       "      <td>Mr. KENNEDY</td>\n",
       "      <td>1980</td>\n",
       "      <td>1</td>\n",
       "      <td>[mr, president, i, support, None, agreement, o...</td>\n",
       "    </tr>\n",
       "  </tbody>\n",
       "</table>\n",
       "</div>"
      ],
      "text/plain": [
       "                                                speech       speaker  year  \\\n",
       "49   [mr, president, on, december, 20, 1979, the, s...  Mr. THURMOND  1980   \n",
       "166  [i, wish, to, compliment, the, able, senator, ...  Mr. THURMOND  1980   \n",
       "168  [mr, president, the, deception, cruelty, and, ...  Mr. THURMOND  1980   \n",
       "171  [mr, president, the, american, legion, has, ap...  Mr. THURMOND  1980   \n",
       "264  [mr, president, i, support, the, agreement, on...   Mr. KENNEDY  1980   \n",
       "\n",
       "     month                                             lemmas  \n",
       "49       1  [mr, president, on, december, 20, None, None, ...  \n",
       "166      1  [i, wish, None, compliment, None, able, senato...  \n",
       "168      1  [mr, president, None, deception, cruelty, None...  \n",
       "171      1  [mr, president, None, american, legion, ha, ap...  \n",
       "264      1  [mr, president, i, support, None, agreement, o...  "
      ]
     },
     "execution_count": 505,
     "metadata": {},
     "output_type": "execute_result"
    }
   ],
   "source": [
    "congress.head()"
   ]
  },
  {
   "cell_type": "markdown",
   "metadata": {},
   "source": [
    "See the \"None\"'s in the table above? They could cause trouble unless we get them out.  \n",
    "\n",
    "Don't worry too much about the 'apply' formula here -- we will not be teaching the code but you are welcome to use it when you need it"
   ]
  },
  {
   "cell_type": "code",
   "execution_count": 506,
   "metadata": {},
   "outputs": [],
   "source": [
    "congress['lemmas']  = congress['lemmas'].apply(lambda y: [x for x in y if pd.notna(x)])"
   ]
  },
  {
   "cell_type": "code",
   "execution_count": 507,
   "metadata": {},
   "outputs": [
    {
     "data": {
      "text/html": [
       "<div>\n",
       "<style scoped>\n",
       "    .dataframe tbody tr th:only-of-type {\n",
       "        vertical-align: middle;\n",
       "    }\n",
       "\n",
       "    .dataframe tbody tr th {\n",
       "        vertical-align: top;\n",
       "    }\n",
       "\n",
       "    .dataframe thead th {\n",
       "        text-align: right;\n",
       "    }\n",
       "</style>\n",
       "<table border=\"1\" class=\"dataframe\">\n",
       "  <thead>\n",
       "    <tr style=\"text-align: right;\">\n",
       "      <th></th>\n",
       "      <th>speech</th>\n",
       "      <th>speaker</th>\n",
       "      <th>year</th>\n",
       "      <th>month</th>\n",
       "      <th>lemmas</th>\n",
       "    </tr>\n",
       "  </thead>\n",
       "  <tbody>\n",
       "    <tr>\n",
       "      <th>49</th>\n",
       "      <td>[mr, president, on, december, 20, 1979, the, s...</td>\n",
       "      <td>Mr. THURMOND</td>\n",
       "      <td>1980</td>\n",
       "      <td>1</td>\n",
       "      <td>[mr, president, on, december, 20, senate, pass...</td>\n",
       "    </tr>\n",
       "    <tr>\n",
       "      <th>166</th>\n",
       "      <td>[i, wish, to, compliment, the, able, senator, ...</td>\n",
       "      <td>Mr. THURMOND</td>\n",
       "      <td>1980</td>\n",
       "      <td>1</td>\n",
       "      <td>[i, wish, compliment, able, senator, virginia,...</td>\n",
       "    </tr>\n",
       "    <tr>\n",
       "      <th>168</th>\n",
       "      <td>[mr, president, the, deception, cruelty, and, ...</td>\n",
       "      <td>Mr. THURMOND</td>\n",
       "      <td>1980</td>\n",
       "      <td>1</td>\n",
       "      <td>[mr, president, deception, cruelty, brute, for...</td>\n",
       "    </tr>\n",
       "    <tr>\n",
       "      <th>171</th>\n",
       "      <td>[mr, president, the, american, legion, has, ap...</td>\n",
       "      <td>Mr. THURMOND</td>\n",
       "      <td>1980</td>\n",
       "      <td>1</td>\n",
       "      <td>[mr, president, american, legion, ha, approxim...</td>\n",
       "    </tr>\n",
       "    <tr>\n",
       "      <th>264</th>\n",
       "      <td>[mr, president, i, support, the, agreement, on...</td>\n",
       "      <td>Mr. KENNEDY</td>\n",
       "      <td>1980</td>\n",
       "      <td>1</td>\n",
       "      <td>[mr, president, i, support, agreement, on, tra...</td>\n",
       "    </tr>\n",
       "  </tbody>\n",
       "</table>\n",
       "</div>"
      ],
      "text/plain": [
       "                                                speech       speaker  year  \\\n",
       "49   [mr, president, on, december, 20, 1979, the, s...  Mr. THURMOND  1980   \n",
       "166  [i, wish, to, compliment, the, able, senator, ...  Mr. THURMOND  1980   \n",
       "168  [mr, president, the, deception, cruelty, and, ...  Mr. THURMOND  1980   \n",
       "171  [mr, president, the, american, legion, has, ap...  Mr. THURMOND  1980   \n",
       "264  [mr, president, i, support, the, agreement, on...   Mr. KENNEDY  1980   \n",
       "\n",
       "     month                                             lemmas  \n",
       "49       1  [mr, president, on, december, 20, senate, pass...  \n",
       "166      1  [i, wish, compliment, able, senator, virginia,...  \n",
       "168      1  [mr, president, deception, cruelty, brute, for...  \n",
       "171      1  [mr, president, american, legion, ha, approxim...  \n",
       "264      1  [mr, president, i, support, agreement, on, tra...  "
      ]
     },
     "execution_count": 507,
     "metadata": {},
     "output_type": "execute_result"
    }
   ],
   "source": [
    "congress.head()"
   ]
  },
  {
   "cell_type": "markdown",
   "metadata": {},
   "source": [
    "#### Minor Reformatting"
   ]
  },
  {
   "cell_type": "markdown",
   "metadata": {},
   "source": [
    "Glue the words back together into a string using **.str.join()** "
   ]
  },
  {
   "cell_type": "code",
   "execution_count": 508,
   "metadata": {},
   "outputs": [],
   "source": [
    "newcolumn = [] \n",
    "for row in congress['lemmas']:\n",
    "        row = ' '.join(row)\n",
    "        newcolumn.append(row)\n",
    "congress['lemmas'] = newcolumn"
   ]
  },
  {
   "cell_type": "code",
   "execution_count": 509,
   "metadata": {},
   "outputs": [
    {
     "data": {
      "text/html": [
       "<div>\n",
       "<style scoped>\n",
       "    .dataframe tbody tr th:only-of-type {\n",
       "        vertical-align: middle;\n",
       "    }\n",
       "\n",
       "    .dataframe tbody tr th {\n",
       "        vertical-align: top;\n",
       "    }\n",
       "\n",
       "    .dataframe thead th {\n",
       "        text-align: right;\n",
       "    }\n",
       "</style>\n",
       "<table border=\"1\" class=\"dataframe\">\n",
       "  <thead>\n",
       "    <tr style=\"text-align: right;\">\n",
       "      <th></th>\n",
       "      <th>speech</th>\n",
       "      <th>speaker</th>\n",
       "      <th>year</th>\n",
       "      <th>month</th>\n",
       "      <th>lemmas</th>\n",
       "    </tr>\n",
       "  </thead>\n",
       "  <tbody>\n",
       "    <tr>\n",
       "      <th>49</th>\n",
       "      <td>[mr, president, on, december, 20, 1979, the, s...</td>\n",
       "      <td>Mr. THURMOND</td>\n",
       "      <td>1980</td>\n",
       "      <td>1</td>\n",
       "      <td>mr president on december 20 senate pass s a bi...</td>\n",
       "    </tr>\n",
       "    <tr>\n",
       "      <th>166</th>\n",
       "      <td>[i, wish, to, compliment, the, able, senator, ...</td>\n",
       "      <td>Mr. THURMOND</td>\n",
       "      <td>1980</td>\n",
       "      <td>1</td>\n",
       "      <td>i wish compliment able senator virginia commen...</td>\n",
       "    </tr>\n",
       "    <tr>\n",
       "      <th>168</th>\n",
       "      <td>[mr, president, the, deception, cruelty, and, ...</td>\n",
       "      <td>Mr. THURMOND</td>\n",
       "      <td>1980</td>\n",
       "      <td>1</td>\n",
       "      <td>mr president deception cruelty brute force sov...</td>\n",
       "    </tr>\n",
       "    <tr>\n",
       "      <th>171</th>\n",
       "      <td>[mr, president, the, american, legion, has, ap...</td>\n",
       "      <td>Mr. THURMOND</td>\n",
       "      <td>1980</td>\n",
       "      <td>1</td>\n",
       "      <td>mr president american legion ha approximately ...</td>\n",
       "    </tr>\n",
       "    <tr>\n",
       "      <th>264</th>\n",
       "      <td>[mr, president, i, support, the, agreement, on...</td>\n",
       "      <td>Mr. KENNEDY</td>\n",
       "      <td>1980</td>\n",
       "      <td>1</td>\n",
       "      <td>mr president i support agreement on trade rela...</td>\n",
       "    </tr>\n",
       "  </tbody>\n",
       "</table>\n",
       "</div>"
      ],
      "text/plain": [
       "                                                speech       speaker  year  \\\n",
       "49   [mr, president, on, december, 20, 1979, the, s...  Mr. THURMOND  1980   \n",
       "166  [i, wish, to, compliment, the, able, senator, ...  Mr. THURMOND  1980   \n",
       "168  [mr, president, the, deception, cruelty, and, ...  Mr. THURMOND  1980   \n",
       "171  [mr, president, the, american, legion, has, ap...  Mr. THURMOND  1980   \n",
       "264  [mr, president, i, support, the, agreement, on...   Mr. KENNEDY  1980   \n",
       "\n",
       "     month                                             lemmas  \n",
       "49       1  mr president on december 20 senate pass s a bi...  \n",
       "166      1  i wish compliment able senator virginia commen...  \n",
       "168      1  mr president deception cruelty brute force sov...  \n",
       "171      1  mr president american legion ha approximately ...  \n",
       "264      1  mr president i support agreement on trade rela...  "
      ]
     },
     "execution_count": 509,
     "metadata": {},
     "output_type": "execute_result"
    }
   ],
   "source": [
    "congress.head()"
   ]
  },
  {
   "cell_type": "markdown",
   "metadata": {},
   "source": [
    "## Finding a controlled vocabulary in tabular data"
   ]
  },
  {
   "cell_type": "markdown",
   "metadata": {},
   "source": [
    "In an earlier lesson we learned about using re.compile and special characters like \\\\\\b to perform accurate searches.  \n",
    "\n",
    "In this lesson, we'll use the **trrex** package and one of its commands to search for words:\n",
    "\n",
    "    tx.make -- to formulate a regex string for correctly searching for multiple words\n"
   ]
  },
  {
   "cell_type": "code",
   "execution_count": 510,
   "metadata": {},
   "outputs": [],
   "source": [
    "import trrex as tx\n",
    "\n",
    "vocabpattern = tx.make(vocab, prefix = r'\\b', suffix = r'\\b')"
   ]
  },
  {
   "cell_type": "code",
   "execution_count": 511,
   "metadata": {},
   "outputs": [
    {
     "data": {
      "text/plain": [
       "'\\\\b(?:Tazir\\\\ crime|j(?:ob|uvenile\\\\ delinquency)|u(?:nfairness|surpation|xoricide)|nonfeasance|k(?:i(?:dnapping|ll)|navery)|quackery|g(?:ore|a(?:rble|m(?:bling|ing))|rand\\\\ (?:larceny|theft)|yp|uile)|Had\\\\ crime|e(?:limination|quivocation|ncroachment|mbezzlement|vil(?:doing)?|xecut(?:ion|e))|o(?:riginal\\\\ sin|ff(?:en(?:ce|se))?|verrefinement|bsc(?:urantism|enity))|l(?:y(?:nching|ing)|aw\\\\ breaking|i(?:quidation|berty)|e(?:se\\\\ majesty|gal\\\\ injury))|d(?:uplicity|ry\\\\ gulching|is(?:tort(?:ion)?|honesty|s(?:imulation|e(?:rvice|mbling))|patch)|a(?:koity|coity|mage|te\\\\ rape)|ouble\\\\ (?:dealing|cross(?:ing)?)|e(?:pravity|l(?:usion|inquency)|reliction|falcation|vi(?:l(?:try|ment|ry)|a(?:nce|tion))|adly\\\\ sin|ce(?:ption|it)))|a(?:rmed\\\\ robbery|ctual\\\\ sin|ggravated\\\\ assault|b(?:omination|duction|normality)|lienation\\\\ of\\\\ affection|tt(?:ack|empt)|ssa(?:ssination|ult(?:\\\\ and\\\\ battery)?))|w(?:ar(?:\\\\ crime|p)|i(?:ckedness|le)|rong)|i(?:rre(?:verence|gularity)|ll(?:\\\\ (?:turn|service)|usion)|m(?:p(?:ropriety|osture|ersonation)|morality)|n(?:iquity|side\\\\ job|vasion\\\\ of\\\\ privacy|t(?:rusion|empera(?:nce|teness))|d(?:ec(?:ency|orum)|i(?:rection|scretion))|road|ju(?:ry|stice)|f(?:liction|anti(?:lism|cide)|r(?:action|ingement(?:\\\\ of\\\\ copyright)?))))|h(?:ustle|o(?:oliganism|usebreaking|ld(?:out|up)|m(?:e\\\\ invasion|icide))|i(?:gh(?:\\\\ treason|way\\\\ robbery|jack(?:ing)?)|jack(?:ing)?|t)|e(?:ll|ad\\\\ game|ist))|v(?:enial\\\\ sin|i(?:olation|llainy|c(?:e(?:\\\\ crime)?|timless\\\\ crime))|andalism)|t(?:ake\\\\ in|yrannicide|ort(?:ure)?|urpitude|e(?:chnical(?:\\\\ foul)?|r(?:giversation|rori(?:zation|sation)))|wisting|h(?:imblerig|ugge(?:ry|e))|r(?:ansgression|i(?:bute|ck(?:ery)?)|e(?:a(?:chery|son)|spass(?:\\\\ (?:de\\\\ bonis\\\\ asportatis|on\\\\ the\\\\ case|viet\\\\ armis|quare\\\\ clausum\\\\ fregit))?)))|m(?:u(?:gging|tilate|rder)|o(?:rtal\\\\ sin|lestation|nkey\\\\ business)|is(?:feasance|behavio(?:ur|r)|chie(?:f(?:\\\\ making)?|vousness)|representation|app(?:lication|ropriation)|de(?:meano(?:ur|r)|ed))|a(?:riticide|ngle|yhem|intenance|l(?:versation|icious\\\\ mischief|practice|feasance)|ss(?:acre|\\\\ murder)))|p(?:i(?:racy|lferage)|l(?:underage|a(?:giari(?:zation|s(?:ation|m))|y))|yramiding|olish\\\\ off|r(?:e(?:varication|ten(?:se|ce|ding))|otection)|a(?:tent\\\\ infringement|ltering|rricide)|e(?:c(?:ulation|cadillo)|t(?:it\\\\ larceny|ty(?:\\\\ larceny)?)|r(?:sonal\\\\ foul|fidy|petration|version)))|c(?:ybercrime|ivil\\\\ wrong|rim(?:inal\\\\ (?:maintenance|offen(?:se|ce))|e)|o(?:pyright\\\\ infringement|zenage|n(?:\\\\ game|fidence\\\\ (?:trick|game)|t(?:inuing\\\\ trespass|ract\\\\ killing))?|mm(?:ercial\\\\ bribery|i(?:ssion|ttal)))|h(?:icane(?:ry)?|a(?:mperty|rlatanism)|eat(?:ing)?)|a(?:rna(?:ge|l\\\\ abuse)|p(?:er|ital\\\\ offense)))|r(?:u(?:stling|ffianism)|ip\\\\ off|e(?:sisting\\\\ arrest|move|g(?:icide|ulatory\\\\ offen(?:ce|se)))|a(?:vishment|pe|id|scality)|o(?:bbery|lling|gu(?:ery|ishness)))|f(?:limflam|i(?:bbing|licide)|ra(?:me\\\\ up|tricide|ud(?:\\\\ in\\\\ law)?)|a(?:brication|kery|miliarity|l(?:s(?:if(?:ication|y)|ehood)|l))|o(?:u(?:l(?:\\\\ (?:ball|play))?|r\\\\ flush)|rgery)|e(?:lony|igning))|b(?:a(?:rratry|ttery)|l(?:oodshed|a(?:ze|ckmail)|uff)|iopiracy|etrayal|u(?:tchery|rke|ccaneering|n(?:co(?:\\\\ game)?|ko(?:\\\\ game)?)|mp\\\\ off)|r(?:ea(?:ch\\\\ of\\\\ trust\\\\ with\\\\ fraudulent\\\\ intent|k(?:ing\\\\ and\\\\ entering|\\\\ in))|utali(?:zation|sation)))|s(?:cam|kimming|ophistication|e(?:xual\\\\ immorality|llout|tup)|la(?:y(?:ing)?|ughter)|wiz|natch|poil(?:age|ing)?|h(?:e(?:nanigan|ll\\\\ game)|a(?:bbiness|kedown)|rinkage|o(?:ot\\\\ down|plifting))|t(?:atutory\\\\ (?:rape|offen(?:se|ce))|raining|i(?:ng(?:\\\\ operation)?|ckup))|i(?:mulation|n(?:ning)?)))\\\\b'"
      ]
     },
     "execution_count": 511,
     "metadata": {},
     "output_type": "execute_result"
    }
   ],
   "source": [
    "vocabpattern"
   ]
  },
  {
   "cell_type": "markdown",
   "metadata": {},
   "source": [
    "Next we'll use the python function\n",
    "\n",
    "    .findall() \n",
    "    \n",
    "to find the words in the pandas column and 'extract' just the vocabulary into a new column."
   ]
  },
  {
   "cell_type": "code",
   "execution_count": 512,
   "metadata": {},
   "outputs": [
    {
     "data": {
      "text/html": [
       "<div>\n",
       "<style scoped>\n",
       "    .dataframe tbody tr th:only-of-type {\n",
       "        vertical-align: middle;\n",
       "    }\n",
       "\n",
       "    .dataframe tbody tr th {\n",
       "        vertical-align: top;\n",
       "    }\n",
       "\n",
       "    .dataframe thead th {\n",
       "        text-align: right;\n",
       "    }\n",
       "</style>\n",
       "<table border=\"1\" class=\"dataframe\">\n",
       "  <thead>\n",
       "    <tr style=\"text-align: right;\">\n",
       "      <th></th>\n",
       "      <th>speech</th>\n",
       "      <th>speaker</th>\n",
       "      <th>year</th>\n",
       "      <th>month</th>\n",
       "      <th>lemmas</th>\n",
       "      <th>vocab</th>\n",
       "    </tr>\n",
       "  </thead>\n",
       "  <tbody>\n",
       "    <tr>\n",
       "      <th>49</th>\n",
       "      <td>[mr, president, on, december, 20, 1979, the, s...</td>\n",
       "      <td>Mr. THURMOND</td>\n",
       "      <td>1980</td>\n",
       "      <td>1</td>\n",
       "      <td>mr president on december 20 senate pass s a bi...</td>\n",
       "      <td>[]</td>\n",
       "    </tr>\n",
       "    <tr>\n",
       "      <th>166</th>\n",
       "      <td>[i, wish, to, compliment, the, able, senator, ...</td>\n",
       "      <td>Mr. THURMOND</td>\n",
       "      <td>1980</td>\n",
       "      <td>1</td>\n",
       "      <td>i wish compliment able senator virginia commen...</td>\n",
       "      <td>[]</td>\n",
       "    </tr>\n",
       "    <tr>\n",
       "      <th>168</th>\n",
       "      <td>[mr, president, the, deception, cruelty, and, ...</td>\n",
       "      <td>Mr. THURMOND</td>\n",
       "      <td>1980</td>\n",
       "      <td>1</td>\n",
       "      <td>mr president deception cruelty brute force sov...</td>\n",
       "      <td>[deception, deception, trick, murder, deceptio...</td>\n",
       "    </tr>\n",
       "    <tr>\n",
       "      <th>171</th>\n",
       "      <td>[mr, president, the, american, legion, has, ap...</td>\n",
       "      <td>Mr. THURMOND</td>\n",
       "      <td>1980</td>\n",
       "      <td>1</td>\n",
       "      <td>mr president american legion ha approximately ...</td>\n",
       "      <td>[]</td>\n",
       "    </tr>\n",
       "    <tr>\n",
       "      <th>264</th>\n",
       "      <td>[mr, president, i, support, the, agreement, on...</td>\n",
       "      <td>Mr. KENNEDY</td>\n",
       "      <td>1980</td>\n",
       "      <td>1</td>\n",
       "      <td>mr president i support agreement on trade rela...</td>\n",
       "      <td>[protection, protection, protection]</td>\n",
       "    </tr>\n",
       "  </tbody>\n",
       "</table>\n",
       "</div>"
      ],
      "text/plain": [
       "                                                speech       speaker  year  \\\n",
       "49   [mr, president, on, december, 20, 1979, the, s...  Mr. THURMOND  1980   \n",
       "166  [i, wish, to, compliment, the, able, senator, ...  Mr. THURMOND  1980   \n",
       "168  [mr, president, the, deception, cruelty, and, ...  Mr. THURMOND  1980   \n",
       "171  [mr, president, the, american, legion, has, ap...  Mr. THURMOND  1980   \n",
       "264  [mr, president, i, support, the, agreement, on...   Mr. KENNEDY  1980   \n",
       "\n",
       "     month                                             lemmas  \\\n",
       "49       1  mr president on december 20 senate pass s a bi...   \n",
       "166      1  i wish compliment able senator virginia commen...   \n",
       "168      1  mr president deception cruelty brute force sov...   \n",
       "171      1  mr president american legion ha approximately ...   \n",
       "264      1  mr president i support agreement on trade rela...   \n",
       "\n",
       "                                                 vocab  \n",
       "49                                                  []  \n",
       "166                                                 []  \n",
       "168  [deception, deception, trick, murder, deceptio...  \n",
       "171                                                 []  \n",
       "264               [protection, protection, protection]  "
      ]
     },
     "execution_count": 512,
     "metadata": {},
     "output_type": "execute_result"
    }
   ],
   "source": [
    "congress[\"vocab\"] = congress[\"lemmas\"].str.findall('({})'.format(vocabpattern))\n",
    "congress.head()"
   ]
  },
  {
   "cell_type": "markdown",
   "metadata": {},
   "source": [
    "#### Minor Cleanup of the dataframe"
   ]
  },
  {
   "cell_type": "markdown",
   "metadata": {},
   "source": [
    "Drop the rows with nothing (note the **!=** condition, meaning 'is not equal to)"
   ]
  },
  {
   "cell_type": "code",
   "execution_count": 513,
   "metadata": {},
   "outputs": [
    {
     "data": {
      "text/html": [
       "<div>\n",
       "<style scoped>\n",
       "    .dataframe tbody tr th:only-of-type {\n",
       "        vertical-align: middle;\n",
       "    }\n",
       "\n",
       "    .dataframe tbody tr th {\n",
       "        vertical-align: top;\n",
       "    }\n",
       "\n",
       "    .dataframe thead th {\n",
       "        text-align: right;\n",
       "    }\n",
       "</style>\n",
       "<table border=\"1\" class=\"dataframe\">\n",
       "  <thead>\n",
       "    <tr style=\"text-align: right;\">\n",
       "      <th></th>\n",
       "      <th>speech</th>\n",
       "      <th>speaker</th>\n",
       "      <th>year</th>\n",
       "      <th>month</th>\n",
       "      <th>lemmas</th>\n",
       "      <th>vocab</th>\n",
       "    </tr>\n",
       "  </thead>\n",
       "  <tbody>\n",
       "    <tr>\n",
       "      <th>168</th>\n",
       "      <td>[mr, president, the, deception, cruelty, and, ...</td>\n",
       "      <td>Mr. THURMOND</td>\n",
       "      <td>1980</td>\n",
       "      <td>1</td>\n",
       "      <td>mr president deception cruelty brute force sov...</td>\n",
       "      <td>[deception, deception, trick, murder, deceptio...</td>\n",
       "    </tr>\n",
       "    <tr>\n",
       "      <th>264</th>\n",
       "      <td>[mr, president, i, support, the, agreement, on...</td>\n",
       "      <td>Mr. KENNEDY</td>\n",
       "      <td>1980</td>\n",
       "      <td>1</td>\n",
       "      <td>mr president i support agreement on trade rela...</td>\n",
       "      <td>[protection, protection, protection]</td>\n",
       "    </tr>\n",
       "    <tr>\n",
       "      <th>306</th>\n",
       "      <td>[mr, president, as, we, begin, another, sessio...</td>\n",
       "      <td>Mr. PROXMIRE</td>\n",
       "      <td>1980</td>\n",
       "      <td>1</td>\n",
       "      <td>mr president as begin another session i find i...</td>\n",
       "      <td>[hit]</td>\n",
       "    </tr>\n",
       "    <tr>\n",
       "      <th>386</th>\n",
       "      <td>[mr, president, it, has, been, said, that, a, ...</td>\n",
       "      <td>Mr. KENNEDY</td>\n",
       "      <td>1980</td>\n",
       "      <td>1</td>\n",
       "      <td>mr president it ha be say a man be never old r...</td>\n",
       "      <td>[commission, commission, off, obscenity, off, ...</td>\n",
       "    </tr>\n",
       "    <tr>\n",
       "      <th>1302</th>\n",
       "      <td>[mr, president, today, we, mourn, the, loss, o...</td>\n",
       "      <td>Mr. PROXMIRE</td>\n",
       "      <td>1980</td>\n",
       "      <td>1</td>\n",
       "      <td>mr president today mourn loss one nation great...</td>\n",
       "      <td>[liberty, crime, liberty]</td>\n",
       "    </tr>\n",
       "  </tbody>\n",
       "</table>\n",
       "</div>"
      ],
      "text/plain": [
       "                                                 speech       speaker  year  \\\n",
       "168   [mr, president, the, deception, cruelty, and, ...  Mr. THURMOND  1980   \n",
       "264   [mr, president, i, support, the, agreement, on...   Mr. KENNEDY  1980   \n",
       "306   [mr, president, as, we, begin, another, sessio...  Mr. PROXMIRE  1980   \n",
       "386   [mr, president, it, has, been, said, that, a, ...   Mr. KENNEDY  1980   \n",
       "1302  [mr, president, today, we, mourn, the, loss, o...  Mr. PROXMIRE  1980   \n",
       "\n",
       "      month                                             lemmas  \\\n",
       "168       1  mr president deception cruelty brute force sov...   \n",
       "264       1  mr president i support agreement on trade rela...   \n",
       "306       1  mr president as begin another session i find i...   \n",
       "386       1  mr president it ha be say a man be never old r...   \n",
       "1302      1  mr president today mourn loss one nation great...   \n",
       "\n",
       "                                                  vocab  \n",
       "168   [deception, deception, trick, murder, deceptio...  \n",
       "264                [protection, protection, protection]  \n",
       "306                                               [hit]  \n",
       "386   [commission, commission, off, obscenity, off, ...  \n",
       "1302                          [liberty, crime, liberty]  "
      ]
     },
     "execution_count": 513,
     "metadata": {},
     "output_type": "execute_result"
    }
   ],
   "source": [
    "congress = congress[congress.astype(str)['vocab'] != '[]']\n",
    "congress.head()"
   ]
  },
  {
   "cell_type": "markdown",
   "metadata": {},
   "source": [
    "We might as well drop any rows that don't have information in the column 'controlled vocab' because we're only studying controlled vocab\n"
   ]
  },
  {
   "cell_type": "code",
   "execution_count": 514,
   "metadata": {},
   "outputs": [
    {
     "data": {
      "text/html": [
       "<div>\n",
       "<style scoped>\n",
       "    .dataframe tbody tr th:only-of-type {\n",
       "        vertical-align: middle;\n",
       "    }\n",
       "\n",
       "    .dataframe tbody tr th {\n",
       "        vertical-align: top;\n",
       "    }\n",
       "\n",
       "    .dataframe thead th {\n",
       "        text-align: right;\n",
       "    }\n",
       "</style>\n",
       "<table border=\"1\" class=\"dataframe\">\n",
       "  <thead>\n",
       "    <tr style=\"text-align: right;\">\n",
       "      <th></th>\n",
       "      <th>speaker</th>\n",
       "      <th>year</th>\n",
       "      <th>vocab</th>\n",
       "    </tr>\n",
       "  </thead>\n",
       "  <tbody>\n",
       "    <tr>\n",
       "      <th>168</th>\n",
       "      <td>Mr. THURMOND</td>\n",
       "      <td>1980</td>\n",
       "      <td>[deception, deception, trick, murder, deceptio...</td>\n",
       "    </tr>\n",
       "    <tr>\n",
       "      <th>264</th>\n",
       "      <td>Mr. KENNEDY</td>\n",
       "      <td>1980</td>\n",
       "      <td>[protection, protection, protection]</td>\n",
       "    </tr>\n",
       "    <tr>\n",
       "      <th>306</th>\n",
       "      <td>Mr. PROXMIRE</td>\n",
       "      <td>1980</td>\n",
       "      <td>[hit]</td>\n",
       "    </tr>\n",
       "    <tr>\n",
       "      <th>386</th>\n",
       "      <td>Mr. KENNEDY</td>\n",
       "      <td>1980</td>\n",
       "      <td>[commission, commission, off, obscenity, off, ...</td>\n",
       "    </tr>\n",
       "    <tr>\n",
       "      <th>1302</th>\n",
       "      <td>Mr. PROXMIRE</td>\n",
       "      <td>1980</td>\n",
       "      <td>[liberty, crime, liberty]</td>\n",
       "    </tr>\n",
       "  </tbody>\n",
       "</table>\n",
       "</div>"
      ],
      "text/plain": [
       "           speaker  year                                              vocab\n",
       "168   Mr. THURMOND  1980  [deception, deception, trick, murder, deceptio...\n",
       "264    Mr. KENNEDY  1980               [protection, protection, protection]\n",
       "306   Mr. PROXMIRE  1980                                              [hit]\n",
       "386    Mr. KENNEDY  1980  [commission, commission, off, obscenity, off, ...\n",
       "1302  Mr. PROXMIRE  1980                          [liberty, crime, liberty]"
      ]
     },
     "execution_count": 514,
     "metadata": {},
     "output_type": "execute_result"
    }
   ],
   "source": [
    "vocabspeeches = congress.copy()\n",
    "vocabspeeches = vocabspeeches.drop(['speech', 'month', 'lemmas'], 1)\n",
    "vocabspeeches.head()"
   ]
  },
  {
   "cell_type": "markdown",
   "metadata": {},
   "source": [
    "## Count words per year"
   ]
  },
  {
   "cell_type": "markdown",
   "metadata": {},
   "source": [
    "Counting words per year in tabular data isn't as easy as counting the number of times Mr. Biden gave a speech, because the data is already organized around speakers -- but not around words.  \n",
    "\n",
    "To count words, we have to first rearrange the data in a format where each individual word of each speech has its own row."
   ]
  },
  {
   "cell_type": "markdown",
   "metadata": {},
   "source": [
    "### Use .explode() to format words for grouped counting"
   ]
  },
  {
   "cell_type": "markdown",
   "metadata": {},
   "source": [
    "To count the controlled vocabulary, we need each word to be on its own line.  The command\n",
    "\n",
    "    * .expode()\n",
    "\n",
    "takes one object -- the name of a column.  Applied to tabular data, .explode() separates each member of a list into its own row.  The other columns are populated with the infromation that applied to the original row.  \n",
    "\n",
    "For our purposes, this will mean that each word in the controlled_vocab column has its own row, and we can count."
   ]
  },
  {
   "cell_type": "code",
   "execution_count": 515,
   "metadata": {},
   "outputs": [],
   "source": [
    "vocabspeeches = vocabspeeches.explode('vocab')"
   ]
  },
  {
   "cell_type": "code",
   "execution_count": 516,
   "metadata": {},
   "outputs": [
    {
     "data": {
      "text/html": [
       "<div>\n",
       "<style scoped>\n",
       "    .dataframe tbody tr th:only-of-type {\n",
       "        vertical-align: middle;\n",
       "    }\n",
       "\n",
       "    .dataframe tbody tr th {\n",
       "        vertical-align: top;\n",
       "    }\n",
       "\n",
       "    .dataframe thead th {\n",
       "        text-align: right;\n",
       "    }\n",
       "</style>\n",
       "<table border=\"1\" class=\"dataframe\">\n",
       "  <thead>\n",
       "    <tr style=\"text-align: right;\">\n",
       "      <th></th>\n",
       "      <th>speaker</th>\n",
       "      <th>year</th>\n",
       "      <th>vocab</th>\n",
       "    </tr>\n",
       "  </thead>\n",
       "  <tbody>\n",
       "    <tr>\n",
       "      <th>168</th>\n",
       "      <td>Mr. THURMOND</td>\n",
       "      <td>1980</td>\n",
       "      <td>deception</td>\n",
       "    </tr>\n",
       "    <tr>\n",
       "      <th>168</th>\n",
       "      <td>Mr. THURMOND</td>\n",
       "      <td>1980</td>\n",
       "      <td>deception</td>\n",
       "    </tr>\n",
       "    <tr>\n",
       "      <th>168</th>\n",
       "      <td>Mr. THURMOND</td>\n",
       "      <td>1980</td>\n",
       "      <td>trick</td>\n",
       "    </tr>\n",
       "    <tr>\n",
       "      <th>168</th>\n",
       "      <td>Mr. THURMOND</td>\n",
       "      <td>1980</td>\n",
       "      <td>murder</td>\n",
       "    </tr>\n",
       "    <tr>\n",
       "      <th>168</th>\n",
       "      <td>Mr. THURMOND</td>\n",
       "      <td>1980</td>\n",
       "      <td>deception</td>\n",
       "    </tr>\n",
       "  </tbody>\n",
       "</table>\n",
       "</div>"
      ],
      "text/plain": [
       "          speaker  year      vocab\n",
       "168  Mr. THURMOND  1980  deception\n",
       "168  Mr. THURMOND  1980  deception\n",
       "168  Mr. THURMOND  1980      trick\n",
       "168  Mr. THURMOND  1980     murder\n",
       "168  Mr. THURMOND  1980  deception"
      ]
     },
     "execution_count": 516,
     "metadata": {},
     "output_type": "execute_result"
    }
   ],
   "source": [
    "vocabspeeches.head()"
   ]
  },
  {
   "cell_type": "markdown",
   "metadata": {},
   "source": [
    "### Short digression on the bigram problem"
   ]
  },
  {
   "cell_type": "markdown",
   "metadata": {},
   "source": [
    "In an earlier notebook, we saw a complex path to working with bigrams from wordnet.  First, we had to divide our original text into n-grams, and then separately match the n-gram phrases from the raw text with the controlled vocabulary.\n",
    "\n",
    "Fortunately for us, working with **.findall** means that we don't have to go through such shenanigans.  \n",
    "\n",
    "We can check out the work of .findall by inspecting the data.  Remember that .unique() returns all unique values for a dataframe:"
   ]
  },
  {
   "cell_type": "code",
   "execution_count": 517,
   "metadata": {},
   "outputs": [
    {
     "data": {
      "text/plain": [
       "array(['deception', 'trick', 'murder', 'crime', 'fall', 'attack',\n",
       "       'violation', 'infraction', 'duplicity', 'protection', 'hit',\n",
       "       'commission', 'off', 'obscenity', 'liberty', 'tribute',\n",
       "       'perversion', 'attempt', 'take in', 'remove', 'torture',\n",
       "       'slaughter', 'immorality', 'felony', 'offense', 'kill',\n",
       "       'misappropriation', 'job', 'play', 'damage', 'petty', 'vice',\n",
       "       'depravity', 'perfidy', 'execute', 'technical', 'illusion',\n",
       "       'wrong', 'elimination', 'assault', 'distort', 'maintenance',\n",
       "       'mass murder', 'con', 'execution', 'injustice', 'intrusion',\n",
       "       'usurpation', 'injury', 'sin', 'inroad', 'distortion',\n",
       "       'encroachment', 'evil', 'warp', 'sting', 'gore', 'abomination',\n",
       "       'slay', 'infringement', 'hell', 'rolling', 'tort', 'caper',\n",
       "       'fraud', 'assassination', 'bloodshed', 'transgression',\n",
       "       'sophistication', 'cheating', 'impropriety', 'dispatch',\n",
       "       'massacre', 'homicide', 'fabrication', 'carnage', 'blackmail',\n",
       "       'raid', 'burke', 'falsehood', 'snatch', 'deceit', 'rape',\n",
       "       'war crime', 'pyramiding', 'cheat', 'delinquency', 'trespass',\n",
       "       'equivocation', 'embezzlement', 'break in', 'rip off',\n",
       "       'liquidation', 'hijacking', 'criminal offense', 'irregularity',\n",
       "       'capital offense', 'unfairness', 'robbery', 'blaze', 'hustle',\n",
       "       'wickedness', 'piracy', 'disservice', 'mischief', 'spoil',\n",
       "       'twisting', 'betrayal', 'pretense', 'treachery', 'vandalism',\n",
       "       'bluff', 'infliction', 'battery', 'shenanigan', 'feigning',\n",
       "       'pilferage', 'abduction', 'kidnapping', 'deviation', 'simulation',\n",
       "       'familiarity', 'delusion', 'misdemeanor', 'gambling', 'treason',\n",
       "       'malpractice', 'abnormality', 'misrepresentation', 'lying',\n",
       "       'misdeed', 'indiscretion', 'juvenile delinquency',\n",
       "       'patent infringement', 'scam', 'spoilage', 'mutilate', 'lynching',\n",
       "       'forgery', 'mayhem', 'dereliction', 'petty larceny', 'straining',\n",
       "       'holdout', 'shell game', 'terrorization', 'gaming', 'slaying',\n",
       "       'misbehavior', 'mangle', 'foul', 'rustling', 'indirection',\n",
       "       'pretending', 'statutory rape', 'dishonesty', 'chicanery',\n",
       "       'fratricide', 'copyright infringement', 'shoot down',\n",
       "       'malfeasance', 'mugging', 'sellout', 'sting operation',\n",
       "       'perpetration', 'molestation', 'setup', 'iniquity',\n",
       "       'falsification', 'mischief making', 'falsify', 'infanticide',\n",
       "       'flimflam', 'trickery', 'buccaneering', 'misbehaviour',\n",
       "       'committal', 'grand larceny', 'spoiling', 'plagiarism', 'stickup',\n",
       "       'shakedown', 'holdup', 'high treason', 'highway robbery',\n",
       "       'irreverence', 'shrinkage', 'hijack', 'con game', 'skimming',\n",
       "       'hooliganism', 'shoplifting', 'misapplication', 'turpitude',\n",
       "       'law breaking', 'defalcation', 'indecency', 'contract killing',\n",
       "       'commercial bribery', 'prevarication'], dtype=object)"
      ]
     },
     "execution_count": 517,
     "metadata": {},
     "output_type": "execute_result"
    }
   ],
   "source": [
    "vocabspeeches['vocab'].unique()"
   ]
  },
  {
   "cell_type": "markdown",
   "metadata": {},
   "source": [
    "### Count exploded data with .groupby()"
   ]
  },
  {
   "cell_type": "markdown",
   "metadata": {},
   "source": [
    "After using .explode(), we have a column of individual words with the years in which they appeared. \n",
    "\n",
    "Now is an appropriate time to count.  We will **group** the data by 'vocab' and 'year', and then ask pandas to \n",
    "\n",
    "    .sum()\n",
    "\n",
    "the number of rows for each 'vocab' item per year. This will produce a new column of vocab-per-year counts, which we will name 'count.'"
   ]
  },
  {
   "cell_type": "code",
   "execution_count": 518,
   "metadata": {},
   "outputs": [
    {
     "data": {
      "text/html": [
       "<div>\n",
       "<style scoped>\n",
       "    .dataframe tbody tr th:only-of-type {\n",
       "        vertical-align: middle;\n",
       "    }\n",
       "\n",
       "    .dataframe tbody tr th {\n",
       "        vertical-align: top;\n",
       "    }\n",
       "\n",
       "    .dataframe thead th {\n",
       "        text-align: right;\n",
       "    }\n",
       "</style>\n",
       "<table border=\"1\" class=\"dataframe\">\n",
       "  <thead>\n",
       "    <tr style=\"text-align: right;\">\n",
       "      <th></th>\n",
       "      <th>vocab</th>\n",
       "      <th>year</th>\n",
       "      <th>count</th>\n",
       "    </tr>\n",
       "  </thead>\n",
       "  <tbody>\n",
       "    <tr>\n",
       "      <th>0</th>\n",
       "      <td>abduction</td>\n",
       "      <td>1980</td>\n",
       "      <td>1980</td>\n",
       "    </tr>\n",
       "    <tr>\n",
       "      <th>1</th>\n",
       "      <td>abduction</td>\n",
       "      <td>1981</td>\n",
       "      <td>11886</td>\n",
       "    </tr>\n",
       "    <tr>\n",
       "      <th>2</th>\n",
       "      <td>abduction</td>\n",
       "      <td>1982</td>\n",
       "      <td>1982</td>\n",
       "    </tr>\n",
       "    <tr>\n",
       "      <th>3</th>\n",
       "      <td>abduction</td>\n",
       "      <td>1983</td>\n",
       "      <td>13881</td>\n",
       "    </tr>\n",
       "    <tr>\n",
       "      <th>4</th>\n",
       "      <td>abduction</td>\n",
       "      <td>1984</td>\n",
       "      <td>25792</td>\n",
       "    </tr>\n",
       "    <tr>\n",
       "      <th>5</th>\n",
       "      <td>abduction</td>\n",
       "      <td>1985</td>\n",
       "      <td>13895</td>\n",
       "    </tr>\n",
       "    <tr>\n",
       "      <th>6</th>\n",
       "      <td>abduction</td>\n",
       "      <td>1986</td>\n",
       "      <td>9930</td>\n",
       "    </tr>\n",
       "    <tr>\n",
       "      <th>7</th>\n",
       "      <td>abduction</td>\n",
       "      <td>1987</td>\n",
       "      <td>1987</td>\n",
       "    </tr>\n",
       "    <tr>\n",
       "      <th>8</th>\n",
       "      <td>abduction</td>\n",
       "      <td>1988</td>\n",
       "      <td>9940</td>\n",
       "    </tr>\n",
       "    <tr>\n",
       "      <th>9</th>\n",
       "      <td>abduction</td>\n",
       "      <td>1989</td>\n",
       "      <td>15912</td>\n",
       "    </tr>\n",
       "    <tr>\n",
       "      <th>10</th>\n",
       "      <td>abnormality</td>\n",
       "      <td>1981</td>\n",
       "      <td>1981</td>\n",
       "    </tr>\n",
       "    <tr>\n",
       "      <th>11</th>\n",
       "      <td>abnormality</td>\n",
       "      <td>1982</td>\n",
       "      <td>9910</td>\n",
       "    </tr>\n",
       "    <tr>\n",
       "      <th>12</th>\n",
       "      <td>abnormality</td>\n",
       "      <td>1984</td>\n",
       "      <td>1984</td>\n",
       "    </tr>\n",
       "    <tr>\n",
       "      <th>13</th>\n",
       "      <td>abnormality</td>\n",
       "      <td>1985</td>\n",
       "      <td>3970</td>\n",
       "    </tr>\n",
       "    <tr>\n",
       "      <th>14</th>\n",
       "      <td>abnormality</td>\n",
       "      <td>1986</td>\n",
       "      <td>5958</td>\n",
       "    </tr>\n",
       "    <tr>\n",
       "      <th>15</th>\n",
       "      <td>abnormality</td>\n",
       "      <td>1987</td>\n",
       "      <td>1987</td>\n",
       "    </tr>\n",
       "    <tr>\n",
       "      <th>16</th>\n",
       "      <td>abnormality</td>\n",
       "      <td>1988</td>\n",
       "      <td>1988</td>\n",
       "    </tr>\n",
       "    <tr>\n",
       "      <th>17</th>\n",
       "      <td>abnormality</td>\n",
       "      <td>1989</td>\n",
       "      <td>3978</td>\n",
       "    </tr>\n",
       "    <tr>\n",
       "      <th>18</th>\n",
       "      <td>abomination</td>\n",
       "      <td>1980</td>\n",
       "      <td>3960</td>\n",
       "    </tr>\n",
       "    <tr>\n",
       "      <th>19</th>\n",
       "      <td>abomination</td>\n",
       "      <td>1984</td>\n",
       "      <td>3968</td>\n",
       "    </tr>\n",
       "    <tr>\n",
       "      <th>20</th>\n",
       "      <td>abomination</td>\n",
       "      <td>1989</td>\n",
       "      <td>1989</td>\n",
       "    </tr>\n",
       "    <tr>\n",
       "      <th>21</th>\n",
       "      <td>assassination</td>\n",
       "      <td>1980</td>\n",
       "      <td>5940</td>\n",
       "    </tr>\n",
       "    <tr>\n",
       "      <th>22</th>\n",
       "      <td>assassination</td>\n",
       "      <td>1981</td>\n",
       "      <td>95088</td>\n",
       "    </tr>\n",
       "    <tr>\n",
       "      <th>23</th>\n",
       "      <td>assassination</td>\n",
       "      <td>1982</td>\n",
       "      <td>69370</td>\n",
       "    </tr>\n",
       "    <tr>\n",
       "      <th>24</th>\n",
       "      <td>assassination</td>\n",
       "      <td>1983</td>\n",
       "      <td>35694</td>\n",
       "    </tr>\n",
       "    <tr>\n",
       "      <th>25</th>\n",
       "      <td>assassination</td>\n",
       "      <td>1984</td>\n",
       "      <td>37696</td>\n",
       "    </tr>\n",
       "    <tr>\n",
       "      <th>26</th>\n",
       "      <td>assassination</td>\n",
       "      <td>1985</td>\n",
       "      <td>15880</td>\n",
       "    </tr>\n",
       "    <tr>\n",
       "      <th>27</th>\n",
       "      <td>assassination</td>\n",
       "      <td>1986</td>\n",
       "      <td>21846</td>\n",
       "    </tr>\n",
       "    <tr>\n",
       "      <th>28</th>\n",
       "      <td>assassination</td>\n",
       "      <td>1987</td>\n",
       "      <td>35766</td>\n",
       "    </tr>\n",
       "    <tr>\n",
       "      <th>29</th>\n",
       "      <td>assassination</td>\n",
       "      <td>1988</td>\n",
       "      <td>19880</td>\n",
       "    </tr>\n",
       "  </tbody>\n",
       "</table>\n",
       "</div>"
      ],
      "text/plain": [
       "            vocab  year  count\n",
       "0       abduction  1980   1980\n",
       "1       abduction  1981  11886\n",
       "2       abduction  1982   1982\n",
       "3       abduction  1983  13881\n",
       "4       abduction  1984  25792\n",
       "5       abduction  1985  13895\n",
       "6       abduction  1986   9930\n",
       "7       abduction  1987   1987\n",
       "8       abduction  1988   9940\n",
       "9       abduction  1989  15912\n",
       "10    abnormality  1981   1981\n",
       "11    abnormality  1982   9910\n",
       "12    abnormality  1984   1984\n",
       "13    abnormality  1985   3970\n",
       "14    abnormality  1986   5958\n",
       "15    abnormality  1987   1987\n",
       "16    abnormality  1988   1988\n",
       "17    abnormality  1989   3978\n",
       "18    abomination  1980   3960\n",
       "19    abomination  1984   3968\n",
       "20    abomination  1989   1989\n",
       "21  assassination  1980   5940\n",
       "22  assassination  1981  95088\n",
       "23  assassination  1982  69370\n",
       "24  assassination  1983  35694\n",
       "25  assassination  1984  37696\n",
       "26  assassination  1985  15880\n",
       "27  assassination  1986  21846\n",
       "28  assassination  1987  35766\n",
       "29  assassination  1988  19880"
      ]
     },
     "execution_count": 518,
     "metadata": {},
     "output_type": "execute_result"
    }
   ],
   "source": [
    "vocab_per_year = vocabspeeches.groupby(['vocab', 'year'], as_index = False)['year'].sum().reset_index()\n",
    "vocab_per_year.columns = ['vocab', 'year', 'count']\n",
    "vocab_per_year[:30]"
   ]
  },
  {
   "cell_type": "markdown",
   "metadata": {},
   "source": [
    "How many mentions of each word are there across all years? \n",
    "\n",
    "Let's group by just 'vocab' to find out. In this case we will use \n",
    "\n",
    "    .count()\n",
    "    \n",
    "to count the number of rows.  \n",
    "\n",
    "Why are we using .count() and not .sum() here?  Because .sum() assumed a number of counts and then needed to add them.  When we groupby() only one column at a time, we use .count()."
   ]
  },
  {
   "cell_type": "code",
   "execution_count": 525,
   "metadata": {},
   "outputs": [
    {
     "data": {
      "text/html": [
       "<div>\n",
       "<style scoped>\n",
       "    .dataframe tbody tr th:only-of-type {\n",
       "        vertical-align: middle;\n",
       "    }\n",
       "\n",
       "    .dataframe tbody tr th {\n",
       "        vertical-align: top;\n",
       "    }\n",
       "\n",
       "    .dataframe thead th {\n",
       "        text-align: right;\n",
       "    }\n",
       "</style>\n",
       "<table border=\"1\" class=\"dataframe\">\n",
       "  <thead>\n",
       "    <tr style=\"text-align: right;\">\n",
       "      <th></th>\n",
       "      <th>vocab</th>\n",
       "      <th>count</th>\n",
       "    </tr>\n",
       "  </thead>\n",
       "  <tbody>\n",
       "    <tr>\n",
       "      <th>98</th>\n",
       "      <td>job</td>\n",
       "      <td>6069</td>\n",
       "    </tr>\n",
       "    <tr>\n",
       "      <th>29</th>\n",
       "      <td>crime</td>\n",
       "      <td>4811</td>\n",
       "    </tr>\n",
       "    <tr>\n",
       "      <th>23</th>\n",
       "      <td>commission</td>\n",
       "      <td>3568</td>\n",
       "    </tr>\n",
       "    <tr>\n",
       "      <th>143</th>\n",
       "      <td>protection</td>\n",
       "      <td>2975</td>\n",
       "    </tr>\n",
       "    <tr>\n",
       "      <th>128</th>\n",
       "      <td>off</td>\n",
       "      <td>2335</td>\n",
       "    </tr>\n",
       "    <tr>\n",
       "      <th>6</th>\n",
       "      <td>attempt</td>\n",
       "      <td>2327</td>\n",
       "    </tr>\n",
       "    <tr>\n",
       "      <th>5</th>\n",
       "      <td>attack</td>\n",
       "      <td>2277</td>\n",
       "    </tr>\n",
       "    <tr>\n",
       "      <th>195</th>\n",
       "      <td>violation</td>\n",
       "      <td>2011</td>\n",
       "    </tr>\n",
       "    <tr>\n",
       "      <th>199</th>\n",
       "      <td>wrong</td>\n",
       "      <td>1791</td>\n",
       "    </tr>\n",
       "    <tr>\n",
       "      <th>125</th>\n",
       "      <td>murder</td>\n",
       "      <td>1461</td>\n",
       "    </tr>\n",
       "    <tr>\n",
       "      <th>54</th>\n",
       "      <td>fall</td>\n",
       "      <td>1342</td>\n",
       "    </tr>\n",
       "    <tr>\n",
       "      <th>101</th>\n",
       "      <td>kill</td>\n",
       "      <td>1301</td>\n",
       "    </tr>\n",
       "    <tr>\n",
       "      <th>178</th>\n",
       "      <td>technical</td>\n",
       "      <td>1206</td>\n",
       "    </tr>\n",
       "    <tr>\n",
       "      <th>139</th>\n",
       "      <td>play</td>\n",
       "      <td>1188</td>\n",
       "    </tr>\n",
       "    <tr>\n",
       "      <th>103</th>\n",
       "      <td>liberty</td>\n",
       "      <td>1018</td>\n",
       "    </tr>\n",
       "    <tr>\n",
       "      <th>31</th>\n",
       "      <td>damage</td>\n",
       "      <td>1003</td>\n",
       "    </tr>\n",
       "    <tr>\n",
       "      <th>147</th>\n",
       "      <td>remove</td>\n",
       "      <td>1002</td>\n",
       "    </tr>\n",
       "    <tr>\n",
       "      <th>129</th>\n",
       "      <td>offense</td>\n",
       "      <td>867</td>\n",
       "    </tr>\n",
       "    <tr>\n",
       "      <th>186</th>\n",
       "      <td>tribute</td>\n",
       "      <td>692</td>\n",
       "    </tr>\n",
       "    <tr>\n",
       "      <th>92</th>\n",
       "      <td>injury</td>\n",
       "      <td>630</td>\n",
       "    </tr>\n",
       "  </tbody>\n",
       "</table>\n",
       "</div>"
      ],
      "text/plain": [
       "          vocab  count\n",
       "98          job   6069\n",
       "29        crime   4811\n",
       "23   commission   3568\n",
       "143  protection   2975\n",
       "128         off   2335\n",
       "6       attempt   2327\n",
       "5        attack   2277\n",
       "195   violation   2011\n",
       "199       wrong   1791\n",
       "125      murder   1461\n",
       "54         fall   1342\n",
       "101        kill   1301\n",
       "178   technical   1206\n",
       "139        play   1188\n",
       "103     liberty   1018\n",
       "31       damage   1003\n",
       "147      remove   1002\n",
       "129     offense    867\n",
       "186     tribute    692\n",
       "92       injury    630"
      ]
     },
     "execution_count": 525,
     "metadata": {},
     "output_type": "execute_result"
    }
   ],
   "source": [
    "per_vocab_totals = vocabspeeches.groupby(['vocab'])['vocab'].count()\n",
    "\n",
    "#minor reformatting \n",
    "per_vocab_totals = per_vocab_totals.to_frame() # convert the resulting series to a dataframe\n",
    "per_vocab_totals.columns = ['count'] # rename the column 'count'\n",
    "per_vocab_totals = per_vocab_totals.reset_index() # reset the index so that 'vocab' has a column of its own.\n",
    "\n",
    "per_vocab_totals.nlargest(20, ['count'])"
   ]
  },
  {
   "cell_type": "markdown",
   "metadata": {},
   "source": [
    "Let's use .nlargest() to find the five most popular vocab words."
   ]
  },
  {
   "cell_type": "code",
   "execution_count": 526,
   "metadata": {},
   "outputs": [
    {
     "data": {
      "text/plain": [
       "['job', 'crime', 'commission', 'protection', 'off']"
      ]
     },
     "execution_count": 526,
     "metadata": {},
     "output_type": "execute_result"
    }
   ],
   "source": [
    "topvocab = per_vocab_totals.nlargest(5, ['count'])\n",
    "topvocab = list(topvocab['vocab'])\n",
    "topvocab"
   ]
  },
  {
   "cell_type": "markdown",
   "metadata": {},
   "source": [
    "We can use .isin() to filter vocab_per_year for just the instances describing one of the words in topvocab.\n",
    "\n",
    "This produces a list of the top vocabulary words over time.  We're looking at just the top few rows, but the dataframe has word counts for each of the top vocab words for each year in the dataframe."
   ]
  },
  {
   "cell_type": "code",
   "execution_count": 521,
   "metadata": {},
   "outputs": [
    {
     "data": {
      "text/html": [
       "<div>\n",
       "<style scoped>\n",
       "    .dataframe tbody tr th:only-of-type {\n",
       "        vertical-align: middle;\n",
       "    }\n",
       "\n",
       "    .dataframe tbody tr th {\n",
       "        vertical-align: top;\n",
       "    }\n",
       "\n",
       "    .dataframe thead th {\n",
       "        text-align: right;\n",
       "    }\n",
       "</style>\n",
       "<table border=\"1\" class=\"dataframe\">\n",
       "  <thead>\n",
       "    <tr style=\"text-align: right;\">\n",
       "      <th></th>\n",
       "      <th>vocab</th>\n",
       "      <th>year</th>\n",
       "      <th>count</th>\n",
       "    </tr>\n",
       "  </thead>\n",
       "  <tbody>\n",
       "    <tr>\n",
       "      <th>172</th>\n",
       "      <td>commission</td>\n",
       "      <td>1980</td>\n",
       "      <td>542520</td>\n",
       "    </tr>\n",
       "    <tr>\n",
       "      <th>173</th>\n",
       "      <td>commission</td>\n",
       "      <td>1981</td>\n",
       "      <td>572509</td>\n",
       "    </tr>\n",
       "    <tr>\n",
       "      <th>174</th>\n",
       "      <td>commission</td>\n",
       "      <td>1982</td>\n",
       "      <td>556942</td>\n",
       "    </tr>\n",
       "    <tr>\n",
       "      <th>175</th>\n",
       "      <td>commission</td>\n",
       "      <td>1983</td>\n",
       "      <td>1427760</td>\n",
       "    </tr>\n",
       "    <tr>\n",
       "      <th>176</th>\n",
       "      <td>commission</td>\n",
       "      <td>1984</td>\n",
       "      <td>712256</td>\n",
       "    </tr>\n",
       "  </tbody>\n",
       "</table>\n",
       "</div>"
      ],
      "text/plain": [
       "          vocab  year    count\n",
       "172  commission  1980   542520\n",
       "173  commission  1981   572509\n",
       "174  commission  1982   556942\n",
       "175  commission  1983  1427760\n",
       "176  commission  1984   712256"
      ]
     },
     "execution_count": 521,
     "metadata": {},
     "output_type": "execute_result"
    }
   ],
   "source": [
    "topvocabperyear = vocab_per_year[vocab_per_year['vocab'].isin(topvocab)]\n",
    "topvocabperyear[:5]"
   ]
  },
  {
   "cell_type": "markdown",
   "metadata": {},
   "source": [
    "## Visualize the top vocab words over time"
   ]
  },
  {
   "cell_type": "markdown",
   "metadata": {},
   "source": [
    "\n",
    "\n",
    "In the visualization that follows, we're going to create a scatter-plot of dots, where one dot shows how many times a word appears per month_year. We'll color the dots a different color for each word. Notice the plt.scatter() command, which tells matplotlib to use a scatterplot.\n",
    "\n",
    "Creating complex plots of this kind sometimes involves writing a for loop where we're essentially layering a new plot for each word and changing the color each time. See if you can understand the for loop to add new colors for each individual word -- that's essentially the only new thing about this graph.\n"
   ]
  },
  {
   "cell_type": "code",
   "execution_count": 522,
   "metadata": {},
   "outputs": [
    {
     "data": {
      "image/png": "[encoded data removed]",
      "text/plain": [
       "<Figure size 2400x1800 with 1 Axes>"
      ]
     },
     "metadata": {
      "needs_background": "light"
     },
     "output_type": "display_data"
    }
   ],
   "source": [
    "from matplotlib import pyplot as plt\n",
    "from matplotlib.pyplot import figure\n",
    "\n",
    "%matplotlib inline\n",
    "\n",
    "figure(figsize=(8, 6), dpi=300)\n",
    "\n",
    "# style\n",
    "plt.style.use('seaborn-darkgrid') # this gives us a grid with a dark background.  you can play with this to change the style.\n",
    "  \n",
    "# create a color palette\n",
    "palette = plt.get_cmap('Set3') # this tells matplotlib what colors to use.  you can play with this to change the colors.\n",
    " \n",
    "# multiple line plot\n",
    "num=0\n",
    "\n",
    "# this is the for loop that creates multiple plots\n",
    "for word in set(topvocabperyear['vocab']):\n",
    "    num+=1 # for each new word, the counter 'num' changes \n",
    "    plt.plot(topvocabperyear.loc[topvocabperyear['vocab'] == word, 'year'], # x axis \n",
    "             topvocabperyear.loc[topvocabperyear['vocab'] == word, 'count'],  # y axis\n",
    "             color=palette(num), linewidth=1, alpha=0.7, label=word) # num tells the plot to choose a different color this time\n",
    "\n",
    "# Add legend\n",
    "plt.legend(loc=2, ncol=2)\n",
    "plt.xticks(rotation=90)\n",
    " \n",
    "# Add titles\n",
    "plt.title(\"Top Words Over Time\", loc='left', fontsize=30, fontweight=0, color='Red')\n",
    "plt.xlabel(\"Year\")\n",
    "plt.ylabel(\"Wordcount\")\n",
    "\n",
    "plt.show()\n",
    "\n"
   ]
  },
  {
   "cell_type": "markdown",
   "metadata": {
    "id": "mKowCOMMtOIB"
   },
   "source": [
    "#### Digression on date formats\n",
    "\n",
    "In the code above, we've used 'year' as our only date.  If we wanted to plot information by month, we'd need to do some reformatting.\n",
    "\n",
    "Matplotlib likes data in the format y-m-d or d-m-y, not month_year. \n",
    "\n",
    "Fortunately, the datetime package can hep us to regularize the dates.\n",
    "\n",
    "Here's the formula for date formatting to make Matplotlib happy."
   ]
  },
  {
   "cell_type": "code",
   "execution_count": 523,
   "metadata": {
    "id": "U01wg-LctOIE"
   },
   "outputs": [
    {
     "ename": "AttributeError",
     "evalue": "'DataFrame' object has no attribute 'month_year'",
     "output_type": "error",
     "traceback": [
      "\u001b[0;31m---------------------------------------------------------------------------\u001b[0m",
      "\u001b[0;31mAttributeError\u001b[0m                            Traceback (most recent call last)",
      "\u001b[0;32m<ipython-input-523-0ad27e8cd4c4>\u001b[0m in \u001b[0;36m<module>\u001b[0;34m\u001b[0m\n\u001b[1;32m      1\u001b[0m \u001b[0;31m# convert month-year back to date format for easier plotting\u001b[0m\u001b[0;34m\u001b[0m\u001b[0;34m\u001b[0m\u001b[0;34m\u001b[0m\u001b[0m\n\u001b[0;32m----> 2\u001b[0;31m \u001b[0mcongress\u001b[0m\u001b[0;34m[\u001b[0m\u001b[0;34m'month_year'\u001b[0m\u001b[0;34m]\u001b[0m \u001b[0;34m=\u001b[0m\u001b[0mcongress\u001b[0m\u001b[0;34m.\u001b[0m\u001b[0mmonth_year\u001b[0m\u001b[0;34m.\u001b[0m\u001b[0mvalues\u001b[0m\u001b[0;34m.\u001b[0m\u001b[0mastype\u001b[0m\u001b[0;34m(\u001b[0m\u001b[0;34m'datetime64[M]'\u001b[0m\u001b[0;34m)\u001b[0m\u001b[0;34m\u001b[0m\u001b[0;34m\u001b[0m\u001b[0m\n\u001b[0m",
      "\u001b[0;32m/hpc/applications/anaconda/3/lib/python3.6/site-packages/pandas/core/generic.py\u001b[0m in \u001b[0;36m__getattr__\u001b[0;34m(self, name)\u001b[0m\n\u001b[1;32m   5177\u001b[0m             \u001b[0;32mif\u001b[0m \u001b[0mself\u001b[0m\u001b[0;34m.\u001b[0m\u001b[0m_info_axis\u001b[0m\u001b[0;34m.\u001b[0m\u001b[0m_can_hold_identifiers_and_holds_name\u001b[0m\u001b[0;34m(\u001b[0m\u001b[0mname\u001b[0m\u001b[0;34m)\u001b[0m\u001b[0;34m:\u001b[0m\u001b[0;34m\u001b[0m\u001b[0;34m\u001b[0m\u001b[0m\n\u001b[1;32m   5178\u001b[0m                 \u001b[0;32mreturn\u001b[0m \u001b[0mself\u001b[0m\u001b[0;34m[\u001b[0m\u001b[0mname\u001b[0m\u001b[0;34m]\u001b[0m\u001b[0;34m\u001b[0m\u001b[0;34m\u001b[0m\u001b[0m\n\u001b[0;32m-> 5179\u001b[0;31m             \u001b[0;32mreturn\u001b[0m \u001b[0mobject\u001b[0m\u001b[0;34m.\u001b[0m\u001b[0m__getattribute__\u001b[0m\u001b[0;34m(\u001b[0m\u001b[0mself\u001b[0m\u001b[0;34m,\u001b[0m \u001b[0mname\u001b[0m\u001b[0;34m)\u001b[0m\u001b[0;34m\u001b[0m\u001b[0;34m\u001b[0m\u001b[0m\n\u001b[0m\u001b[1;32m   5180\u001b[0m \u001b[0;34m\u001b[0m\u001b[0m\n\u001b[1;32m   5181\u001b[0m     \u001b[0;32mdef\u001b[0m \u001b[0m__setattr__\u001b[0m\u001b[0;34m(\u001b[0m\u001b[0mself\u001b[0m\u001b[0;34m,\u001b[0m \u001b[0mname\u001b[0m\u001b[0;34m,\u001b[0m \u001b[0mvalue\u001b[0m\u001b[0;34m)\u001b[0m\u001b[0;34m:\u001b[0m\u001b[0;34m\u001b[0m\u001b[0;34m\u001b[0m\u001b[0m\n",
      "\u001b[0;31mAttributeError\u001b[0m: 'DataFrame' object has no attribute 'month_year'"
     ]
    }
   ],
   "source": [
    "# convert month-year back to date format for easier plotting\n",
    "congress['month_year'] =congress.month_year.values.astype('datetime64[M]')"
   ]
  },
  {
   "cell_type": "markdown",
   "metadata": {
    "id": "SKdYOOKwtOIL"
   },
   "source": [
    "# Get proportions"
   ]
  },
  {
   "cell_type": "markdown",
   "metadata": {},
   "source": [
    "Let's quickly think about measuring the proportions of each word over time.  \n"
   ]
  },
  {
   "cell_type": "markdown",
   "metadata": {},
   "source": [
    "#### Count how many words were spoken overall per year.\n",
    "\n",
    "To measure the proportions, rather than the word count, we need to know how many times each word was spoken overall in Congress each year.\n",
    "\n",
    "We will use \n",
    "\n",
    "    .groupby()\n",
    "    .sum()\n",
    "\n",
    "plus some minor reformatting:\n",
    "\n",
    "    .reset_index()"
   ]
  },
  {
   "cell_type": "code",
   "execution_count": null,
   "metadata": {},
   "outputs": [],
   "source": [
    "congress = pd.read_csv(\"eighties_data.csv\")\n",
    "\n",
    "word_per_year_counts = congress.groupby(['year']).sum().copy() \n",
    "\n",
    "word_per_year_counts = word_per_year_counts[['word_count']].copy()\n",
    "\n",
    "word_per_year_counts.reset_index(level=0, inplace=True)\n",
    "\n",
    "word_per_year_counts"
   ]
  },
  {
   "cell_type": "markdown",
   "metadata": {},
   "source": [
    "What was the maximum number of words spoken in Congress at this time?"
   ]
  },
  {
   "cell_type": "code",
   "execution_count": null,
   "metadata": {},
   "outputs": [],
   "source": [
    "max(word_per_year_counts['word_count'])"
   ]
  },
  {
   "cell_type": "code",
   "execution_count": null,
   "metadata": {},
   "outputs": [],
   "source": [
    "word_per_year_counts.head()"
   ]
  },
  {
   "cell_type": "markdown",
   "metadata": {},
   "source": [
    "To count words per month we'd use this:"
   ]
  },
  {
   "cell_type": "code",
   "execution_count": null,
   "metadata": {},
   "outputs": [],
   "source": [
    "words_per_month_counts = congress.groupby(['month_year']).sum()\n",
    "words_per_month_counts = words_per_month_counts[['word_count']].copy() \n",
    "words_per_month_counts.reset_index(level=0, inplace=True)\n",
    "words_per_month_counts['year'] = pd.to_datetime(words_per_month_counts['month_year']).dt.year # now we can make a column for just the year \n",
    "words_per_month_counts"
   ]
  },
  {
   "cell_type": "markdown",
   "metadata": {},
   "source": [
    "#### Quick Diversion: Graphing Wordcount Over Time"
   ]
  },
  {
   "cell_type": "markdown",
   "metadata": {
    "id": "3P--mnJdtOGz"
   },
   "source": [
    "Let's represent change over time by graphing the counts over months. "
   ]
  },
  {
   "cell_type": "markdown",
   "metadata": {
    "id": "zFz6Mhp2tOG0"
   },
   "source": [
    "Sometimes it's useful when working with dates to create an 'index' for the dataframe, which in this case will be used by matplotlib to decide which dates will be labeled."
   ]
  },
  {
   "cell_type": "code",
   "execution_count": null,
   "metadata": {
    "id": "g8DXgHuftOG1"
   },
   "outputs": [],
   "source": [
    "import matplotlib.pyplot as plt\n",
    "\n",
    "%matplotlib inline"
   ]
  },
  {
   "cell_type": "code",
   "execution_count": null,
   "metadata": {
    "colab": {
     "base_uri": "https://localhost:8080/",
     "height": 269
    },
    "id": "AmI2S_RQtOG3",
    "outputId": "f105c3c5-32c9-47da-eaee-62e4649e7d24"
   },
   "outputs": [],
   "source": [
    "\n",
    "plt.rcParams['figure.figsize'] = [10, 5] # make the vis larger so it's easier to see \n",
    "\n",
    "a = words_per_month_counts.plot.bar(x = \"year\", y = \"word_count\", title = \"Words per Month in Congress\") # assign columns from the panda's DataFrame to the X and Y axis. \n",
    "\n",
    "# the following code makes all tick labels invisible, and then makes visible\n",
    "# every 12th (since there are 12 months in a year)\n",
    "\n",
    "plt.setp(a.get_xticklabels()[::1], visible=False)\n",
    "plt.setp(a.get_xticklabels()[::24], visible=True)\n",
    "\n",
    "a"
   ]
  },
  {
   "cell_type": "markdown",
   "metadata": {
    "id": "tfWjmEm6tOHF"
   },
   "source": [
    "In this representation we can see that there's a lot of variation of how much Congress spoke and when.   Notice that there's a huge amount of variation -- from almost nothing to quite a lot.  These variations can create trouble for us if we aren't careful!"
   ]
  },
  {
   "cell_type": "markdown",
   "metadata": {},
   "source": [
    "#### Proportion = count of the vocabulary words / count of all words"
   ]
  },
  {
   "cell_type": "markdown",
   "metadata": {},
   "source": [
    "To calculate the proportions of our controlled vocab, we need to divide the count of vocab words over the count of all words:\n",
    "\n",
    "    count of the vocabulary words / count of all words\n",
    "\n",
    "The problem is that our vocab counts live in one dataframe -- topvocabperyear -- where our overall word counts for congress life in another dataframe -- word_per_year_counts.\n",
    "\n",
    "We need to 'merge' two dataframes so that we have information about each year in the same dataframe as the per-year count of our top vocab words.   We'll use the function\n",
    "\n",
    "    pd.merge(a, b)\n",
    "\n",
    "-- which takes two objects, a and b, each of which are a dataframe.\n",
    "    "
   ]
  },
  {
   "cell_type": "markdown",
   "metadata": {
    "id": "6ei9F3DKtOIV"
   },
   "source": [
    "The technical word for the kind of 'merge' we will perform is an \"inner join.\"  Notice this command:\n",
    "\n",
    "    how = 'inner'\n",
    "\n",
    "You can picture an inner join like the area at the center of a venn diagram: in this case, both dataframes share the column month_year.  So we can tell python to paste them together using month_year.\n",
    "\n",
    "We also tell pd.merge() which columns to use\n",
    "\n",
    "    left_on='year'\n",
    "    right_on='year'"
   ]
  },
  {
   "cell_type": "code",
   "execution_count": null,
   "metadata": {
    "id": "RBkr7URUtOIW"
   },
   "outputs": [],
   "source": [
    "top_vocab_w_per_year = pd.merge(topvocabperyear, word_per_year_counts,how='inner', left_on='year', right_on='year')\n",
    "\n",
    "top_vocab_w_per_year.head()"
   ]
  },
  {
   "cell_type": "markdown",
   "metadata": {
    "id": "mlDl7hs9tOIX"
   },
   "source": [
    "Now that we have the count of each word (\"count\") in the same dataframe as the count of all words per month_year (\"word_count\"), we can find out what proportion of speech per month_year is represented by each word."
   ]
  },
  {
   "cell_type": "code",
   "execution_count": null,
   "metadata": {
    "id": "SrVYpOVhtOIY"
   },
   "outputs": [],
   "source": [
    "top_vocab_w_per_year['proportion'] = top_vocab_w_per_year['count']/top_vocab_w_per_year['word_count']\n",
    "top_vocab_w_per_year[:10]"
   ]
  },
  {
   "cell_type": "markdown",
   "metadata": {
    "id": "SVQARfZktOIe"
   },
   "source": [
    "Notice that the numbers in the \"proportion\" column are really small.  They represent proportions.\n",
    "\n",
    "Remember what a proportion is: it's a cut of the pie.  If we had all the counts for every word in the dataset, those proportions would add up to 1.  \n",
    "\n",
    "We can represent proportions as percentages: if the word \"murder\" has the proportion .0314, that means that 'murder' is appears 3.14% of the time.  \n",
    "\n",
    "Knowing what the proportion means and talking about it accurately is an important part of doing data science correctly.  \n",
    "Understanding proportion also means that we will take steps to make sure that any graph based on proportions represents those measures as percentages and labels them correctly."
   ]
  },
  {
   "cell_type": "markdown",
   "metadata": {
    "id": "d_3sg6CDtOIg"
   },
   "source": [
    "## Line chart with proportions"
   ]
  },
  {
   "cell_type": "markdown",
   "metadata": {
    "id": "ZNK4PD0AtOIh"
   },
   "source": [
    "There are only a few ways that the proportion chart differs from the raw count chart.  Can you find them all?"
   ]
  },
  {
   "cell_type": "code",
   "execution_count": null,
   "metadata": {
    "id": "w4Mz7NBltOIm"
   },
   "outputs": [],
   "source": [
    "plt.clf() # <-- clears out the earlier plot\n",
    "\n",
    "%matplotlib inline\n",
    "import matplotlib.ticker as ticker # <--- notice that we're importing a new ticker function \n",
    "\n",
    "figure(figsize=(8, 6), dpi=300)\n",
    "\n",
    "\n",
    "# style\n",
    "plt.style.use('seaborn-darkgrid')\n",
    " \n",
    "# create a color palette\n",
    "palette = plt.get_cmap('Set3')\n",
    " \n",
    "# multiple line plot\n",
    "num=0\n",
    "\n",
    "\n",
    "for word in set(top_vocab_w_per_year['vocab']):\n",
    "    num+=1\n",
    "    plt.scatter(top_vocab_w_per_year.loc[top_vocab_w_per_year['vocab'] == word, 'year'], # x axis \n",
    "             top_vocab_w_per_year.loc[top_vocab_w_per_year['vocab'] == word, 'proportion'],  # y axis\n",
    "             color=palette(num), linewidth=1, alpha=0.5, label=word)\n",
    "\n",
    "# Add legend\n",
    "plt.legend(loc=2, ncol=2)\n",
    "plt.xticks(rotation=90)\n",
    " \n",
    "# Add titles\n",
    "plt.title(\"Top Words Over Time by Proportion\", loc='left', fontsize=30, fontweight=0, color='red')\n",
    "plt.xlabel(\"Time\")\n",
    "plt.ylabel(\"Proportion\") # <--- Notice that I've re-labeled the title and y-axis\n",
    "plt.gca().yaxis.set_major_formatter(ticker.PercentFormatter()) # <--- This tells matplotlib that we're dealing with percentages\n",
    "#plt.tick_params(axis='both',labelsize=14)\n",
    "\n",
    "plt.show()\n"
   ]
  },
  {
   "cell_type": "markdown",
   "metadata": {},
   "source": [
    "#### Dots not Lines?\n",
    "\n",
    "Notice that this time I made a \"dot plot\", or \"scatter plot\", by switching out  plt.scatter() for plt.plot().  Which one is easier to read?  \n",
    "*Edit the code above back to switch the visualization to a line chart.*\n",
    "\n",
    "It will be your responsibility moving forward to choose the kind of dataviz that most cleanly and easily conveys informatino about your data.\n",
    "\n",
    "Matplotlib has lots of different visualization styles to choose from. You can learn more by consulting a tutorial:\n",
    "    \n",
    "    https://github.com/rougier/matplotlib-tutorial"
   ]
  },
  {
   "cell_type": "markdown",
   "metadata": {
    "id": "3bXqXh0ptOIu"
   },
   "source": [
    "#### How are Proportions different than Counts?\n",
    "\n",
    "How do the results of analyzing count and proportion compare? Sometimes taking the proportion can make a big difference.  \n",
    "\n",
    "For instance, if Congress simply met more frequently in particular years, that might produce an artificial burst of the count of 'murder,' even though the proportion of 'murder' was actually smaller.\n",
    "\n",
    "It's important for data analysts to know what they are looking at and to use proportion intelligently to correct for artificial distortions in word count."
   ]
  },
  {
   "cell_type": "markdown",
   "metadata": {},
   "source": [
    "## Assignment (working in groups)\n",
    "\n",
    "1) Do you like the results? Are they meaningful? Recall that in an earlier notebook we discussed the importance of stopwording out ambiguous words from your controlled vocabulary search.  Revisit this problem and stopword out any words with multiple meanings such that the word count is likely to not be meaningful.  Recreate the proportion over time visualization with better stopwords.\n",
    "2) Group by speaker and year and find out how many times each speaker used each of the top vocab words by raw count. Make a visualization.\n",
    "3) Make a visualization of just the words per year for one speaker by proportion.  \n",
    "4) Cut and paste code from the wordnet package to find a new expanded vocabulary of words relating to some current event -- for instance, hurricanes, infrastructure, public health, education, or some related issue.  Cut and paste code from this assignment so that you have a neat series of lines of code that clean and lemmatize Congressional speeches, search them for a controlled vocabulary, perform counts and proportions, and graph the proportion counts.  Apply this to your new wordnet vocabulary.  \n",
    "5) Recreate task #4 with data from your data challenge.\n",
    "\n",
    "Upload five visualizations to Canvas."
   ]
  },
  {
   "cell_type": "code",
   "execution_count": null,
   "metadata": {},
   "outputs": [],
   "source": []
  }
 ],
 "metadata": {
  "kernelspec": {
   "display_name": "Python 3",
   "language": "python",
   "name": "python3"
  },
  "language_info": {
   "codemirror_mode": {
    "name": "ipython",
    "version": 3
   },
   "file_extension": ".py",
   "mimetype": "text/x-python",
   "name": "python",
   "nbconvert_exporter": "python",
   "pygments_lexer": "ipython3",
   "version": "3.6.7"
  }
 },
 "nbformat": 4,
 "nbformat_minor": 4
}
