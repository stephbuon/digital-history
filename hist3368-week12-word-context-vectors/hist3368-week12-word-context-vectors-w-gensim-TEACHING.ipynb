{
 "cells": [
  {
   "cell_type": "markdown",
   "metadata": {},
   "source": [
    "For citation information, please see the \"Source Information\" section listed in the associated README file: https://github.com/stephbuon/digital-history/tree/master/hist3368-week12-word-context-vectors"
   ]
  },
  {
   "cell_type": "markdown",
   "metadata": {},
   "source": [
    "# Hist 3368 - Week 12: Word Context Vectors with Gensim"
   ]
  },
  {
   "cell_type": "markdown",
   "metadata": {},
   "source": [
    "## Teaching Version"
   ]
  },
  {
   "cell_type": "markdown",
   "metadata": {},
   "source": [
    "#### By Jo Guldi"
   ]
  },
  {
   "cell_type": "code",
   "execution_count": 1,
   "metadata": {},
   "outputs": [],
   "source": [
    "import pandas as pd\n",
    "import csv\n",
    "import glob\n",
    "import numpy as np\n",
    "from sklearn.feature_extraction.text import CountVectorizer\n",
    "import scipy.spatial.distance\n",
    "import matplotlib\n",
    "import matplotlib.pyplot as plt\n",
    "import itertools\n",
    "from nltk.tokenize import sent_tokenize\n",
    "from nltk.tokenize.treebank import TreebankWordTokenizer"
   ]
  },
  {
   "cell_type": "code",
   "execution_count": 2,
   "metadata": {},
   "outputs": [],
   "source": [
    "tokenizer = TreebankWordTokenizer()\n",
    "\n",
    "def make_sentences(text):\n",
    "    preprocessed_text = []\n",
    "    for line in text:\n",
    "        lower_case = line.lower()\n",
    "        sentences = sent_tokenize(lower_case)\n",
    "        tokenized_sentences = [tokenizer.tokenize(sent) for sent in sentences]\n",
    "        preprocessed_text += tokenized_sentences\n",
    "    return preprocessed_text"
   ]
  },
  {
   "cell_type": "markdown",
   "metadata": {},
   "source": [
    "#### Load some Data"
   ]
  },
  {
   "cell_type": "code",
   "execution_count": 3,
   "metadata": {},
   "outputs": [
    {
     "name": "stdout",
     "output_type": "stream",
     "text": [
      "/scratch/group/history/hist_3368-jguldi\n"
     ]
    }
   ],
   "source": [
    "cd /scratch/group/history/hist_3368-jguldi"
   ]
  },
  {
   "cell_type": "code",
   "execution_count": 4,
   "metadata": {},
   "outputs": [],
   "source": [
    "congress = pd.read_csv(\"congress1967-2010.csv\")\n",
    "all_data = congress[congress['year'] >= 1967]\n",
    "all_data = congress[congress['year'] <= 1983]\n",
    "#congress = pd.read_csv(\"eighties_data.csv\")"
   ]
  },
  {
   "cell_type": "code",
   "execution_count": 5,
   "metadata": {},
   "outputs": [
    {
     "data": {
      "text/html": [
       "<div>\n",
       "<style scoped>\n",
       "    .dataframe tbody tr th:only-of-type {\n",
       "        vertical-align: middle;\n",
       "    }\n",
       "\n",
       "    .dataframe tbody tr th {\n",
       "        vertical-align: top;\n",
       "    }\n",
       "\n",
       "    .dataframe thead th {\n",
       "        text-align: right;\n",
       "    }\n",
       "</style>\n",
       "<table border=\"1\" class=\"dataframe\">\n",
       "  <thead>\n",
       "    <tr style=\"text-align: right;\">\n",
       "      <th></th>\n",
       "      <th>Unnamed: 0</th>\n",
       "      <th>Unnamed: 0.1</th>\n",
       "      <th>speech</th>\n",
       "      <th>date</th>\n",
       "      <th>speaker</th>\n",
       "      <th>word_count</th>\n",
       "      <th>year</th>\n",
       "      <th>month</th>\n",
       "      <th>month_year</th>\n",
       "    </tr>\n",
       "  </thead>\n",
       "  <tbody>\n",
       "    <tr>\n",
       "      <th>0</th>\n",
       "      <td>0</td>\n",
       "      <td>0</td>\n",
       "      <td>Those who do not enjoy the privilege of the fl...</td>\n",
       "      <td>1967-01-10</td>\n",
       "      <td>The VICE PRESIDENT</td>\n",
       "      <td>16</td>\n",
       "      <td>1967</td>\n",
       "      <td>1</td>\n",
       "      <td>1967-01-01</td>\n",
       "    </tr>\n",
       "    <tr>\n",
       "      <th>1</th>\n",
       "      <td>1</td>\n",
       "      <td>1</td>\n",
       "      <td>Mr. President. on the basis of an agreement re...</td>\n",
       "      <td>1967-01-10</td>\n",
       "      <td>Mr. MANSFIELD</td>\n",
       "      <td>35</td>\n",
       "      <td>1967</td>\n",
       "      <td>1</td>\n",
       "      <td>1967-01-01</td>\n",
       "    </tr>\n",
       "    <tr>\n",
       "      <th>2</th>\n",
       "      <td>2</td>\n",
       "      <td>2</td>\n",
       "      <td>The Members of the Senate have heard the remar...</td>\n",
       "      <td>1967-01-10</td>\n",
       "      <td>The VICE PRESIDENT</td>\n",
       "      <td>40</td>\n",
       "      <td>1967</td>\n",
       "      <td>1</td>\n",
       "      <td>1967-01-01</td>\n",
       "    </tr>\n",
       "    <tr>\n",
       "      <th>3</th>\n",
       "      <td>3</td>\n",
       "      <td>3</td>\n",
       "      <td>The Chair lays before the Senate the following...</td>\n",
       "      <td>1967-01-10</td>\n",
       "      <td>The VICE PRESIDENT</td>\n",
       "      <td>151</td>\n",
       "      <td>1967</td>\n",
       "      <td>1</td>\n",
       "      <td>1967-01-01</td>\n",
       "    </tr>\n",
       "    <tr>\n",
       "      <th>4</th>\n",
       "      <td>4</td>\n",
       "      <td>4</td>\n",
       "      <td>Secretary of State.</td>\n",
       "      <td>1967-01-10</td>\n",
       "      <td>Mrs. AGNES BAGGETT</td>\n",
       "      <td>3</td>\n",
       "      <td>1967</td>\n",
       "      <td>1</td>\n",
       "      <td>1967-01-01</td>\n",
       "    </tr>\n",
       "  </tbody>\n",
       "</table>\n",
       "</div>"
      ],
      "text/plain": [
       "   Unnamed: 0  Unnamed: 0.1  \\\n",
       "0           0             0   \n",
       "1           1             1   \n",
       "2           2             2   \n",
       "3           3             3   \n",
       "4           4             4   \n",
       "\n",
       "                                              speech        date  \\\n",
       "0  Those who do not enjoy the privilege of the fl...  1967-01-10   \n",
       "1  Mr. President. on the basis of an agreement re...  1967-01-10   \n",
       "2  The Members of the Senate have heard the remar...  1967-01-10   \n",
       "3  The Chair lays before the Senate the following...  1967-01-10   \n",
       "4                                Secretary of State.  1967-01-10   \n",
       "\n",
       "              speaker  word_count  year  month  month_year  \n",
       "0  The VICE PRESIDENT          16  1967      1  1967-01-01  \n",
       "1       Mr. MANSFIELD          35  1967      1  1967-01-01  \n",
       "2  The VICE PRESIDENT          40  1967      1  1967-01-01  \n",
       "3  The VICE PRESIDENT         151  1967      1  1967-01-01  \n",
       "4  Mrs. AGNES BAGGETT           3  1967      1  1967-01-01  "
      ]
     },
     "execution_count": 5,
     "metadata": {},
     "output_type": "execute_result"
    }
   ],
   "source": [
    "all_data[:5]"
   ]
  },
  {
   "cell_type": "code",
   "execution_count": 6,
   "metadata": {},
   "outputs": [
    {
     "name": "stderr",
     "output_type": "stream",
     "text": [
      "/hpc/applications/anaconda/3/lib/python3.6/site-packages/ipykernel_launcher.py:1: SettingWithCopyWarning: \n",
      "A value is trying to be set on a copy of a slice from a DataFrame.\n",
      "Try using .loc[row_indexer,col_indexer] = value instead\n",
      "\n",
      "See the caveats in the documentation: http://pandas.pydata.org/pandas-docs/stable/user_guide/indexing.html#returning-a-view-versus-a-copy\n",
      "  \"\"\"Entry point for launching an IPython kernel.\n"
     ]
    }
   ],
   "source": [
    "all_data['5yrperiod'] = np.floor(all_data['year'] / 5) * 5 # round each year to the nearest 5 -- by dividing by 5 and \"flooring\" to the lowest integer\n",
    "all_data = all_data.drop(['date', 'year', 'speaker','Unnamed: 0', 'Unnamed: 0.1', 'word_count', 'month'], 1)"
   ]
  },
  {
   "cell_type": "code",
   "execution_count": 7,
   "metadata": {},
   "outputs": [],
   "source": [
    "all_data['index'] = np.arange(len(all_data)) # create an 'index' column"
   ]
  },
  {
   "cell_type": "code",
   "execution_count": 8,
   "metadata": {
    "id": "atQkz5HhtOFo",
    "outputId": "cff96380-af39-4402-a9c2-a5c97c547fc5"
   },
   "outputs": [
    {
     "data": {
      "text/html": [
       "<div>\n",
       "<style scoped>\n",
       "    .dataframe tbody tr th:only-of-type {\n",
       "        vertical-align: middle;\n",
       "    }\n",
       "\n",
       "    .dataframe tbody tr th {\n",
       "        vertical-align: top;\n",
       "    }\n",
       "\n",
       "    .dataframe thead th {\n",
       "        text-align: right;\n",
       "    }\n",
       "</style>\n",
       "<table border=\"1\" class=\"dataframe\">\n",
       "  <thead>\n",
       "    <tr style=\"text-align: right;\">\n",
       "      <th></th>\n",
       "      <th>speech</th>\n",
       "      <th>month_year</th>\n",
       "      <th>5yrperiod</th>\n",
       "      <th>index</th>\n",
       "    </tr>\n",
       "  </thead>\n",
       "  <tbody>\n",
       "    <tr>\n",
       "      <th>0</th>\n",
       "      <td>Those who do not enjoy the privilege of the fl...</td>\n",
       "      <td>1967-01-01</td>\n",
       "      <td>1965.0</td>\n",
       "      <td>0</td>\n",
       "    </tr>\n",
       "    <tr>\n",
       "      <th>1</th>\n",
       "      <td>Mr. President. on the basis of an agreement re...</td>\n",
       "      <td>1967-01-01</td>\n",
       "      <td>1965.0</td>\n",
       "      <td>1</td>\n",
       "    </tr>\n",
       "    <tr>\n",
       "      <th>2</th>\n",
       "      <td>The Members of the Senate have heard the remar...</td>\n",
       "      <td>1967-01-01</td>\n",
       "      <td>1965.0</td>\n",
       "      <td>2</td>\n",
       "    </tr>\n",
       "    <tr>\n",
       "      <th>3</th>\n",
       "      <td>The Chair lays before the Senate the following...</td>\n",
       "      <td>1967-01-01</td>\n",
       "      <td>1965.0</td>\n",
       "      <td>3</td>\n",
       "    </tr>\n",
       "    <tr>\n",
       "      <th>4</th>\n",
       "      <td>Secretary of State.</td>\n",
       "      <td>1967-01-01</td>\n",
       "      <td>1965.0</td>\n",
       "      <td>4</td>\n",
       "    </tr>\n",
       "  </tbody>\n",
       "</table>\n",
       "</div>"
      ],
      "text/plain": [
       "                                              speech  month_year  5yrperiod  \\\n",
       "0  Those who do not enjoy the privilege of the fl...  1967-01-01     1965.0   \n",
       "1  Mr. President. on the basis of an agreement re...  1967-01-01     1965.0   \n",
       "2  The Members of the Senate have heard the remar...  1967-01-01     1965.0   \n",
       "3  The Chair lays before the Senate the following...  1967-01-01     1965.0   \n",
       "4                                Secretary of State.  1967-01-01     1965.0   \n",
       "\n",
       "   index  \n",
       "0      0  \n",
       "1      1  \n",
       "2      2  \n",
       "3      3  \n",
       "4      4  "
      ]
     },
     "execution_count": 8,
     "metadata": {},
     "output_type": "execute_result"
    }
   ],
   "source": [
    "all_data.head()"
   ]
  },
  {
   "cell_type": "markdown",
   "metadata": {},
   "source": [
    "#### Downsample"
   ]
  },
  {
   "cell_type": "code",
   "execution_count": 9,
   "metadata": {},
   "outputs": [],
   "source": [
    "sample_l = all_data.sample(500000)\n",
    "sample_m = sample_l.sample(50000)\n",
    "sample = sample_m.sample(5000)"
   ]
  },
  {
   "cell_type": "markdown",
   "metadata": {},
   "source": [
    "## Introducing Gensim, a Tool for Studying Word Embeddings"
   ]
  },
  {
   "cell_type": "code",
   "execution_count": 14,
   "metadata": {},
   "outputs": [],
   "source": [
    "sentences_m = make_sentences(sample_m['speech']).copy() # <---- switch out sample_l to all_data, sample_s or sample_m here"
   ]
  },
  {
   "cell_type": "code",
   "execution_count": 15,
   "metadata": {},
   "outputs": [
    {
     "data": {
      "text/plain": [
       "[['four', 'or', 'three', '?'], ['secretary', 'laird', '.']]"
      ]
     },
     "execution_count": 15,
     "metadata": {},
     "output_type": "execute_result"
    }
   ],
   "source": [
    "sentences_m[:2]"
   ]
  },
  {
   "cell_type": "code",
   "execution_count": 13,
   "metadata": {},
   "outputs": [],
   "source": [
    "import gensim "
   ]
  },
  {
   "cell_type": "code",
   "execution_count": 16,
   "metadata": {},
   "outputs": [],
   "source": [
    "congress_model = gensim.models.Word2Vec(\n",
    "    sentences = sentences_m,\n",
    "    min_count = 2, # remove words stated only once\n",
    "    size = 100) # size of neuralnet layers; default is 100; higher for larger corpora"
   ]
  },
  {
   "cell_type": "code",
   "execution_count": 58,
   "metadata": {},
   "outputs": [],
   "source": [
    "#congress_model.save('congress_model')"
   ]
  },
  {
   "cell_type": "code",
   "execution_count": 59,
   "metadata": {},
   "outputs": [],
   "source": [
    "#congress_model = gensim.models.Word2Vec.load('congress_model') "
   ]
  },
  {
   "cell_type": "markdown",
   "metadata": {},
   "source": [
    "#### Find the CONTEXT for One Word"
   ]
  },
  {
   "cell_type": "code",
   "execution_count": 17,
   "metadata": {},
   "outputs": [
    {
     "data": {
      "text/plain": [
       "[('man', 1.0),\n",
       " ('woman', 0.7686609625816345),\n",
       " ('lawyer', 0.7310620546340942),\n",
       " ('person', 0.7212985754013062),\n",
       " ('lady', 0.6881502866744995),\n",
       " ('politician', 0.686683177947998),\n",
       " ('mother', 0.6794568300247192),\n",
       " ('statesman', 0.6598316431045532),\n",
       " ('soldier', 0.6578181982040405),\n",
       " ('symbol', 0.6496400833129883)]"
      ]
     },
     "execution_count": 17,
     "metadata": {},
     "output_type": "execute_result"
    }
   ],
   "source": [
    "man_vector = congress_model.wv['man']\n",
    "congress_model.wv.similar_by_vector(man_vector)"
   ]
  },
  {
   "cell_type": "code",
   "execution_count": 18,
   "metadata": {},
   "outputs": [
    {
     "data": {
      "text/plain": [
       "[('woman', 1.0),\n",
       " ('man', 0.7686609625816345),\n",
       " ('soldier', 0.7637701630592346),\n",
       " ('doctor', 0.7353074550628662),\n",
       " ('lawyer', 0.7327905893325806),\n",
       " ('mother', 0.7296563386917114),\n",
       " ('politician', 0.7281454801559448),\n",
       " ('person', 0.7227122783660889),\n",
       " ('boy', 0.7201299667358398),\n",
       " ('lady', 0.710519552230835)]"
      ]
     },
     "execution_count": 18,
     "metadata": {},
     "output_type": "execute_result"
    }
   ],
   "source": [
    "woman_vector = congress_model.wv['woman']\n",
    "congress_model.wv.similar_by_vector(woman_vector)"
   ]
  },
  {
   "cell_type": "code",
   "execution_count": 19,
   "metadata": {},
   "outputs": [
    {
     "data": {
      "text/plain": [
       "[('individual', 1.0),\n",
       " ('employee', 0.6676400303840637),\n",
       " ('employer', 0.6480520367622375),\n",
       " ('individuals', 0.6324355602264404),\n",
       " ('employers', 0.5918911695480347),\n",
       " ('property', 0.5629029870033264),\n",
       " ('applicant', 0.5574595928192139),\n",
       " ('annuity', 0.5487593412399292),\n",
       " ('voter', 0.541032612323761),\n",
       " ('equal', 0.5407780408859253)]"
      ]
     },
     "execution_count": 19,
     "metadata": {},
     "output_type": "execute_result"
    }
   ],
   "source": [
    "individual_vector = congress_model.wv['individual']\n",
    "congress_model.wv.similar_by_vector(individual_vector)"
   ]
  },
  {
   "cell_type": "code",
   "execution_count": 20,
   "metadata": {},
   "outputs": [
    {
     "data": {
      "text/plain": [
       "[('soldier', 1.0),\n",
       " ('patriot', 0.8046800494194031),\n",
       " ('statesman', 0.774128794670105),\n",
       " ('hero', 0.7670360803604126),\n",
       " ('woman', 0.7637701630592346),\n",
       " ('boy', 0.748926043510437),\n",
       " ('player', 0.7477824687957764),\n",
       " ('champion', 0.7353664636611938),\n",
       " ('legacy', 0.7306735515594482),\n",
       " ('lady', 0.7298756837844849)]"
      ]
     },
     "execution_count": 20,
     "metadata": {},
     "output_type": "execute_result"
    }
   ],
   "source": [
    "soldier_vector = congress_model.wv['soldier']\n",
    "congress_model.wv.similar_by_vector(soldier_vector)"
   ]
  },
  {
   "cell_type": "markdown",
   "metadata": {},
   "source": [
    "## Subtracting Vectors"
   ]
  },
  {
   "cell_type": "code",
   "execution_count": 79,
   "metadata": {},
   "outputs": [
    {
     "data": {
      "text/plain": [
       "[('man', 0.8865554332733154),\n",
       " ('person', 0.5839686989784241),\n",
       " ('anyone', 0.5157653093338013),\n",
       " ('everyone', 0.5006527900695801),\n",
       " ('courage', 0.500137984752655),\n",
       " ('sense', 0.4854341149330139),\n",
       " ('reputation', 0.4779624938964844),\n",
       " ('legacy', 0.4758404493331909),\n",
       " ('always', 0.47562742233276367),\n",
       " ('humor', 0.4749537706375122)]"
      ]
     },
     "execution_count": 79,
     "metadata": {},
     "output_type": "execute_result"
    }
   ],
   "source": [
    "diff = congress_model.wv['man'] - congress_model.wv['woman']\n",
    "congress_model.wv.similar_by_vector(diff)"
   ]
  },
  {
   "cell_type": "code",
   "execution_count": 32,
   "metadata": {},
   "outputs": [
    {
     "data": {
      "text/plain": [
       "[('woman', 0.7777633666992188),\n",
       " ('person', 0.6597403287887573),\n",
       " ('man', 0.5670256614685059),\n",
       " ('applicant', 0.5439983606338501),\n",
       " ('lawyer', 0.5390435457229614),\n",
       " ('montanan', 0.5274957418441772),\n",
       " ('politician', 0.5264819264411926),\n",
       " ('beneficiary', 0.5089719295501709),\n",
       " ('doctor', 0.5040901899337769),\n",
       " ('illustration', 0.5018414855003357)]"
      ]
     },
     "execution_count": 32,
     "metadata": {},
     "output_type": "execute_result"
    }
   ],
   "source": [
    "diff = congress_model.wv['woman'] - congress_model.wv['boy']\n",
    "congress_model.wv.similar_by_vector(diff)"
   ]
  },
  {
   "cell_type": "markdown",
   "metadata": {},
   "source": [
    "### Distance and Similarity with Vectors in GENSIM"
   ]
  },
  {
   "cell_type": "markdown",
   "metadata": {},
   "source": [
    "With similarity, the higher the number, the more alike two terms are in the context in which they are used. "
   ]
  },
  {
   "cell_type": "code",
   "execution_count": 23,
   "metadata": {},
   "outputs": [
    {
     "data": {
      "text/plain": [
       "0.6496907"
      ]
     },
     "execution_count": 23,
     "metadata": {},
     "output_type": "execute_result"
    }
   ],
   "source": [
    "congress_model.wv.similarity('women', 'men')"
   ]
  },
  {
   "cell_type": "code",
   "execution_count": 22,
   "metadata": {},
   "outputs": [
    {
     "data": {
      "text/plain": [
       "0.498866"
      ]
     },
     "execution_count": 22,
     "metadata": {},
     "output_type": "execute_result"
    }
   ],
   "source": [
    "congress_model.wv.similarity('soldier', 'men')"
   ]
  },
  {
   "cell_type": "code",
   "execution_count": 21,
   "metadata": {},
   "outputs": [
    {
     "data": {
      "text/plain": [
       "0.3094792"
      ]
     },
     "execution_count": 21,
     "metadata": {},
     "output_type": "execute_result"
    }
   ],
   "source": [
    "congress_model.wv.similarity('women', 'individual')"
   ]
  },
  {
   "cell_type": "markdown",
   "metadata": {},
   "source": [
    "#### Find the words most SIMILAR to each word"
   ]
  },
  {
   "cell_type": "code",
   "execution_count": 70,
   "metadata": {},
   "outputs": [
    {
     "data": {
      "text/plain": [
       "[('volunteers', 0.7512078285217285),\n",
       " ('men', 0.7265892624855042),\n",
       " ('families', 0.7205857038497925),\n",
       " ('disabled', 0.7204339504241943),\n",
       " ('unemployed', 0.7193293571472168),\n",
       " ('mothers', 0.7132111191749573),\n",
       " ('young', 0.6916542053222656),\n",
       " ('servicemen', 0.6882789731025696),\n",
       " ('parents', 0.687849760055542),\n",
       " ('adults', 0.6769461631774902),\n",
       " ('blacks', 0.6762923002243042),\n",
       " ('disadvantaged', 0.6728354096412659),\n",
       " ('handicapped', 0.6688811182975769),\n",
       " ('teachers', 0.6664316654205322),\n",
       " ('elderly', 0.6664093136787415),\n",
       " ('children', 0.6649971604347229),\n",
       " ('wives', 0.6639248132705688),\n",
       " ('survivors', 0.6577557921409607),\n",
       " ('poor', 0.6528653502464294),\n",
       " ('individuals', 0.6466255187988281)]"
      ]
     },
     "execution_count": 70,
     "metadata": {},
     "output_type": "execute_result"
    }
   ],
   "source": [
    "congress_model.wv.most_similar(\"women\", topn = 20)"
   ]
  },
  {
   "cell_type": "code",
   "execution_count": 24,
   "metadata": {},
   "outputs": [
    {
     "data": {
      "text/plain": [
       "[('patriot', 0.8046800494194031),\n",
       " ('statesman', 0.774128794670105),\n",
       " ('hero', 0.7670360207557678),\n",
       " ('woman', 0.7637701630592346),\n",
       " ('boy', 0.748926043510437),\n",
       " ('player', 0.7477824687957764),\n",
       " ('champion', 0.7353664636611938),\n",
       " ('legacy', 0.7306735515594482),\n",
       " ('lady', 0.7298756837844849),\n",
       " ('scientist', 0.7257298231124878),\n",
       " ('dictator', 0.7231404781341553),\n",
       " ('symbol', 0.722599446773529),\n",
       " ('patriots', 0.7179070115089417),\n",
       " ('tradition', 0.700443685054779),\n",
       " ('politician', 0.697715163230896),\n",
       " ('dream', 0.6951122283935547),\n",
       " ('flag', 0.6910860538482666),\n",
       " ('housewife', 0.688896656036377),\n",
       " ('cradle', 0.6875613927841187),\n",
       " ('ally', 0.6867592930793762)]"
      ]
     },
     "execution_count": 24,
     "metadata": {},
     "output_type": "execute_result"
    }
   ],
   "source": [
    "congress_model.wv.most_similar(\"soldier\", topn = 20)"
   ]
  },
  {
   "cell_type": "markdown",
   "metadata": {},
   "source": [
    "#### Interpreting vector similarity"
   ]
  },
  {
   "cell_type": "markdown",
   "metadata": {},
   "source": [
    "Try your own hand at interpreting these outputs. "
   ]
  },
  {
   "cell_type": "code",
   "execution_count": 73,
   "metadata": {},
   "outputs": [
    {
     "data": {
      "text/plain": [
       "[('czechoslovakia', 0.7657792568206787),\n",
       " ('syria', 0.7622561454772949),\n",
       " ('castro', 0.7542406320571899),\n",
       " ('afghanistan', 0.7457571029663086),\n",
       " ('spain', 0.7446020245552063),\n",
       " ('communism', 0.7434841394424438),\n",
       " ('rhodesia', 0.738879382610321),\n",
       " ('repression', 0.726932168006897),\n",
       " ('u.s.s.r.', 0.7267471551895142),\n",
       " ('russia', 0.721237063407898)]"
      ]
     },
     "execution_count": 73,
     "metadata": {},
     "output_type": "execute_result"
    }
   ],
   "source": [
    "congress_model.wv.most_similar(\"iraq\", topn = 10)"
   ]
  },
  {
   "cell_type": "markdown",
   "metadata": {},
   "source": [
    "How do you interpret these similarities?"
   ]
  },
  {
   "cell_type": "code",
   "execution_count": 74,
   "metadata": {},
   "outputs": [
    {
     "data": {
      "text/plain": [
       "[('lakes', 0.8182355165481567),\n",
       " ('depression', 0.7494999170303345),\n",
       " ('plains', 0.7386747598648071),\n",
       " ('strides', 0.6537801027297974),\n",
       " ('swamp', 0.650023341178894),\n",
       " ('ties', 0.6333551406860352),\n",
       " ('smoky', 0.6245667934417725),\n",
       " ('satisfaction', 0.6161249279975891),\n",
       " ('popularity', 0.6154508590698242),\n",
       " ('distinction', 0.6112571954727173)]"
      ]
     },
     "execution_count": 74,
     "metadata": {},
     "output_type": "execute_result"
    }
   ],
   "source": [
    "congress_model.wv.most_similar(\"britain\", topn = 10)"
   ]
  },
  {
   "cell_type": "markdown",
   "metadata": {},
   "source": [
    "#### Visualize the similarities as a Dendrogram"
   ]
  },
  {
   "cell_type": "code",
   "execution_count": 26,
   "metadata": {},
   "outputs": [],
   "source": [
    "keywords = ['dream', 'bombing', 'warfare', 'racism', 'prosperity', 'wealth', 'happiness', 'today', 'tomorrow', 'past', 'present', 'future', 'america', 'france', 'britain', 'iraq', 'china', 'democratic', 'dictator', 'totalitarian', 'democracy', 'welfare', 'socialism', 'communism', 'russia', 'congress', 'debate', 'hearing', 'protest']"
   ]
  },
  {
   "cell_type": "code",
   "execution_count": 27,
   "metadata": {},
   "outputs": [],
   "source": [
    "keyword_vectors = congress_model.wv[keywords]"
   ]
  },
  {
   "cell_type": "code",
   "execution_count": 29,
   "metadata": {},
   "outputs": [],
   "source": [
    "from scipy.cluster.hierarchy import dendrogram, linkage\n",
    "links = linkage(keyword_vectors, method='complete', metric='seuclidean')"
   ]
  },
  {
   "cell_type": "code",
   "execution_count": 30,
   "metadata": {},
   "outputs": [
    {
     "data": {
      "image/png": "[encoded data removed]",
      "text/plain": [
       "<Figure size 1800x720 with 1 Axes>"
      ]
     },
     "metadata": {
      "needs_background": "light"
     },
     "output_type": "display_data"
    }
   ],
   "source": [
    "from matplotlib import pyplot as plt\n",
    "\n",
    "l = links\n",
    "\n",
    "# calculate full dendrogram\n",
    "plt.figure(figsize=(25, 10))\n",
    "plt.title('Hierarchical Clustering Dendrogram')\n",
    "plt.ylabel('word')\n",
    "plt.xlabel('distance')\n",
    "\n",
    "dendrogram(\n",
    "    l,\n",
    "    leaf_rotation=0,  # rotates the x axis labels\n",
    "    leaf_font_size=16,  # font size for the x axis labels\n",
    "    orientation='left',\n",
    "    leaf_label_func=lambda v: str(keywords[v])\n",
    ")\n",
    "plt.show()\n"
   ]
  },
  {
   "cell_type": "markdown",
   "metadata": {},
   "source": [
    "### Visualizing Abstract Relatedness"
   ]
  },
  {
   "cell_type": "code",
   "execution_count": 81,
   "metadata": {},
   "outputs": [],
   "source": [
    "import numpy as np\n",
    "\n",
    "import matplotlib.pyplot as plt\n",
    "plt.style.use('ggplot')\n",
    "\n",
    "from sklearn.decomposition import PCA\n",
    "from gensim.test.utils import datapath, get_tmpfile\n",
    "from gensim.models import KeyedVectors"
   ]
  },
  {
   "cell_type": "code",
   "execution_count": 82,
   "metadata": {},
   "outputs": [],
   "source": [
    "#%matplotlib inline\n",
    "\n",
    "def display_pca_scatterplot(model, words=None, sample=0):\n",
    "    if words == None:\n",
    "        if sample > 0:\n",
    "            words = np.random.choice(list(model.wv.vocab.keys()), sample)\n",
    "        else:\n",
    "            words = [ word for word in model.wv.vocab ]\n",
    "        \n",
    "    word_vectors = np.array([model[w] for w in words])\n",
    "\n",
    "    twodim = PCA().fit_transform(word_vectors)[:,:2]\n",
    "    \n",
    "    plt.figure(figsize=(6,6))\n",
    "    plt.scatter(twodim[:,0], twodim[:,1], edgecolors='k', c='r')\n",
    "    for word, (x,y) in zip(words, twodim):\n",
    "        plt.text(x+0.05, y+0.05, word)"
   ]
  },
  {
   "cell_type": "code",
   "execution_count": 83,
   "metadata": {},
   "outputs": [
    {
     "data": {
      "image/png": "[encoded data removed]",
      "text/plain": [
       "<Figure size 432x432 with 1 Axes>"
      ]
     },
     "metadata": {},
     "output_type": "display_data"
    }
   ],
   "source": [
    "display_pca_scatterplot(congress_model.wv, keywords)"
   ]
  },
  {
   "cell_type": "markdown",
   "metadata": {},
   "source": [
    "## Comparing Time with GENSIM"
   ]
  },
  {
   "cell_type": "code",
   "execution_count": 35,
   "metadata": {},
   "outputs": [
    {
     "data": {
      "text/plain": [
       "[1970.0, 1980.0, 1975.0, 1965.0]"
      ]
     },
     "execution_count": 35,
     "metadata": {},
     "output_type": "execute_result"
    }
   ],
   "source": [
    "periodnames = sample_m['5yrperiod'].unique().tolist()\n",
    "periodnames"
   ]
  },
  {
   "cell_type": "code",
   "execution_count": null,
   "metadata": {},
   "outputs": [
    {
     "name": "stdout",
     "output_type": "stream",
     "text": [
      "mining  1970.0\n"
     ]
    }
   ],
   "source": [
    "women_context = [] # create an empty dummy variable\n",
    "\n",
    "for period1 in periodnames:\n",
    "    period_data = sample_m[sample_m['5yrperiod'] == period1] # select one period at a time\n",
    "    print('mining ', period1)\n",
    "    sentences = make_sentences(sample_m['speech']).copy() # break data into sentences for that period only \n",
    "    ####### tweak here after the first run to use the old data without generating it again\n",
    "    period_model = gensim.models.Word2Vec( # make a gensim model for that data\n",
    "        sentences = sentences,\n",
    "        min_count = 2, \n",
    "        size = 100)  \n",
    "    period_model.save('model-' + str(period1)) # save the model with the name of the period\n",
    "    #period_model = gensim.models.Word2Vec.load('model-' + str(period1)) # to load a saved model\n",
    "    ###########\n",
    "    women_context_period = period_model.wv.most_similar(\"woman\", topn = 1000) # extract the context of how women were talked about in that period\n",
    "    women_context.append(women_context_period) # save the context of how women were talked about for later"
   ]
  },
  {
   "cell_type": "markdown",
   "metadata": {},
   "source": [
    "#### Visualize it"
   ]
  },
  {
   "cell_type": "code",
   "execution_count": null,
   "metadata": {},
   "outputs": [],
   "source": [
    "all_words = []\n",
    "for i in range(5):\n",
    "    words = [item[0] for item in women_context[i]][:10]\n",
    "    all_words.append(words)\n",
    "\n",
    "all_words2 = []\n",
    "for list in all_words:\n",
    "    for word in list:\n",
    "        all_words2.append(word)\n",
    "\n",
    "from numpy import linspace\n",
    "from matplotlib import cm\n",
    "colors = [ cm.jet(x) for x in linspace(.5, 2, 50) ]\n",
    "\n",
    "%matplotlib inline\n",
    "\n",
    "from matplotlib import cm\n",
    "from matplotlib.colors import ListedColormap, LinearSegmentedColormap\n",
    "\n",
    "\n",
    "from adjustText import adjust_text\n",
    "\n",
    "# change the figure's size here\n",
    "plt.figure(figsize=(5,5), dpi = 200)\n",
    "\n",
    "# plt.annotate only plots one label per iteration, so we have to use a for loop \n",
    "for i in range(len(periodnames)):    # cycle through the period names\n",
    "    \n",
    "    xx = periodnames[i]        # on the x axis, plot the period name\n",
    "    yyy = keyword_per_year[i]  # how many times was the keyword used that year?\n",
    "\n",
    "    # for each period, one big black dot\n",
    "    \n",
    "    plt.scatter(                                           # plot dots\n",
    "            xx, #x axis\n",
    "            yyy, # y axis\n",
    "            linewidth=1, \n",
    "            color = 'black',\n",
    "            s = 10, # dot size\n",
    "            alpha=0.2)  # dot transparency\n",
    "\n",
    "                     \n",
    "                     \n",
    "    for j in range(10):     # cycle through the first ten words (you can change this variable)\n",
    "        \n",
    "        yy = [item[1] for item in women_context[i]][j]         # on the y axis, plot the distance -- how closely the word is related to the keyword\n",
    "        txt = [item[0] for item in women_context[i]][j]        # grab the name of each collocated word\n",
    "        colorindex = all_words2.index(txt)                     # this command keeps all dots for the same word the same color\n",
    "        \n",
    "        plt.scatter(                                           # plot dots\n",
    "            xx, #x axis\n",
    "            yy, # y axis\n",
    "            linewidth=1, \n",
    "            color = colors[colorindex],\n",
    "            s = 3, # dot size\n",
    "            alpha=0.8)  # dot transparency\n",
    "\n",
    "                                                                # make a label for each word\n",
    "        plt.annotate(\n",
    "                txt,\n",
    "                (xx, yy),   \n",
    "                size = 5,\n",
    "                color = 'black', \n",
    "                alpha=0.8 # i've made the fonts transparent as well.  you could play with color and size if you wanted to. \n",
    "            )\n",
    "\n",
    "# Code to help with overlapping labels -- may take a minute to run\n",
    "adjust_text(texts, force_points=0.2, force_text=0.2,\n",
    "            expand_points=(1, 1), expand_text=(1, 1),\n",
    "            arrowprops=dict(arrowstyle=\"-\", color='black', lw=0.5))\n",
    "\n",
    "plt.xticks(rotation=90)\n",
    "\n",
    "# Add titles\n",
    "plt.title(\"Word Context Change for 'WOMAN' Over Time in Congress\", fontsize=20, fontweight=0, color='Red')\n",
    "plt.xlabel(\"period\")\n",
    "plt.ylabel(\"similarity of word\")\n",
    "\n"
   ]
  },
  {
   "cell_type": "code",
   "execution_count": null,
   "metadata": {},
   "outputs": [],
   "source": []
  }
 ],
 "metadata": {
  "kernelspec": {
   "display_name": "Python 3",
   "language": "python",
   "name": "python3"
  },
  "language_info": {
   "codemirror_mode": {
    "name": "ipython",
    "version": 3
   },
   "file_extension": ".py",
   "mimetype": "text/x-python",
   "name": "python",
   "nbconvert_exporter": "python",
   "pygments_lexer": "ipython3",
   "version": "3.6.7"
  }
 },
 "nbformat": 4,
 "nbformat_minor": 4
}
