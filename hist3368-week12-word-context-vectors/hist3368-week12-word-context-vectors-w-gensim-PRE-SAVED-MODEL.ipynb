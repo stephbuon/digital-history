{
 "cells": [
  {
   "cell_type": "markdown",
   "metadata": {},
   "source": [
    "For citation information, please see the \"Source Information\" section listed in the associated README file: https://github.com/stephbuon/digital-history/tree/master/hist3368-week12-word-context-vectors"
   ]
  },
  {
   "cell_type": "markdown",
   "metadata": {},
   "source": [
    "# Hist 3368 - Week 12: Word Context Vectors with Gensim -- Using Pre-Loaded Models"
   ]
  },
  {
   "cell_type": "markdown",
   "metadata": {},
   "source": [
    "## Teaching Version"
   ]
  },
  {
   "cell_type": "markdown",
   "metadata": {},
   "source": [
    "#### By Jo Guldi"
   ]
  },
  {
   "cell_type": "markdown",
   "metadata": {},
   "source": [
    "#### Load Software"
   ]
  },
  {
   "cell_type": "code",
   "execution_count": 2,
   "metadata": {},
   "outputs": [
    {
     "name": "stdout",
     "output_type": "stream",
     "text": [
      "Requirement already up-to-date: gensim in ./.local/lib/python3.6/site-packages (4.1.2)\n",
      "Requirement already satisfied, skipping upgrade: numpy>=1.17.0 in /hpc/applications/anaconda/3/lib/python3.6/site-packages (from gensim) (1.17.3)\n",
      "Requirement already satisfied, skipping upgrade: smart-open>=1.8.1 in ./.local/lib/python3.6/site-packages (from gensim) (5.2.1)\n",
      "Requirement already satisfied, skipping upgrade: dataclasses; python_version < \"3.7\" in ./.local/lib/python3.6/site-packages (from gensim) (0.8)\n",
      "Requirement already satisfied, skipping upgrade: scipy>=0.18.1 in /hpc/applications/anaconda/3/lib/python3.6/site-packages (from gensim) (1.2.1)\n"
     ]
    }
   ],
   "source": [
    "!pip install gensim --upgrade --user # you only need to run this once"
   ]
  },
  {
   "cell_type": "code",
   "execution_count": 3,
   "metadata": {},
   "outputs": [],
   "source": [
    "import pandas as pd\n",
    "import gensim\n",
    "import numpy as np\n",
    "import matplotlib\n",
    "import matplotlib.pyplot as plt\n",
    "from nltk.corpus import wordnet as wn\n",
    "from gensim.models import KeyedVectors"
   ]
  },
  {
   "cell_type": "code",
   "execution_count": 8,
   "metadata": {},
   "outputs": [
    {
     "name": "stdout",
     "output_type": "stream",
     "text": [
      "/scratch/group/history/hist_3368-jguldi\n"
     ]
    }
   ],
   "source": [
    "cd /scratch/group/history/hist_3368-jguldi/"
   ]
  },
  {
   "cell_type": "code",
   "execution_count": 9,
   "metadata": {},
   "outputs": [],
   "source": [
    "wv = KeyedVectors.load(\"word2vec.wordvectors\", mmap='r')"
   ]
  },
  {
   "cell_type": "code",
   "execution_count": 11,
   "metadata": {},
   "outputs": [
    {
     "data": {
      "text/plain": [
       "[('man', 1.0),\n",
       " ('men', 0.807793378829956),\n",
       " ('humble_man', 0.748202919960022),\n",
       " ('young_man', 0.7053501009941101),\n",
       " ('compassionate_man', 0.6812528371810913),\n",
       " ('courageous_man', 0.6772664189338684),\n",
       " ('mortal', 0.6644247770309448),\n",
       " ('decent_man', 0.6617329120635986),\n",
       " ('courageous_men', 0.6595751047134399),\n",
       " ('scoop_jackson', 0.6565369367599487),\n",
       " ('humble', 0.6554585695266724),\n",
       " ('goodness', 0.65444415807724),\n",
       " ('honest_man', 0.651357114315033),\n",
       " ('jerry_ford', 0.6480829119682312),\n",
       " ('contemporaries', 0.6477103233337402),\n",
       " ('brilliant_mind', 0.6447478532791138),\n",
       " ('immortality', 0.6424620747566223),\n",
       " ('uncommon_man', 0.6348801851272583),\n",
       " ('fellow_men', 0.6287839412689209),\n",
       " ('tiger', 0.6280088424682617),\n",
       " ('intellect', 0.6273265480995178),\n",
       " ('scoop', 0.62697833776474),\n",
       " ('free_men', 0.6269552707672119),\n",
       " ('love', 0.6256563067436218),\n",
       " ('humankind', 0.6239929795265198)]"
      ]
     },
     "execution_count": 11,
     "metadata": {},
     "output_type": "execute_result"
    }
   ],
   "source": [
    "man_vector = wv['man']\n",
    "wv.similar_by_vector(man_vector, 25)"
   ]
  },
  {
   "cell_type": "markdown",
   "metadata": {},
   "source": [
    "### Explore the Contents of Your Vector Model"
   ]
  },
  {
   "cell_type": "markdown",
   "metadata": {},
   "source": [
    "#### Find the CONTEXT for One Word"
   ]
  },
  {
   "cell_type": "code",
   "execution_count": 15,
   "metadata": {},
   "outputs": [
    {
     "data": {
      "text/plain": [
       "[('woman', 0.9999998807907104),\n",
       " ('young_woman', 0.73128342628479),\n",
       " ('female', 0.6852490901947021),\n",
       " ('married_woman', 0.662540853023529),\n",
       " ('male', 0.6420111656188965),\n",
       " ('black_woman', 0.636064350605011),\n",
       " ('negro', 0.6109408736228943),\n",
       " ('lesbian', 0.6071470379829407),\n",
       " ('black_man', 0.6047077775001526),\n",
       " ('young_men', 0.6010093092918396)]"
      ]
     },
     "execution_count": 15,
     "metadata": {},
     "output_type": "execute_result"
    }
   ],
   "source": [
    "woman_vector = wv['woman']\n",
    "wv.similar_by_vector(woman_vector)"
   ]
  },
  {
   "cell_type": "code",
   "execution_count": 16,
   "metadata": {},
   "outputs": [
    {
     "data": {
      "text/plain": [
       "[('person', 1.0),\n",
       " ('individual', 0.8519330620765686),\n",
       " ('alien', 0.6763107180595398),\n",
       " ('blind_person', 0.6733041405677795),\n",
       " ('employee', 0.6700262427330017),\n",
       " ('client', 0.6693363189697266),\n",
       " ('american_citizen', 0.6683335900306702),\n",
       " ('applicant', 0.6600831151008606),\n",
       " ('elderly_person', 0.6496081948280334),\n",
       " ('registrant', 0.6389296054840088)]"
      ]
     },
     "execution_count": 16,
     "metadata": {},
     "output_type": "execute_result"
    }
   ],
   "source": [
    "individual_vector = wv['person']\n",
    "wv.similar_by_vector(individual_vector)"
   ]
  },
  {
   "cell_type": "code",
   "execution_count": 17,
   "metadata": {},
   "outputs": [
    {
     "data": {
      "text/plain": [
       "[('soldier', 1.0),\n",
       " ('american_soldier', 0.8481765985488892),\n",
       " ('combat_soldier', 0.8198097944259644),\n",
       " ('fighting_men', 0.8071495890617371),\n",
       " ('marines', 0.7896237969398499),\n",
       " ('comrade', 0.7856341004371643),\n",
       " ('infantryman', 0.7821188569068909),\n",
       " ('sailor', 0.7572413682937622),\n",
       " ('men', 0.7442063689231873),\n",
       " ('filipino', 0.7437962889671326)]"
      ]
     },
     "execution_count": 17,
     "metadata": {},
     "output_type": "execute_result"
    }
   ],
   "source": [
    "soldier_vector = wv['soldier']\n",
    "wv.similar_by_vector(soldier_vector)"
   ]
  },
  {
   "cell_type": "markdown",
   "metadata": {},
   "source": [
    "#### Interpreting vector similarity"
   ]
  },
  {
   "cell_type": "markdown",
   "metadata": {},
   "source": [
    "Try your own hand at interpreting these outputs. "
   ]
  },
  {
   "cell_type": "markdown",
   "metadata": {},
   "source": [
    "How do you interpret these similarities?"
   ]
  },
  {
   "cell_type": "code",
   "execution_count": 19,
   "metadata": {},
   "outputs": [
    {
     "data": {
      "text/plain": [
       "[('iraqi', 0.828130304813385),\n",
       " ('libya', 0.8261563777923584),\n",
       " ('syria', 0.8153803944587708),\n",
       " ('iran', 0.8083710074424744),\n",
       " ('israeli_raid', 0.7890540957450867),\n",
       " ('egypt', 0.787028968334198),\n",
       " ('pakistan', 0.7691728472709656),\n",
       " ('iranian', 0.7560648918151855),\n",
       " ('yemen', 0.7546976208686829),\n",
       " ('argentina', 0.752089262008667),\n",
       " ('palestinian_guerrilla', 0.7510983347892761),\n",
       " ('israel', 0.7508583068847656),\n",
       " ('arab', 0.7411751747131348),\n",
       " ('qadhafi', 0.73783940076828),\n",
       " ('israeli', 0.7369685769081116),\n",
       " ('president_nasser', 0.7357777953147888),\n",
       " ('egyptian', 0.7336642146110535),\n",
       " ('red_chinese', 0.7245256900787354),\n",
       " ('palestinian_terrorist', 0.7214869856834412),\n",
       " ('kurd', 0.7212120294570923)]"
      ]
     },
     "execution_count": 19,
     "metadata": {},
     "output_type": "execute_result"
    }
   ],
   "source": [
    "wv.most_similar(\"iraq\", topn = 20)"
   ]
  },
  {
   "cell_type": "code",
   "execution_count": 20,
   "metadata": {},
   "outputs": [
    {
     "data": {
      "text/plain": [
       "[('nation', 0.8286058306694031),\n",
       " ('country', 0.762273907661438),\n",
       " ('american', 0.6858243346214294),\n",
       " ('western_world', 0.6779216527938843),\n",
       " ('world', 0.6668436527252197),\n",
       " ('vibrant', 0.6596878170967102),\n",
       " ('prosperous_nation', 0.6528997421264648),\n",
       " ('western_civilization', 0.6470541954040527),\n",
       " ('industrial_democracy', 0.6320473551750183),\n",
       " ('beloved_country', 0.6109904646873474),\n",
       " ('democracy', 0.6034918427467346),\n",
       " ('civilization', 0.6016355156898499),\n",
       " ('free_world', 0.5984966158866882),\n",
       " ('entire_nation', 0.5780860185623169),\n",
       " ('bastion', 0.5771580934524536),\n",
       " ('oppress_peoples', 0.5771055817604065),\n",
       " ('living_symbol', 0.5770482420921326),\n",
       " ('society', 0.576115608215332),\n",
       " ('free_peoples', 0.5749778747558594),\n",
       " ('american_heritage', 0.5728517770767212)]"
      ]
     },
     "execution_count": 20,
     "metadata": {},
     "output_type": "execute_result"
    }
   ],
   "source": [
    "wv.most_similar(\"america\", topn = 20)"
   ]
  },
  {
   "cell_type": "code",
   "execution_count": 21,
   "metadata": {},
   "outputs": [
    {
     "data": {
      "text/plain": [
       "[('great_britain', 0.881572961807251),\n",
       " ('france', 0.839850902557373),\n",
       " ('england', 0.7883251309394836),\n",
       " ('british', 0.7847045063972473),\n",
       " ('austria', 0.7666051387786865),\n",
       " ('west_germany', 0.7588381171226501),\n",
       " ('spain', 0.751839280128479),\n",
       " ('finland', 0.7480441927909851),\n",
       " ('germany', 0.7439076900482178),\n",
       " ('french', 0.7341104745864868),\n",
       " ('japan', 0.7211131453514099),\n",
       " ('german', 0.7158097624778748),\n",
       " ('sweden', 0.7094542384147644),\n",
       " ('russia', 0.7072551846504211),\n",
       " ('italy', 0.7070389986038208),\n",
       " ('portugal', 0.7047058343887329),\n",
       " ('european', 0.6980457901954651),\n",
       " ('netherlands', 0.6965853571891785),\n",
       " ('algeria', 0.6932830214500427),\n",
       " ('nigeria', 0.6887795329093933)]"
      ]
     },
     "execution_count": 21,
     "metadata": {},
     "output_type": "execute_result"
    }
   ],
   "source": [
    "wv.most_similar(\"britain\", topn = 20)"
   ]
  },
  {
   "cell_type": "markdown",
   "metadata": {},
   "source": [
    "## Subtracting Vectors"
   ]
  },
  {
   "cell_type": "code",
   "execution_count": 22,
   "metadata": {},
   "outputs": [
    {
     "data": {
      "text/plain": [
       "[('obsequious', 0.41747480630874634),\n",
       " ('wit', 0.3983602821826935),\n",
       " ('man', 0.3822146952152252),\n",
       " ('frankness', 0.37479647994041443),\n",
       " ('tact', 0.36495867371559143),\n",
       " ('warm_personality', 0.3633611798286438),\n",
       " ('watt', 0.36321771144866943),\n",
       " ('good_humor', 0.3601587116718292),\n",
       " ('hull', 0.3599074184894562),\n",
       " ('gentleness', 0.35661593079566956)]"
      ]
     },
     "execution_count": 22,
     "metadata": {},
     "output_type": "execute_result"
    }
   ],
   "source": [
    "diff = wv['man'] - wv['woman']\n",
    "wv.similar_by_vector(diff)"
   ]
  },
  {
   "cell_type": "code",
   "execution_count": 23,
   "metadata": {},
   "outputs": [
    {
     "data": {
      "text/plain": [
       "[('woman', 0.6418045163154602),\n",
       " ('equal', 0.46115225553512573),\n",
       " ('married_woman', 0.4570440948009491),\n",
       " ('equality', 0.44616231322288513),\n",
       " ('older_worker', 0.44316259026527405),\n",
       " ('unequal_treatment', 0.42633432149887085),\n",
       " ('inequality', 0.4229995012283325),\n",
       " ('sex', 0.42135125398635864),\n",
       " ('federal_employee', 0.40536707639694214),\n",
       " ('injustice', 0.40459683537483215)]"
      ]
     },
     "execution_count": 23,
     "metadata": {},
     "output_type": "execute_result"
    }
   ],
   "source": [
    "diff = wv['woman'] - wv['boy']\n",
    "wv.similar_by_vector(diff)"
   ]
  },
  {
   "cell_type": "code",
   "execution_count": 26,
   "metadata": {},
   "outputs": [
    {
     "data": {
      "text/plain": [
       "[('folks', 0.5262150764465332),\n",
       " ('join_hands', 0.522945761680603),\n",
       " ('people', 0.5129111409187317),\n",
       " ('american_people', 0.47589215636253357),\n",
       " ('peoples', 0.4711779057979584),\n",
       " ('fiscal_sanity', 0.46897488832473755),\n",
       " ('someday', 0.46845543384552),\n",
       " ('falter', 0.46798810362815857),\n",
       " ('earnest_desire', 0.46619537472724915),\n",
       " ('neighbor', 0.46536919474601746)]"
      ]
     },
     "execution_count": 26,
     "metadata": {},
     "output_type": "execute_result"
    }
   ],
   "source": [
    "diff = wv['people'] - wv['person']\n",
    "wv.similar_by_vector(diff)"
   ]
  },
  {
   "cell_type": "code",
   "execution_count": 27,
   "metadata": {},
   "outputs": [
    {
     "data": {
      "text/plain": [
       "[('transferee', 0.5878247618675232),\n",
       " ('paragraph_1', 0.5707224011421204),\n",
       " ('subsection', 0.5703042149543762),\n",
       " ('unlawful', 0.5554789900779724),\n",
       " ('hereunder', 0.5537802577018738),\n",
       " ('receipt', 0.5510559678077698),\n",
       " ('thereunder', 0.544347882270813),\n",
       " ('deposition', 0.5417203903198242),\n",
       " ('file', 0.5347630977630615),\n",
       " ('assignee', 0.530541181564331)]"
      ]
     },
     "execution_count": 27,
     "metadata": {},
     "output_type": "execute_result"
    }
   ],
   "source": [
    "diff = wv['person'] - wv['people']\n",
    "wv.similar_by_vector(diff)"
   ]
  },
  {
   "cell_type": "code",
   "execution_count": 28,
   "metadata": {},
   "outputs": [
    {
     "data": {
      "text/plain": [
       "[('think', 0.7182238698005676),\n",
       " ('believe', 0.5849282145500183),\n",
       " ('feel', 0.5409349203109741),\n",
       " ('sure', 0.5255907773971558),\n",
       " ('certainly', 0.5255528688430786),\n",
       " ('probably', 0.520268976688385),\n",
       " ('personally_feel', 0.4826715290546417),\n",
       " ('suggest', 0.4710257649421692),\n",
       " ('maybe', 0.4622296094894409),\n",
       " ('obviously', 0.46169501543045044)]"
      ]
     },
     "execution_count": 28,
     "metadata": {},
     "output_type": "execute_result"
    }
   ],
   "source": [
    "diff = wv['think'] - wv['heart']\n",
    "wv.similar_by_vector(diff)"
   ]
  },
  {
   "cell_type": "code",
   "execution_count": 29,
   "metadata": {},
   "outputs": [
    {
     "data": {
      "text/plain": [
       "[('deceased_serviceman', 0.4442118704319),\n",
       " ('suffer_undue', 0.4359744191169739),\n",
       " ('kin', 0.4214315414428711),\n",
       " ('heartfelt_sorrow', 0.4116763174533844),\n",
       " ('immediate_release', 0.4072585105895996),\n",
       " ('aliyah', 0.39729395508766174),\n",
       " ('nonessential_personnel', 0.3947565257549286),\n",
       " ('legal_guardian', 0.3923892676830292),\n",
       " ('adoptive_parent', 0.3881300389766693),\n",
       " ('dependent', 0.38710734248161316)]"
      ]
     },
     "execution_count": 29,
     "metadata": {},
     "output_type": "execute_result"
    }
   ],
   "source": [
    "diff = wv['feel'] - wv['think']\n",
    "wv.similar_by_vector(diff)"
   ]
  },
  {
   "cell_type": "markdown",
   "metadata": {},
   "source": [
    "### Adding vectors to find synonyms"
   ]
  },
  {
   "cell_type": "code",
   "execution_count": 30,
   "metadata": {},
   "outputs": [
    {
     "data": {
      "text/plain": [
       "[('young_woman', 0.8613614439964294),\n",
       " ('woman', 0.8177606463432312),\n",
       " ('adult', 0.8079615235328674),\n",
       " ('young_girl', 0.7920001745223999),\n",
       " ('youngster', 0.7716776132583618),\n",
       " ('teenager', 0.7670499682426453),\n",
       " ('black_woman', 0.7663631439208984),\n",
       " ('young_men', 0.7652073502540588),\n",
       " ('youth', 0.764229416847229),\n",
       " ('young_people', 0.759830892086029)]"
      ]
     },
     "execution_count": 30,
     "metadata": {},
     "output_type": "execute_result"
    }
   ],
   "source": [
    "keyword_context = [word[0] for word in wv.most_similar(\"woman\", topn = 100)]\n",
    "\n",
    "sum = wv[keyword_context[0]] \n",
    "\n",
    "for word in keyword_context[1:len(keyword_context)]:\n",
    "    next_vector = wv[word] \n",
    "    sum = sum + next_vector\n",
    "    \n",
    "wv.similar_by_vector(sum)"
   ]
  },
  {
   "cell_type": "code",
   "execution_count": 32,
   "metadata": {},
   "outputs": [
    {
     "data": {
      "text/plain": [
       "[('soldier', 0.926078736782074),\n",
       " ('american_soldier', 0.8667716979980469),\n",
       " ('combat_soldier', 0.8663846254348755),\n",
       " ('marines', 0.8529439568519592),\n",
       " ('airman', 0.8397200703620911),\n",
       " ('infantry_unit', 0.8384497165679932),\n",
       " ('infantryman', 0.8350288271903992),\n",
       " ('comrade', 0.8217613697052002),\n",
       " ('paratrooper', 0.8192169666290283),\n",
       " ('french_army', 0.816373884677887)]"
      ]
     },
     "execution_count": 32,
     "metadata": {},
     "output_type": "execute_result"
    }
   ],
   "source": [
    "keyword_context = [word[0] for word in wv.most_similar(\"soldier\", topn = 100)]\n",
    "sum = wv[keyword_context[0]] \n",
    "for word in keyword_context[1:len(keyword_context)]:\n",
    "    next_vector = wv[word] \n",
    "    sum = sum + next_vector\n",
    "wv.similar_by_vector(sum)"
   ]
  },
  {
   "cell_type": "code",
   "execution_count": 34,
   "metadata": {},
   "outputs": [
    {
     "data": {
      "text/plain": [
       "[('grateful', 0.8584318161010742),\n",
       " ('happy', 0.8392285108566284),\n",
       " ('delight', 0.833162248134613),\n",
       " ('appreciative', 0.7715662121772766),\n",
       " ('glad', 0.7521904706954956),\n",
       " ('deeply_grateful', 0.7353523373603821),\n",
       " ('deeply_appreciate', 0.7271850109100342),\n",
       " ('thankful', 0.7192312479019165),\n",
       " ('appreciate', 0.7053251266479492),\n",
       " ('gracious', 0.6979071497917175)]"
      ]
     },
     "execution_count": 34,
     "metadata": {},
     "output_type": "execute_result"
    }
   ],
   "source": [
    "keyword_context = [word[0] for word in wv.most_similar(\"happy\", topn = 100)]\n",
    "sum = wv[keyword_context[0]] \n",
    "for word in keyword_context[1:len(keyword_context)]:\n",
    "    next_vector = wv[word] \n",
    "    sum = sum + next_vector\n",
    "wv.similar_by_vector(sum)"
   ]
  },
  {
   "cell_type": "code",
   "execution_count": 35,
   "metadata": {},
   "outputs": [
    {
     "data": {
      "text/plain": [
       "[('countryman', 0.8622460961341858),\n",
       " ('american', 0.8094232678413391),\n",
       " ('fellow_countryman', 0.8070399165153503),\n",
       " ('compatriot', 0.7987014055252075),\n",
       " ('peoples', 0.7862754464149475),\n",
       " ('fellow_citizen', 0.7842845320701599),\n",
       " ('polish_people', 0.7827718257904053),\n",
       " ('pole', 0.7638922333717346),\n",
       " ('brave_people', 0.7611224055290222),\n",
       " ('oppress_peoples', 0.7551296949386597)]"
      ]
     },
     "execution_count": 35,
     "metadata": {},
     "output_type": "execute_result"
    }
   ],
   "source": [
    "keyword_context = [word[0] for word in wv.most_similar(\"american\", topn = 100)]\n",
    "sum = wv[keyword_context[0]] \n",
    "for word in keyword_context[1:len(keyword_context)]:\n",
    "    next_vector = wv[word] \n",
    "    sum = sum + next_vector\n",
    "wv.similar_by_vector(sum)"
   ]
  },
  {
   "cell_type": "markdown",
   "metadata": {},
   "source": [
    "### Distance and Similarity with Vectors in GENSIM"
   ]
  },
  {
   "cell_type": "markdown",
   "metadata": {},
   "source": [
    "With similarity, the higher the number, the more alike two terms are in the context in which they are used. "
   ]
  },
  {
   "cell_type": "code",
   "execution_count": 43,
   "metadata": {},
   "outputs": [
    {
     "data": {
      "text/plain": [
       "0.6852491"
      ]
     },
     "execution_count": 43,
     "metadata": {},
     "output_type": "execute_result"
    }
   ],
   "source": [
    "wv.similarity('woman', 'female')"
   ]
  },
  {
   "cell_type": "code",
   "execution_count": 37,
   "metadata": {},
   "outputs": [
    {
     "data": {
      "text/plain": [
       "0.4548094"
      ]
     },
     "execution_count": 37,
     "metadata": {},
     "output_type": "execute_result"
    }
   ],
   "source": [
    "wv.similarity('woman', 'man')"
   ]
  },
  {
   "cell_type": "code",
   "execution_count": 38,
   "metadata": {},
   "outputs": [
    {
     "data": {
      "text/plain": [
       "0.5337367"
      ]
     },
     "execution_count": 38,
     "metadata": {},
     "output_type": "execute_result"
    }
   ],
   "source": [
    "wv.similarity('soldier', 'man')"
   ]
  },
  {
   "cell_type": "code",
   "execution_count": 39,
   "metadata": {},
   "outputs": [
    {
     "data": {
      "text/plain": [
       "0.4633819"
      ]
     },
     "execution_count": 39,
     "metadata": {},
     "output_type": "execute_result"
    }
   ],
   "source": [
    "wv.similarity('woman', 'person')"
   ]
  },
  {
   "cell_type": "code",
   "execution_count": 44,
   "metadata": {},
   "outputs": [
    {
     "data": {
      "text/plain": [
       "0.06978222"
      ]
     },
     "execution_count": 44,
     "metadata": {},
     "output_type": "execute_result"
    }
   ],
   "source": [
    "wv.similarity('woman', 'rock')"
   ]
  },
  {
   "cell_type": "markdown",
   "metadata": {},
   "source": [
    "#### Visualize the similarities as a Dendrogram"
   ]
  },
  {
   "cell_type": "code",
   "execution_count": 50,
   "metadata": {},
   "outputs": [],
   "source": [
    "keywords = ['dream',  'war',  'wealth', 'happy',  'tomorrow', 'past', 'present', 'future', 'america', 'democracy', 'riot', 'dictator', 'money', 'oppression', 'prison',  'britain', 'china', 'democrat', 'republican', 'welfare', 'communism', 'russia', 'congress', 'protest']"
   ]
  },
  {
   "cell_type": "code",
   "execution_count": 51,
   "metadata": {},
   "outputs": [],
   "source": [
    "keyword_vectors = wv[keywords]"
   ]
  },
  {
   "cell_type": "code",
   "execution_count": 52,
   "metadata": {},
   "outputs": [],
   "source": [
    "from scipy.cluster.hierarchy import dendrogram, linkage\n",
    "links = linkage(keyword_vectors, method='complete', metric='seuclidean')"
   ]
  },
  {
   "cell_type": "code",
   "execution_count": 53,
   "metadata": {},
   "outputs": [
    {
     "data": {
      "image/png": "[encoded data removed]",
      "text/plain": [
       "<Figure size 1800x720 with 1 Axes>"
      ]
     },
     "metadata": {
      "needs_background": "light"
     },
     "output_type": "display_data"
    }
   ],
   "source": [
    "from matplotlib import pyplot as plt\n",
    "\n",
    "l = links\n",
    "\n",
    "# calculate full dendrogram\n",
    "plt.figure(figsize=(25, 10))\n",
    "plt.title('Hierarchical Clustering Dendrogram')\n",
    "plt.ylabel('word')\n",
    "plt.xlabel('distance')\n",
    "\n",
    "dendrogram(\n",
    "    l,\n",
    "    leaf_rotation=0,  # rotates the x axis labels\n",
    "    leaf_font_size=16,  # font size for the x axis labels\n",
    "    orientation='left',\n",
    "    leaf_label_func=lambda v: str(keywords[v])\n",
    ")\n",
    "plt.show()\n"
   ]
  },
  {
   "cell_type": "markdown",
   "metadata": {},
   "source": [
    "*Note: if you get an error above, delete any words from the list.*"
   ]
  },
  {
   "cell_type": "markdown",
   "metadata": {},
   "source": [
    "### Visualizing Abstract Relatedness"
   ]
  },
  {
   "cell_type": "code",
   "execution_count": 54,
   "metadata": {},
   "outputs": [],
   "source": [
    "import numpy as np\n",
    "\n",
    "import matplotlib.pyplot as plt\n",
    "plt.style.use('ggplot')\n",
    "\n",
    "from sklearn.decomposition import PCA\n",
    "from gensim.test.utils import datapath, get_tmpfile\n",
    "from gensim.models import KeyedVectors"
   ]
  },
  {
   "cell_type": "code",
   "execution_count": 55,
   "metadata": {},
   "outputs": [],
   "source": [
    "#%matplotlib inline\n",
    "\n",
    "def display_pca_scatterplot(model, words=None, sample=0):\n",
    "    if words == None:\n",
    "        if sample > 0:\n",
    "            words = np.random.choice(list(model.wv.key_to_index.keys()), sample)\n",
    "        else:\n",
    "            words = [ word for word in model.wv.key_to_index ]\n",
    "        \n",
    "    word_vectors = np.array([model[w] for w in words])\n",
    "\n",
    "    twodim = PCA().fit_transform(word_vectors)[:,:2]\n",
    "    \n",
    "    plt.figure(figsize=(6,6))\n",
    "    plt.scatter(twodim[:,0], twodim[:,1], edgecolors='k', c='r')\n",
    "    for word, (x,y) in zip(words, twodim):\n",
    "        plt.text(x+0.05, y+0.05, word)"
   ]
  },
  {
   "cell_type": "code",
   "execution_count": 57,
   "metadata": {},
   "outputs": [
    {
     "data": {
      "image/png": "[encoded data removed]",
      "text/plain": [
       "<Figure size 432x432 with 1 Axes>"
      ]
     },
     "metadata": {},
     "output_type": "display_data"
    }
   ],
   "source": [
    "display_pca_scatterplot(wv, keywords)"
   ]
  },
  {
   "cell_type": "markdown",
   "metadata": {},
   "source": [
    "# Study change over time"
   ]
  },
  {
   "cell_type": "code",
   "execution_count": 91,
   "metadata": {},
   "outputs": [
    {
     "name": "stdout",
     "output_type": "stream",
     "text": [
      "/scratch/group/history/hist_3368-jguldi/congress-embeddings\n"
     ]
    }
   ],
   "source": [
    "cd '/scratch/group/history/hist_3368-jguldi/congress-embeddings'"
   ]
  },
  {
   "cell_type": "code",
   "execution_count": 92,
   "metadata": {},
   "outputs": [],
   "source": [
    "dataname = 'lemmatized-stopworded-bigrammed-congress-model'"
   ]
  },
  {
   "cell_type": "code",
   "execution_count": 93,
   "metadata": {},
   "outputs": [],
   "source": [
    "keyword1 = 'woman'  # the word you want to research"
   ]
  },
  {
   "cell_type": "code",
   "execution_count": 13,
   "metadata": {},
   "outputs": [
    {
     "data": {
      "text/plain": [
       "[1870,\n",
       " 1875,\n",
       " 1880,\n",
       " 1885,\n",
       " 1890,\n",
       " 1895,\n",
       " 1900,\n",
       " 1905,\n",
       " 1910,\n",
       " 1915,\n",
       " 1920,\n",
       " 1925,\n",
       " 1930,\n",
       " 1935,\n",
       " 1940,\n",
       " 1945,\n",
       " 1950,\n",
       " 1955,\n",
       " 1960,\n",
       " 1965,\n",
       " 1970,\n",
       " 1975,\n",
       " 1980,\n",
       " 1985,\n",
       " 1990,\n",
       " 1995,\n",
       " 2000,\n",
       " 2005]"
      ]
     },
     "execution_count": 13,
     "metadata": {},
     "output_type": "execute_result"
    }
   ],
   "source": [
    "periodnames = []\n",
    "for i in range(1870,2010, 5):\n",
    "    periodnames.append(i) \n",
    "periodnames"
   ]
  },
  {
   "cell_type": "code",
   "execution_count": 98,
   "metadata": {},
   "outputs": [
    {
     "name": "stdout",
     "output_type": "stream",
     "text": [
      "working on  1870\n",
      "found  woman\n",
      "working on  1875\n",
      "found  woman\n",
      "working on  1880\n",
      "found  woman\n",
      "working on  1885\n",
      "found  woman\n",
      "working on  1890\n",
      "found  woman\n",
      "working on  1895\n",
      "found  woman\n",
      "working on  1900\n",
      "found  woman\n",
      "working on  1905\n",
      "found  woman\n",
      "working on  1910\n",
      "found  woman\n",
      "working on  1915\n",
      "found  woman\n",
      "working on  1920\n",
      "found  woman\n",
      "working on  1925\n",
      "found  woman\n",
      "working on  1930\n",
      "found  woman\n",
      "working on  1935\n",
      "found  woman\n",
      "working on  1940\n",
      "found  woman\n",
      "working on  1945\n",
      "found  woman\n",
      "working on  1950\n",
      "found  woman\n",
      "working on  1955\n",
      "found  woman\n",
      "working on  1960\n",
      "found  woman\n",
      "working on  1965\n",
      "found  woman\n",
      "working on  1970\n",
      "found  woman\n",
      "working on  1975\n",
      "found  woman\n",
      "working on  1980\n",
      "found  woman\n",
      "working on  1985\n",
      "found  woman\n",
      "working on  1990\n",
      "found  woman\n",
      "working on  1995\n",
      "found  woman\n",
      "working on  2000\n",
      "found  woman\n",
      "working on  2005\n",
      "found  woman\n"
     ]
    }
   ],
   "source": [
    "#########  after the first run, use this line to call the old data without generating it again\n",
    "keyword_context = []\n",
    "dates_found = []\n",
    "\n",
    "# cycle through each period\n",
    "for period1 in periodnames:\n",
    "    print('working on ', period1)\n",
    "    \n",
    "    # load the model from period1\n",
    "    #period_model = gensim.models.Word2Vec.load(dataname + '-model-' + str(period1)) # to load a saved model\n",
    "    period_wv = KeyedVectors.load(dataname + '--wv-model-' + str(period1)) # load the saved model\n",
    "    \n",
    "    ## is the keyword found?\n",
    "    if keyword1 in period_wv.key_to_index:\n",
    "        print('found ', keyword1)\n",
    "        \n",
    "        # get the context vector for keyword1\n",
    "        keyword_context_period = period_wv.most_similar(keyword1, topn = 5000) \n",
    "        \n",
    "        # save it for later\n",
    "        keyword_context.append(keyword_context_period) # save the context of how women were talked about for later\n",
    "        dates_found.append(period1)"
   ]
  },
  {
   "cell_type": "markdown",
   "metadata": {},
   "source": [
    "#### Visualize it"
   ]
  },
  {
   "cell_type": "code",
   "execution_count": 99,
   "metadata": {},
   "outputs": [],
   "source": [
    "# helper function to abstract only unique values while keeping the list in the same order -- the order of first appearance\n",
    "def unique2(seq):\n",
    "    seen = set()\n",
    "    seen_add = seen.add\n",
    "    return [x for x in seq if not (x in seen or seen_add(x))]"
   ]
  },
  {
   "cell_type": "code",
   "execution_count": 100,
   "metadata": {},
   "outputs": [],
   "source": [
    "all_words = []\n",
    "for i in range(len(dates_found)):\n",
    "    words = [item[0] for item in keyword_context[i]][:10]\n",
    "    all_words.append(words)\n",
    "\n",
    "all_words2 = []\n",
    "for list in all_words:\n",
    "    for word in list:\n",
    "        all_words2.append(word)\n",
    "\n",
    "numwords = 10\n"
   ]
  },
  {
   "cell_type": "code",
   "execution_count": null,
   "metadata": {},
   "outputs": [],
   "source": [
    "cd ~/ # go to your home directory"
   ]
  },
  {
   "cell_type": "code",
   "execution_count": null,
   "metadata": {},
   "outputs": [],
   "source": [
    "%matplotlib inline\n",
    "#from matplotlib.colors import ListedColormap, LinearSegmentedColormap\n",
    "\n",
    "from adjustText import adjust_text\n",
    "from numpy import linspace\n",
    "from matplotlib import cm\n",
    "\n",
    "colors = [ cm.viridis(x) for x in linspace(0, 1, len(unique2(all_words2))+10) ]\n",
    "\n",
    "# change the figure's size here\n",
    "plt.figure(figsize=(20,20), dpi = 300)\n",
    "\n",
    "texts = []\n",
    "\n",
    "# plt.annotate only plots one label per iteration, so we have to use a for loop \n",
    "for i in range(len(dates_found)):    # cycle through the period names\n",
    "    \n",
    "    #yyy = int(keyword_per_year[keyword_per_year['5yrperiod'] == int(xx)]['count'])   # how many times was the keyword used that year?\n",
    "                     \n",
    "    for j in range(5):     # cycle through the first ten words (you can change this variable)\n",
    "        \n",
    "        xx = dates_found[i]        # on the x axis, plot the period name\n",
    "        yy = [item[1] for item in keyword_context[i]][j]         # on the y axis, plot the distance -- how closely the word is related to the keyword\n",
    "        txt = [item[0] for item in keyword_context[i]][j]        # grab the name of each collocated word\n",
    "        colorindex = unique2(all_words2).index(txt)   # this command keeps all dots for the same word the same color\n",
    "        \n",
    "        plt.scatter(                                             # plot dots\n",
    "            xx, #x axis\n",
    "            yy, # y axis\n",
    "            linewidth=1, \n",
    "            color = colors[colorindex],\n",
    "            edgecolors = 'darkgray',\n",
    "            s = 100, # dot size\n",
    "            alpha=0.8)  # dot transparency\n",
    "\n",
    "        # make a label for each word\n",
    "        texts.append(plt.text(xx, yy, txt))\n",
    "\n",
    "# Code to help with overlapping labels -- may take a minute to run\n",
    "adjust_text(texts, force_points=0.2, force_text=.7, \n",
    "                    expand_points=(1, 1), expand_text=(1, 1),\n",
    "                    arrowprops=dict(arrowstyle=\"-\", color='black', lw=0.5))\n",
    "\n",
    "plt.xticks(rotation=90)\n",
    "\n",
    "# Add titles\n",
    "plt.title(\"What words were most similar to ''\" + keyword1 + \"' in Congress?\", fontsize=20, fontweight=0, color='Red')\n",
    "plt.xlabel(\"period\")\n",
    "plt.ylabel(\"similarity to \" + keyword1)\n",
    "\n",
    "\n",
    "filename = 'words-similar-to-' + keyword1 + '-' + dataname\n",
    "plt.savefig(filename)"
   ]
  },
  {
   "cell_type": "code",
   "execution_count": null,
   "metadata": {},
   "outputs": [],
   "source": []
  },
  {
   "cell_type": "code",
   "execution_count": null,
   "metadata": {},
   "outputs": [],
   "source": []
  }
 ],
 "metadata": {
  "kernelspec": {
   "display_name": "Python 3",
   "language": "python",
   "name": "python3"
  },
  "language_info": {
   "codemirror_mode": {
    "name": "ipython",
    "version": 3
   },
   "file_extension": ".py",
   "mimetype": "text/x-python",
   "name": "python",
   "nbconvert_exporter": "python",
   "pygments_lexer": "ipython3",
   "version": "3.6.7"
  }
 },
 "nbformat": 4,
 "nbformat_minor": 4
}
