{
 "cells": [
  {
   "cell_type": "markdown",
   "metadata": {},
   "source": [
    "For citation information, please see the \"Source Information\" section listed in the associated README file: https://github.com/stephbuon/digital-history/tree/master/hist3368-week1-intro-to-jupyter"
   ]
  },
  {
   "cell_type": "markdown",
   "metadata": {},
   "source": [
    "# COUNTING WORDS IN PYTHON\n",
    "\n",
    " lightly amended from Alison Parrish, Lauren Klein, and the Programming Historian William J. Turkel and Adam Crymble, \"Counting Word Frequencies with Python,\" The Programming Historian 1 (2012), https://doi.org/10.46430/phen0003.\n"
   ]
  },
  {
   "cell_type": "code",
   "execution_count": 25,
   "metadata": {},
   "outputs": [
    {
     "name": "stdout",
     "output_type": "stream",
     "text": [
      "it was the best of times it was the worst of times it was the age of wisdom it was the age of foolishness\n"
     ]
    }
   ],
   "source": [
    "# let's play with strings\n",
    "wordstring = 'it was the best of times it was the worst of times '\n",
    "wordstring += 'it was the age of wisdom it was the age of foolishness'\n",
    "print(wordstring)"
   ]
  },
  {
   "cell_type": "code",
   "execution_count": 26,
   "metadata": {},
   "outputs": [
    {
     "name": "stdout",
     "output_type": "stream",
     "text": [
      "['it', 'was', 'the', 'best', 'of', 'times', 'it', 'was', 'the', 'worst', 'of', 'times', 'it', 'was', 'the', 'age', 'of', 'wisdom', 'it', 'was', 'the', 'age', 'of', 'foolishness']\n"
     ]
    }
   ],
   "source": [
    "wordlist = wordstring.split()\n",
    "print(wordlist)"
   ]
  },
  {
   "cell_type": "markdown",
   "metadata": {},
   "source": [
    "Counting how many times something occurs is a very common task in programming, so Python includes a special kind of object—a Counter—to make the task easier.\n",
    "\n",
    "To use the Counter object, you need to import it from the collections module."
   ]
  },
  {
   "cell_type": "code",
   "execution_count": 27,
   "metadata": {},
   "outputs": [],
   "source": [
    "from collections import Counter"
   ]
  },
  {
   "cell_type": "markdown",
   "metadata": {},
   "source": [
    "Let's say that you wanted to know how many times each letter occurred. To do this in Python, just pass the list to the Counter object like so:\n"
   ]
  },
  {
   "cell_type": "code",
   "execution_count": 28,
   "metadata": {},
   "outputs": [
    {
     "data": {
      "text/plain": [
       "Counter({'it': 4,\n",
       "         'was': 4,\n",
       "         'the': 4,\n",
       "         'best': 1,\n",
       "         'of': 4,\n",
       "         'times': 2,\n",
       "         'worst': 1,\n",
       "         'age': 2,\n",
       "         'wisdom': 1,\n",
       "         'foolishness': 1})"
      ]
     },
     "execution_count": 28,
     "metadata": {},
     "output_type": "execute_result"
    }
   ],
   "source": [
    "count = Counter(wordlist)\n",
    "count"
   ]
  },
  {
   "cell_type": "markdown",
   "metadata": {},
   "source": [
    "Here we've assigned a Counter object to the variable count (although you can use whatever variable name you want, of course). Just evaluating the count object shows the counts for each of the items in the list, telling us (for example) that the word 'it' occurs five times, the word 'times' occurs two times, and so forth."
   ]
  },
  {
   "cell_type": "markdown",
   "metadata": {},
   "source": [
    "You can get the count for a particular item in the Counter by using indexing syntax as though it were a dictionary:"
   ]
  },
  {
   "cell_type": "code",
   "execution_count": 29,
   "metadata": {},
   "outputs": [
    {
     "data": {
      "text/plain": [
       "2"
      ]
     },
     "execution_count": 29,
     "metadata": {},
     "output_type": "execute_result"
    }
   ],
   "source": [
    "count[\"times\"]"
   ]
  },
  {
   "cell_type": "markdown",
   "metadata": {},
   "source": [
    "The .most_common() method returns a list of tuples of the most common items in the counter, in descending order by number:\n"
   ]
  },
  {
   "cell_type": "code",
   "execution_count": 30,
   "metadata": {},
   "outputs": [
    {
     "data": {
      "text/plain": [
       "[('it', 4),\n",
       " ('was', 4),\n",
       " ('the', 4),\n",
       " ('of', 4),\n",
       " ('times', 2),\n",
       " ('age', 2),\n",
       " ('best', 1),\n",
       " ('worst', 1),\n",
       " ('wisdom', 1),\n",
       " ('foolishness', 1)]"
      ]
     },
     "execution_count": 30,
     "metadata": {},
     "output_type": "execute_result"
    }
   ],
   "source": [
    "count.most_common()"
   ]
  },
  {
   "cell_type": "markdown",
   "metadata": {},
   "source": [
    "# Let's count with some real text from the internet."
   ]
  },
  {
   "cell_type": "code",
   "execution_count": 31,
   "metadata": {},
   "outputs": [
    {
     "name": "stdout",
     "output_type": "stream",
     "text": [
      "<!DOCTYPE html PUBLIC \"-//W3C//DTD XHTML 1.0 Strict//EN\" \"http://www.w3.org/TR/xhtml1/DTD/xhtml1-strict.dtd\">\n",
      "<html lang=\"en\" xml:lang=\"en\" xmlns=\"http://www.w3.org/1999/xhtml\">\n",
      "<head>\n",
      "<title>Browse - Central Criminal Court</title>\n",
      "<meta content=\"text/html; charset=utf-8\" http-equiv=\"content-type\"/>\n",
      "<link href=\"css/screen.css\" media=\"screen\" rel=\"stylesheet\" type=\"text/css\"/>\n",
      "<!--<link rel=\"stylesheet\" type=\"text/css\" media=\"screen\" href=\"a.css\" />-->\n",
      "<!--[if (lte IE 7)&(gte IE 5.5)]><link rel=\"stylesheet\" type=\"text/css\" media=\"screen\" href=\"css/ie7.css\" /><![endif]-->\n",
      "<!--[if (lte IE 6)&(gte IE 5.5)]><link rel=\"stylesheet\" type=\"text/css\" media=\"screen\" href=\"css/ie6.css\" /><![endif]-->\n",
      "<!--[if (lt IE 6)&(gte IE 5.5)]><link rel=\"stylesheet\" type=\"text/css\" media=\"screen\" href=\"css/ie5.css\" /><![endif]-->\n",
      "<link href=\"css/print.css\" media=\"print\" rel=\"stylesheet\" type=\"text/css\"/>\n",
      "<script src=\"a.js\" type=\"text/javascript\"></script>\n",
      "<script src=\"dp.js\" type=\"text/javascript\"></script>\n",
      "<script type=\"text/javascript\">\n",
      "\n",
      "\tvar _gaq = _gaq || [];\n",
      "\t_gaq.push(['_setAccount', 'UA-19174022-1']);\n",
      "\t_gaq.push(['_trackPageview']);\n",
      "\n",
      "\t(function() {\n",
      "\tvar ga = document.createElement('script'); ga.type = 'text/javascript'; ga.async = true;\n",
      "\tga.src = ('https:' == document.location.protocol ? 'https://ssl' : 'http://www') + '.google-analytics.com/ga.js';\n",
      "\tvar s = document.getElementsByTagName('script')[0]; s.parentNode.insertBefore(ga, s);\n",
      "\t})();\n",
      "\n",
      "\t</script>\n",
      "<script async=\"\" data-ad-client=\"ca-pub-4039069653685742\" src=\"https://pagead2.googlesyndication.com/pagead/js/adsbygoogle.js\"></script>\n",
      "</head>\n",
      "<body onload=\"dp();\"><div class=\"wrap\"><div class=\"wrap2\">\n",
      "<!-- #skiplinks -->\n",
      "<div id=\"skiplinks\"><ul><li><a href=\"#main\">Jump to Content</a></li><li><a href=\"#mainnav\">Jump to Main Navigation</a></li><li><a href=\"#subnav\">Jump to Section Navigation</a></li></ul></div><!-- #skiplinks -->\n",
      "<!-- HEADER -->\n",
      "<div id=\"header\">\n",
      "<h1><a href=\"/\">The Proceedings of the Old Bailey</a></h1>\n",
      "<h2>London's Central Criminal Court, 1674 to 1913</h2>\n",
      "</div><hr/><!-- #header -->\n",
      "<!-- MAIN NAVIGATION -->\n",
      "<div class=\"clearfix\" id=\"mainnav\"><div><h2 class=\"label\">Main Navigation</h2><ul><li><a href=\"index.jsp\">Home</a></li><li><a href=\"forms/formMain.jsp\">Search</a></li><li><a href=\"static/Proceedings.jsp\">About The Proceedings</a></li><li><a href=\"static/History.jsp\">Historical Background</a></li><li><a href=\"static/Data.jsp\">Data</a></li><li><a href=\"static/Project.jsp\">The Project</a></li><!--<li><a href=\"http://www.hrionline.ac.uk/obp-wiki/index.php/Main_Page\">User Wiki</a></li\n",
      ">--><li class=\"last\"><a href=\"static/Contact.jsp\">Contact</a></li></ul></div></div><hr/><!-- #mainnav -->\n",
      "<!-- #content -->\n",
      "<div class=\"clearfix\" id=\"content\"><div id=\"content2\"><div id=\"content3\">\n",
      "<!--<p class=\"announce\"></p>-->\n",
      "<!-- MAIN CONTENT -->\n",
      "<div class=\"full\" id=\"main\"><div id=\"main2\">\n",
      "<div class=\"sessionsPaper\"><a class=\"invisible\" name=\"t17800628-33\"> </a><div class=\"sessions-paper-main-title\">BENJAMIN BOWSEY. </div><div class=\"sessions-paper-sub-title\"><a href=\"static/Crimes.jsp#breakingpeace\">Breaking Peace</a>: <a href=\"static/Crimes.jsp#riot\">riot</a>. </div><div class=\"sessions-paper-date\">28th June 1780</div><div class=\"ob-panel\"><table class=\"ob-info-table\"><tr><th>Reference Number</th><td>t17800628-33</td></tr><tr><th>Verdict</th><td><a href=\"static/Verdicts.jsp#guilty\">Guilty</a></td></tr><tr><th>Sentence</th><td><a href=\"static/Punishment.jsp#death\">Death</a></td></tr></table><span class=\"related-links-span\"><hr class=\"ob-hr\"/><table class=\"ob-info-table\"><tr><th>Related Material</th><td> <div class=\"related-links-assocrec\"><img class=\"assocrec-mini\" src=\"i/book.png\"/><a href=\"search.jsp?form=associatedRecords&amp;_associatedRecords_trials=t17800628-33\">Associated Records</a></div><span class=\"related-links-defs\"><span class=\"related-links-def\" dpid=\"t17800628-33-defend448\"><img src=\"graphics/progress.gif\"/></span></span></td></tr></table></span><hr class=\"ob-hr\"/><table class=\"ob-info-table\"><tr><th>Actions</th><td><a href=\"javascript:expand('citation')\">Cite this text</a><div class=\"hidden\" id=\"citation\"><i>Old Bailey Proceedings Online</i> (www.oldbaileyonline.org, version 8.0, 17 August 2021), June 1780, trial of                      BENJAMIN                      BOWSEY                                                                               (t17800628-33).<div style=\"text-align:right\"><a href=\"javascript:contract('citation')\">Close</a></div></div> | <a href=\"print.jsp?div=t17800628-33\">Print-friendly version</a> | <a href=\"forms/formError.jsp?div=t17800628-33\" target=\"_blank\">Report an error</a></td></tr><tr><th>Navigation</th><td><a href=\"browse.jsp?div=t17800628-32\">&lt; Previous text (trial account)</a> | <a href=\"browse.jsp?div=t17800628-34\">Next text (trial account) &gt;</a></td></tr></table></div><div class=\"facsimile-link-wrapper\"><div class=\"facsimile-link\"><span class=\"facsimile-text\"><a href=\"images.jsp?doc=178006280084\">See original</a></span><span class=\"facsimile-image\"><a href=\"images.jsp?doc=178006280084\"><img alt=\"Click to see original\" class=\"facsimile-image-img\" src=\"i/genericThumb.jpg\"/></a></span></div></div> <p>324.                                  <a class=\"invisible\" name=\"t17800628-33-defend448\"> </a>                     BENJAMIN                      BOWSEY                                                                                                          (a blackmoor                  ) was indicted for                                                          that he together with five hundred other persons and more, did, unlawfully, riotously, and tumultuously assemble on the 6th of June                      to the disturbance of the public peace and did begin to demolish and pull down the dwelling house of                                              <a class=\"invisible\" name=\"t17800628-33-victim450\"> </a>                           Richard                            Akerman                                                                                                                                                            , against the form of the statute, &amp;c.                           </p> <p> <a class=\"invisible\" name=\"t17800628-33-person451\"> </a>                  ROSE                   JENNINGS                                                                                       , Esq. sworn.</p> <p>Had you any occasion to be in this part of the town, on the 6th of June in the evening? - I dined with my brother who lives opposite Mr. Akerman's house. They attacked Mr. Akerman's house precisely at seven o'clock; they were preceded by a man better dressed than the rest, who went up to Mr. Akerman's door; he rapped three times, and I believe pulled the bell as often. Mr. Akerman had barrocadoed his house. When the man found that no one came, he went down the steps, made his obeisance to the mob, and pointed to the door, and then retired.</p> <p>Have you any recollection how that man who you say had a better appearance than the rest was dressed? - I think he had on a dark brown coat and a round ha, but I cannot be particular as to that; the mob immediately following in that formidable manner made such an impression upon me, that I did not take notice. The mob approached about thirty in number, three a-breast, some with paving mattocks, others with iron crows and chissels; and then followed an innumerable company with bludgeons; they seemed to be the spokes of coach-wheels; they divided, some went to Mr. Akerman's door with the mattocks, some to the felons door, and some to the debtor's door. I was struck with the formidable appearance and order in which they divided and proceeded to destroy the place, the men threw their sticks up at the windows, which they broke and demolished, yet notwith standing these sticks were coming down in showers, two men with a bar, such as brewers servants carry on their shoulders,</p><div class=\"facsimile-link-wrapper\"><div class=\"facsimile-link\"><span class=\"facsimile-text\"><a href=\"images.jsp?doc=178006280087\">See original</a></span><span class=\"facsimile-image\"><a href=\"images.jsp?doc=178006280087\"><img alt=\"Click to see original\" class=\"facsimile-image-img\" src=\"i/genericThumb.jpg\"/></a></span></div></div> attacked the parlour window to force it open. The window-shutters were exceedingly tough; they at last forced them partly open, but not quite. I then saw a man in a sailor's jacket helped up, he forced himself neck and heels into the window. They found the house-door still difficult to get open; before it was got open the other parlour window was opened and the mob were throwing the goods out at the window; at last the house-door gave way; about the same time some of the goods and furniture having been thrown out into the street, a fire was kindled.               <p>They proceeded immediately to throw the goods out of the house? - Immediately. An equal degree of activity seemed to exhibit itself on the outside as within, one party to burn, the other to throw out the goods of Mr. Akerman. When the conflagration took place I applied my mind to the mob.</p> <p>Was Mr. Akerman's house on fire then? - No. I was situated in the one-pair-of-stairs room, and could see what happened. I endeavoured to form a distinction between the active and inactive people. I thought I did so; the inactive people seemed to form a circle. I observed a person better dressed than the rest among those within the circle, who did not meddle, but seemed to be exciting and encouraging others. I saw several genteel looking men, and amongst them a black; there was one genteel man in particular, whose conduct I confess excited my indignation, and I took particular notice of him. I went down amongst the mob; I spoke to him; I made myself master of his voice; I believe if I was out of his sight I could swear to his voice; I have never seen that man since. When I first saw the black I turned to a lady and said, this is a motley crew, and of every colour. Mr. Akerman's house had then catched fire; the house in which I was was in extreme danger; my self with some others went down to desire the mob to prevent the houses of innocent people catching fire; and the mob were as active in saving those as in destroying Mr. Akerman's. I had no opportunity of making any remarks till I went to my station again, then I believe it was near nine o'clock; I heard a cry and a gingling of keys in the hands of some person; there were three or four genteel persons, but who had the keys I cannot say. Amongst them was the prisoner at the bar; he was without his hat, and his hands were down. I thought he might have his hat in his hand. The house I think was at that time destroyed; the roof was fallen in. Then those persons of the genteeler description moved off towards Smithfield, and amongst them was the prisoner.</p> <p>You had observed the black in the mob before you went down? - I had.</p> <p>Are you able to say who that black was? - No. Seeing this man afterwards I took it for granted it was him; I was certain to him the second time; he had his hat off in the middle of the mob.</p> <p>Jury. You said his hands were down, did you see any thing in his hands? - No, I did not; I took it for granted he had his hat in his hand, not having it on his head.</p> <p>Cross Examination.</p> <p>There were I believe other blacks in the mob? - I never saw but one; I saw a black at first, but did not remark him so as to swear to him.</p> <p>You could not swear to him I suppose from the difficulty every man has in his mind to swear to any black? - Yes.</p> <p>There is more difficulty to swear to a black than to a white man? - No. The second time I made my remark too judiciously to err.</p> <p>When was it you first saw the black? - After the goods were first set on fire, which was about a quarter after seven o'clock.</p> <p>What dress had the black on? - Something of a dark colour, but my remark was on his face.</p> <p>What w as remarkable in that man's face more than another black? - The make of his hair was one thing; the curls were out if he had had any; and his hair smooth on his head. His face was so exposed to my view the second time, that I could not be better situated to make any remark on his face.</p> <p> </p><div class=\"facsimile-link-wrapper\"><div class=\"facsimile-link\"><span class=\"facsimile-text\"><a href=\"images.jsp?doc=178006280088\">See original</a></span><span class=\"facsimile-image\"><a href=\"images.jsp?doc=178006280088\"><img alt=\"Click to see original\" class=\"facsimile-image-img\" src=\"i/genericThumb.jpg\"/></a></span></div></div>His hair was the thing by which you knew him? - His hair and his face.               <p>What was particular in his face? - I cannot distinguish it any other than from the weight of the impression it made on me.</p> <p>Counsel for the Crown. Have you any doubt about him? - No.</p> <p> <a class=\"invisible\" name=\"t17800628-33-person452\"> </a>                  ANN                   WOOD                                                                                        sworn.</p> <p>I live at Mr. Jennings's, opposite Mr. Akerman's house.</p> <p>Was you at home on the Tuesday evening when Mr. Akerman's house was attacked? - I was.</p> <p>Did you in the course of that evening see the prisoner? - I did. It was a little after seven o'clock; I saw him in Mr. Akerman's two-pair-of-stairs room, he stood against the window with something in his hand and looked at me for some time before I observed particularly what he was doing. I looked at him then, and he took up something off the ground and held it up to me; when he held it up, I went down from the window into the dining-room; I came up again, and he was there still. He seemed to be looking in a drawer upon the floor, and seemed to be doing some thing up into a bundle.</p> <p>You was in the two-pair-of-stairs room opposite him? - No, I was in the three-pair-of-stairs room.</p> <p>Did you afterwards see him do any thing else? - He got up and looked at me and nodded his head at me; then I went down stairs.</p> <p>You saw him again in the course of the evening? - Yes, I saw him an hour or two afterwards in the mob.</p> <p>From the observation you made of his person are you sure that is the man? - That is the man.</p> <p>Have you any doubt about it? - No, none at all.</p> <p>Cross Examination.</p> <p>What makes you so positive that this is the man? - I know his face perfectly again by his standing and looking at me so long.</p> <p>You recollect him only by his face? - His face and his hair.</p> <p>Did you see any other black there? - Yes, I did; not in the house but in the mob.</p> <p>Could you swear to him? - I do not know that I could. I took more notice of this man than I did of any other.</p> <p>Court. What were the other people doing when the prisoner was in the two-pair-of-stairs room? - Some of the mob were pulling the house down, and some were running in with the fire to set the parlour on fire.</p> <p>Jury. How many times did you see this prisoner? - Two or three times.</p> <p>Had he his hat on when you saw him? - Yes.</p> <p> <a class=\"invisible\" name=\"t17800628-33-person453\"> </a>                  ANN                   LESSAR                                                                                        sworn.</p> <p>Do you know the prisoner? - Yes.</p> <p>Where do you live? - I lodge in the same lodging, in which the prisoner lodged; I took the lodging of him and the landlady.</p> <p>Do you remember his coming to you and bringing you any stockings? - He gave me three pair of stockings to mark.</p> <p>What mark did he bid you put upon them? - Any kind of mark to distinguish them at the washerwoman's. I put BB, the initials of his name upon them.</p> <p>Had he left a trunk in the room? - Yes, the trunk was found there by the constable when he came; it was locked, he had the key of it.</p> <p>Who had the key of the room? - I had; nobody could get at the box without my knowledge.</p> <p> <a class=\"invisible\" name=\"t17800628-33-person454\"> </a>                  PERCIVAL                   PHILLIPS                                                                                        sworn.</p> <p>I am a constable. I searched the lodging of the prisoner last Tuesday-week.</p> <p>Did you find a trunk there? - I did.</p> <p>Did you find any thing in that trunk? - Yes; these stockings, this pocket book, and a handkerchief. (producing them.)</p> <p>Any thing else? - This key (producing it) was upon the shelf in the lodging.</p> <p>Mr.                <a class=\"invisible\" name=\"t17800628-33-person455\"> </a>                  RICHARD                   AKERMAN                                                                                        sworn.</p> <p>This pocket-book, I believe, has been in my possession thirty years; it was, I believe, in one of the drawers belonging to my wife; here are several of my banker's cheques which had my name to them.</p> <p>Look at the stockings? - Here is a very remarkable pair which I had made for me, and the maker wove the initials of my</p><div class=\"facsimile-link-wrapper\"><div class=\"facsimile-link\"><span class=\"facsimile-text\"><a href=\"images.jsp?doc=178006280089\">See original</a></span><span class=\"facsimile-image\"><a href=\"images.jsp?doc=178006280089\"><img alt=\"Click to see original\" class=\"facsimile-image-img\" src=\"i/genericThumb.jpg\"/></a></span></div></div> name in them in open work; the prisoner has put the initials of his name (B B) over it; they were in the drawers in a one-pair of stairs room. Here are several others that were marked by my sister, they are mine; I believe the handkerchiefs to be mine, but there are no particular marks on them; there are a pair of stockings that were taken off the prisoner's legs, which has the name cut out.               <p>To Phillips. Did you take them off the prisoner's legs? - I did.</p> <p>To Mr. Akerman. Is the place that is cut out the place where the name was wove? - Yes. This is a remarkable key; it is a key of the Park, it has a crown and my name at length upon it.</p> <p>To Lessar. Do you know any thing of the key that was found in the lodging? - No, it was on the shelf when he had the lodging?</p> <p>Was it there when he left the lodging? - I believe it was there; I saw it once or twice; I never knew the meaning of the key.</p> <p>Prisoner. My Lord, please to ask that woman if she did not wash the handkerchief the things were tied up in? - I washed a blue-and-white silk handkerchief, I cannot swear it was this, it was all over mud. I washed it on the Thursday, the first week that I was in the house.</p> <p>Was that after the burning of Newgate? - Yes. I was not in town till it was burnt.</p> <p>Prisoner. I leave my defence to my counsel and my witnesses.</p> <p>For the prisoner.</p> <p>Dr. SANDIMAN sworn.</p> <p>Do you know the prisoner? - Yes, I knew him five years ago, he lived with a relation of mine; he bore an exceeding good character; he used to come backwards and forwards to my house.</p> <p> <a class=\"invisible\" name=\"t17800628-33-person456\"> </a>                  ROBERT                   GATES                                                                                        sworn.</p> <p>I am footman to Mr. Goodhousen in Golden Square.</p> <p>Do you know the prisoner? - I do; I have known him perfectly well from the second day after he came to England, which is six years ago; he lived with a person I knew in America, that person gave him an excellent character, and he has always borne a good character since I knew him.</p> <p> <a class=\"invisible\" name=\"t17800628-33-person457\"> </a>                  GRACE                   ROBERTS                                                                                        sworn.</p> <p>The prisoner lay at our house the night that the prison was burnt.</p> <p>What time did you see him that night? - I am not positive to the hour he came in, it was from nine to eleven o'clock.</p> <p>What time did he come home? - I am not positive to the hour, it was a little after nine.</p> <p>Are you positive of that? - Yes.</p> <p>Where do you live? - At No. 3, in Berner's-street.</p> <p>He came home a little after nine? - Yes, I am certain of it; he continued there all that night till six in the morning, and was never out of the house.</p> <p>What day was that? - The 6th of June.</p> <p>What day of the week? - I am not certain.</p> <p>Are you sure it was the night the prison was burnt? - I am.</p> <p>What prison? - I am not certain what prison, I heard it mentioned in the family that the prison was burnt down.</p> <p>Cross Examination.</p> <p>Who bid you to remember the 6th of June? - I remember it by the people being taken up.</p> <p>When did you talk of its being the 6th of June? - I know he lay at our house on the 6th of June.</p> <p>Did you take notice of any other night when he lay there? - No.</p> <p>Did not he lie there on the 7th and 8th of June? - No, only that night.</p> <p>You are an acquaintance of his? - Yes.</p> <p>Is he a married man? - I cannot say.</p> <p>Did he bring any body with him? - No.</p> <p>Did he lie by himself? - Yes, I gave him a candle to light him to bed.</p> <p>Did you know he was to lie there that night? - Yes, he told my fellow servant so.</p> <p>You are a servant, are you? - Yes.</p> <p>Did your master know that this man was to lie in the house? - I cannot tell.</p> <p>Do you let such persons lie in the house without your master's knowledge? - He was an old servant, he lay in the servants hall.</p> <p>Other servants lie there? - Yes, there was a black lay there.</p> <p> </p><div class=\"facsimile-link-wrapper\"><div class=\"facsimile-link\"><span class=\"facsimile-text\"><a href=\"images.jsp?doc=178006280090\">See original</a></span><span class=\"facsimile-image\"><a href=\"images.jsp?doc=178006280090\"><img alt=\"Click to see original\" class=\"facsimile-image-img\" src=\"i/genericThumb.jpg\"/></a></span></div></div> <a class=\"invisible\" name=\"t17800628-33-person458\"> </a>                  JOHN                   NORTHINGTON                                                                                        (a Black) sworn.               <p>I am servant to Mr. Wood.</p> <p>Did the prisoner lie at your house? - Yes, on the night that Holbourn was on fire.</p> <p>When the house of Mr. Langdale was on fire? - Yes, the man that lives in Holbourn.</p> <p>Counsel for the Crown. That was on Wednesday night, the 7th?</p> <p>To Roberts. Where did the prisoner use to sleep at other times? - In the same bed.</p> <p>That was when he was a servant there? - Yes.</p> <p>When he was not a servant there where did he sleep? - He never lay at our house when he was not a servant but that night; I cannot be positive to the night nor the day of the week; I say nothing but the truth.</p> <p>Prisoner to                <a class=\"invisible\" name=\"t17800628-33-person459\"> </a>                  Ann                   Wood                                                                                       . What dress had I on that night? - A light brownish coat, a round hat, and a red waistcoat.</p> <p>                                                      GUILTY             (                                                         Death            .)</p> <p>Tried by the Second London Jury before Mr. Justice NARES.</p> </div>\n",
      "<br/>\n",
      "<p><a href=\"browse.jsp?foo=bar&amp;path=sessionsPapers/17800628.xml&amp;div=t17800628-33&amp;xml=yes\">View as XML</a></p>\n",
      "</div></div><hr/><!-- #main -->\n",
      "</div></div><!-- #content3 #content2 -->\n",
      "<!-- SUB NAVIGATION -->\n",
      "<div id=\"subnav\">\n",
      "<h2 class=\"label\">Section Navigation</h2>\n",
      "<ul>\n",
      "<li><a href=\"forms/formMain.jsp\">Search Home</a></li>\n",
      "<li><a href=\"forms/formPersName.jsp\">Personal Details</a></li>\n",
      "<li><a href=\"forms/formOrdinarysAccounts.jsp\">Ordinary's Accounts, 1676-1772</a></li>\n",
      "<li><a href=\"browse.jsp?dir=sessionsPapers\">Proceedings by date</a></li>\n",
      "<li><a href=\"browse.jsp?dir=ordinarysAccounts\">Ordinary's Accounts by date</a></li>\n",
      "<li><a href=\"forms/formStats.jsp\">Statistics</a></li>\n",
      "<li><a href=\"forms/formCustom.jsp\">Custom Search</a></li>\n",
      "<li><a href=\"forms/formAssociatedRecords.jsp\">Associated Records, 1674-1834</a></li>\n",
      "<li><a href=\"obapi/\" target=\"_blank\">API Demonstrator</a></li>\n",
      "<!--<li ><a href=\"forms/formMaps.jsp\">Place and Map Search, 1674-1834</a></li>-->\n",
      "</ul>\n",
      "<!--\n",
      "\n",
      "\t<ul>\n",
      "\t<li ><a href=\"login.jsp\">Login / Register</a></li>\n",
      "\t</ul>\n",
      "\n",
      "-->\n",
      "<div id=\"googleAdDivider\"><p> </p></div>\n",
      "<!-- OB-ads-1 -->\n",
      "<ins class=\"adsbygoogle\" data-ad-client=\"ca-pub-4039069653685742\" data-ad-format=\"auto\" data-ad-slot=\"1036478750\" data-full-width-responsive=\"true\" style=\"display:block\"></ins>\n",
      "<script>\n",
      "     (adsbygoogle = window.adsbygoogle || []).push({});\n",
      "</script>\n",
      "</div><hr/><!-- #subnav -->\n",
      "</div><!-- #content -->\n",
      "<!-- FOOTER -->\n",
      "<div class=\"clearfix\" id=\"footer\">\n",
      "<h2 class=\"label\">Footer</h2>\n",
      "<p>Version 8.0 | March 2018\n",
      "</p>\n",
      "<p><span>© 2003-2018 Old Bailey Proceedings Online</span></p>\n",
      "<p>We welcome your <a href=\"static/Contact.jsp\"><span>feedback</span></a> on this web site</p>\n",
      "<ul class=\"nav\">\n",
      "<li><a href=\"static/Site-map.jsp\"><span>Sitemap</span></a></li>\n",
      "<li><a href=\"static/Legal-info.jsp\"><span>Copyright &amp; Citation Guide</span></a></li>\n",
      "<li><a href=\"http://markhadley.com\"><span>Visual Design</span></a></li>\n",
      "<li class=\"last\"><a href=\"http://www.sheffield.ac.uk/hri/\"><span>Technical Design</span></a></li>\n",
      "</ul>\n",
      "</div><!-- #footer -->\n",
      "</div></div>\n",
      "</body>\n",
      "</html>\n",
      "\n"
     ]
    }
   ],
   "source": [
    "# Import some text from online.  This isn't a step that you'll need to repeat -- since you'll be\n",
    "# getting pre-packaged data in a Jupyter notebook in a few weeks -- but you can run these commands\n",
    "# to \"scrape\" text off of the internet.\n",
    "import urllib.request, urllib.error, urllib.parse, bs4 as bs\n",
    "source = urllib.request.urlopen('http://www.oldbaileyonline.org/browse.jsp?id=t17800628-33&div=t17800628-33')\n",
    "soup = bs.BeautifulSoup(source, 'lxml')\n",
    "print(soup)\n",
    "\n",
    "# What does the BeautifulSoup package do?  What functions were involved?"
   ]
  },
  {
   "cell_type": "code",
   "execution_count": 32,
   "metadata": {},
   "outputs": [
    {
     "name": "stdout",
     "output_type": "stream",
     "text": [
      "<title>Browse - Central Criminal Court</title>\n"
     ]
    }
   ],
   "source": [
    "# What have we mined?\n",
    "print(soup.title)"
   ]
  },
  {
   "cell_type": "code",
   "execution_count": 33,
   "metadata": {},
   "outputs": [
    {
     "name": "stdout",
     "output_type": "stream",
     "text": [
      "\n",
      "\n",
      "browse - central criminal court\n",
      "\n",
      "\n",
      "\n",
      "\n",
      "\n",
      "\n",
      "\n",
      "\n",
      "\n",
      "\n",
      "\n",
      "\n",
      "\n",
      "\n",
      "jump to contentjump to main navigationjump to section navigation\n",
      "\n",
      "\n",
      "the proceedings of the old bailey\n",
      "london's central criminal court, 1674 to 1913\n",
      "\n",
      "\n",
      "main navigationhomesearchabout the proceedingshistorical backgrounddatathe projectcontact\n",
      "\n",
      "\n",
      "\n",
      "\n",
      "\n",
      " benjamin bowsey. breaking peace: riot. 28th june 1780reference numbert17800628-33verdictguiltysentencedeathrelated material associated recordsactionscite this textold bailey proceedings online (www.oldbaileyonline.org, version 8.0, 17 august 2021), june 1780, trial of                      benjamin                      bowsey                                                                               (t17800628-33).close | print-friendly version | report an errornavigation< previous text (trial account) | next text (trial account) >see original 324.                                                        benjamin                      bowsey                                                                                                          (a blackmoor                  ) was indicted for                                                          that he together with five hundred other persons and more, did, unlawfully, riotously, and tumultuously assemble on the 6th of june                      to the disturbance of the public peace and did begin to demolish and pull down the dwelling house of                                                                          richard                            akerman                                                                                                                                                            , against the form of the statute, &c.                                                rose                   jennings                                                                                       , esq. sworn. had you any occasion to be in this part of the town, on the 6th of june in the evening? - i dined with my brother who lives opposite mr. akerman's house. they attacked mr. akerman's house precisely at seven o'clock; they were preceded by a man better dressed than the rest, who went up to mr. akerman's door; he rapped three times, and i believe pulled the bell as often. mr. akerman had barrocadoed his house. when the man found that no one came, he went down the steps, made his obeisance to the mob, and pointed to the door, and then retired. have you any recollection how that man who you say had a better appearance than the rest was dressed? - i think he had on a dark brown coat and a round ha, but i cannot be particular as to that; the mob immediately following in that formidable manner made such an impression upon me, that i did not take notice. the mob approached about thirty in number, three a-breast, some with paving mattocks, others with iron crows and chissels; and then followed an innumerable company with bludgeons; they seemed to be the spokes of coach-wheels; they divided, some went to mr. akerman's door with the mattocks, some to the felons door, and some to the debtor's door. i was struck with the formidable appearance and order in which they divided and proceeded to destroy the place, the men threw their sticks up at the windows, which they broke and demolished, yet notwith standing these sticks were coming down in showers, two men with a bar, such as brewers servants carry on their shoulders,see original attacked the parlour window to force it open. the window-shutters were exceedingly tough; they at last forced them partly open, but not quite. i then saw a man in a sailor's jacket helped up, he forced himself neck and heels into the window. they found the house-door still difficult to get open; before it was got open the other parlour window was opened and the mob were throwing the goods out at the window; at last the house-door gave way; about the same time some of the goods and furniture having been thrown out into the street, a fire was kindled.               they proceeded immediately to throw the goods out of the house? - immediately. an equal degree of activity seemed to exhibit itself on the outside as within, one party to burn, the other to throw out the goods of mr. akerman. when the conflagration took place i applied my mind to the mob. was mr. akerman's house on fire then? - no. i was situated in the one-pair-of-stairs room, and could see what happened. i endeavoured to form a distinction between the active and inactive people. i thought i did so; the inactive people seemed to form a circle. i observed a person better dressed than the rest among those within the circle, who did not meddle, but seemed to be exciting and encouraging others. i saw several genteel looking men, and amongst them a black; there was one genteel man in particular, whose conduct i confess excited my indignation, and i took particular notice of him. i went down amongst the mob; i spoke to him; i made myself master of his voice; i believe if i was out of his sight i could swear to his voice; i have never seen that man since. when i first saw the black i turned to a lady and said, this is a motley crew, and of every colour. mr. akerman's house had then catched fire; the house in which i was was in extreme danger; my self with some others went down to desire the mob to prevent the houses of innocent people catching fire; and the mob were as active in saving those as in destroying mr. akerman's. i had no opportunity of making any remarks till i went to my station again, then i believe it was near nine o'clock; i heard a cry and a gingling of keys in the hands of some person; there were three or four genteel persons, but who had the keys i cannot say. amongst them was the prisoner at the bar; he was without his hat, and his hands were down. i thought he might have his hat in his hand. the house i think was at that time destroyed; the roof was fallen in. then those persons of the genteeler description moved off towards smithfield, and amongst them was the prisoner. you had observed the black in the mob before you went down? - i had. are you able to say who that black was? - no. seeing this man afterwards i took it for granted it was him; i was certain to him the second time; he had his hat off in the middle of the mob. jury. you said his hands were down, did you see any thing in his hands? - no, i did not; i took it for granted he had his hat in his hand, not having it on his head. cross examination. there were i believe other blacks in the mob? - i never saw but one; i saw a black at first, but did not remark him so as to swear to him. you could not swear to him i suppose from the difficulty every man has in his mind to swear to any black? - yes. there is more difficulty to swear to a black than to a white man? - no. the second time i made my remark too judiciously to err. when was it you first saw the black? - after the goods were first set on fire, which was about a quarter after seven o'clock. what dress had the black on? - something of a dark colour, but my remark was on his face. what w as remarkable in that man's face more than another black? - the make of his hair was one thing; the curls were out if he had had any; and his hair smooth on his head. his face was so exposed to my view the second time, that i could not be better situated to make any remark on his face.  see originalhis hair was the thing by which you knew him? - his hair and his face.               what was particular in his face? - i cannot distinguish it any other than from the weight of the impression it made on me. counsel for the crown. have you any doubt about him? - no.                     ann                   wood                                                                                        sworn. i live at mr. jennings's, opposite mr. akerman's house. was you at home on the tuesday evening when mr. akerman's house was attacked? - i was. did you in the course of that evening see the prisoner? - i did. it was a little after seven o'clock; i saw him in mr. akerman's two-pair-of-stairs room, he stood against the window with something in his hand and looked at me for some time before i observed particularly what he was doing. i looked at him then, and he took up something off the ground and held it up to me; when he held it up, i went down from the window into the dining-room; i came up again, and he was there still. he seemed to be looking in a drawer upon the floor, and seemed to be doing some thing up into a bundle. you was in the two-pair-of-stairs room opposite him? - no, i was in the three-pair-of-stairs room. did you afterwards see him do any thing else? - he got up and looked at me and nodded his head at me; then i went down stairs. you saw him again in the course of the evening? - yes, i saw him an hour or two afterwards in the mob. from the observation you made of his person are you sure that is the man? - that is the man. have you any doubt about it? - no, none at all. cross examination. what makes you so positive that this is the man? - i know his face perfectly again by his standing and looking at me so long. you recollect him only by his face? - his face and his hair. did you see any other black there? - yes, i did; not in the house but in the mob. could you swear to him? - i do not know that i could. i took more notice of this man than i did of any other. court. what were the other people doing when the prisoner was in the two-pair-of-stairs room? - some of the mob were pulling the house down, and some were running in with the fire to set the parlour on fire. jury. how many times did you see this prisoner? - two or three times. had he his hat on when you saw him? - yes.                     ann                   lessar                                                                                        sworn. do you know the prisoner? - yes. where do you live? - i lodge in the same lodging, in which the prisoner lodged; i took the lodging of him and the landlady. do you remember his coming to you and bringing you any stockings? - he gave me three pair of stockings to mark. what mark did he bid you put upon them? - any kind of mark to distinguish them at the washerwoman's. i put bb, the initials of his name upon them. had he left a trunk in the room? - yes, the trunk was found there by the constable when he came; it was locked, he had the key of it. who had the key of the room? - i had; nobody could get at the box without my knowledge.                     percival                   phillips                                                                                        sworn. i am a constable. i searched the lodging of the prisoner last tuesday-week. did you find a trunk there? - i did. did you find any thing in that trunk? - yes; these stockings, this pocket book, and a handkerchief. (producing them.) any thing else? - this key (producing it) was upon the shelf in the lodging. mr.                                   richard                   akerman                                                                                        sworn. this pocket-book, i believe, has been in my possession thirty years; it was, i believe, in one of the drawers belonging to my wife; here are several of my banker's cheques which had my name to them. look at the stockings? - here is a very remarkable pair which i had made for me, and the maker wove the initials of mysee original name in them in open work; the prisoner has put the initials of his name (b b) over it; they were in the drawers in a one-pair of stairs room. here are several others that were marked by my sister, they are mine; i believe the handkerchiefs to be mine, but there are no particular marks on them; there are a pair of stockings that were taken off the prisoner's legs, which has the name cut out.               to phillips. did you take them off the prisoner's legs? - i did. to mr. akerman. is the place that is cut out the place where the name was wove? - yes. this is a remarkable key; it is a key of the park, it has a crown and my name at length upon it. to lessar. do you know any thing of the key that was found in the lodging? - no, it was on the shelf when he had the lodging? was it there when he left the lodging? - i believe it was there; i saw it once or twice; i never knew the meaning of the key. prisoner. my lord, please to ask that woman if she did not wash the handkerchief the things were tied up in? - i washed a blue-and-white silk handkerchief, i cannot swear it was this, it was all over mud. i washed it on the thursday, the first week that i was in the house. was that after the burning of newgate? - yes. i was not in town till it was burnt. prisoner. i leave my defence to my counsel and my witnesses. for the prisoner. dr. sandiman sworn. do you know the prisoner? - yes, i knew him five years ago, he lived with a relation of mine; he bore an exceeding good character; he used to come backwards and forwards to my house.                     robert                   gates                                                                                        sworn. i am footman to mr. goodhousen in golden square. do you know the prisoner? - i do; i have known him perfectly well from the second day after he came to england, which is six years ago; he lived with a person i knew in america, that person gave him an excellent character, and he has always borne a good character since i knew him.                     grace                   roberts                                                                                        sworn. the prisoner lay at our house the night that the prison was burnt. what time did you see him that night? - i am not positive to the hour he came in, it was from nine to eleven o'clock. what time did he come home? - i am not positive to the hour, it was a little after nine. are you positive of that? - yes. where do you live? - at no. 3, in berner's-street. he came home a little after nine? - yes, i am certain of it; he continued there all that night till six in the morning, and was never out of the house. what day was that? - the 6th of june. what day of the week? - i am not certain. are you sure it was the night the prison was burnt? - i am. what prison? - i am not certain what prison, i heard it mentioned in the family that the prison was burnt down. cross examination. who bid you to remember the 6th of june? - i remember it by the people being taken up. when did you talk of its being the 6th of june? - i know he lay at our house on the 6th of june. did you take notice of any other night when he lay there? - no. did not he lie there on the 7th and 8th of june? - no, only that night. you are an acquaintance of his? - yes. is he a married man? - i cannot say. did he bring any body with him? - no. did he lie by himself? - yes, i gave him a candle to light him to bed. did you know he was to lie there that night? - yes, he told my fellow servant so. you are a servant, are you? - yes. did your master know that this man was to lie in the house? - i cannot tell. do you let such persons lie in the house without your master's knowledge? - he was an old servant, he lay in the servants hall. other servants lie there? - yes, there was a black lay there.  see original                    john                   northington                                                                                        (a black) sworn.               i am servant to mr. wood. did the prisoner lie at your house? - yes, on the night that holbourn was on fire. when the house of mr. langdale was on fire? - yes, the man that lives in holbourn. counsel for the crown. that was on wednesday night, the 7th? to roberts. where did the prisoner use to sleep at other times? - in the same bed. that was when he was a servant there? - yes. when he was not a servant there where did he sleep? - he never lay at our house when he was not a servant but that night; i cannot be positive to the night nor the day of the week; i say nothing but the truth. prisoner to                                   ann                   wood                                                                                       . what dress had i on that night? - a light brownish coat, a round hat, and a red waistcoat.                                                       guilty             (                                                         death            .) tried by the second london jury before mr. justice nares. \n",
      "\n",
      "view as xml\n",
      "\n",
      "\n",
      "\n",
      "\n",
      "section navigation\n",
      "\n",
      "search home\n",
      "personal details\n",
      "ordinary's accounts, 1676-1772\n",
      "proceedings by date\n",
      "ordinary's accounts by date\n",
      "statistics\n",
      "custom search\n",
      "associated records, 1674-1834\n",
      "api demonstrator\n",
      "\n",
      "\n",
      "\n",
      " \n",
      "\n",
      "\n",
      "\n",
      "\n",
      "\n",
      "\n",
      "\n",
      "footer\n",
      "version 8.0 | march 2018\n",
      "\n",
      "© 2003-2018 old bailey proceedings online\n",
      "we welcome your feedback on this web site\n",
      "\n",
      "sitemap\n",
      "copyright & citation guide\n",
      "visual design\n",
      "technical design\n",
      "\n",
      "\n",
      "\n",
      "\n",
      "\n",
      "\n"
     ]
    }
   ],
   "source": [
    "#format the text\n",
    "text = soup.get_text().lower() \n",
    "print(text)"
   ]
  },
  {
   "cell_type": "code",
   "execution_count": 34,
   "metadata": {},
   "outputs": [
    {
     "name": "stdout",
     "output_type": "stream",
     "text": [
      "['browse', '-', 'central', 'criminal', 'court', 'jump', 'to', 'contentjump', 'to', 'main', 'navigationjump', 'to', 'section', 'navigation', 'the', 'proceedings', 'of', 'the', 'old', 'bailey', \"london's\", 'central', 'criminal', 'court,', '1674', 'to', '1913', 'main', 'navigationhomesearchabout', 'the', 'proceedingshistorical', 'backgrounddatathe', 'projectcontact', 'benjamin', 'bowsey.', 'breaking', 'peace:', 'riot.', '28th', 'june', '1780reference', 'numbert17800628-33verdictguiltysentencedeathrelated', 'material', 'associated', 'recordsactionscite', 'this', 'textold', 'bailey', 'proceedings', 'online', '(www.oldbaileyonline.org,', 'version', '8.0,', '17', 'august', '2021),', 'june', '1780,', 'trial', 'of', 'benjamin', 'bowsey', '(t17800628-33).close', '|', 'print-friendly', 'version', '|', 'report', 'an', 'errornavigation<', 'previous', 'text', '(trial', 'account)', '|', 'next', 'text', '(trial', 'account)', '>see', 'original', '324.', 'benjamin', 'bowsey', '(a', 'blackmoor', ')', 'was', 'indicted', 'for', 'that', 'he', 'together', 'with', 'five', 'hundred', 'other', 'persons', 'and', 'more,', 'did,', 'unlawfully,', 'riotously,', 'and', 'tumultuously', 'assemble', 'on', 'the', '6th', 'of', 'june', 'to', 'the', 'disturbance', 'of', 'the', 'public', 'peace', 'and', 'did', 'begin', 'to', 'demolish', 'and', 'pull', 'down', 'the', 'dwelling', 'house', 'of', 'richard', 'akerman', ',', 'against', 'the', 'form', 'of', 'the', 'statute,', '&c.', 'rose', 'jennings', ',', 'esq.', 'sworn.', 'had', 'you', 'any', 'occasion', 'to', 'be', 'in', 'this', 'part', 'of', 'the', 'town,', 'on', 'the', '6th', 'of', 'june', 'in', 'the', 'evening?', '-', 'i', 'dined', 'with', 'my', 'brother', 'who', 'lives', 'opposite', 'mr.', \"akerman's\", 'house.', 'they', 'attacked', 'mr.', \"akerman's\", 'house', 'precisely', 'at', 'seven', \"o'clock;\", 'they', 'were', 'preceded', 'by', 'a', 'man', 'better', 'dressed', 'than', 'the', 'rest,', 'who', 'went', 'up', 'to', 'mr.', \"akerman's\", 'door;', 'he', 'rapped', 'three', 'times,', 'and', 'i', 'believe', 'pulled', 'the', 'bell', 'as', 'often.', 'mr.', 'akerman', 'had', 'barrocadoed', 'his', 'house.', 'when', 'the', 'man', 'found', 'that', 'no', 'one', 'came,', 'he', 'went', 'down', 'the', 'steps,', 'made', 'his', 'obeisance', 'to', 'the', 'mob,', 'and', 'pointed', 'to', 'the', 'door,', 'and', 'then', 'retired.', 'have', 'you', 'any', 'recollection', 'how', 'that', 'man', 'who', 'you', 'say', 'had', 'a', 'better', 'appearance', 'than', 'the', 'rest', 'was', 'dressed?', '-', 'i', 'think', 'he', 'had', 'on', 'a', 'dark', 'brown', 'coat', 'and', 'a', 'round', 'ha,', 'but', 'i', 'cannot', 'be', 'particular', 'as', 'to', 'that;', 'the', 'mob', 'immediately', 'following', 'in', 'that', 'formidable', 'manner', 'made', 'such', 'an', 'impression', 'upon', 'me,', 'that', 'i', 'did', 'not', 'take', 'notice.', 'the', 'mob', 'approached', 'about', 'thirty', 'in', 'number,', 'three', 'a-breast,', 'some', 'with', 'paving', 'mattocks,', 'others', 'with', 'iron', 'crows', 'and', 'chissels;', 'and', 'then', 'followed', 'an', 'innumerable', 'company', 'with', 'bludgeons;', 'they', 'seemed', 'to', 'be', 'the', 'spokes', 'of', 'coach-wheels;', 'they', 'divided,', 'some', 'went', 'to', 'mr.', \"akerman's\", 'door', 'with', 'the', 'mattocks,', 'some', 'to', 'the', 'felons', 'door,', 'and', 'some', 'to', 'the', \"debtor's\", 'door.', 'i', 'was', 'struck', 'with', 'the', 'formidable', 'appearance', 'and', 'order', 'in', 'which', 'they', 'divided', 'and', 'proceeded', 'to', 'destroy', 'the', 'place,', 'the', 'men', 'threw', 'their', 'sticks', 'up', 'at', 'the', 'windows,', 'which', 'they', 'broke', 'and', 'demolished,', 'yet', 'notwith', 'standing', 'these', 'sticks', 'were', 'coming', 'down', 'in', 'showers,', 'two', 'men', 'with', 'a', 'bar,', 'such', 'as', 'brewers', 'servants', 'carry', 'on', 'their', 'shoulders,see', 'original', 'attacked', 'the', 'parlour', 'window', 'to', 'force', 'it', 'open.', 'the', 'window-shutters', 'were', 'exceedingly', 'tough;', 'they', 'at', 'last', 'forced', 'them', 'partly', 'open,', 'but', 'not', 'quite.', 'i', 'then', 'saw', 'a', 'man', 'in', 'a', \"sailor's\", 'jacket', 'helped', 'up,', 'he', 'forced', 'himself', 'neck', 'and', 'heels', 'into', 'the', 'window.', 'they', 'found', 'the', 'house-door', 'still', 'difficult', 'to', 'get', 'open;', 'before', 'it', 'was', 'got', 'open', 'the', 'other', 'parlour', 'window', 'was', 'opened', 'and', 'the', 'mob', 'were', 'throwing', 'the', 'goods', 'out', 'at', 'the', 'window;', 'at', 'last', 'the', 'house-door', 'gave', 'way;', 'about', 'the', 'same', 'time', 'some', 'of', 'the', 'goods', 'and', 'furniture', 'having', 'been', 'thrown', 'out', 'into', 'the', 'street,', 'a', 'fire', 'was', 'kindled.', 'they', 'proceeded', 'immediately', 'to', 'throw', 'the', 'goods', 'out', 'of', 'the', 'house?', '-', 'immediately.', 'an', 'equal', 'degree', 'of', 'activity', 'seemed', 'to', 'exhibit', 'itself', 'on', 'the', 'outside', 'as', 'within,', 'one', 'party', 'to', 'burn,', 'the', 'other', 'to', 'throw', 'out', 'the', 'goods', 'of', 'mr.', 'akerman.', 'when', 'the', 'conflagration', 'took', 'place', 'i', 'applied', 'my', 'mind', 'to', 'the', 'mob.', 'was', 'mr.', \"akerman's\", 'house', 'on', 'fire', 'then?', '-', 'no.', 'i', 'was', 'situated', 'in', 'the', 'one-pair-of-stairs', 'room,', 'and', 'could', 'see', 'what', 'happened.', 'i', 'endeavoured', 'to', 'form', 'a', 'distinction', 'between', 'the', 'active', 'and', 'inactive', 'people.', 'i', 'thought', 'i', 'did', 'so;', 'the', 'inactive', 'people', 'seemed', 'to', 'form', 'a', 'circle.', 'i', 'observed', 'a', 'person', 'better', 'dressed', 'than', 'the', 'rest', 'among', 'those', 'within', 'the', 'circle,', 'who', 'did', 'not', 'meddle,', 'but', 'seemed', 'to', 'be', 'exciting', 'and', 'encouraging', 'others.', 'i', 'saw', 'several', 'genteel', 'looking', 'men,', 'and', 'amongst', 'them', 'a', 'black;', 'there', 'was', 'one', 'genteel', 'man', 'in', 'particular,', 'whose', 'conduct', 'i', 'confess', 'excited', 'my', 'indignation,', 'and', 'i', 'took', 'particular', 'notice', 'of', 'him.', 'i', 'went', 'down', 'amongst', 'the', 'mob;', 'i', 'spoke', 'to', 'him;', 'i', 'made', 'myself', 'master', 'of', 'his', 'voice;', 'i', 'believe', 'if', 'i', 'was', 'out', 'of', 'his', 'sight', 'i', 'could', 'swear', 'to', 'his', 'voice;', 'i', 'have', 'never', 'seen', 'that', 'man', 'since.', 'when', 'i', 'first', 'saw', 'the', 'black', 'i', 'turned', 'to', 'a', 'lady', 'and', 'said,', 'this', 'is', 'a', 'motley', 'crew,', 'and', 'of', 'every', 'colour.', 'mr.', \"akerman's\", 'house', 'had', 'then', 'catched', 'fire;', 'the', 'house', 'in', 'which', 'i', 'was', 'was', 'in', 'extreme', 'danger;', 'my', 'self', 'with', 'some', 'others', 'went', 'down', 'to', 'desire', 'the', 'mob', 'to', 'prevent', 'the', 'houses', 'of', 'innocent', 'people', 'catching', 'fire;', 'and', 'the', 'mob', 'were', 'as', 'active', 'in', 'saving', 'those', 'as', 'in', 'destroying', 'mr.', \"akerman's.\", 'i', 'had', 'no', 'opportunity', 'of', 'making', 'any', 'remarks', 'till', 'i', 'went', 'to', 'my', 'station', 'again,', 'then', 'i', 'believe', 'it', 'was', 'near', 'nine', \"o'clock;\", 'i', 'heard', 'a', 'cry', 'and', 'a', 'gingling', 'of', 'keys', 'in', 'the', 'hands', 'of', 'some', 'person;', 'there', 'were', 'three', 'or', 'four', 'genteel', 'persons,', 'but', 'who', 'had', 'the', 'keys', 'i', 'cannot', 'say.', 'amongst', 'them', 'was', 'the', 'prisoner', 'at', 'the', 'bar;', 'he', 'was', 'without', 'his', 'hat,', 'and', 'his', 'hands', 'were', 'down.', 'i', 'thought', 'he', 'might', 'have', 'his', 'hat', 'in', 'his', 'hand.', 'the', 'house', 'i', 'think', 'was', 'at', 'that', 'time', 'destroyed;', 'the', 'roof', 'was', 'fallen', 'in.', 'then', 'those', 'persons', 'of', 'the', 'genteeler', 'description', 'moved', 'off', 'towards', 'smithfield,', 'and', 'amongst', 'them', 'was', 'the', 'prisoner.', 'you', 'had', 'observed', 'the', 'black', 'in', 'the', 'mob', 'before', 'you', 'went', 'down?', '-', 'i', 'had.', 'are', 'you', 'able', 'to', 'say', 'who', 'that', 'black', 'was?', '-', 'no.', 'seeing', 'this', 'man', 'afterwards', 'i', 'took', 'it', 'for', 'granted', 'it', 'was', 'him;', 'i', 'was', 'certain', 'to', 'him', 'the', 'second', 'time;', 'he', 'had', 'his', 'hat', 'off', 'in', 'the', 'middle', 'of', 'the', 'mob.', 'jury.', 'you', 'said', 'his', 'hands', 'were', 'down,', 'did', 'you', 'see', 'any', 'thing', 'in', 'his', 'hands?', '-', 'no,', 'i', 'did', 'not;', 'i', 'took', 'it', 'for', 'granted', 'he', 'had', 'his', 'hat', 'in', 'his', 'hand,', 'not', 'having', 'it', 'on', 'his', 'head.', 'cross', 'examination.', 'there', 'were', 'i', 'believe', 'other', 'blacks', 'in', 'the', 'mob?', '-', 'i', 'never', 'saw', 'but', 'one;', 'i', 'saw', 'a', 'black', 'at', 'first,', 'but', 'did', 'not', 'remark', 'him', 'so', 'as', 'to', 'swear', 'to', 'him.', 'you', 'could', 'not', 'swear', 'to', 'him', 'i', 'suppose', 'from', 'the', 'difficulty', 'every', 'man', 'has', 'in', 'his', 'mind', 'to', 'swear', 'to', 'any', 'black?', '-', 'yes.', 'there', 'is', 'more', 'difficulty', 'to', 'swear', 'to', 'a', 'black', 'than', 'to', 'a', 'white', 'man?', '-', 'no.', 'the', 'second', 'time', 'i', 'made', 'my', 'remark', 'too', 'judiciously', 'to', 'err.', 'when', 'was', 'it', 'you', 'first', 'saw', 'the', 'black?', '-', 'after', 'the', 'goods', 'were', 'first', 'set', 'on', 'fire,', 'which', 'was', 'about', 'a', 'quarter', 'after', 'seven', \"o'clock.\", 'what', 'dress', 'had', 'the', 'black', 'on?', '-', 'something', 'of', 'a', 'dark', 'colour,', 'but', 'my', 'remark', 'was', 'on', 'his', 'face.', 'what', 'w', 'as', 'remarkable', 'in', 'that', \"man's\", 'face', 'more', 'than', 'another', 'black?', '-', 'the', 'make', 'of', 'his', 'hair', 'was', 'one', 'thing;', 'the', 'curls', 'were', 'out', 'if', 'he', 'had', 'had', 'any;', 'and', 'his', 'hair', 'smooth', 'on', 'his', 'head.', 'his', 'face', 'was', 'so', 'exposed', 'to', 'my', 'view', 'the', 'second', 'time,', 'that', 'i', 'could', 'not', 'be', 'better', 'situated', 'to', 'make', 'any', 'remark', 'on', 'his', 'face.', 'see', 'originalhis', 'hair', 'was', 'the', 'thing', 'by', 'which', 'you', 'knew', 'him?', '-', 'his', 'hair', 'and', 'his', 'face.', 'what', 'was', 'particular', 'in', 'his', 'face?', '-', 'i', 'cannot', 'distinguish', 'it', 'any', 'other', 'than', 'from', 'the', 'weight', 'of', 'the', 'impression', 'it', 'made', 'on', 'me.', 'counsel', 'for', 'the', 'crown.', 'have', 'you', 'any', 'doubt', 'about', 'him?', '-', 'no.', 'ann', 'wood', 'sworn.', 'i', 'live', 'at', 'mr.', \"jennings's,\", 'opposite', 'mr.', \"akerman's\", 'house.', 'was', 'you', 'at', 'home', 'on', 'the', 'tuesday', 'evening', 'when', 'mr.', \"akerman's\", 'house', 'was', 'attacked?', '-', 'i', 'was.', 'did', 'you', 'in', 'the', 'course', 'of', 'that', 'evening', 'see', 'the', 'prisoner?', '-', 'i', 'did.', 'it', 'was', 'a', 'little', 'after', 'seven', \"o'clock;\", 'i', 'saw', 'him', 'in', 'mr.', \"akerman's\", 'two-pair-of-stairs', 'room,', 'he', 'stood', 'against', 'the', 'window', 'with', 'something', 'in', 'his', 'hand', 'and', 'looked', 'at', 'me', 'for', 'some', 'time', 'before', 'i', 'observed', 'particularly', 'what', 'he', 'was', 'doing.', 'i', 'looked', 'at', 'him', 'then,', 'and', 'he', 'took', 'up', 'something', 'off', 'the', 'ground', 'and', 'held', 'it', 'up', 'to', 'me;', 'when', 'he', 'held', 'it', 'up,', 'i', 'went', 'down', 'from', 'the', 'window', 'into', 'the', 'dining-room;', 'i', 'came', 'up', 'again,', 'and', 'he', 'was', 'there', 'still.', 'he', 'seemed', 'to', 'be', 'looking', 'in', 'a', 'drawer', 'upon', 'the', 'floor,', 'and', 'seemed', 'to', 'be', 'doing', 'some', 'thing', 'up', 'into', 'a', 'bundle.', 'you', 'was', 'in', 'the', 'two-pair-of-stairs', 'room', 'opposite', 'him?', '-', 'no,', 'i', 'was', 'in', 'the', 'three-pair-of-stairs', 'room.', 'did', 'you', 'afterwards', 'see', 'him', 'do', 'any', 'thing', 'else?', '-', 'he', 'got', 'up', 'and', 'looked', 'at', 'me', 'and', 'nodded', 'his', 'head', 'at', 'me;', 'then', 'i', 'went', 'down', 'stairs.', 'you', 'saw', 'him', 'again', 'in', 'the', 'course', 'of', 'the', 'evening?', '-', 'yes,', 'i', 'saw', 'him', 'an', 'hour', 'or', 'two', 'afterwards', 'in', 'the', 'mob.', 'from', 'the', 'observation', 'you', 'made', 'of', 'his', 'person', 'are', 'you', 'sure', 'that', 'is', 'the', 'man?', '-', 'that', 'is', 'the', 'man.', 'have', 'you', 'any', 'doubt', 'about', 'it?', '-', 'no,', 'none', 'at', 'all.', 'cross', 'examination.', 'what', 'makes', 'you', 'so', 'positive', 'that', 'this', 'is', 'the', 'man?', '-', 'i', 'know', 'his', 'face', 'perfectly', 'again', 'by', 'his', 'standing', 'and', 'looking', 'at', 'me', 'so', 'long.', 'you', 'recollect', 'him', 'only', 'by', 'his', 'face?', '-', 'his', 'face', 'and', 'his', 'hair.', 'did', 'you', 'see', 'any', 'other', 'black', 'there?', '-', 'yes,', 'i', 'did;', 'not', 'in', 'the', 'house', 'but', 'in', 'the', 'mob.', 'could', 'you', 'swear', 'to', 'him?', '-', 'i', 'do', 'not', 'know', 'that', 'i', 'could.', 'i', 'took', 'more', 'notice', 'of', 'this', 'man', 'than', 'i', 'did', 'of', 'any', 'other.', 'court.', 'what', 'were', 'the', 'other', 'people', 'doing', 'when', 'the', 'prisoner', 'was', 'in', 'the', 'two-pair-of-stairs', 'room?', '-', 'some', 'of', 'the', 'mob', 'were', 'pulling', 'the', 'house', 'down,', 'and', 'some', 'were', 'running', 'in', 'with', 'the', 'fire', 'to', 'set', 'the', 'parlour', 'on', 'fire.', 'jury.', 'how', 'many', 'times', 'did', 'you', 'see', 'this', 'prisoner?', '-', 'two', 'or', 'three', 'times.', 'had', 'he', 'his', 'hat', 'on', 'when', 'you', 'saw', 'him?', '-', 'yes.', 'ann', 'lessar', 'sworn.', 'do', 'you', 'know', 'the', 'prisoner?', '-', 'yes.', 'where', 'do', 'you', 'live?', '-', 'i', 'lodge', 'in', 'the', 'same', 'lodging,', 'in', 'which', 'the', 'prisoner', 'lodged;', 'i', 'took', 'the', 'lodging', 'of', 'him', 'and', 'the', 'landlady.', 'do', 'you', 'remember', 'his', 'coming', 'to', 'you', 'and', 'bringing', 'you', 'any', 'stockings?', '-', 'he', 'gave', 'me', 'three', 'pair', 'of', 'stockings', 'to', 'mark.', 'what', 'mark', 'did', 'he', 'bid', 'you', 'put', 'upon', 'them?', '-', 'any', 'kind', 'of', 'mark', 'to', 'distinguish', 'them', 'at', 'the', \"washerwoman's.\", 'i', 'put', 'bb,', 'the', 'initials', 'of', 'his', 'name', 'upon', 'them.', 'had', 'he', 'left', 'a', 'trunk', 'in', 'the', 'room?', '-', 'yes,', 'the', 'trunk', 'was', 'found', 'there', 'by', 'the', 'constable', 'when', 'he', 'came;', 'it', 'was', 'locked,', 'he', 'had', 'the', 'key', 'of', 'it.', 'who', 'had', 'the', 'key', 'of', 'the', 'room?', '-', 'i', 'had;', 'nobody', 'could', 'get', 'at', 'the', 'box', 'without', 'my', 'knowledge.', 'percival', 'phillips', 'sworn.', 'i', 'am', 'a', 'constable.', 'i', 'searched', 'the', 'lodging', 'of', 'the', 'prisoner', 'last', 'tuesday-week.', 'did', 'you', 'find', 'a', 'trunk', 'there?', '-', 'i', 'did.', 'did', 'you', 'find', 'any', 'thing', 'in', 'that', 'trunk?', '-', 'yes;', 'these', 'stockings,', 'this', 'pocket', 'book,', 'and', 'a', 'handkerchief.', '(producing', 'them.)', 'any', 'thing', 'else?', '-', 'this', 'key', '(producing', 'it)', 'was', 'upon', 'the', 'shelf', 'in', 'the', 'lodging.', 'mr.', 'richard', 'akerman', 'sworn.', 'this', 'pocket-book,', 'i', 'believe,', 'has', 'been', 'in', 'my', 'possession', 'thirty', 'years;', 'it', 'was,', 'i', 'believe,', 'in', 'one', 'of', 'the', 'drawers', 'belonging', 'to', 'my', 'wife;', 'here', 'are', 'several', 'of', 'my', \"banker's\", 'cheques', 'which', 'had', 'my', 'name', 'to', 'them.', 'look', 'at', 'the', 'stockings?', '-', 'here', 'is', 'a', 'very', 'remarkable', 'pair', 'which', 'i', 'had', 'made', 'for', 'me,', 'and', 'the', 'maker', 'wove', 'the', 'initials', 'of', 'mysee', 'original', 'name', 'in', 'them', 'in', 'open', 'work;', 'the', 'prisoner', 'has', 'put', 'the', 'initials', 'of', 'his', 'name', '(b', 'b)', 'over', 'it;', 'they', 'were', 'in', 'the', 'drawers', 'in', 'a', 'one-pair', 'of', 'stairs', 'room.', 'here', 'are', 'several', 'others', 'that', 'were', 'marked', 'by', 'my', 'sister,', 'they', 'are', 'mine;', 'i', 'believe', 'the', 'handkerchiefs', 'to', 'be', 'mine,', 'but', 'there', 'are', 'no', 'particular', 'marks', 'on', 'them;', 'there', 'are', 'a', 'pair', 'of', 'stockings', 'that', 'were', 'taken', 'off', 'the', \"prisoner's\", 'legs,', 'which', 'has', 'the', 'name', 'cut', 'out.', 'to', 'phillips.', 'did', 'you', 'take', 'them', 'off', 'the', \"prisoner's\", 'legs?', '-', 'i', 'did.', 'to', 'mr.', 'akerman.', 'is', 'the', 'place', 'that', 'is', 'cut', 'out', 'the', 'place', 'where', 'the', 'name', 'was', 'wove?', '-', 'yes.', 'this', 'is', 'a', 'remarkable', 'key;', 'it', 'is', 'a', 'key', 'of', 'the', 'park,', 'it', 'has', 'a', 'crown', 'and', 'my', 'name', 'at', 'length', 'upon', 'it.', 'to', 'lessar.', 'do', 'you', 'know', 'any', 'thing', 'of', 'the', 'key', 'that', 'was', 'found', 'in', 'the', 'lodging?', '-', 'no,', 'it', 'was', 'on', 'the', 'shelf', 'when', 'he', 'had', 'the', 'lodging?', 'was', 'it', 'there', 'when', 'he', 'left', 'the', 'lodging?', '-', 'i', 'believe', 'it', 'was', 'there;', 'i', 'saw', 'it', 'once', 'or', 'twice;', 'i', 'never', 'knew', 'the', 'meaning', 'of', 'the', 'key.', 'prisoner.', 'my', 'lord,', 'please', 'to', 'ask', 'that', 'woman', 'if', 'she', 'did', 'not', 'wash', 'the', 'handkerchief', 'the', 'things', 'were', 'tied', 'up', 'in?', '-', 'i', 'washed', 'a', 'blue-and-white', 'silk', 'handkerchief,', 'i', 'cannot', 'swear', 'it', 'was', 'this,', 'it', 'was', 'all', 'over', 'mud.', 'i', 'washed', 'it', 'on', 'the', 'thursday,', 'the', 'first', 'week', 'that', 'i', 'was', 'in', 'the', 'house.', 'was', 'that', 'after', 'the', 'burning', 'of', 'newgate?', '-', 'yes.', 'i', 'was', 'not', 'in', 'town', 'till', 'it', 'was', 'burnt.', 'prisoner.', 'i', 'leave', 'my', 'defence', 'to', 'my', 'counsel', 'and', 'my', 'witnesses.', 'for', 'the', 'prisoner.', 'dr.', 'sandiman', 'sworn.', 'do', 'you', 'know', 'the', 'prisoner?', '-', 'yes,', 'i', 'knew', 'him', 'five', 'years', 'ago,', 'he', 'lived', 'with', 'a', 'relation', 'of', 'mine;', 'he', 'bore', 'an', 'exceeding', 'good', 'character;', 'he', 'used', 'to', 'come', 'backwards', 'and', 'forwards', 'to', 'my', 'house.', 'robert', 'gates', 'sworn.', 'i', 'am', 'footman', 'to', 'mr.', 'goodhousen', 'in', 'golden', 'square.', 'do', 'you', 'know', 'the', 'prisoner?', '-', 'i', 'do;', 'i', 'have', 'known', 'him', 'perfectly', 'well', 'from', 'the', 'second', 'day', 'after', 'he', 'came', 'to', 'england,', 'which', 'is', 'six', 'years', 'ago;', 'he', 'lived', 'with', 'a', 'person', 'i', 'knew', 'in', 'america,', 'that', 'person', 'gave', 'him', 'an', 'excellent', 'character,', 'and', 'he', 'has', 'always', 'borne', 'a', 'good', 'character', 'since', 'i', 'knew', 'him.', 'grace', 'roberts', 'sworn.', 'the', 'prisoner', 'lay', 'at', 'our', 'house', 'the', 'night', 'that', 'the', 'prison', 'was', 'burnt.', 'what', 'time', 'did', 'you', 'see', 'him', 'that', 'night?', '-', 'i', 'am', 'not', 'positive', 'to', 'the', 'hour', 'he', 'came', 'in,', 'it', 'was', 'from', 'nine', 'to', 'eleven', \"o'clock.\", 'what', 'time', 'did', 'he', 'come', 'home?', '-', 'i', 'am', 'not', 'positive', 'to', 'the', 'hour,', 'it', 'was', 'a', 'little', 'after', 'nine.', 'are', 'you', 'positive', 'of', 'that?', '-', 'yes.', 'where', 'do', 'you', 'live?', '-', 'at', 'no.', '3,', 'in', \"berner's-street.\", 'he', 'came', 'home', 'a', 'little', 'after', 'nine?', '-', 'yes,', 'i', 'am', 'certain', 'of', 'it;', 'he', 'continued', 'there', 'all', 'that', 'night', 'till', 'six', 'in', 'the', 'morning,', 'and', 'was', 'never', 'out', 'of', 'the', 'house.', 'what', 'day', 'was', 'that?', '-', 'the', '6th', 'of', 'june.', 'what', 'day', 'of', 'the', 'week?', '-', 'i', 'am', 'not', 'certain.', 'are', 'you', 'sure', 'it', 'was', 'the', 'night', 'the', 'prison', 'was', 'burnt?', '-', 'i', 'am.', 'what', 'prison?', '-', 'i', 'am', 'not', 'certain', 'what', 'prison,', 'i', 'heard', 'it', 'mentioned', 'in', 'the', 'family', 'that', 'the', 'prison', 'was', 'burnt', 'down.', 'cross', 'examination.', 'who', 'bid', 'you', 'to', 'remember', 'the', '6th', 'of', 'june?', '-', 'i', 'remember', 'it', 'by', 'the', 'people', 'being', 'taken', 'up.', 'when', 'did', 'you', 'talk', 'of', 'its', 'being', 'the', '6th', 'of', 'june?', '-', 'i', 'know', 'he', 'lay', 'at', 'our', 'house', 'on', 'the', '6th', 'of', 'june.', 'did', 'you', 'take', 'notice', 'of', 'any', 'other', 'night', 'when', 'he', 'lay', 'there?', '-', 'no.', 'did', 'not', 'he', 'lie', 'there', 'on', 'the', '7th', 'and', '8th', 'of', 'june?', '-', 'no,', 'only', 'that', 'night.', 'you', 'are', 'an', 'acquaintance', 'of', 'his?', '-', 'yes.', 'is', 'he', 'a', 'married', 'man?', '-', 'i', 'cannot', 'say.', 'did', 'he', 'bring', 'any', 'body', 'with', 'him?', '-', 'no.', 'did', 'he', 'lie', 'by', 'himself?', '-', 'yes,', 'i', 'gave', 'him', 'a', 'candle', 'to', 'light', 'him', 'to', 'bed.', 'did', 'you', 'know', 'he', 'was', 'to', 'lie', 'there', 'that', 'night?', '-', 'yes,', 'he', 'told', 'my', 'fellow', 'servant', 'so.', 'you', 'are', 'a', 'servant,', 'are', 'you?', '-', 'yes.', 'did', 'your', 'master', 'know', 'that', 'this', 'man', 'was', 'to', 'lie', 'in', 'the', 'house?', '-', 'i', 'cannot', 'tell.', 'do', 'you', 'let', 'such', 'persons', 'lie', 'in', 'the', 'house', 'without', 'your', \"master's\", 'knowledge?', '-', 'he', 'was', 'an', 'old', 'servant,', 'he', 'lay', 'in', 'the', 'servants', 'hall.', 'other', 'servants', 'lie', 'there?', '-', 'yes,', 'there', 'was', 'a', 'black', 'lay', 'there.', 'see', 'original', 'john', 'northington', '(a', 'black)', 'sworn.', 'i', 'am', 'servant', 'to', 'mr.', 'wood.', 'did', 'the', 'prisoner', 'lie', 'at', 'your', 'house?', '-', 'yes,', 'on', 'the', 'night', 'that', 'holbourn', 'was', 'on', 'fire.', 'when', 'the', 'house', 'of', 'mr.', 'langdale', 'was', 'on', 'fire?', '-', 'yes,', 'the', 'man', 'that', 'lives', 'in', 'holbourn.', 'counsel', 'for', 'the', 'crown.', 'that', 'was', 'on', 'wednesday', 'night,', 'the', '7th?', 'to', 'roberts.', 'where', 'did', 'the', 'prisoner', 'use', 'to', 'sleep', 'at', 'other', 'times?', '-', 'in', 'the', 'same', 'bed.', 'that', 'was', 'when', 'he', 'was', 'a', 'servant', 'there?', '-', 'yes.', 'when', 'he', 'was', 'not', 'a', 'servant', 'there', 'where', 'did', 'he', 'sleep?', '-', 'he', 'never', 'lay', 'at', 'our', 'house', 'when', 'he', 'was', 'not', 'a', 'servant', 'but', 'that', 'night;', 'i', 'cannot', 'be', 'positive', 'to', 'the', 'night', 'nor', 'the', 'day', 'of', 'the', 'week;', 'i', 'say', 'nothing', 'but', 'the', 'truth.', 'prisoner', 'to', 'ann', 'wood', '.', 'what', 'dress', 'had', 'i', 'on', 'that', 'night?', '-', 'a', 'light', 'brownish', 'coat,', 'a', 'round', 'hat,', 'and', 'a', 'red', 'waistcoat.', 'guilty', '(', 'death', '.)', 'tried', 'by', 'the', 'second', 'london', 'jury', 'before', 'mr.', 'justice', 'nares.', 'view', 'as', 'xml', 'section', 'navigation', 'search', 'home', 'personal', 'details', \"ordinary's\", 'accounts,', '1676-1772', 'proceedings', 'by', 'date', \"ordinary's\", 'accounts', 'by', 'date', 'statistics', 'custom', 'search', 'associated', 'records,', '1674-1834', 'api', 'demonstrator', 'footer', 'version', '8.0', '|', 'march', '2018', '©', '2003-2018', 'old', 'bailey', 'proceedings', 'online', 'we', 'welcome', 'your', 'feedback', 'on', 'this', 'web', 'site', 'sitemap', 'copyright', '&', 'citation', 'guide', 'visual', 'design', 'technical', 'design']\n"
     ]
    }
   ],
   "source": [
    "# We can just split it into words like so\n",
    "words = text.split() # split it up into words\n",
    "print(words)"
   ]
  },
  {
   "cell_type": "code",
   "execution_count": 35,
   "metadata": {},
   "outputs": [],
   "source": [
    "# we can define a set of words that seem to come from the webpage that we don't want to use\n",
    "extrawords = [\"[]\", \"_gaq.push(['_setaccount'\", \"browse\", \"-\", \"central\", \"criminal\", \"court\", \"var\", \"_gaq\", \"=\", \"_gaq\", \"||\", \"[];\", \n",
    "              \"_gaq.push([\", \"_setaccount\", \"ua-19174022-1]\", \"_gaq.push([\", \"\\\"_gaq.push(['_setaccount'\\\"\",\n",
    "              \"_trackpageview\",\"(function()\", \"{\", \"var\", \"ga\", \"=\", \"document.createelement\",\n",
    "              \"'ua-19174022-1'\", \"_gaq.push(['_trackpageview'\",\n",
    "              \"script\", \"ga.type\", \"=\", \"text/javascript\", \"ga.async\", \"=\", \"true;\", \"ga.src\", \"=\", \"https:\",\n",
    "              \"==\", \"document.location.protocol\", \"?\", \"https://ssl\", \":\", \"http://www\", \"+\", \n",
    "              \".google-analytics.com/ga.js\", \"var\", \"s\", \"=\", \"document.getelementsbytagname\",\n",
    "              \"s.parentnode.insertbefore(ga\", \"s\", \"})();\", \"jump\", \"to\", \"contentjump\", \"to\", \"main\",\n",
    "              \"navigationjump\", \"section\", \"navigation\",  \"proceedings\", \n",
    "              '(www.oldbaileyonline.org', '8.0', '2020)', '1780',\n",
    "              \"'ua-19174022-1'])\", \"_gaq.push(['_trackpageview'])\", \"document.createelement('script')\", \n",
    "              \"'text/javascript'\", 'true', \"('https:'\", \"'https://ssl'\", '', \"'http://www')\",\n",
    "              \"'.google-analytics.com/ga.js'\", \"document.getelementsbytagname('script')[0]\", 's)', '})()',\n",
    "              \"bailey\",  \"1674\", \"to\", \"1913\", \"main\", \"navigationhomesearchabout\",\n",
    "              \"proceedingshistorical\", \"backgrounddatathe\", \"projectcontact\", \"benjamin\", \"bowsey\", \n",
    "              \"breaking\", \"peace:\", \"riot.\", \"28th\", \"june\", \"1780reference\", \n",
    "              \"numbert17800628-33verdictguiltysentencedeathrelated\", \"material\", \"associated\", \n",
    "              \"recordsactionscite\", \"this\", \"textold\", \"bailey\", \"proceedings\", \"online\", \n",
    "              '1674-1834', 'api', 'demonstrator', '<!--', 'google_ad_client', 'pub-6166712890256554', \n",
    "              '/*', '180x150', 'created', '21/11/08', '*/', 'google_ad_slot', '3829571269', 'google_ad_width',\n",
    "              '180', 'google_ad_height', '150', '//-->', '<!--', 'google_ad_client', 'pub-6166712890256554', '/*',\n",
    "              '180x150', 'created', '21/11/08', '*/', 'google_ad_slot', '1983343858', 'google_ad_width', '180', \n",
    "              'google_ad_height', '150', '//-->', '<!--', 'google_ad_client', 'pub-6166712890256554', '/*', \n",
    "              '180x150', 'created', '21/11/08', '*/', 'google_ad_slot', '9176171409', 'google_ad_width', '180', \n",
    "              'google_ad_height', '150', '//-->', 'footer', 'march', '2018', '©', '2003-2018',  \n",
    "              'www.oldbaileyonline.org', '2020', 't17800628-33).close', \"'324'\",\n",
    "              \"_gaq.push(['_setaccount\", \"_gaq.push(['_trackpageview\", \"document.createelement('script\", \"document.getelementsbytagname('script')[0\",\n",
    "              \"_gaq.push(['_setaccount',\", \"ua-19174022-1']);\", \"_gaq.push(['_trackpageview']);\", \n",
    "              \"document.createelement('script');\", \"text/javascript';\", \"('https:\", \"http://www')\", \n",
    "              \".google-analytics.com/ga.js';\", \"document.getelementsbytagname('script')[0];\", 's.parentnode.insertbefore(ga,', 's);',\n",
    "               'web', 'site', 'sitemap', 'copyright', '&', 'citation', 'guide', 'visual', 'design', 'technical',\n",
    "              'design', 'xml', 'feedback', 'ua-19174022-1', \"'www.oldbaileyonline.org'\", \"'2020'\", \"'t17800628-33).close'\", \n",
    "              \"'ua-19174022-1']\", \"_gaq.push(['_trackpageview']\", 'function', \"document.createelement('script'\", \"'https:'\", \"'http://www'\", '}', \n",
    "              \"(www.oldbaileyonline.org,\", \"version\", \"8.0,\", \"08\", \"september\", \"2020),\", \"june\", \"1780,\", \n",
    "              '\"pub-6166712890256554\";', '180x150,', '\"3829571269\";', '180;', '150;', '\"pub-6166712890256554\";', '180x150,', \n",
    "              '\"1983343858\";', '180;', '150;', '\"pub-6166712890256554\";', '180x150,', '\"9176171409\";', '180;', '150;',\n",
    "              \"trial\", \"of\", \"benjamin\", \"bowsey\", \"(t17800628-33).close\", \"|\", \"print-friendly\", \"version\", \n",
    "              \"|\", \"report\", \"errornavigation<\", \"previous\", \"text\", \"(trial\", \"account)\", \"|\", \"next\", \n",
    "              \"text\", \"(trial\", \"account)\", \">see\", \"original\", \"324.\"]\n",
    "#print(extrawords)"
   ]
  },
  {
   "cell_type": "code",
   "execution_count": 36,
   "metadata": {},
   "outputs": [
    {
     "name": "stdout",
     "output_type": "stream",
     "text": [
      "['the', 'the', 'old', \"london's\", 'the', 'peace', 'riot', '17', 'august', '2021', 'an', 'account', 'account', '324', 'a', 'blackmoor', 'was', 'indicted', 'for', 'that', 'he', 'together', 'with', 'five', 'hundred', 'other', 'persons', 'and', 'more', 'did', 'unlawfully', 'riotously', 'and', 'tumultuously', 'assemble', 'on', 'the', '6th', 'the', 'disturbance', 'the', 'public', 'peace', 'and', 'did', 'begin', 'demolish', 'and', 'pull', 'down', 'the', 'dwelling', 'house', 'richard', 'akerman', 'against', 'the', 'form', 'the', 'statute', '&c', 'rose', 'jennings', 'esq', 'sworn', 'had', 'you', 'any', 'occasion', 'be', 'in', 'part', 'the', 'town', 'on', 'the', '6th', 'in', 'the', 'evening', 'i', 'dined', 'with', 'my', 'brother', 'who', 'lives', 'opposite', 'mr', \"akerman's\", 'house', 'they', 'attacked', 'mr', \"akerman's\", 'house', 'precisely', 'at', 'seven', \"o'clock\", 'they', 'were', 'preceded', 'by', 'a', 'man', 'better', 'dressed', 'than', 'the', 'rest', 'who', 'went', 'up', 'mr', \"akerman's\", 'door', 'he', 'rapped', 'three', 'times', 'and', 'i', 'believe', 'pulled', 'the', 'bell', 'as', 'often', 'mr', 'akerman', 'had', 'barrocadoed', 'his', 'house', 'when', 'the', 'man', 'found', 'that', 'no', 'one', 'came', 'he', 'went', 'down', 'the', 'steps', 'made', 'his', 'obeisance', 'the', 'mob', 'and', 'pointed', 'the', 'door', 'and', 'then', 'retired', 'have', 'you', 'any', 'recollection', 'how', 'that', 'man', 'who', 'you', 'say', 'had', 'a', 'better', 'appearance', 'than', 'the', 'rest', 'was', 'dressed', 'i', 'think', 'he', 'had', 'on', 'a', 'dark', 'brown', 'coat', 'and', 'a', 'round', 'ha', 'but', 'i', 'cannot', 'be', 'particular', 'as', 'that', 'the', 'mob', 'immediately', 'following', 'in', 'that', 'formidable', 'manner', 'made', 'such', 'an', 'impression', 'upon', 'me', 'that', 'i', 'did', 'not', 'take', 'notice', 'the', 'mob', 'approached', 'about', 'thirty', 'in', 'number', 'three', 'a-breast', 'some', 'with', 'paving', 'mattocks', 'others', 'with', 'iron', 'crows', 'and', 'chissels', 'and', 'then', 'followed', 'an', 'innumerable', 'company', 'with', 'bludgeons', 'they', 'seemed', 'be', 'the', 'spokes', 'coach-wheels', 'they', 'divided', 'some', 'went', 'mr', \"akerman's\", 'door', 'with', 'the', 'mattocks', 'some', 'the', 'felons', 'door', 'and', 'some', 'the', \"debtor's\", 'door', 'i', 'was', 'struck', 'with', 'the', 'formidable', 'appearance', 'and', 'order', 'in', 'which', 'they', 'divided', 'and', 'proceeded', 'destroy', 'the', 'place', 'the', 'men', 'threw', 'their', 'sticks', 'up', 'at', 'the', 'windows', 'which', 'they', 'broke', 'and', 'demolished', 'yet', 'notwith', 'standing', 'these', 'sticks', 'were', 'coming', 'down', 'in', 'showers', 'two', 'men', 'with', 'a', 'bar', 'such', 'as', 'brewers', 'servants', 'carry', 'on', 'their', 'shoulders,see', 'attacked', 'the', 'parlour', 'window', 'force', 'it', 'open', 'the', 'window-shutters', 'were', 'exceedingly', 'tough', 'they', 'at', 'last', 'forced', 'them', 'partly', 'open', 'but', 'not', 'quite', 'i', 'then', 'saw', 'a', 'man', 'in', 'a', \"sailor's\", 'jacket', 'helped', 'up', 'he', 'forced', 'himself', 'neck', 'and', 'heels', 'into', 'the', 'window', 'they', 'found', 'the', 'house-door', 'still', 'difficult', 'get', 'open', 'before', 'it', 'was', 'got', 'open', 'the', 'other', 'parlour', 'window', 'was', 'opened', 'and', 'the', 'mob', 'were', 'throwing', 'the', 'goods', 'out', 'at', 'the', 'window', 'at', 'last', 'the', 'house-door', 'gave', 'way', 'about', 'the', 'same', 'time', 'some', 'the', 'goods', 'and', 'furniture', 'having', 'been', 'thrown', 'out', 'into', 'the', 'street', 'a', 'fire', 'was', 'kindled', 'they', 'proceeded', 'immediately', 'throw', 'the', 'goods', 'out', 'the', 'house', 'immediately', 'an', 'equal', 'degree', 'activity', 'seemed', 'exhibit', 'itself', 'on', 'the', 'outside', 'as', 'within', 'one', 'party', 'burn', 'the', 'other', 'throw', 'out', 'the', 'goods', 'mr', 'akerman', 'when', 'the', 'conflagration', 'took', 'place', 'i', 'applied', 'my', 'mind', 'the', 'mob', 'was', 'mr', \"akerman's\", 'house', 'on', 'fire', 'then', 'no', 'i', 'was', 'situated', 'in', 'the', 'one-pair-of-stairs', 'room', 'and', 'could', 'see', 'what', 'happened', 'i', 'endeavoured', 'form', 'a', 'distinction', 'between', 'the', 'active', 'and', 'inactive', 'people', 'i', 'thought', 'i', 'did', 'so', 'the', 'inactive', 'people', 'seemed', 'form', 'a', 'circle', 'i', 'observed', 'a', 'person', 'better', 'dressed', 'than', 'the', 'rest', 'among', 'those', 'within', 'the', 'circle', 'who', 'did', 'not', 'meddle', 'but', 'seemed', 'be', 'exciting', 'and', 'encouraging', 'others', 'i', 'saw', 'several', 'genteel', 'looking', 'men', 'and', 'amongst', 'them', 'a', 'black', 'there', 'was', 'one', 'genteel', 'man', 'in', 'particular', 'whose', 'conduct', 'i', 'confess', 'excited', 'my', 'indignation', 'and', 'i', 'took', 'particular', 'notice', 'him', 'i', 'went', 'down', 'amongst', 'the', 'mob', 'i', 'spoke', 'him', 'i', 'made', 'myself', 'master', 'his', 'voice', 'i', 'believe', 'if', 'i', 'was', 'out', 'his', 'sight', 'i', 'could', 'swear', 'his', 'voice', 'i', 'have', 'never', 'seen', 'that', 'man', 'since', 'when', 'i', 'first', 'saw', 'the', 'black', 'i', 'turned', 'a', 'lady', 'and', 'said', 'is', 'a', 'motley', 'crew', 'and', 'every', 'colour', 'mr', \"akerman's\", 'house', 'had', 'then', 'catched', 'fire', 'the', 'house', 'in', 'which', 'i', 'was', 'was', 'in', 'extreme', 'danger', 'my', 'self', 'with', 'some', 'others', 'went', 'down', 'desire', 'the', 'mob', 'prevent', 'the', 'houses', 'innocent', 'people', 'catching', 'fire', 'and', 'the', 'mob', 'were', 'as', 'active', 'in', 'saving', 'those', 'as', 'in', 'destroying', 'mr', \"akerman's\", 'i', 'had', 'no', 'opportunity', 'making', 'any', 'remarks', 'till', 'i', 'went', 'my', 'station', 'again', 'then', 'i', 'believe', 'it', 'was', 'near', 'nine', \"o'clock\", 'i', 'heard', 'a', 'cry', 'and', 'a', 'gingling', 'keys', 'in', 'the', 'hands', 'some', 'person', 'there', 'were', 'three', 'or', 'four', 'genteel', 'persons', 'but', 'who', 'had', 'the', 'keys', 'i', 'cannot', 'say', 'amongst', 'them', 'was', 'the', 'prisoner', 'at', 'the', 'bar', 'he', 'was', 'without', 'his', 'hat', 'and', 'his', 'hands', 'were', 'down', 'i', 'thought', 'he', 'might', 'have', 'his', 'hat', 'in', 'his', 'hand', 'the', 'house', 'i', 'think', 'was', 'at', 'that', 'time', 'destroyed', 'the', 'roof', 'was', 'fallen', 'in', 'then', 'those', 'persons', 'the', 'genteeler', 'description', 'moved', 'off', 'towards', 'smithfield', 'and', 'amongst', 'them', 'was', 'the', 'prisoner', 'you', 'had', 'observed', 'the', 'black', 'in', 'the', 'mob', 'before', 'you', 'went', 'down', 'i', 'had', 'are', 'you', 'able', 'say', 'who', 'that', 'black', 'was', 'no', 'seeing', 'man', 'afterwards', 'i', 'took', 'it', 'for', 'granted', 'it', 'was', 'him', 'i', 'was', 'certain', 'him', 'the', 'second', 'time', 'he', 'had', 'his', 'hat', 'off', 'in', 'the', 'middle', 'the', 'mob', 'jury', 'you', 'said', 'his', 'hands', 'were', 'down', 'did', 'you', 'see', 'any', 'thing', 'in', 'his', 'hands', 'no', 'i', 'did', 'not', 'i', 'took', 'it', 'for', 'granted', 'he', 'had', 'his', 'hat', 'in', 'his', 'hand', 'not', 'having', 'it', 'on', 'his', 'head', 'cross', 'examination', 'there', 'were', 'i', 'believe', 'other', 'blacks', 'in', 'the', 'mob', 'i', 'never', 'saw', 'but', 'one', 'i', 'saw', 'a', 'black', 'at', 'first', 'but', 'did', 'not', 'remark', 'him', 'so', 'as', 'swear', 'him', 'you', 'could', 'not', 'swear', 'him', 'i', 'suppose', 'from', 'the', 'difficulty', 'every', 'man', 'has', 'in', 'his', 'mind', 'swear', 'any', 'black', 'yes', 'there', 'is', 'more', 'difficulty', 'swear', 'a', 'black', 'than', 'a', 'white', 'man', 'no', 'the', 'second', 'time', 'i', 'made', 'my', 'remark', 'too', 'judiciously', 'err', 'when', 'was', 'it', 'you', 'first', 'saw', 'the', 'black', 'after', 'the', 'goods', 'were', 'first', 'set', 'on', 'fire', 'which', 'was', 'about', 'a', 'quarter', 'after', 'seven', \"o'clock\", 'what', 'dress', 'had', 'the', 'black', 'on', 'something', 'a', 'dark', 'colour', 'but', 'my', 'remark', 'was', 'on', 'his', 'face', 'what', 'w', 'as', 'remarkable', 'in', 'that', \"man's\", 'face', 'more', 'than', 'another', 'black', 'the', 'make', 'his', 'hair', 'was', 'one', 'thing', 'the', 'curls', 'were', 'out', 'if', 'he', 'had', 'had', 'any', 'and', 'his', 'hair', 'smooth', 'on', 'his', 'head', 'his', 'face', 'was', 'so', 'exposed', 'my', 'view', 'the', 'second', 'time', 'that', 'i', 'could', 'not', 'be', 'better', 'situated', 'make', 'any', 'remark', 'on', 'his', 'face', 'see', 'originalhis', 'hair', 'was', 'the', 'thing', 'by', 'which', 'you', 'knew', 'him', 'his', 'hair', 'and', 'his', 'face', 'what', 'was', 'particular', 'in', 'his', 'face', 'i', 'cannot', 'distinguish', 'it', 'any', 'other', 'than', 'from', 'the', 'weight', 'the', 'impression', 'it', 'made', 'on', 'me', 'counsel', 'for', 'the', 'crown', 'have', 'you', 'any', 'doubt', 'about', 'him', 'no', 'ann', 'wood', 'sworn', 'i', 'live', 'at', 'mr', \"jennings's\", 'opposite', 'mr', \"akerman's\", 'house', 'was', 'you', 'at', 'home', 'on', 'the', 'tuesday', 'evening', 'when', 'mr', \"akerman's\", 'house', 'was', 'attacked', 'i', 'was', 'did', 'you', 'in', 'the', 'course', 'that', 'evening', 'see', 'the', 'prisoner', 'i', 'did', 'it', 'was', 'a', 'little', 'after', 'seven', \"o'clock\", 'i', 'saw', 'him', 'in', 'mr', \"akerman's\", 'two-pair-of-stairs', 'room', 'he', 'stood', 'against', 'the', 'window', 'with', 'something', 'in', 'his', 'hand', 'and', 'looked', 'at', 'me', 'for', 'some', 'time', 'before', 'i', 'observed', 'particularly', 'what', 'he', 'was', 'doing', 'i', 'looked', 'at', 'him', 'then', 'and', 'he', 'took', 'up', 'something', 'off', 'the', 'ground', 'and', 'held', 'it', 'up', 'me', 'when', 'he', 'held', 'it', 'up', 'i', 'went', 'down', 'from', 'the', 'window', 'into', 'the', 'dining-room', 'i', 'came', 'up', 'again', 'and', 'he', 'was', 'there', 'still', 'he', 'seemed', 'be', 'looking', 'in', 'a', 'drawer', 'upon', 'the', 'floor', 'and', 'seemed', 'be', 'doing', 'some', 'thing', 'up', 'into', 'a', 'bundle', 'you', 'was', 'in', 'the', 'two-pair-of-stairs', 'room', 'opposite', 'him', 'no', 'i', 'was', 'in', 'the', 'three-pair-of-stairs', 'room', 'did', 'you', 'afterwards', 'see', 'him', 'do', 'any', 'thing', 'else', 'he', 'got', 'up', 'and', 'looked', 'at', 'me', 'and', 'nodded', 'his', 'head', 'at', 'me', 'then', 'i', 'went', 'down', 'stairs', 'you', 'saw', 'him', 'again', 'in', 'the', 'course', 'the', 'evening', 'yes', 'i', 'saw', 'him', 'an', 'hour', 'or', 'two', 'afterwards', 'in', 'the', 'mob', 'from', 'the', 'observation', 'you', 'made', 'his', 'person', 'are', 'you', 'sure', 'that', 'is', 'the', 'man', 'that', 'is', 'the', 'man', 'have', 'you', 'any', 'doubt', 'about', 'it', 'no', 'none', 'at', 'all', 'cross', 'examination', 'what', 'makes', 'you', 'so', 'positive', 'that', 'is', 'the', 'man', 'i', 'know', 'his', 'face', 'perfectly', 'again', 'by', 'his', 'standing', 'and', 'looking', 'at', 'me', 'so', 'long', 'you', 'recollect', 'him', 'only', 'by', 'his', 'face', 'his', 'face', 'and', 'his', 'hair', 'did', 'you', 'see', 'any', 'other', 'black', 'there', 'yes', 'i', 'did', 'not', 'in', 'the', 'house', 'but', 'in', 'the', 'mob', 'could', 'you', 'swear', 'him', 'i', 'do', 'not', 'know', 'that', 'i', 'could', 'i', 'took', 'more', 'notice', 'man', 'than', 'i', 'did', 'any', 'other', 'what', 'were', 'the', 'other', 'people', 'doing', 'when', 'the', 'prisoner', 'was', 'in', 'the', 'two-pair-of-stairs', 'room', 'some', 'the', 'mob', 'were', 'pulling', 'the', 'house', 'down', 'and', 'some', 'were', 'running', 'in', 'with', 'the', 'fire', 'set', 'the', 'parlour', 'on', 'fire', 'jury', 'how', 'many', 'times', 'did', 'you', 'see', 'prisoner', 'two', 'or', 'three', 'times', 'had', 'he', 'his', 'hat', 'on', 'when', 'you', 'saw', 'him', 'yes', 'ann', 'lessar', 'sworn', 'do', 'you', 'know', 'the', 'prisoner', 'yes', 'where', 'do', 'you', 'live', 'i', 'lodge', 'in', 'the', 'same', 'lodging', 'in', 'which', 'the', 'prisoner', 'lodged', 'i', 'took', 'the', 'lodging', 'him', 'and', 'the', 'landlady', 'do', 'you', 'remember', 'his', 'coming', 'you', 'and', 'bringing', 'you', 'any', 'stockings', 'he', 'gave', 'me', 'three', 'pair', 'stockings', 'mark', 'what', 'mark', 'did', 'he', 'bid', 'you', 'put', 'upon', 'them', 'any', 'kind', 'mark', 'distinguish', 'them', 'at', 'the', \"washerwoman's\", 'i', 'put', 'bb', 'the', 'initials', 'his', 'name', 'upon', 'them', 'had', 'he', 'left', 'a', 'trunk', 'in', 'the', 'room', 'yes', 'the', 'trunk', 'was', 'found', 'there', 'by', 'the', 'constable', 'when', 'he', 'came', 'it', 'was', 'locked', 'he', 'had', 'the', 'key', 'it', 'who', 'had', 'the', 'key', 'the', 'room', 'i', 'had', 'nobody', 'could', 'get', 'at', 'the', 'box', 'without', 'my', 'knowledge', 'percival', 'phillips', 'sworn', 'i', 'am', 'a', 'constable', 'i', 'searched', 'the', 'lodging', 'the', 'prisoner', 'last', 'tuesday-week', 'did', 'you', 'find', 'a', 'trunk', 'there', 'i', 'did', 'did', 'you', 'find', 'any', 'thing', 'in', 'that', 'trunk', 'yes', 'these', 'stockings', 'pocket', 'book', 'and', 'a', 'handkerchief', 'producing', 'them', 'any', 'thing', 'else', 'key', 'producing', 'it', 'was', 'upon', 'the', 'shelf', 'in', 'the', 'lodging', 'mr', 'richard', 'akerman', 'sworn', 'pocket-book', 'i', 'believe', 'has', 'been', 'in', 'my', 'possession', 'thirty', 'years', 'it', 'was', 'i', 'believe', 'in', 'one', 'the', 'drawers', 'belonging', 'my', 'wife', 'here', 'are', 'several', 'my', \"banker's\", 'cheques', 'which', 'had', 'my', 'name', 'them', 'look', 'at', 'the', 'stockings', 'here', 'is', 'a', 'very', 'remarkable', 'pair', 'which', 'i', 'had', 'made', 'for', 'me', 'and', 'the', 'maker', 'wove', 'the', 'initials', 'mysee', 'name', 'in', 'them', 'in', 'open', 'work', 'the', 'prisoner', 'has', 'put', 'the', 'initials', 'his', 'name', 'b', 'b', 'over', 'it', 'they', 'were', 'in', 'the', 'drawers', 'in', 'a', 'one-pair', 'stairs', 'room', 'here', 'are', 'several', 'others', 'that', 'were', 'marked', 'by', 'my', 'sister', 'they', 'are', 'mine', 'i', 'believe', 'the', 'handkerchiefs', 'be', 'mine', 'but', 'there', 'are', 'no', 'particular', 'marks', 'on', 'them', 'there', 'are', 'a', 'pair', 'stockings', 'that', 'were', 'taken', 'off', 'the', \"prisoner's\", 'legs', 'which', 'has', 'the', 'name', 'cut', 'out', 'phillips', 'did', 'you', 'take', 'them', 'off', 'the', \"prisoner's\", 'legs', 'i', 'did', 'mr', 'akerman', 'is', 'the', 'place', 'that', 'is', 'cut', 'out', 'the', 'place', 'where', 'the', 'name', 'was', 'wove', 'yes', 'is', 'a', 'remarkable', 'key', 'it', 'is', 'a', 'key', 'the', 'park', 'it', 'has', 'a', 'crown', 'and', 'my', 'name', 'at', 'length', 'upon', 'it', 'lessar', 'do', 'you', 'know', 'any', 'thing', 'the', 'key', 'that', 'was', 'found', 'in', 'the', 'lodging', 'no', 'it', 'was', 'on', 'the', 'shelf', 'when', 'he', 'had', 'the', 'lodging', 'was', 'it', 'there', 'when', 'he', 'left', 'the', 'lodging', 'i', 'believe', 'it', 'was', 'there', 'i', 'saw', 'it', 'once', 'or', 'twice', 'i', 'never', 'knew', 'the', 'meaning', 'the', 'key', 'prisoner', 'my', 'lord', 'please', 'ask', 'that', 'woman', 'if', 'she', 'did', 'not', 'wash', 'the', 'handkerchief', 'the', 'things', 'were', 'tied', 'up', 'in', 'i', 'washed', 'a', 'blue-and-white', 'silk', 'handkerchief', 'i', 'cannot', 'swear', 'it', 'was', 'it', 'was', 'all', 'over', 'mud', 'i', 'washed', 'it', 'on', 'the', 'thursday', 'the', 'first', 'week', 'that', 'i', 'was', 'in', 'the', 'house', 'was', 'that', 'after', 'the', 'burning', 'newgate', 'yes', 'i', 'was', 'not', 'in', 'town', 'till', 'it', 'was', 'burnt', 'prisoner', 'i', 'leave', 'my', 'defence', 'my', 'counsel', 'and', 'my', 'witnesses', 'for', 'the', 'prisoner', 'dr', 'sandiman', 'sworn', 'do', 'you', 'know', 'the', 'prisoner', 'yes', 'i', 'knew', 'him', 'five', 'years', 'ago', 'he', 'lived', 'with', 'a', 'relation', 'mine', 'he', 'bore', 'an', 'exceeding', 'good', 'character', 'he', 'used', 'come', 'backwards', 'and', 'forwards', 'my', 'house', 'robert', 'gates', 'sworn', 'i', 'am', 'footman', 'mr', 'goodhousen', 'in', 'golden', 'square', 'do', 'you', 'know', 'the', 'prisoner', 'i', 'do', 'i', 'have', 'known', 'him', 'perfectly', 'well', 'from', 'the', 'second', 'day', 'after', 'he', 'came', 'england', 'which', 'is', 'six', 'years', 'ago', 'he', 'lived', 'with', 'a', 'person', 'i', 'knew', 'in', 'america', 'that', 'person', 'gave', 'him', 'an', 'excellent', 'character', 'and', 'he', 'has', 'always', 'borne', 'a', 'good', 'character', 'since', 'i', 'knew', 'him', 'grace', 'roberts', 'sworn', 'the', 'prisoner', 'lay', 'at', 'our', 'house', 'the', 'night', 'that', 'the', 'prison', 'was', 'burnt', 'what', 'time', 'did', 'you', 'see', 'him', 'that', 'night', 'i', 'am', 'not', 'positive', 'the', 'hour', 'he', 'came', 'in', 'it', 'was', 'from', 'nine', 'eleven', \"o'clock\", 'what', 'time', 'did', 'he', 'come', 'home', 'i', 'am', 'not', 'positive', 'the', 'hour', 'it', 'was', 'a', 'little', 'after', 'nine', 'are', 'you', 'positive', 'that', 'yes', 'where', 'do', 'you', 'live', 'at', 'no', '3', 'in', \"berner's-street\", 'he', 'came', 'home', 'a', 'little', 'after', 'nine', 'yes', 'i', 'am', 'certain', 'it', 'he', 'continued', 'there', 'all', 'that', 'night', 'till', 'six', 'in', 'the', 'morning', 'and', 'was', 'never', 'out', 'the', 'house', 'what', 'day', 'was', 'that', 'the', '6th', 'what', 'day', 'the', 'week', 'i', 'am', 'not', 'certain', 'are', 'you', 'sure', 'it', 'was', 'the', 'night', 'the', 'prison', 'was', 'burnt', 'i', 'am', 'what', 'prison', 'i', 'am', 'not', 'certain', 'what', 'prison', 'i', 'heard', 'it', 'mentioned', 'in', 'the', 'family', 'that', 'the', 'prison', 'was', 'burnt', 'down', 'cross', 'examination', 'who', 'bid', 'you', 'remember', 'the', '6th', 'i', 'remember', 'it', 'by', 'the', 'people', 'being', 'taken', 'up', 'when', 'did', 'you', 'talk', 'its', 'being', 'the', '6th', 'i', 'know', 'he', 'lay', 'at', 'our', 'house', 'on', 'the', '6th', 'did', 'you', 'take', 'notice', 'any', 'other', 'night', 'when', 'he', 'lay', 'there', 'no', 'did', 'not', 'he', 'lie', 'there', 'on', 'the', '7th', 'and', '8th', 'no', 'only', 'that', 'night', 'you', 'are', 'an', 'acquaintance', 'his', 'yes', 'is', 'he', 'a', 'married', 'man', 'i', 'cannot', 'say', 'did', 'he', 'bring', 'any', 'body', 'with', 'him', 'no', 'did', 'he', 'lie', 'by', 'himself', 'yes', 'i', 'gave', 'him', 'a', 'candle', 'light', 'him', 'bed', 'did', 'you', 'know', 'he', 'was', 'lie', 'there', 'that', 'night', 'yes', 'he', 'told', 'my', 'fellow', 'servant', 'so', 'you', 'are', 'a', 'servant', 'are', 'you', 'yes', 'did', 'your', 'master', 'know', 'that', 'man', 'was', 'lie', 'in', 'the', 'house', 'i', 'cannot', 'tell', 'do', 'you', 'let', 'such', 'persons', 'lie', 'in', 'the', 'house', 'without', 'your', \"master's\", 'knowledge', 'he', 'was', 'an', 'old', 'servant', 'he', 'lay', 'in', 'the', 'servants', 'hall', 'other', 'servants', 'lie', 'there', 'yes', 'there', 'was', 'a', 'black', 'lay', 'there', 'see', 'john', 'northington', 'a', 'black', 'sworn', 'i', 'am', 'servant', 'mr', 'wood', 'did', 'the', 'prisoner', 'lie', 'at', 'your', 'house', 'yes', 'on', 'the', 'night', 'that', 'holbourn', 'was', 'on', 'fire', 'when', 'the', 'house', 'mr', 'langdale', 'was', 'on', 'fire', 'yes', 'the', 'man', 'that', 'lives', 'in', 'holbourn', 'counsel', 'for', 'the', 'crown', 'that', 'was', 'on', 'wednesday', 'night', 'the', '7th', 'roberts', 'where', 'did', 'the', 'prisoner', 'use', 'sleep', 'at', 'other', 'times', 'in', 'the', 'same', 'bed', 'that', 'was', 'when', 'he', 'was', 'a', 'servant', 'there', 'yes', 'when', 'he', 'was', 'not', 'a', 'servant', 'there', 'where', 'did', 'he', 'sleep', 'he', 'never', 'lay', 'at', 'our', 'house', 'when', 'he', 'was', 'not', 'a', 'servant', 'but', 'that', 'night', 'i', 'cannot', 'be', 'positive', 'the', 'night', 'nor', 'the', 'day', 'the', 'week', 'i', 'say', 'nothing', 'but', 'the', 'truth', 'prisoner', 'ann', 'wood', 'what', 'dress', 'had', 'i', 'on', 'that', 'night', 'a', 'light', 'brownish', 'coat', 'a', 'round', 'hat', 'and', 'a', 'red', 'waistcoat', 'guilty', 'death', 'tried', 'by', 'the', 'second', 'london', 'jury', 'before', 'mr', 'justice', 'nares', 'view', 'as', 'search', 'home', 'personal', 'details', \"ordinary's\", 'accounts', '1676-1772', 'by', 'date', \"ordinary's\", 'accounts', 'by', 'date', 'statistics', 'custom', 'search', 'records', 'old', 'we', 'welcome', 'your', 'on']\n"
     ]
    }
   ],
   "source": [
    "# we can get rid of the extrawords using a loop\n",
    "cleantext = []\n",
    "for w in words:\n",
    "    cleaned = w.lower().strip('\",.;:?([)]') \n",
    "    if cleaned not in extrawords: \n",
    "        cleantext.append(cleaned)\n",
    "\n",
    "print(cleantext)\n"
   ]
  },
  {
   "cell_type": "markdown",
   "metadata": {},
   "source": [
    "After cleaning, the text looks much better, doesn't it?  There are still a smattering of misplaced 'the's at the beginning of the passage, left over from the webpage heading.  But by and large, you can just read the text like a transcript of the trial at this point, word for word. "
   ]
  },
  {
   "cell_type": "markdown",
   "metadata": {},
   "source": [
    "It's important to check the text as you work. At many times throughout the course of a text-mining project,  good practice requires \"inspecting\" the data set to see how well a particular operation worked.  In this case, we're checking our work cleaning.\n",
    "\n",
    "One thing that you might notice in the cleaned data is that we have made some choices that a careful viewer might quibble with.  For instance, we have removed double quotes -- \" -- but not single quotes, which allows us to retain apostrophes for possessive words such as \"london's.\"  Slight differences of this kind will begin to matter when we start counting each word.  As the text stands now, the number of times \"london's\" appears will be counted separately from the number of times that \"london\" appears.  Depending on what you want to count, you might want to count \"london's\" along with other appearances of \"london.\"    \n",
    "\n",
    "### Questions for small group discussion\n",
    "\n",
    "How would you rewrite the code above so that it treated possessive words (\"london's\", \"akerman's\") the same as non-possessive nouns (\"london\", \"akerman\")?\n",
    "\n",
    "One advantage of humanist-coder groups is that they can have a rich conversation about the stakes of  counting hyphenated words, possessive words, etc. as separate from the word-stem or not.  Most of those choices depend upon the humanistic questions involved with a text mining project.  For example, if we were looking for all place names, we'd want to count \"london's\" alongside \"london\" and \"paris's\" alongside \"paris\".  These questions are something to consider in your small groups this week.  How will you treat possessives and similar compounds?  \n",
    "\n",
    "Your answer to this question will form a small part of your final paper -- perhaps only a sentence and a line of code, but important sentences and lines of code nonetheless.\n",
    "\n",
    "Consider one example. If we were thinking about the historical composition of houses we might want to treat \"dining-room\" and \"dining room\" as the same term; but we also might want to treat \"dining room\" as a separate  compound from \"dining\" and \"room.\"  In such a case, we might deliberately add in a hyphen to make \"dining\" and \"room\"  match \"dining-room\" (and the same with \"living room,\" \"bed room,\" \"dwelling house,\" or any other architectural compounds) so that our counts for each kind of room are as accurate as possible.  \n",
    "\n",
    "* A question for coders: Could you code a loop to find the most common occurences of compounds involving \"room\" and \"house\" and replace any that occur more than three times with a hyphenated compound?  \n",
    "\n",
    "* A question for humanists: Examining the text output above, can you identify any other compounds or potential compounds that  we might want to treat with care, for example, breaking up hyphens or apostrophes, rendering plurals as singular, or identifying compound phrases?  "
   ]
  },
  {
   "cell_type": "code",
   "execution_count": 37,
   "metadata": {
    "scrolled": true
   },
   "outputs": [
    {
     "data": {
      "text/plain": [
       "2874"
      ]
     },
     "execution_count": 37,
     "metadata": {},
     "output_type": "execute_result"
    }
   ],
   "source": [
    "# Next, let's ask some basic questions about what we just did.\n",
    "\n",
    "# How many words did we download?\n",
    "len(words)"
   ]
  },
  {
   "cell_type": "code",
   "execution_count": 38,
   "metadata": {},
   "outputs": [
    {
     "data": {
      "text/plain": [
       "343"
      ]
     },
     "execution_count": 38,
     "metadata": {},
     "output_type": "execute_result"
    }
   ],
   "source": [
    "# how many words were eliminated after after we cleaned them?\n",
    "len(words) - len(cleantext)"
   ]
  },
  {
   "cell_type": "markdown",
   "metadata": {},
   "source": [
    "\n",
    "\n",
    "Now, create a Counter object by calling Counter() with the list of things you want to count:\n"
   ]
  },
  {
   "cell_type": "code",
   "execution_count": 39,
   "metadata": {},
   "outputs": [],
   "source": [
    "count = Counter(cleantext)"
   ]
  },
  {
   "cell_type": "code",
   "execution_count": 40,
   "metadata": {},
   "outputs": [
    {
     "data": {
      "text/plain": [
       "[('the', 195),\n",
       " ('i', 105),\n",
       " ('was', 71),\n",
       " ('in', 62),\n",
       " ('a', 52),\n",
       " ('and', 51),\n",
       " ('he', 50),\n",
       " ('you', 50),\n",
       " ('that', 40),\n",
       " ('his', 38),\n",
       " ('it', 36),\n",
       " ('did', 34),\n",
       " ('on', 27),\n",
       " ('him', 27),\n",
       " ('at', 26),\n",
       " ('house', 23),\n",
       " ('had', 23),\n",
       " ('my', 21),\n",
       " ('there', 21),\n",
       " ('any', 20),\n",
       " ('yes', 20),\n",
       " ('mr', 19),\n",
       " ('not', 19),\n",
       " ('were', 18),\n",
       " ('prisoner', 18)]"
      ]
     },
     "execution_count": 40,
     "metadata": {},
     "output_type": "execute_result"
    }
   ],
   "source": [
    "count.most_common(25)"
   ]
  },
  {
   "cell_type": "markdown",
   "metadata": {},
   "source": [
    "\n",
    "\n",
    "As mentioned before, you can use the object as a dictionary to get the count for a particular value:\n"
   ]
  },
  {
   "cell_type": "code",
   "execution_count": 41,
   "metadata": {},
   "outputs": [
    {
     "data": {
      "text/plain": [
       "18"
      ]
     },
     "execution_count": 41,
     "metadata": {},
     "output_type": "execute_result"
    }
   ],
   "source": [
    "count['prisoner']"
   ]
  },
  {
   "cell_type": "markdown",
   "metadata": {},
   "source": [
    "\n",
    "\n",
    "You can iterate over this using a for loop to print out just the words:\n"
   ]
  },
  {
   "cell_type": "code",
   "execution_count": 42,
   "metadata": {},
   "outputs": [
    {
     "name": "stdout",
     "output_type": "stream",
     "text": [
      "the\n",
      "i\n",
      "was\n",
      "in\n",
      "a\n",
      "and\n",
      "he\n",
      "you\n",
      "that\n",
      "his\n"
     ]
    }
   ],
   "source": [
    "for word, number in count.most_common(10):\n",
    "    print(word)"
   ]
  }
 ],
 "metadata": {
  "kernelspec": {
   "display_name": "Python 3",
   "language": "python",
   "name": "python3"
  },
  "language_info": {
   "codemirror_mode": {
    "name": "ipython",
    "version": 3
   },
   "file_extension": ".py",
   "mimetype": "text/x-python",
   "name": "python",
   "nbconvert_exporter": "python",
   "pygments_lexer": "ipython3",
   "version": "3.6.7"
  }
 },
 "nbformat": 4,
 "nbformat_minor": 4
}
