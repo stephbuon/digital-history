{
 "cells": [
  {
   "cell_type": "markdown",
   "metadata": {},
   "source": [
    "# Hist 3368 - Week 2 - Wordcloud and Bar Plot"
   ]
  },
  {
   "cell_type": "markdown",
   "metadata": {},
   "source": [
    "Part of text mining is regularly *inspecting* the data. One of the major tools for inspecting data is to visualize it. \n",
    "\n",
    "In this notebook, we'll learn to make two standard visualizations that reduce the major words from a document to a single visualization:\n",
    "a wordcloud and a bar plot.\n",
    "\n",
    "## Load some data\n",
    "\n",
    "The following lines recapitulate the material we went over in an earlier notebook. They download data from online, define a set of stopwords, remove punctuation, lowercase and split the text, and remove standard stopwords."
   ]
  },
  {
   "cell_type": "code",
   "execution_count": 1,
   "metadata": {},
   "outputs": [],
   "source": [
    "import urllib.request, urllib.error, urllib.parse, bs4 as bs\n",
    "source = urllib.request.urlopen('http://www.oldbaileyonline.org/browse.jsp?id=t17800628-33&div=t17800628-33')\n",
    "soup = bs.BeautifulSoup(source, 'lxml')\n",
    "text = soup.get_text().lower() "
   ]
  },
  {
   "cell_type": "code",
   "execution_count": 2,
   "metadata": {},
   "outputs": [],
   "source": [
    "# we can define a set of words that seem to come from the webpage that we don't want to use\n",
    "extrawords = [\"yes\", \"mr\", \"[]\", \"_gaq.push(['_setaccount'\", \"browse\", \"-\", \"central\", \"criminal\", \"court\", \"var\", \"_gaq\", \"=\", \"_gaq\", \"||\", \"[];\", \n",
    "              \"_gaq.push([\", \"_setaccount\", \"ua-19174022-1]\", \"_gaq.push([\", \"\\\"_gaq.push(['_setaccount'\\\"\",\n",
    "              \"_trackpageview\",\"(function()\", \"{\", \"var\", \"ga\", \"=\", \"document.createelement\",\n",
    "              \"'ua-19174022-1'\", \"_gaq.push(['_trackpageview'\",\n",
    "              \"script\", \"ga.type\", \"=\", \"text/javascript\", \"ga.async\", \"=\", \"true;\", \"ga.src\", \"=\", \"https:\",\n",
    "              \"==\", \"document.location.protocol\", \"?\", \"https://ssl\", \":\", \"http://www\", \"+\", \n",
    "              \".google-analytics.com/ga.js\", \"var\", \"s\", \"=\", \"document.getelementsbytagname\",\n",
    "              \"s.parentnode.insertbefore(ga\", \"s\", \"})();\", \"jump\", \"to\", \"contentjump\", \"to\", \"main\",\n",
    "              \"navigationjump\", \"section\", \"navigation\",  \"proceedings\", \n",
    "              '(www.oldbaileyonline.org', '8.0', '2020)', '1780',\n",
    "              \"'ua-19174022-1'])\", \"_gaq.push(['_trackpageview'])\", \"document.createelement('script')\", \n",
    "              \"'text/javascript'\", 'true', \"('https:'\", \"'https://ssl'\", '', \"'http://www')\",\n",
    "              \"'.google-analytics.com/ga.js'\", \"document.getelementsbytagname('script')[0]\", 's)', '})()',\n",
    "              \"bailey\",  \"1674\", \"to\", \"1913\", \"main\", \"navigationhomesearchabout\",\n",
    "              \"proceedingshistorical\", \"backgrounddatathe\", \"projectcontact\", \"benjamin\", \"bowsey\", \n",
    "              \"breaking\", \"peace:\", \"riot.\", \"28th\", \"june\", \"1780reference\", \n",
    "              \"numbert17800628-33verdictguiltysentencedeathrelated\", \"material\", \"associated\", \n",
    "              \"recordsactionscite\", \"this\", \"textold\", \"bailey\", \"proceedings\", \"online\", \n",
    "              '1674-1834', 'api', 'demonstrator', '<!--', 'google_ad_client', 'pub-6166712890256554', \n",
    "              '/*', '180x150', 'created', '21/11/08', '*/', 'google_ad_slot', '3829571269', 'google_ad_width',\n",
    "              '180', 'google_ad_height', '150', '//-->', '<!--', 'google_ad_client', 'pub-6166712890256554', '/*',\n",
    "              '180x150', 'created', '21/11/08', '*/', 'google_ad_slot', '1983343858', 'google_ad_width', '180', \n",
    "              'google_ad_height', '150', '//-->', '<!--', 'google_ad_client', 'pub-6166712890256554', '/*', \n",
    "              '180x150', 'created', '21/11/08', '*/', 'google_ad_slot', '9176171409', 'google_ad_width', '180', \n",
    "              'google_ad_height', '150', '//-->', 'footer', 'march', '2018', '©', '2003-2018',  \n",
    "              'www.oldbaileyonline.org', '2020', 't17800628-33).close', \"'324'\",\n",
    "              \"_gaq.push(['_setaccount\", \"_gaq.push(['_trackpageview\", \"document.createelement('script\", \"document.getelementsbytagname('script')[0\",\n",
    "              \"_gaq.push(['_setaccount',\", \"ua-19174022-1']);\", \"_gaq.push(['_trackpageview']);\", \n",
    "              \"document.createelement('script');\", \"text/javascript';\", \"('https:\", \"http://www')\", \n",
    "              \".google-analytics.com/ga.js';\", \"document.getelementsbytagname('script')[0];\", 's.parentnode.insertbefore(ga,', 's);',\n",
    "               'web', 'site', 'sitemap', 'copyright', '&', 'citation', 'guide', 'visual', 'design', 'technical',\n",
    "              'design', 'xml', 'feedback', 'ua-19174022-1', \"'www.oldbaileyonline.org'\", \"'2020'\", \"'t17800628-33).close'\", \n",
    "              \"'ua-19174022-1']\", \"_gaq.push(['_trackpageview']\", 'function', \"document.createelement('script'\", \"'https:'\", \"'http://www'\", '}', \n",
    "              \"(www.oldbaileyonline.org,\", \"version\", \"8.0,\", \"08\", \"september\", \"2020),\", \"june\", \"1780,\", \n",
    "              '\"pub-6166712890256554\";', '180x150,', '\"3829571269\";', '180;', '150;', '\"pub-6166712890256554\";', '180x150,', \n",
    "              '\"1983343858\";', '180;', '150;', '\"pub-6166712890256554\";', '180x150,', '\"9176171409\";', '180;', '150;',\n",
    "              \"trial\", \"of\", \"benjamin\", \"bowsey\", \"(t17800628-33).close\", \"|\", \"print-friendly\", \"version\", \n",
    "              \"|\", \"report\", \"errornavigation<\", \"previous\", \"text\", \"(trial\", \"account)\", \"|\", \"next\", \"recordsactionscite\", \n",
    "              \"text\", \"(trial\", \"account)\", \">see\", \"original\", \"324.\", \"navigationjump\", \"contentjump\", \"browse\", \"navigationhomesearchabout\",\n",
    "             \"proceedingshistorical\", \"1780reference\", \"navigationjump\", \"navigationhomesearchabout\", \"navigationhomesearchabout\", \"proceedingshistorical\", \"backgrounddatathe\", \"projectcontact\",\n",
    "              \"backgrounddatathe\", \"(trial\", \"account)\", \"projectcontact\", \"(t17800628-33).close\", \"(www.oldbaileyonline.org,\", \"numbert17800628-33verdictguiltysentencedeathrelated\",\n",
    "             ]\n",
    "#print(extrawords)"
   ]
  },
  {
   "cell_type": "markdown",
   "metadata": {},
   "source": [
    "The following lines recapitulate the code we learned in our last notebook for cleaning text.\n",
    "\n",
    "Notice how brief the code is after you lump together many commands into a single for loop."
   ]
  },
  {
   "cell_type": "code",
   "execution_count": 31,
   "metadata": {},
   "outputs": [
    {
     "data": {
      "text/plain": [
       "house       23\n",
       "yes         20\n",
       "mr          19\n",
       "prisoner    18\n",
       "man         16\n",
       "mob         14\n",
       "black       13\n",
       "no          12\n",
       "night       12\n",
       "saw         11\n",
       "him         11\n",
       "akermans    10\n",
       "fire         9\n",
       "went         9\n",
       "know         9\n",
       "see          9\n",
       "face         9\n",
       "sworn        9\n",
       "believe      8\n",
       "time         8\n",
       "dtype: int64"
      ]
     },
     "execution_count": 31,
     "metadata": {},
     "output_type": "execute_result"
    }
   ],
   "source": [
    "import string\n",
    "import pandas as pd \n",
    "from nltk.corpus import stopwords\n",
    "stopwords = stopwords.words('english')\n",
    "\n",
    "stopworded = []\n",
    "\n",
    "for word in text.lower().split(): # loop through every word\n",
    "    if word not in stopwords: # remove stopwords \n",
    "        if word not in extrawords: #remove extrawords\n",
    "            for c in string.punctuation: # strip punctuation\n",
    "                word = word.replace(c, \"\") \n",
    "            stopworded.append(word) # save the cood results\n",
    "\n",
    "count = pd.Series.value_counts(stopworded) # count them\n",
    "\n",
    "count[:20]"
   ]
  },
  {
   "cell_type": "markdown",
   "metadata": {},
   "source": [
    "## Wordclouds"
   ]
  },
  {
   "cell_type": "code",
   "execution_count": 19,
   "metadata": {},
   "outputs": [
    {
     "data": {
      "image/png": "[encoded data removed]",
      "text/plain": [
       "<Figure size 432x288 with 1 Axes>"
      ]
     },
     "metadata": {
      "needs_background": "light"
     },
     "output_type": "display_data"
    }
   ],
   "source": [
    "# plot a wordcloud\n",
    "import matplotlib.pyplot as plt\n",
    "from wordcloud import WordCloud\n",
    "\n",
    "wc = WordCloud(background_color=\"white\",width=1000,height=1000, max_words=100,relative_scaling=0.5,normalize_plurals=False).generate_from_frequencies(count)\n",
    "plt.imshow(wc)\n",
    "plt.show()"
   ]
  },
  {
   "cell_type": "markdown",
   "metadata": {},
   "source": [
    "Much better!   Now, we're getting a visualization that draws attention to the more and less common words in the text.\n",
    "\n",
    "One component of a good *inspection* practice is iteration: looking again and again in different ways.  In the present context, iterative inspection means looking at the data using different visualizations.  We've just used a word cloud, but what might we learn from a different way of visualizing the same data, perhaps one that has numbers, not just relative size, as an indicator of how prominent each word is?  \n",
    "\n",
    "Numbers assigned to words can give us more accuracy, which can allow us to think in terms of comparison.  \n",
    "\n",
    "Let's try a relatively common graph: a bar plot. "
   ]
  },
  {
   "cell_type": "markdown",
   "metadata": {},
   "source": [
    "On the x axis we'll plot all of the counts of words -- how frequently each word appears. This information is in \"count\""
   ]
  },
  {
   "cell_type": "code",
   "execution_count": 20,
   "metadata": {},
   "outputs": [
    {
     "data": {
      "text/plain": [
       "house       23\n",
       "yes         20\n",
       "mr          19\n",
       "prisoner    18\n",
       "man         16\n",
       "mob         14\n",
       "black       13\n",
       "night       12\n",
       "saw         11\n",
       "see         10\n",
       "dtype: int64"
      ]
     },
     "execution_count": 20,
     "metadata": {},
     "output_type": "execute_result"
    }
   ],
   "source": [
    "count[:10]"
   ]
  },
  {
   "cell_type": "markdown",
   "metadata": {},
   "source": [
    "We also need to tell Python to use the labels that are part of the Series index for count. We access those with .index."
   ]
  },
  {
   "cell_type": "code",
   "execution_count": 21,
   "metadata": {},
   "outputs": [
    {
     "data": {
      "text/plain": [
       "['house',\n",
       " 'yes',\n",
       " 'mr',\n",
       " 'prisoner',\n",
       " 'man',\n",
       " 'mob',\n",
       " 'black',\n",
       " 'night',\n",
       " 'saw',\n",
       " 'see']"
      ]
     },
     "execution_count": 21,
     "metadata": {},
     "output_type": "execute_result"
    }
   ],
   "source": [
    "list(count.index)[:10]"
   ]
  },
  {
   "cell_type": "markdown",
   "metadata": {},
   "source": [
    "## Make a Bar Graph"
   ]
  },
  {
   "cell_type": "markdown",
   "metadata": {},
   "source": [
    "We can use the Python built-in function plt.bar to make a bar graph. "
   ]
  },
  {
   "cell_type": "code",
   "execution_count": 22,
   "metadata": {},
   "outputs": [
    {
     "data": {
      "image/png": "[encoded data removed]",
      "text/plain": [
       "<Figure size 432x288 with 1 Axes>"
      ]
     },
     "metadata": {
      "needs_background": "light"
     },
     "output_type": "display_data"
    }
   ],
   "source": [
    "# now prepare the data for a bar graph\n",
    "plt.bar(list(count.index), count)\n",
    "plt.show()"
   ]
  },
  {
   "cell_type": "markdown",
   "metadata": {},
   "source": [
    "It's a histogram, so it's plotting all the word frequencies. The words are on the x axis.  \n",
    "\n",
    "In general, we might notice that there are many words that appear only one time, and very few words that appear 20 times or more.\n",
    "\n",
    "But there are so many of them we can't tell which word is which!\n",
    "\n",
    "Remember: a good graph is a lucid graph.  \n",
    "\n",
    "Often, we will want to zoom in on just the top words."
   ]
  },
  {
   "cell_type": "markdown",
   "metadata": {},
   "source": [
    "We learn from the above visualization that some words occur all the time, but most of the 500 unique words in our text only occur fewer than five times.  \n",
    "\n",
    "It would be nice to be able to *see* the names of the top words and compare precisely how much their wordcounts vary."
   ]
  },
  {
   "cell_type": "code",
   "execution_count": 23,
   "metadata": {},
   "outputs": [
    {
     "data": {
      "image/png": "[encoded data removed]",
      "text/plain": [
       "<Figure size 432x288 with 1 Axes>"
      ]
     },
     "metadata": {
      "needs_background": "light"
     },
     "output_type": "display_data"
    }
   ],
   "source": [
    "# a more useful barplot would show only the most common words.\n",
    "mostcommon = count[:10] \n",
    "\n",
    "# here's the barplot code\n",
    "plt.bar(list(mostcommon.index), mostcommon)\n",
    "plt.show()"
   ]
  },
  {
   "cell_type": "markdown",
   "metadata": {},
   "source": [
    "That's better, but it's still hard to read.  Let's add some visualization magic."
   ]
  },
  {
   "cell_type": "code",
   "execution_count": 24,
   "metadata": {},
   "outputs": [
    {
     "data": {
      "image/png": "[encoded data removed]",
      "text/plain": [
       "<Figure size 432x288 with 1 Axes>"
      ]
     },
     "metadata": {
      "needs_background": "light"
     },
     "output_type": "display_data"
    }
   ],
   "source": [
    "# a well-labeled barplot\n",
    "plt.bar(list(mostcommon.index), mostcommon)\n",
    "plt.xticks(rotation=90) # this tells Python to 'rotate' the labels on the x axis so that the words fit on the screen\n",
    "plt.savefig('bar.png') # this line tells Python to save a copy in your digital-history folder\n",
    "plt.xlabel('Word') # this line labels the x axis\n",
    "plt.ylabel('Count') # this line labels the y axis\n",
    "plt.suptitle('Top Ten Words') #This line labels the title\n",
    "plt.show()"
   ]
  },
  {
   "cell_type": "markdown",
   "metadata": {},
   "source": [
    "Notice how nicely we have labeled the chart.  Do you know exactly what it shows?"
   ]
  },
  {
   "cell_type": "markdown",
   "metadata": {},
   "source": [
    "In the future, we will expect any visualizations you generate for this class to be well labeled, just like this one.  You may return here for the formatting instructions that will help you to label each axis, to rotate the words, and to supply a title."
   ]
  },
  {
   "cell_type": "code",
   "execution_count": null,
   "metadata": {},
   "outputs": [],
   "source": []
  }
 ],
 "metadata": {
  "kernelspec": {
   "display_name": "Python 3",
   "language": "python",
   "name": "python3"
  },
  "language_info": {
   "codemirror_mode": {
    "name": "ipython",
    "version": 3
   },
   "file_extension": ".py",
   "mimetype": "text/x-python",
   "name": "python",
   "nbconvert_exporter": "python",
   "pygments_lexer": "ipython3",
   "version": "3.6.7"
  }
 },
 "nbformat": 4,
 "nbformat_minor": 4
}
