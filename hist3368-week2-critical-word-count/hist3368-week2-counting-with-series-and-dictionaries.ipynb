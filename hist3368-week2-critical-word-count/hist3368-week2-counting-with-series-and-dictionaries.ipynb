{
 "cells": [
  {
   "cell_type": "markdown",
   "metadata": {},
   "source": [
    "# Hist 3368 - Week 2 - Counting words"
   ]
  },
  {
   "cell_type": "markdown",
   "metadata": {},
   "source": [
    "Next, let's use the *song* list that we made above as the basis for a new pandas 'Series'.  Remember that a Series is just another kind of datatype, in this case one that's very good at counting.  We'll use the pandas command, .Series().  Because it's a pandas command, we have to tell Python to call pandas before calling .Series().  \n",
    "\n",
    "Also, note the capital **S** in Series.  Pandas has its own punctuation. In this command, capitalization is important."
   ]
  },
  {
   "cell_type": "code",
   "execution_count": 2,
   "metadata": {},
   "outputs": [],
   "source": [
    "song = ['row', 'row', 'row', 'your', 'boat', 'gently', 'down', 'the', 'stream']"
   ]
  },
  {
   "cell_type": "markdown",
   "metadata": {},
   "source": [
    "We saw in a previous notebook that you can do individual counts of words with the .count() function, which works with lists."
   ]
  },
  {
   "cell_type": "code",
   "execution_count": 23,
   "metadata": {},
   "outputs": [
    {
     "data": {
      "text/plain": [
       "3"
      ]
     },
     "execution_count": 23,
     "metadata": {},
     "output_type": "execute_result"
    }
   ],
   "source": [
    "song.count('row')"
   ]
  },
  {
   "cell_type": "code",
   "execution_count": 24,
   "metadata": {},
   "outputs": [
    {
     "data": {
      "text/plain": [
       "1"
      ]
     },
     "execution_count": 24,
     "metadata": {},
     "output_type": "execute_result"
    }
   ],
   "source": [
    "song.count('boat')"
   ]
  },
  {
   "cell_type": "markdown",
   "metadata": {},
   "source": [
    "The function .count is useful.  But it always works on one element list at a time. You can use .count() with a for loop as so"
   ]
  },
  {
   "cell_type": "code",
   "execution_count": 62,
   "metadata": {},
   "outputs": [
    {
     "data": {
      "text/plain": [
       "[3, 3, 3, 1, 1, 1, 1, 1, 1]"
      ]
     },
     "execution_count": 62,
     "metadata": {},
     "output_type": "execute_result"
    }
   ],
   "source": [
    "songcount = [] # this makes an empty list, 'songcount', which will be filled out in each round of the loop \n",
    "\n",
    "for word in song: # a simple for loop, moving through the words of 'song', one word at a time. notice the use of 'for', 'in', and ':' \n",
    "    # (remember: 'word' is a dummy variable; we could also call it 'brontosaurus' etc)\n",
    "    \n",
    "    wordcount = song.count(word) # this command counts one word in the list for each round of the loop\n",
    "    songcount.append(wordcount) # this command adds the wordcount from the previous line to the list 'songcount'\n",
    "    \n",
    "songcount"
   ]
  },
  {
   "cell_type": "markdown",
   "metadata": {},
   "source": [
    "Now we have a list of the counts of each word.  \n",
    "\n",
    "This method works fine if you have a very short list -- like the variable *song*.  But if you had a document thousands of words long, using .count() wouldn't work very well.  You'd need to work with the data to get it in a form where you know which word has which count.\n",
    "\n",
    "Fortunately, there are many other functions for counting which are designed to produce usable results quickly.  "
   ]
  },
  {
   "cell_type": "markdown",
   "metadata": {},
   "source": [
    "In this class, we will often use two other commands to count -- .value_counts() (which works with Series objects) or Counter (which produces a dictionary)"
   ]
  },
  {
   "cell_type": "markdown",
   "metadata": {},
   "source": [
    "### Counting words with pandas' Series data type"
   ]
  },
  {
   "cell_type": "markdown",
   "metadata": {},
   "source": [
    "Let's explore two ways of counting.  Each one uses another data type that is not a list.\n",
    "\n",
    "First, let's look at how you count with a Pandas Series.\n"
   ]
  },
  {
   "cell_type": "markdown",
   "metadata": {},
   "source": [
    "Make sure pandas is installed.  We use the \"import\" command to reach up into the cloud and call down a new software package.  When we use \"import\" we can also use \"as\" to give the package a familiar nickname, in this case, 'pd'."
   ]
  },
  {
   "cell_type": "code",
   "execution_count": 28,
   "metadata": {},
   "outputs": [],
   "source": [
    "import pandas as pd"
   ]
  },
  {
   "cell_type": "code",
   "execution_count": 29,
   "metadata": {},
   "outputs": [],
   "source": [
    "seriessong = pd.Series(song)"
   ]
  },
  {
   "cell_type": "code",
   "execution_count": 30,
   "metadata": {},
   "outputs": [
    {
     "name": "stdout",
     "output_type": "stream",
     "text": [
      "0       row\n",
      "1       row\n",
      "2       row\n",
      "3      your\n",
      "4      boat\n",
      "5    gently\n",
      "6      down\n",
      "7       the\n",
      "8    stream\n",
      "dtype: object\n"
     ]
    }
   ],
   "source": [
    "print(seriessong)"
   ]
  },
  {
   "cell_type": "markdown",
   "metadata": {},
   "source": [
    "Note that the Series datatype has a particular look. It has row numbers going down the left.  It tells you down below that it is a datatype \"object.\"  Essentially, a pandas Series is a tiny spreadsheet. Our Series, seriessong, is one column wide. \n",
    "\n",
    "If we're ever confused, we can ask Python to tell us what type of data we're looking at."
   ]
  },
  {
   "cell_type": "code",
   "execution_count": 31,
   "metadata": {},
   "outputs": [
    {
     "data": {
      "text/plain": [
       "pandas.core.series.Series"
      ]
     },
     "execution_count": 31,
     "metadata": {},
     "output_type": "execute_result"
    }
   ],
   "source": [
    "type(seriessong)"
   ]
  },
  {
   "cell_type": "markdown",
   "metadata": {},
   "source": [
    "Pandas is really good at counting Series quickly, using the command *.value_counts().  "
   ]
  },
  {
   "cell_type": "code",
   "execution_count": 32,
   "metadata": {},
   "outputs": [
    {
     "data": {
      "text/plain": [
       "row       3\n",
       "the       1\n",
       "stream    1\n",
       "your      1\n",
       "down      1\n",
       "gently    1\n",
       "boat      1\n",
       "dtype: int64"
      ]
     },
     "execution_count": 32,
     "metadata": {},
     "output_type": "execute_result"
    }
   ],
   "source": [
    "seriessong.value_counts()"
   ]
  },
  {
   "cell_type": "markdown",
   "metadata": {},
   "source": [
    "Because we'll want to call value_counts again, this time let's save the results as a new variable, *songcounts.* \n",
    "\n",
    "What type of data is songcounts? Let's ask."
   ]
  },
  {
   "cell_type": "code",
   "execution_count": 33,
   "metadata": {},
   "outputs": [],
   "source": [
    "songcounts = seriessong.value_counts()"
   ]
  },
  {
   "cell_type": "code",
   "execution_count": 34,
   "metadata": {},
   "outputs": [
    {
     "data": {
      "text/plain": [
       "pandas.core.series.Series"
      ]
     },
     "execution_count": 34,
     "metadata": {},
     "output_type": "execute_result"
    }
   ],
   "source": [
    "type(songcounts)"
   ]
  },
  {
   "cell_type": "markdown",
   "metadata": {},
   "source": [
    "\n",
    "We can navigate the Series the same way we do a list -- with square brackets.  \n",
    "\n",
    "We can call the first member of songcounts by using square brackets and the number 0, which you will remember is how Python classifies the first item in a list."
   ]
  },
  {
   "cell_type": "code",
   "execution_count": 35,
   "metadata": {},
   "outputs": [
    {
     "data": {
      "text/plain": [
       "3"
      ]
     },
     "execution_count": 35,
     "metadata": {},
     "output_type": "execute_result"
    }
   ],
   "source": [
    "songcounts[0]"
   ]
  },
  {
   "cell_type": "markdown",
   "metadata": {},
   "source": [
    "We can use the function .get() to call the value of the pandas Series if we know the word in question"
   ]
  },
  {
   "cell_type": "code",
   "execution_count": 36,
   "metadata": {},
   "outputs": [
    {
     "data": {
      "text/plain": [
       "3"
      ]
     },
     "execution_count": 36,
     "metadata": {},
     "output_type": "execute_result"
    }
   ],
   "source": [
    "songcounts.get('row')"
   ]
  },
  {
   "cell_type": "code",
   "execution_count": 37,
   "metadata": {},
   "outputs": [
    {
     "data": {
      "text/plain": [
       "1"
      ]
     },
     "execution_count": 37,
     "metadata": {},
     "output_type": "execute_result"
    }
   ],
   "source": [
    "songcounts.get('boat')"
   ]
  },
  {
   "cell_type": "code",
   "execution_count": 38,
   "metadata": {},
   "outputs": [
    {
     "data": {
      "text/plain": [
       "1"
      ]
     },
     "execution_count": 38,
     "metadata": {},
     "output_type": "execute_result"
    }
   ],
   "source": [
    "songcounts.get('your')"
   ]
  },
  {
   "cell_type": "markdown",
   "metadata": {},
   "source": [
    "We can use square brackets to ask Python for more information.\n",
    "\n",
    "In this case, we put inside the square brackets the conditions we want to meet:  \"show us the parts of songcounts where the value of songcounts is 3.\""
   ]
  },
  {
   "cell_type": "code",
   "execution_count": 39,
   "metadata": {},
   "outputs": [
    {
     "data": {
      "text/plain": [
       "row    3\n",
       "dtype: int64"
      ]
     },
     "execution_count": 39,
     "metadata": {},
     "output_type": "execute_result"
    }
   ],
   "source": [
    "songcounts[songcounts == 3]"
   ]
  },
  {
   "cell_type": "markdown",
   "metadata": {},
   "source": [
    "Note that when we called .value_counts, the names of the words were stored in the pandas space known as the 'index'.\n",
    "\n",
    "We can always get to that 'index' by using the function .index.\n",
    "\n",
    ".index produces a list of values which is the axis of the pandas Series."
   ]
  },
  {
   "cell_type": "code",
   "execution_count": 40,
   "metadata": {},
   "outputs": [
    {
     "data": {
      "text/plain": [
       "Index(['row', 'the', 'stream', 'your', 'down', 'gently', 'boat'], dtype='object')"
      ]
     },
     "execution_count": 40,
     "metadata": {},
     "output_type": "execute_result"
    }
   ],
   "source": [
    "songcounts.index"
   ]
  },
  {
   "cell_type": "markdown",
   "metadata": {},
   "source": [
    "We can navigate this as we would a list.  .index[0] produces the first item in the list."
   ]
  },
  {
   "cell_type": "code",
   "execution_count": 41,
   "metadata": {},
   "outputs": [
    {
     "data": {
      "text/plain": [
       "'row'"
      ]
     },
     "execution_count": 41,
     "metadata": {},
     "output_type": "execute_result"
    }
   ],
   "source": [
    "songcounts.index[0]"
   ]
  },
  {
   "cell_type": "markdown",
   "metadata": {},
   "source": [
    "Try navigating the Pandas series song_counts some more."
   ]
  },
  {
   "cell_type": "code",
   "execution_count": 42,
   "metadata": {},
   "outputs": [
    {
     "data": {
      "text/plain": [
       "1"
      ]
     },
     "execution_count": 42,
     "metadata": {},
     "output_type": "execute_result"
    }
   ],
   "source": [
    "songcounts[3]"
   ]
  },
  {
   "cell_type": "code",
   "execution_count": 43,
   "metadata": {},
   "outputs": [
    {
     "data": {
      "text/plain": [
       "1"
      ]
     },
     "execution_count": 43,
     "metadata": {},
     "output_type": "execute_result"
    }
   ],
   "source": [
    "songcounts[-1]"
   ]
  },
  {
   "cell_type": "code",
   "execution_count": 44,
   "metadata": {},
   "outputs": [
    {
     "data": {
      "text/plain": [
       "'boat'"
      ]
     },
     "execution_count": 44,
     "metadata": {},
     "output_type": "execute_result"
    }
   ],
   "source": [
    "songcounts.index[-1]"
   ]
  },
  {
   "cell_type": "code",
   "execution_count": 45,
   "metadata": {},
   "outputs": [
    {
     "data": {
      "text/plain": [
       "down      1\n",
       "gently    1\n",
       "boat      1\n",
       "dtype: int64"
      ]
     },
     "execution_count": 45,
     "metadata": {},
     "output_type": "execute_result"
    }
   ],
   "source": [
    "songcounts[-3:]"
   ]
  },
  {
   "cell_type": "markdown",
   "metadata": {},
   "source": [
    "### Counting words with the 'Dictionary' data type"
   ]
  },
  {
   "cell_type": "markdown",
   "metadata": {},
   "source": [
    "We can also count the words in a list using a dictionary, using the 'collections' software package, which has a function called 'Counter'. \n",
    "\n",
    "The function 'Counter' produces word counts in the format of a dictionary.\n",
    "\n",
    "In general, we'll use collections and Counter less frequently than we'll use pandas Series and the function .value_counts().  It's still useful to know that there are many ways to count in Python.  \n",
    "\n",
    "Test your memory of how to navigate a dictionary object by investigating the use of Counter applied to the variable *song*."
   ]
  },
  {
   "cell_type": "code",
   "execution_count": 46,
   "metadata": {},
   "outputs": [],
   "source": [
    "from collections import Counter"
   ]
  },
  {
   "cell_type": "code",
   "execution_count": 47,
   "metadata": {},
   "outputs": [
    {
     "data": {
      "text/plain": [
       "Counter({'row': 3,\n",
       "         'your': 1,\n",
       "         'boat': 1,\n",
       "         'gently': 1,\n",
       "         'down': 1,\n",
       "         'the': 1,\n",
       "         'stream': 1})"
      ]
     },
     "execution_count": 47,
     "metadata": {},
     "output_type": "execute_result"
    }
   ],
   "source": [
    "Counter(song)"
   ]
  },
  {
   "cell_type": "markdown",
   "metadata": {},
   "source": [
    "Can we navigate to the count for one word?"
   ]
  },
  {
   "cell_type": "code",
   "execution_count": 48,
   "metadata": {},
   "outputs": [],
   "source": [
    "songcounts = Counter(song)"
   ]
  },
  {
   "cell_type": "code",
   "execution_count": 49,
   "metadata": {},
   "outputs": [
    {
     "data": {
      "text/plain": [
       "0"
      ]
     },
     "execution_count": 49,
     "metadata": {},
     "output_type": "execute_result"
    }
   ],
   "source": [
    "songcounts[3]"
   ]
  },
  {
   "cell_type": "markdown",
   "metadata": {},
   "source": [
    "That doesn't appear to work the way we might have thought if we were working from a list. Why not?  The answer is that we are dealing data structured as a *dictionary*.  \n",
    "\n",
    "Dictionaries expect you to call the 'key' of the dictionary in square brackets.  Then they will return the value.  \n",
    "\n",
    "In this case, the keys are words and the values are counts."
   ]
  },
  {
   "cell_type": "code",
   "execution_count": 50,
   "metadata": {},
   "outputs": [
    {
     "data": {
      "text/plain": [
       "3"
      ]
     },
     "execution_count": 50,
     "metadata": {},
     "output_type": "execute_result"
    }
   ],
   "source": [
    "songcounts['row']"
   ]
  },
  {
   "cell_type": "markdown",
   "metadata": {},
   "source": [
    "This variation does the same thing:"
   ]
  },
  {
   "cell_type": "code",
   "execution_count": 51,
   "metadata": {},
   "outputs": [
    {
     "data": {
      "text/plain": [
       "3"
      ]
     },
     "execution_count": 51,
     "metadata": {},
     "output_type": "execute_result"
    }
   ],
   "source": [
    "songcounts.get('row')"
   ]
  },
  {
   "cell_type": "markdown",
   "metadata": {},
   "source": [
    "You'll get a 'key error' -- or a value of zero -- if you try looking up a key that doesn't exist."
   ]
  },
  {
   "cell_type": "code",
   "execution_count": 52,
   "metadata": {},
   "outputs": [
    {
     "data": {
      "text/plain": [
       "0"
      ]
     },
     "execution_count": 52,
     "metadata": {},
     "output_type": "execute_result"
    }
   ],
   "source": [
    "songcounts['banana']"
   ]
  },
  {
   "cell_type": "markdown",
   "metadata": {},
   "source": [
    "You can use the 'in' operator to check if a particular item is found in a dictionary."
   ]
  },
  {
   "cell_type": "code",
   "execution_count": 53,
   "metadata": {},
   "outputs": [
    {
     "data": {
      "text/plain": [
       "False"
      ]
     },
     "execution_count": 53,
     "metadata": {},
     "output_type": "execute_result"
    }
   ],
   "source": [
    "'banana' in songcounts"
   ]
  },
  {
   "cell_type": "code",
   "execution_count": 54,
   "metadata": {},
   "outputs": [
    {
     "data": {
      "text/plain": [
       "True"
      ]
     },
     "execution_count": 54,
     "metadata": {},
     "output_type": "execute_result"
    }
   ],
   "source": [
    "'row' in songcounts"
   ]
  },
  {
   "cell_type": "markdown",
   "metadata": {},
   "source": [
    "What about looking up a key based on a value?  Well, multiple keys may have the same value.  So there's no easy command for it. This is important: *not every data type is as easy to navigate as every other data type.*\n"
   ]
  },
  {
   "cell_type": "markdown",
   "metadata": {},
   "source": [
    "\n",
    "You can navigate dictionaries in other ways.\n",
    "\n",
    "We could call all the keys with .keys()"
   ]
  },
  {
   "cell_type": "code",
   "execution_count": 55,
   "metadata": {},
   "outputs": [
    {
     "data": {
      "text/plain": [
       "dict_keys(['row', 'your', 'boat', 'gently', 'down', 'the', 'stream'])"
      ]
     },
     "execution_count": 55,
     "metadata": {},
     "output_type": "execute_result"
    }
   ],
   "source": [
    "songkeys = songcounts.keys()\n",
    "songkeys"
   ]
  },
  {
   "cell_type": "markdown",
   "metadata": {},
   "source": [
    "Or all the values with .values()"
   ]
  },
  {
   "cell_type": "code",
   "execution_count": 56,
   "metadata": {},
   "outputs": [
    {
     "data": {
      "text/plain": [
       "dict_values([3, 1, 1, 1, 1, 1, 1])"
      ]
     },
     "execution_count": 56,
     "metadata": {},
     "output_type": "execute_result"
    }
   ],
   "source": [
    "songvalues = songcounts.values()\n",
    "songvalues"
   ]
  },
  {
   "cell_type": "markdown",
   "metadata": {},
   "source": [
    "# Let's count with some real text from the internet."
   ]
  },
  {
   "cell_type": "markdown",
   "metadata": {},
   "source": [
    "Very often in this class we will give you the code to pull text from a historical source.  We will not teach much about how the text is formatted or what the commands are that pull the text in.  Instead, we're assuming that you'll just run the lines below to get the text required.  \n",
    "\n",
    "Then, we'll apply the value_counts() function to the text and see the results of counting words from a real, historical text."
   ]
  },
  {
   "cell_type": "markdown",
   "metadata": {},
   "source": [
    "**Instructions**: Just run the following line to get a historical text from a repository of eighteenth-century court cases.  We'll print the first 500 words so that you can see what you have."
   ]
  },
  {
   "cell_type": "code",
   "execution_count": 57,
   "metadata": {},
   "outputs": [
    {
     "name": "stdout",
     "output_type": "stream",
     "text": [
      "['browse', '-', 'central', 'criminal', 'court', 'jump', 'to', 'contentjump', 'to', 'main', 'navigationjump', 'to', 'section', 'navigation', 'the', 'proceedings', 'of', 'the', 'old', 'bailey', \"london's\", 'central', 'criminal', 'court,', '1674', 'to', '1913', 'main', 'navigationhomesearchabout', 'the', 'proceedingshistorical', 'backgrounddatathe', 'projectcontact', 'benjamin', 'bowsey.', 'breaking', 'peace:', 'riot.', '28th', 'june', '1780reference', 'numbert17800628-33verdictguiltysentencedeathrelated', 'material', 'associated', 'recordsactionscite', 'this', 'textold', 'bailey', 'proceedings', 'online', '(www.oldbaileyonline.org,', 'version', '8.0,', '31', 'august', '2021),', 'june', '1780,', 'trial', 'of', 'benjamin', 'bowsey', '(t17800628-33).close', '|', 'print-friendly', 'version', '|', 'report', 'an', 'errornavigation<', 'previous', 'text', '(trial', 'account)', '|', 'next', 'text', '(trial', 'account)', '>see', 'original', '324.', 'benjamin', 'bowsey', '(a', 'blackmoor', ')', 'was', 'indicted', 'for', 'that', 'he', 'together', 'with', 'five', 'hundred', 'other', 'persons', 'and', 'more,', 'did,', 'unlawfully,', 'riotously,', 'and', 'tumultuously', 'assemble', 'on', 'the', '6th', 'of', 'june', 'to', 'the', 'disturbance', 'of', 'the', 'public', 'peace', 'and', 'did', 'begin', 'to', 'demolish', 'and', 'pull', 'down', 'the', 'dwelling', 'house', 'of', 'richard', 'akerman', ',', 'against', 'the', 'form', 'of', 'the', 'statute,', '&c.', 'rose', 'jennings', ',', 'esq.', 'sworn.', 'had', 'you', 'any', 'occasion', 'to', 'be', 'in', 'this', 'part', 'of', 'the', 'town,', 'on', 'the', '6th', 'of', 'june', 'in', 'the', 'evening?', '-', 'i', 'dined', 'with', 'my', 'brother', 'who', 'lives', 'opposite', 'mr.', \"akerman's\", 'house.', 'they', 'attacked', 'mr.', \"akerman's\", 'house', 'precisely', 'at', 'seven', \"o'clock;\", 'they', 'were', 'preceded', 'by', 'a', 'man', 'better', 'dressed', 'than', 'the', 'rest,', 'who', 'went', 'up', 'to', 'mr.', \"akerman's\", 'door;', 'he', 'rapped', 'three', 'times,', 'and', 'i', 'believe', 'pulled', 'the', 'bell', 'as', 'often.', 'mr.', 'akerman', 'had', 'barrocadoed', 'his', 'house.', 'when', 'the', 'man', 'found', 'that', 'no', 'one', 'came,', 'he', 'went', 'down', 'the', 'steps,', 'made', 'his', 'obeisance', 'to', 'the', 'mob,', 'and', 'pointed', 'to', 'the', 'door,', 'and', 'then', 'retired.', 'have', 'you', 'any', 'recollection', 'how', 'that', 'man', 'who', 'you', 'say', 'had', 'a', 'better', 'appearance', 'than', 'the', 'rest', 'was', 'dressed?', '-', 'i', 'think', 'he', 'had', 'on', 'a', 'dark', 'brown', 'coat', 'and', 'a', 'round', 'ha,', 'but', 'i', 'cannot', 'be', 'particular', 'as', 'to', 'that;', 'the', 'mob', 'immediately', 'following', 'in', 'that', 'formidable', 'manner', 'made', 'such', 'an', 'impression', 'upon', 'me,', 'that', 'i', 'did', 'not', 'take', 'notice.', 'the', 'mob', 'approached', 'about', 'thirty', 'in', 'number,', 'three', 'a-breast,', 'some', 'with', 'paving', 'mattocks,', 'others', 'with', 'iron', 'crows', 'and', 'chissels;', 'and', 'then', 'followed', 'an', 'innumerable', 'company', 'with', 'bludgeons;', 'they', 'seemed', 'to', 'be', 'the', 'spokes', 'of', 'coach-wheels;', 'they', 'divided,', 'some', 'went', 'to', 'mr.', \"akerman's\", 'door', 'with', 'the', 'mattocks,', 'some', 'to', 'the', 'felons', 'door,', 'and', 'some', 'to', 'the', \"debtor's\", 'door.', 'i', 'was', 'struck', 'with', 'the', 'formidable', 'appearance', 'and', 'order', 'in', 'which', 'they', 'divided', 'and', 'proceeded', 'to', 'destroy', 'the', 'place,', 'the', 'men', 'threw', 'their', 'sticks', 'up', 'at', 'the', 'windows,', 'which', 'they', 'broke', 'and', 'demolished,', 'yet', 'notwith', 'standing', 'these', 'sticks', 'were', 'coming', 'down', 'in', 'showers,', 'two', 'men', 'with', 'a', 'bar,', 'such', 'as', 'brewers', 'servants', 'carry', 'on', 'their', 'shoulders,see', 'original', 'attacked', 'the', 'parlour', 'window', 'to', 'force', 'it', 'open.', 'the', 'window-shutters', 'were', 'exceedingly', 'tough;', 'they', 'at', 'last', 'forced', 'them', 'partly', 'open,', 'but', 'not', 'quite.', 'i', 'then', 'saw', 'a', 'man', 'in', 'a', \"sailor's\", 'jacket', 'helped', 'up,', 'he', 'forced', 'himself', 'neck', 'and', 'heels', 'into', 'the', 'window.', 'they', 'found', 'the', 'house-door', 'still', 'difficult', 'to', 'get', 'open;', 'before', 'it', 'was', 'got', 'open', 'the', 'other', 'parlour', 'window', 'was', 'opened', 'and', 'the', 'mob', 'were', 'throwing', 'the', 'goods', 'out', 'at', 'the', 'window;', 'at', 'last']\n"
     ]
    }
   ],
   "source": [
    "# Import some text from online.  This isn't a step that you'll need to repeat -- since you'll be\n",
    "# getting pre-packaged data in a Jupyter notebook in a few weeks -- but you can run these commands\n",
    "# to \"scrape\" text off of the internet.\n",
    "import urllib.request, urllib.error, urllib.parse, bs4 as bs\n",
    "source = urllib.request.urlopen('http://www.oldbaileyonline.org/browse.jsp?id=t17800628-33&div=t17800628-33')\n",
    "soup = bs.BeautifulSoup(source, 'lxml')\n",
    "text = soup.get_text().lower() \n",
    "words = text.split() # split it up into words\n",
    "print(words[:500])"
   ]
  },
  {
   "cell_type": "markdown",
   "metadata": {},
   "source": [
    "Next we use Pandas' value_counts() function to count the words."
   ]
  },
  {
   "cell_type": "code",
   "execution_count": 58,
   "metadata": {},
   "outputs": [],
   "source": [
    "import pandas as pd\n",
    "count = pd.Series.value_counts(words)"
   ]
  },
  {
   "cell_type": "markdown",
   "metadata": {},
   "source": [
    "We can use square brackets to look at just the most prevalent words"
   ]
  },
  {
   "cell_type": "code",
   "execution_count": 59,
   "metadata": {},
   "outputs": [
    {
     "data": {
      "text/plain": [
       "the     195\n",
       "i       105\n",
       "to       78\n",
       "-        77\n",
       "was      68\n",
       "of       64\n",
       "in       59\n",
       "and      51\n",
       "he       50\n",
       "a        50\n",
       "you      49\n",
       "that     37\n",
       "his      37\n",
       "it       30\n",
       "did      29\n",
       "at       26\n",
       "on       26\n",
       "had      21\n",
       "my       21\n",
       "mr.      19\n",
       "dtype: int64"
      ]
     },
     "execution_count": 59,
     "metadata": {},
     "output_type": "execute_result"
    }
   ],
   "source": [
    "count[:20]"
   ]
  },
  {
   "cell_type": "markdown",
   "metadata": {},
   "source": [
    "\n",
    "\n",
    "As mentioned before, you can look up the value of certain words using square brackets."
   ]
  },
  {
   "cell_type": "code",
   "execution_count": 60,
   "metadata": {},
   "outputs": [
    {
     "data": {
      "text/plain": [
       "9"
      ]
     },
     "execution_count": 60,
     "metadata": {},
     "output_type": "execute_result"
    }
   ],
   "source": [
    "count['prisoner']"
   ]
  },
  {
   "cell_type": "markdown",
   "metadata": {},
   "source": [
    "You can also look at the least frequent words"
   ]
  },
  {
   "cell_type": "code",
   "execution_count": 61,
   "metadata": {},
   "outputs": [
    {
     "data": {
      "text/plain": [
       "town,       1\n",
       "legs,       1\n",
       "look        1\n",
       "you?        1\n",
       "way;        1\n",
       "fire,       1\n",
       "cry         1\n",
       "sailor's    1\n",
       "door;       1\n",
       "lady        1\n",
       "makes       1\n",
       "did,        1\n",
       "windows,    1\n",
       "7th         1\n",
       "bell        1\n",
       "himself     1\n",
       "doing.      1\n",
       "four        1\n",
       "(b          1\n",
       "statute,    1\n",
       "dtype: int64"
      ]
     },
     "execution_count": 61,
     "metadata": {},
     "output_type": "execute_result"
    }
   ],
   "source": [
    "count[-20:]"
   ]
  },
  {
   "cell_type": "markdown",
   "metadata": {},
   "source": [
    "### Assignment\n",
    "\n",
    "Create a variable called by your last name. Write out the lyrics to a new poem or song of your choice of at least five lines as a list.\n",
    "\n",
    "* Use the Series method with the function .value_counts() to count the words in the song. \n",
    "     * Write out the code to navigate this list:\n",
    "        * What is the first item in the Series?\n",
    "        * What is the last item in the Series?\n",
    "        \n",
    "* Use the Dictionary method and the function Counter() to count the words in the song.\n",
    "     * Write out the code to navigate this list:\n",
    "        * How many times does the word 'the' appear in the song?\n",
    "        \n",
    "Take a screenshot just of your code and results. Upload it to Canvas.\n",
    "\n",
    "\n"
   ]
  },
  {
   "cell_type": "code",
   "execution_count": null,
   "metadata": {},
   "outputs": [],
   "source": []
  }
 ],
 "metadata": {
  "kernelspec": {
   "display_name": "Python 3",
   "language": "python",
   "name": "python3"
  },
  "language_info": {
   "codemirror_mode": {
    "name": "ipython",
    "version": 3
   },
   "file_extension": ".py",
   "mimetype": "text/x-python",
   "name": "python",
   "nbconvert_exporter": "python",
   "pygments_lexer": "ipython3",
   "version": "3.6.7"
  }
 },
 "nbformat": 4,
 "nbformat_minor": 4
}
