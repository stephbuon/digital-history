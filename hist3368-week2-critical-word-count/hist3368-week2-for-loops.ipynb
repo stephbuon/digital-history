{
 "cells": [
  {
   "cell_type": "markdown",
   "metadata": {},
   "source": [
    "For citation information, please see the \"Source Information\" section listed in the associated README file: https://github.com/stephbuon/digital-history/tree/master/hist3368-week2-critical-word-count"
   ]
  },
  {
   "cell_type": "markdown",
   "metadata": {},
   "source": [
    "# Week 2 Assignment: For Loops Tutorial & Critical Word Count"
   ]
  },
  {
   "cell_type": "markdown",
   "metadata": {},
   "source": [
    "In this week's assignment, you'll learn how to loop over lists of data.  You'll also start the process of thinking critically about which words matter to you for the purposes of text mining, and how to use a thesaurus and the powers of reason to expand your expert vocabulary and divide it into categories of information. "
   ]
  },
  {
   "cell_type": "markdown",
   "metadata": {},
   "source": [
    "# For Loops Tutorial: HOW TO WRITE FOR LOOPS IN PYTHON"
   ]
  },
  {
   "cell_type": "markdown",
   "metadata": {},
   "source": [
    "## Iterating over lists with for"
   ]
  },
  {
   "cell_type": "markdown",
   "metadata": {},
   "source": [
    "[based on Lauren Klein's Lists and Loops https://github.com/laurenfklein/emory-qtm340/tree/0c3d0935ecd0a7920e331a8efd78240c49997606/notebooks]"
   ]
  },
  {
   "cell_type": "markdown",
   "metadata": {},
   "source": [
    "The list comprehension syntax discussed earlier is very powerful: it allows you to succinctly transform one list into another list by thinking in terms of filtering and modification. But sometimes your primary goal isn't to make a new list, but simply to perform a set of operations on an existing list."
   ]
  },
  {
   "cell_type": "markdown",
   "metadata": {},
   "source": [
    "Let's say that you want to print every string in a list. Here's a short text:"
   ]
  },
  {
   "cell_type": "code",
   "execution_count": 1,
   "metadata": {},
   "outputs": [],
   "source": [
    "text = \"it was the best of times, it was the worst of times\""
   ]
  },
  {
   "cell_type": "markdown",
   "metadata": {},
   "source": [
    "We can make a list of all the words in the text by splitting on whitespace:"
   ]
  },
  {
   "cell_type": "code",
   "execution_count": 2,
   "metadata": {},
   "outputs": [],
   "source": [
    "words = text.split()"
   ]
  },
  {
   "cell_type": "markdown",
   "metadata": {},
   "source": [
    "Of course, we can see what's in the list simply by evaluating the variable:"
   ]
  },
  {
   "cell_type": "code",
   "execution_count": 3,
   "metadata": {},
   "outputs": [
    {
     "data": {
      "text/plain": [
       "['it',\n",
       " 'was',\n",
       " 'the',\n",
       " 'best',\n",
       " 'of',\n",
       " 'times,',\n",
       " 'it',\n",
       " 'was',\n",
       " 'the',\n",
       " 'worst',\n",
       " 'of',\n",
       " 'times']"
      ]
     },
     "execution_count": 3,
     "metadata": {},
     "output_type": "execute_result"
    }
   ],
   "source": [
    "words"
   ]
  },
  {
   "cell_type": "markdown",
   "metadata": {},
   "source": [
    "But let's say that we want to print out each word on a separate line, without any of Python's weird punctuation. In other words, I want the output to look like:\n",
    "\n",
    "\n",
    "    it\n",
    "    was\n",
    "    the\n",
    "    best\n",
    "    of\n",
    "    times,\n",
    "    it\n",
    "    was\n",
    "    the\n",
    "    worst\n",
    "    of\n",
    "    times\n",
    "\n",
    "But how can this be accomplished? We know that the print() function can display an individual string in this manner:"
   ]
  },
  {
   "cell_type": "code",
   "execution_count": 4,
   "metadata": {},
   "outputs": [
    {
     "name": "stdout",
     "output_type": "stream",
     "text": [
      "hello\n"
     ]
    }
   ],
   "source": [
    "print(\"hello\")"
   ]
  },
  {
   "cell_type": "markdown",
   "metadata": {},
   "source": [
    "So what we need, clearly, is a way to call the print() function with every item of the list. We could do this by writing a series of print() statements, one for every item in the list:"
   ]
  },
  {
   "cell_type": "code",
   "execution_count": 5,
   "metadata": {},
   "outputs": [
    {
     "name": "stdout",
     "output_type": "stream",
     "text": [
      "it\n",
      "was\n",
      "the\n",
      "best\n",
      "of\n",
      "times,\n",
      "it\n",
      "was\n",
      "the\n",
      "worst\n",
      "of\n",
      "times\n"
     ]
    }
   ],
   "source": [
    "print(words[0])\n",
    "print(words[1])\n",
    "print(words[2])\n",
    "print(words[3])\n",
    "print(words[4])\n",
    "print(words[5])\n",
    "print(words[6])\n",
    "print(words[7])\n",
    "print(words[8])\n",
    "print(words[9])\n",
    "print(words[10])\n",
    "print(words[11])"
   ]
  },
  {
   "cell_type": "markdown",
   "metadata": {},
   "source": [
    "\n",
    "Nice, but there are some problems with this approach:\n",
    "\n",
    "- It's kind of verbose---we're doing exactly the same thing multiple times, only with slightly different expressions. Surely there's an easier way to tell the computer to do this?\n",
    "- It doesn't scale. What if we wrote a program that we want to produce hundreds or thousands of lines. Would we really need to write a print statement for each of those expressions?\n",
    "- It requires us to know how many items are going to end up in the list to begin with.\n",
    "\n",
    "Things are looking grim! But there's hope. Performing the same operation on all items of a list is an extremely common task in computer programming. So common, that Python has some built-in syntax to make the task easy: the for loop.\n",
    "\n",
    "Here's how a for loop looks:\n",
    "\n",
    "for tempvar in sourcelist:\n",
    "    statements\n",
    "\n",
    "The words for and in just have to be there---that's how Python knows it's a for loop. Here's what each of those parts mean.\n",
    "\n",
    "    tempvar: A name for a variable. Inside of the for loop, this variable will contain the current item of the list.\n",
    "    sourcelist: This can be any Python expression that evaluates to a list---a variable that contains a list, or a list slice, or even a list literal that you just type right in!\n",
    "    statements: One or more Python statements. Everything tabbed over underneath the for will be executed once for each item in the list. The statements tabbed over underneath the for line are called the body of the loop.\n",
    "\n",
    "Here's what the for loop for printing out every item in a list might look like:"
   ]
  },
  {
   "cell_type": "code",
   "execution_count": 6,
   "metadata": {},
   "outputs": [
    {
     "name": "stdout",
     "output_type": "stream",
     "text": [
      "it\n",
      "was\n",
      "the\n",
      "best\n",
      "of\n",
      "times,\n",
      "it\n",
      "was\n",
      "the\n",
      "worst\n",
      "of\n",
      "times\n"
     ]
    }
   ],
   "source": [
    "for item in words:\n",
    "    print(item)"
   ]
  },
  {
   "cell_type": "markdown",
   "metadata": {},
   "source": [
    "The variable name item is arbitrary. You can pick whatever variable name you like, as long as you're consistent about using the same variable name in the body of the loop. If you wrote out this loop in a long-hand fashion, it might look like this:\n"
   ]
  },
  {
   "cell_type": "markdown",
   "metadata": {},
   "source": [
    "    item = words[0]\n",
    "    print(item)\n",
    "    item = words[1]\n",
    "    print(item)\n",
    "    item = words[2]\n",
    "    print(item)\n",
    "    item = words[3]\n",
    "    print(item)\n",
    "    # etc.\n"
   ]
  },
  {
   "cell_type": "markdown",
   "metadata": {},
   "source": [
    "    \n",
    "    it\n",
    "    was\n",
    "    the\n",
    "    best\n",
    "    \n",
    "Of course, the body of the loop can have more than one statement, and you can assign values to variables inside the loop:\n"
   ]
  },
  {
   "cell_type": "code",
   "execution_count": 7,
   "metadata": {},
   "outputs": [
    {
     "name": "stdout",
     "output_type": "stream",
     "text": [
      "IT\n",
      "WAS\n",
      "THE\n",
      "BEST\n",
      "OF\n",
      "TIMES,\n",
      "IT\n",
      "WAS\n",
      "THE\n",
      "WORST\n",
      "OF\n",
      "TIMES\n"
     ]
    }
   ],
   "source": [
    "for item in words:\n",
    "    yelling = item.upper()\n",
    "    print(yelling)"
   ]
  },
  {
   "cell_type": "markdown",
   "metadata": {},
   "source": [
    "You can also include other kinds of nested statements inside the for loop, like if/else:"
   ]
  },
  {
   "cell_type": "code",
   "execution_count": 8,
   "metadata": {},
   "outputs": [
    {
     "name": "stdout",
     "output_type": "stream",
     "text": [
      "IT\n",
      "   was\n",
      "   the\n",
      "best\n",
      "OF\n",
      "times,\n",
      "IT\n",
      "   was\n",
      "   the\n",
      "worst\n",
      "OF\n",
      "times\n"
     ]
    }
   ],
   "source": [
    "\n",
    "for item in words:\n",
    "    if len(item) == 2:\n",
    "        print(item.upper())\n",
    "    elif len(item) == 3:\n",
    "        print(\"   \" + item)\n",
    "    else:\n",
    "        print(item)"
   ]
  },
  {
   "cell_type": "markdown",
   "metadata": {},
   "source": [
    "This structure is called a \"loop\" because when Python reaches the end of the statements in the body, it \"loops\" back to the beginning of the body, and executes the same statements again (this time with the next item in the list).\n"
   ]
  },
  {
   "cell_type": "markdown",
   "metadata": {},
   "source": [
    "Python programmers tend to use for loops most often when the problem would otherwise be too tricky or complicated to solve using a list comprehension. It's easy to paraphrase any list comprehension in for loop syntax. For example, this list comprehension, which evaluates to a list of the squares of even integers from 1 to 25:\n"
   ]
  },
  {
   "cell_type": "code",
   "execution_count": 9,
   "metadata": {},
   "outputs": [
    {
     "data": {
      "text/plain": [
       "[4, 16, 36, 64, 100, 144, 196, 256, 324, 400, 484, 576]"
      ]
     },
     "execution_count": 9,
     "metadata": {},
     "output_type": "execute_result"
    }
   ],
   "source": [
    "[x * x for x in range(1, 26) if x % 2 == 0]\n"
   ]
  },
  {
   "cell_type": "markdown",
   "metadata": {},
   "source": [
    "You can rewrite this list comprehesion as a for loop by starting out with an empty list, then appending an item to the list inside the loop. The source list remains the same:\n"
   ]
  },
  {
   "cell_type": "code",
   "execution_count": 10,
   "metadata": {},
   "outputs": [
    {
     "data": {
      "text/plain": [
       "[4, 16, 36, 64, 100, 144, 196, 256, 324, 400, 484, 576]"
      ]
     },
     "execution_count": 10,
     "metadata": {},
     "output_type": "execute_result"
    }
   ],
   "source": [
    "result = []\n",
    "for x in range(1, 26):\n",
    "    if x % 2 == 0:\n",
    "        result.append(x * x)\n",
    "result"
   ]
  },
  {
   "cell_type": "markdown",
   "metadata": {},
   "source": [
    "## Join: Making strings from lists"
   ]
  },
  {
   "cell_type": "markdown",
   "metadata": {},
   "source": [
    "Once we've created a list of words, it's a common task to want to take that list and \"glue\" it back together, so it's a single string again, instead of a list. So, for example:"
   ]
  },
  {
   "cell_type": "code",
   "execution_count": 11,
   "metadata": {},
   "outputs": [
    {
     "data": {
      "text/plain": [
       "'hydrogen, and helium, and lithium, and beryllium, and boron'"
      ]
     },
     "execution_count": 11,
     "metadata": {},
     "output_type": "execute_result"
    }
   ],
   "source": [
    "element_list = [\"hydrogen\", \"helium\", \"lithium\", \"beryllium\", \"boron\"]\n",
    "glue = \", and \"\n",
    "glue.join(element_list)"
   ]
  },
  {
   "cell_type": "markdown",
   "metadata": {},
   "source": [
    "The .join() method needs a \"glue\" string to the left of it---this is the string that will be placed in between the list elements. In the parentheses to the right, you need to put an expression that evaluates to a list. Very frequently with .join(), programmers don't bother to assign the \"glue\" string to a variable first, so you end up with code that looks like this:\n"
   ]
  },
  {
   "cell_type": "code",
   "execution_count": 12,
   "metadata": {},
   "outputs": [
    {
     "data": {
      "text/plain": [
       "'this is a test'"
      ]
     },
     "execution_count": 12,
     "metadata": {},
     "output_type": "execute_result"
    }
   ],
   "source": [
    "words = [\"this\", \"is\", \"a\", \"test\"]\n",
    "\" \".join(words)"
   ]
  },
  {
   "cell_type": "markdown",
   "metadata": {},
   "source": [
    "\n",
    "When we're working with .split() and .join(), our workflow usually looks something like this:\n",
    "\n",
    "    Split a string to get a list of units (usually words).\n",
    "    Use some of the list operations discussed above to modify or slice the list.\n",
    "    Join that list back together into a string.\n",
    "    Do something with that string (e.g., print it out).\n",
    "\n",
    "With this in mind, here's a program that splits a string into words, randomizes the order of the words, then prints out the results:\n"
   ]
  },
  {
   "cell_type": "code",
   "execution_count": 13,
   "metadata": {},
   "outputs": [
    {
     "data": {
      "text/plain": [
       "'test is this a'"
      ]
     },
     "execution_count": 13,
     "metadata": {},
     "output_type": "execute_result"
    }
   ],
   "source": [
    "# to make this block work:\n",
    "\n",
    "# add `import random`, the module `shuffle()` belongs to. \n",
    "\n",
    "# remove `split()` bc the `shuffle()` method only works on lists, not string objects (and `split()` transforms items to string objects)\n",
    "\n",
    "# if you want to keep demonstrating `.split()` with `shuffle()` you could transform the str objects to lists, but that step might be hard to follow logically \n",
    "\n",
    "# alterantively you could use `sort()` instead of suffle (see below)\n",
    "\n",
    "import random\n",
    "\n",
    "text = \"it was a dark and stormy night\"\n",
    "# words = text.split() \n",
    "random.shuffle(words)\n",
    "' '.join(words)"
   ]
  },
  {
   "cell_type": "code",
   "execution_count": 14,
   "metadata": {},
   "outputs": [
    {
     "name": "stdout",
     "output_type": "stream",
     "text": [
      "a\n",
      "and\n",
      "dark\n",
      "it\n",
      "night\n",
      "stormy\n",
      "was\n"
     ]
    }
   ],
   "source": [
    "# sort option w str split\n",
    "\n",
    "text = \"it was a dark and stormy night\"\n",
    "words = text.split()\n",
    "words.sort()\n",
    "for word in words:\n",
    "    print(word)"
   ]
  },
  {
   "cell_type": "markdown",
   "metadata": {},
   "source": [
    "EXERCISE: Write a Python command-line program that prints out the lines of a text file in random order."
   ]
  },
  {
   "cell_type": "markdown",
   "metadata": {},
   "source": [
    "## Nested For Loops"
   ]
  },
  {
   "cell_type": "markdown",
   "metadata": {},
   "source": [
    "Sometimes, I want to use multiple for loops to do my business.  This usually happens when data is 'structured,' that is, when the data exists in multiple separate lists, dictionaries, or dataframes, to each of which we want to apply separate conditions."
   ]
  },
  {
   "cell_type": "markdown",
   "metadata": {},
   "source": [
    "First, let's make a set of lists.  Each list contains a set of strings that correspond to the names of novels written by three novelists."
   ]
  },
  {
   "cell_type": "code",
   "execution_count": 15,
   "metadata": {},
   "outputs": [],
   "source": [
    "dickens = ['oliver twist', 'bleak house', 'a tale of two cities']\n",
    "austen = ['sense and sensibility', 'emma', 'pride and prejudice']\n",
    "trollope = ['doctor thorne', 'barchester towers', 'the land leaguers']"
   ]
  },
  {
   "cell_type": "code",
   "execution_count": 16,
   "metadata": {},
   "outputs": [
    {
     "data": {
      "text/plain": [
       "'emma'"
      ]
     },
     "execution_count": 16,
     "metadata": {},
     "output_type": "execute_result"
    }
   ],
   "source": [
    "austen[1]"
   ]
  },
  {
   "cell_type": "markdown",
   "metadata": {},
   "source": [
    "Now, let's make a list of the novelists' names."
   ]
  },
  {
   "cell_type": "code",
   "execution_count": 17,
   "metadata": {},
   "outputs": [],
   "source": [
    "novelists = ['dickens', 'austen', 'trollope']"
   ]
  },
  {
   "cell_type": "markdown",
   "metadata": {},
   "source": [
    "Importantly, I can now call up novels by the strings in the variable 'novelists.'  Here are two ways of getting Dickens' novels:"
   ]
  },
  {
   "cell_type": "code",
   "execution_count": 18,
   "metadata": {},
   "outputs": [
    {
     "data": {
      "text/plain": [
       "['oliver twist', 'bleak house', 'a tale of two cities']"
      ]
     },
     "execution_count": 18,
     "metadata": {},
     "output_type": "execute_result"
    }
   ],
   "source": [
    "globals()['dickens'] # this looks for variables called 'dickens'"
   ]
  },
  {
   "cell_type": "code",
   "execution_count": 19,
   "metadata": {},
   "outputs": [
    {
     "data": {
      "text/plain": [
       "['oliver twist', 'bleak house', 'a tale of two cities']"
      ]
     },
     "execution_count": 19,
     "metadata": {},
     "output_type": "execute_result"
    }
   ],
   "source": [
    "globals()[novelists[0]] # this looks for variables that correspond to the first item in the list, 'novelists'"
   ]
  },
  {
   "cell_type": "markdown",
   "metadata": {},
   "source": [
    "same thing."
   ]
  },
  {
   "cell_type": "markdown",
   "metadata": {},
   "source": [
    "Let's put that into a for loop:"
   ]
  },
  {
   "cell_type": "code",
   "execution_count": 20,
   "metadata": {},
   "outputs": [
    {
     "name": "stdout",
     "output_type": "stream",
     "text": [
      "dickens\n",
      "['oliver twist', 'bleak house', 'a tale of two cities']\n",
      "austen\n",
      "['sense and sensibility', 'emma', 'pride and prejudice']\n",
      "trollope\n",
      "['doctor thorne', 'barchester towers', 'the land leaguers']\n"
     ]
    }
   ],
   "source": [
    "for novelist in novelists: # cycle through each novelist\n",
    "    their_novels = globals()[novelist] # for each novelist, pull up the list that corresponds to their name -- thus for 'dickens,' call up the variable called 'dickens'\n",
    "    print(novelist)\n",
    "    print(their_novels)"
   ]
  },
  {
   "cell_type": "markdown",
   "metadata": {},
   "source": [
    "That's nicely formatted output. "
   ]
  },
  {
   "cell_type": "markdown",
   "metadata": {},
   "source": [
    "But say we want to do something which each of the novel names -- like creating a new dataset where each novel name is accurately annotate it with the name of its author.  How do I glue them together, when what I want to glue changes for each novel but also for each novelist? \n",
    "\n",
    "To do that, we'll need a *double* for loop, or a \"nested\" for loop.  \n",
    "\n",
    "The outside for loop cycles through each novelist and calls up their list of novels in the variable 'their_novels'.\n",
    "\n",
    "The inner for loop cycles through each of the items in 'their_novels.\"\n",
    "\n",
    "I can use these nested for loops to output a really nicely formatted list of authors and novels."
   ]
  },
  {
   "cell_type": "code",
   "execution_count": 21,
   "metadata": {},
   "outputs": [
    {
     "name": "stdout",
     "output_type": "stream",
     "text": [
      "oliver twist\n",
      "dickens\n",
      "\n",
      "bleak house\n",
      "dickens\n",
      "\n",
      "a tale of two cities\n",
      "dickens\n",
      "\n",
      "------------------\n",
      "sense and sensibility\n",
      "austen\n",
      "\n",
      "emma\n",
      "austen\n",
      "\n",
      "pride and prejudice\n",
      "austen\n",
      "\n",
      "------------------\n",
      "doctor thorne\n",
      "trollope\n",
      "\n",
      "barchester towers\n",
      "trollope\n",
      "\n",
      "the land leaguers\n",
      "trollope\n",
      "\n",
      "------------------\n"
     ]
    }
   ],
   "source": [
    "\n",
    "for novelist in novelists: # for each novelist,\n",
    "    their_novels = globals()[novelist] \n",
    "    for novel in their_novels: # cycle through each of the novels for that novelist. for each novel of each novelist:\n",
    "        print(novel)\n",
    "        print(novelist)\n",
    "        print(\"\")\n",
    "    print(\"------------------\")\n"
   ]
  },
  {
   "cell_type": "markdown",
   "metadata": {},
   "source": [
    "That's a nicely formatted print-out.  \n",
    "\n",
    "But what I really want is a dataset where every entry is the name of a novelist and the novel they wrote.  Can I tweak the double for loop to do that?"
   ]
  },
  {
   "cell_type": "code",
   "execution_count": 22,
   "metadata": {},
   "outputs": [
    {
     "data": {
      "text/plain": [
       "['dickens-oliver twist',\n",
       " 'dickens-bleak house',\n",
       " 'dickens-a tale of two cities',\n",
       " 'austen-sense and sensibility',\n",
       " 'austen-emma',\n",
       " 'austen-pride and prejudice',\n",
       " 'trollope-doctor thorne',\n",
       " 'trollope-barchester towers',\n",
       " 'trollope-the land leaguers']"
      ]
     },
     "execution_count": 22,
     "metadata": {},
     "output_type": "execute_result"
    }
   ],
   "source": [
    "novels_with_authors = []\n",
    "\n",
    "for novelist in novelists: # for each novelist,\n",
    "    their_novels = globals()[novelist] \n",
    "    for novel in their_novels: # cycle through each of the novels for that novelist. for each novel of each novelist:\n",
    "        new_entry = novelist + \"-\" + novel # create a dummy variable, 'new_entry', which lists the novelist and novel\n",
    "        novels_with_authors.append(new_entry) # add the dummy variable to my master list, novels_with_authors\n",
    "        \n",
    "novels_with_authors"
   ]
  },
  {
   "cell_type": "markdown",
   "metadata": {},
   "source": [
    "Notice that I produced this output -- and the output above -- with a \"double for loop\" or a \"nested for loop.\""
   ]
  },
  {
   "cell_type": "markdown",
   "metadata": {},
   "source": [
    "The first \"for loop\" iterates through the novelists, one at a time:\n",
    "\n",
    "\n",
    "&nbsp;&nbsp;&nbsp;&nbsp;&nbsp;&nbsp;\"for novelist in novelists:\"\n",
    "\n",
    "\n",
    "The second \"for loop\" takes each novelist, and iterates through the list of their novels:\n",
    "       \n",
    "&nbsp;&nbsp;&nbsp;&nbsp;&nbsp;&nbsp; \"for novel in their_novels\"\n",
    "\n",
    "\n",
    "Because the loops are nested, I'm not randomly applying Trollope or Austen's names to random novel titles; I'm creating a list where each author's name corresponds to the right novel."
   ]
  },
  {
   "cell_type": "code",
   "execution_count": 23,
   "metadata": {},
   "outputs": [
    {
     "data": {
      "text/plain": [
       "['dickens-oliver twist',\n",
       " 'dickens-bleak house',\n",
       " 'dickens-a tale of two cities',\n",
       " 'austen-sense and sensibility',\n",
       " 'austen-emma',\n",
       " 'austen-pride and prejudice',\n",
       " 'trollope-doctor thorne',\n",
       " 'trollope-barchester towers',\n",
       " 'trollope-the land leaguers']"
      ]
     },
     "execution_count": 23,
     "metadata": {},
     "output_type": "execute_result"
    }
   ],
   "source": [
    "novels_with_authors"
   ]
  },
  {
   "cell_type": "markdown",
   "metadata": {},
   "source": [
    "What if we want the list of novelists and their novels to be randomly arranged? For this, we can use the command random.shuffle()"
   ]
  },
  {
   "cell_type": "code",
   "execution_count": 24,
   "metadata": {},
   "outputs": [
    {
     "data": {
      "text/plain": [
       "['trollope-the land leaguers',\n",
       " 'austen-sense and sensibility',\n",
       " 'austen-emma',\n",
       " 'trollope-barchester towers',\n",
       " 'austen-pride and prejudice',\n",
       " 'dickens-oliver twist',\n",
       " 'dickens-a tale of two cities',\n",
       " 'trollope-doctor thorne',\n",
       " 'dickens-bleak house']"
      ]
     },
     "execution_count": 24,
     "metadata": {},
     "output_type": "execute_result"
    }
   ],
   "source": [
    "novels_with_authors_random = []\n",
    "\n",
    "for novelist in novelists: # for each novelist,\n",
    "    their_novels = globals()[novelist] \n",
    "    for novel in their_novels: # cycle through each of the novels for that novelist. for each novel of each novelist:\n",
    "        new_entry_random = novelist + \"-\" + novel # create a dummy variable, 'new_entry', which lists the novelist and novel\n",
    "        novels_with_authors_random.append(new_entry_random) # add the dummy variable to my master list, novels_with_authors\n",
    "        random.shuffle(novels_with_authors_random) #notice this new line here!\n",
    "        \n",
    "novels_with_authors_random"
   ]
  },
  {
   "cell_type": "markdown",
   "metadata": {},
   "source": [
    "# If you're totally new to Python"
   ]
  },
  {
   "cell_type": "markdown",
   "metadata": {},
   "source": [
    "If you're totally new to Python, you might need some more time drilling with the basic operations to really master them.  The following notebooks are short -- and totally optional. However, I encourage you to work through them on your own if this is your first time learning to code.  Please make a note of them, in any case, so that you can return to them if you feel lost in future coding assignments.\n",
    "\n",
    "\n",
    "- for loops : https://problemsolvingwithpython.com/09-Loops/09.01-For-Loops/\n",
    "- counting things: https://github.com/laurenfklein/emory-qtm340/blob/master/notebooks/counting.ipynb"
   ]
  }
 ],
 "metadata": {
  "kernelspec": {
   "display_name": "Python 3",
   "language": "python",
   "name": "python3"
  },
  "language_info": {
   "codemirror_mode": {
    "name": "ipython",
    "version": 3
   },
   "file_extension": ".py",
   "mimetype": "text/x-python",
   "name": "python",
   "nbconvert_exporter": "python",
   "pygments_lexer": "ipython3",
   "version": "3.6.7"
  }
 },
 "nbformat": 4,
 "nbformat_minor": 4
}
