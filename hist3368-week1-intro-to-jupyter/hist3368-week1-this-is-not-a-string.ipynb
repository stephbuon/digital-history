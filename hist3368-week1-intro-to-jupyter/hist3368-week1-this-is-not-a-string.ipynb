{
 "cells": [
  {
   "cell_type": "markdown",
   "metadata": {},
   "source": [
    "For citation information, please see the \"Source Information\" section listed in the associated README file: https://github.com/stephbuon/digital-history/tree/master/hist3368-week1-intro-to-jupyter"
   ]
  },
  {
   "cell_type": "markdown",
   "metadata": {},
   "source": [
    "# \"This is Not a String\": A Framework for Understanding the Data Types, Data Structures, and Common Errors Encountered When Starting Python Programming\n",
    "by Steph Buongiorno"
   ]
  },
  {
   "cell_type": "markdown",
   "metadata": {},
   "source": [
    "<img src=\"data:image/jpeg;base64,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\"/>"
   ]
  },
  {
   "cell_type": "markdown",
   "metadata": {},
   "source": [
    "## How Should We Think About Programming?"
   ]
  },
  {
   "cell_type": "markdown",
   "metadata": {},
   "source": [
    "\"This is Not a Pipe\" is a famous 1929 painting by Belgium artist René Magritte. The painting shows a pipe, but below it is a quote stating “Ceci n’est pas une pipe,” which when translated to English, means “This is not a pipe.” \n",
    "\n",
    "Yet, when you look at this image you will see a pipe. If you stare at this image and puzzle for hours you will still see a pipe. But technically, it is not. It is a painting of a pipe. (Or in this case, a digital image of a painting of a pipe.)\n",
    "\n",
    "Many programmers have found themselves in the same puzzlement as Magritte's spectators, but while staring at their code for hours while asking themselves why two seemingly identical objects are behaving differently. \n",
    "\n",
    "Magritte's painting offers a framework for understanding this problem. The painting draws our attention away from its content (a pipe) back to the pieces making up the content (oil and canvas). Key to programming is practice shifting our attention away from the content of our constructions and unto the pieces that make up our constructions. \n",
    "\n",
    "The two major kinds of pieces that make up our constructions are \"data structures\" and \"data types.\""
   ]
  },
  {
   "cell_type": "markdown",
   "metadata": {},
   "source": [
    "## How to Use This Notebook"
   ]
  },
  {
   "cell_type": "markdown",
   "metadata": {},
   "source": [
    "This Notebook provides a basic walkthrough of different data types and data structures for the purpose of cultivating an awareness of how our computer thinks compared to us. It offers a framework for understanding these programming concepts, but it doesn't go in depth about their uses. It doesn't answer why we might use a list instead of a set, or what makes dictionaries so special. You will see plenty of examples for the uses of data structures over the course of the semester. \n",
    "\n",
    "Therefore, by working through this Notebook you aren't being asked to memorize every data type and data structure. You just need to remember that different types and structures allow for different kinds of interaction, and understanding this will help us troubleshoot errors. "
   ]
  },
  {
   "cell_type": "markdown",
   "metadata": {},
   "source": [
    "## Data Types"
   ]
  },
  {
   "cell_type": "markdown",
   "metadata": {},
   "source": [
    "When you hit \"run\" on a cell, something translates the text you see on your screen and returns a data output. This something is called the \"Python interpreter.\" A data type is an attribute that tells the Python interpreter how the programmer intends to use the data.\n",
    "\n",
    "In our day-to-day lives we already classify information as different \"types.\" If we wanted to sum two items we know they'd have to be numbers--or a numeric type. If we were writing a letter to a friend, we know we would send information in a character type.\n",
    "\n",
    "The Python interpreter also classifies information as different \"types.\" Here are some of the built-in data types we will see in this class:\n",
    "- Character, denoted by `str`\n",
    "- Numeric, denoted by `int` or `float`\n",
    "- Sequence, denoted by `list`, `tuple`, or `range`\n",
    "- Mapping, denoted by `dict`"
   ]
  },
  {
   "cell_type": "markdown",
   "metadata": {},
   "source": [
    "You can find an object's data type using the `type()` method."
   ]
  },
  {
   "cell_type": "code",
   "execution_count": 1,
   "metadata": {},
   "outputs": [
    {
     "name": "stdout",
     "output_type": "stream",
     "text": [
      "<class 'int'>\n"
     ]
    }
   ],
   "source": [
    "print(type(5))"
   ]
  },
  {
   "cell_type": "markdown",
   "metadata": {},
   "source": [
    "When creating a variable, symbols can be used to assign the object's data type. \n",
    "\n",
    "Apostrophes `' '` or quotes `\" \"` assign the character type."
   ]
  },
  {
   "cell_type": "code",
   "execution_count": 2,
   "metadata": {},
   "outputs": [
    {
     "name": "stdout",
     "output_type": "stream",
     "text": [
      "<class 'str'>\n"
     ]
    }
   ],
   "source": [
    "subject = 'digital history'\n",
    "\n",
    "print(type(subject))"
   ]
  },
  {
   "cell_type": "markdown",
   "metadata": {},
   "source": [
    "Square brackets `[]` assign the list type."
   ]
  },
  {
   "cell_type": "code",
   "execution_count": 3,
   "metadata": {},
   "outputs": [
    {
     "name": "stdout",
     "output_type": "stream",
     "text": [
      "<class 'list'>\n"
     ]
    }
   ],
   "source": [
    "continents = ['South America', 'Africa', 'Europe', 'North America', 'Asia', 'Oceania']\n",
    "\n",
    "print(type(continents))"
   ]
  },
  {
   "cell_type": "markdown",
   "metadata": {},
   "source": [
    "As shown above, `continents` has a list type. But each item inside `continents` also has a type.\n",
    "\n",
    "We can use a for loop to iterate (move sequentially) through `continents` and print each item's type."
   ]
  },
  {
   "cell_type": "code",
   "execution_count": 4,
   "metadata": {},
   "outputs": [
    {
     "name": "stdout",
     "output_type": "stream",
     "text": [
      "<class 'str'>\n",
      "<class 'str'>\n",
      "<class 'str'>\n",
      "<class 'str'>\n",
      "<class 'str'>\n",
      "<class 'str'>\n"
     ]
    }
   ],
   "source": [
    "continents = ['South America', 'Africa', 'Europe', 'North America', 'Asia', 'Oceania']\n",
    "\n",
    "for c in continents:\n",
    "    print(type(c))"
   ]
  },
  {
   "cell_type": "markdown",
   "metadata": {},
   "source": [
    "The for loop can be read like this: for every continent in the continents list, print the continent's type.\n",
    "\n",
    "In this example each item in the list is a string, but lists can also hold mixed types."
   ]
  },
  {
   "cell_type": "code",
   "execution_count": 5,
   "metadata": {},
   "outputs": [
    {
     "name": "stdout",
     "output_type": "stream",
     "text": [
      "<class 'str'>\n",
      "<class 'float'>\n",
      "<class 'str'>\n",
      "<class 'int'>\n",
      "<class 'int'>\n",
      "<class 'str'>\n",
      "<class 'float'>\n",
      "<class 'str'>\n",
      "<class 'int'>\n",
      "<class 'int'>\n"
     ]
    }
   ],
   "source": [
    "continents_population = ['South America', 644.54, 'Africa', 1,305, 'Europe', 745.64, 'Asia', 4,587] # Approximate popualtion in millions \n",
    "\n",
    "for cp in continents_population:\n",
    "    print(type(cp))"
   ]
  },
  {
   "cell_type": "markdown",
   "metadata": {},
   "source": [
    "The above list holds three different data types: string, float, and integer. The `float` type is just a numeric type with decimals."
   ]
  },
  {
   "cell_type": "markdown",
   "metadata": {},
   "source": [
    "## Why is it so Important to Understand Data Types?"
   ]
  },
  {
   "cell_type": "markdown",
   "metadata": {},
   "source": [
    "One of the most common errors encountered when starting Python programming is a \"type error.\" One reason type errors are so common is because data can appear one way to a human programmer, but could, in actuality, be something else.\n",
    "\n",
    "Consider the following phrase:"
   ]
  },
  {
   "cell_type": "markdown",
   "metadata": {},
   "source": [
    "<img src=\"data:image/png;base64,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\"/>"
   ]
  },
  {
   "cell_type": "markdown",
   "metadata": {},
   "source": [
    "The above phrase seems to be the character type. A human reader may perceive five distinct items (\"this\", \"is\", \"not\", \"a\", \"string\") each followed by a space. The python interpreter, however, just sees one item because the phrase is actually an image of text. (Hold down the phrase, move it around, and see what happens.)\n",
    "\n",
    "Because data types tell the Python interpreter how we intend to use the data, assigning the correct type is important.\n",
    "\n",
    "Here is an example of why: \n",
    "\n",
    "Placed between intigers the `+` operator performs addition."
   ]
  },
  {
   "cell_type": "code",
   "execution_count": 6,
   "metadata": {},
   "outputs": [
    {
     "data": {
      "text/plain": [
       "4"
      ]
     },
     "execution_count": 6,
     "metadata": {},
     "output_type": "execute_result"
    }
   ],
   "source": [
    "2 + 2"
   ]
  },
  {
   "cell_type": "markdown",
   "metadata": {},
   "source": [
    "Placed between strings the `+` operator concatenates items."
   ]
  },
  {
   "cell_type": "code",
   "execution_count": 7,
   "metadata": {},
   "outputs": [
    {
     "data": {
      "text/plain": [
       "'22'"
      ]
     },
     "execution_count": 7,
     "metadata": {},
     "output_type": "execute_result"
    }
   ],
   "source": [
    "'2' + '2'"
   ]
  },
  {
   "cell_type": "markdown",
   "metadata": {},
   "source": [
    "If we didn't know our 2s were strings, we might be confused that our output is 22, not 4.\n",
    "\n",
    "Placed between an integer and a string the `+` operator returns a type error. The Python interpreter wasn't sure if we were trying to sum the items or concatenate them."
   ]
  },
  {
   "cell_type": "code",
   "execution_count": 8,
   "metadata": {},
   "outputs": [
    {
     "ename": "TypeError",
     "evalue": "unsupported operand type(s) for +: 'int' and 'str'",
     "output_type": "error",
     "traceback": [
      "\u001b[0;31m---------------------------------------------------------------------------\u001b[0m",
      "\u001b[0;31mTypeError\u001b[0m                                 Traceback (most recent call last)",
      "\u001b[0;32m<ipython-input-8-82150feed70c>\u001b[0m in \u001b[0;36m<module>\u001b[0;34m\u001b[0m\n\u001b[0;32m----> 1\u001b[0;31m \u001b[0;36m2\u001b[0m \u001b[0;34m+\u001b[0m \u001b[0;34m'2'\u001b[0m\u001b[0;34m\u001b[0m\u001b[0;34m\u001b[0m\u001b[0m\n\u001b[0m",
      "\u001b[0;31mTypeError\u001b[0m: unsupported operand type(s) for +: 'int' and 'str'"
     ]
    }
   ],
   "source": [
    "2 + '2'"
   ]
  },
  {
   "cell_type": "markdown",
   "metadata": {},
   "source": [
    "## Data Structures"
   ]
  },
  {
   "cell_type": "markdown",
   "metadata": {},
   "source": [
    "Another key concept to programming is the \"data structure.\" Data structures are the constructs that make up our programs. They provide ways to organize data.\n",
    "\n",
    "Here are some of the built-in data structures we will see in this class:\n",
    "- list, denoted by square brackets `[]`\n",
    "- dictionary, denoted by curley brackets `{}` and populated by keys and values\n",
    "- tuples, denoted by parentheses `()`\n",
    "- set, denoted by `set()` or `{}` and populated by an array of values\n",
    "\n",
    "We will also use popular data structures provided by the `pandas` module: \n",
    "- data frame\n",
    "- series"
   ]
  },
  {
   "cell_type": "markdown",
   "metadata": {},
   "source": [
    "We choose our data structures based on how we wish to interact with, and store, our data. The kinds of data structures we select will dictate what kinds of methods we use. \n",
    "\n",
    "Here is an example: \n",
    "\n",
    "`continents` is a list. We can use the `append()` method to add an item to a list."
   ]
  },
  {
   "cell_type": "code",
   "execution_count": 9,
   "metadata": {},
   "outputs": [
    {
     "name": "stdout",
     "output_type": "stream",
     "text": [
      "['South America', 'Africa', 'Europe', 'North America', 'Asia', 'Oceania', 'Antarctica']\n"
     ]
    }
   ],
   "source": [
    "continents = ['South America', 'Africa', 'Europe', 'North America', 'Asia', 'Oceania']\n",
    "\n",
    "continents.append('Antarctica')\n",
    "\n",
    "print(continents)"
   ]
  },
  {
   "cell_type": "markdown",
   "metadata": {},
   "source": [
    "\"Antarctica\" has now been appended to the end of `continents`.\n",
    "\n",
    "But what happens if I mistakenly use parentheses `()` instead of square brackets `[]`? "
   ]
  },
  {
   "cell_type": "code",
   "execution_count": 10,
   "metadata": {},
   "outputs": [
    {
     "ename": "AttributeError",
     "evalue": "'tuple' object has no attribute 'append'",
     "output_type": "error",
     "traceback": [
      "\u001b[0;31m---------------------------------------------------------------------------\u001b[0m",
      "\u001b[0;31mAttributeError\u001b[0m                            Traceback (most recent call last)",
      "\u001b[0;32m<ipython-input-10-b0e94720b213>\u001b[0m in \u001b[0;36m<module>\u001b[0;34m\u001b[0m\n\u001b[1;32m      1\u001b[0m \u001b[0mcontinents\u001b[0m \u001b[0;34m=\u001b[0m \u001b[0;34m(\u001b[0m\u001b[0;34m'South America'\u001b[0m\u001b[0;34m,\u001b[0m \u001b[0;34m'Africa'\u001b[0m\u001b[0;34m,\u001b[0m \u001b[0;34m'Europe'\u001b[0m\u001b[0;34m,\u001b[0m \u001b[0;34m'North America'\u001b[0m\u001b[0;34m,\u001b[0m \u001b[0;34m'Asia'\u001b[0m\u001b[0;34m,\u001b[0m \u001b[0;34m'Oceania'\u001b[0m\u001b[0;34m)\u001b[0m\u001b[0;34m\u001b[0m\u001b[0;34m\u001b[0m\u001b[0m\n\u001b[1;32m      2\u001b[0m \u001b[0;34m\u001b[0m\u001b[0m\n\u001b[0;32m----> 3\u001b[0;31m \u001b[0mcontinents\u001b[0m\u001b[0;34m.\u001b[0m\u001b[0mappend\u001b[0m\u001b[0;34m(\u001b[0m\u001b[0;34m'Antarctica'\u001b[0m\u001b[0;34m)\u001b[0m\u001b[0;34m\u001b[0m\u001b[0;34m\u001b[0m\u001b[0m\n\u001b[0m",
      "\u001b[0;31mAttributeError\u001b[0m: 'tuple' object has no attribute 'append'"
     ]
    }
   ],
   "source": [
    "continents = ('South America', 'Africa', 'Europe', 'North America', 'Asia', 'Oceania')\n",
    "\n",
    "continents.append('Antarctica')"
   ]
  },
  {
   "cell_type": "markdown",
   "metadata": {},
   "source": [
    "The Python interpreter returns an \"attribute error,\" another very common error. Here it's telling us that we organized our data in a tuple and then tried to invoke a method that is not supported by this data structure."
   ]
  },
  {
   "cell_type": "markdown",
   "metadata": {},
   "source": [
    "## Errors, Errors, and More Errors!"
   ]
  },
  {
   "cell_type": "markdown",
   "metadata": {},
   "source": [
    "Troubleshooting errors is a part of programming. When starting programming, these errors can be frustrating since we are just getting the hang of how the computer thinks compared to how we think. \n",
    "\n",
    "To see what I mean, let's loop through our list again and print each item's data type."
   ]
  },
  {
   "cell_type": "code",
   "execution_count": 11,
   "metadata": {},
   "outputs": [
    {
     "ename": "NameError",
     "evalue": "name 'continent' is not defined",
     "output_type": "error",
     "traceback": [
      "\u001b[0;31m---------------------------------------------------------------------------\u001b[0m",
      "\u001b[0;31mNameError\u001b[0m                                 Traceback (most recent call last)",
      "\u001b[0;32m<ipython-input-11-15ac1d50943e>\u001b[0m in \u001b[0;36m<module>\u001b[0;34m\u001b[0m\n\u001b[0;32m----> 1\u001b[0;31m \u001b[0;32mfor\u001b[0m \u001b[0mc\u001b[0m \u001b[0;32min\u001b[0m \u001b[0mcontinent\u001b[0m\u001b[0;34m:\u001b[0m\u001b[0;34m\u001b[0m\u001b[0;34m\u001b[0m\u001b[0m\n\u001b[0m\u001b[1;32m      2\u001b[0m     \u001b[0mprint\u001b[0m\u001b[0;34m(\u001b[0m\u001b[0mtype\u001b[0m\u001b[0;34m(\u001b[0m\u001b[0mcontinent\u001b[0m\u001b[0;34m)\u001b[0m\u001b[0;34m)\u001b[0m\u001b[0;34m\u001b[0m\u001b[0;34m\u001b[0m\u001b[0m\n",
      "\u001b[0;31mNameError\u001b[0m: name 'continent' is not defined"
     ]
    }
   ],
   "source": [
    "for c in continent:\n",
    "    print(type(continent))"
   ]
  },
  {
   "cell_type": "markdown",
   "metadata": {},
   "source": [
    "Wait a minute. We've been looping through this list the entire Notebook! \n",
    "\n",
    "Why do we have this error? \n",
    "\n",
    "Here's why: When starting programming it's easy to introduce typos into your code. In this case, we are trying to loop through a list that doesn't exist. The name of our list is actually `continents` with an \"s\" at the end. \n",
    "\n",
    "Of course you meant to loop through `continents`! But the interpreter won't assume this. Any time you come across a name error, you can guess a typo is at the root of the problem."
   ]
  },
  {
   "cell_type": "markdown",
   "metadata": {},
   "source": [
    "## Takeaway"
   ]
  },
  {
   "cell_type": "markdown",
   "metadata": {},
   "source": [
    "Over the course of the semester you will use different data types and data structures. Different methods can be invoked depending on the data's type and structure. Misuse of these types and structures can raise errors. Resolving errors such as type errors, attribute errors, and name errors are common steps in programming. The good news is that these errors don't \"just happen suddenly.\" Instead they are the result of some systematic, underlying cause. \n",
    "\n",
    "If a type error is raised ask yourself: Am I using the right data type? Did I change my data's type without realizing it? \n",
    "\n",
    "If an attribute error is raised ask yourself: Am I using the right data structure? Can this method be invoked for this data structure?\n",
    "\n",
    "If a name error is raised ask yourself: Did I introduce a typo to my code? \n",
    "\n",
    "As you continue learning, consider keeping notes about the kinds of errors you encounter. These notes can help you systematically think through your coding habits and offer the insight you need to improve so that when your programs become more sophisticated you aren't making the same mistakes you made in week 2.\n"
   ]
  }
 ],
 "metadata": {
  "interpreter": {
   "hash": "31f2aee4e71d21fbe5cf8b01ff0e069b9275f58929596ceb00d14d90e3e16cd6"
  },
  "kernelspec": {
   "display_name": "Python 3",
   "language": "python",
   "name": "python3"
  },
  "language_info": {
   "codemirror_mode": {
    "name": "ipython",
    "version": 3
   },
   "file_extension": ".py",
   "mimetype": "text/x-python",
   "name": "python",
   "nbconvert_exporter": "python",
   "pygments_lexer": "ipython3",
   "version": "3.6.7"
  }
 },
 "nbformat": 4,
 "nbformat_minor": 4
}
