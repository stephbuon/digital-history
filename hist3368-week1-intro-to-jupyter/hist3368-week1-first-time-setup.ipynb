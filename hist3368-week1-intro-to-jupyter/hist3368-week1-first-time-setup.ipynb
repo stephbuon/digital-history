{
 "cells": [
  {
   "cell_type": "markdown",
   "metadata": {},
   "source": [
    "For citation information, please see the \"Source Information\" section listed in the associated README file: https://github.com/stephbuon/digital-history/tree/master/hist3368-week1-intro-to-jupyter"
   ]
  },
  {
   "cell_type": "markdown",
   "metadata": {},
   "source": [
    "# System Set Up"
   ]
  },
  {
   "cell_type": "markdown",
   "metadata": {},
   "source": [
    "Before running our first Notebook, let's set up our individual environment. \n",
    "\n",
    "We will be using Anadconda, which is a distribution of the Python and R programming langauges for scientific computing. Scientific computing includes: data science, machine learning, text mining, and more! \n",
    "\n",
    "Anaconda is generally favored in these fields over CPython, the base distribution offered by [python.org](https://www.python.org/), because Anaconda offers pre-configured settings useful to data scientists and analysts. A CPython installation is blank, while an Anaconda installation comes with 250 pre-installed packages.\n",
    "\n",
    "To see the full list of packages for 64-bit Linux (like M2), [click here](https://docs.anaconda.com/anaconda/packages/py3.7_linux-64/). "
   ]
  },
  {
   "cell_type": "markdown",
   "metadata": {},
   "source": [
    "### Install Additional Packags"
   ]
  },
  {
   "cell_type": "markdown",
   "metadata": {},
   "source": [
    "While most packages we are using for class come with Anaconda, some don't. The purpose of this section is to install those additonal packages using the `pip` package manager. A package manager is a tool that allows users to install and modify software that is not distributed with a library."
   ]
  },
  {
   "cell_type": "code",
   "execution_count": 1,
   "metadata": {},
   "outputs": [
    {
     "name": "stdout",
     "output_type": "stream",
     "text": [
      "Requirement already satisfied: gutenberg in /users/dbalut/.local/lib/python3.6/site-packages (0.8.1)\n",
      "Requirement already satisfied: requests>=2.5.1 in /hpc/applications/anaconda/3/lib/python3.6/site-packages (from gutenberg) (2.22.0)\n",
      "Requirement already satisfied: six>=1.10.0 in /hpc/applications/anaconda/3/lib/python3.6/site-packages (from gutenberg) (1.12.0)\n",
      "Requirement already satisfied: rdflib<5.0.0,>=4.2.0 in /hpc/applications/anaconda/3/lib/python3.6/site-packages (from gutenberg) (4.2.2)\n",
      "Requirement already satisfied: setuptools>=18.5 in /hpc/applications/anaconda/3/lib/python3.6/site-packages (from gutenberg) (41.4.0)\n",
      "Requirement already satisfied: bsddb3>=6.1.0 in /users/dbalut/.local/lib/python3.6/site-packages (from gutenberg) (6.2.9)\n",
      "Requirement already satisfied: future>=0.15.2 in /hpc/applications/anaconda/3/lib/python3.6/site-packages (from gutenberg) (0.18.2)\n",
      "Requirement already satisfied: rdflib-sqlalchemy>=0.3.8 in /users/dbalut/.local/lib/python3.6/site-packages (from gutenberg) (0.4.0)\n",
      "Requirement already satisfied: SPARQLWrapper>=1.8.2 in /users/dbalut/.local/lib/python3.6/site-packages (from gutenberg) (1.8.5)\n",
      "Requirement already satisfied: chardet<3.1.0,>=3.0.2 in /hpc/applications/anaconda/3/lib/python3.6/site-packages (from requests>=2.5.1->gutenberg) (3.0.4)\n",
      "Requirement already satisfied: certifi>=2017.4.17 in /hpc/applications/anaconda/3/lib/python3.6/site-packages (from requests>=2.5.1->gutenberg) (2020.6.20)\n",
      "Requirement already satisfied: urllib3!=1.25.0,!=1.25.1,<1.26,>=1.21.1 in /hpc/applications/anaconda/3/lib/python3.6/site-packages (from requests>=2.5.1->gutenberg) (1.25.6)\n",
      "Requirement already satisfied: idna<2.9,>=2.5 in /hpc/applications/anaconda/3/lib/python3.6/site-packages (from requests>=2.5.1->gutenberg) (2.8)\n",
      "Requirement already satisfied: isodate in /hpc/applications/anaconda/3/lib/python3.6/site-packages (from rdflib<5.0.0,>=4.2.0->gutenberg) (0.5.4)\n",
      "Requirement already satisfied: pyparsing in /hpc/applications/anaconda/3/lib/python3.6/site-packages (from rdflib<5.0.0,>=4.2.0->gutenberg) (2.4.2)\n",
      "Requirement already satisfied: alembic>=0.8.8 in /hpc/applications/anaconda/3/lib/python3.6/site-packages (from rdflib-sqlalchemy>=0.3.8->gutenberg) (1.2.1)\n",
      "Requirement already satisfied: SQLAlchemy>=1.1.4 in /hpc/applications/anaconda/3/lib/python3.6/site-packages (from rdflib-sqlalchemy>=0.3.8->gutenberg) (1.3.10)\n",
      "Requirement already satisfied: python-dateutil in /hpc/applications/anaconda/3/lib/python3.6/site-packages (from alembic>=0.8.8->rdflib-sqlalchemy>=0.3.8->gutenberg) (2.8.0)\n",
      "Requirement already satisfied: Mako in /hpc/applications/anaconda/3/lib/python3.6/site-packages (from alembic>=0.8.8->rdflib-sqlalchemy>=0.3.8->gutenberg) (1.1.0)\n",
      "Requirement already satisfied: python-editor>=0.3 in /hpc/applications/anaconda/3/lib/python3.6/site-packages (from alembic>=0.8.8->rdflib-sqlalchemy>=0.3.8->gutenberg) (1.0.4)\n",
      "Requirement already satisfied: MarkupSafe>=0.9.2 in /hpc/applications/anaconda/3/lib/python3.6/site-packages (from Mako->alembic>=0.8.8->rdflib-sqlalchemy>=0.3.8->gutenberg) (1.1.1)\n"
     ]
    }
   ],
   "source": [
    "!pip install --user gutenberg"
   ]
  },
  {
   "cell_type": "code",
   "execution_count": 2,
   "metadata": {},
   "outputs": [
    {
     "name": "stdout",
     "output_type": "stream",
     "text": [
      "Requirement already satisfied: bs4 in /users/dbalut/.local/lib/python3.6/site-packages (0.0.1)\n",
      "Requirement already satisfied: beautifulsoup4 in /users/dbalut/.local/lib/python3.6/site-packages (from bs4) (4.9.3)\n",
      "Requirement already satisfied: soupsieve>1.2; python_version >= \"3.0\" in /users/dbalut/.local/lib/python3.6/site-packages (from beautifulsoup4->bs4) (2.2)\n"
     ]
    }
   ],
   "source": [
    "!pip install --user bs4"
   ]
  },
  {
   "cell_type": "code",
   "execution_count": 3,
   "metadata": {},
   "outputs": [
    {
     "name": "stdout",
     "output_type": "stream",
     "text": [
      "Requirement already satisfied: wordcloud in /users/dbalut/.local/lib/python3.6/site-packages (1.8.1)\n",
      "Requirement already satisfied: matplotlib in /hpc/applications/anaconda/3/lib/python3.6/site-packages (from wordcloud) (2.2.5)\n",
      "Requirement already satisfied: numpy>=1.6.1 in /hpc/applications/anaconda/3/lib/python3.6/site-packages (from wordcloud) (1.17.3)\n",
      "Requirement already satisfied: pillow in /hpc/applications/anaconda/3/lib/python3.6/site-packages (from wordcloud) (6.2.1)\n",
      "Requirement already satisfied: python-dateutil>=2.1 in /hpc/applications/anaconda/3/lib/python3.6/site-packages (from matplotlib->wordcloud) (2.8.0)\n",
      "Requirement already satisfied: pyparsing!=2.0.4,!=2.1.2,!=2.1.6,>=2.0.1 in /hpc/applications/anaconda/3/lib/python3.6/site-packages (from matplotlib->wordcloud) (2.4.2)\n",
      "Requirement already satisfied: pytz in /hpc/applications/anaconda/3/lib/python3.6/site-packages (from matplotlib->wordcloud) (2019.3)\n",
      "Requirement already satisfied: six>=1.10 in /hpc/applications/anaconda/3/lib/python3.6/site-packages (from matplotlib->wordcloud) (1.12.0)\n",
      "Requirement already satisfied: kiwisolver>=1.0.1 in /hpc/applications/anaconda/3/lib/python3.6/site-packages (from matplotlib->wordcloud) (1.1.0)\n",
      "Requirement already satisfied: cycler>=0.10 in /hpc/applications/anaconda/3/lib/python3.6/site-packages (from matplotlib->wordcloud) (0.10.0)\n",
      "Requirement already satisfied: setuptools in /hpc/applications/anaconda/3/lib/python3.6/site-packages (from kiwisolver>=1.0.1->matplotlib->wordcloud) (41.4.0)\n"
     ]
    }
   ],
   "source": [
    "!pip install --user wordcloud"
   ]
  },
  {
   "cell_type": "code",
   "execution_count": 4,
   "metadata": {},
   "outputs": [],
   "source": [
    "## Edgar will be addded here shortly "
   ]
  },
  {
   "cell_type": "markdown",
   "metadata": {},
   "source": [
    "### Download NLTK data:"
   ]
  },
  {
   "cell_type": "code",
   "execution_count": 5,
   "metadata": {},
   "outputs": [],
   "source": [
    "import nltk"
   ]
  },
  {
   "cell_type": "code",
   "execution_count": 6,
   "metadata": {},
   "outputs": [
    {
     "name": "stdout",
     "output_type": "stream",
     "text": [
      "[nltk_data] Downloading package stopwords to\n",
      "[nltk_data]     /users/dbalut/nltk_data...\n",
      "[nltk_data]   Package stopwords is already up-to-date!\n"
     ]
    },
    {
     "data": {
      "text/plain": [
       "True"
      ]
     },
     "execution_count": 6,
     "metadata": {},
     "output_type": "execute_result"
    }
   ],
   "source": [
    "nltk.download('stopwords')"
   ]
  },
  {
   "cell_type": "code",
   "execution_count": 7,
   "metadata": {},
   "outputs": [
    {
     "name": "stdout",
     "output_type": "stream",
     "text": [
      "[nltk_data] Downloading package punkt to /users/dbalut/nltk_data...\n",
      "[nltk_data]   Package punkt is already up-to-date!\n"
     ]
    },
    {
     "data": {
      "text/plain": [
       "True"
      ]
     },
     "execution_count": 7,
     "metadata": {},
     "output_type": "execute_result"
    }
   ],
   "source": [
    "nltk.download('punkt')"
   ]
  },
  {
   "cell_type": "code",
   "execution_count": null,
   "metadata": {},
   "outputs": [],
   "source": []
  }
 ],
 "metadata": {
  "kernelspec": {
   "display_name": "Python 3",
   "language": "python",
   "name": "python3"
  },
  "language_info": {
   "codemirror_mode": {
    "name": "ipython",
    "version": 3
   },
   "file_extension": ".py",
   "mimetype": "text/x-python",
   "name": "python",
   "nbconvert_exporter": "python",
   "pygments_lexer": "ipython3",
   "version": "3.6.7"
  }
 },
 "nbformat": 4,
 "nbformat_minor": 4
}
