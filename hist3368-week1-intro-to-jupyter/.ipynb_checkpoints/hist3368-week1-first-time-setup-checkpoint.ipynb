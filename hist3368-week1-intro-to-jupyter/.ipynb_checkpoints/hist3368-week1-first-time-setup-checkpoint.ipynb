{
 "cells": [
  {
   "cell_type": "markdown",
   "metadata": {},
   "source": [
    "# System Set Up"
   ]
  },
  {
   "cell_type": "markdown",
   "metadata": {},
   "source": [
    "Before running our first Notebook, let's set up our individual environment. \n",
    "\n",
    "We will be using Anadconda, which is a distribution of the Python and R programming langauges for scientific computing. Scientific computing includes: data science, machine learning, text mining, and more! \n",
    "\n",
    "Anaconda is generally favored in these fields over CPython, the base distribution offered by [python.org](https://www.python.org/), because Anaconda offers pre-configured settings useful to data scientists and analysts. A CPython installation is blank, while an Anaconda installation comes with 250 pre-installed packages.\n",
    "\n",
    "To see the full list of packages for 64-bit Linux (like M2), [click here](https://docs.anaconda.com/anaconda/packages/py3.7_linux-64/). "
   ]
  },
  {
   "cell_type": "markdown",
   "metadata": {},
   "source": [
    "### Install Additional Packags"
   ]
  },
  {
   "cell_type": "markdown",
   "metadata": {},
   "source": [
    "While most packages we are using for class come with Anaconda, some don't. The purpose of this section is to install those additonal packages using the `pip` package manager. A package manager is a tool that allows users to install and modify software that is not distributed with a library."
   ]
  },
  {
   "cell_type": "code",
   "execution_count": null,
   "metadata": {},
   "outputs": [],
   "source": [
    "!pip install --user gutenberg"
   ]
  },
  {
   "cell_type": "code",
   "execution_count": null,
   "metadata": {},
   "outputs": [],
   "source": [
    "!pip install --user bs4"
   ]
  },
  {
   "cell_type": "code",
   "execution_count": null,
   "metadata": {},
   "outputs": [],
   "source": [
    "!pip install --user wordcloud"
   ]
  },
  {
   "cell_type": "code",
   "execution_count": null,
   "metadata": {},
   "outputs": [],
   "source": [
    "## Edgar will be addded here shortly "
   ]
  },
  {
   "cell_type": "markdown",
   "metadata": {},
   "source": [
    "### Download NLTK data:"
   ]
  },
  {
   "cell_type": "code",
   "execution_count": null,
   "metadata": {},
   "outputs": [],
   "source": [
    "nltk.download('stopwords')"
   ]
  },
  {
   "cell_type": "code",
   "execution_count": null,
   "metadata": {},
   "outputs": [],
   "source": [
    "nltk.download('punkt')"
   ]
  },
  {
   "cell_type": "code",
   "execution_count": null,
   "metadata": {},
   "outputs": [],
   "source": []
  }
 ],
 "metadata": {
  "kernelspec": {
   "display_name": "Python 3",
   "language": "python",
   "name": "python3"
  },
  "language_info": {
   "codemirror_mode": {
    "name": "ipython",
    "version": 3
   },
   "file_extension": ".py",
   "mimetype": "text/x-python",
   "name": "python",
   "nbconvert_exporter": "python",
   "pygments_lexer": "ipython3",
   "version": "3.6.7"
  }
 },
 "nbformat": 4,
 "nbformat_minor": 4
}
