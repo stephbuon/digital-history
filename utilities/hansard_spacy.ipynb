{
 "cells": [
  {
   "cell_type": "code",
   "execution_count": 11,
   "id": "improved-perth",
   "metadata": {},
   "outputs": [],
   "source": [
    "import spacy\n",
    "from spacy.tokens import DocBin"
   ]
  },
  {
   "cell_type": "code",
   "execution_count": 21,
   "id": "smooth-tower",
   "metadata": {},
   "outputs": [
    {
     "name": "stdout",
     "output_type": "stream",
     "text": [
      "CPU times: user 5.48 s, sys: 1.37 s, total: 6.84 s\n",
      "Wall time: 7.27 s\n"
     ]
    }
   ],
   "source": [
    "%%time\n",
    "filepath ='/scratch/group/pract-txt-mine/hansard_1870_9_doc_object'\n",
    "\n",
    "# Important: we must start with a blank NLP pipeline.\n",
    "nlp = spacy.blank(\"en\")\n",
    "\n",
    "# We have to list these out for spacy versions < 3.\n",
    "attributes = [\"LEMMA\", \"ENT_TYPE\", \"POS\", \"DEP\"]\n",
    "\n",
    "with open(filepath, 'rb') as f:\n",
    "    doc_bin = DocBin(attributes, store_user_data=True).from_bytes(f.read())"
   ]
  },
  {
   "cell_type": "code",
   "execution_count": null,
   "id": "minimal-poultry",
   "metadata": {},
   "outputs": [],
   "source": [
    "%%time\n",
    "# Retrieves all the docs, takes a long time\n",
    "docs = list(doc_bin.get_docs(nlp.vocab))"
   ]
  },
  {
   "cell_type": "code",
   "execution_count": null,
   "id": "victorian-toner",
   "metadata": {},
   "outputs": [],
   "source": [
    "\n",
    "def get_n_docs(n: int):\n",
    "    # Let's you only retrieve N number of documents,\n",
    "    # if you think loading all of them would take too long\n",
    "    # and is unnecessary.\n",
    "    doc_generator = doc_bin.get_docs(nlp.vocab)\n",
    "    return [try: next(doc_generator) except StopIteration: break for _ in range(n)]\n",
    "\n",
    "first_ten = get_n_docs(10)\n",
    "first_ten"
   ]
  },
  {
   "cell_type": "code",
   "execution_count": null,
   "id": "reflected-groove",
   "metadata": {},
   "outputs": [],
   "source": [
    "doc = first_ten[0]\n",
    "print(doc.user_data['sentence_id'])\n",
    "for token in first_ten[0]:\n",
    "    print(token.text, token.lemma_, token.pos_)"
   ]
  },
  {
   "cell_type": "code",
   "execution_count": null,
   "id": "controversial-technology",
   "metadata": {},
   "outputs": [],
   "source": []
  }
 ],
 "metadata": {
  "kernelspec": {
   "display_name": "Python 3",
   "language": "python",
   "name": "python3"
  },
  "language_info": {
   "codemirror_mode": {
    "name": "ipython",
    "version": 3
   },
   "file_extension": ".py",
   "mimetype": "text/x-python",
   "name": "python",
   "nbconvert_exporter": "python",
   "pygments_lexer": "ipython3",
   "version": "3.8.6"
  }
 },
 "nbformat": 4,
 "nbformat_minor": 5
}
