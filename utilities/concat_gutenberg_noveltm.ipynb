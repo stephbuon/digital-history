{
 "cells": [
  {
   "cell_type": "code",
   "execution_count": 12,
   "metadata": {},
   "outputs": [],
   "source": [
    "# Dear Student, your observation is correct: Project Gutenberg provides content whereas Novel TM provides metadata.\n",
    "# However, in just a few steps you can join the meta data with your content, allowing you to access this information in a single \n",
    "# dataframe \n",
    "\n",
    "# Here is a code example: \n",
    "\n",
    "# First download your Project Gutenberg data: "
   ]
  },
  {
   "cell_type": "code",
   "execution_count": 60,
   "metadata": {},
   "outputs": [],
   "source": [
    "import pandas as pd\n",
    "from gutenberg.acquire import load_etext\n",
    "from gutenberg.query import get_metadata\n",
    "from gutenberg.cleanup import strip_headers\n",
    "\n",
    "gutenberg_mirror = 'https://gutenberg.pglaf.org/'"
   ]
  },
  {
   "cell_type": "code",
   "execution_count": 61,
   "metadata": {},
   "outputs": [],
   "source": [
    "# Write the name and title to match the Novel TM data set (note that the name is ordered \"last name, first name\")\n",
    "book = [[1400,\"Great expectations: [and other stories]\",\"Dickens, Charles\"]]\n",
    "book\n",
    "\n",
    "# create a data frame from \"book\" that has columns for the ID, title, and author.\n",
    "# give the columns the same name as NovelTM's.\n",
    "guten_df = pd.DataFrame(book, columns=['ID','shorttitle','author']) \n",
    "guten_df"
   ]
  },
  {
   "cell_type": "code",
   "execution_count": 63,
   "metadata": {},
   "outputs": [
    {
     "data": {
      "text/html": [
       "<div>\n",
       "<style scoped>\n",
       "    .dataframe tbody tr th:only-of-type {\n",
       "        vertical-align: middle;\n",
       "    }\n",
       "\n",
       "    .dataframe tbody tr th {\n",
       "        vertical-align: top;\n",
       "    }\n",
       "\n",
       "    .dataframe thead th {\n",
       "        text-align: right;\n",
       "    }\n",
       "</style>\n",
       "<table border=\"1\" class=\"dataframe\">\n",
       "  <thead>\n",
       "    <tr style=\"text-align: right;\">\n",
       "      <th></th>\n",
       "      <th>ID</th>\n",
       "      <th>shorttitle</th>\n",
       "      <th>author</th>\n",
       "      <th>FullText</th>\n",
       "    </tr>\n",
       "  </thead>\n",
       "  <tbody>\n",
       "    <tr>\n",
       "      <th>0</th>\n",
       "      <td>1400</td>\n",
       "      <td>Great expectations: [and other stories]</td>\n",
       "      <td>Dickens, Charles</td>\n",
       "      <td>Great Expectations[1867 Edition]by Charles Dic...</td>\n",
       "    </tr>\n",
       "  </tbody>\n",
       "</table>\n",
       "</div>"
      ],
      "text/plain": [
       "     ID                               shorttitle            author  \\\n",
       "0  1400  Great expectations: [and other stories]  Dickens, Charles   \n",
       "\n",
       "                                            FullText  \n",
       "0  Great Expectations[1867 Edition]by Charles Dic...  "
      ]
     },
     "execution_count": 63,
     "metadata": {},
     "output_type": "execute_result"
    }
   ],
   "source": [
    "# clean the data\n",
    "guten_df['FullText'] = guten_df.apply(lambda row: strip_headers(load_etext(row['ID'], mirror=gutenberg_mirror)).replace(\"\\n\", \"\").replace(\"[Illustration]\", \"\") , axis=1)\n",
    "guten_df"
   ]
  },
  {
   "cell_type": "code",
   "execution_count": null,
   "metadata": {},
   "outputs": [],
   "source": [
    "# Now select your Novel TM data: "
   ]
  },
  {
   "cell_type": "code",
   "execution_count": 70,
   "metadata": {},
   "outputs": [],
   "source": [
    "path_to_noveltm_metadata = \"/scratch/group/history/hist_3368-jguldi/tedunderwood-noveltmmeta-451ae72/metadata\"\n",
    "\n",
    "title_metadata = pd.read_csv(f'{path_to_noveltm_metadata}/titlemeta.tsv', sep='\\t', low_memory=False)\n",
    "\n",
    "# Here I am selecting just Dickens's Great Expectations\n",
    "great_expectations_metadata = title_metadata[92:93].copy()"
   ]
  },
  {
   "cell_type": "code",
   "execution_count": 65,
   "metadata": {},
   "outputs": [
    {
     "data": {
      "text/html": [
       "<div>\n",
       "<style scoped>\n",
       "    .dataframe tbody tr th:only-of-type {\n",
       "        vertical-align: middle;\n",
       "    }\n",
       "\n",
       "    .dataframe tbody tr th {\n",
       "        vertical-align: top;\n",
       "    }\n",
       "\n",
       "    .dataframe thead th {\n",
       "        text-align: right;\n",
       "    }\n",
       "</style>\n",
       "<table border=\"1\" class=\"dataframe\">\n",
       "  <thead>\n",
       "    <tr style=\"text-align: right;\">\n",
       "      <th></th>\n",
       "      <th>docid</th>\n",
       "      <th>oldauthor</th>\n",
       "      <th>author</th>\n",
       "      <th>authordate</th>\n",
       "      <th>inferreddate</th>\n",
       "      <th>latestcomp</th>\n",
       "      <th>datetype</th>\n",
       "      <th>startdate</th>\n",
       "      <th>enddate</th>\n",
       "      <th>imprint</th>\n",
       "      <th>...</th>\n",
       "      <th>allcopiesofwork</th>\n",
       "      <th>copiesin25yrs</th>\n",
       "      <th>enumcron</th>\n",
       "      <th>volnum</th>\n",
       "      <th>title</th>\n",
       "      <th>parttitle</th>\n",
       "      <th>earlyedition</th>\n",
       "      <th>shorttitle</th>\n",
       "      <th>nonficprob</th>\n",
       "      <th>juvenileprob</th>\n",
       "    </tr>\n",
       "  </thead>\n",
       "  <tbody>\n",
       "    <tr>\n",
       "      <th>92</th>\n",
       "      <td>inu.30000011835398</td>\n",
       "      <td>Dickens, Charles</td>\n",
       "      <td>Dickens, Charles</td>\n",
       "      <td>1812-1870.</td>\n",
       "      <td>0</td>\n",
       "      <td>1870</td>\n",
       "      <td>n</td>\n",
       "      <td></td>\n",
       "      <td></td>\n",
       "      <td>New York|Mershon co.|n.d.</td>\n",
       "      <td>...</td>\n",
       "      <td>1.0</td>\n",
       "      <td>1.0</td>\n",
       "      <td>NaN</td>\n",
       "      <td>NaN</td>\n",
       "      <td>Great expectations: | [and other stories]/ | $...</td>\n",
       "      <td>NaN</td>\n",
       "      <td>True</td>\n",
       "      <td>Great expectations: [and other stories]</td>\n",
       "      <td>0.521284</td>\n",
       "      <td>0.081614</td>\n",
       "    </tr>\n",
       "  </tbody>\n",
       "</table>\n",
       "<p>1 rows × 30 columns</p>\n",
       "</div>"
      ],
      "text/plain": [
       "                 docid         oldauthor            author  authordate  \\\n",
       "92  inu.30000011835398  Dickens, Charles  Dickens, Charles  1812-1870.   \n",
       "\n",
       "    inferreddate  latestcomp datetype startdate enddate  \\\n",
       "92             0        1870        n                     \n",
       "\n",
       "                      imprint  ... allcopiesofwork copiesin25yrs enumcron  \\\n",
       "92  New York|Mershon co.|n.d.  ...             1.0           1.0      NaN   \n",
       "\n",
       "   volnum                                              title parttitle  \\\n",
       "92    NaN  Great expectations: | [and other stories]/ | $...       NaN   \n",
       "\n",
       "    earlyedition                               shorttitle  nonficprob  \\\n",
       "92          True  Great expectations: [and other stories]    0.521284   \n",
       "\n",
       "    juvenileprob  \n",
       "92      0.081614  \n",
       "\n",
       "[1 rows x 30 columns]"
      ]
     },
     "execution_count": 65,
     "metadata": {},
     "output_type": "execute_result"
    }
   ],
   "source": [
    "great_expectations_metadata"
   ]
  },
  {
   "cell_type": "code",
   "execution_count": null,
   "metadata": {},
   "outputs": [],
   "source": [
    "# Now merge the two into a single data frame: "
   ]
  },
  {
   "cell_type": "code",
   "execution_count": 68,
   "metadata": {},
   "outputs": [],
   "source": [
    "df_merged = pd.merge(guten_df, great_expectations_metadata, on=['author', 'shorttitle'], how='left')"
   ]
  },
  {
   "cell_type": "code",
   "execution_count": 69,
   "metadata": {},
   "outputs": [
    {
     "data": {
      "text/html": [
       "<div>\n",
       "<style scoped>\n",
       "    .dataframe tbody tr th:only-of-type {\n",
       "        vertical-align: middle;\n",
       "    }\n",
       "\n",
       "    .dataframe tbody tr th {\n",
       "        vertical-align: top;\n",
       "    }\n",
       "\n",
       "    .dataframe thead th {\n",
       "        text-align: right;\n",
       "    }\n",
       "</style>\n",
       "<table border=\"1\" class=\"dataframe\">\n",
       "  <thead>\n",
       "    <tr style=\"text-align: right;\">\n",
       "      <th></th>\n",
       "      <th>ID</th>\n",
       "      <th>shorttitle</th>\n",
       "      <th>author</th>\n",
       "      <th>FullText</th>\n",
       "      <th>docid</th>\n",
       "      <th>oldauthor</th>\n",
       "      <th>authordate</th>\n",
       "      <th>inferreddate</th>\n",
       "      <th>latestcomp</th>\n",
       "      <th>datetype</th>\n",
       "      <th>...</th>\n",
       "      <th>instances</th>\n",
       "      <th>allcopiesofwork</th>\n",
       "      <th>copiesin25yrs</th>\n",
       "      <th>enumcron</th>\n",
       "      <th>volnum</th>\n",
       "      <th>title</th>\n",
       "      <th>parttitle</th>\n",
       "      <th>earlyedition</th>\n",
       "      <th>nonficprob</th>\n",
       "      <th>juvenileprob</th>\n",
       "    </tr>\n",
       "  </thead>\n",
       "  <tbody>\n",
       "    <tr>\n",
       "      <th>0</th>\n",
       "      <td>1400</td>\n",
       "      <td>Great expectations: [and other stories]</td>\n",
       "      <td>Dickens, Charles</td>\n",
       "      <td>Great Expectations[1867 Edition]by Charles Dic...</td>\n",
       "      <td>inu.30000011835398</td>\n",
       "      <td>Dickens, Charles</td>\n",
       "      <td>1812-1870.</td>\n",
       "      <td>0</td>\n",
       "      <td>1870</td>\n",
       "      <td>n</td>\n",
       "      <td>...</td>\n",
       "      <td>1</td>\n",
       "      <td>1.0</td>\n",
       "      <td>1.0</td>\n",
       "      <td>NaN</td>\n",
       "      <td>NaN</td>\n",
       "      <td>Great expectations: | [and other stories]/ | $...</td>\n",
       "      <td>NaN</td>\n",
       "      <td>True</td>\n",
       "      <td>0.521284</td>\n",
       "      <td>0.081614</td>\n",
       "    </tr>\n",
       "  </tbody>\n",
       "</table>\n",
       "<p>1 rows × 32 columns</p>\n",
       "</div>"
      ],
      "text/plain": [
       "     ID                               shorttitle            author  \\\n",
       "0  1400  Great expectations: [and other stories]  Dickens, Charles   \n",
       "\n",
       "                                            FullText               docid  \\\n",
       "0  Great Expectations[1867 Edition]by Charles Dic...  inu.30000011835398   \n",
       "\n",
       "          oldauthor  authordate  inferreddate  latestcomp datetype  ...  \\\n",
       "0  Dickens, Charles  1812-1870.             0        1870        n  ...   \n",
       "\n",
       "  instances allcopiesofwork copiesin25yrs enumcron volnum  \\\n",
       "0         1             1.0           1.0      NaN    NaN   \n",
       "\n",
       "                                               title parttitle earlyedition  \\\n",
       "0  Great expectations: | [and other stories]/ | $...       NaN         True   \n",
       "\n",
       "  nonficprob  juvenileprob  \n",
       "0   0.521284      0.081614  \n",
       "\n",
       "[1 rows x 32 columns]"
      ]
     },
     "execution_count": 69,
     "metadata": {},
     "output_type": "execute_result"
    }
   ],
   "source": [
    "df_merged"
   ]
  },
  {
   "cell_type": "code",
   "execution_count": null,
   "metadata": {},
   "outputs": [],
   "source": []
  }
 ],
 "metadata": {
  "kernelspec": {
   "display_name": "Python 3",
   "language": "python",
   "name": "python3"
  },
  "language_info": {
   "codemirror_mode": {
    "name": "ipython",
    "version": 3
   },
   "file_extension": ".py",
   "mimetype": "text/x-python",
   "name": "python",
   "nbconvert_exporter": "python",
   "pygments_lexer": "ipython3",
   "version": "3.6.7"
  }
 },
 "nbformat": 4,
 "nbformat_minor": 4
}
