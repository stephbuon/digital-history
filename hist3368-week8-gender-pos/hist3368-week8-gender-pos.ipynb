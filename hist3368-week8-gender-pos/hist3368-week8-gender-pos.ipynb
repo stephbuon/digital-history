{
 "cells": [
  {
   "cell_type": "markdown",
   "metadata": {},
   "source": [
    "# Extracting Gendered Constructions with spaCy"
   ]
  },
  {
   "cell_type": "markdown",
   "metadata": {},
   "source": [
    "### The Ongoing Problem of Data-Driven Text Analysis"
   ]
  },
  {
   "cell_type": "markdown",
   "metadata": {},
   "source": [
    "The process of extracting meaningful language patterns poses underlying challenges for any data-driven textual analysis. Here, this challenge is imagined as two-fold: analysts must determine which patterns are \"meaningful\" and analysts must apply the appropriate methods and tools to extract these meaningful patterns.\n",
    "\n",
    "Analysts must also match guiding questions with an appropriate technique. They must be observant to how the methods and tools used to measure a corpus also give shape to the corpus and our analysis.\n",
    "\n",
    "The purpose of this Notebook is thus to engage with this two-fold problem while text mining with spaCy NLP. \n",
    "\n",
    "In this exercise we will text mine a sample of the 2008 Subreddits: Worldnews, News, and Politics with the purpose of analyzing word co-occurance of grammatical gendered pronoun-verb pairs. These pairs are not necessarily consecutive, like bigrams, but instead share syntactic relations in a sentence.\n",
    "\n",
    "This Notebook will ask a high-level, guiding question about gender: what kinds of actions are associated with male and female pronouns in this data set? "
   ]
  },
  {
   "cell_type": "markdown",
   "metadata": {},
   "source": [
    "### Getting Started"
   ]
  },
  {
   "cell_type": "markdown",
   "metadata": {},
   "source": [
    "First import spaCy."
   ]
  },
  {
   "cell_type": "code",
   "execution_count": 1,
   "metadata": {},
   "outputs": [],
   "source": [
    "import spacy, warnings; warnings.simplefilter('ignore')\n",
    "import pandas as pd"
   ]
  },
  {
   "cell_type": "markdown",
   "metadata": {},
   "source": [
    "spaCy's language model can be loaded with `spacy.load()`. `spacy.load()` returns a `Language` object with the components and data required to process text such as a tagger and a tokenizer. \n",
    "\n",
    "For convention's-sake we will call our `Language` object `nlp`."
   ]
  },
  {
   "cell_type": "code",
   "execution_count": 2,
   "metadata": {},
   "outputs": [],
   "source": [
    "nlp = spacy.load('en_core_web_sm')"
   ]
  },
  {
   "cell_type": "markdown",
   "metadata": {},
   "source": [
    "### Loading the Reddit data"
   ]
  },
  {
   "cell_type": "markdown",
   "metadata": {},
   "source": [
    "The following code reads our sample into a pandas DataFrame."
   ]
  },
  {
   "cell_type": "code",
   "execution_count": 3,
   "metadata": {},
   "outputs": [
    {
     "name": "stdout",
     "output_type": "stream",
     "text": [
      "CPU times: user 66.4 ms, sys: 10 ms, total: 76.4 ms\n",
      "Wall time: 173 ms\n"
     ]
    }
   ],
   "source": [
    "%%time\n",
    "reddit_sample_he_she = pd.read_csv(\"/scratch/group/history/hist_3368-jguldi/reddit_2008_he_she.csv\")"
   ]
  },
  {
   "cell_type": "code",
   "execution_count": 4,
   "metadata": {},
   "outputs": [
    {
     "data": {
      "text/html": [
       "<div>\n",
       "<style scoped>\n",
       "    .dataframe tbody tr th:only-of-type {\n",
       "        vertical-align: middle;\n",
       "    }\n",
       "\n",
       "    .dataframe tbody tr th {\n",
       "        vertical-align: top;\n",
       "    }\n",
       "\n",
       "    .dataframe thead th {\n",
       "        text-align: right;\n",
       "    }\n",
       "</style>\n",
       "<table border=\"1\" class=\"dataframe\">\n",
       "  <thead>\n",
       "    <tr style=\"text-align: right;\">\n",
       "      <th></th>\n",
       "      <th>body</th>\n",
       "      <th>subreddit</th>\n",
       "    </tr>\n",
       "  </thead>\n",
       "  <tbody>\n",
       "    <tr>\n",
       "      <th>0</th>\n",
       "      <td>theres a difference between subtle tasteful ad...</td>\n",
       "      <td>politics</td>\n",
       "    </tr>\n",
       "    <tr>\n",
       "      <th>1</th>\n",
       "      <td>to make a point he doesnt want to just win he ...</td>\n",
       "      <td>politics</td>\n",
       "    </tr>\n",
       "    <tr>\n",
       "      <th>2</th>\n",
       "      <td>why the fuck isnt he in jail yet</td>\n",
       "      <td>politics</td>\n",
       "    </tr>\n",
       "    <tr>\n",
       "      <th>3</th>\n",
       "      <td>their futility even if the election comes off ...</td>\n",
       "      <td>politics</td>\n",
       "    </tr>\n",
       "    <tr>\n",
       "      <th>4</th>\n",
       "      <td>gtshes a menace to democracy and i guarantee w...</td>\n",
       "      <td>politics</td>\n",
       "    </tr>\n",
       "    <tr>\n",
       "      <th>...</th>\n",
       "      <td>...</td>\n",
       "      <td>...</td>\n",
       "    </tr>\n",
       "    <tr>\n",
       "      <th>15918</th>\n",
       "      <td>this man deserves the highest medal that great...</td>\n",
       "      <td>worldnews</td>\n",
       "    </tr>\n",
       "    <tr>\n",
       "      <th>15919</th>\n",
       "      <td>his name is supernovan he got the surname jenk...</td>\n",
       "      <td>politics</td>\n",
       "    </tr>\n",
       "    <tr>\n",
       "      <th>15920</th>\n",
       "      <td>i pointed out women because most of the time t...</td>\n",
       "      <td>politics</td>\n",
       "    </tr>\n",
       "    <tr>\n",
       "      <th>15921</th>\n",
       "      <td>you should know by now that youre going to get...</td>\n",
       "      <td>politics</td>\n",
       "    </tr>\n",
       "    <tr>\n",
       "      <th>15922</th>\n",
       "      <td>politicians have been using television and a b...</td>\n",
       "      <td>politics</td>\n",
       "    </tr>\n",
       "  </tbody>\n",
       "</table>\n",
       "<p>15923 rows × 2 columns</p>\n",
       "</div>"
      ],
      "text/plain": [
       "                                                    body  subreddit\n",
       "0      theres a difference between subtle tasteful ad...   politics\n",
       "1      to make a point he doesnt want to just win he ...   politics\n",
       "2                       why the fuck isnt he in jail yet   politics\n",
       "3      their futility even if the election comes off ...   politics\n",
       "4      gtshes a menace to democracy and i guarantee w...   politics\n",
       "...                                                  ...        ...\n",
       "15918  this man deserves the highest medal that great...  worldnews\n",
       "15919  his name is supernovan he got the surname jenk...   politics\n",
       "15920  i pointed out women because most of the time t...   politics\n",
       "15921  you should know by now that youre going to get...   politics\n",
       "15922  politicians have been using television and a b...   politics\n",
       "\n",
       "[15923 rows x 2 columns]"
      ]
     },
     "execution_count": 4,
     "metadata": {},
     "output_type": "execute_result"
    }
   ],
   "source": [
    "reddit_sample_he_she"
   ]
  },
  {
   "cell_type": "markdown",
   "metadata": {},
   "source": [
    "After reading our sample, we can transform it into a pandas series object for quicker processing. Please note that in doing so, we loose the \"subreddit\" column, which leaves us with just the text of the subreddits."
   ]
  },
  {
   "cell_type": "code",
   "execution_count": 5,
   "metadata": {},
   "outputs": [],
   "source": [
    "reddit_sample_he_she_text = reddit_sample_he_she['body'].copy()"
   ]
  },
  {
   "cell_type": "code",
   "execution_count": 6,
   "metadata": {},
   "outputs": [
    {
     "data": {
      "text/plain": [
       "0        theres a difference between subtle tasteful ad...\n",
       "1        to make a point he doesnt want to just win he ...\n",
       "2                         why the fuck isnt he in jail yet\n",
       "3        their futility even if the election comes off ...\n",
       "4        gtshes a menace to democracy and i guarantee w...\n",
       "                               ...                        \n",
       "15918    this man deserves the highest medal that great...\n",
       "15919    his name is supernovan he got the surname jenk...\n",
       "15920    i pointed out women because most of the time t...\n",
       "15921    you should know by now that youre going to get...\n",
       "15922    politicians have been using television and a b...\n",
       "Name: body, Length: 15923, dtype: object"
      ]
     },
     "execution_count": 6,
     "metadata": {},
     "output_type": "execute_result"
    }
   ],
   "source": [
    "reddit_sample_he_she_text"
   ]
  },
  {
   "cell_type": "markdown",
   "metadata": {},
   "source": [
    "### Parsing Text with spaCy"
   ]
  },
  {
   "cell_type": "markdown",
   "metadata": {},
   "source": [
    "As demonstrated in [Klein's Notebook](https://github.com/laurenfklein/emory-qtm340/blob/master/notebooks/class11-nlp-spacy-complete.ipynb), invoking `nlp` on a string of text will return a processed `Doc` object. Within each `Doc` object is a spaCy `token` object. From these `token` objects we can access a word's lemmatized form, its part-of-speech, and other attributes.\n",
    "\n",
    "Unlike Klein's data, however, ours is in a series object where each row is a string of text. We must iterate through each row of the data frame with `nlp.pipe()`, which processes the data in small batches. To improve parsing time we can disable features that we will not use for this exercise like named entity recognition (or `ent`)."
   ]
  },
  {
   "cell_type": "code",
   "execution_count": 7,
   "metadata": {},
   "outputs": [
    {
     "name": "stdout",
     "output_type": "stream",
     "text": [
      "CPU times: user 1min 50s, sys: 17.9 s, total: 2min 8s\n",
      "Wall time: 2min 8s\n"
     ]
    }
   ],
   "source": [
    "%%time\n",
    "reddit_sample_he_she_text = list(nlp.pipe(reddit_sample_he_she_text, disable = [\"ent\"]))"
   ]
  },
  {
   "cell_type": "code",
   "execution_count": 10,
   "metadata": {},
   "outputs": [
    {
     "data": {
      "text/plain": [
       "[theres a difference between subtle tasteful ads and ones that jump in your face and dare you to close them somebody needs to do an afterschool special where the kid wishes internet advertising would disappear and when he wakes up the whole internet is gone but this is what you wanted billy those ads paid for all that wonderful content you enjoyed,\n",
       " to make a point he doesnt want to just win he wants to destroy mcbush aristocracy,\n",
       " why the fuck isnt he in jail yet,\n",
       " their futility even if the election comes off without a hitch and obama wins nothing will change hes from the democratic party the democratic party has been in power in congress for awhile and they have not rescinded a single policy enacted by the republicans not one after 911 the only necessaryt hing that needed to be done to guarantee that there was never an attack such as it was to implement bulletproof cockpit doors thats it everything else was a move to fascism and an unreasonable usurpation of power by the government because of the extremely close stolen election of bush prior to 911 he was a lame duck he could do nothing since the public obviously did not like him after 911 it was the democrats and the republicans that gave him the goahead to build things like the department of homeland security it was the democrats and republicans that put together and passed the patriot act obama nor anyone else in the demcoratic party has even claimed that they will rescind bushes policies what in the world leads you to believe that a vote for a third party is futile in an environment when a vote for one candidate and the vote for another make no difference i hope that obama gets elected i really do when his supporters no longer find themselves unable to imagine that he is different while they are being drafted to attack iran i will be here to say i told you so and if it turns out differently i most definitely will eat crow how much i would love to but there isnt actually any evidence to suggest such a farfetched thing and hope doesnt change reality,\n",
       " gtshes a menace to democracy and i guarantee well see more of her in the coming years my hunch is that shell lose her governor seat in the next election and pretty much disappear the national spotlight has exposed a lot of blemishes that she could keep lowkey up in quiet alaska either scenario should be interesting though like others have said id love to see her run for president and brave the republican nomination process she how she does when its her own colleagues ten times as vicious as anything shes seen so far tearing her apart no liberal elitists or gotcha media to blame it on and no senior republicans full of faux outrage rushing to her side with a tissue,\n",
       " he isnt black look at the picture,\n",
       " she still thinks that the vp runs the senate,\n",
       " the people she surrounds herself with probably dont care but those outside of your bubble clearly do care]"
      ]
     },
     "execution_count": 10,
     "metadata": {},
     "output_type": "execute_result"
    }
   ],
   "source": [
    "reddit_sample_he_she_text[:8]"
   ]
  },
  {
   "cell_type": "markdown",
   "metadata": {},
   "source": [
    "`reddit_sample_he_she_text` looks just like any other list, but it is actually a spaCy `doc` object where every word is a spaCy `token` object. We will explore the objects' attributes in the following section. "
   ]
  },
  {
   "cell_type": "markdown",
   "metadata": {},
   "source": [
    "### Processing spaCy `token` Objects for Part-of-Speech Extraction"
   ]
  },
  {
   "cell_type": "markdown",
   "metadata": {},
   "source": [
    "For our analysis, we are just interested in the spaCy `token` objects inside the `doc` object. The `token` objects include attributes such as:\n",
    "\n",
    " - `.text`: the original word\n",
    " - `.lemma_`: the word's lemmatized form\n",
    " - `.pos_`: the word's part-of-speech\n",
    " - `.dep_`: the word's syntactic dependency\n",
    " - `.head.text`: the word upon which the present word is dependent\n",
    "\n",
    "These attributes can be viewed by iterating through each `doc` object like the following code:"
   ]
  },
  {
   "cell_type": "code",
   "execution_count": 9,
   "metadata": {},
   "outputs": [],
   "source": [
    "def extractTokens(spacy_doc_object):\n",
    "    spacy_tokens = []\n",
    "    for doc in spacy_doc_object:\n",
    "        for token in doc:\n",
    "            row = (token.text, token.lemma_, token.pos_, token.dep_, token.head.text)\n",
    "            spacy_tokens.append(row)\n",
    "    return spacy_tokens\n",
    "\n",
    "reddit_tokens = extractTokens(reddit_sample_he_she_text)"
   ]
  },
  {
   "cell_type": "code",
   "execution_count": 10,
   "metadata": {},
   "outputs": [
    {
     "data": {
      "text/plain": [
       "[('there', 'there', 'PRON', 'expl', 's'),\n",
       " ('s', 's', 'VERB', 'ROOT', 's'),\n",
       " ('a', 'a', 'DET', 'det', 'difference'),\n",
       " ('difference', 'difference', 'NOUN', 'attr', 's'),\n",
       " ('between', 'between', 'ADP', 'prep', 'difference'),\n",
       " ('subtle', 'subtle', 'ADJ', 'amod', 'ads'),\n",
       " ('tasteful', 'tasteful', 'ADJ', 'amod', 'ads'),\n",
       " ('ads', 'ad', 'NOUN', 'pobj', 'between'),\n",
       " ('and', 'and', 'CCONJ', 'cc', 'ads'),\n",
       " ('ones', 'one', 'NOUN', 'conj', 'ads'),\n",
       " ('that', 'that', 'DET', 'nsubj', 'jump'),\n",
       " ('jump', 'jump', 'VERB', 'relcl', 'ads'),\n",
       " ('in', 'in', 'ADP', 'prep', 'jump'),\n",
       " ('your', '-PRON-', 'DET', 'poss', 'face'),\n",
       " ('face', 'face', 'NOUN', 'pobj', 'in'),\n",
       " ('and', 'and', 'CCONJ', 'cc', 'jump'),\n",
       " ('dare', 'dare', 'VERB', 'conj', 'jump'),\n",
       " ('you', '-PRON-', 'PRON', 'dobj', 'dare'),\n",
       " ('to', 'to', 'PART', 'aux', 'close'),\n",
       " ('close', 'close', 'VERB', 'xcomp', 'dare'),\n",
       " ('them', '-PRON-', 'PRON', 'dobj', 'close'),\n",
       " ('somebody', 'somebody', 'PRON', 'nsubj', 'needs'),\n",
       " ('needs', 'need', 'VERB', 'ccomp', 'close'),\n",
       " ('to', 'to', 'PART', 'aux', 'do'),\n",
       " ('do', 'do', 'AUX', 'xcomp', 'needs'),\n",
       " ('an', 'an', 'DET', 'det', 'special'),\n",
       " ('afterschool', 'afterschool', 'NOUN', 'compound', 'special'),\n",
       " ('special', 'special', 'ADJ', 'dobj', 'do'),\n",
       " ('where', 'where', 'ADV', 'advmod', 'wishes'),\n",
       " ('the', 'the', 'DET', 'det', 'kid')]"
      ]
     },
     "execution_count": 10,
     "metadata": {},
     "output_type": "execute_result"
    }
   ],
   "source": [
    "reddit_tokens[:30]"
   ]
  },
  {
   "cell_type": "markdown",
   "metadata": {},
   "source": [
    "Before continuing, let's take a moment to observe the output of `reddit_tokens`.\n",
    "\n",
    "`reddit_tokens` is split into one token per row. Alongside each token is: a) the token, b) the token's lemmatized form, c) the tokens part-of-speech, d) the token's syntactic function, and e) the token's \"head\", or the token to which it syntactically depends."
   ]
  },
  {
   "cell_type": "markdown",
   "metadata": {},
   "source": [
    "### Extracting Parts-of-Speech from Parsed Reddit Text"
   ]
  },
  {
   "cell_type": "markdown",
   "metadata": {},
   "source": [
    "Now we can begin extracting grammatical parts-of-speech for the purpose of looking for language trends. The following code extracts grammatical pairs where the subject is tagged as a noun subject or passive noun subject, and is also a \"child\" of a verb. \n",
    "\n",
    "The verb is lemmatized to prevent counting inflectional verbs separately from their base form."
   ]
  },
  {
   "cell_type": "code",
   "execution_count": 11,
   "metadata": {},
   "outputs": [],
   "source": [
    "from spacy.symbols import nsubj, nsubjpass, VERB\n",
    "\n",
    "def extractPairs(spacy_doc_object):\n",
    "    pairs = []\n",
    "    for doc in spacy_doc_object:\n",
    "        for subject in doc:\n",
    "            if subject.dep == nsubj or subject.dep == nsubjpass and subject.head.pos == VERB:\n",
    "                extracted_pairs = subject.text, subject.head.lemma_\n",
    "                concat_extracted_pairs = ' '.join(extracted_pairs)\n",
    "                pairs.append(str(concat_extracted_pairs))\n",
    "    return pairs\n",
    "\n",
    "pairs = extractPairs(reddit_sample_he_she_text)"
   ]
  },
  {
   "cell_type": "code",
   "execution_count": 12,
   "metadata": {},
   "outputs": [
    {
     "data": {
      "text/plain": [
       "['that jump',\n",
       " 'somebody need',\n",
       " 'kid wish',\n",
       " 'advertising disappear',\n",
       " 'he wake',\n",
       " 'this be',\n",
       " 'you want',\n",
       " 'ads pay',\n",
       " 'you enjoy',\n",
       " 'he want',\n",
       " 'he want',\n",
       " 'fuck be',\n",
       " 'he be',\n",
       " 'futility win',\n",
       " 'election come',\n",
       " 'nothing change',\n",
       " 'he s',\n",
       " 'party be',\n",
       " 'they rescind',\n",
       " 'hing be',\n",
       " 'that need',\n",
       " 'it be',\n",
       " 'that s',\n",
       " 'he be',\n",
       " 'he do',\n",
       " 'public like',\n",
       " 'it be',\n",
       " 'that give',\n",
       " 'it be',\n",
       " 'that put']"
      ]
     },
     "execution_count": 12,
     "metadata": {},
     "output_type": "execute_result"
    }
   ],
   "source": [
    "pairs[:30]"
   ]
  },
  {
   "cell_type": "markdown",
   "metadata": {},
   "source": [
    "`pairs` is a list subjects followed by verbs."
   ]
  },
  {
   "cell_type": "markdown",
   "metadata": {},
   "source": [
    "For the sake of counting and matching with words regardless of case, we can transform all words to lower case."
   ]
  },
  {
   "cell_type": "code",
   "execution_count": 13,
   "metadata": {},
   "outputs": [],
   "source": [
    "lowercase_pairs = [word.lower() for word in pairs]"
   ]
  },
  {
   "cell_type": "code",
   "execution_count": 14,
   "metadata": {},
   "outputs": [
    {
     "data": {
      "text/plain": [
       "['that jump',\n",
       " 'somebody need',\n",
       " 'kid wish',\n",
       " 'advertising disappear',\n",
       " 'he wake',\n",
       " 'this be',\n",
       " 'you want',\n",
       " 'ads pay',\n",
       " 'you enjoy',\n",
       " 'he want',\n",
       " 'he want',\n",
       " 'fuck be',\n",
       " 'he be',\n",
       " 'futility win',\n",
       " 'election come',\n",
       " 'nothing change',\n",
       " 'he s',\n",
       " 'party be',\n",
       " 'they rescind',\n",
       " 'hing be',\n",
       " 'that need',\n",
       " 'it be',\n",
       " 'that s',\n",
       " 'he be',\n",
       " 'he do',\n",
       " 'public like',\n",
       " 'it be',\n",
       " 'that give',\n",
       " 'it be',\n",
       " 'that put']"
      ]
     },
     "execution_count": 14,
     "metadata": {},
     "output_type": "execute_result"
    }
   ],
   "source": [
    "lowercase_pairs[:30]"
   ]
  },
  {
   "cell_type": "markdown",
   "metadata": {},
   "source": [
    "<div class=\"alert alert-block alert-info\">\n",
    "Remember to capitalize I before turning in your paper.\n",
    "</div>"
   ]
  },
  {
   "cell_type": "markdown",
   "metadata": {},
   "source": [
    "We can narrow these results to just pairs containing gendered pronouns for the purpose of exploring our guiding question: what kinds of actions are associated with male and female pronouns in the decade 1870?"
   ]
  },
  {
   "cell_type": "markdown",
   "metadata": {},
   "source": [
    "### Filtering for Gendered Pronoun-Verb Pairs"
   ]
  },
  {
   "cell_type": "markdown",
   "metadata": {},
   "source": [
    "The goal of this Notebook is to extract gendered pronoun-verb pairs and create visualizations that compare male pronoun-verb pairs and female pronoun-verb pairs. First, however, we will just extract pairs with the pronoun he.\n",
    "\n",
    "We can search for \"he\" and its grammatical verbs by treating \"he\" as a regular expression (or sequence of characters that define a search pattern). The following code defines our regular expression, `('he ')`, and creates a variable for each pair that contains a match."
   ]
  },
  {
   "cell_type": "code",
   "execution_count": 15,
   "metadata": {},
   "outputs": [],
   "source": [
    "import re\n",
    "\n",
    "def extractMalePairs(pairs):\n",
    "    regex = re.compile('he ')\n",
    "    male = [word for word in lowercase_pairs if regex.match(word)]\n",
    "    return male\n",
    "\n",
    "male = extractMalePairs(lowercase_pairs)"
   ]
  },
  {
   "cell_type": "code",
   "execution_count": 16,
   "metadata": {},
   "outputs": [
    {
     "data": {
      "text/plain": [
       "['he wake',\n",
       " 'he want',\n",
       " 'he want',\n",
       " 'he be',\n",
       " 'he s',\n",
       " 'he be',\n",
       " 'he do',\n",
       " 'he be',\n",
       " 'he be',\n",
       " 'he be',\n",
       " 'he say',\n",
       " 'he will',\n",
       " 'he bear',\n",
       " 'he tend',\n",
       " 'he talk',\n",
       " 'he be',\n",
       " 'he make',\n",
       " 'he put',\n",
       " 'he mean',\n",
       " 'he do',\n",
       " 'he miss',\n",
       " 'he s',\n",
       " 'he s',\n",
       " 'he need',\n",
       " 'he do',\n",
       " 'he s',\n",
       " 'he s',\n",
       " 'he s',\n",
       " 'he need',\n",
       " 'he do']"
      ]
     },
     "execution_count": 16,
     "metadata": {},
     "output_type": "execute_result"
    }
   ],
   "source": [
    "male[:30]"
   ]
  },
  {
   "cell_type": "markdown",
   "metadata": {},
   "source": [
    "Viewing just the first 30 lines of our lists shows us that our gendered pronoun-verb pairs contain stop words like be or say. Pairs containing a stop word can be removed. \n",
    "\n",
    "We can do this by first defining our stop words . . . "
   ]
  },
  {
   "cell_type": "code",
   "execution_count": 17,
   "metadata": {},
   "outputs": [],
   "source": [
    "stopwords = ['right', 'hon', 'general', 'mr', 'shall', 'majesty', 'exchequer', 'address', 'motion', 'bill',\n",
    "             'earl', 'friend', 'chancellor', 'sense', 'object', 'suppose', 'amidst', 'noble', 'lord', 'agree',\n",
    "             'speech', 'kind', 'january', 'february', 'march', 'april', 'may', 'june', 'july', 'august', 'september',\n",
    "             'october', 'november', 'december', 'order', 'held', 'hold', 'assembly', '£', 'humble', 'about', 'above',\n",
    "             'across', 'address', 'after', 'afterwards', 'again', 'against', 'agree', 'all', 'almost', 'alone', 'along',\n",
    "             'already', 'also', 'although', 'always', 'am', 'amidst', 'among', 'amongst', 'amount', 'an', 'and', 'another',\n",
    "             'any', 'anyhow', 'anything', 'anyway', 'anywhere', 'april', 'are', 'around', 'as', 'at', 'back', 'be', 'was',\n",
    "             'becames', 'because', 'become', 'becomes', 'becoming', 'been', 'before', 'beforehand', 'behind', 'being',\n",
    "             'beside', 'besides', 'between', 'beyond', 'both', 'bottom', 'but', 'by', 'call', 'can', 'cannot', 'do',\n",
    "             'could', 'did', 'does', 'doing', 'done', 'down', 'due', 'during', 'each', 'either', 'else', 'elsewhere',\n",
    "             'empty', 'enough', 'even', 'ever', 'everyone', 'everything', 'everywhere', 'except', 'few', 'first', 'for',\n",
    "             'from', 'front', 'full', 'further', 'general', 'get', 'give', 'go', 'had', 'has', 'have', 'held', 'hence',\n",
    "             'here', 'hereby', 'herein', 'hold', 'however', 'if', 'in', 'indeed', 'into', 'is', 'it', 'its', 'itself',\n",
    "             'just', 'keep', 'kind', 'last', 'latter', 'least', 'less', 'made', 'make', 'many', 'me', 'meanwhile', 'might',\n",
    "             'mine', 'more', 'most', 'mostly', 'move', 'much', 'must', 'name,' 'neither', 'never', 'nevertheless', 'next',\n",
    "             'no', 'noble', 'nobody', 'none', 'nor', 'nothing', 'now', 'nowhere', 'of', 'off', 'often', 'on', 'one', 'once',\n",
    "             'only', 'onto', 'or', 'other', 'others', 'otherwise', 'out', 'over', 'own', 'part', 'perhaps', 'please', 'put',\n",
    "             'quite', 'rather', 'really', 'regarding', 'same', 'say', 'see', 'seem', 'seemed', 'seeming', 'seems', 'sense',\n",
    "             'several', 'shall', 'should', 'show', 'side', 'since', 'so', 'some', 'someone', 'something', 'sometime',\n",
    "             'still', 'such', 'suppose', 'take', 'than', 'that', 'the', 'then', 'there', 'thereby', 'therefore', 'these',\n",
    "             'they', 'this', 'those', 'though', 'thus', 'to', 'together', 'too', 'top', 'toward', 'towards', 'under',\n",
    "             'unless', 'until', 'up', 'upon', 'us', 'used', 'using', 'various', 'very', 'was', 'we', 'well', 'were', 'what',\n",
    "             'whatever', 'when', 'when', 'whereby', 'whether', 'which', 'while', 'who', 'why', 'will', 'with', 'within',\n",
    "             'without', 'would', 'yet', 'bright', 'mr.', 'hansard', 'lancashire', '[]', '£1', '000', 'russell', 'committee',\n",
    "             'reading', 'learned', 'deal', 'time', 'royal', 'gentlemen', 'gentleman', 'year', 'years', 'affairs', 'affair',\n",
    "             'academy', 'sir', 'thought', 'took', 'bring', 'brings', 'brought', 'forward', 'great', 'good', 'department',\n",
    "             'treasury', 'second', 'take', 'taken', 'privy', 'member', 'robert', 'large', 'session', 'secretary', 'notice',\n",
    "             'moment', 'think', 'believe', 'hope', 'ask', 'hear', 'beg', 'support', 'state', 'find', 'admit', 'wish',\n",
    "             'refer', 'reply', 'know', 'feel', 'propose', 'understand', 'let', 'allow', 'like', 'receive', 'consider',\n",
    "             'begin', 'tell', 'like', 'send', 'ought', 'come', 'intend', 'add', 'want', 'stand', 'suggest', 'remind',\n",
    "             'use', 'mean', 'suggest', 's']"
   ]
  },
  {
   "cell_type": "markdown",
   "metadata": {},
   "source": [
    ". . . and then matching this list with our pairs to see whether any tokens match a stop word.\n",
    "\n",
    "The following code removes stop words by a) splitting the pair into individual tokens, b) creating a variable, `tokens_filtered` for just words that do not match a stop word, and c) joining indiviudal words back together to make a pair."
   ]
  },
  {
   "cell_type": "code",
   "execution_count": 18,
   "metadata": {},
   "outputs": [],
   "source": [
    "tokens_joined = []\n",
    "\n",
    "for pair in male:\n",
    "    tokens = pair.split(\" \")\n",
    "    tokens_filtered = [word for word in tokens if not word in stopwords]\n",
    "    tokens = \" \".join(tokens_filtered)\n",
    "    tokens_joined.append(str(tokens))"
   ]
  },
  {
   "cell_type": "code",
   "execution_count": 19,
   "metadata": {},
   "outputs": [
    {
     "data": {
      "text/plain": [
       "['he wake',\n",
       " 'he',\n",
       " 'he',\n",
       " 'he',\n",
       " 'he',\n",
       " 'he',\n",
       " 'he',\n",
       " 'he',\n",
       " 'he',\n",
       " 'he',\n",
       " 'he',\n",
       " 'he',\n",
       " 'he bear',\n",
       " 'he tend',\n",
       " 'he talk',\n",
       " 'he',\n",
       " 'he',\n",
       " 'he',\n",
       " 'he',\n",
       " 'he',\n",
       " 'he miss',\n",
       " 'he',\n",
       " 'he',\n",
       " 'he need',\n",
       " 'he',\n",
       " 'he',\n",
       " 'he',\n",
       " 'he',\n",
       " 'he need',\n",
       " 'he']"
      ]
     },
     "execution_count": 19,
     "metadata": {},
     "output_type": "execute_result"
    }
   ],
   "source": [
    "tokens_joined[:30]"
   ]
  },
  {
   "cell_type": "markdown",
   "metadata": {},
   "source": [
    "We have a problem, however. After joining the individual words we are left with messy data: some strings only have one word because the other word was removed. \n",
    "\n",
    "We can remove these individual tokens by writing a line of logic that only keeps strings that are the length of two (i.e. strings that are pairs). "
   ]
  },
  {
   "cell_type": "code",
   "execution_count": 20,
   "metadata": {},
   "outputs": [],
   "source": [
    "def removeStopWords(pairs):\n",
    "    keep_pairs = []\n",
    "    for pair in pairs:\n",
    "        tokens = pair.split(\" \")\n",
    "        tokens_filtered = [word for word in tokens if not word in stopwords]\n",
    "        joined_tokens = \" \".join(tokens_filtered)\n",
    "        if len(tokens_filtered) == 2: # if string is length of two\n",
    "            keep_pairs.append(str(joined_tokens)) # keep the string\n",
    "    return keep_pairs\n",
    "\n",
    "male_no_stopwords = removeStopWords(male)"
   ]
  },
  {
   "cell_type": "code",
   "execution_count": 21,
   "metadata": {},
   "outputs": [
    {
     "data": {
      "text/plain": [
       "['he wake',\n",
       " 'he bear',\n",
       " 'he tend',\n",
       " 'he talk',\n",
       " 'he miss',\n",
       " 'he need',\n",
       " 'he need',\n",
       " 'he figure',\n",
       " 'he ban',\n",
       " 'he face',\n",
       " 'he write',\n",
       " 'he joke',\n",
       " 'he try',\n",
       " 'he likei',\n",
       " 'he misrepresent',\n",
       " 'he lie',\n",
       " 'he try',\n",
       " 'he hate',\n",
       " 'he judge',\n",
       " 'he bear',\n",
       " 'he blather',\n",
       " 'he cancel',\n",
       " 'he figure',\n",
       " 'he break',\n",
       " 'he post',\n",
       " 'he rs',\n",
       " 'he win',\n",
       " 'he sell',\n",
       " 'he hand',\n",
       " 'he earn']"
      ]
     },
     "execution_count": 21,
     "metadata": {},
     "output_type": "execute_result"
    }
   ],
   "source": [
    "male_no_stopwords[:30]"
   ]
  },
  {
   "cell_type": "markdown",
   "metadata": {},
   "source": [
    "### Counting Gendered Pronoun-Verb Pairs"
   ]
  },
  {
   "cell_type": "markdown",
   "metadata": {},
   "source": [
    "After aggregating gendered pronouns that syntactically depend on a verb, we can count their frequency.\n",
    "\n",
    "The following code defines a function, `countWords()`, that creates a dictionary of every unique pair and its frequency. Any pair not already in the dictionary is added. If the pair is already part of the dictionary its count increments by 1."
   ]
  },
  {
   "cell_type": "code",
   "execution_count": 22,
   "metadata": {},
   "outputs": [],
   "source": [
    "def countWords(clean_data):\n",
    "    ngrams_dict = {}\n",
    "    for ngram in clean_data:\n",
    "        if ngram in ngrams_dict:\n",
    "            ngrams_dict[ngram] += 1\n",
    "        else:\n",
    "            ngrams_dict[ngram] = 1\n",
    "    return ngrams_dict\n",
    "            \n",
    "male_dictionary = countWords(male_no_stopwords)"
   ]
  },
  {
   "cell_type": "code",
   "execution_count": 23,
   "metadata": {
    "scrolled": true
   },
   "outputs": [
    {
     "name": "stdout",
     "output_type": "stream",
     "text": [
      "he wake 11\n",
      "he bear 95\n",
      "he tend 5\n",
      "he talk 168\n",
      "he miss 14\n",
      "he need 229\n",
      "he figure 10\n",
      "he ban 5\n",
      "he face 9\n",
      "he write 101\n",
      "he joke 9\n",
      "he try 204\n",
      "he likei 1\n",
      "he misrepresent 4\n",
      "he lie 62\n",
      "he hate 29\n",
      "he judge 3\n",
      "he blather 2\n",
      "he cancel 1\n",
      "he break 32\n",
      "he post 60\n",
      "he rs 1\n",
      "he win 274\n",
      "he sell 38\n",
      "he hand 12\n",
      "he earn 19\n",
      "he elect 96\n",
      "he avoid 6\n",
      "he run 173\n",
      "he conduct 4\n"
     ]
    }
   ],
   "source": [
    "for kv in list(male_dictionary)[:30]:\n",
    "    print(kv,  male_dictionary[kv])"
   ]
  },
  {
   "cell_type": "markdown",
   "metadata": {},
   "source": [
    "Dictionaries do not store data in sequential order. This is because a dictionary is \"hashable,\" and not linear like a list. While this makes dictionaries quick to process, its organization is not conducive to analysis.\n",
    "\n",
    "Therefore, we will cast the pronoun-verb pairs and their counts to a pandas DataFrame."
   ]
  },
  {
   "cell_type": "code",
   "execution_count": 24,
   "metadata": {},
   "outputs": [],
   "source": [
    "male_pronoun_verb_counts = pd.DataFrame(male_dictionary.items(),columns = ['Pair','Count'])"
   ]
  },
  {
   "cell_type": "code",
   "execution_count": 25,
   "metadata": {},
   "outputs": [
    {
     "data": {
      "text/html": [
       "<div>\n",
       "<style scoped>\n",
       "    .dataframe tbody tr th:only-of-type {\n",
       "        vertical-align: middle;\n",
       "    }\n",
       "\n",
       "    .dataframe tbody tr th {\n",
       "        vertical-align: top;\n",
       "    }\n",
       "\n",
       "    .dataframe thead th {\n",
       "        text-align: right;\n",
       "    }\n",
       "</style>\n",
       "<table border=\"1\" class=\"dataframe\">\n",
       "  <thead>\n",
       "    <tr style=\"text-align: right;\">\n",
       "      <th></th>\n",
       "      <th>Pair</th>\n",
       "      <th>Count</th>\n",
       "    </tr>\n",
       "  </thead>\n",
       "  <tbody>\n",
       "    <tr>\n",
       "      <th>0</th>\n",
       "      <td>he wake</td>\n",
       "      <td>11</td>\n",
       "    </tr>\n",
       "    <tr>\n",
       "      <th>1</th>\n",
       "      <td>he bear</td>\n",
       "      <td>95</td>\n",
       "    </tr>\n",
       "    <tr>\n",
       "      <th>2</th>\n",
       "      <td>he tend</td>\n",
       "      <td>5</td>\n",
       "    </tr>\n",
       "    <tr>\n",
       "      <th>3</th>\n",
       "      <td>he talk</td>\n",
       "      <td>168</td>\n",
       "    </tr>\n",
       "    <tr>\n",
       "      <th>4</th>\n",
       "      <td>he miss</td>\n",
       "      <td>14</td>\n",
       "    </tr>\n",
       "    <tr>\n",
       "      <th>...</th>\n",
       "      <td>...</td>\n",
       "      <td>...</td>\n",
       "    </tr>\n",
       "    <tr>\n",
       "      <th>1518</th>\n",
       "      <td>he rail</td>\n",
       "      <td>1</td>\n",
       "    </tr>\n",
       "    <tr>\n",
       "      <th>1519</th>\n",
       "      <td>he oil</td>\n",
       "      <td>1</td>\n",
       "    </tr>\n",
       "    <tr>\n",
       "      <th>1520</th>\n",
       "      <td>he validate</td>\n",
       "      <td>1</td>\n",
       "    </tr>\n",
       "    <tr>\n",
       "      <th>1521</th>\n",
       "      <td>he immigrate</td>\n",
       "      <td>1</td>\n",
       "    </tr>\n",
       "    <tr>\n",
       "      <th>1522</th>\n",
       "      <td>he hurl</td>\n",
       "      <td>1</td>\n",
       "    </tr>\n",
       "  </tbody>\n",
       "</table>\n",
       "<p>1523 rows × 2 columns</p>\n",
       "</div>"
      ],
      "text/plain": [
       "              Pair  Count\n",
       "0          he wake     11\n",
       "1          he bear     95\n",
       "2          he tend      5\n",
       "3          he talk    168\n",
       "4          he miss     14\n",
       "...            ...    ...\n",
       "1518       he rail      1\n",
       "1519        he oil      1\n",
       "1520   he validate      1\n",
       "1521  he immigrate      1\n",
       "1522       he hurl      1\n",
       "\n",
       "[1523 rows x 2 columns]"
      ]
     },
     "execution_count": 25,
     "metadata": {},
     "output_type": "execute_result"
    }
   ],
   "source": [
    "male_pronoun_verb_counts"
   ]
  },
  {
   "cell_type": "markdown",
   "metadata": {},
   "source": [
    "After creating a pandas DataFrame with our pronoun-verb pairs we can arrange the frequency counts so pairs with the highest count are first."
   ]
  },
  {
   "cell_type": "code",
   "execution_count": 26,
   "metadata": {},
   "outputs": [],
   "source": [
    "male_pronoun_verb_counts.sort_values(by=['Count'], inplace=True, ascending=False)"
   ]
  },
  {
   "cell_type": "code",
   "execution_count": 27,
   "metadata": {},
   "outputs": [
    {
     "data": {
      "text/html": [
       "<div>\n",
       "<style scoped>\n",
       "    .dataframe tbody tr th:only-of-type {\n",
       "        vertical-align: middle;\n",
       "    }\n",
       "\n",
       "    .dataframe tbody tr th {\n",
       "        vertical-align: top;\n",
       "    }\n",
       "\n",
       "    .dataframe thead th {\n",
       "        text-align: right;\n",
       "    }\n",
       "</style>\n",
       "<table border=\"1\" class=\"dataframe\">\n",
       "  <thead>\n",
       "    <tr style=\"text-align: right;\">\n",
       "      <th></th>\n",
       "      <th>Pair</th>\n",
       "      <th>Count</th>\n",
       "    </tr>\n",
       "  </thead>\n",
       "  <tbody>\n",
       "    <tr>\n",
       "      <th>22</th>\n",
       "      <td>he win</td>\n",
       "      <td>274</td>\n",
       "    </tr>\n",
       "    <tr>\n",
       "      <th>5</th>\n",
       "      <td>he need</td>\n",
       "      <td>229</td>\n",
       "    </tr>\n",
       "    <tr>\n",
       "      <th>11</th>\n",
       "      <td>he try</td>\n",
       "      <td>204</td>\n",
       "    </tr>\n",
       "    <tr>\n",
       "      <th>76</th>\n",
       "      <td>he vote</td>\n",
       "      <td>181</td>\n",
       "    </tr>\n",
       "    <tr>\n",
       "      <th>28</th>\n",
       "      <td>he run</td>\n",
       "      <td>173</td>\n",
       "    </tr>\n",
       "    <tr>\n",
       "      <th>...</th>\n",
       "      <td>...</td>\n",
       "      <td>...</td>\n",
       "    </tr>\n",
       "    <tr>\n",
       "      <th>922</th>\n",
       "      <td>he recite</td>\n",
       "      <td>1</td>\n",
       "    </tr>\n",
       "    <tr>\n",
       "      <th>923</th>\n",
       "      <td>he surprise</td>\n",
       "      <td>1</td>\n",
       "    </tr>\n",
       "    <tr>\n",
       "      <th>924</th>\n",
       "      <td>he transcrip</td>\n",
       "      <td>1</td>\n",
       "    </tr>\n",
       "    <tr>\n",
       "      <th>926</th>\n",
       "      <td>he assist</td>\n",
       "      <td>1</td>\n",
       "    </tr>\n",
       "    <tr>\n",
       "      <th>1522</th>\n",
       "      <td>he hurl</td>\n",
       "      <td>1</td>\n",
       "    </tr>\n",
       "  </tbody>\n",
       "</table>\n",
       "<p>1523 rows × 2 columns</p>\n",
       "</div>"
      ],
      "text/plain": [
       "              Pair  Count\n",
       "22          he win    274\n",
       "5          he need    229\n",
       "11          he try    204\n",
       "76         he vote    181\n",
       "28          he run    173\n",
       "...            ...    ...\n",
       "922      he recite      1\n",
       "923    he surprise      1\n",
       "924   he transcrip      1\n",
       "926      he assist      1\n",
       "1522       he hurl      1\n",
       "\n",
       "[1523 rows x 2 columns]"
      ]
     },
     "execution_count": 27,
     "metadata": {},
     "output_type": "execute_result"
    }
   ],
   "source": [
    "male_pronoun_verb_counts"
   ]
  },
  {
   "cell_type": "markdown",
   "metadata": {},
   "source": [
    "<div class=\"alert alert-block alert-info\">\n",
    "Before we continue: one concern had by students was whether it is possible to save variables so that we would not have to rerun spaCy. The answer is: yes, but we need to be mindful of the variable's data structure. During points in our code we can transform our data structure (our dictionary, our list, etc.) to a pandas DataFrame and save the pandas DataFrame to a CSV file. A CSV file looks like an Excel spreadsheet and can be easily read back into your code. The following commented-out example shows how to save a CSV file and then read it back into your Notebook.\n",
    "</div>"
   ]
  },
  {
   "cell_type": "code",
   "execution_count": 28,
   "metadata": {},
   "outputs": [],
   "source": [
    "# male_pronoun_verb_counts.to_csv('male_pronoun_verb_counts.csv') # save your variable to a CSV file on disk\n",
    "# loaded_male_pronoun_verb_counts = pd.read_csv('male_pronoun_verb_counts.csv') # load your CSV file "
   ]
  },
  {
   "cell_type": "markdown",
   "metadata": {},
   "source": [
    "### Visualizing our Results for Analysis"
   ]
  },
  {
   "cell_type": "markdown",
   "metadata": {},
   "source": [
    "We are now ready to visualize our results: grammatical pronoun-verb pairs that show us which verbs are commonly associated with the pronoun he in our Reddit sample of \"Worldnews,\" \"News,\" and \"Politics.\"\n",
    "\n",
    "The following code takes a subset of the first 25 rows of `male_pronoun_verb_counts`."
   ]
  },
  {
   "cell_type": "code",
   "execution_count": 29,
   "metadata": {},
   "outputs": [],
   "source": [
    "top_male_pronoun_verb_counts = male_pronoun_verb_counts[:25].copy()"
   ]
  },
  {
   "cell_type": "code",
   "execution_count": 30,
   "metadata": {},
   "outputs": [
    {
     "data": {
      "text/html": [
       "<div>\n",
       "<style scoped>\n",
       "    .dataframe tbody tr th:only-of-type {\n",
       "        vertical-align: middle;\n",
       "    }\n",
       "\n",
       "    .dataframe tbody tr th {\n",
       "        vertical-align: top;\n",
       "    }\n",
       "\n",
       "    .dataframe thead th {\n",
       "        text-align: right;\n",
       "    }\n",
       "</style>\n",
       "<table border=\"1\" class=\"dataframe\">\n",
       "  <thead>\n",
       "    <tr style=\"text-align: right;\">\n",
       "      <th></th>\n",
       "      <th>Pair</th>\n",
       "      <th>Count</th>\n",
       "    </tr>\n",
       "  </thead>\n",
       "  <tbody>\n",
       "    <tr>\n",
       "      <th>22</th>\n",
       "      <td>he win</td>\n",
       "      <td>274</td>\n",
       "    </tr>\n",
       "    <tr>\n",
       "      <th>5</th>\n",
       "      <td>he need</td>\n",
       "      <td>229</td>\n",
       "    </tr>\n",
       "    <tr>\n",
       "      <th>11</th>\n",
       "      <td>he try</td>\n",
       "      <td>204</td>\n",
       "    </tr>\n",
       "    <tr>\n",
       "      <th>76</th>\n",
       "      <td>he vote</td>\n",
       "      <td>181</td>\n",
       "    </tr>\n",
       "    <tr>\n",
       "      <th>28</th>\n",
       "      <td>he run</td>\n",
       "      <td>173</td>\n",
       "    </tr>\n",
       "    <tr>\n",
       "      <th>3</th>\n",
       "      <td>he talk</td>\n",
       "      <td>168</td>\n",
       "    </tr>\n",
       "    <tr>\n",
       "      <th>32</th>\n",
       "      <td>he lose</td>\n",
       "      <td>144</td>\n",
       "    </tr>\n",
       "    <tr>\n",
       "      <th>149</th>\n",
       "      <td>he look</td>\n",
       "      <td>128</td>\n",
       "    </tr>\n",
       "    <tr>\n",
       "      <th>48</th>\n",
       "      <td>he start</td>\n",
       "      <td>125</td>\n",
       "    </tr>\n",
       "    <tr>\n",
       "      <th>37</th>\n",
       "      <td>he choose</td>\n",
       "      <td>116</td>\n",
       "    </tr>\n",
       "    <tr>\n",
       "      <th>1073</th>\n",
       "      <td>he touch</td>\n",
       "      <td>114</td>\n",
       "    </tr>\n",
       "    <tr>\n",
       "      <th>9</th>\n",
       "      <td>he write</td>\n",
       "      <td>101</td>\n",
       "    </tr>\n",
       "    <tr>\n",
       "      <th>26</th>\n",
       "      <td>he elect</td>\n",
       "      <td>96</td>\n",
       "    </tr>\n",
       "    <tr>\n",
       "      <th>107</th>\n",
       "      <td>he work</td>\n",
       "      <td>95</td>\n",
       "    </tr>\n",
       "    <tr>\n",
       "      <th>1</th>\n",
       "      <td>he bear</td>\n",
       "      <td>95</td>\n",
       "    </tr>\n",
       "    <tr>\n",
       "      <th>47</th>\n",
       "      <td>he speak</td>\n",
       "      <td>91</td>\n",
       "    </tr>\n",
       "    <tr>\n",
       "      <th>229</th>\n",
       "      <td>he leave</td>\n",
       "      <td>90</td>\n",
       "    </tr>\n",
       "    <tr>\n",
       "      <th>153</th>\n",
       "      <td>he deserve</td>\n",
       "      <td>89</td>\n",
       "    </tr>\n",
       "    <tr>\n",
       "      <th>258</th>\n",
       "      <td>he kill</td>\n",
       "      <td>82</td>\n",
       "    </tr>\n",
       "    <tr>\n",
       "      <th>104</th>\n",
       "      <td>he claim</td>\n",
       "      <td>70</td>\n",
       "    </tr>\n",
       "    <tr>\n",
       "      <th>160</th>\n",
       "      <td>he pick</td>\n",
       "      <td>62</td>\n",
       "    </tr>\n",
       "    <tr>\n",
       "      <th>14</th>\n",
       "      <td>he lie</td>\n",
       "      <td>62</td>\n",
       "    </tr>\n",
       "    <tr>\n",
       "      <th>49</th>\n",
       "      <td>he die</td>\n",
       "      <td>62</td>\n",
       "    </tr>\n",
       "    <tr>\n",
       "      <th>20</th>\n",
       "      <td>he post</td>\n",
       "      <td>60</td>\n",
       "    </tr>\n",
       "    <tr>\n",
       "      <th>145</th>\n",
       "      <td>he mention</td>\n",
       "      <td>60</td>\n",
       "    </tr>\n",
       "  </tbody>\n",
       "</table>\n",
       "</div>"
      ],
      "text/plain": [
       "            Pair  Count\n",
       "22        he win    274\n",
       "5        he need    229\n",
       "11        he try    204\n",
       "76       he vote    181\n",
       "28        he run    173\n",
       "3        he talk    168\n",
       "32       he lose    144\n",
       "149      he look    128\n",
       "48      he start    125\n",
       "37     he choose    116\n",
       "1073    he touch    114\n",
       "9       he write    101\n",
       "26      he elect     96\n",
       "107      he work     95\n",
       "1        he bear     95\n",
       "47      he speak     91\n",
       "229     he leave     90\n",
       "153   he deserve     89\n",
       "258      he kill     82\n",
       "104     he claim     70\n",
       "160      he pick     62\n",
       "14        he lie     62\n",
       "49        he die     62\n",
       "20       he post     60\n",
       "145   he mention     60"
      ]
     },
     "execution_count": 30,
     "metadata": {},
     "output_type": "execute_result"
    }
   ],
   "source": [
    "top_male_pronoun_verb_counts"
   ]
  },
  {
   "cell_type": "markdown",
   "metadata": {},
   "source": [
    "These top grammatical pairs can now be visualized with matplotlib. \n",
    "\n",
    "The following code imports matplotlib, sets the plot's size, and renders the visualization."
   ]
  },
  {
   "cell_type": "code",
   "execution_count": 31,
   "metadata": {
    "scrolled": true
   },
   "outputs": [],
   "source": [
    "import matplotlib as plt\n",
    "\n",
    "plt.rcParams['figure.figsize'] = [15, 10]\n",
    "\n",
    "top_male_pronoun_verb_counts.sort_values(by=['Count'], inplace=True, ascending=True)"
   ]
  },
  {
   "cell_type": "code",
   "execution_count": 32,
   "metadata": {},
   "outputs": [
    {
     "data": {
      "text/plain": [
       "<AxesSubplot:title={'center':'Top Grammatical Pronoun-Verb Pairs with He: Searching the Worldnews, Politics, and News Subreddits'}, ylabel='Pair'>"
      ]
     },
     "execution_count": 32,
     "metadata": {},
     "output_type": "execute_result"
    },
    {
     "data": {
      "image/png": "[encoded data removed]",
      "text/plain": [
       "<Figure size 432x288 with 1 Axes>"
      ]
     },
     "metadata": {
      "needs_background": "light"
     },
     "output_type": "display_data"
    }
   ],
   "source": [
    "top_male_pronoun_verb_counts.plot.barh(x = \"Pair\", y = \"Count\",\n",
    "            title = \"Top Grammatical Pronoun-Verb Pairs with He: Searching the Worldnews, Politics, and News Subreddits\")"
   ]
  },
  {
   "cell_type": "markdown",
   "metadata": {},
   "source": [
    "### Reiterating the Process to Extract Female Grammatical Pronouns and their Verbs "
   ]
  },
  {
   "cell_type": "markdown",
   "metadata": {},
   "source": [
    "We can reiterate the same process outlined above to extract the pronoun she and its grammatical verbs. The following code defines one new function (to extract female pronoun-verb pairs) and then calls our already defined functions to render a bar graph of top pairs."
   ]
  },
  {
   "cell_type": "code",
   "execution_count": 33,
   "metadata": {},
   "outputs": [
    {
     "data": {
      "text/plain": [
       "<AxesSubplot:title={'center':'Top Grammatical Pronoun-Verb Pairs with She: Searching the Worldnews, Politics, and News Subreddits'}, ylabel='Pair'>"
      ]
     },
     "execution_count": 33,
     "metadata": {},
     "output_type": "execute_result"
    },
    {
     "data": {
      "image/png": "[encoded data removed]",
      "text/plain": [
       "<Figure size 1080x720 with 1 Axes>"
      ]
     },
     "metadata": {
      "needs_background": "light"
     },
     "output_type": "display_data"
    }
   ],
   "source": [
    "# extract grammatical pronoun-verb pairs where she is subject\n",
    "def extractFemalePairs(pairs):\n",
    "    regex = re.compile('she ')\n",
    "    female = [word for word in lowercase_pairs if regex.match(word)]\n",
    "    return female\n",
    "\n",
    "female = extractFemalePairs(lowercase_pairs)\n",
    "\n",
    "# remove stop words\n",
    "female_no_stopwords = removeStopWords(female)\n",
    "\n",
    "# create a dictionary with each unique pair and its frequency\n",
    "female_dictionary = countWords(female_no_stopwords)\n",
    "\n",
    "# create a data frame from our dictionary of grammatical pairs\n",
    "female_pronoun_verb_counts = pd.DataFrame(female_dictionary.items(),columns = ['Pair','Count'])\n",
    "\n",
    "# arrange in ascending order\n",
    "female_pronoun_verb_counts.sort_values(by=['Count'], inplace=True, ascending=False)\n",
    "\n",
    "# take a subset of the data\n",
    "top_female_pronoun_verb_counts = female_pronoun_verb_counts[:25].copy()\n",
    "\n",
    "# set the parameters of the visualization\n",
    "plt.rcParams['figure.figsize'] = [15, 10]\n",
    "\n",
    "# sort the pairs for visualization\n",
    "top_female_pronoun_verb_counts.sort_values(by=['Count'], inplace=True, ascending=True)\n",
    "\n",
    "# render visualization\n",
    "top_female_pronoun_verb_counts.plot.barh(x = \"Pair\", y = \"Count\",\n",
    "            title = \"Top Grammatical Pronoun-Verb Pairs with She: Searching the Worldnews, Politics, and News Subreddits\")"
   ]
  },
  {
   "cell_type": "markdown",
   "metadata": {},
   "source": [
    "### Assignment Rules"
   ]
  },
  {
   "cell_type": "markdown",
   "metadata": {},
   "source": [
    "1. extract and visualize lemmatized, gendered adjective-noun pairs (i.e. women, man + their adjectives) from the same subset of the Reddit data.\n",
    "\n",
    "    - Note: you can accomplish this task by modifying the pre-existing code in _this Notebook_. \n",
    "\n",
    "2. Write down four observations based on your visualizations.\n",
    "\n",
    "3. Write a paragraph describing how you could continue to mine Reddit for results that would yield a more meaningful and sophisticated analysis.\n",
    "\n",
    "    - For example, you could say: \"my research focused on \"X, Y, and Z\" but a more sophisticated analysis might also ask: \"A, B, and C.\" "
   ]
  },
  {
   "cell_type": "markdown",
   "metadata": {},
   "source": [
    "### Getting Started on Your Assignment"
   ]
  },
  {
   "cell_type": "markdown",
   "metadata": {},
   "source": [
    "To keep our data sets small, you can read in another subset of the Reddit data which includes just sentences with the word \"man\" or \"woman.\" "
   ]
  },
  {
   "cell_type": "code",
   "execution_count": 34,
   "metadata": {},
   "outputs": [],
   "source": [
    "reddit_man_woman_corpus = pd.read_csv(\"/scratch/group/history/hist_3368-jguldi/reddit_2008_he_she.csv\")\n",
    "\n",
    "reddit_man_woman_corpus_text = reddit_man_woman_corpus['body'].copy()\n",
    "\n",
    "reddit_man_woman_corpus_text = list(nlp.pipe(reddit_man_woman_corpus_text, disable = [\"ent\"]))"
   ]
  },
  {
   "cell_type": "markdown",
   "metadata": {},
   "source": [
    "As mentioned, you can modiy the code in this Notebook to extract female adjective-noun pairs. To see what I mean, let's get started on this problem together.\n",
    "\n",
    "We know we already have functions that count pairs, create DataFrames, and visualize our results. Therefore, we just need to change the code that determines which pairs are extracted. Instead of extracting noun-verb pairs we want to extract adjective-noun pairs. \n",
    "\n",
    "So, let's return to the `extractPairs()` function and modify it for our assignment. Instead of using the symbols `nsubj` (for noun subject), `nsubjpass` (for passive noun subject) and `VERB`, we will use `amod` (for adjectival modifier), `acomp` (for adjectival complement), and `NOUN`. "
   ]
  },
  {
   "cell_type": "code",
   "execution_count": 35,
   "metadata": {},
   "outputs": [],
   "source": [
    "from spacy.symbols import amod, acomp, NOUN\n",
    "\n",
    "def extractAdjNounPairs(spacy_doc_object):\n",
    "    pairs = []\n",
    "    for doc in spacy_doc_object:\n",
    "        for adjective in doc:\n",
    "            if adjective.dep == amod or adjective.dep == acomp and adjective.head.pos == NOUN: # or adjective.dep == ccomp or adjective.dep == conj \n",
    "                extracted_pairs = adjective.text, adjective.head.lemma_\n",
    "                concat_extracted_pairs = ' '.join(extracted_pairs)\n",
    "                pairs.append(str(concat_extracted_pairs))\n",
    "    return pairs\n",
    "\n",
    "adjective_noun_pairs = extractAdjNounPairs(reddit_man_woman_corpus_text)"
   ]
  },
  {
   "cell_type": "code",
   "execution_count": 36,
   "metadata": {},
   "outputs": [
    {
     "data": {
      "text/plain": [
       "['subtle ad',\n",
       " 'tasteful ad',\n",
       " 'whole internet',\n",
       " 'wonderful content',\n",
       " 'democratic party',\n",
       " 'democratic party',\n",
       " 'single policy',\n",
       " 'only hing',\n",
       " 'such be',\n",
       " 'bulletproof door',\n",
       " 'unreasonable usurpation',\n",
       " 'close election',\n",
       " 'stolen election',\n",
       " 'lame duck',\n",
       " 'demcoratic party',\n",
       " 'third party',\n",
       " 'farfetched thing',\n",
       " 'coming year',\n",
       " 'next election',\n",
       " 'national spotlight',\n",
       " 'quiet alaska',\n",
       " 'republican process',\n",
       " 'own colleague',\n",
       " 'liberal elitist',\n",
       " 'senior republican',\n",
       " 'full republican',\n",
       " 'faux outrage',\n",
       " 'black look',\n",
       " 'antiislamic propaganda',\n",
       " 'correct yaf']"
      ]
     },
     "execution_count": 36,
     "metadata": {},
     "output_type": "execute_result"
    }
   ],
   "source": [
    "adjective_noun_pairs[:30]"
   ]
  },
  {
   "cell_type": "markdown",
   "metadata": {},
   "source": [
    "Like our previous code, we can transform each pair to lower case so the same word with a different case is not counted separately. In other words, we don't want to count \"Woman\" and \"woman\" separately."
   ]
  },
  {
   "cell_type": "code",
   "execution_count": 37,
   "metadata": {},
   "outputs": [],
   "source": [
    "lowercase_adjective_noun_pairs = [word.lower() for word in adjective_noun_pairs]"
   ]
  },
  {
   "cell_type": "markdown",
   "metadata": {},
   "source": [
    "Now instead of extracting pairs with the regular expression \"she \" we can extract pairs with the regular expression \" woman.\""
   ]
  },
  {
   "cell_type": "code",
   "execution_count": 38,
   "metadata": {},
   "outputs": [],
   "source": [
    "def extractFemaleAdjNounPairs(lowercase_adjective_noun_pairs):\n",
    "    regex = re.compile(' woman')\n",
    "    female = [word for word in lowercase_adjective_noun_pairs if regex.search(word)]\n",
    "    return female\n",
    "\n",
    "female_adj_noun_pairs = extractFemaleAdjNounPairs(lowercase_adjective_noun_pairs)"
   ]
  },
  {
   "cell_type": "code",
   "execution_count": 39,
   "metadata": {},
   "outputs": [
    {
     "data": {
      "text/plain": [
       "['insane woman',\n",
       " 'republican woman',\n",
       " 'straight woman',\n",
       " 'stupid woman',\n",
       " 'illiterate woman',\n",
       " 'dumb woman',\n",
       " 'different woman',\n",
       " 'attractive woman',\n",
       " 'attractive woman',\n",
       " 'tiny woman',\n",
       " 'afraid woman',\n",
       " 'adirty woman',\n",
       " 'white woman',\n",
       " 'sick woman',\n",
       " 'sick woman',\n",
       " 'good woman',\n",
       " 'developed woman',\n",
       " 'private woman',\n",
       " 'private woman',\n",
       " 'black woman',\n",
       " 'most woman',\n",
       " 'muslim woman',\n",
       " 'pregnant woman',\n",
       " 'beautiful woman',\n",
       " 'many woman',\n",
       " 'outgoing woman',\n",
       " 'young woman',\n",
       " 'young woman',\n",
       " 'old woman',\n",
       " 'designated woman']"
      ]
     },
     "execution_count": 39,
     "metadata": {},
     "output_type": "execute_result"
    }
   ],
   "source": [
    "female_adj_noun_pairs[:30]"
   ]
  },
  {
   "cell_type": "markdown",
   "metadata": {},
   "source": [
    "We can now use our functions to count and visualize our data."
   ]
  },
  {
   "cell_type": "code",
   "execution_count": 40,
   "metadata": {},
   "outputs": [
    {
     "data": {
      "text/plain": [
       "<AxesSubplot:title={'center':'Top Grammatical Adjective-Noun Pairs with Woman: Searching the Worldnews, Politics, and News Subreddits'}, ylabel='Pair'>"
      ]
     },
     "execution_count": 40,
     "metadata": {},
     "output_type": "execute_result"
    },
    {
     "data": {
      "image/png": "[encoded data removed]",
      "text/plain": [
       "<Figure size 1080x720 with 1 Axes>"
      ]
     },
     "metadata": {
      "needs_background": "light"
     },
     "output_type": "display_data"
    }
   ],
   "source": [
    "# remove stop words\n",
    "female_adj_noun_pairs_no_stopwords = removeStopWords(female_adj_noun_pairs)\n",
    "\n",
    "# create a dictionary with each unique pair and its frequency\n",
    "female_adj_noun_dictionary = countWords(female_adj_noun_pairs_no_stopwords)\n",
    "\n",
    "# create a data frame from our dictionary of grammatical pairs\n",
    "female_adj_noun_df = pd.DataFrame(female_adj_noun_dictionary.items(),columns = ['Pair','Count'])\n",
    "\n",
    "# arrange in ascending order\n",
    "female_adj_noun_df.sort_values(by=['Count'], inplace=True, ascending=False)\n",
    "\n",
    "top_female_adj_noun_counts = female_adj_noun_df[:45].copy()\n",
    "\n",
    "# set the parameters of the visualization\n",
    "plt.rcParams['figure.figsize'] = [15, 10]\n",
    "\n",
    "# sort the pairs for visualization\n",
    "top_female_adj_noun_counts.sort_values(by=['Count'], inplace=True, ascending=True)\n",
    "\n",
    "# render visualization\n",
    "top_female_adj_noun_counts.plot.barh(x = \"Pair\", y = \"Count\",\n",
    "            title = \"Top Grammatical Adjective-Noun Pairs with Woman: Searching the Worldnews, Politics, and News Subreddits\")"
   ]
  },
  {
   "cell_type": "markdown",
   "metadata": {},
   "source": [
    "Now it's your turn to finish the assignment by repeating the process for \"man\" and answering the rest of the questions listed in the __Assignment Rules__ section."
   ]
  }
 ],
 "metadata": {
  "kernelspec": {
   "display_name": "Python 3",
   "language": "python",
   "name": "python3"
  },
  "language_info": {
   "codemirror_mode": {
    "name": "ipython",
    "version": 3
   },
   "file_extension": ".py",
   "mimetype": "text/x-python",
   "name": "python",
   "nbconvert_exporter": "python",
   "pygments_lexer": "ipython3",
   "version": "3.7.4"
  }
 },
 "nbformat": 4,
 "nbformat_minor": 4
}
