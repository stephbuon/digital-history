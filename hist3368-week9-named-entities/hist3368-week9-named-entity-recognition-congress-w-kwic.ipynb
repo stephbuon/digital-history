{
 "cells": [
  {
   "cell_type": "markdown",
   "metadata": {},
   "source": [
    "# Hist 3368 - Week 9 - Named Entity Recognition\n",
    "\n",
    "#### by Jo Guldi, expanding on a prompt from https://www.geeksforgeeks.org/python-named-entity-recognition-ner-using-spacy/"
   ]
  },
  {
   "cell_type": "markdown",
   "metadata": {},
   "source": [
    "**SPECIAL INSTRUCTIONS FOR THIS SESSION ON M2:**\n",
    "\n",
    "    For \"Memory,\" put \"100GB\"\n",
    "\n",
    "    To the \"custom environment settings\" space, add this: \"source /hpc/applications/python_environments/spacy/bin/activate\""
   ]
  },
  {
   "cell_type": "markdown",
   "metadata": {},
   "source": [
    "In this notebook, we'll learn how to use the powerful SPACY software library to search for \"named entities.\" \n",
    "\n",
    "A ***named entity*** can be a person's name, the name of a country, the date of a famous event, a kind of money, a corporation, or practically anything else. \n",
    "\n",
    " * In the case of this notebook, we'll learn about some of the results of named entity recognition.  We'll see how SPACY categorized named entities as people, places, dates, etc.  \n",
    "\n",
    " * We'll then apply SPACY to the Dallas City Council minutes, where we'll see that named entity recognition is capable of detecting the names of local government regulations in Texas\n",
    " \n",
    " We will notice that the results of grammatical analysis look *very* different from the results of using WordNet.  The controlled vocabulary organized by linguists at Princeton, for example, doesn't know anything about local government regulations in Dallas, Texas.  But by using grammatical analysis, Spacy will pick up on the names of common government regulations specific to Dallas."
   ]
  },
  {
   "cell_type": "markdown",
   "metadata": {},
   "source": [
    "#### Using Code to Extract Named Entities\n",
    "\n",
    "We'll learn about the *Spacy* software package.  To work with Spacy, you need to tell M2 to begin a session with special parameters that include loading the background software for Spacy.\n",
    "\n",
    "* Please note that to use spaCy on M2 you must go to My Interactive Sessions/JupyterLab and add **source** /hpc/applications/python_environments/spacy/bin/activate to the “Custom environment settings” field.\n",
    "\n",
    "We'll learn about the\n",
    "\n",
    "    nlp(string)\n",
    "    \n",
    "command from Spacy, which tells spacy to extract all named entities from a string of text.   \n",
    "\n",
    "We'll also learn how to read the output of the nlp() command, which creates a dataset whose contents are typically called with a for loop requesting each of the following:\n",
    "\n",
    "    *.ents -- that is, each of the entities for the document created\n",
    "    *.ent_label_ -- for each entity, there is an ent_label that includes information about what kind of named entity Spacy has found.  \n",
    "\n",
    "#### Counting Named Entities and Thinking About Counting\n",
    "\n",
    "We will also see some familiar commands for grouping and counting, which will allow us to model the number of events, persons, corporations, and nationalities mentioned over time with NER.\n",
    "\n",
    "\t.explode().dropna()\n",
    "\t.value_counts()\n",
    "\t.nlargest()\n",
    "\t.groupby()\n",
    "\t.count()\n",
    "\t.unique()\n",
    "\n",
    "We’ll also talk about the best way of counting over time.  Consider the following propositions.  \n",
    "\n",
    "If I want to understand the most important places discussed over time in the Dallas City Council debates, should I pay most attention to:\n",
    "\n",
    "1. the neighborhoods referenced the highest number of months?\n",
    "2. the neighborhoods that are referenced with the maximum number of times in any single month?\n",
    "3. the neighborhoods that are referenced the most frequently overall? \n",
    "\n",
    "We will give you the code for each of these measurements.\n",
    "\n",
    "In theory, each of these measurements might contribute to some analysis — the question is how each of them produces a different model of “significance.” \n",
    "\n",
    "For instance, the first measure — (1) neighborhoods referenced over the most months — will give you a list of neighborhoods referenced consistently, whereas the second measure — (2) the highest relative peak — will give you neighborhoods that became suddenly important at one moment of time.  Both measures might be potentially useful to know about.  \n",
    "\n",
    "We will  be asking you to think about how changing what is being measured changes the meaning of the analysis. \n",
    "\n",
    "#### Learn How to Write a Function\n",
    "\n",
    "We'll learn how to define a function, using the command\n",
    "\n",
    "    def \n",
    "\n",
    "and how to return information from a function with the command\n",
    "\n",
    "    return()\n",
    "\n",
    "We’ll define a function called ***ner_finder(sentence, Label1)*** -- which will return all the named entities of kind label1 from a string called sentence.  \n",
    "\n",
    "In theory, ner_finder() can be applied to the text column of any dataset and produce answers, although it is very slow, as is the way with grammatical analysis. The simple formula for applying ner_finder to a column of text, looking only for the items labeled 'LAW', is this:\n",
    "\n",
    "    results = [ner_finder(sentence, 'LAW') for sentence in dallas_minutes['Text']]\n",
    "\n",
    "#### Learn Some More About Speed\n",
    "\n",
    "Finally, this lesson adds a few tools that are useful for speeding up slow code and for estimating how long a coding process will take. These tools, while not essential to the work of this notebook, may be useful as you try to implement code on large-scale datasets.\n",
    "\n",
    "We’ll learn about speeding up code using “parallel” processing, which is often faster for large datasets than list comprehension.  We’ll learn the function\n",
    "\n",
    "\t.apply()\n",
    "\n",
    "which \"applies\" a task over over each item in a list or column -- much like a for-loop. \n",
    "\n",
    "To use .apply() with the function ner_finder(), we’ll use the grammar\n",
    "\n",
    "\t.apply(lambda x: [function to be applied])\n",
    "\n",
    "to apply a function like ner_finder() to each item in a pandas column.\n",
    "\n",
    "\n",
    "\n",
    "Technically, you don't need to understand .apply() to work with NER.  We'll learn that these two lines of code do *exactly the same thing,* although one may be faster:\n",
    "\n",
    "    [ner_finder(sentence, 'LAW') for sentence in dallas_minutes['Text']] -- this is the 'list comprehension' method explained above\n",
    "\tdallas_minutes['Text'].apply(lambda x: ner_finder(x, 'LAW')) -- this is the .apply() method \n",
    "\n",
    "\n",
    "We’ll learn a little about timing data processes with the **time** package.  We’ll use the command\n",
    "\n",
    "\ttime.time() \n",
    "\n",
    "To take the time in milliseconds. We'll use this timer to compare the speed of different approaches to the same code. \n",
    "\n",
    "This tool will allow you to decide, for yourself, between two comparable coding approaches, choosing the one that is more efficient.\n",
    "\n",
    "\n",
    "\n"
   ]
  },
  {
   "cell_type": "markdown",
   "metadata": {},
   "source": [
    "#### Setup Spacy"
   ]
  },
  {
   "cell_type": "code",
   "execution_count": null,
   "metadata": {},
   "outputs": [],
   "source": [
    "import pandas as pd, spacy\n",
    "from datetime import datetime"
   ]
  },
  {
   "cell_type": "code",
   "execution_count": null,
   "metadata": {},
   "outputs": [],
   "source": [
    "nlp = spacy.load('en_core_web_sm')"
   ]
  },
  {
   "cell_type": "markdown",
   "metadata": {},
   "source": [
    "Getting an error? \n",
    "\n",
    "* Please note that to use spaCy on M2 you must go to My Interactive Sessions/JupyterLab and add **source /hpc/applications/python_environments/spacy/bin/activate** to the **“Custom environment settings”** field.\n"
   ]
  },
  {
   "cell_type": "markdown",
   "metadata": {},
   "source": [
    "#### Load some data"
   ]
  },
  {
   "cell_type": "markdown",
   "metadata": {},
   "source": [
    "We're going to load the speeches of Congress."
   ]
  },
  {
   "cell_type": "code",
   "execution_count": null,
   "metadata": {},
   "outputs": [],
   "source": [
    "cd /scratch/group/history/hist_3368-jguldi"
   ]
  },
  {
   "cell_type": "code",
   "execution_count": null,
   "metadata": {},
   "outputs": [],
   "source": [
    "congress = pd.read_csv(\"congress1967-2010.csv\")\n",
    "#congress = pd.read_csv(\"eighties_data.csv\")"
   ]
  },
  {
   "cell_type": "code",
   "execution_count": null,
   "metadata": {},
   "outputs": [],
   "source": [
    "cd ~/digital-history"
   ]
  },
  {
   "cell_type": "code",
   "execution_count": 90,
   "metadata": {},
   "outputs": [
    {
     "data": {
      "text/html": [
       "<div>\n",
       "<style scoped>\n",
       "    .dataframe tbody tr th:only-of-type {\n",
       "        vertical-align: middle;\n",
       "    }\n",
       "\n",
       "    .dataframe tbody tr th {\n",
       "        vertical-align: top;\n",
       "    }\n",
       "\n",
       "    .dataframe thead th {\n",
       "        text-align: right;\n",
       "    }\n",
       "</style>\n",
       "<table border=\"1\" class=\"dataframe\">\n",
       "  <thead>\n",
       "    <tr style=\"text-align: right;\">\n",
       "      <th></th>\n",
       "      <th>Unnamed: 0</th>\n",
       "      <th>Unnamed: 0.1</th>\n",
       "      <th>speech</th>\n",
       "      <th>date</th>\n",
       "      <th>speaker</th>\n",
       "      <th>word_count</th>\n",
       "      <th>year</th>\n",
       "      <th>month</th>\n",
       "      <th>month_year</th>\n",
       "    </tr>\n",
       "  </thead>\n",
       "  <tbody>\n",
       "    <tr>\n",
       "      <th>185175</th>\n",
       "      <td>185175</td>\n",
       "      <td>185175</td>\n",
       "      <td>Mr. President. I suggest the absence of a quorum.</td>\n",
       "      <td>1968-01-15</td>\n",
       "      <td>Mr. MANSFIELD</td>\n",
       "      <td>9</td>\n",
       "      <td>1968</td>\n",
       "      <td>1</td>\n",
       "      <td>1968-01-01</td>\n",
       "    </tr>\n",
       "    <tr>\n",
       "      <th>185176</th>\n",
       "      <td>185176</td>\n",
       "      <td>185176</td>\n",
       "      <td>The clerk will call the roll.</td>\n",
       "      <td>1968-01-15</td>\n",
       "      <td>The VICE PRESIDENT</td>\n",
       "      <td>6</td>\n",
       "      <td>1968</td>\n",
       "      <td>1</td>\n",
       "      <td>1968-01-01</td>\n",
       "    </tr>\n",
       "    <tr>\n",
       "      <th>185177</th>\n",
       "      <td>185177</td>\n",
       "      <td>185177</td>\n",
       "      <td>I announce that the Senator from New Mexico . ...</td>\n",
       "      <td>1968-01-15</td>\n",
       "      <td>Mr. BYRD of West Virginia</td>\n",
       "      <td>200</td>\n",
       "      <td>1968</td>\n",
       "      <td>1</td>\n",
       "      <td>1968-01-01</td>\n",
       "    </tr>\n",
       "    <tr>\n",
       "      <th>185178</th>\n",
       "      <td>185178</td>\n",
       "      <td>185178</td>\n",
       "      <td>I announce that the Senator from Massachusetts...</td>\n",
       "      <td>1968-01-15</td>\n",
       "      <td>Mr. KUCHEL</td>\n",
       "      <td>66</td>\n",
       "      <td>1968</td>\n",
       "      <td>1</td>\n",
       "      <td>1968-01-01</td>\n",
       "    </tr>\n",
       "    <tr>\n",
       "      <th>185179</th>\n",
       "      <td>185179</td>\n",
       "      <td>185179</td>\n",
       "      <td>A quorum is present.</td>\n",
       "      <td>1968-01-15</td>\n",
       "      <td>The VICE PRESIDENT</td>\n",
       "      <td>4</td>\n",
       "      <td>1968</td>\n",
       "      <td>1</td>\n",
       "      <td>1968-01-01</td>\n",
       "    </tr>\n",
       "  </tbody>\n",
       "</table>\n",
       "</div>"
      ],
      "text/plain": [
       "        Unnamed: 0  Unnamed: 0.1  \\\n",
       "185175      185175        185175   \n",
       "185176      185176        185176   \n",
       "185177      185177        185177   \n",
       "185178      185178        185178   \n",
       "185179      185179        185179   \n",
       "\n",
       "                                                   speech        date  \\\n",
       "185175  Mr. President. I suggest the absence of a quorum.  1968-01-15   \n",
       "185176                      The clerk will call the roll.  1968-01-15   \n",
       "185177  I announce that the Senator from New Mexico . ...  1968-01-15   \n",
       "185178  I announce that the Senator from Massachusetts...  1968-01-15   \n",
       "185179                               A quorum is present.  1968-01-15   \n",
       "\n",
       "                          speaker  word_count  year  month  month_year  \n",
       "185175              Mr. MANSFIELD           9  1968      1  1968-01-01  \n",
       "185176         The VICE PRESIDENT           6  1968      1  1968-01-01  \n",
       "185177  Mr. BYRD of West Virginia         200  1968      1  1968-01-01  \n",
       "185178                 Mr. KUCHEL          66  1968      1  1968-01-01  \n",
       "185179         The VICE PRESIDENT           4  1968      1  1968-01-01  "
      ]
     },
     "execution_count": 90,
     "metadata": {},
     "output_type": "execute_result"
    }
   ],
   "source": [
    "congress_1968 = congress[congress['year'] == 1968]\n",
    "congress_1968[:5]"
   ]
  },
  {
   "cell_type": "markdown",
   "metadata": {},
   "source": [
    "## Named Entity Recognition with Spacy"
   ]
  },
  {
   "cell_type": "markdown",
   "metadata": {},
   "source": [
    "The package SPACY uses the grammar of sentences to make an educated \"guess\" about what kind of entity is under consideration. \n",
    "\n",
    "Note that the package *isn't* applying a controlled vocabulary of all possible dates or years. It's just looking at grammar -- using clues like the part-of-speech of each of the words and what prepositions are nearby to make a guess about whether each entity is the name of a law, a place, or a person.\n",
    "\n",
    "It's actually *generating* a new controlled vocabulary on the basis of grammar.\n",
    "\n",
    "Named entity recognition can be used as an alternative to controlled vocabulary to create a much more specific, tailor-made vocabulary appropriate to a textbase.  \n"
   ]
  },
  {
   "cell_type": "code",
   "execution_count": null,
   "metadata": {},
   "outputs": [],
   "source": [
    "sentence = \"The United Kingdom passed the Representation of the People Act in 1928, giving women in Wales and London, among others, the right to vote.\"\n",
    "  \n",
    "doc = nlp(sentence)\n",
    "  \n",
    "for ent in doc.ents:\n",
    "    print(ent.text, ent.start_char, ent.end_char, ent.label_)"
   ]
  },
  {
   "cell_type": "markdown",
   "metadata": {},
   "source": [
    "Notice that the program has correctly identified a \"geo political entity,\" or GPE, in \"The United Kingdom.\"  It has correctly guessed that we're talking about a law, although it guesses that the name of the law is \"the People Act\" rather than \"The Representation of the People Act.\"  It notes that the correct year is important, 1928.  \n",
    "\n",
    "It's important for you to notice that *some of the information is correct* and *some of the information is rather bad*.  As always, you'll need to apply your own best judgment to the situation.\n",
    "\n",
    "Other things you might be curious about:\n",
    "\n",
    " * In the program in question, we're parsing through a list of information called *.ents*, which spacy creates when applying the command **nlp()** to a document. Our document is called called *doc*, so the entities list is called *.ents*.  \n",
    "\n",
    " * .ents contains information coded by Spacy as the \".text,\" or the word that appears to have a significance, the starting character number, the ending character number, and a .label_, which corresponds to a grammatical category such as \"date,\" \"law,\" \"geo-political entity,\" etc.\n",
    "\n",
    " * Note: This information is hidden in Spacy's own \"Doc\" data type.  You don't really need to know anything for our purposes beyond how to call information from a Spacy doc by asking for ent.label_ etc."
   ]
  },
  {
   "cell_type": "markdown",
   "metadata": {},
   "source": [
    "Let's try a more complicated sentence. This one mentions nations and people as well as languages."
   ]
  },
  {
   "cell_type": "code",
   "execution_count": 115,
   "metadata": {},
   "outputs": [
    {
     "name": "stdout",
     "output_type": "stream",
     "text": [
      "1066 3 7 DATE\n",
      "Norman 13 19 NORP\n",
      "William the Conquerer 27 48 PERSON\n",
      "France 79 85 GPE\n",
      "England 97 104 GPE\n",
      "the Battle of Hastings 108 130 EVENT\n",
      "English 170 177 LANGUAGE\n",
      "French 199 205 NORP\n"
     ]
    }
   ],
   "source": [
    "sentence2 = \"In 1066, the Norman leader William the Conquerer -- who came from the north of France -- invaded England at the Battle of Hastings, and his success is the reason why the English language has so many French words in it.\"\n",
    "  \n",
    "doc = nlp(sentence2)\n",
    "  \n",
    "for ent in doc.ents:\n",
    "    print(ent.text, ent.start_char, ent.end_char, ent.label_)"
   ]
  },
  {
   "cell_type": "markdown",
   "metadata": {},
   "source": [
    "Notice that this time we have many more named entities.  Some are classified \"DATE\" -- like 1066. Others are classified \"EVENT\" -- like the Battle of Hastings.  We also have a person, William the Conquerer, a LANGUAGE -- English, two nationalities or regional identifications for people (NORP), and two geo-political lentities (French, English).\n",
    "\n",
    "One could imagine creating a digital history project that investigated any of these categories. For instance, if we were interested in how Congress handled immigration over the twentieth century, it might be interesting to count references to different nationalities and languages.  If we were interested in how Reddit talked about climate change, it might be interesting to track the people and place-names that came up in discussions of environmental contamination.  \n",
    "\n",
    "However, in this assignment we're going to ask how parliament talked about events and dates."
   ]
  },
  {
   "cell_type": "code",
   "execution_count": 116,
   "metadata": {},
   "outputs": [
    {
     "data": {
      "text/plain": [
       "['the Battle of Hastings']"
      ]
     },
     "execution_count": 116,
     "metadata": {},
     "output_type": "execute_result"
    }
   ],
   "source": [
    "justevents = []\n",
    "\n",
    "for ent in doc.ents:\n",
    "    if ent.label_ == 'EVENT':\n",
    "        justevents.append(ent.text)\n",
    "        \n",
    "justevents"
   ]
  },
  {
   "cell_type": "markdown",
   "metadata": {},
   "source": [
    "### Apply NER to Congress"
   ]
  },
  {
   "cell_type": "markdown",
   "metadata": {},
   "source": [
    "Let's apply our event recognizer to just a sample."
   ]
  },
  {
   "cell_type": "code",
   "execution_count": 117,
   "metadata": {},
   "outputs": [
    {
     "data": {
      "text/plain": [
       "'Mr. President. is there any rule in the Senate rulebook that requires the Senate. on the opening day of a session. to adjourn without consideration of speeches. resolutions. or petitions that a Senator may deem it his duty. as a Senator representing his State. to present on the floor of the Senate on the opening day of a session?'"
      ]
     },
     "execution_count": 117,
     "metadata": {},
     "output_type": "execute_result"
    }
   ],
   "source": [
    "congress_1968 = congress_1968.reset_index()\n",
    "congress_1968['speech'][10]"
   ]
  },
  {
   "cell_type": "markdown",
   "metadata": {},
   "source": [
    "Let's do a spacy parse on the speeches from one year."
   ]
  },
  {
   "cell_type": "code",
   "execution_count": 118,
   "metadata": {},
   "outputs": [],
   "source": [
    "congress_1968_text = ' '.join([speech for speech in congress_1968['speech']][:500]) # glue together the first 500 speeches"
   ]
  },
  {
   "cell_type": "code",
   "execution_count": 119,
   "metadata": {},
   "outputs": [
    {
     "name": "stdout",
     "output_type": "stream",
     "text": [
      "New Mexico 113 123 GPE\n",
      "CIXV1Part 143 152 ORG\n",
      "Indiana 155 162 GPE\n",
      "Nevada 182 188 GPE\n",
      "North Dakota 208 220 GPE\n",
      "Virginia 240 248 GPE\n",
      "Pennsylvania 268 280 GPE\n",
      "Tennessee 300 309 GPE\n",
      "Massachusetts 329 342 GPE\n",
      "Ohio 362 366 GPE\n"
     ]
    }
   ],
   "source": [
    "doc = nlp(congress_1968_text) # perform NLP \n",
    "  \n",
    "for ent in doc.ents[:10]: # for each entity found, print the name of the entity, character info, and its category.\n",
    "    print(ent.text, ent.start_char, ent.end_char, ent.label_)"
   ]
  },
  {
   "cell_type": "markdown",
   "metadata": {},
   "source": [
    "Let's look for just the dates referenced."
   ]
  },
  {
   "cell_type": "code",
   "execution_count": 120,
   "metadata": {},
   "outputs": [
    {
     "data": {
      "text/plain": [
       "['the first amendment of the Constitution',\n",
       " 'the first amendment of the Constitution of the United States',\n",
       " 'Constitution',\n",
       " 'the Constitution of the United States',\n",
       " 'section 2(b',\n",
       " 'section 4916',\n",
       " 'the Internal Revenue Code',\n",
       " 'section 4911',\n",
       " 'section 7 of this Act',\n",
       " 'section 5703']"
      ]
     },
     "execution_count": 120,
     "metadata": {},
     "output_type": "execute_result"
    }
   ],
   "source": [
    "foundlaws = []\n",
    "\n",
    "for ent in doc.ents:\n",
    "    if ent.label_ == 'LAW':\n",
    "        foundlaws.append(ent.text)\n",
    "        \n",
    "foundlaws[:10]"
   ]
  },
  {
   "cell_type": "markdown",
   "metadata": {},
   "source": [
    "Change the number in square brackets to see the entire list."
   ]
  },
  {
   "cell_type": "code",
   "execution_count": 121,
   "metadata": {},
   "outputs": [
    {
     "data": {
      "text/plain": [
       "['Moss',\n",
       " 'LAUSCHE',\n",
       " 'Moss',\n",
       " 'Speaker',\n",
       " 'H. Res',\n",
       " 'GERALD',\n",
       " 'Speaker',\n",
       " 'H. Res.',\n",
       " 'Speaker',\n",
       " 'H. Res']"
      ]
     },
     "execution_count": 121,
     "metadata": {},
     "output_type": "execute_result"
    }
   ],
   "source": [
    "foundpeople = []\n",
    "\n",
    "for ent in doc.ents:\n",
    "    if ent.label_ == 'PERSON':\n",
    "        foundpeople.append(ent.text)\n",
    "foundpeople[:10]"
   ]
  },
  {
   "cell_type": "code",
   "execution_count": 122,
   "metadata": {},
   "outputs": [
    {
     "data": {
      "text/plain": [
       "['World War II',\n",
       " 'South Vietnam',\n",
       " 'South Vietnam',\n",
       " 'South Vietnam',\n",
       " 'South Vietnam',\n",
       " 'South Vietnam',\n",
       " 'South Vietnam',\n",
       " 'South Vietnam',\n",
       " 'South Vietnam',\n",
       " 'South Vietnam',\n",
       " 'South Vietnam',\n",
       " 'South Vietnam',\n",
       " 'South Vietnam',\n",
       " 'South Vietnam',\n",
       " 'South Vietnam',\n",
       " 'World War I.',\n",
       " 'World War II',\n",
       " 'World War II',\n",
       " 'World War II',\n",
       " 'the First World War']"
      ]
     },
     "execution_count": 122,
     "metadata": {},
     "output_type": "execute_result"
    }
   ],
   "source": [
    "foundevents = []\n",
    "\n",
    "for ent in doc.ents:\n",
    "    if ent.label_ == 'EVENT':\n",
    "        foundevents.append(ent.text)\n",
    "        \n",
    "foundevents[:20]"
   ]
  },
  {
   "cell_type": "markdown",
   "metadata": {},
   "source": [
    "Let's write a new function.  Functions are defined using the command\n",
    "\n",
    "    def FUNCTIONNAME(object1, object2):\n",
    "    \n",
    "We'll call our new function ner_finder.\n",
    "\n",
    "It will take two commands: sentence, and label1.\n",
    "\n",
    "It will return any matches for a sentence and a label. To tell Python what to return to the user after running a function, we use \n",
    "\n",
    "    return()\n",
    "    "
   ]
  },
  {
   "cell_type": "code",
   "execution_count": 123,
   "metadata": {},
   "outputs": [],
   "source": [
    "def ner_finder(sentence, label1):\n",
    "    \n",
    "    doc = nlp(sentence)\n",
    "    \n",
    "    foundstuff = []\n",
    "\n",
    "    for ent in doc.ents:\n",
    "        if ent.label_ ==  label1:\n",
    "            foundstuff.append(ent.text)\n",
    "    \n",
    "    return(foundstuff)"
   ]
  },
  {
   "cell_type": "markdown",
   "metadata": {},
   "source": [
    "Let's try out our new function on some of the categories that Spacy can detect:"
   ]
  },
  {
   "cell_type": "code",
   "execution_count": 124,
   "metadata": {},
   "outputs": [
    {
     "data": {
      "text/plain": [
       "['New Mexico',\n",
       " 'Indiana',\n",
       " 'Nevada',\n",
       " 'North Dakota',\n",
       " 'Virginia',\n",
       " 'Pennsylvania',\n",
       " 'Tennessee',\n",
       " 'Massachusetts',\n",
       " 'Ohio',\n",
       " 'New Hampshire']"
      ]
     },
     "execution_count": 124,
     "metadata": {},
     "output_type": "execute_result"
    }
   ],
   "source": [
    "geopolitical = ner_finder(congress_1968_text, 'GPE')\n",
    "geopolitical[:10]"
   ]
  },
  {
   "cell_type": "code",
   "execution_count": 125,
   "metadata": {},
   "outputs": [
    {
     "data": {
      "text/plain": [
       "['the first amendment of the Constitution',\n",
       " 'the first amendment of the Constitution of the United States',\n",
       " 'Constitution',\n",
       " 'the Constitution of the United States',\n",
       " 'section 2(b',\n",
       " 'section 4916',\n",
       " 'the Internal Revenue Code',\n",
       " 'section 4911',\n",
       " 'section 7 of this Act',\n",
       " 'section 5703']"
      ]
     },
     "execution_count": 125,
     "metadata": {},
     "output_type": "execute_result"
    }
   ],
   "source": [
    "laws = ner_finder(congress_1968_text, 'LAW')\n",
    "laws[:10]"
   ]
  },
  {
   "cell_type": "code",
   "execution_count": 126,
   "metadata": {},
   "outputs": [
    {
     "data": {
      "text/plain": [
       "['Moss',\n",
       " 'LAUSCHE',\n",
       " 'Moss',\n",
       " 'Speaker',\n",
       " 'H. Res',\n",
       " 'GERALD',\n",
       " 'Speaker',\n",
       " 'H. Res.',\n",
       " 'Speaker',\n",
       " 'H. Res']"
      ]
     },
     "execution_count": 126,
     "metadata": {},
     "output_type": "execute_result"
    }
   ],
   "source": [
    "people = ner_finder(congress_1968_text, 'PERSON')\n",
    "people[:10]"
   ]
  },
  {
   "cell_type": "code",
   "execution_count": 127,
   "metadata": {},
   "outputs": [
    {
     "data": {
      "text/plain": [
       "['Pacific',\n",
       " 'Pacific',\n",
       " 'the South Pacific',\n",
       " 'Congressional District of Missouri',\n",
       " 'Eighth District',\n",
       " 'Americas',\n",
       " 'H.R. 6649',\n",
       " 'H.R. 6649',\n",
       " 'Africa',\n",
       " 'East']"
      ]
     },
     "execution_count": 127,
     "metadata": {},
     "output_type": "execute_result"
    }
   ],
   "source": [
    "places = ner_finder(congress_1968_text, 'LOC')\n",
    "places[:10]"
   ]
  },
  {
   "cell_type": "code",
   "execution_count": 128,
   "metadata": {},
   "outputs": [
    {
     "data": {
      "text/plain": [
       "['the opening day',\n",
       " 'day',\n",
       " 'the opening day',\n",
       " 'the opening day',\n",
       " 'the opening days',\n",
       " 'the first day',\n",
       " 'the opening day',\n",
       " 'today',\n",
       " 'today',\n",
       " 'today']"
      ]
     },
     "execution_count": 128,
     "metadata": {},
     "output_type": "execute_result"
    }
   ],
   "source": [
    "dates = ner_finder(congress_1968_text, 'DATE')\n",
    "dates[:10]"
   ]
  },
  {
   "cell_type": "code",
   "execution_count": 129,
   "metadata": {},
   "outputs": [
    {
     "data": {
      "text/plain": [
       "['CIXV1Part',\n",
       " 'Chair',\n",
       " 'Senate',\n",
       " 'Senate',\n",
       " 'Senate',\n",
       " 'Nation',\n",
       " 'Chair',\n",
       " 'Senate',\n",
       " 'Senate',\n",
       " 'State']"
      ]
     },
     "execution_count": 129,
     "metadata": {},
     "output_type": "execute_result"
    }
   ],
   "source": [
    "organizations = ner_finder(congress_1968_text, 'ORG')\n",
    "organizations[:10]"
   ]
  },
  {
   "cell_type": "code",
   "execution_count": 130,
   "metadata": {},
   "outputs": [
    {
     "data": {
      "text/plain": [
       "['World War II',\n",
       " 'South Vietnam',\n",
       " 'South Vietnam',\n",
       " 'South Vietnam',\n",
       " 'South Vietnam',\n",
       " 'South Vietnam',\n",
       " 'South Vietnam',\n",
       " 'South Vietnam',\n",
       " 'South Vietnam',\n",
       " 'South Vietnam']"
      ]
     },
     "execution_count": 130,
     "metadata": {},
     "output_type": "execute_result"
    }
   ],
   "source": [
    "events = ner_finder(congress_1968_text, 'EVENT')\n",
    "events[:10]"
   ]
  },
  {
   "cell_type": "markdown",
   "metadata": {},
   "source": [
    "## Named Entity Recognition with Tabular Data"
   ]
  },
  {
   "cell_type": "markdown",
   "metadata": {},
   "source": [
    "Now let's apply the spacy *nlp* command to everything in the 'Text' column. The formula that we used above was \n",
    "\n",
    "    nlp(sentence)\n",
    "\n",
    "This time, however, we want to apply *nlp()* to every row in a pandas dataframe.   Here's one way of writing such a command:\n",
    "\n",
    "    dallas_minutes['NLP'] = [ner_finder(sentence, 'LAW') for sentence in dallas_minutes['Text']]"
   ]
  },
  {
   "cell_type": "code",
   "execution_count": 131,
   "metadata": {},
   "outputs": [
    {
     "data": {
      "text/plain": [
       "[[],\n",
       " [],\n",
       " [],\n",
       " [],\n",
       " [],\n",
       " [],\n",
       " [],\n",
       " [],\n",
       " [],\n",
       " [],\n",
       " [],\n",
       " [],\n",
       " [],\n",
       " [],\n",
       " [],\n",
       " [],\n",
       " ['the first amendment of the Constitution',\n",
       "  'the first amendment of the Constitution of the United States'],\n",
       " ['Constitution'],\n",
       " [],\n",
       " []]"
      ]
     },
     "execution_count": 131,
     "metadata": {},
     "output_type": "execute_result"
    }
   ],
   "source": [
    "sample = [ner_finder(speech, 'LAW') for speech in congress_1968['speech'][:20]]\n",
    "sample"
   ]
  },
  {
   "cell_type": "markdown",
   "metadata": {},
   "source": [
    "Youll see a series of blank entries -- [] -- which represent rows in the database, or congressional speeches, where no mentions of concrete laws were detected.  You'll also see a few references to the Constitution.  These correspond to the speeches in our list of Congressional speeches from the year 1968.  We can use the order of the speeches to work with extra information about the speeches' date of delivery, the speaker who gave them, and other important facts."
   ]
  },
  {
   "cell_type": "markdown",
   "metadata": {},
   "source": [
    "Let's run the same command again, but this time save it as a new column called 'law,' so that we can see the speaker, date of delivery of the speech, and other information."
   ]
  },
  {
   "cell_type": "code",
   "execution_count": null,
   "metadata": {},
   "outputs": [],
   "source": [
    "#sample = congress_1968[:100].copy()\n",
    "#congress_1968_ner = congress_1968_small.copy()\n",
    "#congress_1968_ner['law'] = [ner_finder(speech, 'LAW') for speech in congress_1968['speech']] # downsampled --  alter the number in brackets or delete it to do more debates\n",
    "#congress_1968_ner[:20]"
   ]
  },
  {
   "cell_type": "markdown",
   "metadata": {},
   "source": [
    "(actually, that takes about an hour, so let's just load some pre-made data)"
   ]
  },
  {
   "cell_type": "code",
   "execution_count": 145,
   "metadata": {},
   "outputs": [
    {
     "name": "stdout",
     "output_type": "stream",
     "text": [
      "/scratch/group/history/hist_3368-jguldi\n"
     ]
    }
   ],
   "source": [
    "cd /scratch/group/history/hist_3368-jguldi"
   ]
  },
  {
   "cell_type": "code",
   "execution_count": 149,
   "metadata": {},
   "outputs": [],
   "source": [
    "named_entities1 = pd.read_csv(\"named-entities-per-month-for-congress-1967-2010LAW.csv\")"
   ]
  },
  {
   "cell_type": "code",
   "execution_count": 150,
   "metadata": {},
   "outputs": [
    {
     "data": {
      "text/html": [
       "<div>\n",
       "<style scoped>\n",
       "    .dataframe tbody tr th:only-of-type {\n",
       "        vertical-align: middle;\n",
       "    }\n",
       "\n",
       "    .dataframe tbody tr th {\n",
       "        vertical-align: top;\n",
       "    }\n",
       "\n",
       "    .dataframe thead th {\n",
       "        text-align: right;\n",
       "    }\n",
       "</style>\n",
       "<table border=\"1\" class=\"dataframe\">\n",
       "  <thead>\n",
       "    <tr style=\"text-align: right;\">\n",
       "      <th></th>\n",
       "      <th>Unnamed: 0</th>\n",
       "      <th>Unnamed: 0.1</th>\n",
       "      <th>Unnamed: 0.1.1</th>\n",
       "      <th>speech</th>\n",
       "      <th>date</th>\n",
       "      <th>speaker</th>\n",
       "      <th>word_count</th>\n",
       "      <th>year</th>\n",
       "      <th>month</th>\n",
       "      <th>month_year</th>\n",
       "      <th>stuff</th>\n",
       "    </tr>\n",
       "  </thead>\n",
       "  <tbody>\n",
       "    <tr>\n",
       "      <th>0</th>\n",
       "      <td>3</td>\n",
       "      <td>3</td>\n",
       "      <td>3</td>\n",
       "      <td>The Chair lays before the Senate the following...</td>\n",
       "      <td>1967-01-10</td>\n",
       "      <td>The VICE PRESIDENT</td>\n",
       "      <td>151</td>\n",
       "      <td>1967</td>\n",
       "      <td>1</td>\n",
       "      <td>1967-01-01</td>\n",
       "      <td>CXIII1Part 1</td>\n",
       "    </tr>\n",
       "    <tr>\n",
       "      <th>1</th>\n",
       "      <td>55</td>\n",
       "      <td>55</td>\n",
       "      <td>55</td>\n",
       "      <td>Representativeselect to the 90th Congress. pur...</td>\n",
       "      <td>1967-01-10</td>\n",
       "      <td>The CLERK</td>\n",
       "      <td>145</td>\n",
       "      <td>1967</td>\n",
       "      <td>1</td>\n",
       "      <td>1967-01-01</td>\n",
       "      <td>the Constitution</td>\n",
       "    </tr>\n",
       "    <tr>\n",
       "      <th>2</th>\n",
       "      <td>55</td>\n",
       "      <td>55</td>\n",
       "      <td>55</td>\n",
       "      <td>Representativeselect to the 90th Congress. pur...</td>\n",
       "      <td>1967-01-10</td>\n",
       "      <td>The CLERK</td>\n",
       "      <td>145</td>\n",
       "      <td>1967</td>\n",
       "      <td>1</td>\n",
       "      <td>1967-01-01</td>\n",
       "      <td>Public Law 89704 of the 89th Congress</td>\n",
       "    </tr>\n",
       "    <tr>\n",
       "      <th>3</th>\n",
       "      <td>150</td>\n",
       "      <td>150</td>\n",
       "      <td>150</td>\n",
       "      <td>Mr. Speaker. in the last few months. and parti...</td>\n",
       "      <td>1967-01-10</td>\n",
       "      <td>Mr. GERALD R. FORD</td>\n",
       "      <td>271</td>\n",
       "      <td>1967</td>\n",
       "      <td>1</td>\n",
       "      <td>1967-01-01</td>\n",
       "      <td>Constitution</td>\n",
       "    </tr>\n",
       "    <tr>\n",
       "      <th>4</th>\n",
       "      <td>158</td>\n",
       "      <td>158</td>\n",
       "      <td>158</td>\n",
       "      <td>Before the gentleman from Arizona responds to ...</td>\n",
       "      <td>1967-01-10</td>\n",
       "      <td>Mr. GERALD R. FORD</td>\n",
       "      <td>101</td>\n",
       "      <td>1967</td>\n",
       "      <td>1</td>\n",
       "      <td>1967-01-01</td>\n",
       "      <td>Constitution</td>\n",
       "    </tr>\n",
       "  </tbody>\n",
       "</table>\n",
       "</div>"
      ],
      "text/plain": [
       "   Unnamed: 0  Unnamed: 0.1  Unnamed: 0.1.1  \\\n",
       "0           3             3               3   \n",
       "1          55            55              55   \n",
       "2          55            55              55   \n",
       "3         150           150             150   \n",
       "4         158           158             158   \n",
       "\n",
       "                                              speech        date  \\\n",
       "0  The Chair lays before the Senate the following...  1967-01-10   \n",
       "1  Representativeselect to the 90th Congress. pur...  1967-01-10   \n",
       "2  Representativeselect to the 90th Congress. pur...  1967-01-10   \n",
       "3  Mr. Speaker. in the last few months. and parti...  1967-01-10   \n",
       "4  Before the gentleman from Arizona responds to ...  1967-01-10   \n",
       "\n",
       "              speaker  word_count  year  month  month_year  \\\n",
       "0  The VICE PRESIDENT         151  1967      1  1967-01-01   \n",
       "1           The CLERK         145  1967      1  1967-01-01   \n",
       "2           The CLERK         145  1967      1  1967-01-01   \n",
       "3  Mr. GERALD R. FORD         271  1967      1  1967-01-01   \n",
       "4  Mr. GERALD R. FORD         101  1967      1  1967-01-01   \n",
       "\n",
       "                                   stuff  \n",
       "0                           CXIII1Part 1  \n",
       "1                       the Constitution  \n",
       "2  Public Law 89704 of the 89th Congress  \n",
       "3                           Constitution  \n",
       "4                           Constitution  "
      ]
     },
     "execution_count": 150,
     "metadata": {},
     "output_type": "execute_result"
    }
   ],
   "source": [
    "named_entities1.head()"
   ]
  },
  {
   "cell_type": "code",
   "execution_count": 147,
   "metadata": {},
   "outputs": [],
   "source": [
    "named_entities1['date'] = pd.to_datetime(named_entities1['date'])\n",
    "named_entities1['year'] = named_entities1['date'].dt.year\n",
    "named_entities1['month'] = named_entities1['date'].dt.month\n",
    "named_entities1['month-year'] = named_entities1['date'].dt.strftime('%Y-%m')"
   ]
  },
  {
   "cell_type": "code",
   "execution_count": 151,
   "metadata": {},
   "outputs": [
    {
     "data": {
      "text/html": [
       "<div>\n",
       "<style scoped>\n",
       "    .dataframe tbody tr th:only-of-type {\n",
       "        vertical-align: middle;\n",
       "    }\n",
       "\n",
       "    .dataframe tbody tr th {\n",
       "        vertical-align: top;\n",
       "    }\n",
       "\n",
       "    .dataframe thead th {\n",
       "        text-align: right;\n",
       "    }\n",
       "</style>\n",
       "<table border=\"1\" class=\"dataframe\">\n",
       "  <thead>\n",
       "    <tr style=\"text-align: right;\">\n",
       "      <th></th>\n",
       "      <th>Unnamed: 0</th>\n",
       "      <th>Unnamed: 0.1</th>\n",
       "      <th>Unnamed: 0.1.1</th>\n",
       "      <th>speech</th>\n",
       "      <th>date</th>\n",
       "      <th>speaker</th>\n",
       "      <th>word_count</th>\n",
       "      <th>year</th>\n",
       "      <th>month</th>\n",
       "      <th>month_year</th>\n",
       "      <th>stuff</th>\n",
       "    </tr>\n",
       "  </thead>\n",
       "  <tbody>\n",
       "    <tr>\n",
       "      <th>24389</th>\n",
       "      <td>185191</td>\n",
       "      <td>185191</td>\n",
       "      <td>185191</td>\n",
       "      <td>I wish to advise the Vice President. the Presi...</td>\n",
       "      <td>1968-01-15</td>\n",
       "      <td>Mr. MORSE</td>\n",
       "      <td>193</td>\n",
       "      <td>1968</td>\n",
       "      <td>1</td>\n",
       "      <td>1968-01-01</td>\n",
       "      <td>the first amendment of the Constitution</td>\n",
       "    </tr>\n",
       "    <tr>\n",
       "      <th>24390</th>\n",
       "      <td>185191</td>\n",
       "      <td>185191</td>\n",
       "      <td>185191</td>\n",
       "      <td>I wish to advise the Vice President. the Presi...</td>\n",
       "      <td>1968-01-15</td>\n",
       "      <td>Mr. MORSE</td>\n",
       "      <td>193</td>\n",
       "      <td>1968</td>\n",
       "      <td>1</td>\n",
       "      <td>1968-01-01</td>\n",
       "      <td>the first amendment of the Constitution of the...</td>\n",
       "    </tr>\n",
       "    <tr>\n",
       "      <th>24391</th>\n",
       "      <td>185192</td>\n",
       "      <td>185192</td>\n",
       "      <td>185192</td>\n",
       "      <td>The Chair knows of no such rule. which would s...</td>\n",
       "      <td>1968-01-15</td>\n",
       "      <td>The VICE PRESIDENT</td>\n",
       "      <td>13</td>\n",
       "      <td>1968</td>\n",
       "      <td>1</td>\n",
       "      <td>1968-01-01</td>\n",
       "      <td>Constitution</td>\n",
       "    </tr>\n",
       "    <tr>\n",
       "      <th>24392</th>\n",
       "      <td>185248</td>\n",
       "      <td>185248</td>\n",
       "      <td>185248</td>\n",
       "      <td>Mr. Speaker. we are starting on a new year. I ...</td>\n",
       "      <td>1968-01-15</td>\n",
       "      <td>Mr. JONES of Missouri</td>\n",
       "      <td>364</td>\n",
       "      <td>1968</td>\n",
       "      <td>1</td>\n",
       "      <td>1968-01-01</td>\n",
       "      <td>the Constitution of the United States</td>\n",
       "    </tr>\n",
       "    <tr>\n",
       "      <th>24393</th>\n",
       "      <td>185269</td>\n",
       "      <td>185269</td>\n",
       "      <td>185269</td>\n",
       "      <td>Mr. Speaker. for the benefit of all the Member...</td>\n",
       "      <td>1968-01-15</td>\n",
       "      <td>Mr. PATMAN</td>\n",
       "      <td>1044</td>\n",
       "      <td>1968</td>\n",
       "      <td>1</td>\n",
       "      <td>1968-01-01</td>\n",
       "      <td>section 2(b</td>\n",
       "    </tr>\n",
       "  </tbody>\n",
       "</table>\n",
       "</div>"
      ],
      "text/plain": [
       "       Unnamed: 0  Unnamed: 0.1  Unnamed: 0.1.1  \\\n",
       "24389      185191        185191          185191   \n",
       "24390      185191        185191          185191   \n",
       "24391      185192        185192          185192   \n",
       "24392      185248        185248          185248   \n",
       "24393      185269        185269          185269   \n",
       "\n",
       "                                                  speech        date  \\\n",
       "24389  I wish to advise the Vice President. the Presi...  1968-01-15   \n",
       "24390  I wish to advise the Vice President. the Presi...  1968-01-15   \n",
       "24391  The Chair knows of no such rule. which would s...  1968-01-15   \n",
       "24392  Mr. Speaker. we are starting on a new year. I ...  1968-01-15   \n",
       "24393  Mr. Speaker. for the benefit of all the Member...  1968-01-15   \n",
       "\n",
       "                     speaker  word_count  year  month  month_year  \\\n",
       "24389              Mr. MORSE         193  1968      1  1968-01-01   \n",
       "24390              Mr. MORSE         193  1968      1  1968-01-01   \n",
       "24391     The VICE PRESIDENT          13  1968      1  1968-01-01   \n",
       "24392  Mr. JONES of Missouri         364  1968      1  1968-01-01   \n",
       "24393             Mr. PATMAN        1044  1968      1  1968-01-01   \n",
       "\n",
       "                                                   stuff  \n",
       "24389            the first amendment of the Constitution  \n",
       "24390  the first amendment of the Constitution of the...  \n",
       "24391                                       Constitution  \n",
       "24392              the Constitution of the United States  \n",
       "24393                                        section 2(b  "
      ]
     },
     "execution_count": 151,
     "metadata": {},
     "output_type": "execute_result"
    }
   ],
   "source": [
    "congress_1968_ner = named_entities1[named_entities1['year'] == 1968]\n",
    "congress_1968_ner.head()"
   ]
  },
  {
   "cell_type": "markdown",
   "metadata": {},
   "source": [
    "You might also notice that the code hangs for a moment.  *Give the computer a while to do its work.*\n",
    "\n",
    "  * Spacy is an intensive software package, and applying nlp() to many documents can be slow going. Remember how a similarly linguistically-intense command, wn.morphy(), slowed us down elsewhere.\n",
    "  * If you'd like to think about speeding up your code, please consult the \"Tutorial on Speed\" in the Github.\n"
   ]
  },
  {
   "cell_type": "markdown",
   "metadata": {},
   "source": [
    "Next, let's filter for JUST the NLP findings that are events."
   ]
  },
  {
   "cell_type": "markdown",
   "metadata": {},
   "source": [
    "### Find the laws most frequently mentioned overall"
   ]
  },
  {
   "cell_type": "markdown",
   "metadata": {},
   "source": [
    "To work with the laws in the law column, we should also notice that the 'law' column we've just made is filled with list.  If multiple laws are referenced within the same speech, the 'law' column lists multiple laws, strung together as a list inside square brackets, whose members are separated by commas:\n",
    "\n",
    "    [the Constitution, Constitution, the Internal Revenue Code]\n",
    "\n",
    "If we want to count like mentions of laws, we'll need to split up this data so that each item in the list gets its own row.  We will follow a basic procedure to work with this data:\n",
    "\n",
    "* In order to count items in a list, we *explode* the list so that each list item gets its own row.  \n",
    "* Then we can use *.value_counts()* to count how many times each appears.\n",
    "* We can use *.nlargest()* to get the most frequent items."
   ]
  },
  {
   "cell_type": "markdown",
   "metadata": {},
   "source": [
    "#### Use *.explode()* to reformat the data so that each entity gets its own row"
   ]
  },
  {
   "cell_type": "markdown",
   "metadata": {},
   "source": [
    "We can use *.explode()* and *.groupby()* to tell pandas how to organize the data before using *.count()* to tell us how many laws are mentioned in each grouping.\n",
    "\n",
    "  * Let's \"explode\" the data so that every law gets its own row. \n",
    "  * Let's group by *Month-Year* and *Laws* so that we bundle under each month-year each mention of a law mentioned in that time period.  \n",
    "  * We'll use square brackets around 'Laws' once more to tell pandas that we're interested in just working with the *Laws* column. \n",
    "  * We'll apply *.count()* to count ***how many laws are mentioned per Month-Year.*** This is what we really want to know."
   ]
  },
  {
   "cell_type": "markdown",
   "metadata": {},
   "source": [
    "First, 'explode' the data."
   ]
  },
  {
   "cell_type": "code",
   "execution_count": null,
   "metadata": {},
   "outputs": [],
   "source": [
    "congress_1968_law_exploded = congress_1968_ner.explode('law').dropna()\n",
    "congress_1968_law_exploded[:5]"
   ]
  },
  {
   "cell_type": "markdown",
   "metadata": {},
   "source": [
    " #### Use *.groupby()* and *.count()* to Count How Many Time Each Law is Mentioned Overall "
   ]
  },
  {
   "cell_type": "markdown",
   "metadata": {},
   "source": [
    "This line of code \"groups\" the data by the law referenced in the \"law\" column, then \"counts\" how many times each law was mentioned."
   ]
  },
  {
   "cell_type": "code",
   "execution_count": null,
   "metadata": {},
   "outputs": [],
   "source": [
    "law_counts = congress_1968_law_exploded.groupby(['law'])['law'].count() # count how many laws there are"
   ]
  },
  {
   "cell_type": "markdown",
   "metadata": {},
   "source": [
    "Minor reformatting gives us the answers we want with nicely labeled columns."
   ]
  },
  {
   "cell_type": "code",
   "execution_count": null,
   "metadata": {},
   "outputs": [],
   "source": [
    "law_counts = pd.DataFrame(law_counts) # convert from Series to DataFrame\n",
    "law_counts.columns = ['count'] # label the one column \"count\"\n",
    "law_counts = law_counts.reset_index().sort_values('count', ascending = False) # turn the multi-index into columns 'year' and 'vocab'\n",
    "law_counts[:5]"
   ]
  },
  {
   "cell_type": "markdown",
   "metadata": {},
   "source": [
    "Grab just the top laws"
   ]
  },
  {
   "cell_type": "code",
   "execution_count": null,
   "metadata": {},
   "outputs": [],
   "source": [
    "top_laws = law_counts[:20]\n",
    "top_laws"
   ]
  },
  {
   "cell_type": "markdown",
   "metadata": {},
   "source": [
    " #### Use *.groupby() and *.count()* to Count Laws Mentioned by Month"
   ]
  },
  {
   "cell_type": "markdown",
   "metadata": {},
   "source": [
    "First, let's \"group\" by month and law and \"count\" how many times each law is mentioned in each month. "
   ]
  },
  {
   "cell_type": "code",
   "execution_count": null,
   "metadata": {},
   "outputs": [],
   "source": [
    "law_per_month_counts = congress_1968_law_exploded.groupby(['month_year', 'law'])['law'].count() # count how many unique months correspond to each law"
   ]
  },
  {
   "cell_type": "markdown",
   "metadata": {},
   "source": [
    "Minor reformatting."
   ]
  },
  {
   "cell_type": "code",
   "execution_count": null,
   "metadata": {},
   "outputs": [],
   "source": [
    "law_per_month_counts = pd.DataFrame(law_per_month_counts) # convert from Series to DataFrame\n",
    "law_per_month_counts.columns = ['count'] # label the one column \"count\"\n",
    "law_per_month_counts = law_per_month_counts.reset_index() # turn the multi-index into columns 'year' and 'vocab'\n",
    "law_per_month_counts = law_per_month_counts.sort_values('count', ascending = False) # sort by 'count'\n",
    "law_per_month_counts[:5]"
   ]
  },
  {
   "cell_type": "markdown",
   "metadata": {},
   "source": [
    "What are the laws talked about each month *most frequently*?"
   ]
  },
  {
   "cell_type": "code",
   "execution_count": null,
   "metadata": {},
   "outputs": [],
   "source": [
    "top_laws_per_month = law_per_month_counts.groupby(['month_year']).apply(lambda x: x.sort_values('count', ascending = False)).reset_index(drop=True)\n",
    "top_laws_per_month = top_laws_per_month.groupby('month_year').head(3)\n",
    "top_laws_per_month[:20]        "
   ]
  },
  {
   "cell_type": "markdown",
   "metadata": {},
   "source": [
    "#### Filter for the Most Important Laws"
   ]
  },
  {
   "cell_type": "markdown",
   "metadata": {},
   "source": [
    "There are multiple ways of going about the next step, but we'll show one.  Let's connect this data about the most talked-about laws to our data about dates, in the dataframe laws_per_month.\n",
    "\n",
    "Notice the use of .index, .isin(), and [] to filter for a certain condition."
   ]
  },
  {
   "cell_type": "markdown",
   "metadata": {},
   "source": [
    "Let's find the top laws by the maximum count per month:"
   ]
  },
  {
   "cell_type": "code",
   "execution_count": null,
   "metadata": {},
   "outputs": [],
   "source": [
    "top_laws_with_month = law_per_month_counts[law_per_month_counts['law'].isin(top_laws['law'])].sort_values('count', ascending = False) # find top laws over time\n",
    "top_laws_with_month[:3]"
   ]
  },
  {
   "cell_type": "markdown",
   "metadata": {},
   "source": [
    "Let's do some minor reformatting of the Month-Year from string into datetime() data so that the graph will display correctly."
   ]
  },
  {
   "cell_type": "code",
   "execution_count": null,
   "metadata": {},
   "outputs": [],
   "source": [
    "#unnecessary?\n",
    "#top_laws_per_month['month_year_'] = pd.to_datetime(top_laws_per_month['month_year'], format='%m-%y', errors='coerce')\n",
    "#top_laws_per_month[:5]"
   ]
  },
  {
   "cell_type": "markdown",
   "metadata": {},
   "source": [
    "#### Plotting a Graph of Named Entities Over Time"
   ]
  },
  {
   "cell_type": "code",
   "execution_count": null,
   "metadata": {},
   "outputs": [],
   "source": [
    "import matplotlib.pyplot as plt\n",
    "from matplotlib.pyplot import figure\n",
    "import numpy as np\n",
    "import random\n",
    "\n",
    "\n",
    "%matplotlib inline\n",
    "\n",
    "figure(figsize=(8, 6), dpi=300)\n",
    "\n",
    "plt.style.use('seaborn-darkgrid') # this gives us a grid with a dark background.  you can play with this to change the style.\n",
    "palette = plt.get_cmap('tab20b') # this tells matplotlib what colors to use.  you can play with this to change the colors.\n",
    "num=0\n",
    "\n",
    "for entity in set(top_laws_per_month['law']):\n",
    "    num+=1 # for each new word, the counter 'num' changes \n",
    "    x = top_laws_per_month.loc[top_laws_per_month['law'] == entity, 'month_year']\n",
    "    y = top_laws_per_month.loc[top_laws_per_month['law'] == entity, 'count']\n",
    "    x2, y2 = zip(*sorted(zip(x, y))) # get everything in the right order\n",
    "    plt.plot(x2, # x axis \n",
    "             y2,  # y axis\n",
    "             '-o', # make dots with lines\n",
    "             color=palette(num), alpha=0.7, label=entity) # num tells the plot to choose a different color this time\n",
    "    y3 = max(y2) # label lines at their highest point\n",
    "    x3 = random.choice(top_laws_per_month[top_laws_per_month['count'] == max(top_laws_per_month['count'])]['month_year'].tolist()) # more for finding the highest point\n",
    "    plt.text(x3, y3, entity, color = palette(num), size = 10) # this is the code to supply a label for each line\n",
    "\n",
    "plt.legend(loc='center left', bbox_to_anchor=(1, 0.5)) # move the legend\n",
    "plt.xticks(rotation=90)\n",
    "plt.title(\"Figure 1: Top Laws Mentioned in Congress in 1968\", loc='left', fontsize=2, fontweight=5, color='Blue')\n",
    "plt.xlabel(\"Month\")\n",
    "plt.ylabel(\"Count\")\n",
    "plt.figure()\n"
   ]
  },
  {
   "cell_type": "markdown",
   "metadata": {},
   "source": [
    "Note that for the purposes of clarifying what the graph is showing, I've used \"plt.text()\" to create a label for each line, and assigned that label the same color as each line.  Notice that I've also used the argument \"bbox_to_anchor\" for the legend to move the legend to the left of the chart.\n",
    "\n",
    "*The output is far from ideal.*  I would much prefer to see a graph where the labels aren't overlapping (there is a module for this called adjust_text, which we'll explore later)\n",
    "\n",
    "But the point of this exercise is to show one possible strategy for making charts clearer and more intuitive.\n",
    "\n",
    "It will be the responsibility of each student group to decide on the appropriate strategy for each data set.  An appropriate strategy is one that shows you pertinent information and which is legible."
   ]
  },
  {
   "cell_type": "markdown",
   "metadata": {},
   "source": [
    "## Using NER for historical research"
   ]
  },
  {
   "cell_type": "markdown",
   "metadata": {},
   "source": [
    "### Look for word1"
   ]
  },
  {
   "cell_type": "markdown",
   "metadata": {},
   "source": [
    "Let's talk about how to dive deeper into research."
   ]
  },
  {
   "cell_type": "markdown",
   "metadata": {},
   "source": [
    "First, define the word or phrase that you want to look for."
   ]
  },
  {
   "cell_type": "code",
   "execution_count": 40,
   "metadata": {},
   "outputs": [],
   "source": [
    "word1 = \"the Constitution\""
   ]
  },
  {
   "cell_type": "markdown",
   "metadata": {},
   "source": [
    "We learned that we can use **str.count()** to count the individual occurrences of a word per speech. str.count() takes one object, the word you're looking for. We're looking for *word1*, which is a variable containing the word 'malpractice.'\n",
    "\n",
    "We can also use **.sort_values()** to tell pandas to sort the data by the values in one column.  .sort_values() takes the arguments \"by\" (where you tell it which column to use, using quotation marks, and \"ascending,\" which can be True or False, depending on how you want your values arranged."
   ]
  },
  {
   "cell_type": "code",
   "execution_count": 41,
   "metadata": {},
   "outputs": [
    {
     "data": {
      "text/html": [
       "<div>\n",
       "<style scoped>\n",
       "    .dataframe tbody tr th:only-of-type {\n",
       "        vertical-align: middle;\n",
       "    }\n",
       "\n",
       "    .dataframe tbody tr th {\n",
       "        vertical-align: top;\n",
       "    }\n",
       "\n",
       "    .dataframe thead th {\n",
       "        text-align: right;\n",
       "    }\n",
       "</style>\n",
       "<table border=\"1\" class=\"dataframe\">\n",
       "  <thead>\n",
       "    <tr style=\"text-align: right;\">\n",
       "      <th></th>\n",
       "      <th>index</th>\n",
       "      <th>Unnamed: 0</th>\n",
       "      <th>Unnamed: 0.1</th>\n",
       "      <th>speech</th>\n",
       "      <th>date</th>\n",
       "      <th>speaker</th>\n",
       "      <th>word_count</th>\n",
       "      <th>year</th>\n",
       "      <th>month</th>\n",
       "      <th>month_year</th>\n",
       "      <th>keywordcount</th>\n",
       "    </tr>\n",
       "  </thead>\n",
       "  <tbody>\n",
       "    <tr>\n",
       "      <th>119439</th>\n",
       "      <td>304614</td>\n",
       "      <td>304614</td>\n",
       "      <td>304614</td>\n",
       "      <td>Mr. President. the constitution of my native S...</td>\n",
       "      <td>1968-08-02</td>\n",
       "      <td>Mr. ERVIN</td>\n",
       "      <td>8652</td>\n",
       "      <td>1968</td>\n",
       "      <td>8</td>\n",
       "      <td>1968-08-01</td>\n",
       "      <td>65</td>\n",
       "    </tr>\n",
       "    <tr>\n",
       "      <th>58751</th>\n",
       "      <td>243926</td>\n",
       "      <td>243926</td>\n",
       "      <td>243926</td>\n",
       "      <td>Mr. President. article V of the Constitution p...</td>\n",
       "      <td>1968-05-14</td>\n",
       "      <td>Mr. ERVIN</td>\n",
       "      <td>2742</td>\n",
       "      <td>1968</td>\n",
       "      <td>5</td>\n",
       "      <td>1968-05-01</td>\n",
       "      <td>45</td>\n",
       "    </tr>\n",
       "    <tr>\n",
       "      <th>135955</th>\n",
       "      <td>321130</td>\n",
       "      <td>321130</td>\n",
       "      <td>321130</td>\n",
       "      <td>Mr. President. the good and wise men who fashi...</td>\n",
       "      <td>1968-09-27</td>\n",
       "      <td>Mr. ERVIN</td>\n",
       "      <td>5204</td>\n",
       "      <td>1968</td>\n",
       "      <td>9</td>\n",
       "      <td>1968-09-01</td>\n",
       "      <td>44</td>\n",
       "    </tr>\n",
       "    <tr>\n",
       "      <th>123116</th>\n",
       "      <td>308291</td>\n",
       "      <td>308291</td>\n",
       "      <td>308291</td>\n",
       "      <td>The Washington Post. Washington. D.C. DEAR SI:...</td>\n",
       "      <td>1968-09-09</td>\n",
       "      <td>The EDITOR</td>\n",
       "      <td>3028</td>\n",
       "      <td>1968</td>\n",
       "      <td>9</td>\n",
       "      <td>1968-09-01</td>\n",
       "      <td>38</td>\n",
       "    </tr>\n",
       "    <tr>\n",
       "      <th>8064</th>\n",
       "      <td>193239</td>\n",
       "      <td>193239</td>\n",
       "      <td>193239</td>\n",
       "      <td>Mr. President. William Gladstone said that the...</td>\n",
       "      <td>1968-02-02</td>\n",
       "      <td>Mr. ERVIN</td>\n",
       "      <td>3186</td>\n",
       "      <td>1968</td>\n",
       "      <td>2</td>\n",
       "      <td>1968-02-01</td>\n",
       "      <td>26</td>\n",
       "    </tr>\n",
       "  </tbody>\n",
       "</table>\n",
       "</div>"
      ],
      "text/plain": [
       "         index  Unnamed: 0  Unnamed: 0.1  \\\n",
       "119439  304614      304614        304614   \n",
       "58751   243926      243926        243926   \n",
       "135955  321130      321130        321130   \n",
       "123116  308291      308291        308291   \n",
       "8064    193239      193239        193239   \n",
       "\n",
       "                                                   speech        date  \\\n",
       "119439  Mr. President. the constitution of my native S...  1968-08-02   \n",
       "58751   Mr. President. article V of the Constitution p...  1968-05-14   \n",
       "135955  Mr. President. the good and wise men who fashi...  1968-09-27   \n",
       "123116  The Washington Post. Washington. D.C. DEAR SI:...  1968-09-09   \n",
       "8064    Mr. President. William Gladstone said that the...  1968-02-02   \n",
       "\n",
       "           speaker  word_count  year  month  month_year  keywordcount  \n",
       "119439   Mr. ERVIN        8652  1968      8  1968-08-01            65  \n",
       "58751    Mr. ERVIN        2742  1968      5  1968-05-01            45  \n",
       "135955   Mr. ERVIN        5204  1968      9  1968-09-01            44  \n",
       "123116  The EDITOR        3028  1968      9  1968-09-01            38  \n",
       "8064     Mr. ERVIN        3186  1968      2  1968-02-01            26  "
      ]
     },
     "execution_count": 41,
     "metadata": {},
     "output_type": "execute_result"
    }
   ],
   "source": [
    "congress_1968['keywordcount'] = congress_1968['speech'].str.count(word1)\n",
    "congress_1968.sort_values(by = 'keywordcount', ascending = False)[:5]"
   ]
  },
  {
   "cell_type": "markdown",
   "metadata": {},
   "source": [
    "How many times was the word 'malpractice' used in each time period?"
   ]
  },
  {
   "cell_type": "code",
   "execution_count": 42,
   "metadata": {},
   "outputs": [
    {
     "data": {
      "text/plain": [
       "2652"
      ]
     },
     "execution_count": 42,
     "metadata": {},
     "output_type": "execute_result"
    }
   ],
   "source": [
    "congress_1968['speech'].str.count(word1).sum()"
   ]
  },
  {
   "cell_type": "code",
   "execution_count": 46,
   "metadata": {},
   "outputs": [],
   "source": [
    "may_1968 = congress_1968[congress_1968['month'] == 5]\n",
    "august_1968 = congress_1968[congress_1968['month'] == 8]"
   ]
  },
  {
   "cell_type": "code",
   "execution_count": 47,
   "metadata": {},
   "outputs": [
    {
     "data": {
      "text/plain": [
       "704"
      ]
     },
     "execution_count": 47,
     "metadata": {},
     "output_type": "execute_result"
    }
   ],
   "source": [
    "may_1968['speech'].str.count(word1).sum()"
   ]
  },
  {
   "cell_type": "code",
   "execution_count": 48,
   "metadata": {},
   "outputs": [
    {
     "data": {
      "text/plain": [
       "88"
      ]
     },
     "execution_count": 48,
     "metadata": {},
     "output_type": "execute_result"
    }
   ],
   "source": [
    "august_1968['speech'].str.count(word1).sum()"
   ]
  },
  {
   "cell_type": "markdown",
   "metadata": {},
   "source": [
    "What does the difference mean?  Read for a little context:\n",
    "\n",
    " [https://en.wikipedia.org/wiki/May_1968](https://en.wikipedia.org/wiki/May_1968)\n",
    " \n",
    " [https://en.wikipedia.org/wiki/1968_Democratic_National_Convention](https://en.wikipedia.org/wiki/1968_Democratic_National_Convention)"
   ]
  },
  {
   "cell_type": "markdown",
   "metadata": {},
   "source": [
    "### Get the context for word1"
   ]
  },
  {
   "cell_type": "markdown",
   "metadata": {},
   "source": [
    "To get the context for word1, you must call up the full text for the speeches where the keyword appears.\n",
    "\n",
    "Next, we can count the words that commonly appear around word1.\n",
    "\n",
    "Using .str.count(word1) and .nlargest(n) give you a list of the rownumbers for the n speeches where word1 appears the most frequently.  The rownumbers are stored in the .index for the resulting series. We save the results as the variables *word1_speechnumbers*\n",
    "\n",
    "We can use .loc() and the rownumbers to call up the full text of the speeches that correspond to word1_speechnumbers.  We will save the results as *word1_context.*\n",
    "\n",
    "We then clean the data using stopwording, lowercasing, and punctuation stripping.\n",
    "\n",
    "We then count the words that result using commands for breaking the string into words, giving each word a separate row, dropping empty rows, and counting the results:\n",
    "\n",
    "    str.split().explode().dropna().value_counts()\n",
    "    \n",
    "    "
   ]
  },
  {
   "cell_type": "code",
   "execution_count": 53,
   "metadata": {},
   "outputs": [],
   "source": [
    "en = spacy.load('en_core_web_sm')\n",
    "stop = en.Defaults.stop_words"
   ]
  },
  {
   "cell_type": "code",
   "execution_count": 54,
   "metadata": {},
   "outputs": [],
   "source": [
    "stopwords_regex = r'\\b(?:{})\\b'.format('|'.join(stop))"
   ]
  },
  {
   "cell_type": "code",
   "execution_count": 55,
   "metadata": {},
   "outputs": [],
   "source": [
    "# get the rownumbers of the n speeches that use word1 the most\n",
    "word1_may_speechnumbers = may_1968['speech'].str.count(word1).nlargest(10) \n",
    "word1_august_speechnumbers = august_1968['speech'].str.count(word1).nlargest(10) \n",
    "\n",
    "# get the speeches that mentioned word1 the most\n",
    "word1_may_context = may_1968.loc[list(word1_may_speechnumbers.index)]\n",
    "word1_august_context = august_1968.loc[list(word1_august_speechnumbers.index)]\n",
    "                                \n",
    "# clean up the data\n",
    "word1_may_context['cleanspeech'] = word1_may_context['speech'].str.replace('[^\\w\\s]','').str.lower() # remove punctuation, lowercase\n",
    "word1_may_context['stopworded'] = word1_may_context['cleanspeech'].str.replace(stopwords_regex, '') #stopwording\n",
    "\n",
    "word1_august_context['cleanspeech'] = word1_august_context['speech'].str.replace('[^\\w\\s]','').str.lower() # remove punctuation, lowercase\n",
    "word1_august_context['stopworded'] = word1_august_context['cleanspeech'].str.replace(stopwords_regex, '') #stopwording"
   ]
  },
  {
   "cell_type": "code",
   "execution_count": 58,
   "metadata": {},
   "outputs": [
    {
     "data": {
      "text/plain": [
       "court           345\n",
       "constitution    216\n",
       "supreme         212\n",
       "case            178\n",
       "law             137\n",
       "jurisdiction    115\n",
       "state           110\n",
       "states          110\n",
       "justice         103\n",
       "cases            98\n",
       "congress         98\n",
       "power            85\n",
       "crime            83\n",
       "shall            83\n",
       "courts           80\n",
       "title            78\n",
       "federal          77\n",
       "miranda          75\n",
       "united           72\n",
       "decision         71\n",
       "Name: stopworded, dtype: int64"
      ]
     },
     "execution_count": 58,
     "metadata": {},
     "output_type": "execute_result"
    }
   ],
   "source": [
    "# count the other words that appear in the context of word1 in 1967\n",
    "word1_may_context_count = word1_may_context[\"stopworded\"].str.split().explode().dropna().value_counts()\n",
    "word1_may_context_count[:20]"
   ]
  },
  {
   "cell_type": "code",
   "execution_count": 59,
   "metadata": {},
   "outputs": [
    {
     "data": {
      "text/plain": [
       "court             169\n",
       "supreme           104\n",
       "constitution       95\n",
       "states             73\n",
       "power              65\n",
       "constitutional     51\n",
       "congress           51\n",
       "amendment          48\n",
       "government         47\n",
       "state              43\n",
       "justice            43\n",
       "judicial           40\n",
       "united             39\n",
       "national           38\n",
       "case               38\n",
       "law                36\n",
       "right              34\n",
       "guard              34\n",
       "president          31\n",
       "decisions          29\n",
       "Name: stopworded, dtype: int64"
      ]
     },
     "execution_count": 59,
     "metadata": {},
     "output_type": "execute_result"
    }
   ],
   "source": [
    "# count the other words that appear in the context of word1 in 1967\n",
    "word1_august_context_count = word1_august_context[\"stopworded\"].str.split().explode().dropna().value_counts()\n",
    "word1_august_context_count[:20]"
   ]
  },
  {
   "cell_type": "markdown",
   "metadata": {},
   "source": [
    "### Inspect the data for the word 'malpractice' in 1967"
   ]
  },
  {
   "cell_type": "markdown",
   "metadata": {},
   "source": [
    "We can call up *word1_1967_speechnumbers* and find out how frequently 'malpractice' was mentioned in 1967."
   ]
  },
  {
   "cell_type": "code",
   "execution_count": 60,
   "metadata": {},
   "outputs": [
    {
     "data": {
      "text/plain": [
       "58751    45\n",
       "55468    26\n",
       "55464    24\n",
       "61959    23\n",
       "55487    16\n",
       "67075    11\n",
       "61868    10\n",
       "62522     9\n",
       "50489     8\n",
       "62186     8\n",
       "Name: speech, dtype: int64"
      ]
     },
     "execution_count": 60,
     "metadata": {},
     "output_type": "execute_result"
    }
   ],
   "source": [
    "word1_may_speechnumbers"
   ]
  },
  {
   "cell_type": "markdown",
   "metadata": {},
   "source": [
    "Look at the speech that mentions word1 the most (use the index number to the left)"
   ]
  },
  {
   "cell_type": "markdown",
   "metadata": {},
   "source": [
    "Who gave the speech?"
   ]
  },
  {
   "cell_type": "code",
   "execution_count": 61,
   "metadata": {},
   "outputs": [
    {
     "data": {
      "text/plain": [
       "'Mr. ERVIN'"
      ]
     },
     "execution_count": 61,
     "metadata": {},
     "output_type": "execute_result"
    }
   ],
   "source": [
    "word1_may_context['speaker'][58751][:1000]"
   ]
  },
  {
   "cell_type": "markdown",
   "metadata": {},
   "source": [
    "What did the speech say?"
   ]
  },
  {
   "cell_type": "code",
   "execution_count": 62,
   "metadata": {},
   "outputs": [
    {
     "data": {
      "text/plain": [
       "'Mr. President. article V of the Constitution provides as follows: The Congress. whenever two thirds of both Houses shall deem it necessary. shall propose Amendments to this Constitution. or. on the Application of the Legislatures of two thirds of the several States. shall call a Convention for proposing Amendments. which. in either Case. shall be valid to all Intents and Purposes. as Part of this Constitution. when ratified by the Legislatures of three fourths of the several States. or by Conventions in three fourths thereof. as the one or the other Mode of Ratification may be proposed by the Congress. Provided that no Amendment which may be made prior to the Year One thousand eight hundred and eight shall in any Manner affect the first and fourth Clauses in the Ninth Section of the first Article. and that no State. without its Consent. shall be deprived of its equal Suffrage in the Senate. In discussing this article in the Federalist. James Madison said that the Constitutional Convent'"
      ]
     },
     "execution_count": 62,
     "metadata": {},
     "output_type": "execute_result"
    }
   ],
   "source": [
    "word1_may_context['speech'][58751][:1000]"
   ]
  },
  {
   "cell_type": "markdown",
   "metadata": {},
   "source": [
    "I've cut the quote short.  You can see the whole speech for yourself by deleting the [:1000] at the end of the line of code.\n"
   ]
  },
  {
   "cell_type": "markdown",
   "metadata": {},
   "source": [
    "#### The importance of keeping going\n",
    "\n",
    "Keep going until you understand! You'll want to quote the evidence you gather.  Note that these speeches are selected at random from the list of speechnumbers that appear in the dataset.\n"
   ]
  },
  {
   "cell_type": "code",
   "execution_count": 63,
   "metadata": {},
   "outputs": [
    {
     "data": {
      "text/plain": [
       "'Mr. President. I now read this passage from volume I of the commentary on the Constitution of the United States written by Bernard Schwartz. on page 375: What the appellate powers of the Supreme Court shall be. declares Chief Justice Waite (in what has been termed the Courts strongest pronouncement on the extent of Congressional control over its appellate jurisdiction). \"and to what extent they shall be exercised are. and always have been. proper subjects of legislative control. Authority to limit the jurisdiction necessarily carries with it authority to limit the use of the jurisdiction. Not only may whole classes of cases be kept out of the jurisdiction altogether. but particular classes of questions may be subjected to reexamination and review. while others are not.\" Under this approach. it is for the Congress to determine how far appellate jurisdiction shall be given and. when conferred. it can be exercised only to the extent and in the manner prescribed by statute. In Justice Frankfurters words in a more recent case: \"Congress need not give this Court any appellate power. it may withdraw appellate jurisdiction once conferred and it may do so even while a case is sub judice.\" Mr. President. Mr. Schwartz does an excellent job in commenting upon the Constitution when the words of the Constitution are in harmony with Mr. Schwartz ideas. But sometimes when the words of the 199 Wallace. 532. Constitution are incompatible with what Mr. Schwartz thinks the Constitution ought to have said. he unconsciously falls into the error of assigning to a judicial opinion an erroneous significance. For example. he cites United States against Klein as authority for the proposition that Congress cannot deprive the Supreme Court of appellate jurisdiction in some cases which he does not define. In so doing. he directly contradicts his own correct analysis of what the Constitution says. Mr. President. I have said that the Escobedo. Miranda. Wade. Gilbert. and Stovall cases were rather startling decisions. that they were contrary to every decision the Supreme Court -handed down prior to the time they were handed down. and that they were incompatible with the words of the Constitution itself. In commenting on the opinions of the Supreme Court. I ignore Mark Twains advice. \"Truth is very precious. use it sparingly.\" Let me point out that the decisions in the Escobedo and Miranda cases were 5to4 decisions. I suggest to anyone who thinks that the judicial aberrations of five Supreme Court justices should be regarded as sacrosanct. the reading of the dissenting opinions in each of these cases. When the Supreme Court is divided 5 to 4. one cannot be on one side of a question exclusively and say it is sacrosanct and the other is not. Human experience has shown what are the two most convincing kinds of evidence which can be produced in courts of law. The decisions which I am discussing. and which give rise to the two sections of the pending bill which I have read. attempt either to end or to place severe limitations upon the two most convincing kinds of evidence of guilt which existvoluntary confessions of the accused and statements of eyewitnesses or victims of crimes. The Escobedo case and the Miranda case are efforts to put an end to the use of voluntary confessions in the courts of our land. I am not alone in making that assertion. That assertion was made by Justice White in his dissenting opinion in the Escobedo case and also in the Miranda case. To my mind. the most convincing evidence of the truth of a criminal charge is the voluntary confession of the accused that he committed the crime with which he stands charged. Innocent men do not go around making voluntary confessions that they have committed crime. And yet the Escobedo case and the Miranda case are attempts to place limits upon the admission of a voluntary confession made by a suspect to an officer while the suspect is in custody. The Miranda case says that no confession. though it may be absolutely voluntary in nature. made to an officer by a suspect in custody can be received in evidence in any court. Federal or State. unless the officer first tells the suspect that he has a right to remain silent. that anything he says derogatory to his cause can be used against him. that he does not have to answer any questions until he has a lawyer present. that if he does not have a lawyer of his own present. the court will provide him with a lawyer before he can be questioned. and that the suspect cannot waive these warnings unless he does so expressly. Justice White asked a question which I think may be designated both pertinent and impertinent. He said Miranda is not very logical. that when a suspect is asked by an arresting officer if he wants a lawyer. and he says that he does not want one. how is one to say his negative answer is not as tainted as his voluntary confession would be supposed to be. The Wade. Gilbert. and Stovall cases attempt to limit by an impossible condition the next most convincing evidence available to establish the guilt of a defendant. namely. the positive testimony of an eyewitness that he saw the accused commit the crime with which the accused stands charged. even in cases where the witness is also willing and ready to testify positively on oath that he bases his identification of the accused solely upon what he saw at the time the crime was committed. As I have stated before. these decisions were handed down 170odd years after the fifth and sixth amendments had become parts of the Constitution. and were contrary to every decision of the Supreme Court construing those amendments handed down at any time before the decisions themselves were made. And. furthermore. they are absolutely inconsistent with the fifth and sixth amendments. If we are to understand the impact of these decisions on law enforcement in the United States. we should ponder for a moment the fundamental purpose of the criminal law of the United States and the criminal law of the 50 States. The overall purpose of the criminal law is to protect society against criminals. Its fundamental purpose is to promote the general security of the people of this Nation in their persons and in their property. I assert. as Justice White did on pages 537 to 539 of his dissent in the Miranda case. that societys interest in general security is at least of equal weight as the assigned reason for placing limits upon interrogation of suspects in custody is to the dignity of the suspect. How does the criminal law undertake to protect society? It does so in three ways. These are set forth in Justice Whites dissenting opinion in the Miranda case. at pages 539 to 541. in a very eloquent manner. He points out in these passages that. In the first place. the criminal law undertakes to protect society by confining in prison those who commit serious offenses and preventing them while so confined from repeating their offenses. Manifestly. this purpose of criminal law is thwarted by rulings which say selfconfessed murderers and selfconfessed rapists and selfconfessed arsonists and selfconfessed burglars and selfconfessed thieves must be freed. notwithstanding their voluntary confessions. if the warnings enumerated in the Miranda case are not given to them by the officer having them In custody and to whom the confession is made. Before any Senator ought to vote against these sections. he should read the record of the hearings of the Subcommittee on Criminal Laws and Procedures. headed by the Senator from Arkansas . There are 1.205 pages in that record. During the hearings. I put this question to judges. to prosecuting attorneys. to law enforcement officers. and to lawyers: What percentage of persons charged with serious crimes do not already know that they have the right to remain silent. that anything derogatory they may say will be used against them. and that they have a right to a lawyer? Those witnesses. without exception. said that in their opinion. based upon long experience in law enforcement. in presiding over courts. and in prosecuting and defending criminals. virtually every person taken into custody for a serious crime already knows all of these things. Then I put this question to those witnesses: Then is it not true that under the Miranda case. every day. in Federal and State courts throughout the length and breadth of this land. selfconfessed murderers. rapists. robbers. burglars. arsonists. and thieves are being freed. to prey again on society. simply because a police officer did not tell them something they already knew? The witnesses agreed. That shows how absurd these decisions are. Justice White points out in the same dissent. in the Miranda case. that the criminal laws undertake to protect society by deterring others from emulating the example of criminals and violating the laws. Any decision which allows selfconfessed criminals to escape punishment and to walk the streets has no deterrent effect upon others. but. on the contrary. tends to encourage others to violate the law also. Justice White points out that the third great purpose of the criminal laws is to reform the offender. and that when an offender is given freedom rather than punishment for his offense because an arresting officer does not tell him something he already knows. he Is not likely to be reformed. Prior to these cases. both the Federal courts and the State courts had good laws to make it as certain as possible that no innocent person should ever be convicted of a crime. The fundamental purpose of the criminal law Is to protect society against criminals. The law desires. however. to avoid the conviction of any innocent man. To this end. it erects. in favor of any person charged with crime. the presumption of innocence. It requires the prosecution to establish every essential element of his guilt beyond a reasonable doubt. secures to him the services of a lawyer. gives him compulsory process to obtain the attendance of witnesses in his behalf. and secures to him the right of cross examination. through the agency of his lawyer. of the witnesses against him. These things are as they should be. and they make it just as certain as it can be made in this uncertain world that no innocent person shall be convicted of a crime that he did not commit. In addition to these rules. we have a rule of law. which has been the law in the Federal courts since the time this country was established. that the only confessions of guilt made by the accused which can be used against them in their trials are voluntary confessions. Under that rule. a voluntary confession is admissible in evidence against an accused. and an involuntary confession is not admissible in evidence. The test of whether a confession is voluntary or involuntary under that rule was laid down in a very understandable and practical fashion by Justice White in his dissenting opinion in the Miranda case. This is what he said: The test has been whether the totality of circumstances deprived the defendant of a free choice to admit. to deny. or to refuse to answer. and whether physical or psychological coercion was of such a degree that the defendants will was overborne at the time he confessed. As the judges in the dissenting opinions in the Miranda case so well state. this rule was effective to give a suspect in custody every protection he is entitled to receive. This rule was not only controlling in the Federal courts. but. ever since the case of Brown v. Mississippi. 297 U.S. 278. it has also been the rule in the State courts. As a matter of fact. it was a rule in the State courts under State law from the time of the foundation of the States to the present. but it became a rule by virtue of the due process clause of the 14th amendment in the Brown case. and was enforced by the U.S. Supreme Court when it reviewed appeals from State courts thereafter. When the Court handed down the Escobedo case and the Miranda case. it invented a new rule governing voluntary confessions. In the Escobedo case. it undertook to base the rule upon the right to counsel clause of the sixth amendment. And in doing so. it not only acted contrary to every decision of the court construing that clause. but it also acted in direct violation of the words in which that clause is couched. The right to counsel clause is as follows: In all criminal prosecutions. the accused shall enjoy the right to . . . have the assistance of counsel for his defense. The words \"in all criminal prosecutions\" mark the time when the right to have counsel for ones defense accrues. That was the plain purport of these words. That was the interpretation placed upon these words by the Supreme Court from 1790 down to 1964. In 1964. however. the 5to4 decision in the Escobedo case was made. and the majority of the court held that the right to counsel accrued not when a criminal prosecution is initiated by someone having authority to initiate a criminal prosecution. but when an officer has a suspect in custody and begins to suspect somewhere in the innermost recesses of his mind that the suspect may have committed a criminal offense. So no human being now has any objective standard by which to tell when the right of counsel accrues under the majority decision in the Escobedo case. That is true because no human being can invade the mind of an arresting offleer and determine when a suspicion arises in that mind. An arresting officer has no authority to institute a criminal prosecution. Under all of the decisions antedating Escobedo. the criminal prosecution did not begin until some officer or some agency authorized by law to prefer a charge made a formal accusation of the commission of crime by a warrant. a bill of indictment. an information. or some other formal proceeding authorized by law. Justices Clark and Harlan and White and Potter asserted in substance in the Escobedo case and also in the Miranda case that the Court was inventing new rules under a power which the Court is forbidden by the Constitution itself to exercise. The requirement in the Miranda case that the officer must give a warning. as enumerated. to a suspect in custody before he can interrogate the suspect and before the suspect can be permitted to say anything to the officer prescribes a rule of conduct for all law enforcement officers. Federal and State. A rule of conduct is nothing in the world but a law. and a law is nothing in the world but a rule of conduct prescribed by the lawmaking power of the Government. The Court has no power to make laws. Section 1 of article I of the Constitution says: All Legislative Powers herein granted shall be vested in a Congress of the United States. which shall consist of a Senate and House of Representatives. I think. although I do not affirm so absolutely. that this is the only place in the Constitution where the word \"all\" is used. It says that all of the power to make law on the Federal level belongs to Congress and that none of it belongs to the Supreme Court. Then again. in section 8 of article I. the Constitution provides that Congress shall have power \"to make all laws which shall be necessary and proper for carrying into execution the foregoing powers. and all other powers vested by this Constitution in the Government of the United States. or in any department or officer thereof.\" As Justice Harlan said. at page 509 of his dissent in the Miranda case: The limitations imposed by Miranda were rejected by necessary implication in case after case. the right of warnings having been explicitly rebuffed in this Court many years ago. So we find new rules created. rules which had been rejected by the Supreme Court itself time and time again in the past. rules which were inconsistent with all prior holdings of the Supreme Court. rules which were inconsistent with the words of the Constitution. under which the Court professed to be acting. I wish to say something about the voluntary confessions which the majority of the Supreme Court made in these cases. although I do not know whether they were really voluntary. They might have been made under compulsion. because the Court knew it had no power to make law. although it recognized that it was doing so. Mind you. Mr. President. these words. the words on which these cases were based by the majority. had been in the Constitution for more than 170 years. The writer of the majority opinion in the Miranda case -and the writer of the majority opinion in the Wade case recognized that they were exercising lawmaking power. because they said. in substance. that the reason they were doing so was -because Congress had not seen fit to pass laws on the subject. They said that Congress could pass laws on the subject in the future. provided the laws that Congress passed were at least as stringent as the new rules invented by the court. But the court did make a voluntary confession. It made the voluntary confession that it was making law and was amending the Constitution. The writer of the majority opinion in Miranda made such voluntary confessions twice. once on page 476 and again on page 477. He referred to the principles announced today and to the warnings enumerated today. which was a recognition of the facta voluntary confessionunless the writer of the opinion was acting under some kind of compulsion. that he was creating some laws. some alleged constitutional principles. on the 13th day of June 1966. instead of expounding the words of the Constitution which became effective on June 15. 1790. But there is a confession by the writer of the majority opinion in the Wade case which constitutes even a more complete and unequivocal confession that the court in the Wade case was making law and amending the Constitution rather than interpreting the Constitution. I will read that confession. The reason why that confession was made by the writer of the opinion in the Wade case. when he wrote the opinion for the majority in the Stovall case. was that a question arose as to whether the new rule. limiting the right of a jury to hear the positive testimony of an eyewitness that hethe eyewitnesssaw the accused commit a crime with which the accused stood charged. should apply to offenses in cases which originated before the day the decision was announced. June 12. 1967. Now. if this new rule announced in the Wade case and In the Gilbert case was rightfully a part of the Constitution. then it should have been applied in every case which was tried between the 15th day of June 1790. and June 12. 1967. But the Court said the new rule. which allegedly originated on the basis of words put in the Constitution. the sixth amendment. on June 15. 1790. does not have any application to any case which arose before the 12th day of June 1967. I read from page 299 of the report in the Stovall case. which appears in volume 388 of the U.S. Supreme Court reports. This is a most startling confession by a majority of the Court which fashioned these new rules. The law enforcement officials of the Federal Government and of all 50 States have heretofore proceeded on the premise that the Constitution did not require the presence of counsel at pretrial confrontations for identification. Todays rulings will not foreshadow our cases. no court announced such a requirement until Wade was decided by the Court of Appeals for the 5th Circuit. 358 Fed. Second 557. In other words. to depart from the quotation for a moment. the writer of the majority opinion was stating. in substance. that none of the lawenforcement officials of the Federal Government or of any of the governments of the 50 States had any idea that the rule in the Wade case had any place in the Constitution. The writer of the majority opinion said that there is nothing in any of the cases. any of the decisions of the Supreme Court. which could have made them anticipate that any such rule was implicit or explicit in the sixth amendment righttocounsel clause. Now I wish to read further from pages 299 and 300 of the majority opinion in the Stovall case: The overwhelming majority of American courts have always treated the evidence question not as one of admissibility but as one of credibility for the jury. I digress for a moment from the quotation to say that that is a statement of the law. and that is a statement of the meaning assigned to the righttocounsel clause of the sixth amendment by the overwhelming majority of American courts from June 15. 1790. until June 12. 1967. a period of 177 years. Now I continue reading the voluntary confession of the majority of the Court in the Stovall case: Law enforcement authorities fairly relied on this virtually unanimous weight of authority now no longer valid in conducting pretrial confrontations in the absence of counsel. It is. therefore. very clear that retroactive application of Wade and Gilbert would seriously disrupt the administration of our criminal laws. Mr. President. that is the end of the voluntary confession. However. I am going to make an assertion that the future application of the rule announced in Wade and Gilbert for the first time in American legal history on June 12. 1967. will seriously disrupt the administration of our criminal laws in the future. This is a voluntary confession by Supreme Court justices that they are making new law which they are forbidden to make by the Constitution in two sections. and they are amending the Constitution which they have no power to amend except by usurpation. Why should Congress be asked to treat the words of five out of nine Justices as sacrosanct when they themselves confess they had no authority under the Constitution to utter those words? Mr. President. these new rules. according to Justice Harlan. are contrary to the thinking of the people of the United States. I do not wish to lift anything out of context. so I shall read the words of Justice Harlan. However. before doing that. I wish to read what Justice Harlan said about the Miranda decision. Justice Harlan set out his views in the Miranda case on page 518 of his dissenting opinion in volume 384. U.S. Supreme Court Reports. I quote from the dissenting opinion of Justice Harlan: On March 3. 1963. an 18yearold girl was kidnapped and forcibly raped near Phoenix. Arizona. Ten days later. on the morning of March 18. petitioner Miranda was arrested and taken to the police station. At this time Miranda was 23 years old. indigent. and educated to the extent of completing half the ninth grade. He had \"an emotional illness\" of the schizophrenic type. according to the doctor who eventually examined him. the doctors report also stated that Miranda was \"alert and oriented as to time. place. and person.\" intelligent within normal limits. competent to stand trial. and sane within the legal definition. At the police station. the victim picked Miranda out of a lineup. and two officers then took him into a separate room to interrogate him. starting about 11:30 a.m. Though at first denying his guilt. within a short time Miranda gave a detailed oral confession and then wrote out in his own hand and signed a brief statement admitting and describing the crime. All this was accomplished in two hours or less without any force. threats or promises andI will assume this though the record is uncertain. ante. 5354 &* nn. 6667without any effective warnings at all. Mirandas oral and written confessions are now held inadmissible under the Courts new rules. One is entitled to feel astonished that the Constitution can be read to produce this result. These confessions were obtained during brief. daytime questioning conducted by two officers and unmarked by any of the traditional indicia of coercion. They assured a conviction for a brutal and unsettling crime. for which the police had and quite possibly could obtain little evidence other than the victims identifications. evidence which is frequently unreliable. There was. in sum. a legitimate purpose. no perceptible unfairness. and certainly little risk of injustice in the interrogation. Yet the resulting confessions. and the responsible course of police practice they represent. are to be sacrificed by the Courts own finespun conception of fairness which I seriously doubt is shared by many thinking citizens in this country. It is not to be wondered that Justice Harlan proclaimed he was astonished that the Constitution could be read to accomplish that result. Now. Congress is asked to make it possible under newly prescribed rules. which Justice Harlan said thinking people of America do not countenance. to continue to permit criminals to go unwhipped of justice notwithstanding the fact that they have voluntarily confessed their crimes. Not only is this decision out of harmony. or at least as Justice Harlan said. not shared by many thinking citizens of our country. but also it is opposed by the overwhelming majority of lawenforcement officers of the Federal Government of the United States and the States. Justice Harlan states at pages 520 and 521 of his dissenting opinion that the U.S. Government and 30 of the States had intervened in the Miranda case and opposed the creation of a new rule by the Court. Virtually everything which I have had to say by way of criticism of the Escobedo. Miranda. Wade. Gilbert. and Stovall cases. is in complete harmony with what was said by three or four of the Justices of the Supreme Court in their dissents in these cases. I wish to call the attention of the Senate to the assertion by Justice Harlan at pages 515 and 517 of his dissent in the Miranda case. the statement of Justice Clark on pages 499 and 500 of his dissent in the Miranda case. and the statement of Justice White on pages 533 to 535 of his dissent in the Miranda case. that there is no factual basis for the rule which five of the justices invented for the first time in our history on June 13. 1966. in that Miranda case. The same would apply to the Wade case. Justice White added. in substance. on page 532 of his dissent in the Miranda case that The majority of the Supreme Court was engaged in formulating a fundamental policy based on speculation alone. Justice Harlan said. in essence. on page 517 of his dissent in the Miranda case that The court was exaggerating the evils of normal police interrogation. One is not only astounded. as Justice Harlan was. by the decision of the court in the Miranda case. he is even more astounded by-'"
      ]
     },
     "execution_count": 63,
     "metadata": {},
     "output_type": "execute_result"
    }
   ],
   "source": [
    "word1_may_context['speech'][55468]"
   ]
  },
  {
   "cell_type": "markdown",
   "metadata": {},
   "source": [
    "Use command-F or EDIT > FIND in the menu above to search for word1 in your screen until you see the context.  \n"
   ]
  },
  {
   "cell_type": "markdown",
   "metadata": {},
   "source": [
    "### Inspect the data for word1 in August"
   ]
  },
  {
   "cell_type": "markdown",
   "metadata": {},
   "source": [
    "Let's look at word1 in August"
   ]
  },
  {
   "cell_type": "code",
   "execution_count": 64,
   "metadata": {},
   "outputs": [
    {
     "data": {
      "text/plain": [
       "119439    65\n",
       "120835     9\n",
       "120401     2\n",
       "120588     2\n",
       "120743     2\n",
       "117891     1\n",
       "117933     1\n",
       "117943     1\n",
       "118124     1\n",
       "120465     1\n",
       "Name: speech, dtype: int64"
      ]
     },
     "execution_count": 64,
     "metadata": {},
     "output_type": "execute_result"
    }
   ],
   "source": [
    "word1_august_speechnumbers"
   ]
  },
  {
   "cell_type": "markdown",
   "metadata": {},
   "source": [
    "We saw above that the word \"malpractice\" was invoked far more frequently in 2010 than in 1967.  Here, we see that the speeches that invoked 'malpractice' in 2010 also invoke that term more frequently -- up to 7 times in one speech -- than the one or two times each speech used the term in 1967.  \n",
    "\n",
    "Such a shift suggests that the word 'malpractice' is being applied with a more specific meaning in 2010. But to interpret this shift, we need to read more."
   ]
  },
  {
   "cell_type": "markdown",
   "metadata": {},
   "source": [
    "Let's look at the top speech, from row 7016.  Who gave the speech?."
   ]
  },
  {
   "cell_type": "code",
   "execution_count": 65,
   "metadata": {},
   "outputs": [
    {
     "data": {
      "text/plain": [
       "'Mr. ERVIN'"
      ]
     },
     "execution_count": 65,
     "metadata": {},
     "output_type": "execute_result"
    }
   ],
   "source": [
    "word1_august_context['speaker'][119439]"
   ]
  },
  {
   "cell_type": "markdown",
   "metadata": {},
   "source": [
    "What did the speech say?"
   ]
  },
  {
   "cell_type": "code",
   "execution_count": 66,
   "metadata": {},
   "outputs": [
    {
     "data": {
      "text/plain": [
       "'Mr. President. the constitution of my native State of North Carolina has always contained a warning which all Americans would do well to heed. It is this: A frequent recurrence to fundamental principles is absolutely necessary to preserve the blessings of liberty. Let us pause for a few moments. and recur to some fundamental principles. The men who composed the Constitutional Convention of 1787 were wise men. They had read the history of the long and bitter struggle of man for freedom. and had found this shocking but everlasting truth inscribed upon each page of that history: No man or set of men can be safely trusted with governmental power of an unlimited nature. As a consequence. they were determined. above all things to establish a government of laws and not of men. To prevent the exercise of arbitrary power by the Federal Government. they embodied in the Constitution the doctrine of the separation of governmental powers. In so doing. they utilized this doctrine in a twofold way. They delegated to the Federal Government the powers necessary to enable it to discharge its functions as a central government. and they left to each State the power to regulate its own internal affairs. It was this use of the doctrine of the separation of powers which prompted Chief Justice Salmon P. Chase to make this trenchant observation in Texas v. White (7 Wall. (U.S.) 700) : The Constitution. in all its provisions. looks to an indestructible union. composed of indestructible States. In their other utilization of the doctrine of the separation of governmental powers. the members of the Convention of 1787 vested the power to make laws in the Congress. the power to execute laws in the President. and the power to interpret laws in the Supreme Court and such inferior courts as the Congress might establish. Moreover. they declared. in essence. that the legislative. the executive. and the judicial powers of the Federal Government should forever remain separate and distinct from each other. This brings me to my subject: \"How the Supreme Court Is Discharging Its Role as the Interpreter of the Constitution.\" In discussing this subject. I must tell you the truth about the Supreme Court. I know it is not popular in some quarters to tell the truth about this tribunal. Admonitions of this character come to us daily from such quarters: When the Supreme Court speaks. its decisions must be accepted as sacrosanct by the bench. the bar. and the people of America. even though they constitute encroachments on the constitutional domain of the President or the Congress. or tend to reduce the States to meaningless zeros on the Nations map. Indeed. the bench. the bar. and the people must do more than this. They must speak of the Supreme Court at all times with a reverence akin to that which inspired Job to speak thus of Jehovah: Though He slay me. yet will I trust Him. To be sure. all Americans should obey the decrees in cases to which they are parties. even though they may honestly and reasonably deem such decrees unwarranted. But it is sheer intellectual rubbish to contend that Americans are required to believe in the infallibility of judges. or to make mental obeisance to judicial aberrations. They have an inalienable right to think and speak their honest thoughts concerning all things under the sun. including the decisions of Supreme Court majorities. It is well this is so because the late Chief Justice Harlan F. Stone spoke an indisputable truth when he said: Where the courts deal. as ours do. with great public questions. the only protection against unwise decisions. and even judicial usurpation. is careful scrutiny of their action. and fearless comment upon it. As one whose major efforts have centered in the administration of justice. I have the abiding conviction that \"tyranny on the bench is as objectionable as tyranny on the throne\" and that my loyalty to constitutional government compels me to oppose it. In entertaining this conviction. I find myself in the company of such great Americans as Thomas Jefferson. Andrew Jackson. and Abraham Lincoln. who refused to accept in abject silence what they conceived to be judicial usurpations. It is not easy for me to express my disapproval of Supreme Court action. I was taught in my youth by my father. a practitioner at the North Carolina bar for 65 years. to revere the Supreme Court as the guardian of the Constitution. When I was a small boy. he took me to the old Supreme Court chamber. pointed out the busts of great jurists of the past. and said with reverential awe: The Supreme Court will abide by the Constitution. though the heavens fall. I regret to say. however. that the course of the Supreme Court in recent years has been such as to cause me to ponder the question whether fidelity to fact ought not to induce its members to remove from the portal of the building which houses it the majestic words. \"Equal justice under law.\" and to substitute for the superscription. \"Not justice under law. but justice according to the personal notions of the temporary occupants of this building.\" The truth is that on many occasions during recent years the Supreme Court has usurped and exercised the power of the Congress and the States to amend the Constitution while professing to interpret it. In so doing. the Supreme Court has encroached upon the constitutional powers of Congress as the Nations legislative body. and struck down State action and State legislation in areas clearly committed to the States by our system of constitutional government. This action has been accompanied by overruling. repudiating. or ignoring many contrary precedents of earlier years. A study of recent decisions shows that some Supreme Court Justices employ the freedom of speech. the due process. the selfincrimination. and the right of counsel clauses of the Bill of Rights. and the 14th amendment with everincreasing frequency as mere vehicles for imposing their personal wills upon Congress. the States. and the people. In so doing. they repudiate or ignore the words and history of these provisions and the precedents interpreting them according to the intent of their framers. In criticizing the Court on this score. I am not a lone voice crying in a legal wilderness. The concurring opinion of the late Justice Robert H. Jackson in Brown v. Allen (344 U.S. 443. 535). points out correctly that a substantial portion of the judges and lawyers of America believe the Supreme Court is not confining itself to its allotted constitutional sphere. I quote these words from Justice Jacksons concurring opinion: Rightly or wrongly. the belief is widely held by the practicing profession that this Court no longer respects impersonal rules of law but is guided in these matters by personal impressions which .from time to time may be shared by a majority of the Justices. Whatever has been intended. this Court also has generated an impression in much of the judiciary that regard for precedents and authorities is obsolete. that words no longer mean what they have always meant to the profession. that the law knows no fixed principles. Justice Jackson closed his observations on this score with this sage comment: I know of no way we can have equal justice under law except we have some law. Let us consider and weigh the reasoning of those who seek to justify the -proposition that it is permissible for the Supreme Court to amend the Constitution under the guise of interpreting it. They make these assertions: The Constitution must change to meet changing conditions. As its authorized interpreter. the Supreme Court has the rightful power at all times to make the Constitution conform to the views of the majority of its members. Since the doctrine of stare decisisthat is. the rule that judges stand by and follow the decisions of their own court. might handicap the Supreme Court in making the Constitution conform to the views of a majority of its members on some occasions. the Supreme Court is not bound by its own decisions on constitutional questions. These arguments rest upon a wholly fallacious premise. namely. that the power to interpret and the power to amend are identical. The distinction between these powers is as wide as the gulf which yawns between Lazarus in Abrahams bosom and Dives in hell. The power to interpret the Constitution is the power to ascertain its meaning. and the power to amend the Constitution is the power to change its meaning. It seems at first blush that those who advance these arguments overlook the significant fact that article V of the Constitution vests the power to amend the Constitution in the Congress and the States. and not in the Chief Justice and Associate Justices of the Supreme Court. But not so. They simply nullify article V with these neat assertions: The method of amendment authorized by article V is too cumbersome and slow. Consequently. the Supreme Court must do the amending. The alternative Is to let the Constitution freeze in the pattern which one generation gave it. To a country lawyer. this is merely a \"high falutin\" way of saying that the oath of a Supreme Court Justice to support the Constitution does not obligate him to pay any attention to article V or any other provision displeasing to him. When all is said. the thesis that the Supreme Court has the rightful power to amend the Constitution under the guise of interpreting it is repugnant to the end the Founding Fathers had in mind when they gave this country a written Constitution. The Founding Fathers were not mere visionaries toying with speculations or theories. but practical men. dealing with the facts of political life as they understood them. History reveals that they understood the facts of political life exceedingly well. Above all. they understood the lesson of history epitomized so well by Woodrow Wilson in these words: Liberty has never come from the government. Liberty has always come from the subjects of it. The history of liberty is a history of the limitation of governmental power. not the increase of it. When we resist therefore the concentration of power. we are resisting the processes of death. because concentration of power. is what always precedes the destruction of human liberties. In consequence of this understanding. the Founding Fathers foresaw that the fundamentals of the government they desired to establish and the liberties of the citizens they wished to secure would be put in peril in troublous times unless they protected such fundamentals of government and such liberties by \"irrepealable law\" binding equally upon the government and the governed at all times and under all circumstances. They knew that the surest way to protect the fundamentals of the government they desired to establish and the liberties of the citizen they wished to secure was to enshrine them in a written Constitution. and thus put them beyond the control of impatient public officials. temporary majorities. and the varying moods of public opinion. To this end. they framed and adopted a written Constitution. putting into form the government they were creating and prescribing the powers that government was to take. The Founding Fathers knew. however. that useful alterations of some provisions of the Constitution would be suggested by experience. Consequently. they made provision for amendment as set out in article V. James Madison. whom historians rightly call the father of the Constitution. informs us that the Constitutional Convention preferred this mode for amending the Constitution because \"it guards equally against that extreme facility. which would render the Constitution too mutable. and that extreme difficulty. which might perpetuate its discovered faults.\" The Federalist. No. 43. Since the Constitution is a written instrument. its meaning does not alter. unless its wording is changed by amendment in the manner prescribed by article V. That which it meant when adopted it means now .... Those things which are within its grants of power. as those grants were understood when made. are still within them. and those things not within them remain still excluded (South Carolina v. United States. 199 U.S. 437). This being true. it is as clear as the noonday sun that the role of the Supreme Court as the interpreter of the Constitution is simply to ascertain and give effect to the intent of its framers and the people who adopted it. Moreover. since the Supreme Court has no proper function except to decide cases and controversies committed to its jurisdiction. the Court acts as the interpreter of the Constitution only in a litigated case whose decision of necessity turns on some provision of that instrument. As a consequence. the function of the Supreme Court in the case is simply to ascertain and give effect to the intent of those who framed and ratified the provision in issue. If the provision is plain. the Court must gather the intent solely from its language. but if the provision is ambiguous. the Court must place itself as nearly as possible in the condition of those who framed and ratified it. and in that way determine the intent the language was used to express. Since the meaning of a written Constitution is fixed when it is adopted and is not different at any subsequent time when a court has occasion to pass upon it. Judge Cooley was justified in declaring in his \"Constitutional Limitations\" thatA court . .. which should allow a change in public sentiment to influence it in giving to a written constitution a construction not warranted by the intention of its founders would be justly chargeable with reckless disregard of official oath and public duty. In addition to being repugnant to the intention of the framers. the notion that the Supreme Court may change the meaning of the Constitution while professing to interpret it is incompatible with the primary object of all law. Laws are designed to furnish rules of conduct for government and people. As a consequence. a law is destitute of value unless it has sufficient stability to afford reliable rules to govern the conduct of government and people. and unless it can be found with reasonable certainty in established legal precedents. Justice Louis B. Brandeis had this in mind when he said: It is usually more important that a rule of law be settled. than that it be settled right. If the Supreme Court is conceded the power to change the meaning of the Constitution under the guise of interpreting it every time a sitting Justice wavers in mind or a newly appointed Justice ascends the bench. the Constitution would become to all practical intents and purposes an uncertain and unstable document of no beneficial value to the country. More than this. it would become a constant menace to sound government at all levels. and to the freedom of the millions of Americans who are not at liberty to join Supreme Court Justices in saying that Supreme Court decisions on constitutional questions are not binding on them. What I have said on this point is aptly summed up in the ringing words of Edward Douglas White. one of the ablest lawyers and wisest judges ever to grace the Supreme Court bench. He said: In the discharge of its function of interpreting the Constitution. this Court exercises an august power . . . It seems to me that the accomplishment of its lofty mission can only be secured by the stability of its teachings and the sanctity which surrounds them . .. The fundamental conception of a judicial body is that of one hedged about by precedents which are binding on the court without regard to the personality of its members. Break down this belief in Judicial continuity. and let it be felt that on great constitutional questions this court is to depart from the settled conclusions of its predecessors. and to determine them all according to the mere opinion of those who temporarily fill its bench. and our Constitution will. in my judgment. be bereft of value and become a most dangerous instrument to the rights and liberties of the people. What has been said does not deny to the Supreme Court the power to overrule a prior decision in any instance where proper judicial restraint justifies such action. A sound criterion for determining when proper judicial restraint justifies a judge in overruling a precedent is to be found in the standard which Judge Learned Hand says his friend and colleague. Judge Thomas Swan. set for his own guidance: He will not overrule a precedent unless he can be satisfied beyond preadventure that it was untenable when made. and not even then. if it has gathered around it the support of a substantial body of decisions based on it. (The Spirit of Liberty. 212). In ending this phase of my remarks. I wish to emphasize that precedents set by the Supreme Court on constitutional questions must be considered to have beeh tenable when made. and thus not to be overruled. if they conformed to the intention of those who framed and adopted the constitutional provisions involved. no matter how inconsistent they may be with the views of Justices subsequently ascending the bench. This brings me back to the argument that Supreme Court Justices must nullify article V and usurp the power to amend the Constitution while pretending to interpret it to keep the Constitution from freezing in the pattern which one generation gave it. I assert with all the emphasis at my command that there is really no substantial validity in this argument. I take this position for three reasons: First. Although the Constitution does not change its meaning in the absence of amendment under article V. the provisions of the Constitution are pliable in the sense that they reach into the future and embrace all new conditions falling within the scope of the powers which they In terms confer. Existing grants of constitutional powers are broad and flexible enough to enable the Federal Government to take action in virtually all new fields in which action on its part will be appropriate. Second. As the possessor of all the legislative power of the Federal Government. Congress has complete authority at all times to make. amend. or repeal laws relating to all matters committed by the Constitution to the Federal Government. Third. For these reasons. occasions which really call for amendments to the Constitution are comparatively rare and can be accommodated under article V. While it is frequently asserted that the method for amending the Constitution prescribed by article V is too cumbersome and slow for practical purposes. those who make the assertion furnish no satisfactory proof of its truth. To be sure. they cite as evidence the failure of Congress and the States to make constitutional changes they deem desirable. They overlook the fact. however. that the evidence they cite has just as logical a tendency to prove that the wisdom of Congress and the States exceeds theirs. Where Congress and the States have been united in the belief that a constitutional amendment was necesasry and advisable. there has been little trouble in utilizing the procedure of article V. In the final analysis. those who contend that Supreme Court Justices are justified in changing the meaning of constitutional provisions while pretending to interpret them confuse right and power. What Justice Cardozo said of the judge as a legislator in \"The Nature of the Judicial Process\" is relevant here. He said: I think the difficulty has its origin in the failure to distinguish between right and power. between the command embodied in a judgment and the jural principle to which the obedience of the judge is due. Judges have. of course. the power. though not the right. to ignore the mandate of a statute. and render Judgment in despite of it. They have the power. though not the right. to travel beyond the walls of the interstices. the bounds set to judicial innovation by precedent and custom. None the less. by that abuse of power. they violate the law. (The Nature of the Judicial Process. 1921 edition. 129) What has been said makes it clear that the Supreme Court does not have the right to change the meaning of the Constitution. Unfortunately. however. there is nothing in the Constitution to deter them from exercising the power to do so. Although the Founding Fathers incorporated in the Constitution a system of checks and balances to deter the Congress and the executive branch from improvident and unconstitutional behavior. they did not devise a single positive provision other than the requirement of an oath or affirmation to safeguard the country against the danger that the Supreme Court might abuse its power to interpret the Constitution. and amend that instrument while professing to interpret it. The omission of the Constitution to provide any real check upon unconstitutional behavior on the part of the Supreme Court was not overlooked during the contest over ratification. Elbridge Gerry. George Mason. and others opposed ratification on this ground. Let me quote what they had to say on the subject. Elbridge Gerry asserted: There are no well defined limits of the Judiciary Powers. they seem to be left as a boundless ocean. that has broken over the chart of the Supreme Lawgiver. thus far shalt thou go and no further. and as they cannot be comprehended by the clearest capacity. or the most sagacious mind. it would be an Herculean labour to attempt to describe the dangers with which they are replete. George Mason made this more specific objection: The judiciary of the United States is so constructed and extended as to absorb and destroy the judiciaries of the several states. Others declared. in substance. that under the Constitution the decisions of the Supreme Court of the United States would \"not be in any manner subject to revision or correction.\" that \"the power of construing the laws\" would enable the Supreme Court of the United States \"to mould them into whatever shape it\" should \"think proper\". that the Supreme Court of the United States could \"substitute\" its \"own pleasure\" for the law of the land. and that the \"errors and usurpations of the Supreme Court of the United States\" would \"be uncontrollable and remediless.\" Alexander Hamilton overcame these arguments. however. to the satisfaction of the ratifying States. In the Federalist. Nos. 78 and 81. he gave this emphatic assurance: The supposed danger of Judiciary encroachments . . . is. in reality. a Phantom. He declared. in essence. that this was true because the men selected to serve as Supreme Court Justices would \"be chosen with a view to those qualifications which fit men for the stations of judges\" and that they would give \"that inflexible and uniform adherence\" to legal precedents and rules. which is \"indispensable in the courts of justice.\" He added that these. qualifications could be acquired only by \"long and laborious study.\" By these statements. Alexander Hamilton correctly declared that no man is qualified to be a judge unless he is able and willing to subject himself to the selfrestraint. which is an essential ingredient of the judicial process in a government of laws. Two questions arise. What is the selfrestraint which constitutes an essential ingredient of the judicial process in a government of laws? How is it acquired? Alexander Hamiltons statement furnishes answers for these questions. Selfrestraint is the capacity and the willingness of the qualified occupant of a judicial office to lay aside his personal notions of what a constitutional provision ought to say and to base his interpretation of its meaning solely upon its language and history. In performing his task. he does not recklessly cast into the judicial garbage can the sound precedents of his wise predecessors. This selfrestraint is usually the product of long and laborious legal work as a practicing attorney or long and laborious judicial work as a judge of an appellate court or a trial court of general jurisdiction. It is sometimes the product of long and laborious work as a teacher of law. One does not come into possession of selfrestraint. however. by occupying executive or legislative offices. or by rendering aid to a political party. or by maintaining a friendly relationship with a President. or by adhering to a particular religion. or by belonging to a particular race. And. unhappily. some men of brilliant intellect and good intentions seem incapable of acquiring it or unwilling to exercise it. Daniel Webster undoubtedly had these men in mind when he said: Good intentions will always be pleaded for every assumption of power . . . It is hardly too strong to say that the Constitution was made to guard the people against the dangers of good intentions. There are men in all ages who mean to govern well. but they mean to govern. They promise to be good masters. but they mean to be masters. For several generations. the people of America had no reason to doubt Alexander Hamiltons assurance concerning the kind of men who would be selected to sit upon the Supreme Court. With rare exceptions. Presidents appointed to the Court men who had long and laboriously participated in the administration of justice either as practicing lawyers or as judges of State courts or as judges of Federal courts inferior to the Supreme Court. and who possessed and exercised the selfrestraint which constitutes an essential ingredient of the judicial process in a government of laws. As a consequence. they perfonned their judicial labors in obedience to the principle that it is the duty of Supreme Court Justices to interpret the Constitution. not to amend it. Candor compels me to say. however. that these things are no longer true. and that a substantial number of recent appointees to the Supreme Court are judicial activists who seek to rewrite the Constitution in their own images by adding to that instrument things which are not in it and by subtracting from that instrument things which are in it. Time does not permit me to analyze or even enumerate all of the decisions which sustain what I have said. I wish to cite at this point a few decisions which reveal that the Supreme Court has encroached upon the constitutional powers of the Congress as the Nations legislative body. Congress was told by the Court in the Girouard (328 U.S. 61) and Yates (354 U.S. 298) cases that it really did not mean what it said in plain English when it enacted statutes to regulate the naturalization of aliens and to punish criminal conspiracies to overthrow the Government by force. Congress was told by the Court in the Watkins case (354 U.S. 178) that its committees must conduct their investigations according to rules imposed by the Court which make it virtually certain that no information will ever be obtained from an unwilling witness. Congress was told by the Court in the Allis Chalmers case (388 U.S. 175) that it practiced deceit on Americans who labor in industry when it gave them this assurance in section 7 of the Taft Hartley Act: \"Employees shall have the right to refrain from any and all\" concerted union activities. Moreover. Congress was told by the Court in the Robel case (389 U.S. 389) that the first amendment right of Communists to associate with each other for the purpose of proclaiming that the United States ought to be destroyed by force or other unconstitutional means disables the Congress of the United States to deny them employment in defense industries vital to the survival of the United States. In the recent cases of U.S. v. Guest (383 U.S. 745) and Katzenbach v. Morgan (384 U.S. 641). however. the Supreme Court demonstrated a willingness to stretch the legislative powers of Congress far beyond their constitutional limits by attributing a newly invented meaning to section 5 of the 14th amendment. Section 5 confers upon Congress the power to enforce by appropriate legislation the provision of the first section of the 14th amendment. which forbids any State to deny to any person within its jurisdiction the equal protection of the laws. A majority of the Supreme Court Justices gave Congress the gratuitous assurance by way of dicta in the Guest case that they would vote to uphold future congressional legislation making the acts of private individuals Federal crimes under this provision of the 14th amendment. notwithstanding the language of the equal protection of the laws clause applies only to State action. and notwithstanding the Court has held without variation in a multitude of cases that Congress has no power to legislate under that clause in respect to the acts of private individuals. It is passing strange for judges to announce in advance how they will decide a case which may never arise under a law which may never be enacted. The Court squarely held. however. in the Morgan case that the fifth section of the 14th amendment empowers Congress to supplant a nondiscriminatory State voter qualification with a newly created Federal voting qualification. notwithstanding the State voting qualification is in complete harmony with the equal protection of the laws clause. and notwithstanding articles I and II and the 10th and 17th amendments confer the power to prescribe voting qualifications upon the States and deny such power to the Congress. Another recent case indicating the willingness of the Supreme Court. as now constituted. to stretch the powers of Congress far beyond their constitutional limits by devising new meanings for constitutional provisions is South Carolina v. Katzenbach (383 U.S. 301). In this case the Court held that in the exercise of its power to enforce the 15th amendment by appropriate legislation. Congress can condemn the election officials of six Southern States of violating the 15th amendment without affording them a judicial trial. and on that basis suspend the undoubted constitutional power of those States under article I. section 2. and the 10th and 17th amendments to use a nondiscriminatory voting qualification. notwithstanding the guaranty of due process of the fifth amendment. the prohibition upon congressional enactment of bills of attainder of article I. and the sound decision of ex parte Milligan thatThe Constitution of the United States -is a law for rulers and people * * * at all times and under all circumstances and no doctrine involving more pernicious consequences was ever invented by the wit of man than that any of its provisions can be suspended during any of the great exigencies of government. The novel method of interpretation by which the Court reaches its decisions in the Guest. Morgan. and South Carolina cases is without parallel in our judicial annals. It belies the essential principle that all provisions of the Constitution are of equal dignity and none muzt be so interpreted as to nullify or impair the others. Instead of interpreting the Constitution as a harmonious instrument in these cases. however. the Court views it as a selfdestructive document consisting of mutually repugnant provisions of unequal dignity. By so doing. the Court reaches the astounding conclusion that section 5 of the 14th amendment and section 2 of the 15th amendment authorize Congress to do these things: First. to nullify constitutional powers clearly allotted or reserved to the States by article I. and article II. the 10th amendment and the 17th amendment. and. second. to pass congressional acts which the provisions allotting or reserving those constitutional powers to the States and the substantive provisions of the 14th amendment forbid it to enact. This method of interpretation. which sanctions the use of one provision of the Constitution to nullify some other provisions. may be pleasing to judicial activists. It bodes ill. however. for the future of constitutional government. What the judicial activists on the Supreme Court have done to the powers allotted or reserved by the Constitution to the States beggars description. A study of the decisions invalidating State action and State legislation compels the conclusion that these Supreme Court Justices now deem themselves to be the final and infallible supervisors of the desirability or wisdom of all State action and all State legislation. This is tragic. indeed. because there is nothing truer than the belief attributed to the late Justice Louis D. Brandeis by Judge Learned Hand thatThe States are the only breakwater against the ever pounding surf which threatens to submerge the individual and destroy the only kind of society in which personality can survive. Time does not permit me to analyze or even enumerate the cases past numbering in which the Supreme Court. as now constituted. has struck down State action and State legislation in fields clearly committed to the States by the Constitution. Consequently. I shall mention only a few of them. California was told by the Court in the Lambert case (355 U.S. 225). that it cannot punish its residents for criminal offenses committed within its borders if such residents are ignorant of the statutes creating such criminal offenses. California was told by the Court in the first Konigsberg case (353 U.S. 252). that it cannot resort to crossexamination to determine the fitness or qualifications of those who apply to it for licenses to practice law in its courts. New Hampshire and Pennsylvania were told by the Court in the Sweezey (354 U.S. 234). and Nelson (350 U.S. 497) cases that they cannot investigate or punish seditious teachings or activities within their borders. New York was told by the Court in the Slowehower case (350 U.S. 551). and the Keyishian case (385 U.S. 589). that the first and fifth amendments forbid the States to deny employment as teachers of their youth to Communists who advocate the overthrow of our Republic by violence or any other unconstitutional means. North Carolina was told by the Court in the first Williams case (317 U.S. 287). that it cannot determine the marital status of its own citizens within its own borders. Twentyfour States were told by the Court in the Mapp case (37 U.S. 643) that the fourth amendment had somehow lost its original meaning 170 years after its ratification. and that in consequence they no longer had the power which they possessed in times past to regulate the admissibility in their own courts of evidence obtained by searches and seizures. Virginia was told by the Court in the Button case (371 U.S. 415) that the NAACP and its attorneys were immune to prosecution or punishment for violating its laws against barratry. champerty. and maintenance. Virginia was told by the Court in the Harper case (383 U.S. 633) that its law requiring the payment of a poll tax as a qualification for voting violated the Constitution because it is more difficult for a poor man than it is for an affluent man to pay an annual tax equal to the amount which one can earn by working 72 minutes out of the entire year at the minimum wages established by the Fair Labor Standards Act. And California was told by the Court in the Reitman case (387 U.S. 369) that its new law repealing its open occupancy law and giving all Californians of all races freedom of choice in the sale or rental of their residential property constituted an unconstitutional discrimination against nonwhites. For some reason too deep to fathom. the Supreme Court. as now constituted. has a solicitude for persons charged with crime which blinds it to the truth that society and the victims of crime are as much entitled to justice as the accused. It has manifested this solicitude by repeatedly overruling State courts in criminal cases simply because it disliked their appraisal of facts on conflicting evidence. In so doing. it has ignored the obvious truth that the best judges of the trustworthiness of human testimony are the trial judges who see the witnesses. and that the evidence of a George Washington and that of an Ananias look exactly alike when reduced to cold print. Other decisions of the Court sanction a practice by which the lowest court in the Federal judicial system. that is. the U.S. district court. by exercising its jurisdiction to issue writs of habeas corpus. can set at naught the decisions of the highest court of a State. even in cases where the Supreme Court itself has refused to grant certiorari to review the State court decisions. Under this practice the doctrine of res adjudicata is virtually abolished. and the States are unable to obtain judgments having finality insofar as the accused are concerned. To minimize the chaos which this practice entails. the States have been compelled to enact statutes providing for postconviction hearings which in plain English permit the accused to try State courts after State courts have tried them. In addition to these things the Supreme Court has recently erected some new artificial rules of evidence which apply to criminal trials in both Federal and State courts. and which greatly handicap the efforts of the prosecution to procure convictions. The selfincrimination clause of the fifth amendment. which declares that \"no person shall be compelled in any criminal case to be a witness against himself.\" became a part of the Constitution on June 15. 1790. From that date until June 13. 1966. the U.S. Supreme Court interpreted these words to mean what they said. that is. to have no possible application to voluntary confessions made outside court. On June 13. 1966. the Supreme Court handed down Miranda v. Arizona (384 U.S. 346). which held that the selfincrimination clause had suddenly acquired a new meaning. and by virtue thereof it was unconstitutional under such clause for either Federal or State trial courts to admit in evidence any confession made by a suspect to a police officer having him in custody. no matter how voluntary it might be. unless such police officer first gave the suspect certain warnings which did not even exist until the decision was made. On June 12. 1967. the Supreme Court handed down Gilbert v. California (388 U.S. 268). Stovall v. Denno (388 U.S. 293). and United States v. Wade (388 U.S. 218). In these cases the Supreme Court held for the first time that a provision. which has been in the sixth amendment since June 15. 1790. made it unconstitutional for the victim or eyewitness of a crime to look at a suspect in custody for identification purposes at any time between the commission of the crime and the trial of the case unless an attorney representing the suspect is present. and that positive testimony given by the victim or eyewitness of the crime upon oath in open court at the trial on the merits to the effect that the witness saw the crime committed and based his identification of the accused as its perpetrator solely upon what he observed at that time. would have to be excluded from consideration by the jury or court trying the facts. unless the presiding judge conducted a preliminary inquiry. and ascertained by clear and convincing evidence that the psychological certainty of the witness that the accused was the person he saw commit the crime was not influenced in any way by the unconstitutional view he had of the prisoner. For all practical purposes. the Supreme Court Justices who joined in the Miranda. the Gilbert. the Stovall. and the Wade cases made voluntary confessions that they were amending rather than interpreting the Constitution by holding that these decisions had no retroactive effect. In the closing days of its last term. the Supreme Court made drastic new rulings. On May 20. 1968. it handed down Duncan against Louisiana and Bloom against Illinois. In these cases. the Supreme Court overruled scores of former wellconsidered decisions to the contrary and adjudged for the first time that the 178yearold jury trial provisions of the sixth amendment apply to State prosecutions for crimes and criminal contempts. On the same day the Supreme Court undertook to convert an illegal trespass of great antiquity into a newly created first amendment right. It did this in Amalgamated Food Employees against Logan Valley Plaza by holding that the freedom of speech clause vests in individuals acting in concert a constitutional right to invade the private premises of a businessman against his will for the purpose of urging his customers not to patronize him and by decreeing that no court in the land can now protect the businessman in any way against the unwelcomed invasion. On May 27. 1968. the Supreme Court ruled in Green against the School Board of New Kent County that school authorities must rob schoolchildren of both races of the freedom to choose the schools they attend unless their exercise of this freedom produces a degree of integration satisfactory to Supreme Court Justices. A few days later. the Supreme Court handed down Jones against Mayer Co.. which is enough to make constitutional. historical. and linguistic angels weep. In this case. the Court solemnly adjudged that when it enacted the Civil Rights Act of 1866 Congress really adopted an open occupancy law. even though Congress did not know anything about open occupancy in 1866 and even though the Courts novel conclusion is utterly incompatible with the interpretation placed upon the act throughout the intervening 102 years. There is. in truth. no relationship between the open occupancy concept and the Civil Rights Act of 1866. which is now codified as 42 United States Code This act provides: All citizens of the United States shall have the same right. in every State and territory. as is enjoyed by white citizens thereof to inherit. purchase. lease. sell. hold and convey real and personal property. I digress to note that the act is not restricted to housing. It deals with all property be it real or personal. tangible or intangible. In its decision in the Jones case. the Supreme Court assigns to the words of the act a meaning they do not have and a purpose they are not intended to achieve. Since a white citizens right to purchase or lease property has always been subject to the condition that its owner must be willing to sell or lease it to him. the Court distorted the words of the act in holding that they confer upon a nonwhite citizen the power to compel an unwilling owner to convey or lease property to him. The Civil Rights Act of 1866 is designed to secure to all Americans of all races the equal protection of the laws at the hands of States and territories in respect to rights in property. In other words. its sole purpose is to make all Americans equal before the law in respect to rights of property. and not to subject the rights of property of one individual to the demands of any other individual of any race. To sustain the constitutionality of its distorted construction of the Civil Rights Act of 1866. the Court invoked the 13th amendment. and in so doing attributed to it a meaning unrelated to the language in which it is couched. According to its wording. the 13th amendment does two things. and only two things. First. it outlaws slavery. and. second. it outlaws involuntary servitude. except as a punishment for crime. Not a syllable in it imports a purpose to subordinate the personal or property rights of one free individual to the demands of another. Despite these things. Jones against Mayer Co. implies. in substance that the power of Congress to enforce the limited objectives of the 13th amendment vests in Congress the unlimited power to regulate the personal activities and property rights of all Americans in order to prevent them from practicing private discrimination against nonwhites. regardless of whether there be any State involvement and regardless of what other constitutional provisions may declare. What a Pandoras box the Court opened in Jones against Mayer Co. This case represents judicial Constitutionamending in its most virulent form. I forego discussing the recent decisions of the Supreme Court holding States and municipalities constitutionally impotent to enact effective legislation prohibiting the peddling of pornography for filthy lucre. In closing this phase of my remarks. I will take note of one other legal controversy which will certainly be familiar to the Philadelphians among us. I refer to the litigation involving Girard College in which the Supreme Court and the inferior Federal courts confiscated a private charitable trust for public use without any compensation by rewriting the will of Stephen Girard. who had slumbered in the \"tongueless silence of the dreamless dust\" since 1831. and who entertained the sound belief while he walked earths surface that disposing of private property by will is rightly a matter for its owner rather than for judges. In making the foregoing remarks. I have been conscious of the inadequacy of language. I have necessarily used the term Supreme Court or the term Supreme Court Justices to signify members of the Court who were responsible for the decisions I have mentioned. I have not overlooked the fact. however. that most of these decisions were handed down by a sharply divided Court. and that in many of them there were strong dissents by some of the Justices who asserted in no uncertain terms that the majority decisions were Incompatible with the Constitution. What has been said makes these things as clear as the noonday sun in a cloudless sky: First. Apart from faithful observance of the Constitution by Congress. the President. and the Supreme Court. neither our country nor any human being within its borders has any security against anarchy or tyranny. Second. The Supreme Court can compel Congress and the President to observe the Constitution. But no authority external to themselves can compel Supreme Court Justices to observe their constitutional obligation to base their interpretation of the Constitution upon its language and history. Third. It is idle to suggest the Congress and the States can redress the consequences of judicial usurpations by exercising their power to amend the Constitution. In the first place. the Constitution cannot be amended fast enough to redress the consequences of wholesale judicial usurpations. and in the second place. it is absurd to expect that Supreme Court Justices who do not observe the language and history of existing constitutional provisions will abide by the language and history of newly adopted amendments. Fourth. This being true. the only restraint on unconstitutional behavior on the part of Supreme Court Justices is their own sense of selfrestraint. Fifth. No matter how great his qualifications in other respects may be. no man is fit to be a Supreme Court Justice if he lacks a sense of selfrestraint or is unwilling to exercise it. The presence of such Justices on the Supreme Court imperils our most precious rightthe right to be governed by the Constitution. They are invariably judicial activists. who seek to rewrite the Constitution according to their personal notions while professing to interpret and love it. Unlike the foreign conqueror. they do not rob us of our rights in one fell swoop. No. They nibble them away one by one and case by case. But the end result is the same: The destruction of constitutional government. In his Farewell Address to the American people. George Washington warned us not to travel the road which the judicial activists would have us take. He said: If. in the opinion of the people. the distribution or modification of the constitutional powers be in any particular wrong. let it be corrected by an amendment in the way which the Constitution designates ... But let there be no change by usurpation. for though this. in one instance. may be the instrument of good. it is the customary weapon by which free governments are destroyed. The precedent must always greatly overbalance in permanent evil. any partial or transient benefit which the use can at any time yield. I believe it is also clear from what has been said that the Court. as now constituted. has already taken us a long way down the road which George Washington told us not to travel. As a consequence. words of the Constitution no longer mean what they have always meant. history and precedents are disregarded. and decisions on crucial constitutional questions are based on personal notions which a majority of the Justices happen to share from time to time. I shall not make any dogmatic assertion as to why this is so. But I will have the temerity to suggest that too many political appointments have been made of late to the Supreme Court. For this reason. I have introduced a joint resolution proposing an amendment to the Constitution establishing a new procedure for the appointment of Justices of the Supreme Court. The procedure would be as follows: First. Whenever a vacancy occurs in the office of Chief Justice of the United States or Associate Justice of the Supreme Court. the President shall convene a conference which shall be attended by the presiding judge of the highest appellate court of each State and the chief judge of each judicial circuit of the United States. The senior chief judge of a judicial circuit of the United States shall preside at the conference. By majority vote the conference shall designate. and the presiding officer of the conference shall transmit to the President in writing. the names of five or more persons deemed by the conference to be qualified to fill the vacancy. Second. The President shall nominate one of the persons so designated to fill the vacancy. Third. If the Senate advises and consents to the appointment of such person. such person shall be appointed to fill the vacancy. If the Senate does not advise and consent to the appointment of any person so nominated. the President shall nominate another person so designated to fill the vacancy. I believe that my proposed amendment will make it as certain as possible that members of the Supreme Court will not be chosen on the basis of personal friendship with the President. political service rendered to the political party in power. or past association with politically potent groups. I also believe the amendment would insure. as far as humanly possible. the appointment to the Supreme Court of qualified persons who would be likely to possess the invaluable quality of selfrestraint about which I have spoken at such length. I believe also that those of us who love and revere the Constitution must continue to discharge our duty to carefully scrutinize the decisions of the Court and to comment fearlessly upon those decisions that we believe to endanger the continued existence of constitutional government in America. For I am convinced that a great Senator. Daniel Webster. who also loved the Constitution. spoke tragic truth when he said these things: Other misfortunes may be borne. or their effects overcome. If disastrous wars should sweep our commerce from the ocean. another generation may renew it. if it exhaust our treasury. future industry may replenish it. if it desolate and lay waste our fields. still. under a new cultivation. they will grow green again. and ripen to future harvests. It were but a trifle even if the walls of yonder Capitol were to crumble. if its lofty pillars should fall. and its gorgeous decorations be all covered by the dust of the valley. All of these may be rebuilt. But who shall reconstruct the fabric of demolished government? Who shall rear again the wellproportioned columns of constitutional liberty? Who shall frame together the skillful architecture which unites national sovereignty with State Rights. individual security. and Public prosperity? No. if these columns fall. they will be raised not again. Like the Coliseum and the Parthenon. they will be destined to a mournful and melancholy immortality. Bitterer tears. however. will flow over them than ever were shed over the monuments of Roman or Grecian art. for they will be the monuments of a more glorious edifice than Greece or Rome ever sawthe edifice of constitutional American liberty.'"
      ]
     },
     "execution_count": 66,
     "metadata": {},
     "output_type": "execute_result"
    }
   ],
   "source": [
    "word1_august_context['speech'][119439]"
   ]
  },
  {
   "cell_type": "markdown",
   "metadata": {},
   "source": [
    "### Perform the same search with new vocabulary"
   ]
  },
  {
   "cell_type": "markdown",
   "metadata": {},
   "source": [
    "When you research shifts in words, typically you won't work on a single word at a time. You'll begin with a controlled vocabulary of the kind we used to investigate discussions of crime in Congress last week. Then you'll narrow down to a few words whose meaning you need to understand better.\n",
    "\n",
    "We can use a 'for' loop to cycle through a dozen words very quickly, producing an analysis.  \n",
    "\n",
    "We can even add a few lines to this for loop to ask the computer to print out all the relevant speeches.  I have abbreviated the number of words listed and the lines of the speeech given for room.\n",
    "\n",
    "When you do your assignment, begin by zeroing in on certain words in the list of keywords on the first line.  \n",
    "\n",
    "Next, tweak the code to show more words and lines of the speech when you get to your own research.\n",
    "\n"
   ]
  },
  {
   "cell_type": "code",
   "execution_count": 68,
   "metadata": {},
   "outputs": [
    {
     "data": {
      "text/html": [
       "<div>\n",
       "<style scoped>\n",
       "    .dataframe tbody tr th:only-of-type {\n",
       "        vertical-align: middle;\n",
       "    }\n",
       "\n",
       "    .dataframe tbody tr th {\n",
       "        vertical-align: top;\n",
       "    }\n",
       "\n",
       "    .dataframe thead th {\n",
       "        text-align: right;\n",
       "    }\n",
       "</style>\n",
       "<table border=\"1\" class=\"dataframe\">\n",
       "  <thead>\n",
       "    <tr style=\"text-align: right;\">\n",
       "      <th></th>\n",
       "      <th>law</th>\n",
       "      <th>count</th>\n",
       "    </tr>\n",
       "  </thead>\n",
       "  <tbody>\n",
       "    <tr>\n",
       "      <th>35</th>\n",
       "      <td>Constitution</td>\n",
       "      <td>229</td>\n",
       "    </tr>\n",
       "    <tr>\n",
       "      <th>389</th>\n",
       "      <td>the Constitution</td>\n",
       "      <td>62</td>\n",
       "    </tr>\n",
       "    <tr>\n",
       "      <th>544</th>\n",
       "      <td>the Social Security Act</td>\n",
       "      <td>56</td>\n",
       "    </tr>\n",
       "    <tr>\n",
       "      <th>1</th>\n",
       "      <td>14th amendment</td>\n",
       "      <td>47</td>\n",
       "    </tr>\n",
       "    <tr>\n",
       "      <th>523</th>\n",
       "      <td>the Railroad Retirement Act</td>\n",
       "      <td>44</td>\n",
       "    </tr>\n",
       "    <tr>\n",
       "      <th>442</th>\n",
       "      <td>the Fourteenth Amendment</td>\n",
       "      <td>37</td>\n",
       "    </tr>\n",
       "    <tr>\n",
       "      <th>379</th>\n",
       "      <td>the Civil Rights Act</td>\n",
       "      <td>34</td>\n",
       "    </tr>\n",
       "    <tr>\n",
       "      <th>317</th>\n",
       "      <td>section 5</td>\n",
       "      <td>20</td>\n",
       "    </tr>\n",
       "    <tr>\n",
       "      <th>551</th>\n",
       "      <td>the TaftHartley Act</td>\n",
       "      <td>18</td>\n",
       "    </tr>\n",
       "    <tr>\n",
       "      <th>353</th>\n",
       "      <td>the 14th amendment</td>\n",
       "      <td>16</td>\n",
       "    </tr>\n",
       "  </tbody>\n",
       "</table>\n",
       "</div>"
      ],
      "text/plain": [
       "                             law  count\n",
       "35                  Constitution    229\n",
       "389             the Constitution     62\n",
       "544      the Social Security Act     56\n",
       "1                 14th amendment     47\n",
       "523  the Railroad Retirement Act     44\n",
       "442     the Fourteenth Amendment     37\n",
       "379         the Civil Rights Act     34\n",
       "317                    section 5     20\n",
       "551          the TaftHartley Act     18\n",
       "353           the 14th amendment     16"
      ]
     },
     "execution_count": 68,
     "metadata": {},
     "output_type": "execute_result"
    }
   ],
   "source": [
    "top_laws[:10]"
   ]
  },
  {
   "cell_type": "code",
   "execution_count": 70,
   "metadata": {},
   "outputs": [
    {
     "name": "stdout",
     "output_type": "stream",
     "text": [
      "*****\n",
      "CONTEXT for Constitution in May 1968\n",
      "speech by Mr. ERVIN in 1968-05-14\n",
      "Mr. President. article V of the Constitution provides as follows: The Congress. whenever two thirds \n",
      "speech by Mr. ERVIN in 1968-05-09\n",
      "Mr. President. I now read this passage from volume I of the commentary on the Constitution of the Un\n",
      "***\n",
      "COLLOCATES for Constitution in May 1968\n",
      "court           77\n",
      "constitution    77\n",
      "case            62\n",
      "supreme         49\n",
      "miranda         39\n",
      "Name: stopworded, dtype: int64\n",
      "*****\n",
      "CONTEXT for Constitution in August 1968\n",
      "speech by Mr. ERVIN in 1968-08-02\n",
      "Mr. President. the constitution of my native State of North Carolina has always contained a warning \n",
      "speech by Mr. ERVIN in 1968-08-02\n",
      "Mr. President. article II of the Constitution expressly provides that the President may appoint a Su\n",
      "COLLOCATES for Constitution in August 1968\n",
      "court             163\n",
      "supreme            98\n",
      "constitution       83\n",
      "power              56\n",
      "constitutional     47\n",
      "Name: stopworded, dtype: int64\n",
      "*****\n",
      "CONTEXT for the Constitution in May 1968\n",
      "speech by Mr. ERVIN in 1968-05-14\n",
      "Mr. President. article V of the Constitution provides as follows: The Congress. whenever two thirds \n",
      "speech by Mr. ERVIN in 1968-05-09\n",
      "Mr. President. I now read this passage from volume I of the commentary on the Constitution of the Un\n",
      "***\n",
      "COLLOCATES for the Constitution in May 1968\n",
      "court           77\n",
      "constitution    77\n",
      "case            62\n",
      "supreme         49\n",
      "miranda         39\n",
      "Name: stopworded, dtype: int64\n",
      "*****\n",
      "CONTEXT for the Constitution in August 1968\n",
      "speech by Mr. ERVIN in 1968-08-02\n",
      "Mr. President. the constitution of my native State of North Carolina has always contained a warning \n",
      "speech by Mr. ERVIN in 1968-08-02\n",
      "Mr. President. article II of the Constitution expressly provides that the President may appoint a Su\n",
      "COLLOCATES for the Constitution in August 1968\n",
      "court             163\n",
      "supreme            98\n",
      "constitution       83\n",
      "power              56\n",
      "constitutional     47\n",
      "Name: stopworded, dtype: int64\n",
      "*****\n",
      "CONTEXT for the Social Security Act in May 1968\n",
      "speech by Mr. DANIELS in 1968-05-06\n",
      "Mr. Speaker. for more than a year I have been deluged with letters urging me to oppose H.R. 5710. th\n",
      "speech by Mr. MILLS in 1968-05-06\n",
      "letter follows: DEAR MR. DANIELS: This Is in reply to your recent inquiry concerning an article whic\n",
      "***\n",
      "COLLOCATES for the Social Security Act in May 1968\n",
      "hr          12\n",
      "5710         7\n",
      "bill         7\n",
      "security     7\n",
      "social       7\n",
      "Name: stopworded, dtype: int64\n",
      "*****\n",
      "CONTEXT for the Social Security Act in August 1968\n",
      "speech by Mr. BROWN of Ohio in 1968-08-01\n",
      "Mr. Speaker. it is certainly appropriate in these troubled times that we pay tribute to those member\n",
      "speech by Mr. MANSFIELD in 1968-08-01\n",
      "Mr. President. I ask unanimous consent that the reading of the Journal of the proceedings of Wednesd\n",
      "COLLOCATES for the Social Security Act in August 1968\n",
      "men         4\n",
      "langston    4\n",
      "mr          3\n",
      "ohio        3\n",
      "members     3\n",
      "Name: stopworded, dtype: int64\n",
      "*****\n",
      "CONTEXT for 14th amendment in May 1968\n",
      "speech by Mr. TYDINGS in 1968-05-20\n",
      "Mr. President. article I. section 9. clause 2 of the Constitution states categorically that \"The pri\n",
      "speech by Mr. TYDINGS in 1968-05-20\n",
      "Let me recall the facts in that case. The supreme court of the State ruled that those confessions we\n",
      "***\n",
      "COLLOCATES for 14th amendment in May 1968\n",
      "court     62\n",
      "habeas    59\n",
      "corpus    57\n",
      "state     54\n",
      "writ      44\n",
      "Name: stopworded, dtype: int64\n",
      "*****\n",
      "CONTEXT for 14th amendment in August 1968\n",
      "speech by Mr. ERVIN in 1968-08-02\n",
      "Mr. President. the constitution of my native State of North Carolina has always contained a warning \n",
      "speech by Mr. ERVIN in 1968-08-02\n",
      "Mr. President. article II of the Constitution expressly provides that the President may appoint a Su\n",
      "COLLOCATES for 14th amendment in August 1968\n",
      "court             163\n",
      "supreme            98\n",
      "constitution       83\n",
      "power              56\n",
      "constitutional     47\n",
      "Name: stopworded, dtype: int64\n",
      "*****\n",
      "CONTEXT for the Railroad Retirement Act in May 1968\n",
      "speech by Mr. PEPPER in 1968-05-27\n",
      "Mr. Speaker. in line with my continuing interest in improving life for our senior citizens. I am tod\n",
      "speech by Mr. BROYHILL of Virginia in 1968-05-01\n",
      "Mr. Speaker. I received a request from Mr. Charles D. Brown. 1721 Maxwell Court. McLean. Va.. a cons\n",
      "***\n",
      "COLLOCATES for the Railroad Retirement Act in May 1968\n",
      "railroad      8\n",
      "retirement    7\n",
      "average       7\n",
      "annuity       6\n",
      "widow         6\n",
      "Name: stopworded, dtype: int64\n",
      "*****\n",
      "CONTEXT for the Railroad Retirement Act in August 1968\n",
      "speech by Mr. BROWN of Ohio in 1968-08-01\n",
      "Mr. Speaker. it is certainly appropriate in these troubled times that we pay tribute to those member\n",
      "speech by Mr. MANSFIELD in 1968-08-01\n",
      "Mr. President. I ask unanimous consent that the reading of the Journal of the proceedings of Wednesd\n",
      "COLLOCATES for the Railroad Retirement Act in August 1968\n",
      "men         4\n",
      "langston    4\n",
      "mr          3\n",
      "ohio        3\n",
      "members     3\n",
      "Name: stopworded, dtype: int64\n",
      "*****\n",
      "CONTEXT for the Fourteenth Amendment in May 1968\n",
      "speech by MR. JUSTICE JACKSON in 1968-05-20\n",
      "concurring in the result. Controversy as to the undiscriminating use of the writ of habeas corpus by\n",
      "speech by Mr. THURMOND in 1968-05-29\n",
      "Mr. President. it is appalling that the Supreme Court has held the freedom of choice desegregation p\n",
      "***\n",
      "COLLOCATES for the Fourteenth Amendment in May 1968\n",
      "court      100\n",
      "state       77\n",
      "federal     66\n",
      "courts      52\n",
      "v           36\n",
      "Name: stopworded, dtype: int64\n",
      "*****\n",
      "CONTEXT for the Fourteenth Amendment in August 1968\n",
      "speech by Mr. BROWN of Ohio in 1968-08-01\n",
      "Mr. Speaker. it is certainly appropriate in these troubled times that we pay tribute to those member\n",
      "speech by Mr. MANSFIELD in 1968-08-01\n",
      "Mr. President. I ask unanimous consent that the reading of the Journal of the proceedings of Wednesd\n",
      "COLLOCATES for the Fourteenth Amendment in August 1968\n",
      "men         4\n",
      "langston    4\n",
      "mr          3\n",
      "ohio        3\n",
      "members     3\n",
      "Name: stopworded, dtype: int64\n",
      "*****\n",
      "CONTEXT for the Civil Rights Act in May 1968\n",
      "speech by Mr. LONG of Louisiana in 1968-05-17\n",
      "Mr. President. it seems to me that the amendment I have prepared would go far toward solving the alm\n",
      "speech by Mr. JOELSON in 1968-05-28\n",
      "Mr. Chairman. it is never pleasant for a member to disagree with his own committee. I hesitate to do\n",
      "***\n",
      "COLLOCATES for the Civil Rights Act in May 1968\n",
      "president    21\n",
      "right        17\n",
      "firearms     17\n",
      "people       16\n",
      "states       16\n",
      "Name: stopworded, dtype: int64\n",
      "*****\n",
      "CONTEXT for the Civil Rights Act in August 1968\n",
      "speech by Mr. ERVIN in 1968-08-02\n",
      "Mr. President. the constitution of my native State of North Carolina has always contained a warning \n",
      "speech by Mr. CORMAN in 1968-08-01\n",
      "Mr. Speaker. as we near the end of this session. I would like to speak to the action taken by the Co\n",
      "COLLOCATES for the Civil Rights Act in August 1968\n",
      "court           140\n",
      "supreme          87\n",
      "constitution     73\n",
      "congress         60\n",
      "power            49\n",
      "Name: stopworded, dtype: int64\n",
      "*****\n",
      "CONTEXT for section 5 in May 1968\n",
      "speech by Mr. WHITTEN in 1968-05-01\n",
      "Mr. Chairman. I rise in opposition to the amendment. The Members will note. if they will listen. tha\n",
      "speech by Mr. BOW in 1968-05-01\n",
      "Mr. Chairman. my amendment would permit the agencies provided for in this bill to spend during the f\n",
      "***\n",
      "COLLOCATES for section 5 in May 1968\n",
      "amendment       14\n",
      "expenditures    13\n",
      "committee       13\n",
      "bill            12\n",
      "section         12\n",
      "Name: stopworded, dtype: int64\n",
      "*****\n",
      "CONTEXT for section 5 in August 1968\n",
      "speech by Mr. ERVIN in 1968-08-02\n",
      "Mr. President. the constitution of my native State of North Carolina has always contained a warning \n",
      "speech by Mr. SPARKMAN in 1968-08-02\n",
      "The bill creates a career service for information officers of the U.S. Information Agency. The bill \n",
      "COLLOCATES for section 5 in August 1968\n",
      "court           138\n",
      "supreme          86\n",
      "constitution     73\n",
      "power            46\n",
      "states           42\n",
      "Name: stopworded, dtype: int64\n",
      "*****\n",
      "CONTEXT for the TaftHartley Act in May 1968\n",
      "speech by Mr. ERVIN in 1968-05-09\n",
      "Mr. President. sometimes some of our friends in construing the Constitution agree with the Constitut\n",
      "speech by Mr. ERVIN in 1968-05-09\n",
      "The Wagner Act. as amended by the TaftHartley Act constitutes the National Labor Relations Act. This\n",
      "***\n",
      "COLLOCATES for the TaftHartley Act in May 1968\n",
      "court           53\n",
      "jurisdiction    33\n",
      "congress        24\n",
      "appellate       19\n",
      "united          15\n",
      "Name: stopworded, dtype: int64\n",
      "*****\n",
      "CONTEXT for the TaftHartley Act in August 1968\n",
      "speech by Mr. BROWN of Ohio in 1968-08-01\n",
      "Mr. Speaker. it is certainly appropriate in these troubled times that we pay tribute to those member\n",
      "speech by Mr. MANSFIELD in 1968-08-01\n",
      "Mr. President. I ask unanimous consent that the reading of the Journal of the proceedings of Wednesd\n",
      "COLLOCATES for the TaftHartley Act in August 1968\n",
      "men         4\n",
      "langston    4\n",
      "mr          3\n",
      "ohio        3\n",
      "members     3\n",
      "Name: stopworded, dtype: int64\n",
      "*****\n",
      "CONTEXT for the 14th amendment in May 1968\n",
      "speech by Mr. TYDINGS in 1968-05-20\n",
      "Mr. President. article I. section 9. clause 2 of the Constitution states categorically that \"The pri\n",
      "speech by Mr. TOWER in 1968-05-01\n",
      "Mr. President. we shall observe the anniversary of the adoption of the first 10 amendments to the Co\n",
      "***\n",
      "COLLOCATES for the 14th amendment in May 1968\n",
      "habeas     55\n",
      "corpus     54\n",
      "writ       40\n",
      "state      35\n",
      "federal    33\n",
      "Name: stopworded, dtype: int64\n",
      "*****\n",
      "CONTEXT for the 14th amendment in August 1968\n",
      "speech by Mr. ERVIN in 1968-08-02\n",
      "Mr. President. the constitution of my native State of North Carolina has always contained a warning \n",
      "speech by Mr. ERVIN in 1968-08-02\n",
      "Mr. President. article II of the Constitution expressly provides that the President may appoint a Su\n",
      "COLLOCATES for the 14th amendment in August 1968\n",
      "court             163\n",
      "supreme            98\n",
      "constitution       83\n",
      "power              56\n",
      "constitutional     47\n",
      "Name: stopworded, dtype: int64\n"
     ]
    }
   ],
   "source": [
    "for word1 in top_laws['law'][:10]:\n",
    "    \n",
    "  # get the rownumbers of the n speeches that use word1 the most\n",
    "    word1_may_speechnumbers = may_1968['speech'].str.count(word1).nlargest(2)  ########### <-- play with this number *********\n",
    "    word1_august_speechnumbers = august_1968['speech'].str.count(word1).nlargest(2)  ########### <-- play with this number *********\n",
    "\n",
    "    # get the speeches that mentioned word1 the most\n",
    "    word1_may_context = may_1968.loc[list(word1_may_speechnumbers.index)]\n",
    "    word1_august_context = august_1968.loc[list(word1_august_speechnumbers.index)]\n",
    "\n",
    "    # clean up the data\n",
    "    word1_may_context['speech'] = word1_may_context['speech'].str.replace('[^\\w\\s]','').str.lower() # remove punctuation, lowercase\n",
    "    word1_may_context['stopworded'] = word1_may_context['speech'].str.replace(stopwords_regex, '') #stopwording\n",
    "\n",
    "    word1_august_context['speech'] = word1_august_context['speech'].str.replace('[^\\w\\s]','').str.lower() # remove punctuation, lowercase\n",
    "    word1_august_context['stopworded'] = word1_august_context['speech'].str.replace(stopwords_regex, '') #stopwording\n",
    "\n",
    "    # print some context for May\n",
    "    print(\"*****\")\n",
    "    print(\"CONTEXT for \"+word1+\" in May 1968\")\n",
    "    for speechnumber in list(word1_may_speechnumbers.index)[:2]:  ########### <-- play with this number *********\n",
    "        speaker = may_1968['speaker'][speechnumber]\n",
    "        date = may_1968['date'][speechnumber]\n",
    "        print('speech by '+ speaker + ' in ' + date)\n",
    "        print(may_1968['speech'][speechnumber][:100])  ########### <-- play with this number *********\n",
    "\n",
    "    # count the other words that appear in the context of word1 in May\n",
    "    word1_may_context_count = word1_may_context[\"stopworded\"].str.split().explode().dropna().value_counts()\n",
    "    print(\"***\")\n",
    "    print(\"COLLOCATES for \" + word1 + \" in May 1968\")\n",
    "    print(word1_may_context_count[:5])  # <-- play with this number\n",
    "\n",
    "    # print some context for August\n",
    "    print(\"*****\")\n",
    "    print(\"CONTEXT for \"+ word1+\" in August 1968\")\n",
    "    for speechnumber in list(word1_august_speechnumbers.index)[:2]:  ########### <-- play with this number *********\n",
    "        speaker = august_1968['speaker'][speechnumber]\n",
    "        date = august_1968['date'][speechnumber]\n",
    "        print('speech by '+ speaker+ ' in ' + date)\n",
    "        print(august_1968['speech'][speechnumber][:100])  ########### <-- play with this number *********\n",
    "\n",
    "    # count the other words that appear in the context of word1 in 2010\n",
    "    word1_august_context_count = word1_august_context[\"stopworded\"].str.split().explode().dropna().value_counts()\n",
    "    print(\"COLLOCATES for \" + word1 + \" in August 1968\")\n",
    "    print(word1_august_context_count[:5])   ########### <-- play with this number *********"
   ]
  },
  {
   "cell_type": "markdown",
   "metadata": {},
   "source": [
    "## Implementing KeyWords in Context (KWIC)"
   ]
  },
  {
   "cell_type": "markdown",
   "metadata": {},
   "source": [
    "For this last exercise we will find keywords in context (KWIC). You can think of KWIC's output like the lines of a concordance, where you look up a passage and find the context.  We saw in the reading that historian Luke Blaxill used KWIC to make arguments about how different words were used in British election speeches.\n",
    "\n",
    "KWIC is not the only view you need to understand the context of speeches, but it is a useful one.\n",
    "\n",
    "To produce this output, we will split the text into n-grams where \"n\" stands for any number. For example, a text split into single words (like our data frame in the previous example) is split into 1-grams (also just called \"tokens\"). 3-grams split the text into units that are 3 words long. 5-grams split the text into units that are 5 words long. "
   ]
  },
  {
   "cell_type": "markdown",
   "metadata": {},
   "source": [
    "Now let's write a function that returns our keyword in context. You don't need to follow the code, but you should know that you can always use the function below when you want to generate a KWIC view."
   ]
  },
  {
   "cell_type": "code",
   "execution_count": 72,
   "metadata": {},
   "outputs": [],
   "source": [
    "keyword = 'Constitution'\n",
    "\n",
    "keyword_df = may_1968[may_1968['speech'].str.contains(keyword)].copy() # search the text for the presence of our keyword \n",
    "\n",
    "def KWIC(body):\n",
    "    n = 5 # specify the number of surrounding words to use before and after the keyword\n",
    "    \n",
    "    words = body.split() # split the words into tokens\n",
    "    keyword_index = 0\n",
    "    \n",
    "    # The following for loop iterates through each word in the text. If our keyword is found, the for loop stores its index. \n",
    "    # But, why are we storing the index? As you might remember, the index is a numerical representation of the row's position.\n",
    "    # It can also be thought of as a unique name the computer uses to identify a row. We can call the index to return JUST these rows.\n",
    "    for index, word in enumerate(words): \n",
    "        if keyword in word: \n",
    "            keyword_index = index\n",
    "            break\n",
    "    \n",
    "    before_keyword = words[max(0, keyword_index - n):keyword_index] # store the words that come before the keyword, up to our specified number \n",
    "    after_keyword = words[keyword_index:keyword_index + n] # store the words that come after the keyword, up to our specified number \n",
    "    return ' '.join(before_keyword + after_keyword) # return the keyword in its context\n",
    "\n",
    "keyword_df['context'] = keyword_df['speech'].apply(KWIC)"
   ]
  },
  {
   "cell_type": "code",
   "execution_count": 73,
   "metadata": {},
   "outputs": [
    {
     "data": {
      "text/html": [
       "<div>\n",
       "<style scoped>\n",
       "    .dataframe tbody tr th:only-of-type {\n",
       "        vertical-align: middle;\n",
       "    }\n",
       "\n",
       "    .dataframe tbody tr th {\n",
       "        vertical-align: top;\n",
       "    }\n",
       "\n",
       "    .dataframe thead th {\n",
       "        text-align: right;\n",
       "    }\n",
       "</style>\n",
       "<table border=\"1\" class=\"dataframe\">\n",
       "  <thead>\n",
       "    <tr style=\"text-align: right;\">\n",
       "      <th></th>\n",
       "      <th>context</th>\n",
       "    </tr>\n",
       "  </thead>\n",
       "  <tbody>\n",
       "    <tr>\n",
       "      <th>50430</th>\n",
       "      <td>first 10 amendments to the Constitution. known...</td>\n",
       "    </tr>\n",
       "    <tr>\n",
       "      <th>50435</th>\n",
       "      <td>the 55 members of the Constitutional Conventio...</td>\n",
       "    </tr>\n",
       "    <tr>\n",
       "      <th>50489</th>\n",
       "      <td>the Supreme Court amended the Constitution by ...</td>\n",
       "    </tr>\n",
       "    <tr>\n",
       "      <th>50491</th>\n",
       "      <td>incorporate this notion into the Constitution ...</td>\n",
       "    </tr>\n",
       "    <tr>\n",
       "      <th>50494</th>\n",
       "      <td>observe consistent with the Federal Constituti...</td>\n",
       "    </tr>\n",
       "    <tr>\n",
       "      <th>...</th>\n",
       "      <td>...</td>\n",
       "    </tr>\n",
       "    <tr>\n",
       "      <th>69885</th>\n",
       "      <td>the fifth amendment to the Constitution of the...</td>\n",
       "    </tr>\n",
       "    <tr>\n",
       "      <th>70383</th>\n",
       "      <td>of speech provision of the Constitution. I hop...</td>\n",
       "    </tr>\n",
       "    <tr>\n",
       "      <th>70536</th>\n",
       "      <td>of Rights in the U.S. Constitution. The poor p...</td>\n",
       "    </tr>\n",
       "    <tr>\n",
       "      <th>70897</th>\n",
       "      <td>defend our lives and our Constitution. The mil...</td>\n",
       "    </tr>\n",
       "    <tr>\n",
       "      <th>71658</th>\n",
       "      <td>whose headquarters building at 101 Constitutio...</td>\n",
       "    </tr>\n",
       "  </tbody>\n",
       "</table>\n",
       "<p>404 rows × 1 columns</p>\n",
       "</div>"
      ],
      "text/plain": [
       "                                                 context\n",
       "50430  first 10 amendments to the Constitution. known...\n",
       "50435  the 55 members of the Constitutional Conventio...\n",
       "50489  the Supreme Court amended the Constitution by ...\n",
       "50491  incorporate this notion into the Constitution ...\n",
       "50494  observe consistent with the Federal Constituti...\n",
       "...                                                  ...\n",
       "69885  the fifth amendment to the Constitution of the...\n",
       "70383  of speech provision of the Constitution. I hop...\n",
       "70536  of Rights in the U.S. Constitution. The poor p...\n",
       "70897  defend our lives and our Constitution. The mil...\n",
       "71658  whose headquarters building at 101 Constitutio...\n",
       "\n",
       "[404 rows x 1 columns]"
      ]
     },
     "execution_count": 73,
     "metadata": {},
     "output_type": "execute_result"
    }
   ],
   "source": [
    "keyword_df[['context']]"
   ]
  },
  {
   "cell_type": "markdown",
   "metadata": {},
   "source": [
    "This data frame is a little difficult to look at, so I am going to export the contents to a file.  You can find this file in the left-hand sidebar of Jupyter and open it on your home computer to inspect later via an application such as excel."
   ]
  },
  {
   "cell_type": "code",
   "execution_count": 75,
   "metadata": {},
   "outputs": [],
   "source": [
    "keyword_df['context'].to_csv('KWIC_example_keyword_constitution_may_1968.csv', sep = ' ', index=False, header = True)"
   ]
  },
  {
   "cell_type": "markdown",
   "metadata": {},
   "source": [
    "## Optional Section"
   ]
  },
  {
   "cell_type": "markdown",
   "metadata": {},
   "source": [
    "## Let's return to extracting named entities. Let's make it faster and more efficient."
   ]
  },
  {
   "cell_type": "markdown",
   "metadata": {},
   "source": [
    "We'd probably like to search for multipe categories.  \n",
    "\n",
    "Let's create a function that will apply named entity recognition for a single category, count the stuff over months, find the stuff mentioned over multiple months, and plot it in a line chart."
   ]
  },
  {
   "cell_type": "markdown",
   "metadata": {},
   "source": [
    "First, let's just run the named entity recognizer one more time over our data to get a list of all possible named entities."
   ]
  },
  {
   "cell_type": "markdown",
   "metadata": {},
   "source": [
    " ***This may take some time. Give it an hour or downsample.***"
   ]
  },
  {
   "cell_type": "markdown",
   "metadata": {},
   "source": [
    "Here is the basic code to extract named entities from each speech for Congress in the year 1968.  \n",
    "\n",
    "    named_entities1 = [nlp(doc) for doc in congress_1968['speech']]\n",
    "    \n",
    "-- or with .apply:\n",
    "\n",
    "    named_entities1 = congress_1968['speech'].apply(lambda x: nlp(x))\n",
    "    \n",
    "Both will get you to the same place. \n",
    "\n",
    "Below, we add some fancy new functions to (1) parallelize for speed and (2) add a progress report that will tell us how far we are through the corpus.  You do not need to know how the code works; just enjoy the power!"
   ]
  },
  {
   "cell_type": "markdown",
   "metadata": {},
   "source": [
    "#### Processing Over All of 1968 with a Progress Bar"
   ]
  },
  {
   "cell_type": "code",
   "execution_count": null,
   "metadata": {},
   "outputs": [],
   "source": [
    "def logged_apply(g, func, *args, **kwargs):\n",
    "    step_percentage = 100. / len(g)\n",
    "    import sys\n",
    "    sys.stdout.write('apply progress:   0%')\n",
    "    sys.stdout.flush()\n",
    "\n",
    "    def logging_decorator(func):\n",
    "        def wrapper(*args, **kwargs):\n",
    "            progress = wrapper.count * step_percentage\n",
    "            progress1 = round(progress, 3)\n",
    "            if (progress *100000) % 10000 == 0:  \n",
    "                sys.stdout.write('\\033[D \\033[D' * 4 + format(progress, '3.0f') + '%')\n",
    "            sys.stdout.flush()\n",
    "            wrapper.count += 1\n",
    "            return func(*args, **kwargs)\n",
    "        wrapper.count = 0\n",
    "        return wrapper\n",
    "\n",
    "    logged_func = logging_decorator(func)\n",
    "    res = g.apply(logged_func, *args, **kwargs)\n",
    "    sys.stdout.write('\\033[D \\033[D' * 4 + format(100., '3.0f') + '%' + '\\n')\n",
    "    sys.stdout.flush()\n",
    "    return res"
   ]
  },
  {
   "cell_type": "code",
   "execution_count": null,
   "metadata": {},
   "outputs": [],
   "source": [
    "named_entities1 = logged_apply(congress_1968['speech'], lambda x: nlp(x))"
   ]
  },
  {
   "cell_type": "markdown",
   "metadata": {},
   "source": [
    "#### Processing in Parallel With Multiple Cores"
   ]
  },
  {
   "cell_type": "code",
   "execution_count": 113,
   "metadata": {},
   "outputs": [],
   "source": [
    "import multiprocessing\n",
    "import numpy as np\n",
    "from multiprocessing import Pool\n",
    "import marshal\n",
    "\n",
    "n = multiprocessing.cpu_count()\n",
    "\n",
    "def parallelize_operation(df, func, n_cores = n):\n",
    "    df_split = np.array_split(df, n_cores)\n",
    "    pool = Pool(n)\n",
    "    df = pd.concat(pool.map(func, df_split))\n",
    "    pool.close()\n",
    "    pool.join()\n",
    "    return df\n",
    "\n",
    "def lambda_nlp(df): \n",
    "    out = df.apply(nlp)\n",
    "    return out"
   ]
  },
  {
   "cell_type": "code",
   "execution_count": null,
   "metadata": {},
   "outputs": [],
   "source": [
    "named_entities1 = parallelize_operation(congress_1968['speech'], lambda_nlp)"
   ]
  },
  {
   "cell_type": "markdown",
   "metadata": {},
   "source": [
    "#### A Function to Do Our Counting and Mapping"
   ]
  },
  {
   "cell_type": "markdown",
   "metadata": {},
   "source": [
    "Let's define a function, ner_mapper.\n",
    "\n",
    "The point of our creating a function here is to show that we can recapitulate all of the code in this notebook, starting with the original dataframe, in such a way that we can efficiently mine the text for multiple kinds of named entity (ORG, GPE, PERSON, etc), thus allowing us to make multiple graphs.\n",
    "\n",
    "Following the line beginning with \"def\", all of the code *inside* the function is code that you have seen before.  \n",
    "\n",
    "Here is what happens.\n",
    "\n",
    "In the line beginning with \"def,\" we define a new function, naming it, ner_mapper.  We also tell Python that our new function will take three objects:\n",
    "\n",
    "   * dataframe1 - a dataframe with column \"Month-Year\"\n",
    "   * column1 - a parsed column of named entities, corresponding to the \"text\" column of dataframe1\n",
    "   * label1 - a label of Spacy named entity categories, for example 'GPE' or 'ORG'\n",
    "   \n",
    "Inside the function:\n",
    "\n",
    "   * We filter just for the named entities that match label1.\n",
    "   * We group those named entities by month-year and count how many there are.\n",
    "   * We find the named entities that are spoken about over 3 months or more.\n",
    "   * We plot a line graph showing those named entities over time.\n",
    "   * We save the figure.\n"
   ]
  },
  {
   "cell_type": "code",
   "execution_count": 83,
   "metadata": {},
   "outputs": [],
   "source": [
    "import numpy as np\n",
    "import random\n",
    "import matplotlib.pyplot as plt\n",
    "palette = plt.get_cmap('tab20b') # this tells matplotlib what colors to use.  you can play with this to change the colors."
   ]
  },
  {
   "cell_type": "code",
   "execution_count": 84,
   "metadata": {},
   "outputs": [],
   "source": [
    "def ner_mapper(dataframe1, column1, label1):\n",
    "    \n",
    "    print('*****************')\n",
    "    print('LOOKING FOR ', label1)\n",
    "    print('**')\n",
    "    \n",
    "    # filter only for the named entities matching label1 and convert Spacy data to a list of strings\n",
    "    new_column = [[str(ent) for ent in doc.ents if ent.label_ == label1] for doc in column1]\n",
    "    \n",
    "    # add named entities back to dataframe, explode data\n",
    "    dataframe1['stuff'] = new_column    \n",
    "    dataframe1 = dataframe1.explode('stuff').dropna()\n",
    "    \n",
    "    # a cleaning step\n",
    "    stopwords = ['Chair', 'Speaker', 'Congress', 'House', 'Senate', 'State', 'Chairman']\n",
    "    dataframe2 = [row for row in dataframe1 if dataframe1['stuff'] not in stopwords]\n",
    "    dataframe2['stuff'] = dataframe2['stuff'].str.replace('the United States', 'U.S.')\n",
    "    dataframe2['stuff'] = dataframe2['stuff'].str.title() # make punctuation consistent\n",
    "    dataframe2['stuff'] = dataframe2['stuff'].str.replace('[^\\w\\s]','') # remove punctuation\n",
    "    \n",
    "    # count entities by month_year\n",
    "    stuff_per_month = dataframe2.groupby(['month_year', 'stuff'])['stuff'].count()\n",
    "    stuff_per_month = pd.DataFrame(stuff_per_month) # convert from Series to DataFrame\n",
    "    stuff_per_month.columns = ['count'] # label the one column \"count\"\n",
    "    stuff_per_month = stuff_per_month.reset_index() # turn the multi-index into columns 'year' and 'vocab'\n",
    "    stuff_per_month[:5]\n",
    "\n",
    "    # find max per month\n",
    "    top_stuff_per_month = stuff_per_month.groupby(['month_year']).apply(lambda x: x.sort_values('count', ascending = False)).reset_index(drop=True)\n",
    "    top_stuff_per_month = top_stuff_per_month.groupby('month_year').head(3)\n",
    "    top_stuff_per_month[:20]      \n",
    "\n",
    "    top_over_time = stuff_per_month[stuff_per_month['stuff'].isin(top_stuff_per_month['stuff'].tolist() + top_stuff['stuff'].tolist())] # get the occurrences per month of the stuff talked about in multiple monhts\n",
    "    \n",
    "    # format time\n",
    "    top_over_time.loc[:,'month_year'] = pd.to_datetime(top_over_time['month_year'])\n",
    "\n",
    "    # Graph entities \n",
    "    plt.clf() # clear last output\n",
    "    plt.figure(figsize=(8, 6), dpi=300)\n",
    "    \n",
    "    plt.style.use('seaborn-darkgrid') # this gives us a grid with a dark background.  you can play with this to change the style.\n",
    "    num=0\n",
    "\n",
    "    for entity in set(top_over_time['stuff']): # one loop for each color/line\n",
    "        \n",
    "        # get points\n",
    "        num+=1 # for each new word, the counter 'num' changes \n",
    "        x = top_over_time.loc[top_over_time['stuff'] == entity, 'month_year'] # x points\n",
    "        y = top_over_time.loc[top_over_time['stuff'] == entity, 'count'] # y points\n",
    "        x2, y2 = zip(*sorted(zip(x, y))) # get everything in the right order\n",
    "        \n",
    "        # make a line\n",
    "        plt.plot(x2, # x axis \n",
    "             y2,  # y axis\n",
    "             '-o', # make dots with lines\n",
    "             color=palette(num), alpha=0.7, label=entity) # num tells the plot to choose a different color this time\n",
    "        \n",
    "        # make labels\n",
    "        y3 = max(y2) # label lines at their highest point\n",
    "        entity_points = top_over_time[top_over_time['stuff'] == entity]\n",
    "        x3 = random.choice(entity_points[entity_points['count'] == max(entity_points['count'])]['month_year'].tolist()) # more for finding the highest point\n",
    "        plt.text(x3, y3, entity, color = palette(num), size = 10) # this is the code to supply a label for each line\n",
    "\n",
    "    legd = plt.legend(loc='center left', bbox_to_anchor=(1, 0.5)) # move the legend\n",
    "    \n",
    "    plt.xticks(rotation=90)\n",
    "    plt.title(\"Figure: Top \" + label1 + \"s Mentioned in Congress, 1968\", loc='left', fontsize=25, fontweight=5, color='Blue')\n",
    "    plt.xlabel(\"Year\")\n",
    "    plt.ylabel(\"Count\")\n",
    "    plt.subplots_adjust(right=0.9) # add padding to the right so it doesn't get cut off\n",
    "    plt.savefig('congress-1968-ner-for-' + label1 + '-.jpg', bbox_inches='tight') # save - with extra commands so it doesn't get cut off \n",
    "    plt.figure()\n"
   ]
  },
  {
   "cell_type": "markdown",
   "metadata": {},
   "source": [
    "Try out our new function. It should run smoothly because we've already gathered the time-intensive NER information in a separate dataframe, named_entities."
   ]
  },
  {
   "cell_type": "code",
   "execution_count": null,
   "metadata": {},
   "outputs": [],
   "source": [
    "#ner_mapper(congress_1968, named_entities1, 'EVENT')"
   ]
  },
  {
   "cell_type": "markdown",
   "metadata": {},
   "source": [
    "Now, let's write a for loop to cycle through multiple categories.  ***This will also take time. You're welcome to skip it. Just notice that we can compare lots of analyses if we reduce our complex cold to a function and loop through multiple aspects of the data.***"
   ]
  },
  {
   "cell_type": "code",
   "execution_count": null,
   "metadata": {},
   "outputs": [],
   "source": [
    "#for cat in ['LOC', 'PERSON', 'GPE', 'EVENT', 'ORG']:\n",
    "#    ner_mapper(congress_1968, named_entities1, cat)"
   ]
  },
  {
   "cell_type": "markdown",
   "metadata": {},
   "source": [
    "## Do all the minutes!"
   ]
  },
  {
   "cell_type": "markdown",
   "metadata": {},
   "source": [
    "You're probably already hating the process of waiting for Spacy to run nlp() to parse the named entities.  That's right -- it's time consuming and slow, and that's for one of our smallest datasets. \n",
    "\n",
    "If or when you decide to run Spacy's NER on your own dataset, you'll probably have to deal with a lot of waiting. However, you can follow some of the processes in this notebook to help you along:\n",
    "\n",
    "  * You can try different modes of doing the same analysis. You can use timing code to keep track of which process is fastest.\n",
    "  * You can write functions that work on a small subset of data. \n",
    "  * Once you have a working prototype for your code, you can apply your functions to a larger set of data and leave the computer running all night -- or all week or month if you have to.  \n",
    "\n",
    "If you're running code for a full day or even week, there are extra options that will allow you to start your Python code and walk away, downloading the results when everything is finished. Check in with the M2 staff if you need more guidance about running slow Python code.\n",
    "\n",
    "For THIS data, however, we've already run the boring part for you!  We ran the Spacy parser on the full dataset overnight, and stored the results in the  folder below.  The new function that follows, ner_mapper_congress, reads in the stored datasets for each possible NER label.  mYou just have to run the function, loading saved information."
   ]
  },
  {
   "cell_type": "code",
   "execution_count": null,
   "metadata": {},
   "outputs": [],
   "source": [
    "##### Here's the code to extract the named entities from the entire set of congress 1967-2010:\n",
    "#named_entities = [nlp(doc) for doc in congress['speech']] # without progress bar \n",
    "#named_entities = logged_apply(congress['speech'], lambda x: nlp(x)) # with progress bar\n",
    "named_entities = parallelize_operation(congress_1968['speech'], lambda_nlp) # over multiple cores"
   ]
  },
  {
   "cell_type": "code",
   "execution_count": null,
   "metadata": {},
   "outputs": [],
   "source": [
    "#### save each entity as a csv for later use\n",
    "for cat in ['LAW', 'LOC', 'PERSON', 'GPE', 'EVENT', 'ORG', 'LANGUAGE']:\n",
    "        \n",
    "    print('*****************')\n",
    "    print('LOOKING FOR ', cat)\n",
    "    print('**')\n",
    "    \n",
    "    # filter only for the named entities matching label1 and convert Spacy data to a list of strings\n",
    "    new_column = [[str(ent) for ent in doc.ents if ent.label_ == cat] for doc in named_entities]\n",
    "    \n",
    "    # count overall instances of named entities\n",
    "    stuffcount = []\n",
    "    for row in new_column:\n",
    "        for item in row:\n",
    "            stuffcount.append(str(item))\n",
    "    stuffcount[:5]\n",
    "    top_stuff = pd.Series.value_counts(stuffcount).nlargest(10)\n",
    "    top_stuff = pd.DataFrame(top_stuff).reset_index()\n",
    "    top_stuff.columns = ['stuff', 'count']\n",
    "    top_stuff = top_stuff[top_stuff['count'] > 1]\n",
    "\n",
    "    print(\"The top instances of \" + cat + \" are:\")\n",
    "    print(top_stuff[:5])\n",
    "\n",
    "    # add named entities back to dataframe, explode data, count entities by Month-Year\n",
    "    dataframe1['stuff'] = new_column\n",
    "    dataframe1 = dataframe1.explode('stuff').dropna()\n",
    "    stuff_per_month = dataframe1.groupby(['month_year', 'stuff'])['stuff'].count()\n",
    "    stuff_per_month = pd.DataFrame(stuff_per_month) # convert from Series to DataFrame\n",
    "    stuff_per_month.columns = ['count'] # label the one column \"count\"\n",
    "    stuff_per_month = stuff_per_month.reset_index() # turn the multi-index into columns 'year' and 'vocab'\n",
    "    stuff_per_month.to_csv('named-entities-per-month-for-congress-1967-2010-' + cat + \".csv\")     "
   ]
  },
  {
   "cell_type": "code",
   "execution_count": null,
   "metadata": {},
   "outputs": [],
   "source": [
    "def ner_mapper_all_congress(label1):\n",
    "\n",
    "    stuff_per_month = pd.read_csv('named-entities-per-month-for-congress-1967-2010-' + label1 + \".csv\") # save a copy of the data\n",
    "\n",
    "    # find max per month\n",
    "    top_stuff_per_month = stuff_per_month.groupby(['month_year']).apply(lambda x: x.sort_values('count', ascending = False)).reset_index(drop=True)\n",
    "    top_stuff_per_month = top_stuff_per_month.groupby('month_year').head(3)\n",
    "    top_stuff_per_month[:20]      \n",
    "\n",
    "    top_over_time = stuff_per_month[stuff_per_month['stuff'].isin(top_stuff_per_month['stuff'].tolist() + top_stuff['stuff'].tolist())] # get the occurrences per month of the stuff talked about in multiple monhts\n",
    "    \n",
    "    # format time\n",
    "    top_over_time.loc[:,'month_year'] = pd.to_datetime(top_over_time['month_year'])\n",
    "\n",
    "    # Graph entities \n",
    "    plt.clf() # clear last output\n",
    "    plt.figure(figsize=(8, 6), dpi=300)\n",
    "    \n",
    "    plt.style.use('seaborn-darkgrid') # this gives us a grid with a dark background.  you can play with this to change the style.\n",
    "    num=0\n",
    "\n",
    "    for entity in set(top_over_time['stuff']): # one loop for each color/line\n",
    "        \n",
    "        # get points\n",
    "        num+=1 # for each new word, the counter 'num' changes \n",
    "        x = top_over_time.loc[top_over_time['stuff'] == entity, 'month_year'] # x points\n",
    "        y = top_over_time.loc[top_over_time['stuff'] == entity, 'count'] # y points\n",
    "        x2, y2 = zip(*sorted(zip(x, y))) # get everything in the right order\n",
    "        \n",
    "        # make a line\n",
    "        plt.plot(x2, # x axis \n",
    "             y2,  # y axis\n",
    "             '-o', # make dots with lines\n",
    "             color=palette(num), alpha=0.7, label=entity) # num tells the plot to choose a different color this time\n",
    "        \n",
    "        # make labels\n",
    "        y3 = max(y2) # label lines at their highest point\n",
    "        entity_points = top_over_time[top_over_time['stuff'] == entity]\n",
    "        x3 = random.choice(entity_points[entity_points['count'] == max(entity_points['count'])]['month_year'].tolist()) # more for finding the highest point\n",
    "        plt.text(x3, y3, entity, color = palette(num), size = 10) # this is the code to supply a label for each line\n",
    "\n",
    "    legd = plt.legend(loc='center left', bbox_to_anchor=(1, 0.5)) # move the legend\n",
    "    \n",
    "    plt.xticks(rotation=90)\n",
    "    plt.title(\"Figure: Top \" + label1 + \"s Mentioned in Congress, 1967-2010\", loc='left', fontsize=25, fontweight=5, color='Blue')\n",
    "    plt.xlabel(\"Year\")\n",
    "    plt.ylabel(\"Count\")\n",
    "    plt.subplots_adjust(right=0.9) # add padding to the right so it doesn't get cut off\n",
    "    plt.savefig('congress-1968-ner-for-' + label1 + '-.jpg', bbox_inches='tight') # save - with extra commands so it doesn't get cut off \n",
    "    plt.figure()\n"
   ]
  },
  {
   "cell_type": "code",
   "execution_count": null,
   "metadata": {},
   "outputs": [],
   "source": [
    "for cat in ['LAW', 'LOC', 'PERSON', 'GPE', 'EVENT', 'ORG', 'LANGUAGE']:\n",
    "    ner_mapper_all_congress(cat)"
   ]
  },
  {
   "cell_type": "code",
   "execution_count": null,
   "metadata": {},
   "outputs": [],
   "source": []
  }
 ],
 "metadata": {
  "kernelspec": {
   "display_name": "Python 3",
   "language": "python",
   "name": "python3"
  },
  "language_info": {
   "codemirror_mode": {
    "name": "ipython",
    "version": 3
   },
   "file_extension": ".py",
   "mimetype": "text/x-python",
   "name": "python",
   "nbconvert_exporter": "python",
   "pygments_lexer": "ipython3",
   "version": "3.7.4"
  }
 },
 "nbformat": 4,
 "nbformat_minor": 4
}
