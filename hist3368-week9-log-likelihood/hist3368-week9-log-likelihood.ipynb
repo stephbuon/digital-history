{
 "cells": [
  {
   "cell_type": "markdown",
   "metadata": {},
   "source": [
    "# Hist 3368 - Week 9: Measuring Distinctiveness with Log Likelihood "
   ]
  },
  {
   "cell_type": "markdown",
   "metadata": {},
   "source": [
    "#### By Jo Guldi and Steph Buongiorno"
   ]
  },
  {
   "cell_type": "markdown",
   "metadata": {},
   "source": [
    "For citation information, please see the \"Source Information\" section listed in the associated README file: https://github.com/stephbuon/digital-history/tree/master/hist3368-week9-log-likelihood"
   ]
  },
  {
   "cell_type": "markdown",
   "metadata": {},
   "source": [
    "We've been counting many things so far: stop-worded words and words from a controlled vocabulary, words over time, grammatical constructions and parts of speech.  \n",
    "\n",
    "Sometimes, however, what one really wants to know is not the *raw* counts, but rather how two or more categories of counts compare to each other.\n",
    "\n",
    "For instance, imagine that I have a dataset composed of my emails and my friend's emails. The top words for both of us are almost all the same: \"time,\" \"when,\" \"dear,\" \"friend,\" \"meet\", \"thanks,\" etc.  They aren't very informative.  \n",
    "\n",
    "However, if I measure the words that only *I* use and my friend doesn't, those words are very interesting: \"bike,\" \"handlebar,\" \"lube\"\n",
    "\n",
    "If I measure the friends that only my friend uses, but I never use, those words are also very revealing: \"scuba,\" \"bootie,\" \"backroll\"\n",
    "    \n",
    "Looking for the most *distinctive* words for each of us takes you straight to the give-away clues that I'm a cyclist and my friend is a cave-diver. \n",
    "\n",
    "### Log Likelihood as a Score of Distinctiveness\n",
    "\n",
    "Just so, in this notebook, we're going to learn how to use one of the most common statistical measures for calculating \"distinctiveness.\"  That measure is \"log likelihood.\"  Technically, it's a mathematical improvement on the naive version that I describe here, where I look for my-email(not my-friend's-email), because it performs a calculation that results in a \"log likelihood score,\" which is a guess by the computer of how \"distinctive\" a word is.\n",
    "\n",
    "Applied to the example above, the output might look like this: \n",
    "\n",
    "##### Jo's most distinctive words, with their distinctiveness scores calculated by log-likelihood\n",
    "\n",
    "    bike : 1\n",
    "    handlebar: 1\n",
    "    lube: 1\n",
    "    chain : .3\n",
    "    path : .3\n",
    "\n",
    "##### Steph's most distinctive words, with their distinctiveness scores calculated by log-likelihood\n",
    "\n",
    "    scuba : 1\n",
    "    backroll: 1\n",
    "    bootie: 1\n",
    "    buoyancy: .9\n",
    "    tank : .3\n",
    "    mask : .3\n",
    "    cave : .3\n",
    "\n",
    "Notice that there's a lot more information with these scores than in the way I originally described the experiment. The score of .3 for \"path,\" \"cave,\" etc. Show you that there are some words that I tend to use more than my friend, and conversely her more than me -- but we both *sometimes* use these words.  They're only 30% distinctive, whereas words like \"bike\" or \"scuba\" that only one of us uses are 100% distinctive, and therefore have a higher score. \n",
    "\n",
    "### The Log Likelihood equation\n",
    "\n",
    "Here is what it looks like for one word, \"bike.\" We need four pieces of input and one calculation: \n",
    "    \n",
    "        a = how many times the word \"bike\" appears in Jo's email\n",
    "        b = how many times the word \"bike\" appears in everyone else's email -- Steph's, and if we're measuring others as well, those other friends too: let's say Audre's and Beth's\n",
    "        c = how many times OTHER words than \"bike\" \n",
    "        d = how many times OTHER words than \"bike\" appear in everyone else's email --  which is the equivalent of all the words in the corpus, minus a, minus b, minus c\n",
    "        total_corpus_words = the total number of words in the corpus.  This should be the equivalent of a + b + c + d.\n",
    "      \n",
    "Next, we make three calculations to get the log likelihood score:\n",
    "\n",
    "        E1 = (a + c) * (a + b) / total_corpus_words \n",
    "        E2 = (b + d) * (a + b) / total_corpus_words \n",
    "        \n",
    "        LL = 2 * (a * log(a / E1)) + 2 * b * log(b / E2)\n",
    "\n",
    "If you're a math nerd, you might think about how we're taking a calculation of the specificity of \"a\" (how often I write \"bike\") relative to \"c\" (how many words I wrote in all) and the number of total corpus words, and conversely how specific \"bike\" is to other people (b, d). \n",
    "\n",
    "The function \"log\" normalizes both calculations.  Further multiplications make the calculations more specific to \"a\" (my usage of the word) and \"b\" (my friends' usage of the word).  \n",
    "\n",
    "If you feel overwhelmed: don't worry about this section.  Just accept that we're creating a numerical score of distinctiveness.  It's more important, in this class, to be able to use the distinctiveness measure than to understand where it comes from.  So long as you can run the code in the one section where we tell Python to execute a log likelihood score, you should be fine. \n",
    "\n",
    "\n",
    "### Why you want to know about distinctiveness\n",
    "\n",
    "Distinctiveness scores can be applied to anything. If you're trying to understand what makes speakers in Congress different from each other, you can recreate the above experiment with their words and get a working definition of how different each is -- one that will be far more meaningful than the list of top words used by each, or the words used by only one but not the other.  \n",
    "\n",
    "But you can also do so much more with this wonderful, flexible measure! You can use it to improve your understanding of time. You can use distinctiveness measures to figure out which words were more distinctive of the 1970s than the 1980s, or the 1980s than the 1990s -- and you can then make *those* words the subject of your charts over time or your questions about which speaker introduced a particularly meaningful word.  \n",
    "\n",
    "All you have to do is understand some basic questions about how to format data, how to perform a statistical calculation, and how to use that calculation.\n",
    "\n",
    "### What this notebook will do\n",
    "\n",
    "This notebook will use a sample dataset from EDGAR, the quarterly reports of American corporations.  It will walk you through reformatting the data to get rid of punctuation and words that only appear once (which may be typos, and which, in any case, will throw off the log likelihood calculations, making them less useful).\n",
    "\n",
    "We'll then bring in some tools from the SKLEARN package of statistics and machine learning software, especially CountVectorizer(), vectorizer.get_feature_names(),  and vectorizer.todense().  \n",
    "\n",
    "A \"vector\" is a matrix of words and their frequency, representing every word in the corpus.  For instance, for the example above, a descriptive vector for my emails' words might look like this: \n",
    "\n",
    "    time : 100\n",
    "    when : 100\n",
    "    meet : 99\n",
    "    thanks : 90\n",
    "    bike: 15\n",
    "    handlebar: 10\n",
    "    path: 10\n",
    "    lube: 4\n",
    "    chain: 3\n",
    "\n",
    "You'll use the tools of CountVectorizer to make some word vectors with data that preserves everything else you know about the words -- for instance, which company they relate to, when they were published, etc.  Along the way, we'll inspect the data so that you know what's being done to the word vector. \n",
    "\n",
    "We'll then apply the \"log likelihood\" calculation to these vectors to produce a score of what is most distinctive about each company's report.  \n",
    "\n",
    "### A word to those new to code\n",
    "\n",
    "If you are learning code for the first time, being able to recreate every single step along the way is far less important than getting a general feel for what the steps are:\n",
    "* cleaning (which you've seen before)\n",
    "* counting (which you've seen before)\n",
    "* vectorizing (this is new, but it's a lot like counting words)\n",
    "* working with vectors (to get them in the right format for statistical analysis)\n",
    "* statistical analysis (a loop that runs the log likelihood equation)\n",
    "* visualization\n",
    "\n",
    "Try to pay attention to just a few new commands to see how they work:\n",
    "* CountVectorizer() -- to turn data into a vector \n",
    "* vectorizer.get_feature_names() -- to inspect a vector \n",
    "* vectorizer.todense -- to reformat a vector for future analysis\n",
    "* the for loop that runs the log likelihood equation.\n",
    "\n",
    "Most importantly, pay attention to what the most distinctive words look like for the corporations we sample, and how we use visualizations to interpret them. Think about how this might apply to your data challenge!\n",
    "\n",
    "### A few suggestions as you start on this week's notebooks:\n",
    "\n",
    "* You will note that the str_replace() method of looking for words and phrases is REALLY slow: \n",
    "\n",
    "        df['Content'] = df['Content'].str.replace(pattern, \"\") \n",
    "        \n",
    "\n",
    "  Don't be afraid to use the alternative code, which is hidden behind a comment (#):\n",
    "\n",
    "        df['Content'] = df['Content'].apply(lambda x: \" \".join(x for x in x.split() if x not in words_appear_once)) \n",
    "        \n",
    "\n",
    "  We're not teaching the grammar of these variations, because they're deep Python rather than the easy syntax of pandas. But you are welcome to use them by copying and pasting!\n",
    "\n",
    "* As always, if you run into trouble around *import* functions, try \"installing\" the software package in question: \n",
    "      \n",
    "          !pip install [package] --user \n",
    "          \n",
    "        \n",
    "* There are at least two places where errors are supposed to occur: \n",
    "\n",
    "     (1) in the first few lines of loading EDGAR, where we drop or delete columns (really a cosmetic step, as I suggested in class). and \n",
    "        \n",
    "     (2) where I tell you to take the log of zero, which will produce an error because the log of zero is infinity.  \n",
    "    In both cases, you should read the commentary.\n",
    "\n",
    "With that, let's dive in!"
   ]
  },
  {
   "cell_type": "markdown",
   "metadata": {},
   "source": [
    "## Construct a dataset"
   ]
  },
  {
   "cell_type": "code",
   "execution_count": null,
   "metadata": {},
   "outputs": [],
   "source": [
    "!pip install edgar --user\n",
    "!pip install edgar-python --user\n",
    "!pip install pandas --user"
   ]
  },
  {
   "cell_type": "code",
   "execution_count": 2,
   "metadata": {},
   "outputs": [],
   "source": [
    "from edgar import Company, TXTML\n",
    "import pandas as pd"
   ]
  },
  {
   "cell_type": "markdown",
   "metadata": {},
   "source": [
    "In this assignment, I will consider 168 files from 8 companies EXXON MOBIL, AMAZON, Alphabet, MICROSOFT, APPLE, FORD MOTOR, RAYTHEON, MARATHON PETROLEUM."
   ]
  },
  {
   "cell_type": "markdown",
   "metadata": {},
   "source": [
    "First, we'll create an empty \"dataframe\" -- think of it as an empty spreadsheet ledger -- with column headings that correspond to the data structure in Edgar.  That is, the column names will be the name of each \"Company,\" its ID number in the EDGAR system (\"CIK\"), when it filed (\"Filing Date\"), and some textual content (\"Content\"), etc."
   ]
  },
  {
   "cell_type": "code",
   "execution_count": 3,
   "metadata": {},
   "outputs": [],
   "source": [
    "df = pd.DataFrame(columns=['Company','CIK','Content','Filing Date','Accepted','Documents','Effectiveness Date'])"
   ]
  },
  {
   "cell_type": "markdown",
   "metadata": {},
   "source": [
    "In the loop below, we're pulling in the data from EDGAR and feeding it to the appropriate column in the empty dataframe, which we've called df.  "
   ]
  },
  {
   "cell_type": "code",
   "execution_count": 2,
   "metadata": {},
   "outputs": [],
   "source": [
    "companies = [\n",
    "             ['EXXON MOBIL CORP','0000034088'],\n",
    "             ['AMAZON COM INC', '0001018724'],\n",
    "             ['Alphabet Inc.','0001652044'],\n",
    "             ['MICROSOFT CORP','0000789019'],\n",
    "             ['APPLE INC', '0000320193'],\n",
    "             ['FORD MOTOR CO', '0000037996'],\n",
    "             ['RAYTHEON CO', '0000082267'],\n",
    "             ['MARATHON PETROLEUM CORP', '0001510295'],\n",
    "            ]"
   ]
  },
  {
   "cell_type": "code",
   "execution_count": 4,
   "metadata": {},
   "outputs": [
    {
     "name": "stdout",
     "output_type": "stream",
     "text": [
      "Fetching data for  EXXON MOBIL CORP\n"
     ]
    },
    {
     "ename": "KeyboardInterrupt",
     "evalue": "",
     "output_type": "error",
     "traceback": [
      "\u001b[0;31m---------------------------------------------------------------------------\u001b[0m",
      "\u001b[0;31mKeyboardInterrupt\u001b[0m                         Traceback (most recent call last)",
      "\u001b[0;32m<ipython-input-4-b3a03d333918>\u001b[0m in \u001b[0;36m<module>\u001b[0;34m\u001b[0m\n\u001b[1;32m      9\u001b[0m                                        as_documents=True)\n\u001b[1;32m     10\u001b[0m \u001b[0;34m\u001b[0m\u001b[0m\n\u001b[0;32m---> 11\u001b[0;31m     \u001b[0mdocs_content\u001b[0m \u001b[0;34m=\u001b[0m \u001b[0medgar_company\u001b[0m\u001b[0;34m.\u001b[0m\u001b[0mget_10Ks\u001b[0m\u001b[0;34m(\u001b[0m\u001b[0;36m100\u001b[0m\u001b[0;34m)\u001b[0m\u001b[0;34m\u001b[0m\u001b[0;34m\u001b[0m\u001b[0m\n\u001b[0m\u001b[1;32m     12\u001b[0m \u001b[0;34m\u001b[0m\u001b[0m\n\u001b[1;32m     13\u001b[0m     \u001b[0;32mfor\u001b[0m \u001b[0mdoc\u001b[0m\u001b[0;34m,\u001b[0m \u001b[0mcontent\u001b[0m \u001b[0;32min\u001b[0m \u001b[0mzip\u001b[0m\u001b[0;34m(\u001b[0m\u001b[0mdocs\u001b[0m\u001b[0;34m,\u001b[0m \u001b[0mdocs_content\u001b[0m\u001b[0;34m)\u001b[0m\u001b[0;34m:\u001b[0m\u001b[0;34m\u001b[0m\u001b[0;34m\u001b[0m\u001b[0m\n",
      "\u001b[0;32m~/.local/lib/python3.6/site-packages/edgar/company.py\u001b[0m in \u001b[0;36mget_10Ks\u001b[0;34m(self, no_of_documents, as_documents)\u001b[0m\n\u001b[1;32m    119\u001b[0m       \u001b[0mresult\u001b[0m \u001b[0;34m=\u001b[0m \u001b[0;34m[\u001b[0m\u001b[0;34m]\u001b[0m\u001b[0;34m\u001b[0m\u001b[0;34m\u001b[0m\u001b[0m\n\u001b[1;32m    120\u001b[0m       \u001b[0;32mfor\u001b[0m \u001b[0melem\u001b[0m \u001b[0;32min\u001b[0m \u001b[0melems\u001b[0m\u001b[0;34m:\u001b[0m\u001b[0;34m\u001b[0m\u001b[0;34m\u001b[0m\u001b[0m\n\u001b[0;32m--> 121\u001b[0;31m           \u001b[0mdoc\u001b[0m \u001b[0;34m=\u001b[0m \u001b[0mCompany\u001b[0m\u001b[0;34m.\u001b[0m\u001b[0m__get_documents_from_element__\u001b[0m\u001b[0;34m(\u001b[0m\u001b[0melem\u001b[0m\u001b[0;34m,\u001b[0m \u001b[0mas_documents\u001b[0m\u001b[0;34m=\u001b[0m\u001b[0mas_documents\u001b[0m\u001b[0;34m)\u001b[0m\u001b[0;34m\u001b[0m\u001b[0;34m\u001b[0m\u001b[0m\n\u001b[0m\u001b[1;32m    122\u001b[0m           \u001b[0mresult\u001b[0m\u001b[0;34m.\u001b[0m\u001b[0mappend\u001b[0m\u001b[0;34m(\u001b[0m\u001b[0mdoc\u001b[0m\u001b[0;34m)\u001b[0m\u001b[0;34m\u001b[0m\u001b[0;34m\u001b[0m\u001b[0m\n\u001b[1;32m    123\u001b[0m       \u001b[0;32mreturn\u001b[0m \u001b[0mresult\u001b[0m\u001b[0;34m\u001b[0m\u001b[0;34m\u001b[0m\u001b[0m\n",
      "\u001b[0;32m~/.local/lib/python3.6/site-packages/edgar/company.py\u001b[0m in \u001b[0;36m__get_documents_from_element__\u001b[0;34m(cls, elem, as_documents)\u001b[0m\n\u001b[1;32m    112\u001b[0m         \u001b[0mhref\u001b[0m \u001b[0;34m=\u001b[0m \u001b[0mlast_row\u001b[0m\u001b[0;34m.\u001b[0m\u001b[0mgetchildren\u001b[0m\u001b[0;34m(\u001b[0m\u001b[0;34m)\u001b[0m\u001b[0;34m[\u001b[0m\u001b[0;36m2\u001b[0m\u001b[0;34m]\u001b[0m\u001b[0;34m.\u001b[0m\u001b[0mgetchildren\u001b[0m\u001b[0;34m(\u001b[0m\u001b[0;34m)\u001b[0m\u001b[0;34m[\u001b[0m\u001b[0;36m0\u001b[0m\u001b[0;34m]\u001b[0m\u001b[0;34m.\u001b[0m\u001b[0mattrib\u001b[0m\u001b[0;34m[\u001b[0m\u001b[0;34m\"href\"\u001b[0m\u001b[0;34m]\u001b[0m\u001b[0;34m\u001b[0m\u001b[0;34m\u001b[0m\u001b[0m\n\u001b[1;32m    113\u001b[0m         \u001b[0mhref\u001b[0m \u001b[0;34m=\u001b[0m \u001b[0mBASE_URL\u001b[0m \u001b[0;34m+\u001b[0m \u001b[0mhref\u001b[0m\u001b[0;34m\u001b[0m\u001b[0;34m\u001b[0m\u001b[0m\n\u001b[0;32m--> 114\u001b[0;31m         \u001b[0;32mreturn\u001b[0m \u001b[0mCompany\u001b[0m\u001b[0;34m.\u001b[0m\u001b[0mget_request\u001b[0m\u001b[0;34m(\u001b[0m\u001b[0mhref\u001b[0m\u001b[0;34m)\u001b[0m\u001b[0;34m\u001b[0m\u001b[0;34m\u001b[0m\u001b[0m\n\u001b[0m\u001b[1;32m    115\u001b[0m \u001b[0;34m\u001b[0m\u001b[0m\n\u001b[1;32m    116\u001b[0m     \u001b[0;32mdef\u001b[0m \u001b[0mget_10Ks\u001b[0m\u001b[0;34m(\u001b[0m\u001b[0mself\u001b[0m\u001b[0;34m,\u001b[0m \u001b[0mno_of_documents\u001b[0m\u001b[0;34m=\u001b[0m\u001b[0;36m1\u001b[0m\u001b[0;34m,\u001b[0m \u001b[0mas_documents\u001b[0m\u001b[0;34m=\u001b[0m\u001b[0;32mFalse\u001b[0m\u001b[0;34m)\u001b[0m \u001b[0;34m->\u001b[0m \u001b[0mList\u001b[0m\u001b[0;34m[\u001b[0m\u001b[0mlxml\u001b[0m\u001b[0;34m.\u001b[0m\u001b[0mhtml\u001b[0m\u001b[0;34m.\u001b[0m\u001b[0mHtmlElement\u001b[0m\u001b[0;34m]\u001b[0m\u001b[0;34m:\u001b[0m\u001b[0;34m\u001b[0m\u001b[0;34m\u001b[0m\u001b[0m\n",
      "\u001b[0;32m~/.local/lib/python3.6/site-packages/edgar/company.py\u001b[0m in \u001b[0;36mget_request\u001b[0;34m(cls, href, isxml, timeout)\u001b[0m\n\u001b[1;32m    133\u001b[0m           \u001b[0;32mreturn\u001b[0m \u001b[0metree\u001b[0m\u001b[0;34m.\u001b[0m\u001b[0mfromstring\u001b[0m\u001b[0;34m(\u001b[0m\u001b[0mpage\u001b[0m\u001b[0;34m.\u001b[0m\u001b[0mcontent\u001b[0m\u001b[0;34m,\u001b[0m \u001b[0mparser\u001b[0m\u001b[0;34m=\u001b[0m\u001b[0mp\u001b[0m\u001b[0;34m)\u001b[0m\u001b[0;34m\u001b[0m\u001b[0;34m\u001b[0m\u001b[0m\n\u001b[1;32m    134\u001b[0m         \u001b[0;32melse\u001b[0m\u001b[0;34m:\u001b[0m\u001b[0;34m\u001b[0m\u001b[0;34m\u001b[0m\u001b[0m\n\u001b[0;32m--> 135\u001b[0;31m           \u001b[0;32mreturn\u001b[0m \u001b[0mhtml\u001b[0m\u001b[0;34m.\u001b[0m\u001b[0mfromstring\u001b[0m\u001b[0;34m(\u001b[0m\u001b[0mpage\u001b[0m\u001b[0;34m.\u001b[0m\u001b[0mcontent\u001b[0m\u001b[0;34m)\u001b[0m\u001b[0;34m\u001b[0m\u001b[0;34m\u001b[0m\u001b[0m\n\u001b[0m\u001b[1;32m    136\u001b[0m \u001b[0;34m\u001b[0m\u001b[0m\n\u001b[1;32m    137\u001b[0m     \u001b[0;34m@\u001b[0m\u001b[0mclassmethod\u001b[0m\u001b[0;34m\u001b[0m\u001b[0;34m\u001b[0m\u001b[0m\n",
      "\u001b[0;32m/hpc/applications/anaconda/3/lib/python3.6/site-packages/lxml/html/__init__.py\u001b[0m in \u001b[0;36mfromstring\u001b[0;34m(html, base_url, parser, **kw)\u001b[0m\n\u001b[1;32m    873\u001b[0m     \u001b[0;32melse\u001b[0m\u001b[0;34m:\u001b[0m\u001b[0;34m\u001b[0m\u001b[0;34m\u001b[0m\u001b[0m\n\u001b[1;32m    874\u001b[0m         \u001b[0mis_full_html\u001b[0m \u001b[0;34m=\u001b[0m \u001b[0m_looks_like_full_html_unicode\u001b[0m\u001b[0;34m(\u001b[0m\u001b[0mhtml\u001b[0m\u001b[0;34m)\u001b[0m\u001b[0;34m\u001b[0m\u001b[0;34m\u001b[0m\u001b[0m\n\u001b[0;32m--> 875\u001b[0;31m     \u001b[0mdoc\u001b[0m \u001b[0;34m=\u001b[0m \u001b[0mdocument_fromstring\u001b[0m\u001b[0;34m(\u001b[0m\u001b[0mhtml\u001b[0m\u001b[0;34m,\u001b[0m \u001b[0mparser\u001b[0m\u001b[0;34m=\u001b[0m\u001b[0mparser\u001b[0m\u001b[0;34m,\u001b[0m \u001b[0mbase_url\u001b[0m\u001b[0;34m=\u001b[0m\u001b[0mbase_url\u001b[0m\u001b[0;34m,\u001b[0m \u001b[0;34m**\u001b[0m\u001b[0mkw\u001b[0m\u001b[0;34m)\u001b[0m\u001b[0;34m\u001b[0m\u001b[0;34m\u001b[0m\u001b[0m\n\u001b[0m\u001b[1;32m    876\u001b[0m     \u001b[0;32mif\u001b[0m \u001b[0mis_full_html\u001b[0m\u001b[0;34m:\u001b[0m\u001b[0;34m\u001b[0m\u001b[0;34m\u001b[0m\u001b[0m\n\u001b[1;32m    877\u001b[0m         \u001b[0;32mreturn\u001b[0m \u001b[0mdoc\u001b[0m\u001b[0;34m\u001b[0m\u001b[0;34m\u001b[0m\u001b[0m\n",
      "\u001b[0;32m/hpc/applications/anaconda/3/lib/python3.6/site-packages/lxml/html/__init__.py\u001b[0m in \u001b[0;36mdocument_fromstring\u001b[0;34m(html, parser, ensure_head_body, **kw)\u001b[0m\n\u001b[1;32m    759\u001b[0m     \u001b[0;32mif\u001b[0m \u001b[0mparser\u001b[0m \u001b[0;32mis\u001b[0m \u001b[0;32mNone\u001b[0m\u001b[0;34m:\u001b[0m\u001b[0;34m\u001b[0m\u001b[0;34m\u001b[0m\u001b[0m\n\u001b[1;32m    760\u001b[0m         \u001b[0mparser\u001b[0m \u001b[0;34m=\u001b[0m \u001b[0mhtml_parser\u001b[0m\u001b[0;34m\u001b[0m\u001b[0;34m\u001b[0m\u001b[0m\n\u001b[0;32m--> 761\u001b[0;31m     \u001b[0mvalue\u001b[0m \u001b[0;34m=\u001b[0m \u001b[0metree\u001b[0m\u001b[0;34m.\u001b[0m\u001b[0mfromstring\u001b[0m\u001b[0;34m(\u001b[0m\u001b[0mhtml\u001b[0m\u001b[0;34m,\u001b[0m \u001b[0mparser\u001b[0m\u001b[0;34m,\u001b[0m \u001b[0;34m**\u001b[0m\u001b[0mkw\u001b[0m\u001b[0;34m)\u001b[0m\u001b[0;34m\u001b[0m\u001b[0;34m\u001b[0m\u001b[0m\n\u001b[0m\u001b[1;32m    762\u001b[0m     \u001b[0;32mif\u001b[0m \u001b[0mvalue\u001b[0m \u001b[0;32mis\u001b[0m \u001b[0;32mNone\u001b[0m\u001b[0;34m:\u001b[0m\u001b[0;34m\u001b[0m\u001b[0;34m\u001b[0m\u001b[0m\n\u001b[1;32m    763\u001b[0m         raise etree.ParserError(\n",
      "\u001b[0;32msrc/lxml/etree.pyx\u001b[0m in \u001b[0;36mlxml.etree.fromstring\u001b[0;34m()\u001b[0m\n",
      "\u001b[0;32msrc/lxml/etree.pyx\u001b[0m in \u001b[0;36mlxml.etree._Document.getroot\u001b[0;34m()\u001b[0m\n",
      "\u001b[0;32msrc/lxml/etree.pyx\u001b[0m in \u001b[0;36mlxml.etree._elementFactory\u001b[0;34m()\u001b[0m\n",
      "\u001b[0;32msrc/lxml/classlookup.pxi\u001b[0m in \u001b[0;36mlxml.etree._parser_class_lookup\u001b[0;34m()\u001b[0m\n",
      "\u001b[0;32msrc/lxml/classlookup.pxi\u001b[0m in \u001b[0;36mlxml.etree._custom_class_lookup\u001b[0;34m()\u001b[0m\n",
      "\u001b[0;32m/hpc/applications/anaconda/3/lib/python3.6/site-packages/lxml/html/__init__.py\u001b[0m in \u001b[0;36mlookup\u001b[0;34m(self, node_type, document, namespace, name)\u001b[0m\n\u001b[1;32m    733\u001b[0m         \u001b[0mself\u001b[0m\u001b[0;34m.\u001b[0m\u001b[0m_element_classes\u001b[0m \u001b[0;34m=\u001b[0m \u001b[0mclasses\u001b[0m\u001b[0;34m\u001b[0m\u001b[0;34m\u001b[0m\u001b[0m\n\u001b[1;32m    734\u001b[0m \u001b[0;34m\u001b[0m\u001b[0m\n\u001b[0;32m--> 735\u001b[0;31m     \u001b[0;32mdef\u001b[0m \u001b[0mlookup\u001b[0m\u001b[0;34m(\u001b[0m\u001b[0mself\u001b[0m\u001b[0;34m,\u001b[0m \u001b[0mnode_type\u001b[0m\u001b[0;34m,\u001b[0m \u001b[0mdocument\u001b[0m\u001b[0;34m,\u001b[0m \u001b[0mnamespace\u001b[0m\u001b[0;34m,\u001b[0m \u001b[0mname\u001b[0m\u001b[0;34m)\u001b[0m\u001b[0;34m:\u001b[0m\u001b[0;34m\u001b[0m\u001b[0;34m\u001b[0m\u001b[0m\n\u001b[0m\u001b[1;32m    736\u001b[0m         \u001b[0;32mif\u001b[0m \u001b[0mnode_type\u001b[0m \u001b[0;34m==\u001b[0m \u001b[0;34m'element'\u001b[0m\u001b[0;34m:\u001b[0m\u001b[0;34m\u001b[0m\u001b[0;34m\u001b[0m\u001b[0m\n\u001b[1;32m    737\u001b[0m             \u001b[0;32mreturn\u001b[0m \u001b[0mself\u001b[0m\u001b[0;34m.\u001b[0m\u001b[0m_element_classes\u001b[0m\u001b[0;34m.\u001b[0m\u001b[0mget\u001b[0m\u001b[0;34m(\u001b[0m\u001b[0mname\u001b[0m\u001b[0;34m.\u001b[0m\u001b[0mlower\u001b[0m\u001b[0;34m(\u001b[0m\u001b[0;34m)\u001b[0m\u001b[0;34m,\u001b[0m \u001b[0mHtmlElement\u001b[0m\u001b[0;34m)\u001b[0m\u001b[0;34m\u001b[0m\u001b[0;34m\u001b[0m\u001b[0m\n",
      "\u001b[0;31mKeyboardInterrupt\u001b[0m: "
     ]
    }
   ],
   "source": [
    "for company in companies:\n",
    "    print(\"Fetching data for \", company[0])\n",
    "    edgar_company = Company(company[0], company[1])\n",
    "    \n",
    "    filings = edgar_company.get_all_filings(filing_type='10-K')\n",
    "    \n",
    "    docs = edgar_company.get_documents(tree=filings, \n",
    "                                       no_of_documents=100,\n",
    "                                       as_documents=True)\n",
    "    \n",
    "    docs_content = edgar_company.get_10Ks(100)\n",
    "    \n",
    "    for doc, content in zip(docs, docs_content):\n",
    "        new_row = doc.content\n",
    "        new_row['Company'] = company[0]\n",
    "        new_row['CIK'] = company[1]\n",
    "        new_row['Content'] = TXTML.parse_full_10K(content)\n",
    "        if len(new_row['Content']):\n",
    "            df = df.append(new_row, ignore_index=True)\n"
   ]
  },
  {
   "cell_type": "markdown",
   "metadata": {},
   "source": [
    "Please note that EDGAR will cut you off from calling data too often from them, so we should plan on calling this data once and stashing it.  Run the below command.  If you have Jupyter open on m2, you should be able to look at the left-hand sidebar at the folder for digital history, and you'll see edgar-data.csv in the list. \n",
    "\n",
    "If you need to start over again after this step, you can skip the above, slow-going process.  Instead, use \"df = pd.read_csv(\"edgar-data.csv\")\" to retrieve the data you've just saved."
   ]
  },
  {
   "cell_type": "code",
   "execution_count": null,
   "metadata": {},
   "outputs": [],
   "source": [
    "df.to_csv(r'edgar-data.csv', index = False) "
   ]
  },
  {
   "cell_type": "code",
   "execution_count": 3,
   "metadata": {},
   "outputs": [],
   "source": [
    "# df = pd.read_csv(\"edgar-data.csv\") # to be used if you want to return to data previously generated"
   ]
  },
  {
   "cell_type": "markdown",
   "metadata": {},
   "source": [
    "Let's look at the dataframe to make sure that the contents match our expectations."
   ]
  },
  {
   "cell_type": "code",
   "execution_count": 271,
   "metadata": {},
   "outputs": [
    {
     "data": {
      "text/html": [
       "<div>\n",
       "<style scoped>\n",
       "    .dataframe tbody tr th:only-of-type {\n",
       "        vertical-align: middle;\n",
       "    }\n",
       "\n",
       "    .dataframe tbody tr th {\n",
       "        vertical-align: top;\n",
       "    }\n",
       "\n",
       "    .dataframe thead th {\n",
       "        text-align: right;\n",
       "    }\n",
       "</style>\n",
       "<table border=\"1\" class=\"dataframe\">\n",
       "  <thead>\n",
       "    <tr style=\"text-align: right;\">\n",
       "      <th></th>\n",
       "      <th>Company</th>\n",
       "      <th>Content</th>\n",
       "      <th>Period of Report</th>\n",
       "      <th>Accepted</th>\n",
       "      <th>CIK</th>\n",
       "      <th>Documents</th>\n",
       "      <th>Filing Date</th>\n",
       "      <th>SROs</th>\n",
       "    </tr>\n",
       "  </thead>\n",
       "  <tbody>\n",
       "    <tr>\n",
       "      <th>0</th>\n",
       "      <td>EXXON MOBIL CORP</td>\n",
       "      <td>\\n\\n\\n\\n\\n\\n\\n\\n\\n\\n 0.086252036-04-012021-08-...</td>\n",
       "      <td>2019-12-31</td>\n",
       "      <td>NaN</td>\n",
       "      <td>NaN</td>\n",
       "      <td>NaN</td>\n",
       "      <td>NaN</td>\n",
       "      <td>NaN</td>\n",
       "    </tr>\n",
       "    <tr>\n",
       "      <th>1</th>\n",
       "      <td>EXXON MOBIL CORP</td>\n",
       "      <td>\\n\\n\\n\\n\\n\\n\\n\\n\\n\\n\\n \\n\\n\\n\\n\\n\\n\\n \\n\\n\\n\\n...</td>\n",
       "      <td>2018-12-31</td>\n",
       "      <td>NaN</td>\n",
       "      <td>NaN</td>\n",
       "      <td>NaN</td>\n",
       "      <td>NaN</td>\n",
       "      <td>NaN</td>\n",
       "    </tr>\n",
       "    <tr>\n",
       "      <th>2</th>\n",
       "      <td>EXXON MOBIL CORP</td>\n",
       "      <td>\\n\\n\\n\\n\\n\\n\\n\\n\\n\\n\\n \\n\\n\\n\\n\\n\\n\\n \\n\\n\\n\\n...</td>\n",
       "      <td>2017-12-31</td>\n",
       "      <td>NaN</td>\n",
       "      <td>NaN</td>\n",
       "      <td>NaN</td>\n",
       "      <td>NaN</td>\n",
       "      <td>NaN</td>\n",
       "    </tr>\n",
       "    <tr>\n",
       "      <th>3</th>\n",
       "      <td>EXXON MOBIL CORP</td>\n",
       "      <td>\\n\\n\\n\\n\\n\\n\\n\\n\\n\\n\\n \\n\\n\\n\\n\\n\\n\\n \\n\\n\\n\\n...</td>\n",
       "      <td>2016-12-31</td>\n",
       "      <td>NaN</td>\n",
       "      <td>NaN</td>\n",
       "      <td>NaN</td>\n",
       "      <td>NaN</td>\n",
       "      <td>NaN</td>\n",
       "    </tr>\n",
       "    <tr>\n",
       "      <th>4</th>\n",
       "      <td>EXXON MOBIL CORP</td>\n",
       "      <td>\\n\\n\\n\\n\\n\\n\\n\\n\\n\\n\\n \\n\\n\\n\\n\\n\\n\\n \\n\\n\\n\\n...</td>\n",
       "      <td>2015-12-31</td>\n",
       "      <td>NaN</td>\n",
       "      <td>NaN</td>\n",
       "      <td>NaN</td>\n",
       "      <td>NaN</td>\n",
       "      <td>NaN</td>\n",
       "    </tr>\n",
       "    <tr>\n",
       "      <th>5</th>\n",
       "      <td>EXXON MOBIL CORP</td>\n",
       "      <td>\\n\\n\\n\\n\\n\\n\\n\\n\\n\\n\\n \\n\\n\\n\\n\\n\\n\\n \\n\\n\\n\\n...</td>\n",
       "      <td>2014-12-31</td>\n",
       "      <td>NaN</td>\n",
       "      <td>NaN</td>\n",
       "      <td>NaN</td>\n",
       "      <td>NaN</td>\n",
       "      <td>NaN</td>\n",
       "    </tr>\n",
       "    <tr>\n",
       "      <th>6</th>\n",
       "      <td>EXXON MOBIL CORP</td>\n",
       "      <td>\\n\\n\\n\\n\\n\\n\\n\\n\\n\\n\\n \\n\\n\\n\\n\\n\\n\\n\\n\\n\\n \\n...</td>\n",
       "      <td>2013-12-31</td>\n",
       "      <td>NaN</td>\n",
       "      <td>NaN</td>\n",
       "      <td>NaN</td>\n",
       "      <td>NaN</td>\n",
       "      <td>NaN</td>\n",
       "    </tr>\n",
       "    <tr>\n",
       "      <th>7</th>\n",
       "      <td>EXXON MOBIL CORP</td>\n",
       "      <td>\\n\\n\\n\\n\\n\\n\\n\\n\\n\\n \\n\\n\\n\\n\\n\\n\\n\\n\\n\\n \\n\\n...</td>\n",
       "      <td>2012-12-31</td>\n",
       "      <td>NaN</td>\n",
       "      <td>NaN</td>\n",
       "      <td>NaN</td>\n",
       "      <td>NaN</td>\n",
       "      <td>NaN</td>\n",
       "    </tr>\n",
       "    <tr>\n",
       "      <th>8</th>\n",
       "      <td>EXXON MOBIL CORP</td>\n",
       "      <td>\\n\\nForm 10-K\\n\\n \\nTable of Contents\\n\\nIndex...</td>\n",
       "      <td>2011-12-31</td>\n",
       "      <td>NaN</td>\n",
       "      <td>NaN</td>\n",
       "      <td>NaN</td>\n",
       "      <td>NaN</td>\n",
       "      <td>NaN</td>\n",
       "    </tr>\n",
       "    <tr>\n",
       "      <th>9</th>\n",
       "      <td>EXXON MOBIL CORP</td>\n",
       "      <td>\\n\\n10-K/A\\n\\n \\nTable of Contents\\n\\nIndex to...</td>\n",
       "      <td>2010-12-31</td>\n",
       "      <td>NaN</td>\n",
       "      <td>NaN</td>\n",
       "      <td>NaN</td>\n",
       "      <td>NaN</td>\n",
       "      <td>NaN</td>\n",
       "    </tr>\n",
       "    <tr>\n",
       "      <th>10</th>\n",
       "      <td>EXXON MOBIL CORP</td>\n",
       "      <td>\\n\\nForm 10-K\\n\\n \\nTable of Contents\\n\\nIndex...</td>\n",
       "      <td>2010-12-31</td>\n",
       "      <td>NaN</td>\n",
       "      <td>NaN</td>\n",
       "      <td>NaN</td>\n",
       "      <td>NaN</td>\n",
       "      <td>NaN</td>\n",
       "    </tr>\n",
       "    <tr>\n",
       "      <th>11</th>\n",
       "      <td>EXXON MOBIL CORP</td>\n",
       "      <td>\\n\\nForm 10-K\\n\\n \\nTable of Contents\\n\\nIndex...</td>\n",
       "      <td>2009-12-31</td>\n",
       "      <td>NaN</td>\n",
       "      <td>NaN</td>\n",
       "      <td>NaN</td>\n",
       "      <td>NaN</td>\n",
       "      <td>NaN</td>\n",
       "    </tr>\n",
       "    <tr>\n",
       "      <th>12</th>\n",
       "      <td>AMAZON COM INC</td>\n",
       "      <td>\\n\\n\\n\\n\\n\\n\\n\\n\\t\\n\\t\\t\\n\\t\\tDocument\\n\\t\\n\\t...</td>\n",
       "      <td>2019-12-31</td>\n",
       "      <td>NaN</td>\n",
       "      <td>NaN</td>\n",
       "      <td>NaN</td>\n",
       "      <td>NaN</td>\n",
       "      <td>NaN</td>\n",
       "    </tr>\n",
       "    <tr>\n",
       "      <th>13</th>\n",
       "      <td>AMAZON COM INC</td>\n",
       "      <td>\\n\\n\\n\\t\\n\\t\\t\\n\\t\\t\\n\\t\\tDocument\\n\\t\\n\\t\\nTa...</td>\n",
       "      <td>2018-12-31</td>\n",
       "      <td>NaN</td>\n",
       "      <td>NaN</td>\n",
       "      <td>NaN</td>\n",
       "      <td>NaN</td>\n",
       "      <td>NaN</td>\n",
       "    </tr>\n",
       "    <tr>\n",
       "      <th>14</th>\n",
       "      <td>AMAZON COM INC</td>\n",
       "      <td>\\n\\n\\n\\t\\n\\t\\t\\n\\t\\t\\n\\t\\tDocument\\n\\t\\n\\t\\n U...</td>\n",
       "      <td>2017-12-31</td>\n",
       "      <td>NaN</td>\n",
       "      <td>NaN</td>\n",
       "      <td>NaN</td>\n",
       "      <td>NaN</td>\n",
       "      <td>NaN</td>\n",
       "    </tr>\n",
       "    <tr>\n",
       "      <th>15</th>\n",
       "      <td>AMAZON COM INC</td>\n",
       "      <td>\\n\\n\\n\\t\\n\\t\\t\\n\\t\\t\\n\\t\\tDocument\\n\\t\\n\\t\\n U...</td>\n",
       "      <td>2016-12-31</td>\n",
       "      <td>NaN</td>\n",
       "      <td>NaN</td>\n",
       "      <td>NaN</td>\n",
       "      <td>NaN</td>\n",
       "      <td>NaN</td>\n",
       "    </tr>\n",
       "    <tr>\n",
       "      <th>16</th>\n",
       "      <td>AMAZON COM INC</td>\n",
       "      <td>\\n\\n\\n\\t\\n\\t\\t\\n\\t\\t\\n\\t\\t10-K\\n\\t\\n\\t\\n UNITE...</td>\n",
       "      <td>2015-12-31</td>\n",
       "      <td>NaN</td>\n",
       "      <td>NaN</td>\n",
       "      <td>NaN</td>\n",
       "      <td>NaN</td>\n",
       "      <td>NaN</td>\n",
       "    </tr>\n",
       "    <tr>\n",
       "      <th>17</th>\n",
       "      <td>AMAZON COM INC</td>\n",
       "      <td>\\n\\n\\n\\t\\n\\t\\t\\n\\t\\t\\n\\t\\tAMZN-2014.12.31-10K\\...</td>\n",
       "      <td>2014-12-31</td>\n",
       "      <td>NaN</td>\n",
       "      <td>NaN</td>\n",
       "      <td>NaN</td>\n",
       "      <td>NaN</td>\n",
       "      <td>NaN</td>\n",
       "    </tr>\n",
       "    <tr>\n",
       "      <th>18</th>\n",
       "      <td>AMAZON COM INC</td>\n",
       "      <td>\\n\\n\\n\\t\\n\\t\\t\\n\\t\\t\\n\\t\\tAMZN-2013.12.31-10K\\...</td>\n",
       "      <td>2013-12-31</td>\n",
       "      <td>NaN</td>\n",
       "      <td>NaN</td>\n",
       "      <td>NaN</td>\n",
       "      <td>NaN</td>\n",
       "      <td>NaN</td>\n",
       "    </tr>\n",
       "    <tr>\n",
       "      <th>19</th>\n",
       "      <td>AMAZON COM INC</td>\n",
       "      <td>\\n\\nForm 10-K\\n\\n \\nTable of Contents\\n\\n  \\n ...</td>\n",
       "      <td>2012-12-31</td>\n",
       "      <td>NaN</td>\n",
       "      <td>NaN</td>\n",
       "      <td>NaN</td>\n",
       "      <td>NaN</td>\n",
       "      <td>NaN</td>\n",
       "    </tr>\n",
       "  </tbody>\n",
       "</table>\n",
       "</div>"
      ],
      "text/plain": [
       "             Company                                            Content  \\\n",
       "0   EXXON MOBIL CORP  \\n\\n\\n\\n\\n\\n\\n\\n\\n\\n 0.086252036-04-012021-08-...   \n",
       "1   EXXON MOBIL CORP  \\n\\n\\n\\n\\n\\n\\n\\n\\n\\n\\n \\n\\n\\n\\n\\n\\n\\n \\n\\n\\n\\n...   \n",
       "2   EXXON MOBIL CORP  \\n\\n\\n\\n\\n\\n\\n\\n\\n\\n\\n \\n\\n\\n\\n\\n\\n\\n \\n\\n\\n\\n...   \n",
       "3   EXXON MOBIL CORP  \\n\\n\\n\\n\\n\\n\\n\\n\\n\\n\\n \\n\\n\\n\\n\\n\\n\\n \\n\\n\\n\\n...   \n",
       "4   EXXON MOBIL CORP  \\n\\n\\n\\n\\n\\n\\n\\n\\n\\n\\n \\n\\n\\n\\n\\n\\n\\n \\n\\n\\n\\n...   \n",
       "5   EXXON MOBIL CORP  \\n\\n\\n\\n\\n\\n\\n\\n\\n\\n\\n \\n\\n\\n\\n\\n\\n\\n \\n\\n\\n\\n...   \n",
       "6   EXXON MOBIL CORP  \\n\\n\\n\\n\\n\\n\\n\\n\\n\\n\\n \\n\\n\\n\\n\\n\\n\\n\\n\\n\\n \\n...   \n",
       "7   EXXON MOBIL CORP  \\n\\n\\n\\n\\n\\n\\n\\n\\n\\n \\n\\n\\n\\n\\n\\n\\n\\n\\n\\n \\n\\n...   \n",
       "8   EXXON MOBIL CORP  \\n\\nForm 10-K\\n\\n \\nTable of Contents\\n\\nIndex...   \n",
       "9   EXXON MOBIL CORP  \\n\\n10-K/A\\n\\n \\nTable of Contents\\n\\nIndex to...   \n",
       "10  EXXON MOBIL CORP  \\n\\nForm 10-K\\n\\n \\nTable of Contents\\n\\nIndex...   \n",
       "11  EXXON MOBIL CORP  \\n\\nForm 10-K\\n\\n \\nTable of Contents\\n\\nIndex...   \n",
       "12    AMAZON COM INC  \\n\\n\\n\\n\\n\\n\\n\\n\\t\\n\\t\\t\\n\\t\\tDocument\\n\\t\\n\\t...   \n",
       "13    AMAZON COM INC  \\n\\n\\n\\t\\n\\t\\t\\n\\t\\t\\n\\t\\tDocument\\n\\t\\n\\t\\nTa...   \n",
       "14    AMAZON COM INC  \\n\\n\\n\\t\\n\\t\\t\\n\\t\\t\\n\\t\\tDocument\\n\\t\\n\\t\\n U...   \n",
       "15    AMAZON COM INC  \\n\\n\\n\\t\\n\\t\\t\\n\\t\\t\\n\\t\\tDocument\\n\\t\\n\\t\\n U...   \n",
       "16    AMAZON COM INC  \\n\\n\\n\\t\\n\\t\\t\\n\\t\\t\\n\\t\\t10-K\\n\\t\\n\\t\\n UNITE...   \n",
       "17    AMAZON COM INC  \\n\\n\\n\\t\\n\\t\\t\\n\\t\\t\\n\\t\\tAMZN-2014.12.31-10K\\...   \n",
       "18    AMAZON COM INC  \\n\\n\\n\\t\\n\\t\\t\\n\\t\\t\\n\\t\\tAMZN-2013.12.31-10K\\...   \n",
       "19    AMAZON COM INC  \\n\\nForm 10-K\\n\\n \\nTable of Contents\\n\\n  \\n ...   \n",
       "\n",
       "   Period of Report Accepted  CIK  Documents Filing Date SROs  \n",
       "0        2019-12-31      NaN  NaN        NaN         NaN  NaN  \n",
       "1        2018-12-31      NaN  NaN        NaN         NaN  NaN  \n",
       "2        2017-12-31      NaN  NaN        NaN         NaN  NaN  \n",
       "3        2016-12-31      NaN  NaN        NaN         NaN  NaN  \n",
       "4        2015-12-31      NaN  NaN        NaN         NaN  NaN  \n",
       "5        2014-12-31      NaN  NaN        NaN         NaN  NaN  \n",
       "6        2013-12-31      NaN  NaN        NaN         NaN  NaN  \n",
       "7        2012-12-31      NaN  NaN        NaN         NaN  NaN  \n",
       "8        2011-12-31      NaN  NaN        NaN         NaN  NaN  \n",
       "9        2010-12-31      NaN  NaN        NaN         NaN  NaN  \n",
       "10       2010-12-31      NaN  NaN        NaN         NaN  NaN  \n",
       "11       2009-12-31      NaN  NaN        NaN         NaN  NaN  \n",
       "12       2019-12-31      NaN  NaN        NaN         NaN  NaN  \n",
       "13       2018-12-31      NaN  NaN        NaN         NaN  NaN  \n",
       "14       2017-12-31      NaN  NaN        NaN         NaN  NaN  \n",
       "15       2016-12-31      NaN  NaN        NaN         NaN  NaN  \n",
       "16       2015-12-31      NaN  NaN        NaN         NaN  NaN  \n",
       "17       2014-12-31      NaN  NaN        NaN         NaN  NaN  \n",
       "18       2013-12-31      NaN  NaN        NaN         NaN  NaN  \n",
       "19       2012-12-31      NaN  NaN        NaN         NaN  NaN  "
      ]
     },
     "execution_count": 271,
     "metadata": {},
     "output_type": "execute_result"
    }
   ],
   "source": [
    "df[:20]"
   ]
  },
  {
   "cell_type": "markdown",
   "metadata": {},
   "source": [
    "Wow! That's some messy data!"
   ]
  },
  {
   "cell_type": "markdown",
   "metadata": {},
   "source": [
    "A quick tidying move: let's delete the columns for which we have no use. *Please note that if you saved data from which certain headings were deleted, and then retrieved it later, this step might produce an error. Don't worry about it!*"
   ]
  },
  {
   "cell_type": "code",
   "execution_count": 272,
   "metadata": {},
   "outputs": [],
   "source": [
    "df = df.drop(columns=['CIK', 'Filing Date', 'Accepted', 'Documents', 'SROs'])\n",
    "# if you get an error message, read the line of instructions above."
   ]
  },
  {
   "cell_type": "code",
   "execution_count": 273,
   "metadata": {},
   "outputs": [
    {
     "data": {
      "text/html": [
       "<div>\n",
       "<style scoped>\n",
       "    .dataframe tbody tr th:only-of-type {\n",
       "        vertical-align: middle;\n",
       "    }\n",
       "\n",
       "    .dataframe tbody tr th {\n",
       "        vertical-align: top;\n",
       "    }\n",
       "\n",
       "    .dataframe thead th {\n",
       "        text-align: right;\n",
       "    }\n",
       "</style>\n",
       "<table border=\"1\" class=\"dataframe\">\n",
       "  <thead>\n",
       "    <tr style=\"text-align: right;\">\n",
       "      <th></th>\n",
       "      <th>Company</th>\n",
       "      <th>Content</th>\n",
       "      <th>Period of Report</th>\n",
       "    </tr>\n",
       "  </thead>\n",
       "  <tbody>\n",
       "    <tr>\n",
       "      <th>0</th>\n",
       "      <td>EXXON MOBIL CORP</td>\n",
       "      <td>\\n\\n\\n\\n\\n\\n\\n\\n\\n\\n 0.086252036-04-012021-08-...</td>\n",
       "      <td>2019-12-31</td>\n",
       "    </tr>\n",
       "    <tr>\n",
       "      <th>1</th>\n",
       "      <td>EXXON MOBIL CORP</td>\n",
       "      <td>\\n\\n\\n\\n\\n\\n\\n\\n\\n\\n\\n \\n\\n\\n\\n\\n\\n\\n \\n\\n\\n\\n...</td>\n",
       "      <td>2018-12-31</td>\n",
       "    </tr>\n",
       "    <tr>\n",
       "      <th>2</th>\n",
       "      <td>EXXON MOBIL CORP</td>\n",
       "      <td>\\n\\n\\n\\n\\n\\n\\n\\n\\n\\n\\n \\n\\n\\n\\n\\n\\n\\n \\n\\n\\n\\n...</td>\n",
       "      <td>2017-12-31</td>\n",
       "    </tr>\n",
       "    <tr>\n",
       "      <th>3</th>\n",
       "      <td>EXXON MOBIL CORP</td>\n",
       "      <td>\\n\\n\\n\\n\\n\\n\\n\\n\\n\\n\\n \\n\\n\\n\\n\\n\\n\\n \\n\\n\\n\\n...</td>\n",
       "      <td>2016-12-31</td>\n",
       "    </tr>\n",
       "    <tr>\n",
       "      <th>4</th>\n",
       "      <td>EXXON MOBIL CORP</td>\n",
       "      <td>\\n\\n\\n\\n\\n\\n\\n\\n\\n\\n\\n \\n\\n\\n\\n\\n\\n\\n \\n\\n\\n\\n...</td>\n",
       "      <td>2015-12-31</td>\n",
       "    </tr>\n",
       "    <tr>\n",
       "      <th>5</th>\n",
       "      <td>EXXON MOBIL CORP</td>\n",
       "      <td>\\n\\n\\n\\n\\n\\n\\n\\n\\n\\n\\n \\n\\n\\n\\n\\n\\n\\n \\n\\n\\n\\n...</td>\n",
       "      <td>2014-12-31</td>\n",
       "    </tr>\n",
       "    <tr>\n",
       "      <th>6</th>\n",
       "      <td>EXXON MOBIL CORP</td>\n",
       "      <td>\\n\\n\\n\\n\\n\\n\\n\\n\\n\\n\\n \\n\\n\\n\\n\\n\\n\\n\\n\\n\\n \\n...</td>\n",
       "      <td>2013-12-31</td>\n",
       "    </tr>\n",
       "    <tr>\n",
       "      <th>7</th>\n",
       "      <td>EXXON MOBIL CORP</td>\n",
       "      <td>\\n\\n\\n\\n\\n\\n\\n\\n\\n\\n \\n\\n\\n\\n\\n\\n\\n\\n\\n\\n \\n\\n...</td>\n",
       "      <td>2012-12-31</td>\n",
       "    </tr>\n",
       "    <tr>\n",
       "      <th>8</th>\n",
       "      <td>EXXON MOBIL CORP</td>\n",
       "      <td>\\n\\nForm 10-K\\n\\n \\nTable of Contents\\n\\nIndex...</td>\n",
       "      <td>2011-12-31</td>\n",
       "    </tr>\n",
       "    <tr>\n",
       "      <th>9</th>\n",
       "      <td>EXXON MOBIL CORP</td>\n",
       "      <td>\\n\\n10-K/A\\n\\n \\nTable of Contents\\n\\nIndex to...</td>\n",
       "      <td>2010-12-31</td>\n",
       "    </tr>\n",
       "  </tbody>\n",
       "</table>\n",
       "</div>"
      ],
      "text/plain": [
       "            Company                                            Content  \\\n",
       "0  EXXON MOBIL CORP  \\n\\n\\n\\n\\n\\n\\n\\n\\n\\n 0.086252036-04-012021-08-...   \n",
       "1  EXXON MOBIL CORP  \\n\\n\\n\\n\\n\\n\\n\\n\\n\\n\\n \\n\\n\\n\\n\\n\\n\\n \\n\\n\\n\\n...   \n",
       "2  EXXON MOBIL CORP  \\n\\n\\n\\n\\n\\n\\n\\n\\n\\n\\n \\n\\n\\n\\n\\n\\n\\n \\n\\n\\n\\n...   \n",
       "3  EXXON MOBIL CORP  \\n\\n\\n\\n\\n\\n\\n\\n\\n\\n\\n \\n\\n\\n\\n\\n\\n\\n \\n\\n\\n\\n...   \n",
       "4  EXXON MOBIL CORP  \\n\\n\\n\\n\\n\\n\\n\\n\\n\\n\\n \\n\\n\\n\\n\\n\\n\\n \\n\\n\\n\\n...   \n",
       "5  EXXON MOBIL CORP  \\n\\n\\n\\n\\n\\n\\n\\n\\n\\n\\n \\n\\n\\n\\n\\n\\n\\n \\n\\n\\n\\n...   \n",
       "6  EXXON MOBIL CORP  \\n\\n\\n\\n\\n\\n\\n\\n\\n\\n\\n \\n\\n\\n\\n\\n\\n\\n\\n\\n\\n \\n...   \n",
       "7  EXXON MOBIL CORP  \\n\\n\\n\\n\\n\\n\\n\\n\\n\\n \\n\\n\\n\\n\\n\\n\\n\\n\\n\\n \\n\\n...   \n",
       "8  EXXON MOBIL CORP  \\n\\nForm 10-K\\n\\n \\nTable of Contents\\n\\nIndex...   \n",
       "9  EXXON MOBIL CORP  \\n\\n10-K/A\\n\\n \\nTable of Contents\\n\\nIndex to...   \n",
       "\n",
       "  Period of Report  \n",
       "0       2019-12-31  \n",
       "1       2018-12-31  \n",
       "2       2017-12-31  \n",
       "3       2016-12-31  \n",
       "4       2015-12-31  \n",
       "5       2014-12-31  \n",
       "6       2013-12-31  \n",
       "7       2012-12-31  \n",
       "8       2011-12-31  \n",
       "9       2010-12-31  "
      ]
     },
     "execution_count": 273,
     "metadata": {},
     "output_type": "execute_result"
    }
   ],
   "source": [
    "df[:10]"
   ]
  },
  {
   "cell_type": "markdown",
   "metadata": {},
   "source": [
    "# Cleaning the Data"
   ]
  },
  {
   "cell_type": "markdown",
   "metadata": {},
   "source": [
    "Let's do a couple of basic cleaning steps. Let's look at the actual text output of the Content column to get an idea of what we're dealing with.  The df.head() command in Pandas allows us to look at the first n columns of a dataframe; in this case we'll use a loop to print out the content of the first entry in the 'Content' column. \n",
    "\n",
    "If you printed out the whole entry for any row in the 'Content' column, you'd notice that the first section of the document is a long list of numbers and keywords that correspond to fields in a form; the actual text content follows further down below.  So we'll look at the last characters of each entry only."
   ]
  },
  {
   "cell_type": "code",
   "execution_count": 274,
   "metadata": {},
   "outputs": [
    {
     "name": "stdout",
     "output_type": "stream",
     "text": [
      "ROSENTHAL Vice President and Controller(David S. Rosenthal) (Principal Accounting Officer)    128 \n",
      "\n",
      "\n",
      "   \n",
      "  \n",
      " \n",
      "  (Principal Accounting Officer)\n",
      "  \n",
      " \n",
      "\n",
      "  \n",
      "   \n",
      "  \n",
      " \n",
      "   \n",
      "  \n",
      " \n",
      "   \n",
      "  \n",
      " \n",
      "\n",
      "\n",
      "\n",
      "\n",
      " \n",
      "\n",
      "\n",
      "\n",
      "\n",
      "\n",
      "\n",
      "\n",
      "125 \n",
      "\n",
      "\n",
      "\n",
      "\n",
      "\n",
      "ontroller\n",
      "  (Principal Accounting Officer)\n",
      "  \n",
      " \n",
      "\n",
      "  \n",
      "   \n",
      "  \n",
      " \n",
      "   \n",
      "  \n",
      " \n",
      "   \n",
      "  \n",
      " \n",
      "\n",
      "\n",
      "\n",
      " \n",
      "\n",
      "\n",
      "\n",
      "\n",
      "\n",
      "\n",
      "\n",
      "122 \n",
      "\n",
      "\n",
      "\n",
      "\n",
      "\n"
     ]
    }
   ],
   "source": [
    "for contenttext in df['Content'].head(3): # for the first three entries in the 'Content' column\n",
    "    print(contenttext[-100:]) # print the last 100 characters"
   ]
  },
  {
   "cell_type": "markdown",
   "metadata": {},
   "source": [
    "You'll notice that there are uppercase words, punctuation marks, and stopwords that will interfere with our analysis unless we do away with them."
   ]
  },
  {
   "cell_type": "markdown",
   "metadata": {},
   "source": [
    "First, let's split the text of the 'Content' column into words and lowercase them.  \n",
    "\n",
    "Note the use of split() and lower(), and the apply() command that allows us to iterate over every row of the dataframe 'df'.  After splitting and lowering each word, we're then using join() to paste all the words back together into one long string."
   ]
  },
  {
   "cell_type": "code",
   "execution_count": 275,
   "metadata": {},
   "outputs": [
    {
     "data": {
      "text/html": [
       "<div>\n",
       "<style scoped>\n",
       "    .dataframe tbody tr th:only-of-type {\n",
       "        vertical-align: middle;\n",
       "    }\n",
       "\n",
       "    .dataframe tbody tr th {\n",
       "        vertical-align: top;\n",
       "    }\n",
       "\n",
       "    .dataframe thead th {\n",
       "        text-align: right;\n",
       "    }\n",
       "</style>\n",
       "<table border=\"1\" class=\"dataframe\">\n",
       "  <thead>\n",
       "    <tr style=\"text-align: right;\">\n",
       "      <th></th>\n",
       "      <th>Company</th>\n",
       "      <th>Content</th>\n",
       "      <th>Period of Report</th>\n",
       "    </tr>\n",
       "  </thead>\n",
       "  <tbody>\n",
       "    <tr>\n",
       "      <th>0</th>\n",
       "      <td>EXXON MOBIL CORP</td>\n",
       "      <td>0.086252036-04-012021-08-152037-08-012038-06-1...</td>\n",
       "      <td>2019-12-31</td>\n",
       "    </tr>\n",
       "    <tr>\n",
       "      <th>1</th>\n",
       "      <td>EXXON MOBIL CORP</td>\n",
       "      <td>2018 united states securities and exchange com...</td>\n",
       "      <td>2018-12-31</td>\n",
       "    </tr>\n",
       "    <tr>\n",
       "      <th>2</th>\n",
       "      <td>EXXON MOBIL CORP</td>\n",
       "      <td>2017 united states securities and exchange com...</td>\n",
       "      <td>2017-12-31</td>\n",
       "    </tr>\n",
       "    <tr>\n",
       "      <th>3</th>\n",
       "      <td>EXXON MOBIL CORP</td>\n",
       "      <td>2016 united states securities and exchange com...</td>\n",
       "      <td>2016-12-31</td>\n",
       "    </tr>\n",
       "    <tr>\n",
       "      <th>4</th>\n",
       "      <td>EXXON MOBIL CORP</td>\n",
       "      <td>2015 united states securities and exchange com...</td>\n",
       "      <td>2015-12-31</td>\n",
       "    </tr>\n",
       "  </tbody>\n",
       "</table>\n",
       "</div>"
      ],
      "text/plain": [
       "            Company                                            Content  \\\n",
       "0  EXXON MOBIL CORP  0.086252036-04-012021-08-152037-08-012038-06-1...   \n",
       "1  EXXON MOBIL CORP  2018 united states securities and exchange com...   \n",
       "2  EXXON MOBIL CORP  2017 united states securities and exchange com...   \n",
       "3  EXXON MOBIL CORP  2016 united states securities and exchange com...   \n",
       "4  EXXON MOBIL CORP  2015 united states securities and exchange com...   \n",
       "\n",
       "  Period of Report  \n",
       "0       2019-12-31  \n",
       "1       2018-12-31  \n",
       "2       2017-12-31  \n",
       "3       2016-12-31  \n",
       "4       2015-12-31  "
      ]
     },
     "execution_count": 275,
     "metadata": {},
     "output_type": "execute_result"
    }
   ],
   "source": [
    "df['Content'] = df['Content'].apply(lambda x: \" \".join(x.lower() for x in x.split()))\n",
    "df.head()"
   ]
  },
  {
   "cell_type": "markdown",
   "metadata": {},
   "source": [
    "Next, we remove punctuation."
   ]
  },
  {
   "cell_type": "code",
   "execution_count": 276,
   "metadata": {
    "scrolled": true
   },
   "outputs": [],
   "source": [
    "df['Content'] = df['Content'].str.replace('[^\\w\\s]','')"
   ]
  },
  {
   "cell_type": "markdown",
   "metadata": {},
   "source": [
    "Next, we remove stop words using the standard NLTK package list of stopwords.  "
   ]
  },
  {
   "cell_type": "code",
   "execution_count": 277,
   "metadata": {},
   "outputs": [],
   "source": [
    "from nltk.corpus import stopwords # this calls all multilingual stopword lists from NLTK\n",
    "stop = stopwords.words('english') # this command calls only the English stopwords, labeling them \"stop\"\n",
    "stop_set = set(stop) # use the Python native command \"set\" to streamline how the stopwords are stored, improve performance"
   ]
  },
  {
   "cell_type": "code",
   "execution_count": 278,
   "metadata": {
    "scrolled": true
   },
   "outputs": [],
   "source": [
    "# in the next command, we run a loop that removes the stopwords from the column \"Content\" in the dataframe \"df\":\n",
    "df['Content'] = df['Content'].apply(lambda x: \" \".join(x for x in x.split() if x not in stop_set))"
   ]
  },
  {
   "cell_type": "markdown",
   "metadata": {},
   "source": [
    "Next, let's remove all the numbers."
   ]
  },
  {
   "cell_type": "code",
   "execution_count": 279,
   "metadata": {},
   "outputs": [],
   "source": [
    "df['Content'] = df['Content'].apply(lambda x: \" \".join(x for x in x.split() if not x.isdigit()))"
   ]
  },
  {
   "cell_type": "markdown",
   "metadata": {},
   "source": [
    "Finally, let's lemmatize the words."
   ]
  },
  {
   "cell_type": "code",
   "execution_count": 280,
   "metadata": {},
   "outputs": [],
   "source": [
    "from textblob import Word\n",
    "df['Content'] = df['Content'].apply(lambda x: \" \".join([Word(word).lemmatize() for word in x.split()]))"
   ]
  },
  {
   "cell_type": "markdown",
   "metadata": {},
   "source": [
    "Let's remove any one-letter words (for instance initials)"
   ]
  },
  {
   "cell_type": "code",
   "execution_count": 281,
   "metadata": {},
   "outputs": [],
   "source": [
    "df['Content'] = df['Content'].apply(lambda x: \" \".join(x for x in x.split() if len(x)>1))"
   ]
  },
  {
   "cell_type": "markdown",
   "metadata": {},
   "source": [
    "Inspect the data to see what we've done. "
   ]
  },
  {
   "cell_type": "code",
   "execution_count": 282,
   "metadata": {},
   "outputs": [
    {
     "name": "stdout",
     "output_type": "stream",
     "text": [
      "n granting unto said attorneysinfact agent full power authority perform every act thing requisite necessary done fully intent purpose might could person hereby ratifying confirming said attorneysinfact agent substitute substitute may lawfully cause done virtue hereof pursuant requirement security exchange act report signed following person behalf registrant capacity indicated february darren wood chairman boarddarren wood principal executive officer susan avery directorsusan avery angela braly directorangela braly ursula burn directorursula burn kenneth frazier directorkenneth frazier joseph hooley directorjoseph hooley steven kandarian directorsteven kandarian douglas oberhelman directordouglas oberhelman samuel palmisano directorsamuel palmisano steven reinemund directorsteven reinemund william weldon directorwilliam weldon andrew swiger senior vice presidentandrew swiger principal financial officer david rosenthal vice president controllerdavid rosenthal principal accounting officer\n",
      "urity exchange commission granting unto said attorneysinfact agent full power authority perform every act thing requisite necessary done fully intent purpose might could person hereby ratifying confirming said attorneysinfact agent substitute substitute may lawfully cause done virtue hereof pursuant requirement security exchange act report signed following person behalf registrant capacity indicated february darren wood chairman board darren wood principal executive officer susan avery director susan avery angela braly director angela braly ursula burn director ursula burn kenneth frazier director kenneth frazier steven kandarian director steven kandarian douglas oberhelman director douglas oberhelman samuel palmisano director samuel palmisano steven reinemund director steven reinemund william weldon director william weldon andrew swiger senior vice president andrew swiger principal financial officer david rosenthal vice president controller david rosenthal principal accounting officer\n",
      " said attorneysinfact agent full power authority perform every act thing requisite necessary done fully intent purpose might could person hereby ratifying confirming said attorneysinfact agent substitute substitute may lawfully cause done virtue hereof pursuant requirement security exchange act report signed following person behalf registrant capacity indicated february darren wood darren wood chairman board principal executive officer susan avery susan avery director michael boskin michael boskin director angela braly angela braly director ursula burn ursula burn director kenneth frazier kenneth frazier director steven kandarian steven kandarian director douglas oberhelman douglas oberhelman director samuel palmisano samuel palmisano director steven reinemund steven reinemund director william weldon william weldon director andrew swiger andrew swiger senior vice president principal financial officer david rosenthal david rosenthal vice president controller principal accounting officer\n"
     ]
    }
   ],
   "source": [
    "for contenttext in df['Content'].head(3): # for the first three entries in the 'Content' column\n",
    "    print(contenttext[-1000:]) # print the last 100 characters"
   ]
  },
  {
   "cell_type": "markdown",
   "metadata": {},
   "source": [
    "That's much better for counting.  However, we still have a lot of very rare words -- some of them misspellings ('attorneysinfact'), others the names of individuals ('kandarian'). \n",
    "\n",
    "### Warning! One-time words mess up log likelihood scores!  \n",
    "\n",
    "Here's an important warning about working with log likelihood: because the scoring system is built to detect the most unusual words, if you have messy data or data with lots of personal names, log likelihood will tell you about misspelling or personal names.  We therefore don't want, in our clean data, any instances of extremely unusual words such as names and misspellings; we just want relatively common words that might be used by Exxon but not Amazon, for instance.\n",
    "\n",
    "It's therefore important that we add an EXTRA cleaning step that we haven't done before: we're going to get rid of one-time words."
   ]
  },
  {
   "cell_type": "markdown",
   "metadata": {},
   "source": [
    "# Get rid of one-time words"
   ]
  },
  {
   "cell_type": "markdown",
   "metadata": {},
   "source": [
    "Let's eyeball the one-time words to make sure we want to get rid of them.  \n",
    "\n",
    "\n",
    "Thus the next line of code should show you the rarest words and their values:"
   ]
  },
  {
   "cell_type": "code",
   "execution_count": 283,
   "metadata": {
    "scrolled": true
   },
   "outputs": [
    {
     "data": {
      "text/plain": [
       "0    0086252036040120210815203708012038061520511201...\n",
       "1                    usgaapfairvalueinputslevel2member\n",
       "2               usgaapusgovernmentdebtsecuritiesmember\n",
       "3                                            countryus\n",
       "4                              usgaapforeignplanmember\n",
       "5                              usgaapforeignplanmember\n",
       "6    usgaapagingofcapitalizedexploratorywellcostspe...\n",
       "7                               srtparentcompanymember\n",
       "8                                            countryus\n",
       "9                              usgaapforeignplanmember\n",
       "dtype: object"
      ]
     },
     "execution_count": 283,
     "metadata": {},
     "output_type": "execute_result"
    }
   ],
   "source": [
    "# Let's list the words\n",
    "allwords = pd.Series(' '.join(df['Content']).split()) # get all the individual words in the corpus \n",
    "allwords[:10]"
   ]
  },
  {
   "cell_type": "markdown",
   "metadata": {},
   "source": [
    "Remember that you can take the counts of every word using .value_counts()"
   ]
  },
  {
   "cell_type": "code",
   "execution_count": 284,
   "metadata": {},
   "outputs": [
    {
     "data": {
      "text/plain": [
       "company      35236\n",
       "million      29748\n",
       "financial    27212\n",
       "tax          23999\n",
       "net          22314\n",
       "year         22098\n",
       "product      21980\n",
       "cost         21721\n",
       "asset        20824\n",
       "income       20719\n",
       "dtype: int64"
      ]
     },
     "execution_count": 284,
     "metadata": {},
     "output_type": "execute_result"
    }
   ],
   "source": [
    "# take the word counts\n",
    "wordcounts = allwords.value_counts() \n",
    "wordcounts[:10]"
   ]
  },
  {
   "cell_type": "markdown",
   "metadata": {},
   "source": [
    "Remember that [-50] at the end of a string calls the lowest scores.  \n"
   ]
  },
  {
   "cell_type": "code",
   "execution_count": 285,
   "metadata": {},
   "outputs": [
    {
     "data": {
      "text/plain": [
       "andxon                              3\n",
       "1174net                             3\n",
       "components6                         3\n",
       "25feedstocks                        3\n",
       "assets3                             3\n",
       "                                   ..\n",
       "officer61report                     1\n",
       "assetsemployee                      1\n",
       "federal20112018states20062018the    1\n",
       "10738wti4876                        1\n",
       "15b6                                1\n",
       "Length: 50000, dtype: int64"
      ]
     },
     "execution_count": 285,
     "metadata": {},
     "output_type": "execute_result"
    }
   ],
   "source": [
    "rare = wordcounts[-50000:]\n",
    "rare"
   ]
  },
  {
   "cell_type": "markdown",
   "metadata": {},
   "source": [
    "After listing rare words, we can see many of them are strings with both numbers and characters, which look like typos and are not important. \n",
    "\n",
    "We will try to get rid of these words. My strategy is to remove all words appearing exactly once because it is highly possible that those random string only appear once. "
   ]
  },
  {
   "cell_type": "markdown",
   "metadata": {},
   "source": [
    "### a little reformatting"
   ]
  },
  {
   "cell_type": "markdown",
   "metadata": {},
   "source": [
    "The data structure of \"wordcounts\" is something called a \"Series.\"  \n",
    "\n",
    "We can retrieve data by casting the series object to a \"dictionary.\"\n",
    "\n",
    "    dict(wordcounts) \n",
    "\n",
    "We can then ask the dictionary to show us how it holds information.  We will see pairs like ('company', 35236).  In the dictionary format, these pairs are called the 'key' (word) and 'value' (wordcount). You can inspect them with this command:\n",
    "\n",
    "    wordcountdict.items()\n",
    "\n",
    "We can filter the dictionary for words with small 'values':  \n",
    "\n",
    "    value < 4\n",
    "\n",
    "The following for loop saves a list of words whose value is less than 4:\n",
    "\n",
    "    for key, value in wordcountdict.items():\n",
    "        if value < 4: # return keys whose values are less than 4.\n",
    "            words_appear_once[key] = value"
   ]
  },
  {
   "cell_type": "code",
   "execution_count": 286,
   "metadata": {},
   "outputs": [],
   "source": [
    "wordcountdict = dict(wordcounts) # cast the series object as a dictionary"
   ]
  },
  {
   "cell_type": "markdown",
   "metadata": {},
   "source": [
    "### Making a list of words that only appear a few times"
   ]
  },
  {
   "cell_type": "code",
   "execution_count": 287,
   "metadata": {},
   "outputs": [],
   "source": [
    "words_appear_once = {} \n",
    "\n",
    "for key, value in wordcountdict.items():\n",
    "    if value < 4: # return keys whose values are less than 4.\n",
    "        words_appear_once[key] = value\n"
   ]
  },
  {
   "cell_type": "code",
   "execution_count": 288,
   "metadata": {},
   "outputs": [
    {
     "data": {
      "text/plain": [
       "['assetprivate',\n",
       " 'mpcexplorerpipelinemember',\n",
       " 'auditsas',\n",
       " 'millions975',\n",
       " 'bonds55033',\n",
       " 's2xp',\n",
       " '588total',\n",
       " 'marking',\n",
       " 'conditioncurrently',\n",
       " 'terminals10',\n",
       " 'lrh',\n",
       " '2009interest',\n",
       " 'contentsderivatives',\n",
       " 'jeremy',\n",
       " 'assets113',\n",
       " '6401116provision',\n",
       " 'volumesj',\n",
       " '1044revenues',\n",
       " 'curr',\n",
       " 'developmentson']"
      ]
     },
     "execution_count": 288,
     "metadata": {},
     "output_type": "execute_result"
    }
   ],
   "source": [
    "list(words_appear_once)[:20]"
   ]
  },
  {
   "cell_type": "code",
   "execution_count": 289,
   "metadata": {},
   "outputs": [
    {
     "name": "stdout",
     "output_type": "stream",
     "text": [
      "There are 50511 additional stop words to be removed\n"
     ]
    }
   ],
   "source": [
    "print(\"There are\", len(words_appear_once), \"additional stop words to be removed\")\n",
    "words_appear_once = set(words_appear_once) # use set to improve performance"
   ]
  },
  {
   "cell_type": "markdown",
   "metadata": {},
   "source": [
    "Let's create a \"pattern\" that allows us to search for everything in words_appear_once.  The pattern below lists all the words in words_appear_once, separated by the operator \"|\", which means, \"or.\"  \n",
    "\n",
    "To remove these problematic strings, we'll implement \n",
    "\n",
    "        .replace(pattern, substitution)"
   ]
  },
  {
   "cell_type": "code",
   "execution_count": 290,
   "metadata": {},
   "outputs": [],
   "source": [
    "import re\n",
    "pattern = r\"\\s*(?<!\\w)(?:{})(?!\\w)\".format(\"|\".join([re.escape(x) for x in words_appear_once]))"
   ]
  },
  {
   "cell_type": "code",
   "execution_count": 291,
   "metadata": {},
   "outputs": [],
   "source": [
    "# This isn't terribly important, but for the record, the r\"(?<!\\w)(?:{})(?!\\w)\".format(\"|\".join([re.escape(x) for x in words])) line will perform these steps:\n",
    "\n",
    "#    re.escape(x) for x in words] - will escape all special chars in the words to be used with regex safely\n",
    "#    \"|\".join([...) - will create alternations that will be matched by regex engine\n",
    "#    r\"\\s*(?<!\\w)(?:{})(?!\\w)\".format(....) - will create a regex like \\s*(?<!\\w)(?:word1|word2|wordn)(?!\\w) that will match words as whole words from the list (\\s* will also remove 0+ whitespaces before the words).\n"
   ]
  },
  {
   "cell_type": "code",
   "execution_count": null,
   "metadata": {},
   "outputs": [],
   "source": [
    "# use str.replace() to remove those additional stop words, replacing them with nothing -- \" \"\n",
    "df['Content'] = df['Content'].replace(pattern, \"\", regex = True)"
   ]
  },
  {
   "cell_type": "code",
   "execution_count": 293,
   "metadata": {
    "scrolled": true
   },
   "outputs": [],
   "source": [
    "##  alternative code to remove those additional stop words -- this does the same as .replace, but may be faster.\n",
    "#df['Content'] = df['Content'].apply(lambda x: \" \".join(x for x in x.split() if x not in words_appear_once))"
   ]
  },
  {
   "cell_type": "code",
   "execution_count": 368,
   "metadata": {},
   "outputs": [
    {
     "data": {
      "text/plain": [
       "'united state security exchange commission washington dc form annual report pursuant section security exchange act fiscal year ended december transition report pursuant section security exchange act transition period commission file number exxon mobil corporation exact name registrant specified charter new jersey state jurisdiction incorporation organization irs employer identification number la colinas boulevard irving texas address principal executive office zip code registrant telephone number including area code security registered pursuant section act title class name exchange registered common stock without par value share outstanding january new york stock exchange indicate check mark registrant wellknown seasoned issuer defined rule security act yes indicate check mark registrant required file report pursuant section section act yes indicate check mark whether registrant filed report required filed section security exchange act preceding month shorter period registrant required '"
      ]
     },
     "execution_count": 368,
     "metadata": {},
     "output_type": "execute_result"
    }
   ],
   "source": [
    "df['Content'][1][0:1000]"
   ]
  },
  {
   "cell_type": "markdown",
   "metadata": {},
   "source": [
    "### Getting rid of strings with numbers inside"
   ]
  },
  {
   "cell_type": "markdown",
   "metadata": {},
   "source": [
    "We still see a lot of numbers. They may be important but do not give us much insight. We will get rid of them too."
   ]
  },
  {
   "cell_type": "code",
   "execution_count": 295,
   "metadata": {
    "scrolled": true
   },
   "outputs": [
    {
     "data": {
      "text/plain": [
       "['0086252036040120210815203708012038061520511201falsefy0000034088123120200601202003060022222021030100239720220306202203060027262023030100317620240315002709202503060030432026030100356720450306004114204603010019022022081620220816002019202408160022752026081600244202908160029952039081600309520490816006100675006375001912203604012037080120380615205112012020060120210301202203062021081520230301202403152025030620260301204503062046030120220306nono',\n",
       " 'usgaapfairvalueinputslevel2member',\n",
       " 'usgaapfairvalueinputslevel2member',\n",
       " 'usgaapfairvalueinputslevel2member',\n",
       " 'usgaapfairvalueinputslevel1member',\n",
       " 'usgaapfairvalueinputslevel1member',\n",
       " 'usgaapfairvalueinputslevel1member',\n",
       " 'usgaapfairvalueinputslevel2member',\n",
       " 'usgaapfairvalueinputslevel2member',\n",
       " 'usgaapfairvalueinputslevel2member']"
      ]
     },
     "execution_count": 295,
     "metadata": {},
     "output_type": "execute_result"
    }
   ],
   "source": [
    "def has_digits(input_string): # return true if input_string has digits inside\n",
    "    return any(char.isdigit() for char in input_string)\n",
    "\n",
    "\n",
    "wordswithdigits = []\n",
    "\n",
    "for word in allwords:\n",
    "    if has_digits(word):\n",
    "        wordswithdigits.append(word)\n",
    "        \n",
    "wordswithdigits[:10]"
   ]
  },
  {
   "cell_type": "markdown",
   "metadata": {},
   "source": [
    "Make a \"pattern\" out of wordswithdigits (again, don't worry too much about the complicated regex):"
   ]
  },
  {
   "cell_type": "code",
   "execution_count": 370,
   "metadata": {},
   "outputs": [],
   "source": [
    "pattern2 = r\"\\s*(?<!\\w)(?:{})(?!\\w)\".format(\"|\".join([re.escape(x) for x in wordswithdigits]))"
   ]
  },
  {
   "cell_type": "markdown",
   "metadata": {},
   "source": [
    "Get rid of wordswithdigits, again using\n",
    "\n",
    "        .replace(pattern, substitution)"
   ]
  },
  {
   "cell_type": "code",
   "execution_count": null,
   "metadata": {},
   "outputs": [],
   "source": [
    "df['Content'] = df['Content'].replace(pattern2, \"\", regex = True)"
   ]
  },
  {
   "cell_type": "code",
   "execution_count": 372,
   "metadata": {},
   "outputs": [],
   "source": [
    "## alternative code to get rid of digits -- may be faster\n",
    "# df['Content'] = df['Content'].apply(lambda x: \" \".join(x for x in x.split() if not has_digits(x)))#"
   ]
  },
  {
   "cell_type": "code",
   "execution_count": 373,
   "metadata": {},
   "outputs": [
    {
     "data": {
      "text/plain": [
       "'united state security exchange commission washington dc form annual report pursuant section security exchange act fiscal year ended december transition report pursuant section security exchange act transition period commission file number exxon mobil corporation exact name registrant specified charter new jersey state jurisdiction incorporation organization irs employer identification number la colinas boulevard irving texas address principal executive office zip code registrant telephone number including area code security registered pursuant section act title class name exchange registered common stock without par value share outstanding january new york stock exchange indicate check mark registrant wellknown seasoned issuer defined rule security act yes indicate check mark registrant required file report pursuant section section act yes indicate check mark whether registrant filed report required filed section security exchange act preceding month shorter period registrant required '"
      ]
     },
     "execution_count": 373,
     "metadata": {},
     "output_type": "execute_result"
    }
   ],
   "source": [
    "df['Content'][1][0:1000]"
   ]
  },
  {
   "cell_type": "markdown",
   "metadata": {},
   "source": [
    "Looks great! Let's save our hard work:"
   ]
  },
  {
   "cell_type": "code",
   "execution_count": 300,
   "metadata": {},
   "outputs": [],
   "source": [
    "df.to_csv(r'edgar-data.csv', index = False) "
   ]
  },
  {
   "cell_type": "markdown",
   "metadata": {},
   "source": [
    "# Overall Visualisation"
   ]
  },
  {
   "cell_type": "markdown",
   "metadata": {},
   "source": [
    "Let's get a rough sense of what's in the 'Content' Column by creating a wordcloud."
   ]
  },
  {
   "cell_type": "code",
   "execution_count": 104,
   "metadata": {},
   "outputs": [
    {
     "name": "stdout",
     "output_type": "stream",
     "text": [
      "Requirement already satisfied: wordcloud in /users/jguldi/.local/lib/python3.6/site-packages (1.8.1)\n",
      "Requirement already satisfied: numpy>=1.6.1 in /hpc/applications/anaconda/3/lib/python3.6/site-packages (from wordcloud) (1.17.3)\n",
      "Requirement already satisfied: matplotlib in /hpc/applications/anaconda/3/lib/python3.6/site-packages (from wordcloud) (2.2.5)\n",
      "Requirement already satisfied: pillow in /hpc/applications/anaconda/3/lib/python3.6/site-packages (from wordcloud) (6.2.1)\n",
      "Requirement already satisfied: python-dateutil>=2.1 in /hpc/applications/anaconda/3/lib/python3.6/site-packages (from matplotlib->wordcloud) (2.8.0)\n",
      "Requirement already satisfied: cycler>=0.10 in /hpc/applications/anaconda/3/lib/python3.6/site-packages (from matplotlib->wordcloud) (0.10.0)\n",
      "Requirement already satisfied: kiwisolver>=1.0.1 in /hpc/applications/anaconda/3/lib/python3.6/site-packages (from matplotlib->wordcloud) (1.1.0)\n",
      "Requirement already satisfied: pytz in /hpc/applications/anaconda/3/lib/python3.6/site-packages (from matplotlib->wordcloud) (2019.3)\n",
      "Requirement already satisfied: six>=1.10 in /hpc/applications/anaconda/3/lib/python3.6/site-packages (from matplotlib->wordcloud) (1.12.0)\n",
      "Requirement already satisfied: pyparsing!=2.0.4,!=2.1.2,!=2.1.6,>=2.0.1 in /hpc/applications/anaconda/3/lib/python3.6/site-packages (from matplotlib->wordcloud) (2.4.2)\n",
      "Requirement already satisfied: setuptools in /hpc/applications/anaconda/3/lib/python3.6/site-packages (from kiwisolver>=1.0.1->matplotlib->wordcloud) (41.4.0)\n"
     ]
    }
   ],
   "source": [
    "!pip install wordcloud --user\n",
    "from wordcloud import WordCloud, STOPWORDS, ImageColorGenerator\n",
    "import matplotlib.pyplot as plt\n",
    "%matplotlib inline\n",
    "stop_words = set(STOPWORDS)"
   ]
  },
  {
   "cell_type": "markdown",
   "metadata": {},
   "source": [
    "The wordcloud package has its own built-in function to split a block of text.  It just needs one big block of text assembled from all the rows in the 'Content' column.  We'll use the join() command to paste together all the entries in df['Content'], calling the result 'allwords.'  Then we'l use the WordCloud().generate() command to make a wordcloud from the variable 'allwords'."
   ]
  },
  {
   "cell_type": "code",
   "execution_count": 105,
   "metadata": {},
   "outputs": [
    {
     "data": {
      "image/png": "[encoded data removed]",
      "text/plain": [
       "<Figure size 864x864 with 1 Axes>"
      ]
     },
     "metadata": {
      "needs_background": "light"
     },
     "output_type": "display_data"
    }
   ],
   "source": [
    "allwords = \" \".join(df['Content'])\n",
    "wordcloud = WordCloud(stopwords=stop, background_color=\"white\").generate(allwords)\n",
    "plt.figure(figsize=(12, 12))\n",
    "plt.imshow(wordcloud, interpolation='bilinear')\n",
    "plt.axis(\"off\")\n",
    "plt.show()"
   ]
  },
  {
   "cell_type": "markdown",
   "metadata": {},
   "source": [
    "Next, let's visualize the most frequent words, breaking the variable 'allwords' down into individual words using split().  "
   ]
  },
  {
   "cell_type": "code",
   "execution_count": 106,
   "metadata": {},
   "outputs": [
    {
     "data": {
      "text/plain": [
       "['usgaapusgovernmentdebtsecuritiesmember',\n",
       " 'countryus',\n",
       " 'usgaapforeignplanmember',\n",
       " 'usgaapforeignplanmember',\n",
       " 'usgaapagingofcapitalizedexploratorywellcostsperiodtwomember',\n",
       " 'srtparentcompanymember',\n",
       " 'countryus',\n",
       " 'usgaapforeignplanmember',\n",
       " 'usgaapnonusmember',\n",
       " 'xomchemicalmember']"
      ]
     },
     "execution_count": 106,
     "metadata": {},
     "output_type": "execute_result"
    }
   ],
   "source": [
    "wordlist = allwords.split()\n",
    "wordlist[:10] # look at the first ten elements of the list only"
   ]
  },
  {
   "cell_type": "markdown",
   "metadata": {},
   "source": [
    "Next, count the individual words using the pandas commands \"Series()\" and \"value_counts()\""
   ]
  },
  {
   "cell_type": "code",
   "execution_count": 107,
   "metadata": {},
   "outputs": [
    {
     "data": {
      "text/plain": [
       "company      35236\n",
       "million      29748\n",
       "financial    27212\n",
       "tax          23999\n",
       "net          22314\n",
       "year         22098\n",
       "product      21980\n",
       "cost         21721\n",
       "asset        20824\n",
       "income       20719\n",
       "dtype: int64"
      ]
     },
     "execution_count": 107,
     "metadata": {},
     "output_type": "execute_result"
    }
   ],
   "source": [
    "wordcounts = pd.Series(wordlist).value_counts()[:20]\n",
    "wordcounts[:10]"
   ]
  },
  {
   "cell_type": "markdown",
   "metadata": {},
   "source": [
    "Now, plot those values as a well-labeled barchart.  Notice that the axes are well-labeled and that the chart has a title that describes the data."
   ]
  },
  {
   "cell_type": "code",
   "execution_count": 108,
   "metadata": {},
   "outputs": [
    {
     "data": {
      "text/plain": [
       "<matplotlib.axes._subplots.AxesSubplot at 0x2aab0a793d30>"
      ]
     },
     "execution_count": 108,
     "metadata": {},
     "output_type": "execute_result"
    },
    {
     "data": {
      "image/png": "[encoded data removed]",
      "text/plain": [
       "<Figure size 432x432 with 1 Axes>"
      ]
     },
     "metadata": {
      "needs_background": "light"
     },
     "output_type": "display_data"
    }
   ],
   "source": [
    "wordcounts.plot(kind='bar', \n",
    "                title='Most frequent words in the CONTENT column of EDGAR for 8 key companies',\n",
    "                 figsize=(6, 6)\n",
    "               )"
   ]
  },
  {
   "cell_type": "markdown",
   "metadata": {},
   "source": [
    "The data looks clean and accurate.  However, the most frequent words are \"financial\", \"million\", \"net\", \"income\", etc. It is likely that most of these files are financial reports or related to financial situation of the companies.\n",
    "\n",
    "Overall, this isn't a very interesting finding.  It's not surprising at all that high-profile companies have a lot to talk about in terms of the size and scale of their earnings, or that operations, products, and services are major headings of inquiry.  \n",
    "\n",
    "Herein lies the need for inspecting words more carefully.  In this notebook, we'll do so by examining what is *distinctive* about each company -- what words does Exxon use that Amazon doesn't?  The mathematical tool we'll use to generate a measurement of distinctiveness is \"log likelihood.\""
   ]
  },
  {
   "cell_type": "markdown",
   "metadata": {},
   "source": [
    "# Organizing the Data"
   ]
  },
  {
   "cell_type": "markdown",
   "metadata": {},
   "source": [
    "In the exercise that follows, we'll be measuring what is 'distinctive' about each company.  We could configure the experiment in a variety of ways -- comparing companies; comparing years; comparing all companies and all years.  What we decide to compare governs how we will arrange the database and measure difference.  But in this experiment, we're just comparing companies.  "
   ]
  },
  {
   "cell_type": "markdown",
   "metadata": {},
   "source": [
    "First, we want to create a dataframe where every company is listed only once, and the 'Content' column holds all the text related to that company.  In df, every company has several rows, each one with the content from a different year.  "
   ]
  },
  {
   "cell_type": "code",
   "execution_count": 301,
   "metadata": {},
   "outputs": [],
   "source": [
    "log_df = df.copy() # copy df into a new document"
   ]
  },
  {
   "cell_type": "code",
   "execution_count": 302,
   "metadata": {},
   "outputs": [],
   "source": [
    "# Combine all documents of every company\n",
    "log_df = log_df.groupby('Company').sum()"
   ]
  },
  {
   "cell_type": "code",
   "execution_count": 303,
   "metadata": {},
   "outputs": [
    {
     "data": {
      "text/html": [
       "<div>\n",
       "<style scoped>\n",
       "    .dataframe tbody tr th:only-of-type {\n",
       "        vertical-align: middle;\n",
       "    }\n",
       "\n",
       "    .dataframe tbody tr th {\n",
       "        vertical-align: top;\n",
       "    }\n",
       "\n",
       "    .dataframe thead th {\n",
       "        text-align: right;\n",
       "    }\n",
       "</style>\n",
       "<table border=\"1\" class=\"dataframe\">\n",
       "  <thead>\n",
       "    <tr style=\"text-align: right;\">\n",
       "      <th></th>\n",
       "      <th>Content</th>\n",
       "      <th>Period of Report</th>\n",
       "    </tr>\n",
       "    <tr>\n",
       "      <th>Company</th>\n",
       "      <th></th>\n",
       "      <th></th>\n",
       "    </tr>\n",
       "  </thead>\n",
       "  <tbody>\n",
       "    <tr>\n",
       "      <th>AMAZON COM INC</th>\n",
       "      <td>document usgaapproductmember usgaapservicememb...</td>\n",
       "      <td>2019-12-312018-12-312017-12-312016-12-312015-1...</td>\n",
       "    </tr>\n",
       "    <tr>\n",
       "      <th>APPLE INC</th>\n",
       "      <td>statessecurities exchange commissionwashington...</td>\n",
       "      <td>2020-09-262019-09-282018-09-292017-09-302016-0...</td>\n",
       "    </tr>\n",
       "    <tr>\n",
       "      <th>Alphabet Inc.</th>\n",
       "      <td>document usgaapcommonclassbmember googcapitalc...</td>\n",
       "      <td>2019-12-312018-12-312018-12-312017-12-312016-1...</td>\n",
       "    </tr>\n",
       "    <tr>\n",
       "      <th>EXXON MOBIL CORP</th>\n",
       "      <td>usgaapusgovernmentdebtsecuritiesmember country...</td>\n",
       "      <td>2019-12-312018-12-312017-12-312016-12-312015-1...</td>\n",
       "    </tr>\n",
       "    <tr>\n",
       "      <th>FORD MOTOR CO</th>\n",
       "      <td>statessecurities exchange commissionwashington...</td>\n",
       "      <td>2020-12-312019-12-312018-12-312017-12-312017-1...</td>\n",
       "    </tr>\n",
       "    <tr>\n",
       "      <th>MARATHON PETROLEUM CORP</th>\n",
       "      <td>content united state security exchange commiss...</td>\n",
       "      <td>2020-12-312019-12-312018-12-312017-12-312016-1...</td>\n",
       "    </tr>\n",
       "    <tr>\n",
       "      <th>MICROSOFT CORP</th>\n",
       "      <td>false fy usgaapcommonstockmember xbrlishares x...</td>\n",
       "      <td>2020-06-302019-06-302018-06-302017-06-302016-0...</td>\n",
       "    </tr>\n",
       "    <tr>\n",
       "      <th>RAYTHEON CO</th>\n",
       "      <td>page security exchange commission washington f...</td>\n",
       "      <td>1994-12-31</td>\n",
       "    </tr>\n",
       "  </tbody>\n",
       "</table>\n",
       "</div>"
      ],
      "text/plain": [
       "                                                                   Content  \\\n",
       "Company                                                                      \n",
       "AMAZON COM INC           document usgaapproductmember usgaapservicememb...   \n",
       "APPLE INC                statessecurities exchange commissionwashington...   \n",
       "Alphabet Inc.            document usgaapcommonclassbmember googcapitalc...   \n",
       "EXXON MOBIL CORP         usgaapusgovernmentdebtsecuritiesmember country...   \n",
       "FORD MOTOR CO            statessecurities exchange commissionwashington...   \n",
       "MARATHON PETROLEUM CORP  content united state security exchange commiss...   \n",
       "MICROSOFT CORP           false fy usgaapcommonstockmember xbrlishares x...   \n",
       "RAYTHEON CO              page security exchange commission washington f...   \n",
       "\n",
       "                                                          Period of Report  \n",
       "Company                                                                     \n",
       "AMAZON COM INC           2019-12-312018-12-312017-12-312016-12-312015-1...  \n",
       "APPLE INC                2020-09-262019-09-282018-09-292017-09-302016-0...  \n",
       "Alphabet Inc.            2019-12-312018-12-312018-12-312017-12-312016-1...  \n",
       "EXXON MOBIL CORP         2019-12-312018-12-312017-12-312016-12-312015-1...  \n",
       "FORD MOTOR CO            2020-12-312019-12-312018-12-312017-12-312017-1...  \n",
       "MARATHON PETROLEUM CORP  2020-12-312019-12-312018-12-312017-12-312016-1...  \n",
       "MICROSOFT CORP           2020-06-302019-06-302018-06-302017-06-302016-0...  \n",
       "RAYTHEON CO                                                     1994-12-31  "
      ]
     },
     "execution_count": 303,
     "metadata": {},
     "output_type": "execute_result"
    }
   ],
   "source": [
    "log_df[:10]"
   ]
  },
  {
   "cell_type": "markdown",
   "metadata": {},
   "source": [
    "Notice that the entire dataset is only eight rows long.  All the 'Content' columns for multiple entries for Exxon have been pasted into one column."
   ]
  },
  {
   "cell_type": "markdown",
   "metadata": {},
   "source": [
    "### You can \"group by\" different fields "
   ]
  },
  {
   "cell_type": "markdown",
   "metadata": {},
   "source": [
    "Notice, also, that we could use .groupby() here to create a dataset organized around ANY field in the data.  We could organize the data around time:\n",
    "        \n",
    "        log_df = df.copy() \n",
    "        log_df = log_df.groupby('Period of Report').sum() \n",
    "\n",
    "Alternatively, if we had data about Republicans and Democrats or men and women speakers, or around speeches where \"climate change\" occurred and speeches that reference \"the environment,\" we could organize the data around those fields.\n",
    "\n",
    "Look at how this version of the data looks different:"
   ]
  },
  {
   "cell_type": "code",
   "execution_count": 314,
   "metadata": {},
   "outputs": [
    {
     "data": {
      "text/html": [
       "<div>\n",
       "<style scoped>\n",
       "    .dataframe tbody tr th:only-of-type {\n",
       "        vertical-align: middle;\n",
       "    }\n",
       "\n",
       "    .dataframe tbody tr th {\n",
       "        vertical-align: top;\n",
       "    }\n",
       "\n",
       "    .dataframe thead th {\n",
       "        text-align: right;\n",
       "    }\n",
       "</style>\n",
       "<table border=\"1\" class=\"dataframe\">\n",
       "  <thead>\n",
       "    <tr style=\"text-align: right;\">\n",
       "      <th></th>\n",
       "      <th>Company</th>\n",
       "      <th>Content</th>\n",
       "    </tr>\n",
       "    <tr>\n",
       "      <th>Period of Report</th>\n",
       "      <th></th>\n",
       "      <th></th>\n",
       "    </tr>\n",
       "  </thead>\n",
       "  <tbody>\n",
       "    <tr>\n",
       "      <th>1994-12-31</th>\n",
       "      <td>RAYTHEON CO</td>\n",
       "      <td>page security exchange commission washington f...</td>\n",
       "    </tr>\n",
       "    <tr>\n",
       "      <th>2001-06-30</th>\n",
       "      <td>MICROSOFT CORPMICROSOFT CORP</td>\n",
       "      <td>united state security exchange commission wash...</td>\n",
       "    </tr>\n",
       "    <tr>\n",
       "      <th>2009-12-31</th>\n",
       "      <td>EXXON MOBIL CORPEXXON MOBIL CORP</td>\n",
       "      <td>form table content index financial statement u...</td>\n",
       "    </tr>\n",
       "    <tr>\n",
       "      <th>2010-12-31</th>\n",
       "      <td>EXXON MOBIL CORPEXXON MOBIL CORPEXXON MOBIL CO...</td>\n",
       "      <td>table content index financial statement united...</td>\n",
       "    </tr>\n",
       "    <tr>\n",
       "      <th>2011-06-30</th>\n",
       "      <td>MICROSOFT CORPMICROSOFT CORP</td>\n",
       "      <td>form table content united state security excha...</td>\n",
       "    </tr>\n",
       "    <tr>\n",
       "      <th>2011-09-24</th>\n",
       "      <td>APPLE INCAPPLE INC</td>\n",
       "      <td>form united state security exchange commission...</td>\n",
       "    </tr>\n",
       "    <tr>\n",
       "      <th>2011-12-31</th>\n",
       "      <td>EXXON MOBIL CORPAMAZON COM INCEXXON MOBIL CORP...</td>\n",
       "      <td>form table content index financial statement u...</td>\n",
       "    </tr>\n",
       "    <tr>\n",
       "      <th>2012-06-30</th>\n",
       "      <td>MICROSOFT CORPMICROSOFT CORP</td>\n",
       "      <td>form table content united state security excha...</td>\n",
       "    </tr>\n",
       "    <tr>\n",
       "      <th>2012-09-29</th>\n",
       "      <td>APPLE INCAPPLE INC</td>\n",
       "      <td>form table content united state security excha...</td>\n",
       "    </tr>\n",
       "    <tr>\n",
       "      <th>2012-12-31</th>\n",
       "      <td>EXXON MOBIL CORPAMAZON COM INCEXXON MOBIL CORP...</td>\n",
       "      <td>united state security exchange commission wash...</td>\n",
       "    </tr>\n",
       "  </tbody>\n",
       "</table>\n",
       "</div>"
      ],
      "text/plain": [
       "                                                            Company  \\\n",
       "Period of Report                                                      \n",
       "1994-12-31                                              RAYTHEON CO   \n",
       "2001-06-30                             MICROSOFT CORPMICROSOFT CORP   \n",
       "2009-12-31                         EXXON MOBIL CORPEXXON MOBIL CORP   \n",
       "2010-12-31        EXXON MOBIL CORPEXXON MOBIL CORPEXXON MOBIL CO...   \n",
       "2011-06-30                             MICROSOFT CORPMICROSOFT CORP   \n",
       "2011-09-24                                       APPLE INCAPPLE INC   \n",
       "2011-12-31        EXXON MOBIL CORPAMAZON COM INCEXXON MOBIL CORP...   \n",
       "2012-06-30                             MICROSOFT CORPMICROSOFT CORP   \n",
       "2012-09-29                                       APPLE INCAPPLE INC   \n",
       "2012-12-31        EXXON MOBIL CORPAMAZON COM INCEXXON MOBIL CORP...   \n",
       "\n",
       "                                                            Content  \n",
       "Period of Report                                                     \n",
       "1994-12-31        page security exchange commission washington f...  \n",
       "2001-06-30        united state security exchange commission wash...  \n",
       "2009-12-31        form table content index financial statement u...  \n",
       "2010-12-31        table content index financial statement united...  \n",
       "2011-06-30        form table content united state security excha...  \n",
       "2011-09-24        form united state security exchange commission...  \n",
       "2011-12-31        form table content index financial statement u...  \n",
       "2012-06-30        form table content united state security excha...  \n",
       "2012-09-29        form table content united state security excha...  \n",
       "2012-12-31        united state security exchange commission wash...  "
      ]
     },
     "execution_count": 314,
     "metadata": {},
     "output_type": "execute_result"
    }
   ],
   "source": [
    "log_df_period = df.copy() \n",
    "log_df_period = log_df_period.groupby('Period of Report').sum() \n",
    "log_df_period[:10]"
   ]
  },
  {
   "cell_type": "markdown",
   "metadata": {},
   "source": [
    "Let's try annotating each report by whether the report writers use the word 'disaster'.\n",
    "\n",
    "We can use str.contains() to detect whether the text in each report's text column (log_df_disaster['Content']) contains the string 'disaster':\n",
    "\n",
    "        log_df_disaster['Content'].str.contains('disaster')\n",
    "\n",
    "\n",
    "This line makes a new column called 'disaster' with the value 'TRUE' for documents that use the word 'disaster' and 'FALSE' if they don't:\n",
    "\n",
    "        log_df_disaster['disaster'] = log_df_disaster['Content'].str.contains('disaster').copy()\n",
    "\n",
    "\n",
    "We can group all the reports together for future analysis by using groupby().sum() with the name of the column we're grouping by in parentheses:\n",
    "\n",
    "        log_df_disaster.groupby('disaster').sum() \n",
    "\n"
   ]
  },
  {
   "cell_type": "code",
   "execution_count": 330,
   "metadata": {},
   "outputs": [],
   "source": [
    "log_df_by_word = df.copy()\n",
    "log_df_by_word['is_word_there'] = log_df_by_word['Content'].str.contains('diversity').copy() # search for string\n",
    "log_df_by_word = log_df_by_word.groupby('is_word_there').sum()  # group_by 'is_word_there' T/F\n",
    "log_df_by_word['total words'] = log_df_by_word['Content'].str.split().str.len() # count the words in each category\n"
   ]
  },
  {
   "cell_type": "code",
   "execution_count": 328,
   "metadata": {},
   "outputs": [
    {
     "data": {
      "text/html": [
       "<div>\n",
       "<style scoped>\n",
       "    .dataframe tbody tr th:only-of-type {\n",
       "        vertical-align: middle;\n",
       "    }\n",
       "\n",
       "    .dataframe tbody tr th {\n",
       "        vertical-align: top;\n",
       "    }\n",
       "\n",
       "    .dataframe thead th {\n",
       "        text-align: right;\n",
       "    }\n",
       "</style>\n",
       "<table border=\"1\" class=\"dataframe\">\n",
       "  <thead>\n",
       "    <tr style=\"text-align: right;\">\n",
       "      <th></th>\n",
       "      <th>Company</th>\n",
       "      <th>Content</th>\n",
       "      <th>Period of Report</th>\n",
       "      <th>total words</th>\n",
       "    </tr>\n",
       "    <tr>\n",
       "      <th>is_word_there</th>\n",
       "      <th></th>\n",
       "      <th></th>\n",
       "      <th></th>\n",
       "      <th></th>\n",
       "    </tr>\n",
       "  </thead>\n",
       "  <tbody>\n",
       "    <tr>\n",
       "      <th>False</th>\n",
       "      <td>Alphabet Inc.Alphabet Inc.Alphabet Inc.Alphabe...</td>\n",
       "      <td>document usgaapcommonclassbmember googcapitalc...</td>\n",
       "      <td>2019-12-312018-12-312018-12-312017-12-312016-1...</td>\n",
       "      <td>1659887</td>\n",
       "    </tr>\n",
       "    <tr>\n",
       "      <th>True</th>\n",
       "      <td>EXXON MOBIL CORPEXXON MOBIL CORPEXXON MOBIL CO...</td>\n",
       "      <td>usgaapusgovernmentdebtsecuritiesmember country...</td>\n",
       "      <td>2019-12-312018-12-312017-12-312016-12-312015-1...</td>\n",
       "      <td>1751715</td>\n",
       "    </tr>\n",
       "  </tbody>\n",
       "</table>\n",
       "</div>"
      ],
      "text/plain": [
       "                                                         Company  \\\n",
       "is_word_there                                                      \n",
       "False          Alphabet Inc.Alphabet Inc.Alphabet Inc.Alphabe...   \n",
       "True           EXXON MOBIL CORPEXXON MOBIL CORPEXXON MOBIL CO...   \n",
       "\n",
       "                                                         Content  \\\n",
       "is_word_there                                                      \n",
       "False          document usgaapcommonclassbmember googcapitalc...   \n",
       "True           usgaapusgovernmentdebtsecuritiesmember country...   \n",
       "\n",
       "                                                Period of Report  total words  \n",
       "is_word_there                                                                  \n",
       "False          2019-12-312018-12-312018-12-312017-12-312016-1...      1659887  \n",
       "True           2019-12-312018-12-312017-12-312016-12-312015-1...      1751715  "
      ]
     },
     "execution_count": 328,
     "metadata": {},
     "output_type": "execute_result"
    }
   ],
   "source": [
    "log_df_by_word[:10]"
   ]
  },
  {
   "cell_type": "markdown",
   "metadata": {},
   "source": [
    "Please note that we could use this method to try to understand the context of a particular word -- for instance, what is characteristic of speeches that refer to 'climate change' versus 'the environment.'"
   ]
  },
  {
   "cell_type": "code",
   "execution_count": 345,
   "metadata": {},
   "outputs": [
    {
     "data": {
      "text/html": [
       "<div>\n",
       "<style scoped>\n",
       "    .dataframe tbody tr th:only-of-type {\n",
       "        vertical-align: middle;\n",
       "    }\n",
       "\n",
       "    .dataframe tbody tr th {\n",
       "        vertical-align: top;\n",
       "    }\n",
       "\n",
       "    .dataframe thead th {\n",
       "        text-align: right;\n",
       "    }\n",
       "</style>\n",
       "<table border=\"1\" class=\"dataframe\">\n",
       "  <thead>\n",
       "    <tr style=\"text-align: right;\">\n",
       "      <th></th>\n",
       "      <th>Company</th>\n",
       "      <th>Content</th>\n",
       "      <th>Period of Report</th>\n",
       "      <th>total words</th>\n",
       "    </tr>\n",
       "    <tr>\n",
       "      <th>is_word_there</th>\n",
       "      <th></th>\n",
       "      <th></th>\n",
       "      <th></th>\n",
       "      <th></th>\n",
       "    </tr>\n",
       "  </thead>\n",
       "  <tbody>\n",
       "    <tr>\n",
       "      <th>False</th>\n",
       "      <td>Alphabet Inc.Alphabet Inc.MICROSOFT CORPAlphab...</td>\n",
       "      <td>amendment form united state security exchange ...</td>\n",
       "      <td>2018-12-312015-12-312001-06-302018-12-312015-1...</td>\n",
       "      <td>62176</td>\n",
       "    </tr>\n",
       "    <tr>\n",
       "      <th>True</th>\n",
       "      <td>EXXON MOBIL CORPEXXON MOBIL CORPEXXON MOBIL CO...</td>\n",
       "      <td>usgaapusgovernmentdebtsecuritiesmember country...</td>\n",
       "      <td>2019-12-312018-12-312017-12-312016-12-312015-1...</td>\n",
       "      <td>3349426</td>\n",
       "    </tr>\n",
       "    <tr>\n",
       "      <th>False</th>\n",
       "      <td>Alphabet Inc.Alphabet Inc.Alphabet Inc.Alphabe...</td>\n",
       "      <td>document usgaapcommonclassbmember googcapitalc...</td>\n",
       "      <td>2019-12-312018-12-312018-12-312017-12-312016-1...</td>\n",
       "      <td>1659887</td>\n",
       "    </tr>\n",
       "    <tr>\n",
       "      <th>True</th>\n",
       "      <td>EXXON MOBIL CORPEXXON MOBIL CORPEXXON MOBIL CO...</td>\n",
       "      <td>usgaapusgovernmentdebtsecuritiesmember country...</td>\n",
       "      <td>2019-12-312018-12-312017-12-312016-12-312015-1...</td>\n",
       "      <td>1751715</td>\n",
       "    </tr>\n",
       "  </tbody>\n",
       "</table>\n",
       "</div>"
      ],
      "text/plain": [
       "                                                         Company  \\\n",
       "is_word_there                                                      \n",
       "False          Alphabet Inc.Alphabet Inc.MICROSOFT CORPAlphab...   \n",
       "True           EXXON MOBIL CORPEXXON MOBIL CORPEXXON MOBIL CO...   \n",
       "False          Alphabet Inc.Alphabet Inc.Alphabet Inc.Alphabe...   \n",
       "True           EXXON MOBIL CORPEXXON MOBIL CORPEXXON MOBIL CO...   \n",
       "\n",
       "                                                         Content  \\\n",
       "is_word_there                                                      \n",
       "False          amendment form united state security exchange ...   \n",
       "True           usgaapusgovernmentdebtsecuritiesmember country...   \n",
       "False          document usgaapcommonclassbmember googcapitalc...   \n",
       "True           usgaapusgovernmentdebtsecuritiesmember country...   \n",
       "\n",
       "                                                Period of Report  total words  \n",
       "is_word_there                                                                  \n",
       "False          2018-12-312015-12-312001-06-302018-12-312015-1...        62176  \n",
       "True           2019-12-312018-12-312017-12-312016-12-312015-1...      3349426  \n",
       "False          2019-12-312018-12-312018-12-312017-12-312016-1...      1659887  \n",
       "True           2019-12-312018-12-312017-12-312016-12-312015-1...      1751715  "
      ]
     },
     "execution_count": 345,
     "metadata": {},
     "output_type": "execute_result"
    }
   ],
   "source": [
    "log_df_by_word2 = df.copy()\n",
    "log_df_by_word2['is_word_there'] = log_df_by_word2['Content'].str.contains('environmental').copy() # search for string\n",
    "log_df_by_word2 = log_df_by_word2.groupby('is_word_there').sum()  # group_by 'is_word_there' T/F\n",
    "log_df_by_word2['total words'] = log_df_by_word2['Content'].str.split().str.len() # count the words in each category\n",
    "log_df_by_word2 = log_df_by_word2.append(log_df_by_word)\n",
    "log_df_by_word2"
   ]
  },
  {
   "cell_type": "markdown",
   "metadata": {},
   "source": [
    "Now, however, we'll go back to a version of the data organized by 'company' so that we can compare the words most distinctive of every corporation's style of reporting."
   ]
  },
  {
   "cell_type": "code",
   "execution_count": 355,
   "metadata": {},
   "outputs": [
    {
     "data": {
      "text/html": [
       "<div>\n",
       "<style scoped>\n",
       "    .dataframe tbody tr th:only-of-type {\n",
       "        vertical-align: middle;\n",
       "    }\n",
       "\n",
       "    .dataframe tbody tr th {\n",
       "        vertical-align: top;\n",
       "    }\n",
       "\n",
       "    .dataframe thead th {\n",
       "        text-align: right;\n",
       "    }\n",
       "</style>\n",
       "<table border=\"1\" class=\"dataframe\">\n",
       "  <thead>\n",
       "    <tr style=\"text-align: right;\">\n",
       "      <th></th>\n",
       "      <th>Content</th>\n",
       "      <th>Period of Report</th>\n",
       "    </tr>\n",
       "    <tr>\n",
       "      <th>Company</th>\n",
       "      <th></th>\n",
       "      <th></th>\n",
       "    </tr>\n",
       "  </thead>\n",
       "  <tbody>\n",
       "    <tr>\n",
       "      <th>AMAZON COM INC</th>\n",
       "      <td>document usgaapproductmember usgaapservicememb...</td>\n",
       "      <td>2019-12-312018-12-312017-12-312016-12-312015-1...</td>\n",
       "    </tr>\n",
       "    <tr>\n",
       "      <th>APPLE INC</th>\n",
       "      <td>statessecurities exchange commissionwashington...</td>\n",
       "      <td>2020-09-262019-09-282018-09-292017-09-302016-0...</td>\n",
       "    </tr>\n",
       "    <tr>\n",
       "      <th>Alphabet Inc.</th>\n",
       "      <td>document usgaapcommonclassbmember googcapitalc...</td>\n",
       "      <td>2019-12-312018-12-312018-12-312017-12-312016-1...</td>\n",
       "    </tr>\n",
       "    <tr>\n",
       "      <th>EXXON MOBIL CORP</th>\n",
       "      <td>usgaapusgovernmentdebtsecuritiesmember country...</td>\n",
       "      <td>2019-12-312018-12-312017-12-312016-12-312015-1...</td>\n",
       "    </tr>\n",
       "    <tr>\n",
       "      <th>FORD MOTOR CO</th>\n",
       "      <td>statessecurities exchange commissionwashington...</td>\n",
       "      <td>2020-12-312019-12-312018-12-312017-12-312017-1...</td>\n",
       "    </tr>\n",
       "    <tr>\n",
       "      <th>MARATHON PETROLEUM CORP</th>\n",
       "      <td>content united state security exchange commiss...</td>\n",
       "      <td>2020-12-312019-12-312018-12-312017-12-312016-1...</td>\n",
       "    </tr>\n",
       "    <tr>\n",
       "      <th>MICROSOFT CORP</th>\n",
       "      <td>false fy usgaapcommonstockmember xbrlishares x...</td>\n",
       "      <td>2020-06-302019-06-302018-06-302017-06-302016-0...</td>\n",
       "    </tr>\n",
       "    <tr>\n",
       "      <th>RAYTHEON CO</th>\n",
       "      <td>page security exchange commission washington f...</td>\n",
       "      <td>1994-12-31</td>\n",
       "    </tr>\n",
       "  </tbody>\n",
       "</table>\n",
       "</div>"
      ],
      "text/plain": [
       "                                                                   Content  \\\n",
       "Company                                                                      \n",
       "AMAZON COM INC           document usgaapproductmember usgaapservicememb...   \n",
       "APPLE INC                statessecurities exchange commissionwashington...   \n",
       "Alphabet Inc.            document usgaapcommonclassbmember googcapitalc...   \n",
       "EXXON MOBIL CORP         usgaapusgovernmentdebtsecuritiesmember country...   \n",
       "FORD MOTOR CO            statessecurities exchange commissionwashington...   \n",
       "MARATHON PETROLEUM CORP  content united state security exchange commiss...   \n",
       "MICROSOFT CORP           false fy usgaapcommonstockmember xbrlishares x...   \n",
       "RAYTHEON CO              page security exchange commission washington f...   \n",
       "\n",
       "                                                          Period of Report  \n",
       "Company                                                                     \n",
       "AMAZON COM INC           2019-12-312018-12-312017-12-312016-12-312015-1...  \n",
       "APPLE INC                2020-09-262019-09-282018-09-292017-09-302016-0...  \n",
       "Alphabet Inc.            2019-12-312018-12-312018-12-312017-12-312016-1...  \n",
       "EXXON MOBIL CORP         2019-12-312018-12-312017-12-312016-12-312015-1...  \n",
       "FORD MOTOR CO            2020-12-312019-12-312018-12-312017-12-312017-1...  \n",
       "MARATHON PETROLEUM CORP  2020-12-312019-12-312018-12-312017-12-312016-1...  \n",
       "MICROSOFT CORP           2020-06-302019-06-302018-06-302017-06-302016-0...  \n",
       "RAYTHEON CO                                                     1994-12-31  "
      ]
     },
     "execution_count": 355,
     "metadata": {},
     "output_type": "execute_result"
    }
   ],
   "source": [
    "log_df[:10]"
   ]
  },
  {
   "cell_type": "markdown",
   "metadata": {},
   "source": [
    "# Working With Wordcount Vectors"
   ]
  },
  {
   "cell_type": "markdown",
   "metadata": {},
   "source": [
    "Next, we're going to import some statistics tools from the SKLEARN package (pronounced 'sci kit learn.').  The first tool is CountVectorizer(). \n"
   ]
  },
  {
   "cell_type": "code",
   "execution_count": null,
   "metadata": {},
   "outputs": [],
   "source": [
    "# use as necessary\n",
    "#!pip install sklearn --user\n",
    "#!pip install numpy --user"
   ]
  },
  {
   "cell_type": "code",
   "execution_count": 116,
   "metadata": {},
   "outputs": [],
   "source": [
    "from sklearn.feature_extraction.text import CountVectorizer"
   ]
  },
  {
   "cell_type": "markdown",
   "metadata": {},
   "source": [
    "\n",
    "Countvectorizer() will begin thinking about making a dataframe for counting every word of the corpus.  for it to work, we have to set some presets: how many features a giant column of entries of counts for every word in the entire corpus (a 'wordcount vector', which we're calling 'allwordcountsvector').  The word 'finance' will have a row; 'security; will have a row, etc.  "
   ]
  },
  {
   "cell_type": "code",
   "execution_count": 205,
   "metadata": {},
   "outputs": [],
   "source": [
    "vectorizer = CountVectorizer(max_features=10000, lowercase=True, ngram_range=(1, 2), analyzer = \"word\")"
   ]
  },
  {
   "cell_type": "markdown",
   "metadata": {},
   "source": [
    "Note that there isn't anything IN vectorizer yet; we can't look at it.  It's just a collection of commands:\n",
    "- max_features -- tells the vectorizer to look for only the most frequent 10000 terms in the corpus; this means it will throw out many one-time or two-time features.\n",
    "- lowercase=True tells the vectorizer to lowercase everything -- strictly speaking it's redundant since we already did that above.\n",
    "- ngram_range=(min, max) means that we're asking it to find all one-word ngrams, but nothing over two n-grams in a row. we could play with this.  \n",
    "-analyzer -- can be \"word\" or \"char\".  \n",
    "\n",
    "SKLEARN has a lot of built-in features for using these tools to make word vectors very smart -- for example, creating custom stop-word lists.  To read up on countvectorizer(), see  https://kavita-ganesan.com/how-to-use-countvectorizer/"
   ]
  },
  {
   "cell_type": "markdown",
   "metadata": {},
   "source": [
    "Next, we'll use the fit_transform() command from SKLEARN to create a giant column of entries of counts for every word in the entire corpus (a 'wordcount vector', which we're calling 'vectorizer').  The word 'finance' will have a row; 'security; will have a row, etc.  "
   ]
  },
  {
   "cell_type": "code",
   "execution_count": 206,
   "metadata": {},
   "outputs": [],
   "source": [
    "vectorized = vectorizer.fit_transform(log_df['Content'])"
   ]
  },
  {
   "cell_type": "markdown",
   "metadata": {},
   "source": [
    "Great! You made a word vector. Now what's inside?"
   ]
  },
  {
   "cell_type": "markdown",
   "metadata": {},
   "source": [
    "### Navigating a Word Vector"
   ]
  },
  {
   "cell_type": "markdown",
   "metadata": {},
   "source": [
    "A Word Vector stores the counted up word tallies in the specified column, in this case, ['Content']. They are grouped by the rows in the dataframe, in this case, ['Company']. So we should be able to extract lots of information: a list of words, a list of counts, and how many different matrices (one per company) there are.\n",
    "\n",
    "To extract the word names, we use \n",
    "\n",
    "        vectorizer.get_feature_names() \n",
    "        \n",
    "        \n",
    "To extract the word counts, we use\n",
    "\n",
    "        vectorizer.todense()\n",
    "        \n",
    "\n",
    "To extract general information about how many words and counts there are, we use\n",
    "\n",
    "        vectorized.shape\n",
    "\n",
    "\n",
    "We can also look at any individual item in the word vector by calling its coordinates:\n",
    "\n",
    "        vectorized[company_id, word_id]\n"
   ]
  },
  {
   "cell_type": "markdown",
   "metadata": {},
   "source": [
    "Here's what it actually looks like.  To make wordcount vectors swift, the computer stores the wordcounts as numbers; the labels 'word' and 'company' are stored elsewhere."
   ]
  },
  {
   "cell_type": "code",
   "execution_count": 207,
   "metadata": {},
   "outputs": [
    {
     "name": "stdout",
     "output_type": "stream",
     "text": [
      "['aaarated', 'aaarated money', 'ab', 'ability', 'ability attract', 'ability compete', 'ability maintain', 'ability make', 'ability manage', 'ability obtain', 'ability sell', 'able', 'absence', 'absolute', 'absolute assurance', 'absolute dollar', 'abu', 'abu dhabi', 'ac', 'academic', 'accelerate', 'accelerated', 'accelerated depreciation', 'accelerated filer', 'accept', 'acceptable', 'acceptable term', 'acceptance', 'accepted', 'accepted accounting', 'accepted united', 'access', 'accessory', 'accessory service', 'accident', 'accommodate', 'accompanying', 'accompanying consolidated', 'accompanying management', 'accompanying note', 'accord', 'accordance', 'accordance accounting', 'accordance authorization', 'accordance gaap', 'accordance generally', 'accordance security', 'accordance standard', 'according', 'accordingly', 'account', 'account payable', 'account receivable', 'accountant', 'accountant accounting', 'accountant fee', 'accounted', 'accounted equity', 'accounted subscription', 'accounted using', 'accounting', 'accounting change', 'accounting estimate', 'accounting fee', 'accounting financial', 'accounting firm', 'accounting guidance', 'accounting hedge', 'accounting income', 'accounting investment', 'accounting officer', 'accounting oversight', 'accounting policy', 'accounting principle', 'accounting purpose', 'accounting standard', 'accreted', 'accretion', 'accretion discount', 'accrual', 'accrual respect', 'accrue', 'accrued', 'accrued expense', 'accrued interest', 'accrued liability', 'accrued warranty', 'accrues', 'accumulated', 'accumulated benefit', 'accumulated communicated', 'accumulated comprehensive', 'accumulated depreciation', 'accumulatedamortization', 'accurately', 'accurately fairly', 'accurately forecast', 'achieve', 'achieved', 'achieving']\n"
     ]
    }
   ],
   "source": [
    "print(vectorizer.get_feature_names()[:100])"
   ]
  },
  {
   "cell_type": "code",
   "execution_count": 359,
   "metadata": {},
   "outputs": [
    {
     "data": {
      "text/plain": [
       "matrix([[ 76,  76,   0, ...,   0,   0,   0],\n",
       "        [  0,   0,   0, ...,   8,   0,   0],\n",
       "        [  0,   0,   0, ..., 266,   0,   0],\n",
       "        ...,\n",
       "        [  0,   0,  18, ...,   0,   0,   0],\n",
       "        [  0,   0,  44, ...,   0,   0,   0],\n",
       "        [  0,   0,   0, ...,   0,   0,   0]], dtype=int64)"
      ]
     },
     "execution_count": 359,
     "metadata": {},
     "output_type": "execute_result"
    }
   ],
   "source": [
    "vectorized.todense()"
   ]
  },
  {
   "cell_type": "markdown",
   "metadata": {},
   "source": [
    "The 'vectorized' variable also has information about the wordcounts per company.  It is a matrix with eight columns and 10,000 words each (remember how we set the word vectors to count the most common 10,000 words?) "
   ]
  },
  {
   "cell_type": "code",
   "execution_count": 209,
   "metadata": {},
   "outputs": [
    {
     "data": {
      "text/plain": [
       "(8, 10000)"
      ]
     },
     "execution_count": 209,
     "metadata": {},
     "output_type": "execute_result"
    }
   ],
   "source": [
    "vectorized.shape"
   ]
  },
  {
   "cell_type": "markdown",
   "metadata": {},
   "source": [
    "We can call the wordcount vector matrix by giving it the coordinate of every company (0 is Amazon, 7 is Raytheon) and the id number of every word (0 to 10000)."
   ]
  },
  {
   "cell_type": "markdown",
   "metadata": {},
   "source": [
    "Here's what it actually looks like.  To make wordcount vectors swift, the computer stores the wordcounts as numbers; the labels 'word' and 'company' are stored elsewhere."
   ]
  },
  {
   "cell_type": "markdown",
   "metadata": {},
   "source": [
    "So let's try it out.  How many times does the Exxon documentation (#3 when you start counting from zero, as Python does) mention the word \"ability\" (#2 in the wordlist when you start counting from zero)?"
   ]
  },
  {
   "cell_type": "code",
   "execution_count": 210,
   "metadata": {},
   "outputs": [
    {
     "data": {
      "text/plain": [
       "0"
      ]
     },
     "execution_count": 210,
     "metadata": {},
     "output_type": "execute_result"
    }
   ],
   "source": [
    "vectorized[3, 2]"
   ]
  },
  {
   "cell_type": "markdown",
   "metadata": {},
   "source": [
    "### Getting information out of a Word Vector"
   ]
  },
  {
   "cell_type": "markdown",
   "metadata": {},
   "source": [
    "That's great.  But it's also a little hard to use, frankly; matrices are notoriously hard to get labels out of.  Ideally we'd like a dataframe with a column called \"word\" and another column called \"company,\" and the wordcount for each.  \n"
   ]
  },
  {
   "cell_type": "markdown",
   "metadata": {},
   "source": [
    "The NUMPTY and PANDAS packages excel at normalizing difficult-to-read data formats."
   ]
  },
  {
   "cell_type": "code",
   "execution_count": 211,
   "metadata": {},
   "outputs": [],
   "source": [
    "# !pip install numpy --user "
   ]
  },
  {
   "cell_type": "code",
   "execution_count": 212,
   "metadata": {},
   "outputs": [],
   "source": [
    "import numpy as np"
   ]
  },
  {
   "cell_type": "markdown",
   "metadata": {},
   "source": [
    "Let's make a list of words.  We can use\n",
    "\n",
    "        vectorizer.get_feature_names()\n",
    "       "
   ]
  },
  {
   "cell_type": "code",
   "execution_count": 213,
   "metadata": {},
   "outputs": [],
   "source": [
    "all_words = np.array(vectorizer.get_feature_names())"
   ]
  },
  {
   "cell_type": "code",
   "execution_count": 214,
   "metadata": {},
   "outputs": [
    {
     "data": {
      "text/plain": [
       "array(['aaarated', 'aaarated money', 'ab', 'ability', 'ability attract',\n",
       "       'ability compete', 'ability maintain', 'ability make',\n",
       "       'ability manage', 'ability obtain'], dtype='<U64')"
      ]
     },
     "execution_count": 214,
     "metadata": {},
     "output_type": "execute_result"
    }
   ],
   "source": [
    "all_words[:10]"
   ]
  },
  {
   "cell_type": "markdown",
   "metadata": {},
   "source": [
    "Let's make a list of companies. We have this information in the 'row' names of log_df.  \n",
    "\n",
    "Specifying \n",
    "        \n",
    "        .axes[0] \n",
    "\n",
    "\n",
    "lets us call the vertical axis names (that is, the row names of the dataframe).  Two other commands:\n",
    "\n",
    "        to_numpy()  \n",
    "        list()\n",
    "\n",
    "\n",
    "helps with formatting.  Put together:\n",
    "\n",
    "        list(df.axes[0].to_numpy())\n",
    "        "
   ]
  },
  {
   "cell_type": "code",
   "execution_count": 215,
   "metadata": {},
   "outputs": [],
   "source": [
    "company_names = list(log_df.axes[0].to_numpy())"
   ]
  },
  {
   "cell_type": "code",
   "execution_count": 216,
   "metadata": {},
   "outputs": [
    {
     "data": {
      "text/plain": [
       "['AMAZON COM INC',\n",
       " 'APPLE INC',\n",
       " 'Alphabet Inc.',\n",
       " 'EXXON MOBIL CORP',\n",
       " 'FORD MOTOR CO',\n",
       " 'MARATHON PETROLEUM CORP',\n",
       " 'MICROSOFT CORP',\n",
       " 'RAYTHEON CO']"
      ]
     },
     "execution_count": 216,
     "metadata": {},
     "output_type": "execute_result"
    }
   ],
   "source": [
    "company_names"
   ]
  },
  {
   "cell_type": "markdown",
   "metadata": {},
   "source": [
    "We can glue together all_words and company_names into an easy-to-read DataFrame using pandas' pd.DataFrame():"
   ]
  },
  {
   "cell_type": "code",
   "execution_count": 217,
   "metadata": {},
   "outputs": [],
   "source": [
    "vectors_dataframe = pd.DataFrame(vectorized.todense(), # the matrix we saw above is turned into a dataframe\n",
    "                                 columns=all_words,\n",
    "                                 index = company_names\n",
    "                                 )"
   ]
  },
  {
   "cell_type": "code",
   "execution_count": 218,
   "metadata": {},
   "outputs": [
    {
     "data": {
      "text/html": [
       "<div>\n",
       "<style scoped>\n",
       "    .dataframe tbody tr th:only-of-type {\n",
       "        vertical-align: middle;\n",
       "    }\n",
       "\n",
       "    .dataframe tbody tr th {\n",
       "        vertical-align: top;\n",
       "    }\n",
       "\n",
       "    .dataframe thead th {\n",
       "        text-align: right;\n",
       "    }\n",
       "</style>\n",
       "<table border=\"1\" class=\"dataframe\">\n",
       "  <thead>\n",
       "    <tr style=\"text-align: right;\">\n",
       "      <th></th>\n",
       "      <th>aaarated</th>\n",
       "      <th>aaarated money</th>\n",
       "      <th>ab</th>\n",
       "      <th>ability</th>\n",
       "      <th>ability attract</th>\n",
       "      <th>ability compete</th>\n",
       "      <th>ability maintain</th>\n",
       "      <th>ability make</th>\n",
       "      <th>ability manage</th>\n",
       "      <th>ability obtain</th>\n",
       "      <th>...</th>\n",
       "      <th>yield</th>\n",
       "      <th>yield curve</th>\n",
       "      <th>york</th>\n",
       "      <th>york mellon</th>\n",
       "      <th>york stock</th>\n",
       "      <th>young</th>\n",
       "      <th>young llp</th>\n",
       "      <th>youtube</th>\n",
       "      <th>zakum</th>\n",
       "      <th>zev</th>\n",
       "    </tr>\n",
       "  </thead>\n",
       "  <tbody>\n",
       "    <tr>\n",
       "      <th>AMAZON COM INC</th>\n",
       "      <td>76</td>\n",
       "      <td>76</td>\n",
       "      <td>0</td>\n",
       "      <td>235</td>\n",
       "      <td>0</td>\n",
       "      <td>0</td>\n",
       "      <td>0</td>\n",
       "      <td>0</td>\n",
       "      <td>0</td>\n",
       "      <td>0</td>\n",
       "      <td>...</td>\n",
       "      <td>0</td>\n",
       "      <td>0</td>\n",
       "      <td>21</td>\n",
       "      <td>0</td>\n",
       "      <td>0</td>\n",
       "      <td>122</td>\n",
       "      <td>73</td>\n",
       "      <td>0</td>\n",
       "      <td>0</td>\n",
       "      <td>0</td>\n",
       "    </tr>\n",
       "    <tr>\n",
       "      <th>APPLE INC</th>\n",
       "      <td>0</td>\n",
       "      <td>0</td>\n",
       "      <td>0</td>\n",
       "      <td>438</td>\n",
       "      <td>24</td>\n",
       "      <td>42</td>\n",
       "      <td>20</td>\n",
       "      <td>0</td>\n",
       "      <td>48</td>\n",
       "      <td>56</td>\n",
       "      <td>...</td>\n",
       "      <td>88</td>\n",
       "      <td>28</td>\n",
       "      <td>84</td>\n",
       "      <td>20</td>\n",
       "      <td>56</td>\n",
       "      <td>130</td>\n",
       "      <td>110</td>\n",
       "      <td>8</td>\n",
       "      <td>0</td>\n",
       "      <td>0</td>\n",
       "    </tr>\n",
       "    <tr>\n",
       "      <th>Alphabet Inc.</th>\n",
       "      <td>0</td>\n",
       "      <td>0</td>\n",
       "      <td>0</td>\n",
       "      <td>463</td>\n",
       "      <td>45</td>\n",
       "      <td>27</td>\n",
       "      <td>0</td>\n",
       "      <td>0</td>\n",
       "      <td>10</td>\n",
       "      <td>0</td>\n",
       "      <td>...</td>\n",
       "      <td>10</td>\n",
       "      <td>0</td>\n",
       "      <td>34</td>\n",
       "      <td>28</td>\n",
       "      <td>0</td>\n",
       "      <td>116</td>\n",
       "      <td>112</td>\n",
       "      <td>266</td>\n",
       "      <td>0</td>\n",
       "      <td>0</td>\n",
       "    </tr>\n",
       "    <tr>\n",
       "      <th>EXXON MOBIL CORP</th>\n",
       "      <td>0</td>\n",
       "      <td>0</td>\n",
       "      <td>0</td>\n",
       "      <td>407</td>\n",
       "      <td>0</td>\n",
       "      <td>0</td>\n",
       "      <td>26</td>\n",
       "      <td>0</td>\n",
       "      <td>50</td>\n",
       "      <td>0</td>\n",
       "      <td>...</td>\n",
       "      <td>104</td>\n",
       "      <td>38</td>\n",
       "      <td>163</td>\n",
       "      <td>0</td>\n",
       "      <td>87</td>\n",
       "      <td>0</td>\n",
       "      <td>0</td>\n",
       "      <td>0</td>\n",
       "      <td>77</td>\n",
       "      <td>0</td>\n",
       "    </tr>\n",
       "    <tr>\n",
       "      <th>FORD MOTOR CO</th>\n",
       "      <td>0</td>\n",
       "      <td>0</td>\n",
       "      <td>26</td>\n",
       "      <td>349</td>\n",
       "      <td>4</td>\n",
       "      <td>0</td>\n",
       "      <td>27</td>\n",
       "      <td>10</td>\n",
       "      <td>0</td>\n",
       "      <td>69</td>\n",
       "      <td>...</td>\n",
       "      <td>173</td>\n",
       "      <td>44</td>\n",
       "      <td>72</td>\n",
       "      <td>0</td>\n",
       "      <td>67</td>\n",
       "      <td>3</td>\n",
       "      <td>0</td>\n",
       "      <td>0</td>\n",
       "      <td>0</td>\n",
       "      <td>94</td>\n",
       "    </tr>\n",
       "    <tr>\n",
       "      <th>MARATHON PETROLEUM CORP</th>\n",
       "      <td>0</td>\n",
       "      <td>0</td>\n",
       "      <td>18</td>\n",
       "      <td>430</td>\n",
       "      <td>0</td>\n",
       "      <td>13</td>\n",
       "      <td>0</td>\n",
       "      <td>19</td>\n",
       "      <td>11</td>\n",
       "      <td>15</td>\n",
       "      <td>...</td>\n",
       "      <td>144</td>\n",
       "      <td>37</td>\n",
       "      <td>177</td>\n",
       "      <td>96</td>\n",
       "      <td>35</td>\n",
       "      <td>0</td>\n",
       "      <td>0</td>\n",
       "      <td>0</td>\n",
       "      <td>0</td>\n",
       "      <td>0</td>\n",
       "    </tr>\n",
       "    <tr>\n",
       "      <th>MICROSOFT CORP</th>\n",
       "      <td>0</td>\n",
       "      <td>0</td>\n",
       "      <td>44</td>\n",
       "      <td>672</td>\n",
       "      <td>84</td>\n",
       "      <td>0</td>\n",
       "      <td>4</td>\n",
       "      <td>56</td>\n",
       "      <td>0</td>\n",
       "      <td>0</td>\n",
       "      <td>...</td>\n",
       "      <td>38</td>\n",
       "      <td>0</td>\n",
       "      <td>366</td>\n",
       "      <td>358</td>\n",
       "      <td>6</td>\n",
       "      <td>0</td>\n",
       "      <td>0</td>\n",
       "      <td>0</td>\n",
       "      <td>0</td>\n",
       "      <td>0</td>\n",
       "    </tr>\n",
       "    <tr>\n",
       "      <th>RAYTHEON CO</th>\n",
       "      <td>0</td>\n",
       "      <td>0</td>\n",
       "      <td>0</td>\n",
       "      <td>1</td>\n",
       "      <td>0</td>\n",
       "      <td>0</td>\n",
       "      <td>0</td>\n",
       "      <td>0</td>\n",
       "      <td>0</td>\n",
       "      <td>0</td>\n",
       "      <td>...</td>\n",
       "      <td>0</td>\n",
       "      <td>0</td>\n",
       "      <td>1</td>\n",
       "      <td>0</td>\n",
       "      <td>1</td>\n",
       "      <td>0</td>\n",
       "      <td>0</td>\n",
       "      <td>0</td>\n",
       "      <td>0</td>\n",
       "      <td>0</td>\n",
       "    </tr>\n",
       "  </tbody>\n",
       "</table>\n",
       "<p>8 rows × 10000 columns</p>\n",
       "</div>"
      ],
      "text/plain": [
       "                         aaarated  aaarated money  ab  ability  \\\n",
       "AMAZON COM INC                 76              76   0      235   \n",
       "APPLE INC                       0               0   0      438   \n",
       "Alphabet Inc.                   0               0   0      463   \n",
       "EXXON MOBIL CORP                0               0   0      407   \n",
       "FORD MOTOR CO                   0               0  26      349   \n",
       "MARATHON PETROLEUM CORP         0               0  18      430   \n",
       "MICROSOFT CORP                  0               0  44      672   \n",
       "RAYTHEON CO                     0               0   0        1   \n",
       "\n",
       "                         ability attract  ability compete  ability maintain  \\\n",
       "AMAZON COM INC                         0                0                 0   \n",
       "APPLE INC                             24               42                20   \n",
       "Alphabet Inc.                         45               27                 0   \n",
       "EXXON MOBIL CORP                       0                0                26   \n",
       "FORD MOTOR CO                          4                0                27   \n",
       "MARATHON PETROLEUM CORP                0               13                 0   \n",
       "MICROSOFT CORP                        84                0                 4   \n",
       "RAYTHEON CO                            0                0                 0   \n",
       "\n",
       "                         ability make  ability manage  ability obtain  ...  \\\n",
       "AMAZON COM INC                      0               0               0  ...   \n",
       "APPLE INC                           0              48              56  ...   \n",
       "Alphabet Inc.                       0              10               0  ...   \n",
       "EXXON MOBIL CORP                    0              50               0  ...   \n",
       "FORD MOTOR CO                      10               0              69  ...   \n",
       "MARATHON PETROLEUM CORP            19              11              15  ...   \n",
       "MICROSOFT CORP                     56               0               0  ...   \n",
       "RAYTHEON CO                         0               0               0  ...   \n",
       "\n",
       "                         yield  yield curve  york  york mellon  york stock  \\\n",
       "AMAZON COM INC               0            0    21            0           0   \n",
       "APPLE INC                   88           28    84           20          56   \n",
       "Alphabet Inc.               10            0    34           28           0   \n",
       "EXXON MOBIL CORP           104           38   163            0          87   \n",
       "FORD MOTOR CO              173           44    72            0          67   \n",
       "MARATHON PETROLEUM CORP    144           37   177           96          35   \n",
       "MICROSOFT CORP              38            0   366          358           6   \n",
       "RAYTHEON CO                  0            0     1            0           1   \n",
       "\n",
       "                         young  young llp  youtube  zakum  zev  \n",
       "AMAZON COM INC             122         73        0      0    0  \n",
       "APPLE INC                  130        110        8      0    0  \n",
       "Alphabet Inc.              116        112      266      0    0  \n",
       "EXXON MOBIL CORP             0          0        0     77    0  \n",
       "FORD MOTOR CO                3          0        0      0   94  \n",
       "MARATHON PETROLEUM CORP      0          0        0      0    0  \n",
       "MICROSOFT CORP               0          0        0      0    0  \n",
       "RAYTHEON CO                  0          0        0      0    0  \n",
       "\n",
       "[8 rows x 10000 columns]"
      ]
     },
     "execution_count": 218,
     "metadata": {},
     "output_type": "execute_result"
    }
   ],
   "source": [
    "vectors_dataframe"
   ]
  },
  {
   "cell_type": "markdown",
   "metadata": {},
   "source": [
    "We're going to use this dataframe -- vectors_dataframe -- as the basis for our log likelihood calculations.  It's just a table of word counts that has been standardized across all companies, so that we can easily count the number of words in the total corpus (= the number of columns), the number of words in any company's corpus (= the number of non-zero columns per row), and the count of any word. "
   ]
  },
  {
   "cell_type": "markdown",
   "metadata": {},
   "source": [
    " To use that information, we're going to have to be able to look up the entry for a word per company. If we want to call a particular company-word count up, like we did above, we use the pandas iat[] command for looking up a value.  The rule is iat[column, row], or for our purposes, [company, word].  Remember that numbering in Python always starts with 0, so [0, 1] is the entry for the first company (Amazon) and the second word over (aaarated money):"
   ]
  },
  {
   "cell_type": "code",
   "execution_count": null,
   "metadata": {},
   "outputs": [],
   "source": [
    "vectors_dataframe.iat[0,1]"
   ]
  },
  {
   "cell_type": "code",
   "execution_count": null,
   "metadata": {},
   "outputs": [],
   "source": [
    "vectors_dataframe.iat[7,3]"
   ]
  },
  {
   "cell_type": "markdown",
   "metadata": {},
   "source": [
    "### Play Around With Count_Vectorizer "
   ]
  },
  {
   "cell_type": "markdown",
   "metadata": {},
   "source": [
    "You may be thinking that this was a lot of work for a wordcount dataframe that you could have made in simpler ways.  But you've just learned an incredibly powerful tool.  \n",
    "\n",
    "Remember, above, how we learned that CountVectorizer took many arguments, including ngrams?  We asked our Count_Vectorizer instance to count one-grams and bigrams, but we could ask it to count three-word-phrases and four-word phrases as well. \n",
    "\n",
    "Let's play with a vector that only counts 3 and 4 word ngrams. "
   ]
  },
  {
   "cell_type": "code",
   "execution_count": 169,
   "metadata": {},
   "outputs": [],
   "source": [
    "vectorizer2 = CountVectorizer(max_features=100000, \n",
    "                              lowercase=True, \n",
    "                              ngram_range=(3, 4),  # <-- note that we changed the arguments here from (1, 2) to (3, 4). That's a lower and an upper bound.\n",
    "                              analyzer = \"word\")"
   ]
  },
  {
   "cell_type": "code",
   "execution_count": 170,
   "metadata": {},
   "outputs": [],
   "source": [
    "vectorized2 = vectorizer2.fit_transform(log_df['Content'])"
   ]
  },
  {
   "cell_type": "code",
   "execution_count": 171,
   "metadata": {},
   "outputs": [],
   "source": [
    "all_words = np.array(vectorizer2.get_feature_names())\n",
    "\n",
    "vectors_dataframe2 = pd.DataFrame(vectorized2.todense(), # the matrix we saw above is turned into a dataframe\n",
    "                                 columns=all_words,\n",
    "                                 index = company_names\n",
    "                                 )"
   ]
  },
  {
   "cell_type": "code",
   "execution_count": 172,
   "metadata": {},
   "outputs": [
    {
     "data": {
      "text/plain": [
       "(8, 100000)"
      ]
     },
     "execution_count": 172,
     "metadata": {},
     "output_type": "execute_result"
    }
   ],
   "source": [
    "vectorized2.shape"
   ]
  },
  {
   "cell_type": "code",
   "execution_count": 173,
   "metadata": {},
   "outputs": [
    {
     "data": {
      "text/html": [
       "<div>\n",
       "<style scoped>\n",
       "    .dataframe tbody tr th:only-of-type {\n",
       "        vertical-align: middle;\n",
       "    }\n",
       "\n",
       "    .dataframe tbody tr th {\n",
       "        vertical-align: top;\n",
       "    }\n",
       "\n",
       "    .dataframe thead th {\n",
       "        text-align: right;\n",
       "    }\n",
       "</style>\n",
       "<table border=\"1\" class=\"dataframe\">\n",
       "  <thead>\n",
       "    <tr style=\"text-align: right;\">\n",
       "      <th></th>\n",
       "      <th>aaa cash investment</th>\n",
       "      <th>aaa cash investment excess</th>\n",
       "      <th>aaarated money market</th>\n",
       "      <th>aaarated money market fund</th>\n",
       "      <th>aardolie maatschappij bv</th>\n",
       "      <th>aardolie maatschappij bv qatar</th>\n",
       "      <th>ab diluted ac</th>\n",
       "      <th>abandonment date total</th>\n",
       "      <th>abandonment date total consolidated</th>\n",
       "      <th>abandonment rehabilitation obligation</th>\n",
       "      <th>...</th>\n",
       "      <th>youtube engagement ad</th>\n",
       "      <th>youtube google play</th>\n",
       "      <th>zakum field major</th>\n",
       "      <th>zakum field major offshore</th>\n",
       "      <th>zakum oil concession</th>\n",
       "      <th>zakum oil concession thousand</th>\n",
       "      <th>zapolsky mr zapolsky</th>\n",
       "      <th>zapolsky mr zapolsky served</th>\n",
       "      <th>zip code registrant</th>\n",
       "      <th>zip code registrant telephone</th>\n",
       "    </tr>\n",
       "  </thead>\n",
       "  <tbody>\n",
       "    <tr>\n",
       "      <th>AMAZON COM INC</th>\n",
       "      <td>0</td>\n",
       "      <td>0</td>\n",
       "      <td>76</td>\n",
       "      <td>76</td>\n",
       "      <td>0</td>\n",
       "      <td>0</td>\n",
       "      <td>0</td>\n",
       "      <td>0</td>\n",
       "      <td>0</td>\n",
       "      <td>0</td>\n",
       "      <td>...</td>\n",
       "      <td>0</td>\n",
       "      <td>0</td>\n",
       "      <td>0</td>\n",
       "      <td>0</td>\n",
       "      <td>0</td>\n",
       "      <td>0</td>\n",
       "      <td>17</td>\n",
       "      <td>17</td>\n",
       "      <td>0</td>\n",
       "      <td>0</td>\n",
       "    </tr>\n",
       "    <tr>\n",
       "      <th>APPLE INC</th>\n",
       "      <td>0</td>\n",
       "      <td>0</td>\n",
       "      <td>0</td>\n",
       "      <td>0</td>\n",
       "      <td>0</td>\n",
       "      <td>0</td>\n",
       "      <td>0</td>\n",
       "      <td>0</td>\n",
       "      <td>0</td>\n",
       "      <td>0</td>\n",
       "      <td>...</td>\n",
       "      <td>0</td>\n",
       "      <td>0</td>\n",
       "      <td>0</td>\n",
       "      <td>0</td>\n",
       "      <td>0</td>\n",
       "      <td>0</td>\n",
       "      <td>0</td>\n",
       "      <td>0</td>\n",
       "      <td>10</td>\n",
       "      <td>10</td>\n",
       "    </tr>\n",
       "    <tr>\n",
       "      <th>Alphabet Inc.</th>\n",
       "      <td>0</td>\n",
       "      <td>0</td>\n",
       "      <td>0</td>\n",
       "      <td>0</td>\n",
       "      <td>0</td>\n",
       "      <td>0</td>\n",
       "      <td>0</td>\n",
       "      <td>0</td>\n",
       "      <td>0</td>\n",
       "      <td>0</td>\n",
       "      <td>...</td>\n",
       "      <td>59</td>\n",
       "      <td>24</td>\n",
       "      <td>0</td>\n",
       "      <td>0</td>\n",
       "      <td>0</td>\n",
       "      <td>0</td>\n",
       "      <td>0</td>\n",
       "      <td>0</td>\n",
       "      <td>2</td>\n",
       "      <td>2</td>\n",
       "    </tr>\n",
       "    <tr>\n",
       "      <th>EXXON MOBIL CORP</th>\n",
       "      <td>0</td>\n",
       "      <td>0</td>\n",
       "      <td>0</td>\n",
       "      <td>0</td>\n",
       "      <td>22</td>\n",
       "      <td>20</td>\n",
       "      <td>0</td>\n",
       "      <td>25</td>\n",
       "      <td>25</td>\n",
       "      <td>25</td>\n",
       "      <td>...</td>\n",
       "      <td>0</td>\n",
       "      <td>0</td>\n",
       "      <td>22</td>\n",
       "      <td>22</td>\n",
       "      <td>23</td>\n",
       "      <td>23</td>\n",
       "      <td>0</td>\n",
       "      <td>0</td>\n",
       "      <td>24</td>\n",
       "      <td>24</td>\n",
       "    </tr>\n",
       "    <tr>\n",
       "      <th>FORD MOTOR CO</th>\n",
       "      <td>0</td>\n",
       "      <td>0</td>\n",
       "      <td>0</td>\n",
       "      <td>0</td>\n",
       "      <td>0</td>\n",
       "      <td>0</td>\n",
       "      <td>0</td>\n",
       "      <td>0</td>\n",
       "      <td>0</td>\n",
       "      <td>0</td>\n",
       "      <td>...</td>\n",
       "      <td>0</td>\n",
       "      <td>0</td>\n",
       "      <td>0</td>\n",
       "      <td>0</td>\n",
       "      <td>0</td>\n",
       "      <td>0</td>\n",
       "      <td>0</td>\n",
       "      <td>0</td>\n",
       "      <td>0</td>\n",
       "      <td>0</td>\n",
       "    </tr>\n",
       "    <tr>\n",
       "      <th>MARATHON PETROLEUM CORP</th>\n",
       "      <td>0</td>\n",
       "      <td>0</td>\n",
       "      <td>0</td>\n",
       "      <td>0</td>\n",
       "      <td>0</td>\n",
       "      <td>0</td>\n",
       "      <td>0</td>\n",
       "      <td>0</td>\n",
       "      <td>0</td>\n",
       "      <td>0</td>\n",
       "      <td>...</td>\n",
       "      <td>0</td>\n",
       "      <td>0</td>\n",
       "      <td>0</td>\n",
       "      <td>0</td>\n",
       "      <td>0</td>\n",
       "      <td>0</td>\n",
       "      <td>0</td>\n",
       "      <td>0</td>\n",
       "      <td>0</td>\n",
       "      <td>0</td>\n",
       "    </tr>\n",
       "    <tr>\n",
       "      <th>MICROSOFT CORP</th>\n",
       "      <td>20</td>\n",
       "      <td>20</td>\n",
       "      <td>0</td>\n",
       "      <td>0</td>\n",
       "      <td>0</td>\n",
       "      <td>0</td>\n",
       "      <td>20</td>\n",
       "      <td>0</td>\n",
       "      <td>0</td>\n",
       "      <td>0</td>\n",
       "      <td>...</td>\n",
       "      <td>0</td>\n",
       "      <td>0</td>\n",
       "      <td>0</td>\n",
       "      <td>0</td>\n",
       "      <td>0</td>\n",
       "      <td>0</td>\n",
       "      <td>0</td>\n",
       "      <td>0</td>\n",
       "      <td>0</td>\n",
       "      <td>0</td>\n",
       "    </tr>\n",
       "    <tr>\n",
       "      <th>RAYTHEON CO</th>\n",
       "      <td>0</td>\n",
       "      <td>0</td>\n",
       "      <td>0</td>\n",
       "      <td>0</td>\n",
       "      <td>0</td>\n",
       "      <td>0</td>\n",
       "      <td>0</td>\n",
       "      <td>0</td>\n",
       "      <td>0</td>\n",
       "      <td>0</td>\n",
       "      <td>...</td>\n",
       "      <td>0</td>\n",
       "      <td>0</td>\n",
       "      <td>0</td>\n",
       "      <td>0</td>\n",
       "      <td>0</td>\n",
       "      <td>0</td>\n",
       "      <td>0</td>\n",
       "      <td>0</td>\n",
       "      <td>0</td>\n",
       "      <td>0</td>\n",
       "    </tr>\n",
       "  </tbody>\n",
       "</table>\n",
       "<p>8 rows × 100000 columns</p>\n",
       "</div>"
      ],
      "text/plain": [
       "                         aaa cash investment  aaa cash investment excess  \\\n",
       "AMAZON COM INC                             0                           0   \n",
       "APPLE INC                                  0                           0   \n",
       "Alphabet Inc.                              0                           0   \n",
       "EXXON MOBIL CORP                           0                           0   \n",
       "FORD MOTOR CO                              0                           0   \n",
       "MARATHON PETROLEUM CORP                    0                           0   \n",
       "MICROSOFT CORP                            20                          20   \n",
       "RAYTHEON CO                                0                           0   \n",
       "\n",
       "                         aaarated money market  aaarated money market fund  \\\n",
       "AMAZON COM INC                              76                          76   \n",
       "APPLE INC                                    0                           0   \n",
       "Alphabet Inc.                                0                           0   \n",
       "EXXON MOBIL CORP                             0                           0   \n",
       "FORD MOTOR CO                                0                           0   \n",
       "MARATHON PETROLEUM CORP                      0                           0   \n",
       "MICROSOFT CORP                               0                           0   \n",
       "RAYTHEON CO                                  0                           0   \n",
       "\n",
       "                         aardolie maatschappij bv  \\\n",
       "AMAZON COM INC                                  0   \n",
       "APPLE INC                                       0   \n",
       "Alphabet Inc.                                   0   \n",
       "EXXON MOBIL CORP                               22   \n",
       "FORD MOTOR CO                                   0   \n",
       "MARATHON PETROLEUM CORP                         0   \n",
       "MICROSOFT CORP                                  0   \n",
       "RAYTHEON CO                                     0   \n",
       "\n",
       "                         aardolie maatschappij bv qatar  ab diluted ac  \\\n",
       "AMAZON COM INC                                        0              0   \n",
       "APPLE INC                                             0              0   \n",
       "Alphabet Inc.                                         0              0   \n",
       "EXXON MOBIL CORP                                     20              0   \n",
       "FORD MOTOR CO                                         0              0   \n",
       "MARATHON PETROLEUM CORP                               0              0   \n",
       "MICROSOFT CORP                                        0             20   \n",
       "RAYTHEON CO                                           0              0   \n",
       "\n",
       "                         abandonment date total  \\\n",
       "AMAZON COM INC                                0   \n",
       "APPLE INC                                     0   \n",
       "Alphabet Inc.                                 0   \n",
       "EXXON MOBIL CORP                             25   \n",
       "FORD MOTOR CO                                 0   \n",
       "MARATHON PETROLEUM CORP                       0   \n",
       "MICROSOFT CORP                                0   \n",
       "RAYTHEON CO                                   0   \n",
       "\n",
       "                         abandonment date total consolidated  \\\n",
       "AMAZON COM INC                                             0   \n",
       "APPLE INC                                                  0   \n",
       "Alphabet Inc.                                              0   \n",
       "EXXON MOBIL CORP                                          25   \n",
       "FORD MOTOR CO                                              0   \n",
       "MARATHON PETROLEUM CORP                                    0   \n",
       "MICROSOFT CORP                                             0   \n",
       "RAYTHEON CO                                                0   \n",
       "\n",
       "                         abandonment rehabilitation obligation  ...  \\\n",
       "AMAZON COM INC                                               0  ...   \n",
       "APPLE INC                                                    0  ...   \n",
       "Alphabet Inc.                                                0  ...   \n",
       "EXXON MOBIL CORP                                            25  ...   \n",
       "FORD MOTOR CO                                                0  ...   \n",
       "MARATHON PETROLEUM CORP                                      0  ...   \n",
       "MICROSOFT CORP                                               0  ...   \n",
       "RAYTHEON CO                                                  0  ...   \n",
       "\n",
       "                         youtube engagement ad  youtube google play  \\\n",
       "AMAZON COM INC                               0                    0   \n",
       "APPLE INC                                    0                    0   \n",
       "Alphabet Inc.                               59                   24   \n",
       "EXXON MOBIL CORP                             0                    0   \n",
       "FORD MOTOR CO                                0                    0   \n",
       "MARATHON PETROLEUM CORP                      0                    0   \n",
       "MICROSOFT CORP                               0                    0   \n",
       "RAYTHEON CO                                  0                    0   \n",
       "\n",
       "                         zakum field major  zakum field major offshore  \\\n",
       "AMAZON COM INC                           0                           0   \n",
       "APPLE INC                                0                           0   \n",
       "Alphabet Inc.                            0                           0   \n",
       "EXXON MOBIL CORP                        22                          22   \n",
       "FORD MOTOR CO                            0                           0   \n",
       "MARATHON PETROLEUM CORP                  0                           0   \n",
       "MICROSOFT CORP                           0                           0   \n",
       "RAYTHEON CO                              0                           0   \n",
       "\n",
       "                         zakum oil concession  zakum oil concession thousand  \\\n",
       "AMAZON COM INC                              0                              0   \n",
       "APPLE INC                                   0                              0   \n",
       "Alphabet Inc.                               0                              0   \n",
       "EXXON MOBIL CORP                           23                             23   \n",
       "FORD MOTOR CO                               0                              0   \n",
       "MARATHON PETROLEUM CORP                     0                              0   \n",
       "MICROSOFT CORP                              0                              0   \n",
       "RAYTHEON CO                                 0                              0   \n",
       "\n",
       "                         zapolsky mr zapolsky  zapolsky mr zapolsky served  \\\n",
       "AMAZON COM INC                             17                           17   \n",
       "APPLE INC                                   0                            0   \n",
       "Alphabet Inc.                               0                            0   \n",
       "EXXON MOBIL CORP                            0                            0   \n",
       "FORD MOTOR CO                               0                            0   \n",
       "MARATHON PETROLEUM CORP                     0                            0   \n",
       "MICROSOFT CORP                              0                            0   \n",
       "RAYTHEON CO                                 0                            0   \n",
       "\n",
       "                         zip code registrant  zip code registrant telephone  \n",
       "AMAZON COM INC                             0                              0  \n",
       "APPLE INC                                 10                             10  \n",
       "Alphabet Inc.                              2                              2  \n",
       "EXXON MOBIL CORP                          24                             24  \n",
       "FORD MOTOR CO                              0                              0  \n",
       "MARATHON PETROLEUM CORP                    0                              0  \n",
       "MICROSOFT CORP                             0                              0  \n",
       "RAYTHEON CO                                0                              0  \n",
       "\n",
       "[8 rows x 100000 columns]"
      ]
     },
     "execution_count": 173,
     "metadata": {},
     "output_type": "execute_result"
    }
   ],
   "source": [
    "vectors_dataframe2"
   ]
  },
  {
   "cell_type": "markdown",
   "metadata": {},
   "source": [
    "Pretty cool, eh? We're not going to do anything with this -- although you certainly could use it for the exercise that follows.  \n",
    "\n",
    "You can actually use the features of CountVectorizers to do all sorts of things -- to clean your data, stopword it, lowercase it, and even implement a controlled vocabulary.\n",
    "\n",
    "For instance, if I had a controlled vocabulary called my_dict and a stopwords list called stop_words_list, I could do this:\n",
    "\n",
    "    CountVectorizer(lowercase=True, \n",
    "                stop_words = stop_words_list,\n",
    "                vocabularyMapping = my_dict,\n",
    "                ngram_range=(3, 4),\n",
    "                analyzer = \"word\")\n",
    "\n",
    "\n",
    "Read up more here: https://scikit-learn.org/stable/modules/generated/sklearn.feature_extraction.text.CountVectorizer.html"
   ]
  },
  {
   "cell_type": "markdown",
   "metadata": {},
   "source": [
    "### Use Word Vectors to Count Totals"
   ]
  },
  {
   "cell_type": "markdown",
   "metadata": {},
   "source": [
    "Did you know that you can use Word Vectors as another method to count the number of words in a corpus?  You can!  Just like Counter, most_common(), and .value_counts() -- the tools for counting words we've used so far -- Word Vectors can be used to total the number of words."
   ]
  },
  {
   "cell_type": "markdown",
   "metadata": {},
   "source": [
    "Here are the per-company total words."
   ]
  },
  {
   "cell_type": "code",
   "execution_count": 219,
   "metadata": {},
   "outputs": [
    {
     "data": {
      "text/plain": [
       "AMAZON COM INC              543497\n",
       "APPLE INC                   651037\n",
       "Alphabet Inc.               408992\n",
       "EXXON MOBIL CORP           1080451\n",
       "FORD MOTOR CO               536860\n",
       "MARATHON PETROLEUM CORP     545557\n",
       "MICROSOFT CORP              801616\n",
       "RAYTHEON CO                   4115\n",
       "dtype: int64"
      ]
     },
     "execution_count": 219,
     "metadata": {},
     "output_type": "execute_result"
    }
   ],
   "source": [
    "company_words_total = vectors_dataframe.sum(axis=1)\n",
    "company_words_total"
   ]
  },
  {
   "cell_type": "markdown",
   "metadata": {},
   "source": [
    "Poor Raytheon!  Apparently they don't employ many writers!"
   ]
  },
  {
   "cell_type": "markdown",
   "metadata": {},
   "source": [
    "Here are the per-word totals across all companies."
   ]
  },
  {
   "cell_type": "code",
   "execution_count": 220,
   "metadata": {},
   "outputs": [
    {
     "data": {
      "text/plain": [
       "aaarated             76\n",
       "aaarated money       76\n",
       "ab                   88\n",
       "ability            2995\n",
       "ability attract     157\n",
       "                   ... \n",
       "young               371\n",
       "young llp           295\n",
       "youtube             274\n",
       "zakum                77\n",
       "zev                  94\n",
       "Length: 10000, dtype: int64"
      ]
     },
     "execution_count": 220,
     "metadata": {},
     "output_type": "execute_result"
    }
   ],
   "source": [
    "word_totals = vectors_dataframe.sum(axis=0) \n",
    "word_totals"
   ]
  },
  {
   "cell_type": "markdown",
   "metadata": {},
   "source": [
    "How many words are there overall?"
   ]
  },
  {
   "cell_type": "code",
   "execution_count": 221,
   "metadata": {},
   "outputs": [
    {
     "data": {
      "text/plain": [
       "4572125"
      ]
     },
     "execution_count": 221,
     "metadata": {},
     "output_type": "execute_result"
    }
   ],
   "source": [
    "total_corpus_words = sum(word_totals)\n",
    "total_corpus_words"
   ]
  },
  {
   "cell_type": "markdown",
   "metadata": {},
   "source": [
    "Now that we have statistics on how many words or phrases were detected around each company, and how many appearances there are per word, as well as word per company, we're in a position to do statistics."
   ]
  },
  {
   "cell_type": "markdown",
   "metadata": {},
   "source": [
    "# Measuring Distinction with Log Likelihood"
   ]
  },
  {
   "cell_type": "markdown",
   "metadata": {},
   "source": [
    "Now that we can count the frequency of each word per company, we can use that information to calculate the log likelihood of each word per company.  As we saw in this week's reading, LL is an excellent proxy for \"distinctiveness;\" high LL scores correspond fairly well to what is unique about each document.  Thus we'll use LL scores to find out which words appear in Amazon's filing but not Raytheon's, etc."
   ]
  },
  {
   "cell_type": "markdown",
   "metadata": {},
   "source": [
    "### Python as a calculator"
   ]
  },
  {
   "cell_type": "markdown",
   "metadata": {},
   "source": [
    "Remember, Python can act just like a calendar."
   ]
  },
  {
   "cell_type": "code",
   "execution_count": 222,
   "metadata": {},
   "outputs": [
    {
     "data": {
      "text/plain": [
       "10"
      ]
     },
     "execution_count": 222,
     "metadata": {},
     "output_type": "execute_result"
    }
   ],
   "source": [
    "5 + 5"
   ]
  },
  {
   "cell_type": "code",
   "execution_count": 223,
   "metadata": {},
   "outputs": [
    {
     "data": {
      "text/plain": [
       "10"
      ]
     },
     "execution_count": 223,
     "metadata": {},
     "output_type": "execute_result"
    }
   ],
   "source": [
    "a = 5\n",
    "b = 5\n",
    "a + b"
   ]
  },
  {
   "cell_type": "markdown",
   "metadata": {},
   "source": [
    "### Logarithm refresher"
   ]
  },
  {
   "cell_type": "markdown",
   "metadata": {},
   "source": [
    "Remember from high school math that a logarithm is a function that \"normalizes\" big and small numbers from 0 up, so that you can plot enormous differences along a much smaller axis:"
   ]
  },
  {
   "cell_type": "code",
   "execution_count": 224,
   "metadata": {},
   "outputs": [
    {
     "data": {
      "text/plain": [
       "0.0"
      ]
     },
     "execution_count": 224,
     "metadata": {},
     "output_type": "execute_result"
    }
   ],
   "source": [
    "np.log(1)"
   ]
  },
  {
   "cell_type": "code",
   "execution_count": 225,
   "metadata": {},
   "outputs": [
    {
     "data": {
      "text/plain": [
       "4.605170185988092"
      ]
     },
     "execution_count": 225,
     "metadata": {},
     "output_type": "execute_result"
    }
   ],
   "source": [
    "np.log(100)"
   ]
  },
  {
   "cell_type": "code",
   "execution_count": 226,
   "metadata": {},
   "outputs": [
    {
     "data": {
      "text/plain": [
       "25.328436022934504"
      ]
     },
     "execution_count": 226,
     "metadata": {},
     "output_type": "execute_result"
    }
   ],
   "source": [
    "np.log(100000000000)"
   ]
  },
  {
   "cell_type": "markdown",
   "metadata": {},
   "source": [
    "Also, remember that Log doesn't like zeros:"
   ]
  },
  {
   "cell_type": "code",
   "execution_count": 227,
   "metadata": {},
   "outputs": [
    {
     "name": "stderr",
     "output_type": "stream",
     "text": [
      "/hpc/applications/anaconda/3/lib/python3.6/site-packages/ipykernel_launcher.py:1: RuntimeWarning: divide by zero encountered in log\n",
      "  \"\"\"Entry point for launching an IPython kernel.\n"
     ]
    },
    {
     "data": {
      "text/plain": [
       "-inf"
      ]
     },
     "execution_count": 227,
     "metadata": {},
     "output_type": "execute_result"
    }
   ],
   "source": [
    "np.log(0)"
   ]
  },
  {
   "cell_type": "markdown",
   "metadata": {},
   "source": [
    "### A Very Basic Intro to the Log Likelihood Equation"
   ]
  },
  {
   "cell_type": "markdown",
   "metadata": {},
   "source": [
    "The LL calculation -- which we'll perform for each word-company pair -- depends on variables a, b, c, and d: \n",
    "- a: how many times the word being measured appears in ONE company whose distinction we're measuring.                                     \n",
    "- b: how many times the word being measured appears in all OTHER companies               \n",
    "- c: how many OTHER words appear in the company whose distinction we're measuring\n",
    "- d: how many times OTHER words appears in all OTHER companies\n"
   ]
  },
  {
   "cell_type": "markdown",
   "metadata": {},
   "source": [
    "We've actually already generated all the information we need for a, b, c, d.  Really! We're nearly there.\n",
    "\n",
    "- a: how many times each word occurs per company lives in the vectors_dataframe.  We can call it for each company and word: \n",
    "                \n",
    "                    vectors_dataframe.iat[company number, word id]\n",
    "                    \n",
    "                 \n",
    "- b: How many times each word appears in all other companies -- is equal to the the total number of occurrences of tha Word, minus a. Recall that we have a dataframe called word_totals, where words are arranged in the same order as they are in vectors_dataframe.  So we can call this number withL \n",
    "            \n",
    "                    word_totals[word_id] - a                 \n",
    "                    \n",
    "                    \n",
    "- c: the company's total words lives in a dataframe called company_words_total.  We can get the total of OTHER words by calling that total and subtracting a. We can reference the proper row this way:\n",
    "\n",
    "                company_words_total[company_id] - a\n",
    "                \n",
    "                \n",
    "- d: the sum of other companies' use of other words is equal to the total number of words in the corpus, minus a, b, and c.  Fortunately, we already calculated the total number of words and saved it as a variable:\n",
    "                \n",
    "                total_corpus_words - a - b - c "
   ]
  },
  {
   "cell_type": "markdown",
   "metadata": {},
   "source": [
    "Here's the log likelihood equation that we showed you above, in code. \n",
    "\n",
    "Notice that we make sure that we don't have any zeros in if(b > 0):"
   ]
  },
  {
   "cell_type": "code",
   "execution_count": 228,
   "metadata": {},
   "outputs": [],
   "source": [
    "# create an empty dataframe\n",
    "companies_loglikelihood = []\n",
    "\n",
    "#loop through every company in company_names\n",
    "for company_id, company in enumerate(company_names):\n",
    "    loglikely = []\n",
    "    # loop through every word in the wordcount vector:\n",
    "    for word_id in vectorized[company_id].indices:\n",
    "        \n",
    "        a = vectors_dataframe.iat[company_id, word_id] #  word in company\n",
    "        b = word_totals[word_id] - a  # # word in remaining companies\n",
    "        c = company_words_total[company_id] - a #  not word in company\n",
    "        d = total_corpus_words - a - b - c # not word in remaining\n",
    "       \n",
    "        E1 = (a + c) * (a + b) / total_corpus_words  \n",
    "        E2 = (b + d) * (a + b) / total_corpus_words \n",
    "        \n",
    "        LL = 2 * (a * np.log(a / E1)) # the log likelihood equation\n",
    "        if (b > 0):\n",
    "            LL += 2 * b * np.log(b / E2)\n",
    "        \n",
    "        loglikely.append((LL, all_words[word_id])) # add the log likelihood score to the end of a new dataframe\n",
    "\n",
    "    loglikely = sorted(loglikely, reverse=True) # the loop hits this every time it cycles through all the words in one company. \n",
    "    companies_loglikelihood.append(loglikely) # add on another company\n"
   ]
  },
  {
   "cell_type": "markdown",
   "metadata": {},
   "source": [
    "Now we have a log-likelihood score for each company-word combination.  It's organized as a list of lists.  \n",
    "\n",
    "Each company list of words is organized in by descending log-likelihood score. Here's APPLE INC: "
   ]
  },
  {
   "cell_type": "code",
   "execution_count": 229,
   "metadata": {},
   "outputs": [
    {
     "data": {
      "text/plain": [
       "[(36321.92153315482, 'company'),\n",
       " (8512.452151547704, 'september'),\n",
       " (6037.753911575501, 'net sale'),\n",
       " (5799.592246841475, 'apple'),\n",
       " (4604.234081253629, 'mac')]"
      ]
     },
     "execution_count": 229,
     "metadata": {},
     "output_type": "execute_result"
    }
   ],
   "source": [
    "companies_loglikelihood[1][:5]"
   ]
  },
  {
   "cell_type": "markdown",
   "metadata": {},
   "source": [
    "Here's the most distinctive words per company:"
   ]
  },
  {
   "cell_type": "code",
   "execution_count": 230,
   "metadata": {},
   "outputs": [
    {
     "name": "stdout",
     "output_type": "stream",
     "text": [
      "The 20 most distinctive words in each company. The words are listed from high to low ranking\n",
      "-------------------------------------------\n",
      "\n",
      "AMAZON COM INC: ['fulfillment', 'seller', 'amazoncom', 'complaint', 'amazon', 'amazoncom inc', 'corporation', 'aws', 'company', 'item part', 'shipping', 'district', 'production', 'website', 'tax', 'state district', 'stockbased compensation', 'provided used', 'electronic', 'wrongdoing']\n",
      "\n",
      "-----------------------------\n",
      "\n",
      "APPLE INC: ['company', 'september', 'net sale', 'apple', 'mac', 'iphone', 'december', 'september september', 'inc form', 'company product', 'store', 'ipad', 'corporation', 'apple inc', 'io', 'component', 'september company', 'itunes', 'product', 'thirdparty']\n",
      "\n",
      "-----------------------------\n",
      "\n",
      "Alphabet Inc.: ['google', 'class', 'contentsalphabet', 'alphabet', 'class common', 'class capital', 'capital stock', 'network member', 'ad', 'google network', 'form file', 'advertiser', 'share class', 'revenue', 'user', 'advertising', 'member', 'class class', 'bet', 'income per']\n",
      "\n",
      "-----------------------------\n",
      "\n",
      "EXXON MOBIL CORP: ['reserve', 'corporation', 'production', 'gas', 'exxonmobil', 'proved', 'exploration', 'oil', 'equity company', 'oil gas', 'exxonmobils', 'proved reserve', 'natural gas', 'barrel', 'total', 'million dollar', 'natural', 'consolidated subsidiary', 'project', 'service']\n",
      "\n",
      "-----------------------------\n",
      "\n",
      "FORD MOTOR CO: ['ford', 'vehicle', 'ford credit', 'credit', 'automotive', 'motor', 'motor company', 'dealer', 'receivables', 'filed exhibit', 'exhibit annual', 'financial service', 'finance receivables', 'subsidiariesnotes financial', 'subsidiariesnotes', 'company subsidiariesnotes', 'sector', 'financial statementsnote', 'statementsnote', 'oil']\n",
      "\n",
      "-----------------------------\n",
      "\n",
      "MARATHON PETROLEUM CORP: ['mplx', 'marathon', 'mpc', 'refined', 'pipeline', 'refinery', 'refined product', 'crude', 'marathon oil', 'crude oil', 'oil', 'midstream', 'speedway', 'refining', 'refining marketing', 'marathon petroleum', 'markwest', 'company', 'lp', 'gasoline']\n",
      "\n",
      "-----------------------------\n",
      "\n",
      "MICROSOFT CORP: ['microsoft', 'window', 'fiscal year', 'fiscal', 'june', 'revenue', 'server', 'software', 'office', 'xbox', 'ii item', 'company', 'content part', 'cloud', 'part', 'december', 'phone', 'microsoft corporation', 'service', 'part ii']\n",
      "\n",
      "-----------------------------\n",
      "\n",
      "RAYTHEON CO: ['raytheon', 'aircraft', 'defense', 'page', 'government', 'assuming', 'system', 'electronics', 'president', 'vice', 'contract', 'backlog', 'electronic', 'age', 'vice president', 'march', 'since', 'served', 'engineer', 'engineering']\n",
      "\n",
      "-----------------------------\n",
      "\n"
     ]
    }
   ],
   "source": [
    "print(\"The 20 most distinctive words in each company. The words are listed from high to low ranking\")\n",
    "print(\"-------------------------------------------\\n\")\n",
    "for i, company in enumerate(company_names):\n",
    "    print(company + \": \", end='')\n",
    "    distinct_words = [word[1] for word in companies_loglikelihood[i][:20]]\n",
    "    print(distinct_words)\n",
    "    print(\"\\n-----------------------------\\n\")"
   ]
  },
  {
   "cell_type": "markdown",
   "metadata": {},
   "source": [
    "We can see most of the distinctive words are companies' own names or own products. For example, we can see \"Microsoft\" and \"Window\" appear the most in Microsoft Corp, or \"Gas\", \"Oil\" appear as high rankings in EXXON. "
   ]
  },
  {
   "cell_type": "markdown",
   "metadata": {},
   "source": [
    "## Visualizing the distinctiveness of the language of each company"
   ]
  },
  {
   "cell_type": "markdown",
   "metadata": {},
   "source": [
    "Can visualizing the data help us to better understand these words and how they relate to the companies?"
   ]
  },
  {
   "cell_type": "code",
   "execution_count": 231,
   "metadata": {},
   "outputs": [
    {
     "name": "stdout",
     "output_type": "stream",
     "text": [
      "Requirement already satisfied: adjustText in /users/jguldi/.local/lib/python3.6/site-packages (0.7.3)\n",
      "Requirement already satisfied: matplotlib in /hpc/applications/anaconda/3/lib/python3.6/site-packages (from adjustText) (2.2.5)\n",
      "Requirement already satisfied: numpy in /hpc/applications/anaconda/3/lib/python3.6/site-packages (from adjustText) (1.17.3)\n",
      "Requirement already satisfied: kiwisolver>=1.0.1 in /hpc/applications/anaconda/3/lib/python3.6/site-packages (from matplotlib->adjustText) (1.1.0)\n",
      "Requirement already satisfied: pytz in /hpc/applications/anaconda/3/lib/python3.6/site-packages (from matplotlib->adjustText) (2019.3)\n",
      "Requirement already satisfied: six>=1.10 in /hpc/applications/anaconda/3/lib/python3.6/site-packages (from matplotlib->adjustText) (1.12.0)\n",
      "Requirement already satisfied: pyparsing!=2.0.4,!=2.1.2,!=2.1.6,>=2.0.1 in /hpc/applications/anaconda/3/lib/python3.6/site-packages (from matplotlib->adjustText) (2.4.2)\n",
      "Requirement already satisfied: cycler>=0.10 in /hpc/applications/anaconda/3/lib/python3.6/site-packages (from matplotlib->adjustText) (0.10.0)\n",
      "Requirement already satisfied: python-dateutil>=2.1 in /hpc/applications/anaconda/3/lib/python3.6/site-packages (from matplotlib->adjustText) (2.8.0)\n",
      "Requirement already satisfied: setuptools in /hpc/applications/anaconda/3/lib/python3.6/site-packages (from kiwisolver>=1.0.1->matplotlib->adjustText) (41.4.0)\n"
     ]
    }
   ],
   "source": [
    "!pip install adjustText --user\n",
    "import adjustText\n",
    "import matplotlib"
   ]
  },
  {
   "cell_type": "markdown",
   "metadata": {},
   "source": [
    "Note that we're going to make a big plot, and this might take a minute or two to run."
   ]
  },
  {
   "cell_type": "code",
   "execution_count": null,
   "metadata": {},
   "outputs": [],
   "source": [
    "%matplotlib inline\n",
    "from adjustText import adjust_text\n",
    "\n",
    "#plt.show()\n",
    "# change the figure's size here\n",
    "fig = plt.figure(figsize=(10,10), dpi = 500)\n",
    "\n",
    "# style\n",
    "plt.style.use('seaborn-darkgrid') # this gives us a grid with a dark background.  you can play with this to change the style.\n",
    "  \n",
    "# create a color palette\n",
    "palette = plt.get_cmap('hsv') # this tells matplotlib what colors to use.  you can play with this to change the colors.\n",
    "\n",
    "num = 0\n",
    "\n",
    "# change the figure's size here\n",
    "plt.figure(figsize=(15,15), dpi = 300)\n",
    "\n",
    "texts = []\n",
    "\n",
    "# this is the for loop that creates multiple plots.  \n",
    "for i, company in enumerate(company_names):\n",
    "        num += 14 # num tells the plot to choose a different color for each company\n",
    "        distinct_words = companies_loglikelihood[i][:20] # plot the top twenty words by LL-score\n",
    "        for word in distinct_words: # for each word-per-company instance, plot the ll_score on the y axis\n",
    "            ll_score = word[0] # find just the ll-score from companies_loglikelihood\n",
    "            word_label = word[1] # find just the keyword name from companies_loglikelihood\n",
    "            plt.scatter( # draw a dot for each word\n",
    "                    company, # with company on the x axis\n",
    "                    ll_score, # and ll_score on the y axis\n",
    "                    color=palette(num), # using a different color for each company\n",
    "                    linewidth=1, \n",
    "                    edgecolors = 'b',\n",
    "                    s = 55, # size\n",
    "                    alpha=0.3, # make the dots slightly transparent\n",
    "                    label=company) # label each dot with the name of the word\n",
    "            texts.append(plt.text(company, ll_score, word_label)) # save these coordinates to be used in labeling\n",
    "\n",
    "# Add legend\n",
    "#plt.legend(loc=2, ncol=2)\n",
    "plt.xticks(rotation=90)\n",
    " \n",
    "# Add titles\n",
    "plt.title(\"Figure 1: Highest Log-Likelihood Scored Words per Company\", fontsize=30, fontweight=0, color='Red')\n",
    "plt.xlabel(\"Company\")\n",
    "plt.ylabel(\"Distinctiveness of Words, Measured by LL Score\")\n",
    "\n",
    "# Code to help with overlapping labels -- may take a minute to run\n",
    "adjust_text(texts, force_points=0.2, force_text=0.2,\n",
    "            expand_points=(1, 1), expand_text=(1, 1),\n",
    "            arrowprops=dict(arrowstyle=\"-\", color='black', lw=0.5))\n",
    "\n"
   ]
  },
  {
   "cell_type": "code",
   "execution_count": 233,
   "metadata": {},
   "outputs": [
    {
     "data": {
      "text/plain": [
       "<Figure size 432x288 with 0 Axes>"
      ]
     },
     "metadata": {},
     "output_type": "display_data"
    }
   ],
   "source": [
    "# let's save it!\n",
    "plt.savefig('LL-fig1.jpg', dpi=fig.dpi)"
   ]
  },
  {
   "cell_type": "code",
   "execution_count": 234,
   "metadata": {},
   "outputs": [],
   "source": [
    "plt.show()"
   ]
  },
  {
   "cell_type": "markdown",
   "metadata": {},
   "source": [
    "Please notice in the left-hand sidebar that we've saved a .jpg of this visualization.  \n",
    "\n",
    "We can use visualization to really drill down into the comparisons. We learn that overall, Amazon and Raytheon have the least unique language.  Apple and Exxon are more unique.  We could tweak the graph to show more words in a small space, and it gives us a way of inspecing the relative uniqueness of the different word-company pairs.\n",
    "\n",
    "But the above visualization is also deeply unsatisfying in some respects.  The graph above doesn't add much new information beyond what we had in the list we printed out.\n",
    "\n",
    "What if we wanted to take things further and compare two companies?"
   ]
  },
  {
   "cell_type": "markdown",
   "metadata": {},
   "source": [
    "### A 2-D comparison of two companies"
   ]
  },
  {
   "cell_type": "markdown",
   "metadata": {},
   "source": [
    "The visualization below shows the same data we just looked at, only zooming it to compare two companies.  \n",
    "\n",
    "Note that we could also do this -- with more accuracy about how two companies compare -- by filtering for only two companies BEFORE we ran the log likelihood equation.  We're not actually creating a measure, here, of the distinctivenss of Amazon and Apple; we're just extracting the information about two companies from the information about how seven companies are different from each other. That's a subtle but important mathematical difference.\n",
    "\n",
    "What zooming in on two companies can do is to remind us that we've got a great deal of information about a great many words -- many more words than showed up in the visualization above, and much more detail than we get from a bar chart of word frequency."
   ]
  },
  {
   "cell_type": "markdown",
   "metadata": {},
   "source": [
    "To begin, let's create a dataframe that has the ll_scores from just two companies. The x coordinate will be how distinctive each word is for AMAZON; the y coordinate will be how distinctive each word is for APPLE."
   ]
  },
  {
   "cell_type": "code",
   "execution_count": 235,
   "metadata": {},
   "outputs": [],
   "source": [
    "# create a new dataframe of the scores and words from both apple and amazon\n",
    "xcoords =  pd.DataFrame(columns=list(['word_label', 'x_llscore']))\n",
    "ycoords = pd.DataFrame(columns=list(['word_label', 'y_llscore']))\n",
    "\n",
    "# get all the words from AMAZON\n",
    "distinctwords = companies_loglikelihood[0]\n",
    "for word in distinctwords: # for each word-per-company instance, plot the ll_score on the y axis\n",
    "    x_llscore = word[0] # find just the ll-score from companies_loglikelihood\n",
    "    word_label = word[1] # find just the keyword name from companies_loglikelihood\n",
    "    company = 'AMAZON'\n",
    "    xcoords.loc[-1] = [word_label, x_llscore]\n",
    "    xcoords.index = xcoords.index + 1  # shifting index\n",
    "    xcoords = xcoords.sort_index()  # sorting by index\n",
    "\n",
    "# get all the words from APPLE\n",
    "distinctwords2 = companies_loglikelihood[1] \n",
    "for word in distinctwords2: # for each word-per-company instance, plot the ll_score on the y axis\n",
    "    y_llscore = word[0] # find just the ll-score from companies_loglikelihood\n",
    "    word_label = word[1] # find just the keyword name from companies_loglikelihood\n",
    "    company = 'Microsoft'\n",
    "    ycoords.loc[-1] = [word_label, y_llscore]\n",
    "    ycoords.index = ycoords.index + 1  # shifting index\n",
    "    ycoords = ycoords.sort_index()  # sorting by index\n",
    "\n",
    "coords = pd.merge(xcoords, ycoords, on='word_label')\n",
    "coords = coords.dropna(axis = 0, how ='any') # drop rows with any NA's"
   ]
  },
  {
   "cell_type": "code",
   "execution_count": 236,
   "metadata": {},
   "outputs": [
    {
     "name": "stdout",
     "output_type": "stream",
     "text": [
      "         word_label    x_llscore     y_llscore\n",
      "0     proceeds sale     0.000003      0.206065\n",
      "1              term     0.000017      8.784918\n",
      "2       free charge     0.000023     34.106954\n",
      "3      fixed charge     0.000058      3.673340\n",
      "4           advisor     0.000160     23.813382\n",
      "...             ...          ...           ...\n",
      "4255       district  1910.975726      9.254161\n",
      "4256       shipping  1960.283733     26.432356\n",
      "4257        company  2060.894584  36321.921533\n",
      "4258    corporation  2411.149049   2903.400017\n",
      "4259      complaint  3152.857051    273.531059\n",
      "\n",
      "[4260 rows x 3 columns]\n"
     ]
    }
   ],
   "source": [
    "print(coords)"
   ]
  },
  {
   "cell_type": "markdown",
   "metadata": {},
   "source": [
    "If you wanted to only look at the top words by the log-likelihood score of Amazon, what would you do?"
   ]
  },
  {
   "cell_type": "code",
   "execution_count": 237,
   "metadata": {},
   "outputs": [
    {
     "data": {
      "text/html": [
       "<div>\n",
       "<style scoped>\n",
       "    .dataframe tbody tr th:only-of-type {\n",
       "        vertical-align: middle;\n",
       "    }\n",
       "\n",
       "    .dataframe tbody tr th {\n",
       "        vertical-align: top;\n",
       "    }\n",
       "\n",
       "    .dataframe thead th {\n",
       "        text-align: right;\n",
       "    }\n",
       "</style>\n",
       "<table border=\"1\" class=\"dataframe\">\n",
       "  <thead>\n",
       "    <tr style=\"text-align: right;\">\n",
       "      <th></th>\n",
       "      <th>word_label</th>\n",
       "      <th>x_llscore</th>\n",
       "      <th>y_llscore</th>\n",
       "    </tr>\n",
       "  </thead>\n",
       "  <tbody>\n",
       "    <tr>\n",
       "      <th>4259</th>\n",
       "      <td>complaint</td>\n",
       "      <td>3152.857051</td>\n",
       "      <td>273.531059</td>\n",
       "    </tr>\n",
       "    <tr>\n",
       "      <th>4258</th>\n",
       "      <td>corporation</td>\n",
       "      <td>2411.149049</td>\n",
       "      <td>2903.400017</td>\n",
       "    </tr>\n",
       "    <tr>\n",
       "      <th>4257</th>\n",
       "      <td>company</td>\n",
       "      <td>2060.894584</td>\n",
       "      <td>36321.921533</td>\n",
       "    </tr>\n",
       "    <tr>\n",
       "      <th>4256</th>\n",
       "      <td>shipping</td>\n",
       "      <td>1960.283733</td>\n",
       "      <td>26.432356</td>\n",
       "    </tr>\n",
       "    <tr>\n",
       "      <th>4255</th>\n",
       "      <td>district</td>\n",
       "      <td>1910.975726</td>\n",
       "      <td>9.254161</td>\n",
       "    </tr>\n",
       "    <tr>\n",
       "      <th>4254</th>\n",
       "      <td>production</td>\n",
       "      <td>1694.217782</td>\n",
       "      <td>1504.593388</td>\n",
       "    </tr>\n",
       "    <tr>\n",
       "      <th>4253</th>\n",
       "      <td>website</td>\n",
       "      <td>1606.860256</td>\n",
       "      <td>110.711700</td>\n",
       "    </tr>\n",
       "    <tr>\n",
       "      <th>4252</th>\n",
       "      <td>tax</td>\n",
       "      <td>1580.384017</td>\n",
       "      <td>1.696762</td>\n",
       "    </tr>\n",
       "    <tr>\n",
       "      <th>4251</th>\n",
       "      <td>state district</td>\n",
       "      <td>1338.154870</td>\n",
       "      <td>57.645320</td>\n",
       "    </tr>\n",
       "    <tr>\n",
       "      <th>4250</th>\n",
       "      <td>electronic</td>\n",
       "      <td>1233.554881</td>\n",
       "      <td>0.002809</td>\n",
       "    </tr>\n",
       "    <tr>\n",
       "      <th>4249</th>\n",
       "      <td>plan</td>\n",
       "      <td>1216.777374</td>\n",
       "      <td>60.713289</td>\n",
       "    </tr>\n",
       "    <tr>\n",
       "      <th>4248</th>\n",
       "      <td>patent</td>\n",
       "      <td>1206.920931</td>\n",
       "      <td>10.204632</td>\n",
       "    </tr>\n",
       "    <tr>\n",
       "      <th>4247</th>\n",
       "      <td>property equipment</td>\n",
       "      <td>1203.242449</td>\n",
       "      <td>165.445369</td>\n",
       "    </tr>\n",
       "    <tr>\n",
       "      <th>4246</th>\n",
       "      <td>december</td>\n",
       "      <td>1122.192931</td>\n",
       "      <td>4390.705275</td>\n",
       "    </tr>\n",
       "    <tr>\n",
       "      <th>4245</th>\n",
       "      <td>total</td>\n",
       "      <td>1118.145531</td>\n",
       "      <td>183.953185</td>\n",
       "    </tr>\n",
       "    <tr>\n",
       "      <th>4244</th>\n",
       "      <td>intend</td>\n",
       "      <td>1050.678169</td>\n",
       "      <td>134.480852</td>\n",
       "    </tr>\n",
       "    <tr>\n",
       "      <th>4243</th>\n",
       "      <td>complaint alleges</td>\n",
       "      <td>1042.031585</td>\n",
       "      <td>61.271915</td>\n",
       "    </tr>\n",
       "    <tr>\n",
       "      <th>4242</th>\n",
       "      <td>internaluse software</td>\n",
       "      <td>998.000115</td>\n",
       "      <td>0.395455</td>\n",
       "    </tr>\n",
       "    <tr>\n",
       "      <th>4241</th>\n",
       "      <td>court</td>\n",
       "      <td>995.096675</td>\n",
       "      <td>81.714282</td>\n",
       "    </tr>\n",
       "    <tr>\n",
       "      <th>4240</th>\n",
       "      <td>reference company</td>\n",
       "      <td>963.153782</td>\n",
       "      <td>40.449235</td>\n",
       "    </tr>\n",
       "  </tbody>\n",
       "</table>\n",
       "</div>"
      ],
      "text/plain": [
       "                word_label    x_llscore     y_llscore\n",
       "4259             complaint  3152.857051    273.531059\n",
       "4258           corporation  2411.149049   2903.400017\n",
       "4257               company  2060.894584  36321.921533\n",
       "4256              shipping  1960.283733     26.432356\n",
       "4255              district  1910.975726      9.254161\n",
       "4254            production  1694.217782   1504.593388\n",
       "4253               website  1606.860256    110.711700\n",
       "4252                   tax  1580.384017      1.696762\n",
       "4251        state district  1338.154870     57.645320\n",
       "4250            electronic  1233.554881      0.002809\n",
       "4249                  plan  1216.777374     60.713289\n",
       "4248                patent  1206.920931     10.204632\n",
       "4247    property equipment  1203.242449    165.445369\n",
       "4246              december  1122.192931   4390.705275\n",
       "4245                 total  1118.145531    183.953185\n",
       "4244                intend  1050.678169    134.480852\n",
       "4243     complaint alleges  1042.031585     61.271915\n",
       "4242  internaluse software   998.000115      0.395455\n",
       "4241                 court   995.096675     81.714282\n",
       "4240     reference company   963.153782     40.449235"
      ]
     },
     "execution_count": 237,
     "metadata": {},
     "output_type": "execute_result"
    }
   ],
   "source": [
    "top_amazon_coords = coords.nlargest(20,['x_llscore','y_llscore']) #notice that nlargest can take multiple arguments, in order of priority\n",
    "top_amazon_coords"
   ]
  },
  {
   "cell_type": "markdown",
   "metadata": {},
   "source": [
    "Note that the LL scores, in this case, have already been calculated against all other companies; these aren't the top scores of how different amazon is from apple.  To get those scores, we'd have to run LL again on just the two companies.  Instead, we're zooming in on the differences between Apple and Amazon: \"corporation\" is very important to both of them, while \"complaint,\" \"court\", and \"tax\" are only important to Amazon.  I wonder what Amazon has been up to?"
   ]
  },
  {
   "cell_type": "markdown",
   "metadata": {},
   "source": [
    "When we compare just two companies, we may want a different visualization to dramatize their differences."
   ]
  },
  {
   "cell_type": "code",
   "execution_count": 202,
   "metadata": {},
   "outputs": [
    {
     "name": "stdout",
     "output_type": "stream",
     "text": [
      "Requirement already satisfied: adjustText in /users/jguldi/.local/lib/python3.6/site-packages (0.7.3)\n",
      "Requirement already satisfied: matplotlib in /hpc/applications/anaconda/3/lib/python3.6/site-packages (from adjustText) (2.2.5)\n",
      "Requirement already satisfied: numpy in /hpc/applications/anaconda/3/lib/python3.6/site-packages (from adjustText) (1.17.3)\n",
      "Requirement already satisfied: six>=1.10 in /hpc/applications/anaconda/3/lib/python3.6/site-packages (from matplotlib->adjustText) (1.12.0)\n",
      "Requirement already satisfied: pytz in /hpc/applications/anaconda/3/lib/python3.6/site-packages (from matplotlib->adjustText) (2019.3)\n",
      "Requirement already satisfied: pyparsing!=2.0.4,!=2.1.2,!=2.1.6,>=2.0.1 in /hpc/applications/anaconda/3/lib/python3.6/site-packages (from matplotlib->adjustText) (2.4.2)\n",
      "Requirement already satisfied: python-dateutil>=2.1 in /hpc/applications/anaconda/3/lib/python3.6/site-packages (from matplotlib->adjustText) (2.8.0)\n",
      "Requirement already satisfied: kiwisolver>=1.0.1 in /hpc/applications/anaconda/3/lib/python3.6/site-packages (from matplotlib->adjustText) (1.1.0)\n",
      "Requirement already satisfied: cycler>=0.10 in /hpc/applications/anaconda/3/lib/python3.6/site-packages (from matplotlib->adjustText) (0.10.0)\n",
      "Requirement already satisfied: setuptools in /hpc/applications/anaconda/3/lib/python3.6/site-packages (from kiwisolver>=1.0.1->matplotlib->adjustText) (41.4.0)\n"
     ]
    }
   ],
   "source": [
    "#!pip install adjustText --user"
   ]
  },
  {
   "cell_type": "code",
   "execution_count": null,
   "metadata": {},
   "outputs": [],
   "source": [
    "%matplotlib inline\n",
    "\n",
    "from adjustText import adjust_text\n",
    "\n",
    "# change the figure's size here\n",
    "plt.figure(figsize=(20,20), dpi = 500)\n",
    "\n",
    "# label each dot with the name of the word -- note that we have to use a \"for\" loop for this to work; plt.annotate only plots\n",
    "# one label per iteration!\n",
    "for i, txt in enumerate(coords['word_label']):\n",
    "    # draw a dot for each word\n",
    "    plt.scatter( \n",
    "        coords['x_llscore'][i], #x axis\n",
    "        coords['y_llscore'][i], # y axis\n",
    "        linewidth=1, \n",
    "        s = 55, # dot size\n",
    "        alpha=0.2)  # dot transparency\n",
    "    # make a label for each word\n",
    "    plt.annotate(\n",
    "        txt, \n",
    "        (coords['x_llscore'][i], # one x llscore at a time\n",
    "         coords['y_llscore'][i]), # one y llscore at a time\n",
    "        alpha=0.3 # i've made the fonts transparent as well.  you could play with color and size if you wanted to. \n",
    "    )\n",
    "\n",
    "plt.xticks(rotation=90)\n",
    "\n",
    "# logarithmic axes make big things big and small things small\n",
    "plt.xscale('log')\n",
    "plt.yscale('log')  \n",
    "\n",
    "# Add titles\n",
    "plt.title(\"Figure 2: Highest Log-Likelihood Scored Words per Company\", fontsize=30, fontweight=0, color='Red')\n",
    "plt.xlabel(\"How Distinctive Each Word is of AMAZON\")\n",
    "plt.ylabel(\"How Distinctive Each Word is of APPLE\")"
   ]
  },
  {
   "cell_type": "code",
   "execution_count": 204,
   "metadata": {},
   "outputs": [],
   "source": [
    "plt.show()"
   ]
  },
  {
   "cell_type": "markdown",
   "metadata": {},
   "source": [
    "Interpreting the figure above isn't completely intuitive, but it has a lot of information for us.  Words that are equidistant from the x axis and the y axis -- which run on a diagonal from the lower-left-hand corner to the upper-right-hand-corner -- are equally distinctive of both Amazon and Apple.  Words that are closer to the y axis are more distinctive of Apple, while words that are closer to the x axis are more distinctive of Amazon.  There are a number of words that are highly distinctive of both (in comparison with Raytheon, etc.), as we would expect from two tech companies. \n",
    "\n",
    "Notice how you could use both of the last two visualizations to complicate your discussion of what is most distinctive about any two companies in relation to each other, as well as each company in relationship to the whole subset.\n",
    "\n",
    "Also, pay attention to whether you need to tweak the visualizations to make them readable.  You can make FIGURE 2 even bigger; you can also restrict FIGURE 2 to showing the 200 highest-scoring words rather than all the words; any of these moves might make it easier to read and interpret the data."
   ]
  },
  {
   "cell_type": "markdown",
   "metadata": {},
   "source": [
    "# From Data to Analysis"
   ]
  },
  {
   "cell_type": "markdown",
   "metadata": {},
   "source": [
    "If we want to really understand the results we've generated, we need to look carefully at the data visualizations we've made and think about all that might be remarkable about them.  Why is Microsoft concerned about \"complaint,\" for example? We're looking for anything that might surprise or support an argument.  And looking for possible surprises is only the first step -- next we have to look into what those words *actually mean*."
   ]
  },
  {
   "cell_type": "markdown",
   "metadata": {},
   "source": [
    "Note that, if we want to look back at the original text, we can't just load the dataframe 'df.'  We cleaned it and stopworded it.   We'll have to reload 'df' again from the original text so that you have all the stopwords and punctuation in the original documents.  Fortunately, you made a backup called edgar-data.csv in the first section of this notebook. Let's return to it."
   ]
  },
  {
   "cell_type": "code",
   "execution_count": 239,
   "metadata": {},
   "outputs": [],
   "source": [
    "df = pd.read_csv(\"edgar-data.csv\") "
   ]
  },
  {
   "cell_type": "code",
   "execution_count": 240,
   "metadata": {},
   "outputs": [
    {
     "data": {
      "text/html": [
       "<div>\n",
       "<style scoped>\n",
       "    .dataframe tbody tr th:only-of-type {\n",
       "        vertical-align: middle;\n",
       "    }\n",
       "\n",
       "    .dataframe tbody tr th {\n",
       "        vertical-align: top;\n",
       "    }\n",
       "\n",
       "    .dataframe thead th {\n",
       "        text-align: right;\n",
       "    }\n",
       "</style>\n",
       "<table border=\"1\" class=\"dataframe\">\n",
       "  <thead>\n",
       "    <tr style=\"text-align: right;\">\n",
       "      <th></th>\n",
       "      <th>Company</th>\n",
       "      <th>Content</th>\n",
       "      <th>Period of Report</th>\n",
       "      <th>Accepted</th>\n",
       "      <th>CIK</th>\n",
       "      <th>Documents</th>\n",
       "      <th>Filing Date</th>\n",
       "      <th>SROs</th>\n",
       "    </tr>\n",
       "  </thead>\n",
       "  <tbody>\n",
       "    <tr>\n",
       "      <th>0</th>\n",
       "      <td>EXXON MOBIL CORP</td>\n",
       "      <td>\\n\\n\\n\\n\\n\\n\\n\\n\\n\\n 0.086252036-04-012021-08-...</td>\n",
       "      <td>2019-12-31</td>\n",
       "      <td>NaN</td>\n",
       "      <td>NaN</td>\n",
       "      <td>NaN</td>\n",
       "      <td>NaN</td>\n",
       "      <td>NaN</td>\n",
       "    </tr>\n",
       "    <tr>\n",
       "      <th>1</th>\n",
       "      <td>EXXON MOBIL CORP</td>\n",
       "      <td>\\n\\n\\n\\n\\n\\n\\n\\n\\n\\n\\n \\n\\n\\n\\n\\n\\n\\n \\n\\n\\n\\n...</td>\n",
       "      <td>2018-12-31</td>\n",
       "      <td>NaN</td>\n",
       "      <td>NaN</td>\n",
       "      <td>NaN</td>\n",
       "      <td>NaN</td>\n",
       "      <td>NaN</td>\n",
       "    </tr>\n",
       "    <tr>\n",
       "      <th>2</th>\n",
       "      <td>EXXON MOBIL CORP</td>\n",
       "      <td>\\n\\n\\n\\n\\n\\n\\n\\n\\n\\n\\n \\n\\n\\n\\n\\n\\n\\n \\n\\n\\n\\n...</td>\n",
       "      <td>2017-12-31</td>\n",
       "      <td>NaN</td>\n",
       "      <td>NaN</td>\n",
       "      <td>NaN</td>\n",
       "      <td>NaN</td>\n",
       "      <td>NaN</td>\n",
       "    </tr>\n",
       "    <tr>\n",
       "      <th>3</th>\n",
       "      <td>EXXON MOBIL CORP</td>\n",
       "      <td>\\n\\n\\n\\n\\n\\n\\n\\n\\n\\n\\n \\n\\n\\n\\n\\n\\n\\n \\n\\n\\n\\n...</td>\n",
       "      <td>2016-12-31</td>\n",
       "      <td>NaN</td>\n",
       "      <td>NaN</td>\n",
       "      <td>NaN</td>\n",
       "      <td>NaN</td>\n",
       "      <td>NaN</td>\n",
       "    </tr>\n",
       "    <tr>\n",
       "      <th>4</th>\n",
       "      <td>EXXON MOBIL CORP</td>\n",
       "      <td>\\n\\n\\n\\n\\n\\n\\n\\n\\n\\n\\n \\n\\n\\n\\n\\n\\n\\n \\n\\n\\n\\n...</td>\n",
       "      <td>2015-12-31</td>\n",
       "      <td>NaN</td>\n",
       "      <td>NaN</td>\n",
       "      <td>NaN</td>\n",
       "      <td>NaN</td>\n",
       "      <td>NaN</td>\n",
       "    </tr>\n",
       "  </tbody>\n",
       "</table>\n",
       "</div>"
      ],
      "text/plain": [
       "            Company                                            Content  \\\n",
       "0  EXXON MOBIL CORP  \\n\\n\\n\\n\\n\\n\\n\\n\\n\\n 0.086252036-04-012021-08-...   \n",
       "1  EXXON MOBIL CORP  \\n\\n\\n\\n\\n\\n\\n\\n\\n\\n\\n \\n\\n\\n\\n\\n\\n\\n \\n\\n\\n\\n...   \n",
       "2  EXXON MOBIL CORP  \\n\\n\\n\\n\\n\\n\\n\\n\\n\\n\\n \\n\\n\\n\\n\\n\\n\\n \\n\\n\\n\\n...   \n",
       "3  EXXON MOBIL CORP  \\n\\n\\n\\n\\n\\n\\n\\n\\n\\n\\n \\n\\n\\n\\n\\n\\n\\n \\n\\n\\n\\n...   \n",
       "4  EXXON MOBIL CORP  \\n\\n\\n\\n\\n\\n\\n\\n\\n\\n\\n \\n\\n\\n\\n\\n\\n\\n \\n\\n\\n\\n...   \n",
       "\n",
       "  Period of Report Accepted  CIK  Documents Filing Date SROs  \n",
       "0       2019-12-31      NaN  NaN        NaN         NaN  NaN  \n",
       "1       2018-12-31      NaN  NaN        NaN         NaN  NaN  \n",
       "2       2017-12-31      NaN  NaN        NaN         NaN  NaN  \n",
       "3       2016-12-31      NaN  NaN        NaN         NaN  NaN  \n",
       "4       2015-12-31      NaN  NaN        NaN         NaN  NaN  "
      ]
     },
     "execution_count": 240,
     "metadata": {},
     "output_type": "execute_result"
    }
   ],
   "source": [
    "df[:5]"
   ]
  },
  {
   "cell_type": "markdown",
   "metadata": {},
   "source": [
    "pull out all the text for the relevant company from the 'Content' columns"
   ]
  },
  {
   "cell_type": "code",
   "execution_count": 241,
   "metadata": {},
   "outputs": [
    {
     "data": {
      "text/plain": [
       "5140518"
      ]
     },
     "execution_count": 241,
     "metadata": {},
     "output_type": "execute_result"
    }
   ],
   "source": [
    "n= 20\n",
    "\n",
    "text = []\n",
    "\n",
    "for i in range(0,len(df)):\n",
    "    if df['Company'][i] == \"AMAZON COM INC\":\n",
    "        cell_text = df['Content'][i]\n",
    "        text.append(cell_text)\n",
    "\n",
    "alltext = ' '.join(text)\n",
    "len(alltext)"
   ]
  },
  {
   "cell_type": "markdown",
   "metadata": {},
   "source": [
    "Add some functions for defining ngrams "
   ]
  },
  {
   "cell_type": "code",
   "execution_count": 242,
   "metadata": {},
   "outputs": [],
   "source": [
    "def getNGrams(wordlist, n):\n",
    "    ngrams = []\n",
    "    for i in range(len(wordlist)-(n-1)):\n",
    "        ngrams.append(wordlist[i:i+n])\n",
    "    return ngrams\n",
    "\n",
    "def nGramsToKWICDict(ngrams):\n",
    "    keyindex = len(ngrams[0]) // 2\n",
    "\n",
    "    kwicdict = {}\n",
    "\n",
    "    for k in ngrams:\n",
    "        if k[keyindex] not in kwicdict:\n",
    "            kwicdict[k[keyindex]] = [k]\n",
    "        else:\n",
    "            kwicdict[k[keyindex]].append(k)\n",
    "    return kwicdict\n",
    "\n",
    "\n",
    "def prettyPrintKWIC(kwic):\n",
    "    n = len(kwic)\n",
    "    keyindex = n // 2\n",
    "    width = 10\n",
    "\n",
    "    outstring = ' '.join(kwic[:keyindex]).rjust(width*keyindex)\n",
    "    outstring += str(kwic[keyindex]).center(len(kwic[keyindex])+6)\n",
    "    outstring += ' '.join(kwic[(keyindex+1):])\n",
    "\n",
    "    return outstring\n",
    "\n"
   ]
  },
  {
   "cell_type": "markdown",
   "metadata": {},
   "source": [
    "Break up the full record of the EDGAR text into a wordlist and into nGrams and a KWIC dictionary"
   ]
  },
  {
   "cell_type": "code",
   "execution_count": 243,
   "metadata": {},
   "outputs": [
    {
     "name": "stdout",
     "output_type": "stream",
     "text": [
      "[['Exchange', 'Act.Large', 'accelerated', 'filer', '☒Accelerated', 'filer', '☐Non-accelerated', 'filer', '☐Smaller', 'reporting', 'company', '☐', 'Emerging', 'growth', 'company', '☐If', 'an', 'emerging', 'growth', 'company,'], ['☒Accelerated', 'filer', '☐Non-accelerated', 'filer', '☐Smaller', 'reporting', 'company', '☐', 'Emerging', 'growth', 'company', '☐If', 'an', 'emerging', 'growth', 'company,', 'indicate', 'by', 'check', 'mark'], ['☐Indicate', 'by', 'check', 'mark', 'whether', 'the', 'registrant', 'is', 'a', 'shell', 'company', '(as', 'defined', 'in', 'Rule', '12b-2', 'of', 'the', 'Exchange', 'Act).'], ['Contents•the', 'potential', 'impairment', 'of', 'customer', 'and', 'other', 'relationships', 'of', 'the', 'company', 'we', 'acquired', 'or', 'in', 'which', 'we', 'invested', 'or', 'our'], ['risks', 'our', 'other', 'businesses', 'face;•potential', 'unknown', 'liabilities', 'associated', 'with', 'a', 'company', 'we', 'acquire', 'or', 'in', 'which', 'we', 'invest;', 'and•for', 'foreign']]\n"
     ]
    }
   ],
   "source": [
    "fullwordlist = alltext.split()\n",
    "ngrams = getNGrams(fullwordlist, n)\n",
    "worddict = nGramsToKWICDict(ngrams)\n",
    "print(worddict[\"company\"][:5])"
   ]
  },
  {
   "cell_type": "code",
   "execution_count": 244,
   "metadata": {},
   "outputs": [
    {
     "data": {
      "text/plain": [
       "'<pre>                               Saldana cases with prejudice. We dispute any remaining allegations of   wrongdoing   and intend to defend ourselves vigorously in these matters.In                                                 resolution of the review petition. We dispute the allegations of   wrongdoing   and intend to defend ourselves vigorously in this matter.In                                               the Northern District of California. We dispute the allegations of   wrongdoing   and intend to defend ourselves vigorously in this matter.In                                                      ‘324, ‘867, and ‘311 patents. We dispute the allegations of   wrongdoing   and intend to defend ourselves vigorously in this matter.In                                              interest, attorneys’ fees, and costs. We dispute the allegations of   wrongdoing   and intend to defend ourselves vigorously in this matter.In                                    9,537,762; 9,813,330; 9,826,002; and 9,948,549. We dispute the allegations of   wrongdoing   and intend to defend ourselves vigorously in this matter.In                                            costs, interest, and injunctive relief. We dispute the allegations of   wrongdoing   and intend to defend ourselves vigorously in this matter.In                                              attorneys’ fees, costs, and interest. We dispute the allegations of   wrongdoing   and intend to defend ourselves vigorously in this matter.In                                              attorneys’ fees, costs, and interest. We dispute the allegations of   wrongdoing   and intend to defend ourselves vigorously in this matter.In                                        permanent injunction, and enhanced damages. We dispute the allegations of   wrongdoing   and intend to defend ourselves vigorously in these matters.The                                                    for a determination of damages. We dispute the allegations of   wrongdoing   and intend to defend ourselves vigorously in these matters.Beginning                                            Saldana cases with prejudice. We dispute any remaining allegations of   wrongdoing   and intend to defend ourselves vigorously in these matters.In                                                 resolution of the review petition. We dispute the allegations of   wrongdoing   and intend to defend ourselves vigorously in this matter.In                                               the Northern District of California. We dispute the allegations of   wrongdoing   and intend to defend ourselves vigorously in this matter.In                                                      ‘324, ‘867, and ‘311 patents. We dispute the allegations of   wrongdoing   and intend to defend ourselves vigorously in this matter.In                                              interest, attorneys’ fees, and costs. We dispute the allegations of   wrongdoing   and intend to defend ourselves vigorously in this matter.In                                               the Northern District of California. We dispute the allegations of   wrongdoing   and intend to defend ourselves vigorously in this matter.59Table                                            damages, attorneys’ fees, and interest. We dispute the allegations of   wrongdoing   and intend to defend ourselves vigorously in this matter.In                                            costs, interest, and injunctive relief. We dispute the allegations of   wrongdoing   and intend to defend ourselves vigorously in this matter.The                                                    for a determination of damages. We dispute the allegations of   wrongdoing   and intend to defend ourselves vigorously in these matters.Beginning                                            Saldana cases with prejudice. We dispute any remaining allegations of   wrongdoing   and intend to defend ourselves vigorously in these matters.In                                                States Patent and Trademark Office. We dispute the allegations of   wrongdoing   and intend to defend ourselves vigorously in these matters.In                                          Nos. 7,334,720; 8,118,221; and 8,336,772. We dispute the allegations of   wrongdoing   and intend to defend ourselves vigorously in this matter.In                                                States Patent and Trademark Office. We dispute the allegations of   wrongdoing   and intend to defend ourselves vigorously in this matter.Beginning                                               damages, costs, and attorneys’ fees. We dispute the allegations of   wrongdoing   and intend to defend ourselves vigorously in these matters.In                                               the Northern District of California. We dispute the allegations of   wrongdoing   and intend to defend ourselves vigorously in this matter.61Table                                                 and a compulsory on-going royalty. We dispute the allegations of   wrongdoing   and intend to defend ourselves vigorously in this matter.The                                                    for a determination of damages. We dispute the allegations of   wrongdoing   and intend to defend ourselves vigorously in these matters.In                                             Office’s re-examination of the patent. We dispute the allegations of   wrongdoing   and intend to defend ourselves vigorously in this matter.In                                                   Appeals for the Federal Circuit. We dispute the allegations of   wrongdoing   and intend to defend ourselves vigorously in this matter.Beginning                                                 for the Federal Circuit. We dispute any remaining allegations of   wrongdoing   and intend to defend ourselves vigorously in these matters.In                                                    petition for rehearing en banc. We dispute the allegations of   wrongdoing   and intend to defend ourselves vigorously in this matter.                                                   Appeals for the Federal Circuit. We dispute the allegations of   wrongdoing   and intend to defend ourselves vigorously in these matters.                                                     for judgment on the pleadings. We dispute the allegations of   wrongdoing   and intend to defend ourselves vigorously in these matters.In                                              attorneys’ fees, costs, and interest. We dispute the allegations of   wrongdoing   and intend to defend ourselves vigorously in this matter.In                                                States Patent and Trademark Office. We dispute the allegations of   wrongdoing   and intend to defend ourselves vigorously in this matter.In                                                  an unspecified amount of damages. We dispute the allegations of   wrongdoing   and intend to defend ourselves vigorously in this matter.In                                               damages, attorneys’ fees, and costs. We dispute the allegations of   wrongdoing   and intend to defend ourselves vigorously in this matter.The                                                    for a determination of damages. We dispute the allegations of   wrongdoing   and intend to defend ourselves vigorously in these matters.In                                             Office’s re-examination of the patent. We dispute the allegations of   wrongdoing   and intend to defend ourselves vigorously in this matter.In                                              damages, interest, and an injunction. We dispute the allegations of   wrongdoing   and intend to defend ourselves vigorously in this matter.In                                            damages, attorneys’ fees, and interest. We dispute the allegations of   wrongdoing   and intend to defend ourselves vigorously in this matter.In                                                    judgment of the district court. We dispute the allegations of   wrongdoing   and intend to defend ourselves vigorously in this matter.Beginning                                         those actions without prejudice. We dispute any remaining allegations of   wrongdoing   and intend to defend ourselves vigorously in these matters.In                                                   Appeals for the Federal Circuit. We dispute the allegations of   wrongdoing   and intend to defend ourselves vigorously in this matter.In                                                States Patent and Trademark Office. We dispute the allegations of   wrongdoing   and intend to defend ourselves vigorously in this matter.In                                               treble damages, costs, and interest. We dispute the allegations of   wrongdoing   and intend to defend ourselves vigorously in these matters.                                                     for judgment on the pleadings. We dispute the allegations of   wrongdoing   and intend to defend ourselves vigorously in these matters.In                                              attorneys’ fees, costs, and interest. We dispute the allegations of   wrongdoing   and intend to defend ourselves vigorously in this matter.60Table                                                the Western District of Washington. We dispute the allegations of   wrongdoing   and intend to defend ourselves vigorously in this matter.In                                                    with costs and attorneys’ fees. We dispute the allegations of   wrongdoing   and intend to defend ourselves vigorously in this matter.The                                                    for a determination of damages. We dispute the allegations of   wrongdoing   and intend to defend ourselves vigorously in these matters.In                                             Office’s re-examination of the patent. We dispute the allegations of   wrongdoing   and intend to defend ourselves vigorously in this matter.In                                     7,831,470, 7,827,056, and 8,112,359. We dispute the remaining allegations of   wrongdoing   and intend to defend ourselves vigorously in these matters.In                                                        of appeals lifted the stay. We dispute the allegations of   wrongdoing   and intend to defend ourselves vigorously in this matter.In                                              damages, interest, and an injunction. We dispute the allegations of   wrongdoing   and intend to defend ourselves vigorously in this matter.In                                            damages, attorneys’ fees, and interest. We dispute the allegations of   wrongdoing   and intend to defend ourselves vigorously in this matter.In                                            attorneys’ fees, and injunctive relief. We dispute the allegations of   wrongdoing   and intend to defend ourselves vigorously in this matter.In                                                   Appeals for the Federal Circuit. We dispute the allegations of   wrongdoing   and intend to defend ourselves vigorously in this matter.In                                               the Northern District of California. We dispute the allegations of   wrongdoing   and intend to defend ourselves vigorously in this matter.In                                                the Western District of Washington. We dispute the allegations of   wrongdoing   and intend to defend ourselves vigorously in this matter.In                                                      of U.S. Patent No. 7,215,962. We dispute the allegations of   wrongdoing   and intend to defend ourselves vigorously in this matter.Beginning                                                   wage and hour statute. We dispute any remaining allegations of   wrongdoing   and intend to defend ourselves vigorously in these matters.In                                          damages, interest, and injunctive relief. We dispute the allegations of   wrongdoing   and intend to defend ourselves vigorously in this matter.In                                            costs, interest, and injunctive relief. We dispute the allegations of   wrongdoing   and intend to defend ourselves vigorously in this matter.In                                              attorneys’ fees, costs, and interest. We dispute the allegations of   wrongdoing   and intend to defend ourselves vigorously in this matter.In                                                States Patent and Trademark Office. We dispute the allegations of   wrongdoing   and intend to defend ourselves vigorously in this matter.In                                             enhanced damages, costs, and interest. We dispute the allegations of   wrongdoing   and intend to defend ourselves vigorously in this matter.In                                               treble damages, costs, and interest. We dispute the allegations of   wrongdoing   and intend to defend ourselves vigorously in this matter.                                              attorneys’ fees, costs, and interest. We dispute the allegations of   wrongdoing   and intend to defend ourselves vigorously in this matter.In                                             monetary damages, costs, and interest. We dispute the allegations of   wrongdoing   and intend to defend ourselves vigorously in this matter.In                                         the International Trade Commission action. We dispute the allegations of   wrongdoing   and intend to defend ourselves vigorously in these matters.In                                           enhanced damages, and injunctive relief. We dispute the allegations of   wrongdoing   and intend to defend ourselves vigorously in this matter.In                                              attorneys’ fees, costs, and interest. We dispute the allegations of   wrongdoing   and intend to defend ourselves vigorously in this matter.The                                                    for a determination of damages. We dispute the allegations of   wrongdoing   and intend to defend ourselves vigorously in these matters.In                                             Office’s re-examination of the patent. We dispute the allegations of   wrongdoing   and intend to defend ourselves vigorously in this matter.In                                              has appealed those rulings. We dispute the remaining allegations of   wrongdoing   and intend to defend ourselves vigorously in these matters.In                                                attorneys’ fees, and an injunction. We dispute the allegations of   wrongdoing   and intend to defend ourselves vigorously in this matter.In                                                       ten of the asserted patents. We dispute the allegations of   wrongdoing   and intend to defend ourselves vigorously in this matter.In                                                   the United States Supreme Court. We dispute the allegations of   wrongdoing   and intend to defend ourselves vigorously in this matter.In                                                 of damages together with interest. We dispute the allegations of   wrongdoing   and intend to defend ourselves vigorously in this matter.In                                              damages, interest, and an injunction. We dispute the allegations of   wrongdoing   and intend to defend ourselves vigorously in this matter.In                                            damages, attorneys’ fees, and interest. We dispute the allegations of   wrongdoing   and intend to defend ourselves vigorously in this matter.57Table                                            attorneys’ fees, and injunctive relief. We dispute the allegations of   wrongdoing   and intend to defend ourselves vigorously in this matter.In                                          injunction, a compulsory ongoing royalty. We dispute the allegations of   wrongdoing   and intend to defend ourselves vigorously in this matter.In                                            injunctive relief, and attorneys’ fees. We dispute the allegations of   wrongdoing   and intend to defend ourselves vigorously in this matter.In                                                the Western District of Washington. We dispute the allegations of   wrongdoing   and intend to defend ourselves vigorously in this matter.In                                                    amount of damages and interest. We dispute the allegations of   wrongdoing   and intend to defend ourselves vigorously in this matter.Beginning                                                    in several other similar cases. We dispute the allegations of   wrongdoing   and intend to defend ourselves vigorously in these matters.In                                          damages, interest, and injunctive relief. We dispute the allegations of   wrongdoing   and intend to defend ourselves vigorously in this matter.58Table                                            costs, interest, and injunctive relief. We dispute the allegations of   wrongdoing   and intend to defend ourselves vigorously in this matter.In                                              attorneys’ fees, costs, and interest. We dispute the allegations of   wrongdoing   and intend to defend ourselves vigorously in this matter.In                                            damages, costs, expenses, and interest. We dispute the allegations of   wrongdoing   and intend to defend ourselves vigorously in this matter.In                                             enhanced damages, costs, and interest. We dispute the allegations of   wrongdoing   and intend to defend ourselves vigorously in this matter.In                                              trebled damages, costs, and interest. We dispute the allegations of   wrongdoing   and intend to defend ourselves vigorously in this matter.                                              costs, interest, and attorneys’ fees. We dispute the allegations of   wrongdoing   and intend to defend ourselves vigorously in this matter.                                              attorneys’ fees, costs, and interest. We dispute the allegations of   wrongdoing   and intend to defend ourselves vigorously in this matter.59Table                                                           in other states as well. We dispute the allegations of   wrongdoing   in these complaints and intend to vigorously defend ourselves                                                             of the patent in suit. We dispute the allegations of   wrongdoing   and intend to vigorously defend ourselves in this matter.                                          similar litigation against another party. We dispute the allegations of   wrongdoing   and intend to vigorously defend ourselves in this matter.                                                          filed a notice of appeal. We dispute the allegations of   wrongdoing   and intend to vigorously defend ourselves in this matter.                                                 relief, costs and attorneys\\x92 fees. We dispute the allegations of   wrongdoing   and intend to vigorously defend ourselves in this matter.                                               the Northern District of California. We dispute the allegations of   wrongdoing   and intend to vigorously defend ourselves in this matter.                                                            of the patents in suit. We dispute the allegations of   wrongdoing   and intend to vigorously defend ourselves in this matter.                                                   Appeals for the Federal Circuit. We dispute the allegations of   wrongdoing   and intend to vigorously defend ourselves in this matter.                                          Information\\x94 (U.S. Patent No. 7,429,965). We dispute the allegations of   wrongdoing   and intend to vigorously defend ourselves in this matter.                                               Patent Nos. 5,988,078 and 7,493,643. We dispute the allegations of   wrongdoing   and intend to vigorously defend ourselves in this matter.                                              interest, costs, and attorneys\\x92 fees. We dispute the allegations of   wrongdoing   and intend to vigorously defend ourselves in this matter.                                                relief, costs, and attorneys\\x92 fees. We dispute the allegations of   wrongdoing   and intend to vigorously defend ourselves in these matters.                                               the Northern District of California. We dispute the allegations of   wrongdoing   and intend to vigorously defend ourselves in this matter.                                                relief, costs, and attorneys\\x92 fees. We dispute the allegations of   wrongdoing   and intend to vigorously defend ourselves in this matter.                                                      \\x92676, \\x92103, and \\x92382 patents. We dispute the allegations of   wrongdoing   and intend to vigorously defend ourselves in this matter.                                                attorneys\\x92 fees, and an injunction. We dispute the allegations of   wrongdoing   and intend to vigorously defend ourselves in this matter.                                                       ten of the asserted patents. We dispute the allegations of   wrongdoing   and intend to vigorously defend ourselves in this matter.                                                 of damages together with interest. We dispute the allegations of   wrongdoing   and intend to vigorously defend ourselves in this matter.                                              damages, interest, and an injunction. We dispute the allegations of   wrongdoing   and intend to vigorously defend ourselves in this matter.                                            damages, attorneys\\x92 fees, and interest. We dispute the allegations of   wrongdoing   and intend to vigorously defend ourselves in this matter.                                               $17 million in prejudgment interest. We dispute the allegations of   wrongdoing   and intend to vigorously defend ourselves in this matter.                                            attorneys\\x92 fees, and injunctive relief. We dispute the allegations of   wrongdoing   and intend to vigorously defend ourselves in this matter.                                          damages, interest, and injunctive relief. We dispute the allegations of   wrongdoing   and intend to vigorously defend ourselves in this matter.                                          damages, interest, and injunctive relief. We dispute the allegations of   wrongdoing   and intend to vigorously defend ourselves in this matter.                                                           in other states as well. We dispute the allegations of   wrongdoing   in these complaints and intend to vigorously defend ourselves                                    following month containing similar allegations. We dispute the allegations of   wrongdoing   and intend to 58 Table of Contents vigorously defend                                                             of the patent in suit. We dispute the allegations of   wrongdoing   and intend to vigorously defend ourselves in this matter.                                          similar litigation against another party. We dispute the allegations of   wrongdoing   and intend to vigorously defend ourselves in this matter.                                                 that any infringement was willful. We dispute the allegations of   wrongdoing   and intend to vigorously defend ourselves in this matter.                                                 relief, costs and attorneys\\x92 fees. We dispute the allegations of   wrongdoing   and intend to vigorously defend ourselves in this matter.                                                royalty, costs and attorneys\\x92 fees. We dispute the allegations of   wrongdoing   and intend to vigorously defend ourselves in this matter.                                                 relief, costs and attorneys\\x92 fees. We dispute the allegations of   wrongdoing   and intend to vigorously defend ourselves in this matter.                                                 relief, costs and attorneys\\x92 fees. We dispute the allegations of   wrongdoing   and intend to vigorously defend ourselves in this matter.                                                  Audible and Zappos as defendants. We dispute the allegations of   wrongdoing   and intend to vigorously defend ourselves in this matter.                                                 relief, costs and attorneys\\x92 fees. We dispute the allegations of   wrongdoing   and intend to vigorously defend ourselves in this matter.                                          Information\\x94 (U.S. Patent No. 7,429,965). We dispute the allegations of   wrongdoing   and intend to vigorously defend ourselves in this matter.                                              interest, costs, and attorneys\\x92 fees. We dispute the allegations of   wrongdoing   and intend to vigorously defend ourselves in this matter.                                                relief, costs, and attorneys\\x92 fees. We dispute the allegations of   wrongdoing   and intend to vigorously defend ourselves in these matters.                                              interest, costs, and attorneys\\x92 fees. We dispute the allegations of   wrongdoing   and intend to vigorously defend ourselves in this matter.                                                relief, costs, and attorneys\\x92 fees. We dispute the allegations of   wrongdoing   and intend to vigorously defend ourselves in this matter.                                                relief, costs, and attorneys\\x92 fees. We dispute the allegations of   wrongdoing   and intend to vigorously defend ourselves in this matter.                                                relief, costs, and attorneys\\x92 fees. We dispute the allegations of   wrongdoing   and intend to vigorously defend ourselves in this matter.                                                relief, costs, and attorneys\\x92 fees. We dispute the allegations of   wrongdoing   and intend to vigorously defend ourselves in this matter.                                                relief, costs, and attorneys\\x92 fees. We dispute the allegations of   wrongdoing   and intend to vigorously defend ourselves in this matter.                                                relief, costs, and attorneys\\x92 fees. We dispute the allegations of   wrongdoing   and intend to vigorously defend ourselves in this matter.                                                 resolution of the review petition. We dispute the allegations of   wrongdoing   and intend to defend ourselves vigorously in this matter.In                                               the Northern District of California. We dispute the allegations of   wrongdoing   and intend to defend ourselves vigorously in this matter.In                                              interest, attorneys’ fees, and costs. We dispute the allegations of   wrongdoing   and intend to defend ourselves vigorously in this matter.In                                            costs, interest, and injunctive relief. We dispute the allegations of   wrongdoing   and intend to defend ourselves vigorously in this matter.Beginning                                           punitive damages, and injunctive relief. We dispute the allegations of   wrongdoing   and intend to defend ourselves vigorously in these matters.In                                            Saldana cases with prejudice. We dispute any remaining allegations of   wrongdoing   and intend to defend ourselves vigorously in these matters.In                                                 resolution of the review petition. We dispute the allegations of   wrongdoing   and intend to defend ourselves vigorously in this matter.In                                               the Northern District of California. We dispute the allegations of   wrongdoing   and intend to defend ourselves vigorously in this matter.In                                                      ‘324, ‘867, and ‘311 patents. We dispute the allegations of   wrongdoing   and intend to defend ourselves vigorously in this matter.In                                              interest, attorneys’ fees, and costs. We dispute the allegations of   wrongdoing   and intend to defend ourselves vigorously in this matter.In                                    9,537,762; 9,813,330; 9,826,002; and 9,948,549. We dispute the allegations of   wrongdoing   and intend to defend ourselves vigorously in this matter.In                                            costs, interest, and injunctive relief. We dispute the allegations of   wrongdoing   and intend to defend ourselves vigorously in this matter.In                                              attorneys’ fees, costs, and interest. We dispute the allegations of   wrongdoing   and intend to defend ourselves vigorously in this matter.In                                              attorneys’ fees, costs, and interest. We dispute the allegations of   wrongdoing   and intend to defend ourselves vigorously in this matter.In                                        permanent injunction, and enhanced damages. We dispute the allegations of   wrongdoing   and intend to defend ourselves vigorously in these matters.The                                                    for a determination of damages. We dispute the allegations of   wrongdoing   and intend to defend ourselves vigorously in these matters.Beginning                                            Saldana cases with prejudice. We dispute any remaining allegations of   wrongdoing   and intend to defend ourselves vigorously in these matters.In                                                 resolution of the review petition. We dispute the allegations of   wrongdoing   and intend to defend ourselves vigorously in this matter.In                                               the Northern District of California. We dispute the allegations of   wrongdoing   and intend to defend ourselves vigorously in this matter.In                                                      ‘324, ‘867, and ‘311 patents. We dispute the allegations of   wrongdoing   and intend to defend ourselves vigorously in this matter.In                                              interest, attorneys’ fees, and costs. We dispute the allegations of   wrongdoing   and intend to defend ourselves vigorously in this matter.In                                               the Northern District of California. We dispute the allegations of   wrongdoing   and intend to defend ourselves vigorously in this matter.59Table                                            damages, attorneys’ fees, and interest. We dispute the allegations of   wrongdoing   and intend to defend ourselves vigorously in this matter.In                                            costs, interest, and injunctive relief. We dispute the allegations of   wrongdoing   and intend to defend ourselves vigorously in this matter.The                                                    for a determination of damages. We dispute the allegations of   wrongdoing   and intend to defend ourselves vigorously in these matters.Beginning                                            Saldana cases with prejudice. We dispute any remaining allegations of   wrongdoing   and intend to defend ourselves vigorously in these matters.In                                                States Patent and Trademark Office. We dispute the allegations of   wrongdoing   and intend to defend ourselves vigorously in these matters.In                                          Nos. 7,334,720; 8,118,221; and 8,336,772. We dispute the allegations of   wrongdoing   and intend to defend ourselves vigorously in this matter.In                                                States Patent and Trademark Office. We dispute the allegations of   wrongdoing   and intend to defend ourselves vigorously in this matter.Beginning                                               damages, costs, and attorneys’ fees. We dispute the allegations of   wrongdoing   and intend to defend ourselves vigorously in these matters.In                                               the Northern District of California. We dispute the allegations of   wrongdoing   and intend to defend ourselves vigorously in this matter.61Table                                                 and a compulsory on-going royalty. We dispute the allegations of   wrongdoing   and intend to defend ourselves vigorously in this matter.The                                                    for a determination of damages. We dispute the allegations of   wrongdoing   and intend to defend ourselves vigorously in these matters.In                                             Office’s re-examination of the patent. We dispute the allegations of   wrongdoing   and intend to defend ourselves vigorously in this matter.In                                                   Appeals for the Federal Circuit. We dispute the allegations of   wrongdoing   and intend to defend ourselves vigorously in this matter.Beginning                                                 for the Federal Circuit. We dispute any remaining allegations of   wrongdoing   and intend to defend ourselves vigorously in these matters.In                                                    petition for rehearing en banc. We dispute the allegations of   wrongdoing   and intend to defend ourselves vigorously in this matter.                                                   Appeals for the Federal Circuit. We dispute the allegations of   wrongdoing   and intend to defend ourselves vigorously in these matters.                                                     for judgment on the pleadings. We dispute the allegations of   wrongdoing   and intend to defend ourselves vigorously in these matters.In                                              attorneys’ fees, costs, and interest. We dispute the allegations of   wrongdoing   and intend to defend ourselves vigorously in this matter.In                                                States Patent and Trademark Office. We dispute the allegations of   wrongdoing   and intend to defend ourselves vigorously in this matter.In                                                  an unspecified amount of damages. We dispute the allegations of   wrongdoing   and intend to defend ourselves vigorously in this matter.In                                               damages, attorneys’ fees, and costs. We dispute the allegations of   wrongdoing   and intend to defend ourselves vigorously in this matter.The                                                    for a determination of damages. We dispute the allegations of   wrongdoing   and intend to defend ourselves vigorously in these matters.In                                             Office’s re-examination of the patent. We dispute the allegations of   wrongdoing   and intend to defend ourselves vigorously in this matter.In                                              damages, interest, and an injunction. We dispute the allegations of   wrongdoing   and intend to defend ourselves vigorously in this matter.In                                            damages, attorneys’ fees, and interest. We dispute the allegations of   wrongdoing   and intend to defend ourselves vigorously in this matter.In                                                    judgment of the district court. We dispute the allegations of   wrongdoing   and intend to defend ourselves vigorously in this matter.Beginning                                         those actions without prejudice. We dispute any remaining allegations of   wrongdoing   and intend to defend ourselves vigorously in these matters.In                                                   Appeals for the Federal Circuit. We dispute the allegations of   wrongdoing   and intend to defend ourselves vigorously in this matter.In                                                States Patent and Trademark Office. We dispute the allegations of   wrongdoing   and intend to defend ourselves vigorously in this matter.In                                               treble damages, costs, and interest. We dispute the allegations of   wrongdoing   and intend to defend ourselves vigorously in these matters.                                                     for judgment on the pleadings. We dispute the allegations of   wrongdoing   and intend to defend ourselves vigorously in these matters.In                                              attorneys’ fees, costs, and interest. We dispute the allegations of   wrongdoing   and intend to defend ourselves vigorously in this matter.60Table                                                the Western District of Washington. We dispute the allegations of   wrongdoing   and intend to defend ourselves vigorously in this matter.In                                                    with costs and attorneys’ fees. We dispute the allegations of   wrongdoing   and intend to defend ourselves vigorously in this matter.The                                                    for a determination of damages. We dispute the allegations of   wrongdoing   and intend to defend ourselves vigorously in these matters.In                                             Office’s re-examination of the patent. We dispute the allegations of   wrongdoing   and intend to defend ourselves vigorously in this matter.In                                     7,831,470, 7,827,056, and 8,112,359. We dispute the remaining allegations of   wrongdoing   and intend to defend ourselves vigorously in these matters.In                                                        of appeals lifted the stay. We dispute the allegations of   wrongdoing   and intend to defend ourselves vigorously in this matter.In                                              damages, interest, and an injunction. We dispute the allegations of   wrongdoing   and intend to defend ourselves vigorously in this matter.In                                            damages, attorneys’ fees, and interest. We dispute the allegations of   wrongdoing   and intend to defend ourselves vigorously in this matter.In                                            attorneys’ fees, and injunctive relief. We dispute the allegations of   wrongdoing   and intend to defend ourselves vigorously in this matter.In                                                   Appeals for the Federal Circuit. We dispute the allegations of   wrongdoing   and intend to defend ourselves vigorously in this matter.In                                               the Northern District of California. We dispute the allegations of   wrongdoing   and intend to defend ourselves vigorously in this matter.In                                                the Western District of Washington. We dispute the allegations of   wrongdoing   and intend to defend ourselves vigorously in this matter.In                                                      of U.S. Patent No. 7,215,962. We dispute the allegations of   wrongdoing   and intend to defend ourselves vigorously in this matter.Beginning                                                   wage and hour statute. We dispute any remaining allegations of   wrongdoing   and intend to defend ourselves vigorously in these matters.In                                          damages, interest, and injunctive relief. We dispute the allegations of   wrongdoing   and intend to defend ourselves vigorously in this matter.In                                            costs, interest, and injunctive relief. We dispute the allegations of   wrongdoing   and intend to defend ourselves vigorously in this matter.In                                              attorneys’ fees, costs, and interest. We dispute the allegations of   wrongdoing   and intend to defend ourselves vigorously in this matter.In                                                States Patent and Trademark Office. We dispute the allegations of   wrongdoing   and intend to defend ourselves vigorously in this matter.In                                             enhanced damages, costs, and interest. We dispute the allegations of   wrongdoing   and intend to defend ourselves vigorously in this matter.In                                               treble damages, costs, and interest. We dispute the allegations of   wrongdoing   and intend to defend ourselves vigorously in this matter.                                              attorneys’ fees, costs, and interest. We dispute the allegations of   wrongdoing   and intend to defend ourselves vigorously in this matter.In                                             monetary damages, costs, and interest. We dispute the allegations of   wrongdoing   and intend to defend ourselves vigorously in this matter.In                                         the International Trade Commission action. We dispute the allegations of   wrongdoing   and intend to defend ourselves vigorously in these matters.In                                           enhanced damages, and injunctive relief. We dispute the allegations of   wrongdoing   and intend to defend ourselves vigorously in this matter.In                                              attorneys’ fees, costs, and interest. We dispute the allegations of   wrongdoing   and intend to defend ourselves vigorously in this matter.The                                                    for a determination of damages. We dispute the allegations of   wrongdoing   and intend to defend ourselves vigorously in these matters.In                                             Office’s re-examination of the patent. We dispute the allegations of   wrongdoing   and intend to defend ourselves vigorously in this matter.In                                              has appealed those rulings. We dispute the remaining allegations of   wrongdoing   and intend to defend ourselves vigorously in these matters.In                                                attorneys’ fees, and an injunction. We dispute the allegations of   wrongdoing   and intend to defend ourselves vigorously in this matter.In                                                       ten of the asserted patents. We dispute the allegations of   wrongdoing   and intend to defend ourselves vigorously in this matter.In                                                   the United States Supreme Court. We dispute the allegations of   wrongdoing   and intend to defend ourselves vigorously in this matter.In                                                 of damages together with interest. We dispute the allegations of   wrongdoing   and intend to defend ourselves vigorously in this matter.In                                              damages, interest, and an injunction. We dispute the allegations of   wrongdoing   and intend to defend ourselves vigorously in this matter.In                                            damages, attorneys’ fees, and interest. We dispute the allegations of   wrongdoing   and intend to defend ourselves vigorously in this matter.57Table                                            attorneys’ fees, and injunctive relief. We dispute the allegations of   wrongdoing   and intend to defend ourselves vigorously in this matter.In                                          injunction, a compulsory ongoing royalty. We dispute the allegations of   wrongdoing   and intend to defend ourselves vigorously in this matter.In                                            injunctive relief, and attorneys’ fees. We dispute the allegations of   wrongdoing   and intend to defend ourselves vigorously in this matter.In                                                the Western District of Washington. We dispute the allegations of   wrongdoing   and intend to defend ourselves vigorously in this matter.In                                                    amount of damages and interest. We dispute the allegations of   wrongdoing   and intend to defend ourselves vigorously in this matter.Beginning                                                    in several other similar cases. We dispute the allegations of   wrongdoing   and intend to defend ourselves vigorously in these matters.In                                          damages, interest, and injunctive relief. We dispute the allegations of   wrongdoing   and intend to defend ourselves vigorously in this matter.58Table                                            costs, interest, and injunctive relief. We dispute the allegations of   wrongdoing   and intend to defend ourselves vigorously in this matter.In                                              attorneys’ fees, costs, and interest. We dispute the allegations of   wrongdoing   and intend to defend ourselves vigorously in this matter.In                                            damages, costs, expenses, and interest. We dispute the allegations of   wrongdoing   and intend to defend ourselves vigorously in this matter.In                                             enhanced damages, costs, and interest. We dispute the allegations of   wrongdoing   and intend to defend ourselves vigorously in this matter.In                                              trebled damages, costs, and interest. We dispute the allegations of   wrongdoing   and intend to defend ourselves vigorously in this matter.                                              costs, interest, and attorneys’ fees. We dispute the allegations of   wrongdoing   and intend to defend ourselves vigorously in this matter.                                              attorneys’ fees, costs, and interest. We dispute the allegations of   wrongdoing   and intend to defend ourselves vigorously in this matter.59Table                                                           in other states as well. We dispute the allegations of   wrongdoing   in these complaints and intend to vigorously defend ourselves                                                             of the patent in suit. We dispute the allegations of   wrongdoing   and intend to vigorously defend ourselves in this matter.                                          similar litigation against another party. We dispute the allegations of   wrongdoing   and intend to vigorously defend ourselves in this matter.                                                          filed a notice of appeal. We dispute the allegations of   wrongdoing   and intend to vigorously defend ourselves in this matter.                                                 relief, costs and attorneys\\x92 fees. We dispute the allegations of   wrongdoing   and intend to vigorously defend ourselves in this matter.                                               the Northern District of California. We dispute the allegations of   wrongdoing   and intend to vigorously defend ourselves in this matter.                                                            of the patents in suit. We dispute the allegations of   wrongdoing   and intend to vigorously defend ourselves in this matter.                                                   Appeals for the Federal Circuit. We dispute the allegations of   wrongdoing   and intend to vigorously defend ourselves in this matter.                                          Information\\x94 (U.S. Patent No. 7,429,965). We dispute the allegations of   wrongdoing   and intend to vigorously defend ourselves in this matter.                                               Patent Nos. 5,988,078 and 7,493,643. We dispute the allegations of   wrongdoing   and intend to vigorously defend ourselves in this matter.                                              interest, costs, and attorneys\\x92 fees. We dispute the allegations of   wrongdoing   and intend to vigorously defend ourselves in this matter.                                                relief, costs, and attorneys\\x92 fees. We dispute the allegations of   wrongdoing   and intend to vigorously defend ourselves in these matters.                                               the Northern District of California. We dispute the allegations of   wrongdoing   and intend to vigorously defend ourselves in this matter.                                                relief, costs, and attorneys\\x92 fees. We dispute the allegations of   wrongdoing   and intend to vigorously defend ourselves in this matter.                                                      \\x92676, \\x92103, and \\x92382 patents. We dispute the allegations of   wrongdoing   and intend to vigorously defend ourselves in this matter.                                                attorneys\\x92 fees, and an injunction. We dispute the allegations of   wrongdoing   and intend to vigorously defend ourselves in this matter.                                                       ten of the asserted patents. We dispute the allegations of   wrongdoing   and intend to vigorously defend ourselves in this matter.                                                 of damages together with interest. We dispute the allegations of   wrongdoing   and intend to vigorously defend ourselves in this matter.                                              damages, interest, and an injunction. We dispute the allegations of   wrongdoing   and intend to vigorously defend ourselves in this matter.                                            damages, attorneys\\x92 fees, and interest. We dispute the allegations of   wrongdoing   and intend to vigorously defend ourselves in this matter.                                               $17 million in prejudgment interest. We dispute the allegations of   wrongdoing   and intend to vigorously defend ourselves in this matter.                                            attorneys\\x92 fees, and injunctive relief. We dispute the allegations of   wrongdoing   and intend to vigorously defend ourselves in this matter.                                          damages, interest, and injunctive relief. We dispute the allegations of   wrongdoing   and intend to vigorously defend ourselves in this matter.                                          damages, interest, and injunctive relief. We dispute the allegations of   wrongdoing   and intend to vigorously defend ourselves in this matter.                                                           in other states as well. We dispute the allegations of   wrongdoing   in these complaints and intend to vigorously defend ourselves                                    following month containing similar allegations. We dispute the allegations of   wrongdoing   and intend to 58 Table of Contents vigorously defend                                                             of the patent in suit. We dispute the allegations of   wrongdoing   and intend to vigorously defend ourselves in this matter.                                          similar litigation against another party. We dispute the allegations of   wrongdoing   and intend to vigorously defend ourselves in this matter.                                                 that any infringement was willful. We dispute the allegations of   wrongdoing   and intend to vigorously defend ourselves in this matter.                                                 relief, costs and attorneys\\x92 fees. We dispute the allegations of   wrongdoing   and intend to vigorously defend ourselves in this matter.                                                royalty, costs and attorneys\\x92 fees. We dispute the allegations of   wrongdoing   and intend to vigorously defend ourselves in this matter.                                                 relief, costs and attorneys\\x92 fees. We dispute the allegations of   wrongdoing   and intend to vigorously defend ourselves in this matter.                                                 relief, costs and attorneys\\x92 fees. We dispute the allegations of   wrongdoing   and intend to vigorously defend ourselves in this matter.                                                  Audible and Zappos as defendants. We dispute the allegations of   wrongdoing   and intend to vigorously defend ourselves in this matter.                                                 relief, costs and attorneys\\x92 fees. We dispute the allegations of   wrongdoing   and intend to vigorously defend ourselves in this matter.                                          Information\\x94 (U.S. Patent No. 7,429,965). We dispute the allegations of   wrongdoing   and intend to vigorously defend ourselves in this matter.                                              interest, costs, and attorneys\\x92 fees. We dispute the allegations of   wrongdoing   and intend to vigorously defend ourselves in this matter.                                                relief, costs, and attorneys\\x92 fees. We dispute the allegations of   wrongdoing   and intend to vigorously defend ourselves in these matters.                                              interest, costs, and attorneys\\x92 fees. We dispute the allegations of   wrongdoing   and intend to vigorously defend ourselves in this matter.                                                relief, costs, and attorneys\\x92 fees. We dispute the allegations of   wrongdoing   and intend to vigorously defend ourselves in this matter.                                                relief, costs, and attorneys\\x92 fees. We dispute the allegations of   wrongdoing   and intend to vigorously defend ourselves in this matter.                                                relief, costs, and attorneys\\x92 fees. We dispute the allegations of   wrongdoing   and intend to vigorously defend ourselves in this matter.                                                relief, costs, and attorneys\\x92 fees. We dispute the allegations of   wrongdoing   and intend to vigorously defend ourselves in this matter.                                                relief, costs, and attorneys\\x92 fees. We dispute the allegations of   wrongdoing   and intend to vigorously defend ourselves in this matter.                                                relief, costs, and attorneys\\x92 fees. We dispute the allegations of   wrongdoing   and intend to vigorously defend ourselves in this matter.             </pre>'"
      ]
     },
     "execution_count": 244,
     "metadata": {},
     "output_type": "execute_result"
    }
   ],
   "source": [
    "# output KWIC for target word\n",
    "target = 'wrongdoing'\n",
    "outstr = '<pre>'\n",
    "if target in worddict:\n",
    "    for k in worddict[target]:\n",
    "        outstr += prettyPrintKWIC(k)\n",
    "        outstr += '             '\n",
    "else:\n",
    "    outstr += 'Keyword not found in source'\n",
    "\n",
    "outstr += '</pre>'\n",
    "outstr"
   ]
  },
  {
   "cell_type": "markdown",
   "metadata": {},
   "source": [
    "### Interpreting the analysis"
   ]
  },
  {
   "cell_type": "markdown",
   "metadata": {},
   "source": [
    "It looks like Apple has a lot of boilerplate prose generated by its lawyers, who are worried about charges of wrongdoing. \n",
    "\n",
    "At least in these short snippets above, we don't have the material to understand why, or what it means.  Has Apple been sued more regularly in general than the other companies?  \n",
    "\n",
    "If I were writing a paragraph about Apple, I could look for other words that invoke antitrust legislation or lawsuits.  I can adjust how much of the surrounding passages I see by changing the variable 'n' above to a larger or smaller number.  If I were writing a paragraph about this data, I'd probably want to read at least 50 word chunks, making a list of all the places where Microsoft was being sued, then generalizing about them.  \n",
    "\n",
    "I could also go looking for outside context.  \n",
    "\n",
    "If I were researching Apple's's distinctiveness for a final paper, I could use Lexis-Nexus or a caselaw database from the library to find out more about the history of antitrust legistion, looking at specific names that appear in the KWIC.  What is going on with Audible and Zappos?  What is U.S. Patent No. 7,215,962?  \n",
    "\n",
    "Even a quick query in Wikipedia or Google around a handful of these names would give us plenty to write about: \n",
    "* https://en.wikipedia.org/wiki/In_re_Zappos.com,_Inc.,_Customer_Data_Security_Breach_Litigation\n",
    "* https://news.bloombergtax.com/daily-tax-report/apple-amazon-beat-more-voip-patent-infringement-claims?context=article-related\n",
    "* https://www.patentlyapple.com/patently-apple/2016/09/apple-lost-a-patent-case-based-on-a-nokia-patent-will-the-eu-now-open-an-antitrust-case-against-nokia-as-promised.html\n",
    "\n",
    "As you write your paragraph, consider plotting out some strategies for involving library research in your final project.\n",
    "\n",
    "Again, being able to use KWIC to get a full view of the issue is important to translating mere data into *analysis* and to effectively *interpret* the data so as to make the analysis sharper.  "
   ]
  },
  {
   "cell_type": "markdown",
   "metadata": {},
   "source": [
    "# Assignment"
   ]
  },
  {
   "cell_type": "markdown",
   "metadata": {},
   "source": [
    "Each group should do the following:\n",
    "\n",
    "#### Coding Exercise\n",
    "* Choose one company to concentrate on.  On the basis of the data, decide why a comparison between this company and another company would be most instructive, and change the parameters of Figure 2 and the 'coords' dataframe to give you a comparison between these two companies. \n",
    "    * Recreate Figure 2 with the new comparison between two companies. \n",
    "    * Write an interpretive paragraph explaining what we can learn from this visualization. Interpret Figure 2, explaining why you compared the companies you did, and explaining the meaning of the data.  \n",
    "* In the code above, we created a dataset grouped by \"period\" rather than by \"company.\" Use the period-grouped dataset to ascertain which words are most distinctive of every time period in the reporting. \n",
    "    * Label this figure, Figure 3.\n",
    "\n",
    "\n",
    "Find at least three words in your data worth looking up in the actual text.  These should be words that are, prima facie, surprising to you, like 'wrongdoing' or 'deteriorate' in the charts of Amazon.  You can \"print\" df to the screen and then use the Command+F/CONTRL+F function to keyword search everything on the page -- or you can look around the web for some other efficient ways of \"printing\" out the text from a dataframe and keyword searching it -- or you could use the KWIC tool above to inspect the data more thoroughly.  Look up some sentences of context, and use the actual discussions to tell us why your company is concerned with those words in particular.  \n",
    "- Paste the three figures and text into a document of their own.  Do not submit a Python Notebook.  \n"
   ]
  },
  {
   "cell_type": "code",
   "execution_count": null,
   "metadata": {},
   "outputs": [],
   "source": []
  },
  {
   "cell_type": "markdown",
   "metadata": {},
   "source": [
    "#### Brainstorming Exercise"
   ]
  },
  {
   "cell_type": "markdown",
   "metadata": {},
   "source": [
    "* To apply distinctiveness measures to your own work, you will have to first group the data into several categories, using the instructions in the “pandas” notebook and previous notebooks using the “group_by” command.  For instance, if you’re measuring novels, you could inspect the difference between the five most productive novelists as measured by the number of novels each wrote.  Or if you were measuring parliament, you could ask about the difference between Conservative party speakers and Liberal party speakers.  What would you “group_by” to better understand your data? \n",
    "    * Propose three existing fields that you could group_by to measure distinctiveness. \n",
    "    * Write a sentence for each telling us about why this research would potentially be meaningful. \n",
    "    * Note that having too many entities measured against each other will produce nonsense.  Measuring five novelists against each other will produce good results; measuring five hundred novelists against each other will only tell you about really, really idiomatic expressions found in each.  Revisit your answers above to indicate how you will narrow the field so that you’re only measuring 5-10 entities in each case.\n",
    "* Sometimes you need to create a new field to get the desired results. For instance, we created the “decade” and “year” fields by using the datetime package, having only previously had precise temporal measurements.  You can also create special fields that indicates whether a speech is marked the presence of a particular world, using str_detect.  If you combine that work with POS analysis, you could measure the difference between sentences that reference women as a subject and those that reference women as an object. \n",
    "    * Propose five new fields that you could create to understand your data better.\n",
    "    * Write a sentence for each telling us what insight this would potentially give you about your data."
   ]
  },
  {
   "cell_type": "code",
   "execution_count": null,
   "metadata": {},
   "outputs": [],
   "source": []
  },
  {
   "cell_type": "code",
   "execution_count": null,
   "metadata": {},
   "outputs": [],
   "source": []
  },
  {
   "cell_type": "code",
   "execution_count": null,
   "metadata": {},
   "outputs": [],
   "source": []
  }
 ],
 "metadata": {
  "kernelspec": {
   "display_name": "Python 3",
   "language": "python",
   "name": "python3"
  },
  "language_info": {
   "codemirror_mode": {
    "name": "ipython",
    "version": 3
   },
   "file_extension": ".py",
   "mimetype": "text/x-python",
   "name": "python",
   "nbconvert_exporter": "python",
   "pygments_lexer": "ipython3",
   "version": "3.6.7"
  }
 },
 "nbformat": 4,
 "nbformat_minor": 4
}